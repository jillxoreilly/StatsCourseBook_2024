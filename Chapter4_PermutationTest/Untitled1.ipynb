{
 "cells": [
  {
   "cell_type": "code",
   "execution_count": 1,
   "id": "4361d677-f3b2-4bb9-98a3-cf3fcc28fc43",
   "metadata": {
    "tags": []
   },
   "outputs": [],
   "source": [
    "# Set-up Python libraries - you need to run this but you don't need to change it\n",
    "import numpy as np\n",
    "import matplotlib.pyplot as plt\n",
    "import scipy.stats as stats\n",
    "import pandas as pd\n",
    "import seaborn as sns\n",
    "sns.set_theme(style='white')\n",
    "import statsmodels.api as sm\n",
    "import statsmodels.formula.api as smf"
   ]
  },
  {
   "cell_type": "code",
   "execution_count": 2,
   "id": "ee3bf352-e29e-42d5-a24f-cea8ffa05d58",
   "metadata": {
    "tags": []
   },
   "outputs": [
    {
     "data": {
      "text/html": [
       "<div>\n",
       "<style scoped>\n",
       "    .dataframe tbody tr th:only-of-type {\n",
       "        vertical-align: middle;\n",
       "    }\n",
       "\n",
       "    .dataframe tbody tr th {\n",
       "        vertical-align: top;\n",
       "    }\n",
       "\n",
       "    .dataframe thead th {\n",
       "        text-align: right;\n",
       "    }\n",
       "</style>\n",
       "<table border=\"1\" class=\"dataframe\">\n",
       "  <thead>\n",
       "    <tr style=\"text-align: right;\">\n",
       "      <th></th>\n",
       "      <th>brother</th>\n",
       "      <th>sister</th>\n",
       "    </tr>\n",
       "  </thead>\n",
       "  <tbody>\n",
       "    <tr>\n",
       "      <th>0</th>\n",
       "      <td>174</td>\n",
       "      <td>172</td>\n",
       "    </tr>\n",
       "    <tr>\n",
       "      <th>1</th>\n",
       "      <td>183</td>\n",
       "      <td>180</td>\n",
       "    </tr>\n",
       "    <tr>\n",
       "      <th>2</th>\n",
       "      <td>154</td>\n",
       "      <td>148</td>\n",
       "    </tr>\n",
       "    <tr>\n",
       "      <th>3</th>\n",
       "      <td>172</td>\n",
       "      <td>180</td>\n",
       "    </tr>\n",
       "    <tr>\n",
       "      <th>4</th>\n",
       "      <td>172</td>\n",
       "      <td>165</td>\n",
       "    </tr>\n",
       "    <tr>\n",
       "      <th>5</th>\n",
       "      <td>161</td>\n",
       "      <td>159</td>\n",
       "    </tr>\n",
       "    <tr>\n",
       "      <th>6</th>\n",
       "      <td>167</td>\n",
       "      <td>159</td>\n",
       "    </tr>\n",
       "    <tr>\n",
       "      <th>7</th>\n",
       "      <td>172</td>\n",
       "      <td>164</td>\n",
       "    </tr>\n",
       "    <tr>\n",
       "      <th>8</th>\n",
       "      <td>195</td>\n",
       "      <td>188</td>\n",
       "    </tr>\n",
       "    <tr>\n",
       "      <th>9</th>\n",
       "      <td>189</td>\n",
       "      <td>175</td>\n",
       "    </tr>\n",
       "    <tr>\n",
       "      <th>10</th>\n",
       "      <td>161</td>\n",
       "      <td>160</td>\n",
       "    </tr>\n",
       "    <tr>\n",
       "      <th>11</th>\n",
       "      <td>181</td>\n",
       "      <td>177</td>\n",
       "    </tr>\n",
       "    <tr>\n",
       "      <th>12</th>\n",
       "      <td>175</td>\n",
       "      <td>168</td>\n",
       "    </tr>\n",
       "    <tr>\n",
       "      <th>13</th>\n",
       "      <td>170</td>\n",
       "      <td>169</td>\n",
       "    </tr>\n",
       "    <tr>\n",
       "      <th>14</th>\n",
       "      <td>175</td>\n",
       "      <td>165</td>\n",
       "    </tr>\n",
       "    <tr>\n",
       "      <th>15</th>\n",
       "      <td>169</td>\n",
       "      <td>164</td>\n",
       "    </tr>\n",
       "    <tr>\n",
       "      <th>16</th>\n",
       "      <td>169</td>\n",
       "      <td>163</td>\n",
       "    </tr>\n",
       "    <tr>\n",
       "      <th>17</th>\n",
       "      <td>180</td>\n",
       "      <td>176</td>\n",
       "    </tr>\n",
       "    <tr>\n",
       "      <th>18</th>\n",
       "      <td>180</td>\n",
       "      <td>176</td>\n",
       "    </tr>\n",
       "    <tr>\n",
       "      <th>19</th>\n",
       "      <td>180</td>\n",
       "      <td>172</td>\n",
       "    </tr>\n",
       "    <tr>\n",
       "      <th>20</th>\n",
       "      <td>175</td>\n",
       "      <td>170</td>\n",
       "    </tr>\n",
       "    <tr>\n",
       "      <th>21</th>\n",
       "      <td>162</td>\n",
       "      <td>157</td>\n",
       "    </tr>\n",
       "    <tr>\n",
       "      <th>22</th>\n",
       "      <td>175</td>\n",
       "      <td>172</td>\n",
       "    </tr>\n",
       "    <tr>\n",
       "      <th>23</th>\n",
       "      <td>181</td>\n",
       "      <td>179</td>\n",
       "    </tr>\n",
       "    <tr>\n",
       "      <th>24</th>\n",
       "      <td>173</td>\n",
       "      <td>171</td>\n",
       "    </tr>\n",
       "  </tbody>\n",
       "</table>\n",
       "</div>"
      ],
      "text/plain": [
       "    brother  sister\n",
       "0       174     172\n",
       "1       183     180\n",
       "2       154     148\n",
       "3       172     180\n",
       "4       172     165\n",
       "5       161     159\n",
       "6       167     159\n",
       "7       172     164\n",
       "8       195     188\n",
       "9       189     175\n",
       "10      161     160\n",
       "11      181     177\n",
       "12      175     168\n",
       "13      170     169\n",
       "14      175     165\n",
       "15      169     164\n",
       "16      169     163\n",
       "17      180     176\n",
       "18      180     176\n",
       "19      180     172\n",
       "20      175     170\n",
       "21      162     157\n",
       "22      175     172\n",
       "23      181     179\n",
       "24      173     171"
      ]
     },
     "execution_count": 2,
     "metadata": {},
     "output_type": "execute_result"
    }
   ],
   "source": [
    "h=pd.read_csv('../data/BrotherSisterData.csv')\n",
    "h"
   ]
  },
  {
   "cell_type": "code",
   "execution_count": 128,
   "id": "6beaccb7-65b7-4f94-8a24-78342ee853c6",
   "metadata": {
    "tags": []
   },
   "outputs": [
    {
     "data": {
      "text/html": [
       "<div>\n",
       "<style scoped>\n",
       "    .dataframe tbody tr th:only-of-type {\n",
       "        vertical-align: middle;\n",
       "    }\n",
       "\n",
       "    .dataframe tbody tr th {\n",
       "        vertical-align: top;\n",
       "    }\n",
       "\n",
       "    .dataframe thead th {\n",
       "        text-align: right;\n",
       "    }\n",
       "</style>\n",
       "<table border=\"1\" class=\"dataframe\">\n",
       "  <thead>\n",
       "    <tr style=\"text-align: right;\">\n",
       "      <th></th>\n",
       "      <th>sex</th>\n",
       "      <th>height</th>\n",
       "      <th>sorted</th>\n",
       "      <th>heightr</th>\n",
       "      <th>sortedr</th>\n",
       "    </tr>\n",
       "  </thead>\n",
       "  <tbody>\n",
       "    <tr>\n",
       "      <th>0</th>\n",
       "      <td>Male</td>\n",
       "      <td>174</td>\n",
       "      <td>148</td>\n",
       "      <td>17.4</td>\n",
       "      <td>14.8</td>\n",
       "    </tr>\n",
       "    <tr>\n",
       "      <th>1</th>\n",
       "      <td>Male</td>\n",
       "      <td>183</td>\n",
       "      <td>154</td>\n",
       "      <td>18.3</td>\n",
       "      <td>15.4</td>\n",
       "    </tr>\n",
       "    <tr>\n",
       "      <th>2</th>\n",
       "      <td>Male</td>\n",
       "      <td>154</td>\n",
       "      <td>157</td>\n",
       "      <td>15.4</td>\n",
       "      <td>15.7</td>\n",
       "    </tr>\n",
       "    <tr>\n",
       "      <th>3</th>\n",
       "      <td>Male</td>\n",
       "      <td>172</td>\n",
       "      <td>159</td>\n",
       "      <td>17.2</td>\n",
       "      <td>15.9</td>\n",
       "    </tr>\n",
       "    <tr>\n",
       "      <th>4</th>\n",
       "      <td>Male</td>\n",
       "      <td>172</td>\n",
       "      <td>159</td>\n",
       "      <td>17.2</td>\n",
       "      <td>15.9</td>\n",
       "    </tr>\n",
       "    <tr>\n",
       "      <th>5</th>\n",
       "      <td>Male</td>\n",
       "      <td>161</td>\n",
       "      <td>160</td>\n",
       "      <td>16.1</td>\n",
       "      <td>16.0</td>\n",
       "    </tr>\n",
       "    <tr>\n",
       "      <th>6</th>\n",
       "      <td>Male</td>\n",
       "      <td>167</td>\n",
       "      <td>161</td>\n",
       "      <td>16.7</td>\n",
       "      <td>16.1</td>\n",
       "    </tr>\n",
       "    <tr>\n",
       "      <th>7</th>\n",
       "      <td>Male</td>\n",
       "      <td>172</td>\n",
       "      <td>161</td>\n",
       "      <td>17.2</td>\n",
       "      <td>16.1</td>\n",
       "    </tr>\n",
       "    <tr>\n",
       "      <th>8</th>\n",
       "      <td>Male</td>\n",
       "      <td>195</td>\n",
       "      <td>162</td>\n",
       "      <td>19.5</td>\n",
       "      <td>16.2</td>\n",
       "    </tr>\n",
       "    <tr>\n",
       "      <th>9</th>\n",
       "      <td>Male</td>\n",
       "      <td>189</td>\n",
       "      <td>163</td>\n",
       "      <td>18.9</td>\n",
       "      <td>16.3</td>\n",
       "    </tr>\n",
       "    <tr>\n",
       "      <th>10</th>\n",
       "      <td>Male</td>\n",
       "      <td>161</td>\n",
       "      <td>164</td>\n",
       "      <td>16.1</td>\n",
       "      <td>16.4</td>\n",
       "    </tr>\n",
       "    <tr>\n",
       "      <th>11</th>\n",
       "      <td>Male</td>\n",
       "      <td>181</td>\n",
       "      <td>164</td>\n",
       "      <td>18.1</td>\n",
       "      <td>16.4</td>\n",
       "    </tr>\n",
       "    <tr>\n",
       "      <th>12</th>\n",
       "      <td>Male</td>\n",
       "      <td>175</td>\n",
       "      <td>165</td>\n",
       "      <td>17.5</td>\n",
       "      <td>16.5</td>\n",
       "    </tr>\n",
       "    <tr>\n",
       "      <th>13</th>\n",
       "      <td>Male</td>\n",
       "      <td>170</td>\n",
       "      <td>165</td>\n",
       "      <td>17.0</td>\n",
       "      <td>16.5</td>\n",
       "    </tr>\n",
       "    <tr>\n",
       "      <th>14</th>\n",
       "      <td>Male</td>\n",
       "      <td>175</td>\n",
       "      <td>167</td>\n",
       "      <td>17.5</td>\n",
       "      <td>16.7</td>\n",
       "    </tr>\n",
       "    <tr>\n",
       "      <th>15</th>\n",
       "      <td>Male</td>\n",
       "      <td>169</td>\n",
       "      <td>168</td>\n",
       "      <td>16.9</td>\n",
       "      <td>16.8</td>\n",
       "    </tr>\n",
       "    <tr>\n",
       "      <th>16</th>\n",
       "      <td>Male</td>\n",
       "      <td>169</td>\n",
       "      <td>169</td>\n",
       "      <td>16.9</td>\n",
       "      <td>16.9</td>\n",
       "    </tr>\n",
       "    <tr>\n",
       "      <th>17</th>\n",
       "      <td>Male</td>\n",
       "      <td>180</td>\n",
       "      <td>169</td>\n",
       "      <td>18.0</td>\n",
       "      <td>16.9</td>\n",
       "    </tr>\n",
       "    <tr>\n",
       "      <th>18</th>\n",
       "      <td>Male</td>\n",
       "      <td>180</td>\n",
       "      <td>169</td>\n",
       "      <td>18.0</td>\n",
       "      <td>16.9</td>\n",
       "    </tr>\n",
       "    <tr>\n",
       "      <th>19</th>\n",
       "      <td>Male</td>\n",
       "      <td>180</td>\n",
       "      <td>170</td>\n",
       "      <td>18.0</td>\n",
       "      <td>17.0</td>\n",
       "    </tr>\n",
       "    <tr>\n",
       "      <th>20</th>\n",
       "      <td>Male</td>\n",
       "      <td>175</td>\n",
       "      <td>170</td>\n",
       "      <td>17.5</td>\n",
       "      <td>17.0</td>\n",
       "    </tr>\n",
       "    <tr>\n",
       "      <th>21</th>\n",
       "      <td>Male</td>\n",
       "      <td>162</td>\n",
       "      <td>171</td>\n",
       "      <td>16.2</td>\n",
       "      <td>17.1</td>\n",
       "    </tr>\n",
       "    <tr>\n",
       "      <th>22</th>\n",
       "      <td>Male</td>\n",
       "      <td>175</td>\n",
       "      <td>172</td>\n",
       "      <td>17.5</td>\n",
       "      <td>17.2</td>\n",
       "    </tr>\n",
       "    <tr>\n",
       "      <th>23</th>\n",
       "      <td>Male</td>\n",
       "      <td>181</td>\n",
       "      <td>172</td>\n",
       "      <td>18.1</td>\n",
       "      <td>17.2</td>\n",
       "    </tr>\n",
       "    <tr>\n",
       "      <th>24</th>\n",
       "      <td>Male</td>\n",
       "      <td>173</td>\n",
       "      <td>172</td>\n",
       "      <td>17.3</td>\n",
       "      <td>17.2</td>\n",
       "    </tr>\n",
       "    <tr>\n",
       "      <th>25</th>\n",
       "      <td>Female</td>\n",
       "      <td>172</td>\n",
       "      <td>172</td>\n",
       "      <td>17.2</td>\n",
       "      <td>17.2</td>\n",
       "    </tr>\n",
       "    <tr>\n",
       "      <th>26</th>\n",
       "      <td>Female</td>\n",
       "      <td>180</td>\n",
       "      <td>172</td>\n",
       "      <td>18.0</td>\n",
       "      <td>17.2</td>\n",
       "    </tr>\n",
       "    <tr>\n",
       "      <th>27</th>\n",
       "      <td>Female</td>\n",
       "      <td>148</td>\n",
       "      <td>172</td>\n",
       "      <td>14.8</td>\n",
       "      <td>17.2</td>\n",
       "    </tr>\n",
       "    <tr>\n",
       "      <th>28</th>\n",
       "      <td>Female</td>\n",
       "      <td>180</td>\n",
       "      <td>173</td>\n",
       "      <td>18.0</td>\n",
       "      <td>17.3</td>\n",
       "    </tr>\n",
       "    <tr>\n",
       "      <th>29</th>\n",
       "      <td>Female</td>\n",
       "      <td>165</td>\n",
       "      <td>174</td>\n",
       "      <td>16.5</td>\n",
       "      <td>17.4</td>\n",
       "    </tr>\n",
       "    <tr>\n",
       "      <th>30</th>\n",
       "      <td>Female</td>\n",
       "      <td>159</td>\n",
       "      <td>175</td>\n",
       "      <td>15.9</td>\n",
       "      <td>17.5</td>\n",
       "    </tr>\n",
       "    <tr>\n",
       "      <th>31</th>\n",
       "      <td>Female</td>\n",
       "      <td>159</td>\n",
       "      <td>175</td>\n",
       "      <td>15.9</td>\n",
       "      <td>17.5</td>\n",
       "    </tr>\n",
       "    <tr>\n",
       "      <th>32</th>\n",
       "      <td>Female</td>\n",
       "      <td>164</td>\n",
       "      <td>175</td>\n",
       "      <td>16.4</td>\n",
       "      <td>17.5</td>\n",
       "    </tr>\n",
       "    <tr>\n",
       "      <th>33</th>\n",
       "      <td>Female</td>\n",
       "      <td>188</td>\n",
       "      <td>175</td>\n",
       "      <td>18.8</td>\n",
       "      <td>17.5</td>\n",
       "    </tr>\n",
       "    <tr>\n",
       "      <th>34</th>\n",
       "      <td>Female</td>\n",
       "      <td>175</td>\n",
       "      <td>175</td>\n",
       "      <td>17.5</td>\n",
       "      <td>17.5</td>\n",
       "    </tr>\n",
       "    <tr>\n",
       "      <th>35</th>\n",
       "      <td>Female</td>\n",
       "      <td>160</td>\n",
       "      <td>176</td>\n",
       "      <td>16.0</td>\n",
       "      <td>17.6</td>\n",
       "    </tr>\n",
       "    <tr>\n",
       "      <th>36</th>\n",
       "      <td>Female</td>\n",
       "      <td>177</td>\n",
       "      <td>176</td>\n",
       "      <td>17.7</td>\n",
       "      <td>17.6</td>\n",
       "    </tr>\n",
       "    <tr>\n",
       "      <th>37</th>\n",
       "      <td>Female</td>\n",
       "      <td>168</td>\n",
       "      <td>177</td>\n",
       "      <td>16.8</td>\n",
       "      <td>17.7</td>\n",
       "    </tr>\n",
       "    <tr>\n",
       "      <th>38</th>\n",
       "      <td>Female</td>\n",
       "      <td>169</td>\n",
       "      <td>179</td>\n",
       "      <td>16.9</td>\n",
       "      <td>17.9</td>\n",
       "    </tr>\n",
       "    <tr>\n",
       "      <th>39</th>\n",
       "      <td>Female</td>\n",
       "      <td>165</td>\n",
       "      <td>180</td>\n",
       "      <td>16.5</td>\n",
       "      <td>18.0</td>\n",
       "    </tr>\n",
       "    <tr>\n",
       "      <th>40</th>\n",
       "      <td>Female</td>\n",
       "      <td>164</td>\n",
       "      <td>180</td>\n",
       "      <td>16.4</td>\n",
       "      <td>18.0</td>\n",
       "    </tr>\n",
       "    <tr>\n",
       "      <th>41</th>\n",
       "      <td>Female</td>\n",
       "      <td>163</td>\n",
       "      <td>180</td>\n",
       "      <td>16.3</td>\n",
       "      <td>18.0</td>\n",
       "    </tr>\n",
       "    <tr>\n",
       "      <th>42</th>\n",
       "      <td>Female</td>\n",
       "      <td>176</td>\n",
       "      <td>180</td>\n",
       "      <td>17.6</td>\n",
       "      <td>18.0</td>\n",
       "    </tr>\n",
       "    <tr>\n",
       "      <th>43</th>\n",
       "      <td>Female</td>\n",
       "      <td>176</td>\n",
       "      <td>180</td>\n",
       "      <td>17.6</td>\n",
       "      <td>18.0</td>\n",
       "    </tr>\n",
       "    <tr>\n",
       "      <th>44</th>\n",
       "      <td>Female</td>\n",
       "      <td>172</td>\n",
       "      <td>181</td>\n",
       "      <td>17.2</td>\n",
       "      <td>18.1</td>\n",
       "    </tr>\n",
       "    <tr>\n",
       "      <th>45</th>\n",
       "      <td>Female</td>\n",
       "      <td>170</td>\n",
       "      <td>181</td>\n",
       "      <td>17.0</td>\n",
       "      <td>18.1</td>\n",
       "    </tr>\n",
       "    <tr>\n",
       "      <th>46</th>\n",
       "      <td>Female</td>\n",
       "      <td>157</td>\n",
       "      <td>183</td>\n",
       "      <td>15.7</td>\n",
       "      <td>18.3</td>\n",
       "    </tr>\n",
       "    <tr>\n",
       "      <th>47</th>\n",
       "      <td>Female</td>\n",
       "      <td>172</td>\n",
       "      <td>188</td>\n",
       "      <td>17.2</td>\n",
       "      <td>18.8</td>\n",
       "    </tr>\n",
       "    <tr>\n",
       "      <th>48</th>\n",
       "      <td>Female</td>\n",
       "      <td>179</td>\n",
       "      <td>189</td>\n",
       "      <td>17.9</td>\n",
       "      <td>18.9</td>\n",
       "    </tr>\n",
       "    <tr>\n",
       "      <th>49</th>\n",
       "      <td>Female</td>\n",
       "      <td>171</td>\n",
       "      <td>195</td>\n",
       "      <td>17.1</td>\n",
       "      <td>19.5</td>\n",
       "    </tr>\n",
       "  </tbody>\n",
       "</table>\n",
       "</div>"
      ],
      "text/plain": [
       "       sex  height  sorted  heightr  sortedr\n",
       "0     Male     174     148     17.4     14.8\n",
       "1     Male     183     154     18.3     15.4\n",
       "2     Male     154     157     15.4     15.7\n",
       "3     Male     172     159     17.2     15.9\n",
       "4     Male     172     159     17.2     15.9\n",
       "5     Male     161     160     16.1     16.0\n",
       "6     Male     167     161     16.7     16.1\n",
       "7     Male     172     161     17.2     16.1\n",
       "8     Male     195     162     19.5     16.2\n",
       "9     Male     189     163     18.9     16.3\n",
       "10    Male     161     164     16.1     16.4\n",
       "11    Male     181     164     18.1     16.4\n",
       "12    Male     175     165     17.5     16.5\n",
       "13    Male     170     165     17.0     16.5\n",
       "14    Male     175     167     17.5     16.7\n",
       "15    Male     169     168     16.9     16.8\n",
       "16    Male     169     169     16.9     16.9\n",
       "17    Male     180     169     18.0     16.9\n",
       "18    Male     180     169     18.0     16.9\n",
       "19    Male     180     170     18.0     17.0\n",
       "20    Male     175     170     17.5     17.0\n",
       "21    Male     162     171     16.2     17.1\n",
       "22    Male     175     172     17.5     17.2\n",
       "23    Male     181     172     18.1     17.2\n",
       "24    Male     173     172     17.3     17.2\n",
       "25  Female     172     172     17.2     17.2\n",
       "26  Female     180     172     18.0     17.2\n",
       "27  Female     148     172     14.8     17.2\n",
       "28  Female     180     173     18.0     17.3\n",
       "29  Female     165     174     16.5     17.4\n",
       "30  Female     159     175     15.9     17.5\n",
       "31  Female     159     175     15.9     17.5\n",
       "32  Female     164     175     16.4     17.5\n",
       "33  Female     188     175     18.8     17.5\n",
       "34  Female     175     175     17.5     17.5\n",
       "35  Female     160     176     16.0     17.6\n",
       "36  Female     177     176     17.7     17.6\n",
       "37  Female     168     177     16.8     17.7\n",
       "38  Female     169     179     16.9     17.9\n",
       "39  Female     165     180     16.5     18.0\n",
       "40  Female     164     180     16.4     18.0\n",
       "41  Female     163     180     16.3     18.0\n",
       "42  Female     176     180     17.6     18.0\n",
       "43  Female     176     180     17.6     18.0\n",
       "44  Female     172     181     17.2     18.1\n",
       "45  Female     170     181     17.0     18.1\n",
       "46  Female     157     183     15.7     18.3\n",
       "47  Female     172     188     17.2     18.8\n",
       "48  Female     179     189     17.9     18.9\n",
       "49  Female     171     195     17.1     19.5"
      ]
     },
     "execution_count": 128,
     "metadata": {},
     "output_type": "execute_result"
    }
   ],
   "source": [
    "h=pd.read_csv('../data/BrotherSisterDataLongform.csv')\n",
    "h['sorted']=h.height.sort_values(ascending=True, ignore_index=True)\n",
    "h['heightr']=h.height/10\n",
    "h['sortedr']=h.sorted/10\n",
    "h\n"
   ]
  },
  {
   "cell_type": "code",
   "execution_count": 110,
   "id": "cdc98659-2216-4f28-b05e-19c79f930855",
   "metadata": {
    "tags": []
   },
   "outputs": [
    {
     "data": {
      "text/plain": [
       "4.799999999999983"
      ]
     },
     "execution_count": 110,
     "metadata": {},
     "output_type": "execute_result"
    }
   ],
   "source": [
    "h.query('sex==\"Male\"').height.mean()-h.query('sex==\"Female\"').height.mean()"
   ]
  },
  {
   "cell_type": "code",
   "execution_count": 129,
   "id": "c1d849bc-a43a-4e80-95d8-612a5fa60d2e",
   "metadata": {
    "tags": []
   },
   "outputs": [
    {
     "data": {
      "text/plain": [
       "9.205677041691086"
      ]
     },
     "execution_count": 129,
     "metadata": {},
     "output_type": "execute_result"
    },
    {
     "data": {
      "image/png": "[encoded data removed]",
      "text/plain": [
       "<Figure size 300x400 with 1 Axes>"
      ]
     },
     "metadata": {},
     "output_type": "display_data"
    }
   ],
   "source": [
    "plt.figure(figsize=(3,4))\n",
    "sns.violinplot(data=h,  x='sex', y='height', palette=[[0.9,0.9,1],[1,0.9,0.9]], inner=None)\n",
    "sns.swarmplot(data=h, x='sex', y='height', hue='sex', palette=[[0.5,0.5,1],[1,0.5,0.5]], legend=False)\n",
    "plt.plot([-0.5,0.5],[h.query('sex==\"Male\"').height.mean(), h.query('sex==\"Male\"').height.mean()],color=[0.5,0.5,1])\n",
    "plt.plot([0.5,1.5],[h.query('sex==\"Female\"').height.mean(), h.query('sex==\"Female\"').height.mean()],color=[1,0.5,0.5])\n",
    "plt.ylim(140,200)\n",
    "plt.xlim(-1,2)\n",
    "plt.ylabel('height (cm)')\n",
    "h.height.std()"
   ]
  },
  {
   "cell_type": "code",
   "execution_count": 61,
   "id": "430a6111-7e26-4794-b160-cc22f88066b4",
   "metadata": {
    "tags": []
   },
   "outputs": [
    {
     "data": {
      "text/plain": [
       "17.148"
      ]
     },
     "execution_count": 61,
     "metadata": {},
     "output_type": "execute_result"
    }
   ],
   "source": [
    "h.heightr.mean()"
   ]
  },
  {
   "cell_type": "code",
   "execution_count": 116,
   "id": "92069db6-c698-499f-87ed-2b408b7a2e1a",
   "metadata": {
    "tags": []
   },
   "outputs": [
    {
     "data": {
      "text/plain": [
       "-12.400000000000006"
      ]
     },
     "execution_count": 116,
     "metadata": {},
     "output_type": "execute_result"
    },
    {
     "data": {
      "image/png": "[encoded data removed]",
      "text/plain": [
       "<Figure size 300x400 with 1 Axes>"
      ]
     },
     "metadata": {},
     "output_type": "display_data"
    }
   ],
   "source": [
    "plt.figure(figsize=(3,4))\n",
    "sns.violinplot(data=h,  x='sex', y='sorted', palette=[[0.9,0.9,1],[1,0.9,0.9]], inner=None)\n",
    "sns.swarmplot(data=h, x='sex', y='sorted', hue='sex', palette=[[0.5,0.5,1],[1,0.5,0.5]], legend=False)\n",
    "plt.plot([-0.5,0.5],[h.query('sex==\"Male\"').sorted.mean(), h.query('sex==\"Male\"').sorted.mean()],color=[0.5,0.5,1])\n",
    "plt.plot([0.5,1.5],[h.query('sex==\"Female\"').sorted.mean(), h.query('sex==\"Female\"').sorted.mean()],color=[1,0.5,0.5])\n",
    "plt.ylim(140,200)\n",
    "plt.xlim(-1,2)\n",
    "plt.ylabel('length')\n",
    "\n",
    "h.query('sex==\"Male\"').sorted.mean() - h.query('sex==\"Female\"').sorted.mean()"
   ]
  },
  {
   "cell_type": "code",
   "execution_count": null,
   "id": "77562d70-7364-4454-b7ee-d836e841c065",
   "metadata": {
    "tags": []
   },
   "outputs": [],
   "source": [
    "\n",
    "\n",
    "\n",
    "plt.figure(figsize=(3,4))\n",
    "sns.violinplot(data=h, palette=[[0.9,0.9,1],[1,0.9,0.9]], inner=None)\n",
    "sns.swarmplot(data=h, palette=[[0.5,0.5,1],[1,0.5,0.5]])\n",
    "plt.plot([-0.5,0.5],[h.brother.mean(), h.brother.mean()],color=[0.5,0.5,1])\n",
    "plt.plot([0.5,1.5],[h.sister.mean(), h.sister.mean()],color=[1,0.5,0.5])\n",
    "plt.ylim(140,200)\n",
    "plt.xlim(-1,2)\n",
    "plt.ylabel('height')"
   ]
  },
  {
   "cell_type": "code",
   "execution_count": 70,
   "id": "908c884e-c487-4532-8403-5a39a7c59de5",
   "metadata": {
    "tags": []
   },
   "outputs": [
    {
     "name": "stdout",
     "output_type": "stream",
     "text": [
      "-0.4480000000000004\n",
      "0.03999999999999915\n",
      "-0.8879999999999981\n",
      "-0.14399999999999835\n"
     ]
    },
    {
     "data": {
      "image/png": "[encoded data removed]",
      "text/plain": [
       "<Figure size 1200x400 with 4 Axes>"
      ]
     },
     "metadata": {},
     "output_type": "display_data"
    }
   ],
   "source": [
    "plt.figure(figsize=(12,4))\n",
    "for i in range(4):\n",
    "    h['heightr'] = np.random.permutation(h.heightr)\n",
    "\n",
    "    plt.subplot(1,4,i+1)\n",
    "    sns.violinplot(data=h,  x='sex', y='heightr', palette=[[0.9,0.9,1],[1,0.9,0.9]], inner=None)\n",
    "    sns.swarmplot(data=h, x='sex', y='heightr', hue='sex', palette=[[0.5,0.5,1],[1,0.5,0.5]], legend=False)\n",
    "    plt.plot([-0.5,0.5],[h.query('sex==\"Male\"').heightr.mean(), h.query('sex==\"Male\"').heightr.mean()],color=[0.5,0.5,1])\n",
    "    plt.plot([0.5,1.5],[h.query('sex==\"Female\"').heightr.mean(), h.query('sex==\"Female\"').heightr.mean()],color=[1,0.5,0.5])\n",
    "    plt.ylim(14,20)\n",
    "    plt.xlim(-1,2)\n",
    "    plt.ylabel('height')\n",
    "    print(h.query('sex==\"Male\"').heightr.mean() - h.query('sex==\"Female\"').heightr.mean())\n",
    "    \n",
    "plt.tight_layout()\n",
    "plt.show()"
   ]
  },
  {
   "cell_type": "code",
   "execution_count": 117,
   "id": "aeb6f083-5984-43b8-94d9-143e8ad087b5",
   "metadata": {
    "tags": []
   },
   "outputs": [
    {
     "name": "stdout",
     "output_type": "stream",
     "text": [
      "PermutationTestResult(statistic=4.799999999999983, pvalue=0.17063492063492064, null_distribution=array([  4.8,   9.2,  12.4,   7.6,   6. ,   6.4,   2. ,   5.2,   0.4,\n",
      "        -1.2,  -0.8,   9.6,   4.8,   3.2,   3.6,   8. ,   6.4,   6.8,\n",
      "         1.6,   2. ,   0.4,   1.6,   4.8,   0. ,  -1.6,  -1.2,   9.2,\n",
      "         4.4,   2.8,   3.2,   7.6,   6. ,   6.4,   1.2,   1.6,   0. ,\n",
      "         2. ,  -2.8,  -4.4,  -4. ,   0.4,  -1.2,  -0.8,  -6. ,  -5.6,\n",
      "        -7.2,   4.8,   3.2,   3.6,  -1.6,  -1.2,  -2.8,   1.6,   2. ,\n",
      "         0.4,  -4.4,   2. ,   5.2,   0.4,  -1.2,  -0.8,   9.6,   4.8,\n",
      "         3.2,   3.6,   8. ,   6.4,   6.8,   1.6,   2. ,   0.4,   2.4,\n",
      "        -2.4,  -4. ,  -3.6,   0.8,  -0.8,  -0.4,  -5.6,  -5.2,  -6.8,\n",
      "         5.2,   3.6,   4. ,  -1.2,  -0.8,  -2.4,   2. ,   2.4,   0.8,\n",
      "        -4. ,   2. ,  -2.8,  -4.4,  -4. ,   0.4,  -1.2,  -0.8,  -6. ,\n",
      "        -5.6,  -7.2,   4.8,   3.2,   3.6,  -1.6,  -1.2,  -2.8,   1.6,\n",
      "         2. ,   0.4,  -4.4,  -2.4,  -4. ,  -3.6,  -8.8,  -8.4, -10. ,\n",
      "        -5.6,  -5.2,  -6.8, -11.6,  -1.2,  -0.8,  -2.4,  -7.2,  -4. ,\n",
      "         4. ,   7.2,   2.4,   0.8,   1.2,  11.6,   6.8,   5.2,   5.6,\n",
      "        10. ,   8.4,   8.8,   3.6,   4. ,   2.4,   4.4,  -0.4,  -2. ,\n",
      "        -1.6,   2.8,   1.2,   1.6,  -3.6,  -3.2,  -4.8,   7.2,   5.6,\n",
      "         6. ,   0.8,   1.2,  -0.4,   4. ,   4.4,   2.8,  -2. ,   4. ,\n",
      "        -0.8,  -2.4,  -2. ,   2.4,   0.8,   1.2,  -4. ,  -3.6,  -5.2,\n",
      "         6.8,   5.2,   5.6,   0.4,   0.8,  -0.8,   3.6,   4. ,   2.4,\n",
      "        -2.4,  -0.4,  -2. ,  -1.6,  -6.8,  -6.4,  -8. ,  -3.6,  -3.2,\n",
      "        -4.8,  -9.6,   0.8,   1.2,  -0.4,  -5.2,  -2. ,   4.4,  -0.4,\n",
      "        -2. ,  -1.6,   2.8,   1.2,   1.6,  -3.6,  -3.2,  -4.8,   7.2,\n",
      "         5.6,   6. ,   0.8,   1.2,  -0.4,   4. ,   4.4,   2.8,  -2. ,\n",
      "         0. ,  -1.6,  -1.2,  -6.4,  -6. ,  -7.6,  -3.2,  -2.8,  -4.4,\n",
      "        -9.2,   1.2,   1.6,   0. ,  -4.8,  -1.6,  -0.4,  -2. ,  -1.6,\n",
      "        -6.8,  -6.4,  -8. ,  -3.6,  -3.2,  -4.8,  -9.6,   0.8,   1.2,\n",
      "        -0.4,  -5.2,  -2. ,  -6.4,  -6. ,  -7.6, -12.4,  -9.2,  -4.8]))\n"
     ]
    }
   ],
   "source": [
    "def dMeans(x, y):\n",
    "    return np.mean(x)-np.mean(y)\n",
    "\n",
    "results = stats.permutation_test((h.query('sex == \"Male\"').height, h.query('sex == \"Female\"').height), dMeans, \n",
    "                                  permutation_type='independent', alternative='greater', n_resamples=100000)\n",
    "print(results)"
   ]
  },
  {
   "cell_type": "code",
   "execution_count": 127,
   "id": "deaae615-adc8-42c1-80eb-ce94417e7eed",
   "metadata": {
    "tags": []
   },
   "outputs": [
    {
     "data": {
      "text/plain": [
       "Text(0, 0.5, 'frequency')"
      ]
     },
     "execution_count": 127,
     "metadata": {},
     "output_type": "execute_result"
    },
    {
     "data": {
      "image/png": "[encoded data removed]",
      "text/plain": [
       "<Figure size 800x200 with 1 Axes>"
      ]
     },
     "metadata": {},
     "output_type": "display_data"
    }
   ],
   "source": [
    "plt.figure(figsize=(8,2))\n",
    "sns.histplot(results.null_distribution,  color=[0.8, 0.8, 0.8])\n",
    "plt.xlim([-15, 15])\n",
    "plt.xlabel('difference of means', fontsize=16)\n",
    "plt.ylabel('frequency', fontsize=16)"
   ]
  },
  {
   "cell_type": "code",
   "execution_count": 121,
   "id": "cd7be9ef-7e23-42f3-8ba2-f7f157d3ae68",
   "metadata": {
    "tags": []
   },
   "outputs": [
    {
     "data": {
      "text/plain": [
       "0.0252"
      ]
     },
     "execution_count": 121,
     "metadata": {},
     "output_type": "execute_result"
    }
   ],
   "source": [
    "np.mean(results.null_distribution>5.1)"
   ]
  },
  {
   "cell_type": "code",
   "execution_count": null,
   "id": "00976a85-a3aa-4308-ab71-fa5331b13e4c",
   "metadata": {},
   "outputs": [],
   "source": []
  },
  {
   "cell_type": "code",
   "execution_count": 133,
   "id": "ce4cfe2f-1a3a-4732-b58e-f8142d99533c",
   "metadata": {
    "tags": []
   },
   "outputs": [
    {
     "data": {
      "image/png": "[encoded data removed]",
      "text/plain": [
       "<Figure size 200x400 with 1 Axes>"
      ]
     },
     "metadata": {},
     "output_type": "display_data"
    }
   ],
   "source": [
    "plt.figure(figsize=(2,4))\n",
    "sns.violinplot(data=h, y='height', color=[0.9, 0.9, 0.9], inner=None)\n",
    "sns.swarmplot(data=h, y='height', color=[0.5, 0.5, 0.5])   \n",
    "plt.ylim(140,200)\n",
    "plt.xlabel('anyone')\n",
    "plt.show()\n",
    "\n"
   ]
  },
  {
   "cell_type": "code",
   "execution_count": 136,
   "id": "96328f01-9429-4e76-8bfd-cd5b17be8077",
   "metadata": {
    "tags": []
   },
   "outputs": [
    {
     "name": "stdout",
     "output_type": "stream",
     "text": [
      "PermutationTestResult(statistic=4.64, pvalue=0.03945960540394596, null_distribution=array([-2.16, -0.8 ,  0.8 , ..., -2.56,  1.84, -3.6 ]))\n"
     ]
    }
   ],
   "source": [
    "def dMeans(x, y):\n",
    "    return np.mean(x-y)\n",
    "\n",
    "results = stats.permutation_test((h.query('sex == \"Male\"').height, h.query('sex == \"Female\"').height), dMeans, \n",
    "                                  permutation_type='independent', alternative='greater', n_resamples=100000)\n",
    "print(results)"
   ]
  },
  {
   "cell_type": "code",
   "execution_count": 137,
   "id": "1d590d57-989f-4fa6-b3a3-d2ca38aecc02",
   "metadata": {
    "tags": []
   },
   "outputs": [
    {
     "data": {
      "text/plain": [
       "0.02554"
      ]
     },
     "execution_count": 137,
     "metadata": {},
     "output_type": "execute_result"
    }
   ],
   "source": [
    "np.mean(results.null_distribution>5.1)"
   ]
  },
  {
   "cell_type": "code",
   "execution_count": null,
   "id": "a6c882e8-8c2d-42d9-b90a-4ced960e7366",
   "metadata": {},
   "outputs": [],
   "source": []
  }
 ],
 "metadata": {
  "kernelspec": {
   "display_name": "Python 3 (ipykernel)",
   "language": "python",
   "name": "python3"
  },
  "language_info": {
   "codemirror_mode": {
    "name": "ipython",
    "version": 3
   },
   "file_extension": ".py",
   "mimetype": "text/x-python",
   "name": "python",
   "nbconvert_exporter": "python",
   "pygments_lexer": "ipython3",
   "version": "3.9.18"
  }
 },
 "nbformat": 4,
 "nbformat_minor": 5
}
