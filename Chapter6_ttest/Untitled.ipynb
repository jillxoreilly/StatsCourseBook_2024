{
 "cells": [
  {
   "cell_type": "markdown",
   "id": "ee477400-ca45-4d07-a0c3-2f9cd1669157",
   "metadata": {},
   "source": [
    "# Normal Distribution\n",
    "\n",
    "The t-test is a test for difference of means that can be used if the data to be tested are drawn from a normal distribution.\n",
    "\n",
    "Here we take a look at the normal distribution itself\n",
    "\n",
    "## Characteristics of the normal distritbution\n",
    "\n",
    "The normal distribution is a data distribution with a very particular 'bell curve' shape. It is not just any old symmetrical, unimodal distribution - it is described by an exact equation and as we will later see that even the t distribution, which looks pretty similar, can be distinguishhed fromm the normal distribution and that this distinction is important in statistical testing.\n",
    "\n",
    "The equation of the bell curve is below (you can skip this bit if you don't fancy it) \n",
    "\n",
    "Consequences of the equation:\n",
    "* The probability of observing a data value falls off for data values further from the mean\n",
    "* Values less than one SD from the mean are quite likely but values more than 1 SD from the mean are increasingly unlikely\n",
    "\n",
    "# Normal distribution has two parameters\n",
    "\n",
    "If some data (eg the heights of toddlers, or of adults) are normally distributed, that normal distribution can be summarized by two numbers or **parameters**:\n",
    "\n",
    "* the mean of the distribution\n",
    "    * in the example below, the mean height of 18-year-olds is unsurprisingly higher than the mean height for 2-year-olds)\n",
    "* the standard deviation \n",
    "    * in the example below, the spread of heights is larger for 18 year olds\n",
    "    \n",
    "Because we have the equation, once we know these two numbers we can estimate the full data distribution for heights (for example, I could tell you exactly how likely it is to be 95cm tall (to the nearest cm) as a toddler, or over 180cm as an adult woman).\n",
    "\n",
    "#"
   ]
  }
 ],
 "metadata": {
  "kernelspec": {
   "display_name": "Python 3 (ipykernel)",
   "language": "python",
   "name": "python3"
  },
  "language_info": {
   "codemirror_mode": {
    "name": "ipython",
    "version": 3
   },
   "file_extension": ".py",
   "mimetype": "text/x-python",
   "name": "python",
   "nbconvert_exporter": "python",
   "pygments_lexer": "ipython3",
   "version": "3.9.18"
  }
 },
 "nbformat": 4,
 "nbformat_minor": 5
}
