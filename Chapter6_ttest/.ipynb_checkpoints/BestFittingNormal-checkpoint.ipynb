{
 "cells": [
  {
   "cell_type": "markdown",
   "id": "0a380b61-ab1e-4995-a3bb-f03f49bab476",
   "metadata": {},
   "source": [
    "# Best fitting Normal\n",
    "\n",
    "If we have some data $x$, and we believe they come from a normal distribution, we can describe the normal distribution thhey most likely came from as $x~\\mathcal{N}(mean, sd)$ where the mean and sd are those we calculated from the data.\n",
    "\n",
    "For example here are the heights of 10 fictional ballerinas:"
   ]
  },
  {
   "cell_type": "markdown",
   "id": "74546ed8-ea4c-4d2c-897c-7a18412f83ed",
   "metadata": {},
   "source": [
    "We can calculate the mean and sd of the sample as follows:"
   ]
  },
  {
   "cell_type": "code",
   "execution_count": null,
   "id": "73ee0008-c11d-4fc2-b29b-fc7a6f4489a3",
   "metadata": {},
   "outputs": [],
   "source": [
    "ballerinas.mean()"
   ]
  },
  {
   "cell_type": "code",
   "execution_count": null,
   "id": "85c75fe1-c001-4c15-9699-7e3329510648",
   "metadata": {},
   "outputs": [],
   "source": [
    "ballerinas.std()"
   ]
  },
  {
   "cell_type": "markdown",
   "id": "9a41845d-8472-490b-88bf-b3ad6a1b735c",
   "metadata": {},
   "source": [
    "From these two numbers, we can reconstruct an estimate of the height distribution for all the ballerinas in the world (!) as follows; don't worry about the code as you will not need to reproduce this"
   ]
  },
  {
   "cell_type": "markdown",
   "id": "1d127b0e-ba29-4fe3-b78e-f97dc4ab1a04",
   "metadata": {},
   "source": [
    "## By fitting the Normal we gain some information\n",
    "\n",
    "If it is correct that heights are normally distributed, we should have a quite precise model of the heights of ballerinas worldwide by fitting thhe best-fitting normal to our data. Immportantly this should be more 'correct' than assuming that heights in the population have the same distribution as in the sample (which is not perfectly normal)\n",
    "\n",
    "## Incorrect assumption of normality\n",
    "\n",
    "If the data are not really drawn from a normal distribution, the best fitting normal will be a really bad estimate of the population data distribution - usually non-normal data distributions have outliers that would be really implausible under the normal distribution, and if we try to fit a normal to such data it ends up needing to be very wide to accommodate the outliers.\n",
    "\n",
    "## Parameters are *estimates*\n",
    "\n",
    "The best fitting normal is a normal distribution whose mean and sd match the data mean and sd.. Of course, even if the data are drwan from a normal population, it is likely taht the data mean and stadnard deviation in a small sample are not exactly the same as the eman and standard deviation of the population as a whole (because samples are random and we may happen to sample more tall or short people than we 'should').\n",
    "\n",
    "Belowe I drew XXX samples of size n=XX from a large population of normally distributed values, and calcluated the mean and standard devaition of each sample\n",
    "* sample means are normally distributed and centred ont he true population mean\n",
    "* sample standard deviations have a skewed distribution"
   ]
  }
 ],
 "metadata": {
  "kernelspec": {
   "display_name": "Python 3 (ipykernel)",
   "language": "python",
   "name": "python3"
  },
  "language_info": {
   "codemirror_mode": {
    "name": "ipython",
    "version": 3
   },
   "file_extension": ".py",
   "mimetype": "text/x-python",
   "name": "python",
   "nbconvert_exporter": "python",
   "pygments_lexer": "ipython3",
   "version": "3.9.18"
  }
 },
 "nbformat": 4,
 "nbformat_minor": 5
}
