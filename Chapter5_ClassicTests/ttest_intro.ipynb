{
 "cells": [
  {
   "cell_type": "markdown",
   "id": "63e51582",
   "metadata": {},
   "source": [
    "# The t-test\n",
    "\n",
    "This week we are introducing the concept of hypothesis testing, \n",
    "and looking at one of the most commonly used statistical tests, the t-test.\n",
    "\n",
    "After this week you should be able to carry out, using <tt>scipy.stats</tt>:\n",
    "<ul>\n",
    "<li>Independent samples t-test \n",
    "<li>Paired sample t-test \n",
    "<li>Single sample t-test \n",
    "</ul>\n",
    "There are videos explaining the logic of each of these tests on the website.\n",
    "\n",
    "You should also understand the following theoretical concepts:\n",
    "<ul>\n",
    "<li>Paired samples and repeated measures designs vs independent samples designs\n",
    "<li>Assumption underlying a statistical test, and specifically the assumptions of normality and independence underlying the t-test\n",
    "</ul>\n",
    "\n"
   ]
  },
  {
   "cell_type": "code",
   "execution_count": null,
   "id": "9bb0f41c",
   "metadata": {},
   "outputs": [],
   "source": []
  }
 ],
 "metadata": {
  "kernelspec": {
   "display_name": "Python 3 (ipykernel)",
   "language": "python",
   "name": "python3"
  },
  "language_info": {
   "codemirror_mode": {
    "name": "ipython",
    "version": 3
   },
   "file_extension": ".py",
   "mimetype": "text/x-python",
   "name": "python",
   "nbconvert_exporter": "python",
   "pygments_lexer": "ipython3",
   "version": "3.9.7"
  }
 },
 "nbformat": 4,
 "nbformat_minor": 5
}
