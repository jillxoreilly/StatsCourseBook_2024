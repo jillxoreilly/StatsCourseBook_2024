{
 "cells": [
  {
   "cell_type": "markdown",
   "id": "e5a4bea8",
   "metadata": {},
   "source": [
    "# Permutation test for unpaired or independent samples data\n",
    "\n",
    "We now look at the case of unpaired data - data in which we wish to compare two groups but there are no particular links between individuals in one group and individuals in another group\n",
    "\n",
    "Examples of experimental designs using independent samples would be (say) a comparison of science and humanities students, or first- and final-year students, where the individuals in each group are distinct.\n",
    "\n",
    "### Set up Python libraries\n",
    "\n",
    "As usual, run the code cell below to import the relevant Python libraries"
   ]
  },
  {
   "cell_type": "code",
   "execution_count": 1,
   "id": "83b773a6",
   "metadata": {
    "tags": []
   },
   "outputs": [],
   "source": [
    "# Set-up Python libraries - you need to run this but you don't need to change it\n",
    "import numpy as np\n",
    "import matplotlib.pyplot as plt\n",
    "import scipy.stats as stats\n",
    "import pandas as pd\n",
    "import seaborn as sns\n",
    "sns.set_theme(style='white')\n",
    "import statsmodels.api as sm\n",
    "import statsmodels.formula.api as smf"
   ]
  },
  {
   "cell_type": "markdown",
   "id": "8d4519d3",
   "metadata": {},
   "source": [
    "## Toy example\n",
    "\n",
    "[A toy example is an example with a very small dataset, just to show how it works]\n",
    "\n",
    "\n",
    "#### Question & design\n",
    "\n",
    "We hypothesise that cat owners eat more yoghurt than dog owners \n",
    "\n",
    "We decide on an **independent samples** design in which a group of cat owners are compared to an unrelated group of dog owners. \n",
    "\n",
    "#### Hypotheses\n",
    "\n",
    "We can state our hypotheses as follows:\n",
    "\n",
    "$\\mathcal{H_o}:$ The difference in the mean number of yoghurts eaten by cat owners and dog owners is zero\n",
    "* mean(cat owners' yoghurt consumption) - mean(dog owners' yoghurt consumption) = 0\n",
    "\n",
    "$\\mathcal{H_a}:$ Cat owners eat more yoghurt\n",
    "* mean(cat owners' yoghurt consumption) > mean(dog owners' yoghurt consumption) = 0\n",
    "\n",
    "This is a one-tailed (directional) alternative hypothesis\n",
    "\n",
    "#### Data\n",
    "\n",
    "We survey five cat owners and four dog owners and ask how many times in the last week they ate yogurt. We obtain the following data:"
   ]
  },
  {
   "cell_type": "code",
   "execution_count": 2,
   "id": "7a66358a",
   "metadata": {
    "tags": []
   },
   "outputs": [
    {
     "data": {
      "text/html": [
       "<div>\n",
       "<style scoped>\n",
       "    .dataframe tbody tr th:only-of-type {\n",
       "        vertical-align: middle;\n",
       "    }\n",
       "\n",
       "    .dataframe tbody tr th {\n",
       "        vertical-align: top;\n",
       "    }\n",
       "\n",
       "    .dataframe thead th {\n",
       "        text-align: right;\n",
       "    }\n",
       "</style>\n",
       "<table border=\"1\" class=\"dataframe\">\n",
       "  <thead>\n",
       "    <tr style=\"text-align: right;\">\n",
       "      <th></th>\n",
       "      <th>Pet</th>\n",
       "      <th>Yoghurt</th>\n",
       "    </tr>\n",
       "  </thead>\n",
       "  <tbody>\n",
       "    <tr>\n",
       "      <th>0</th>\n",
       "      <td>cat</td>\n",
       "      <td>0</td>\n",
       "    </tr>\n",
       "    <tr>\n",
       "      <th>1</th>\n",
       "      <td>cat</td>\n",
       "      <td>7</td>\n",
       "    </tr>\n",
       "    <tr>\n",
       "      <th>2</th>\n",
       "      <td>cat</td>\n",
       "      <td>5</td>\n",
       "    </tr>\n",
       "    <tr>\n",
       "      <th>3</th>\n",
       "      <td>cat</td>\n",
       "      <td>2</td>\n",
       "    </tr>\n",
       "    <tr>\n",
       "      <th>4</th>\n",
       "      <td>cat</td>\n",
       "      <td>13</td>\n",
       "    </tr>\n",
       "    <tr>\n",
       "      <th>5</th>\n",
       "      <td>cat</td>\n",
       "      <td>1</td>\n",
       "    </tr>\n",
       "    <tr>\n",
       "      <th>6</th>\n",
       "      <td>cat</td>\n",
       "      <td>8</td>\n",
       "    </tr>\n",
       "    <tr>\n",
       "      <th>7</th>\n",
       "      <td>cat</td>\n",
       "      <td>6</td>\n",
       "    </tr>\n",
       "    <tr>\n",
       "      <th>8</th>\n",
       "      <td>cat</td>\n",
       "      <td>3</td>\n",
       "    </tr>\n",
       "    <tr>\n",
       "      <th>9</th>\n",
       "      <td>cat</td>\n",
       "      <td>5</td>\n",
       "    </tr>\n",
       "    <tr>\n",
       "      <th>10</th>\n",
       "      <td>dog</td>\n",
       "      <td>0</td>\n",
       "    </tr>\n",
       "    <tr>\n",
       "      <th>11</th>\n",
       "      <td>dog</td>\n",
       "      <td>0</td>\n",
       "    </tr>\n",
       "    <tr>\n",
       "      <th>12</th>\n",
       "      <td>dog</td>\n",
       "      <td>6</td>\n",
       "    </tr>\n",
       "    <tr>\n",
       "      <th>13</th>\n",
       "      <td>dog</td>\n",
       "      <td>4</td>\n",
       "    </tr>\n",
       "    <tr>\n",
       "      <th>14</th>\n",
       "      <td>dog</td>\n",
       "      <td>1</td>\n",
       "    </tr>\n",
       "    <tr>\n",
       "      <th>15</th>\n",
       "      <td>dog</td>\n",
       "      <td>4</td>\n",
       "    </tr>\n",
       "    <tr>\n",
       "      <th>16</th>\n",
       "      <td>dog</td>\n",
       "      <td>3</td>\n",
       "    </tr>\n",
       "    <tr>\n",
       "      <th>17</th>\n",
       "      <td>dog</td>\n",
       "      <td>2</td>\n",
       "    </tr>\n",
       "  </tbody>\n",
       "</table>\n",
       "</div>"
      ],
      "text/plain": [
       "    Pet  Yoghurt\n",
       "0   cat        0\n",
       "1   cat        7\n",
       "2   cat        5\n",
       "3   cat        2\n",
       "4   cat       13\n",
       "5   cat        1\n",
       "6   cat        8\n",
       "7   cat        6\n",
       "8   cat        3\n",
       "9   cat        5\n",
       "10  dog        0\n",
       "11  dog        0\n",
       "12  dog        6\n",
       "13  dog        4\n",
       "14  dog        1\n",
       "15  dog        4\n",
       "16  dog        3\n",
       "17  dog        2"
      ]
     },
     "execution_count": 2,
     "metadata": {},
     "output_type": "execute_result"
    }
   ],
   "source": [
    "yog = pd.read_csv('https://raw.githubusercontent.com/jillxoreilly/StatsCourseBook_2024/main/data/yoghurt.csv')\n",
    "yog"
   ]
  },
  {
   "cell_type": "markdown",
   "id": "d0c68564",
   "metadata": {},
   "source": [
    "Let's plot the data:"
   ]
  },
  {
   "cell_type": "code",
   "execution_count": 3,
   "id": "a254b247",
   "metadata": {
    "tags": []
   },
   "outputs": [
    {
     "data": {
      "image/png": "[encoded data removed]",
      "text/plain": [
       "<Figure size 900x400 with 1 Axes>"
      ]
     },
     "metadata": {},
     "output_type": "display_data"
    }
   ],
   "source": [
    "plt.figure(figsize=(9,4))\n",
    "plt.subplot(1,4,1)\n",
    "sns.barplot(data=yog, x='Pet', y='Yoghurt', color=[0.9,0.9,0.9], errorbar=None)\n",
    "sns.stripplot(data=yog, x='Pet', y='Yoghurt', color=[0,0,0]) # this bit plots the dots\n",
    "plt.show()"
   ]
  },
  {
   "cell_type": "markdown",
   "id": "f792710a",
   "metadata": {},
   "source": [
    "We note that the mean number of yoghurts eaten is higher for cat owners, but this may be skewed by one cat-owning yogurt enthusiast.\n",
    "                                                                                                                     \n",
    "### Test statistic\n",
    "\n",
    "We need to summarize the difference in yoghurt consumption as a number. \n",
    "\n",
    "This mean difference, <tt>mean(Cat owners) - mean(Dog owners))</tt>, is calculated as follows:"
   ]
  },
  {
   "cell_type": "code",
   "execution_count": 4,
   "id": "8591939b-3d91-4862-bfd7-e9f681a313cf",
   "metadata": {
    "tags": []
   },
   "outputs": [
    {
     "data": {
      "text/plain": [
       "2.5"
      ]
     },
     "execution_count": 4,
     "metadata": {},
     "output_type": "execute_result"
    }
   ],
   "source": [
    "yog.query('Pet == \"cat\"').Yoghurt.mean() - yog.query('Pet == \"dog\"').Yoghurt.mean()"
   ]
  },
  {
   "cell_type": "markdown",
   "id": "cc794ca8",
   "metadata": {},
   "source": [
    "On average, cat owners eat yoghurt 2.5 more times per week than dog owners. Possibly because cats stealing yoghurt are cute.\n",
    "\n",
    "### Is the result statistically significant? \n",
    "\n",
    "Even if there were no true pet-based differences in yoghurt consumption, if we picked a sample of random cat- and dog-owners and measured their yoghurt consumption we wouldn't expect the difference in average yoghurt consupmtion to be *exactly zero* - just by chance the cat owners would sometimes eat more yogurt, and vice versa.\n",
    "\n",
    "Is it plausible that the pet-based difference we observed (cat owners eat yoghurt 2.5 more times per week than dog owners) arose due to chance from a situation in which there is no true pet-based difference in yoghurt consumption (ie, the *null hypothesis is true*)?\n",
    "\n",
    "In that case, it would be just chance whether a person is labelled as a cat- or dog-owner.\n",
    "\n",
    "\n",
    "### Permutation\n",
    "\n",
    "To work out how likely it would be to get a test statistic (difference in mean yogurt consumtion bbetwee the cat- and dog groups) as large as 2.5, we are going to do is shuffle the data around to create many new (re)samples in which, **people are randomly moved between groups**\n",
    "\n",
    "Within each resample, some individuals will retain their true pet identity, and some will be relabelled; which individuals are which will differ between resamples.\n",
    "\n",
    "For each resample, we then calculate the mean difference in yogurt consumption, <tt>mean(Cat-Dog)</tt>.\n",
    "\n",
    "After repeating the process thousands of times, we can ask on what proportion of random resamples we get a values of <tt>mean(Cat-Dog)</tt> at least as large as our observed difference, 2.5.\n",
    "\n",
    "In this case as data are unpaired, we don't need to preserve pared realationships - ie we can swap the pet-labels for any two people in the sample of 18. However, we do still want to preserve the non-pet-based features of the dataset, namely the sample sizes (10 cat owners and 8 dog owners).\n",
    "\n",
    "Shuffling within our sample of 18 will also preserve the overall features of the dataset:\n",
    "\n",
    "**Non pet-based effects (to be preserved):**\n",
    "* Most people eat yoghurt less than once a day\n",
    "* Some people eat loads of yoghurt\n",
    "    * ie the distriution of differences has positive skew \n",
    "\n",
    "**Potential pet-based effects (to be \"shuffled out\")**:\n",
    "* The number of times yoghurt is eaten tends to be higher for cat owners\n",
    "* The outlier individual who ate loads of yoghurt was a cat owner\n",
    "\n"
   ]
  },
  {
   "cell_type": "markdown",
   "id": "f6f76266",
   "metadata": {},
   "source": [
    "### Run the simulation\n",
    "\n",
    "To generate new simulated datasets, we will shuffle around the datapoints in our original dataset. \n",
    "\n",
    "Which ones can we shuffle?\n",
    "\n",
    "* We assume there are no pet-based differences, so we can swap the pet-labels for any individuals in the sample\n",
    "* We stick to the original sample sizes, ie 10 people should always be labelled as cat-owners and 8 as dog-owners\n",
    "\n",
    "Conceptually, we would achieve this by randomly re-ordering the 18 values in the 'Yogurt' column so that a different 10 fall into rows laelled 'cat'"
   ]
  },
  {
   "cell_type": "markdown",
   "id": "811525bd",
   "metadata": {},
   "source": [
    "### Visualizing randoms shuffles in the unpaired data\n",
    "\n",
    "Let's see how the difference of means changes over a few random shuffles.\n",
    "\n",
    "Below I generate 4 random shuffles of our yoghurt data (in which individuals are randomly relabelled as cat- or dog-owners, maintaining the correct number of cat- and dog-owners), and plot the outcomes:\n",
    "\n",
    "<img src= \"https://raw.githubusercontent.com/jillxoreilly/StatsCourseBook_2024/main/images/MT_wk5_4PermutationsInd.png\" width=\"99%\" />\n",
    "\n",
    "\n"
   ]
  },
  {
   "cell_type": "markdown",
   "id": "2d7a4d09",
   "metadata": {},
   "source": [
    "Note that **each individual can move between the 'cat' and 'dog' group at random**, but there are always 10 people in the 'cat' group and 8 people in the 'dog' group.\n",
    "\n",
    "You can see that the difference of means (difference in heights of the bars) depends on whether more of the high-yoghurt individuals are assigned as cat owners, and also depends quite a lot on which group the 13-yoghurt individual ends up in.\n",
    "\n",
    "## Run 10,000 shuffles\n",
    "\n",
    "To get a fine-grained estimate of how likely it is to get a test statistic of 2.5 due to chance, we run a *lot* of shuffles - say 10,000.\n",
    "\n",
    "We can do this using a function from the library `scipy.stats`, called `scipy.stats.permutation_test()`\n",
    "\n",
    "First of all we will run this (using the code block below) and learn about the output. Afterwards we will have a closer look at the Python syntax including defining a function."
   ]
  },
  {
   "cell_type": "code",
   "execution_count": 5,
   "id": "4d598dbe-4c5c-41f5-9b34-17615be43c7e",
   "metadata": {
    "tags": []
   },
   "outputs": [
    {
     "name": "stdout",
     "output_type": "stream",
     "text": [
      "PermutationTestResult(statistic=2.5, pvalue=0.0654934506549345, null_distribution=array([ 0.475,  0.925, -0.65 , ...,  1.825, -2.   ,  1.825]))\n"
     ]
    }
   ],
   "source": [
    "def dMeans(x, y):\n",
    "    return np.mean(x)-np.mean(y)\n",
    "\n",
    "results = stats.permutation_test((yog.query('Pet == \"cat\"').Yoghurt, yog.query('Pet == \"dog\"').Yoghurt), dMeans, \n",
    "                                  permutation_type='independent', alternative='greater', n_resamples=10000)\n",
    "print(results)"
   ]
  },
  {
   "cell_type": "markdown",
   "id": "18b16556",
   "metadata": {},
   "source": [
    "\n",
    "The results are displayed below the code box; there are number of outputs from the test (contained in the parentheses)\n",
    "\n",
    "* **statistic** - the test statistic (mean difference) from our actual data, ie 2.5\n",
    "* **pValue** - the proportion of shuffles in which a result greater than 2.5 was obtained (due to chance)\n",
    "* **null distribution** - this contains all 10,000 difference of mean values, for the 10,000 shuffles\n",
    "\n",
    "### The Null Distribution\n",
    "\n",
    "The **null distribution** is the set of 10,000 values we get for the difference of mean yoghurt consumption for (cat owners - dog owners), from our 10,000 shuffles (the equivalent of the red numbers on the 4-permutation example above)\n",
    "\n",
    "Let's plot the null distribution in a histogram:\n"
   ]
  },
  {
   "cell_type": "code",
   "execution_count": 6,
   "id": "480c0e15",
   "metadata": {
    "tags": []
   },
   "outputs": [
    {
     "data": {
      "image/png": "[encoded data removed]",
      "text/plain": [
       "<Figure size 640x480 with 1 Axes>"
      ]
     },
     "metadata": {},
     "output_type": "display_data"
    }
   ],
   "source": [
    "sns.histplot(results.null_distribution, bins=np.arange(-5,5,0.1))\n",
    "plt.show()"
   ]
  },
  {
   "cell_type": "markdown",
   "id": "8ede169d-d08c-4614-bc72-de564aabbdc6",
   "metadata": {},
   "source": [
    "The histogram looks a bit spikey because for this dataset (which is small and has several repeated values) there are a limited number of possible values for the means of a groups of 8 and a group of 10.\n",
    "\n",
    "In any case we can see that the observed difference between cat and dog owners' mean consumption (+2.5) is quite rare but not completely extreme."
   ]
  },
  {
   "cell_type": "markdown",
   "id": "4e7f3153",
   "metadata": {},
   "source": [
    "### The $𝑝$-value¶\n",
    "\n",
    "We can calculate the exact proportion of cases in which the difference of means for cat- minus dog-owners exceeds the value we observed in our original sample, 2.5. "
   ]
  },
  {
   "cell_type": "code",
   "execution_count": 7,
   "id": "d6344afc-b707-4f4b-9350-675a5118151d",
   "metadata": {
    "tags": []
   },
   "outputs": [
    {
     "data": {
      "text/plain": [
       "0.0654"
      ]
     },
     "execution_count": 7,
     "metadata": {},
     "output_type": "execute_result"
    }
   ],
   "source": [
    "# check which values is the null distribution are greater than 4.6 and code as 1/0\n",
    "# then use the numpy function np.mean() to get the avergae of those ones and zeros (ie he proportion of 1s)\n",
    "np.mean(results.null_distribution >= 2.5)"
   ]
  },
  {
   "cell_type": "markdown",
   "id": "5689e6df-b5ee-4c13-9767-7b70e0b02ee6",
   "metadata": {},
   "source": [
    "This proportion is 0.064 or 6.4%.\n",
    "\n",
    "This tells us that if we simulate a situation in which pet ownership does not determine the number of times yoghurt is eaten (but preserving some other important features of the dataset like the high skew), there is still almost a 5% chance that we would get an apparent pet-based difference as large as the one we observed in our 'real' data.\n",
    "\n",
    "The probability that the test statistic (in this case, the difference in mean times yoghurt is eaten) would be observed if the null hypothesis were true, is sometimes called the $𝑝$-value.\n",
    "\n",
    "Our permutation test shows that the $𝑝$-value associated with the observed difference of means is 0.047 or 4.7%.\n",
    "\n",
    "The result is considered statistically significant if $𝑝$ is smaller than some predetermined level, known as $\\alpha$. Usually $\\alpha=0.05$ or $\\alpha=0.01$ is used; this result is not quite significant if $\\alpha=0.05$ but not significant if $\\alpha=0.01$. "
   ]
  },
  {
   "cell_type": "markdown",
   "id": "24efb854-8ae2-4879-ae68-a3eba5b3d722",
   "metadata": {},
   "source": [
    "## Syntax of `stats.permutation_test()`\n",
    "\n",
    "Let's have a look at the Python code to run the permutation test.\n",
    "\n",
    "Firstly, we had to give the function `stats.permutation_test()` our two samples. In this case, the data are in 'long form', ie the pet category is defined in one column of the dataset, so cat owners and dog owners are in different rows. We therefore identify our categories useing `df.query()` with the column we want (<tt>Yoghurt</tt>) tacked on the end:\n",
    "\n",
    "`(yog.query('Pet == \"cat\"').Yoghurt, yog.query('Pet == \"dog\"').Yoghurt)`\n",
    "\n",
    "Secondly, to tell `stats.permutation_test()` the test statistic we want to get the null distribution of, we had to pass it a *function* that calculates that test statistic. We created that function, `dMeans()`, using a function definition, before running the permutation test\n",
    "\n",
    "\n",
    "### Arguments\n",
    "\n",
    "When running the permutation test, we have to specify some arguments\n",
    "\n",
    "* **n_resamples** the number of shuffles to do.\n",
    "* **alternative** - whether to do a one-tailed test (and in whcih direction: 'greater' counts how many shuffles result in test statistic values greater than the one obtained from unshuffled data) or a two tailed test\n",
    "* **permutation_type** - pairings, samples, or independent. These are for test of correlation, paired data and unpaired data respectively.\n",
    "\n",
    "Here we are testing for a difference of means in *independent* (unpaired) samples, so we choose `permutation_type='independent'` - this randomly shuffles all the datapoints and assignes them randomly to the groups cat/dog."
   ]
  },
  {
   "cell_type": "markdown",
   "id": "a25bc28d-0a21-4428-8044-173683688fde",
   "metadata": {},
   "source": [
    "## Recap\n",
    "\n",
    "To run a permutation test on unpaired data, we mixed up all the individuals in the sample regardless of category (pet ownership), and randomly split them into two groups. We kept the original group sizes (10 and 8 in this case), as we want to retain the characteristics of the original dataset that one group is larger\n",
    "\n",
    "For each shuffle we calculated the mean yoghurt consuption for each 'pet' group. \n",
    "\n",
    "Permutation testing in this way gives us a null distribution for the difference of means. Values of difference of means that occur rarely in the null distribution are considered statistically significant.\n",
    "    \n",
    "To run the permutation test with <tt>scipy.stats</tt> we need the option `permutation_type='independent'`"
   ]
  },
  {
   "cell_type": "code",
   "execution_count": null,
   "id": "65731b03-9c05-41a2-9386-64aa63dde21c",
   "metadata": {},
   "outputs": [],
   "source": []
  }
 ],
 "metadata": {
  "kernelspec": {
   "display_name": "Python 3 (ipykernel)",
   "language": "python",
   "name": "python3"
  },
  "language_info": {
   "codemirror_mode": {
    "name": "ipython",
    "version": 3
   },
   "file_extension": ".py",
   "mimetype": "text/x-python",
   "name": "python",
   "nbconvert_exporter": "python",
   "pygments_lexer": "ipython3",
   "version": "3.9.18"
  }
 },
 "nbformat": 4,
 "nbformat_minor": 5
}