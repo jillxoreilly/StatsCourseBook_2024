{
 "cells": [
  {
   "cell_type": "markdown",
   "id": "f038cfcb",
   "metadata": {},
   "source": [
    "# Tutorial exercises\n",
    "\n",
    "We again use the wellbeing dataset, to practice running permutation tests.\n",
    "\n",
    "### Set up Python libraries\n",
    "\n",
    "As usual, run the code cell below to import the relevant Python libraries"
   ]
  },
  {
   "cell_type": "code",
   "execution_count": 1,
   "id": "e89735f8",
   "metadata": {},
   "outputs": [],
   "source": [
    "# Set-up Python libraries - you need to run this but you don't need to change it\n",
    "import numpy as np\n",
    "import matplotlib.pyplot as plt\n",
    "import scipy.stats as stats\n",
    "import pandas as pd\n",
    "import seaborn as sns\n",
    "sns.set_theme(style='white')\n",
    "import statsmodels.api as sm\n",
    "import statsmodels.formula.api as smf"
   ]
  },
  {
   "cell_type": "markdown",
   "id": "81aad7c0",
   "metadata": {},
   "source": [
    "### Import and view the data"
   ]
  },
  {
   "cell_type": "code",
   "execution_count": 2,
   "id": "741e30af",
   "metadata": {},
   "outputs": [
    {
     "ename": "NameError",
     "evalue": "name 'pandas' is not defined",
     "output_type": "error",
     "traceback": [
      "\u001b[0;31m---------------------------------------------------------------------------\u001b[0m",
      "\u001b[0;31mNameError\u001b[0m                                 Traceback (most recent call last)",
      "Cell \u001b[0;32mIn[2], line 1\u001b[0m\n\u001b[0;32m----> 1\u001b[0m wb \u001b[38;5;241m=\u001b[39m \u001b[43mpandas\u001b[49m\u001b[38;5;241m.\u001b[39mread_csv(\u001b[38;5;124m'\u001b[39m\u001b[38;5;124mhttps://raw.githubusercontent.com/jillxoreilly/StatsCourseBook/main/data/WellbeingSample.csv\u001b[39m\u001b[38;5;124m'\u001b[39m)\n\u001b[1;32m      2\u001b[0m wb\n",
      "\u001b[0;31mNameError\u001b[0m: name 'pandas' is not defined"
     ]
    }
   ],
   "source": [
    "wb = pandas.read_csv('https://raw.githubusercontent.com/jillxoreilly/StatsCourseBook/main/data/WellbeingSample.csv')\n",
    "wb"
   ]
  },
  {
   "cell_type": "markdown",
   "id": "58d05f94",
   "metadata": {},
   "source": [
    "\n",
    "### Questions\n",
    "\n",
    "In each case, you will need to decide:\n",
    "    \n",
    "* what is our null hypothesis\n",
    "* what is our alternative hypothesis?\n",
    "\n",
    "Is it a paired or unpaired test for difference of means, or a correlation test?\n",
    "* therefore which `permutation_type` is needed, `samples`, `pairings` or `independent`?\n",
    "        \n",
    "Is it a one- or two-tailed test?\n",
    "* therefore which `alternative` hypothesis type is needed, `two-sided`, `greater` or `less`?\n",
    "\n",
    "What $\\alpha$ value will you use?\n",
    "* what value must $p$ be smaller than, to reject the null hypothesis?\n",
    "* this is the experimenter's choice but usually 0.05 is used (sometimes 0.001 or 0.001)\n",
    "\n",
    "\n",
    "#### Test the following hypotheses:\n",
    "    \n",
    "1. Wellbeing scores pre- and post-vac are correlated in engineering students\n",
    "2. There is a difference in the wellbeing scores of PPE students between Beaufort or Lonsdale (before the vacation)?\n",
    "3. Wellbeing over all students increases across the vacation\n",
    "\n",
    "#### Slightly harder one:\n",
    "\n",
    "4. Wellbeing increases more across the vacation for Beaufort students than Lonsdale students "
   ]
  },
  {
   "cell_type": "code",
   "execution_count": null,
   "id": "0e3ac3e2",
   "metadata": {},
   "outputs": [],
   "source": []
  }
 ],
 "metadata": {
  "kernelspec": {
   "display_name": "Python 3 (ipykernel)",
   "language": "python",
   "name": "python3"
  },
  "language_info": {
   "codemirror_mode": {
    "name": "ipython",
    "version": 3
   },
   "file_extension": ".py",
   "mimetype": "text/x-python",
   "name": "python",
   "nbconvert_exporter": "python",
   "pygments_lexer": "ipython3",
   "version": "3.9.18"
  }
 },
 "nbformat": 4,
 "nbformat_minor": 5
}