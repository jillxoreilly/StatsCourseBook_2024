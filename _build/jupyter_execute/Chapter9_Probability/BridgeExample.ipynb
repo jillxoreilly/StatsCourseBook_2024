{
 "cells": [
  {
   "cell_type": "markdown",
   "id": "354f1752-8a61-48f4-b45f-aa2dbca46244",
   "metadata": {},
   "source": [
    "# Tutorial Exercises 2 - \n",
    "\n",
    "In this exercise, we will see how we can work out the answer to an an arbitrary probability problem, by simulating the data generating distribution\n",
    "\n",
    "This exercise is based on the card game Bridge, although you do not have to know the rules of Bridge to do this exercise!"
   ]
  },
  {
   "cell_type": "markdown",
   "id": "48d846a7-fffa-4d66-bc77-9395a52a1820",
   "metadata": {},
   "source": [
    "### Set up Python libraries\n",
    "\n",
    "As usual, run the code cell below to import the relevant Python libraries"
   ]
  },
  {
   "cell_type": "code",
   "execution_count": 1,
   "id": "d9c97e50-a614-474e-a52d-b0cc42b610cd",
   "metadata": {
    "tags": []
   },
   "outputs": [],
   "source": [
    "# Set-up Python libraries - you need to run this but you don't need to change it\n",
    "import numpy as np\n",
    "import matplotlib.pyplot as plt\n",
    "import scipy.stats as stats\n",
    "import pandas \n",
    "import seaborn as sns\n",
    "import statsmodels.api as sm\n",
    "import statsmodels.formula.api as smf"
   ]
  },
  {
   "cell_type": "markdown",
   "id": "5b300614-72af-467c-83e1-50f0a043082f",
   "metadata": {},
   "source": [
    "## Modelling the cards\n",
    "\n",
    "Bridge is played with a standard pack of 52 playing cards, which has 13 cards in each suit (the suits are hearts, diamonds, spades and clubs)\n",
    "\n",
    "There are four players and each receives 13 cards.\n",
    "\n",
    "In the first phase of the game, each players secretly add up the number of points in their hand. Only picture cards carry points, as follows:\n",
    "\n",
    "* Jack = 1 point\n",
    "* Queen = 2 points\n",
    "* King = 3 points\n",
    "* Ace = 4 points\n",
    "\n",
    "Let's simulate a random deal and work out how many points each player got.\n",
    "\n",
    "We start by modelling our cards. Since we are interested in only the number of points each player gets, we can model our cards as follows (each row is a suit):"
   ]
  },
  {
   "cell_type": "code",
   "execution_count": 2,
   "id": "d376d936-bee7-4a24-866f-80b4d0665ae8",
   "metadata": {},
   "outputs": [],
   "source": [
    "cards = [0,0,0,0,0, 0,0,0,0,0, 1,2,3,4,\n",
    "         0,0,0,0,0, 0,0,0,0,0, 1,2,3,4,\n",
    "         0,0,0,0,0, 0,0,0,0,0, 1,2,3,4,\n",
    "         0,0,0,0,0, 0,0,0,0,0, 1,2,3,4]"
   ]
  },
  {
   "cell_type": "markdown",
   "id": "d189c371-93f5-4d0b-94c8-5269ae49901d",
   "metadata": {
    "tags": []
   },
   "source": [
    "### Shuffle the cards\n",
    "\n",
    "Of course we need to shuffle them before we deal them!\n",
    "\n",
    "Let's use the function `np.random.shuffle()` which randomly re-orders our array `cards`\n",
    "\n",
    "* Note that `np.random.shuffle()` works *in place* which mmeans by running the function, we actually scrable our original array of playing cards"
   ]
  },
  {
   "cell_type": "code",
   "execution_count": 3,
   "id": "28aeb445-97ce-4bc4-bdec-e1df1deab7a1",
   "metadata": {
    "tags": []
   },
   "outputs": [],
   "source": [
    "np.random.shuffle(cards)\n",
    "# uncomment then line below to look at the 52 shuffled cards\n",
    "# cards"
   ]
  },
  {
   "cell_type": "markdown",
   "id": "5eed3900-feaf-4969-850d-e05b7e44fb64",
   "metadata": {},
   "source": [
    "### Deal the cards\n",
    "\n",
    "Let's deal the first 13 cards to player 1, the next 13 cards to player 2, etc, and add up each player's points"
   ]
  },
  {
   "cell_type": "code",
   "execution_count": 4,
   "id": "d4ca924d-a3bb-483b-98c3-a8043d5b9619",
   "metadata": {
    "tags": []
   },
   "outputs": [
    {
     "data": {
      "text/plain": [
       "[9, 5, 12, 12]"
      ]
     },
     "execution_count": 4,
     "metadata": {},
     "output_type": "execute_result"
    }
   ],
   "source": [
    "points = [sum(cards[0:13]),\n",
    "          sum(cards[13:26]),\n",
    "          sum(cards[26:39]),\n",
    "          sum(cards[39:52])]\n",
    "points"
   ]
  },
  {
   "cell_type": "code",
   "execution_count": 5,
   "id": "57eb6f5c-86d3-4c82-b3f0-219e4cb18990",
   "metadata": {
    "tags": []
   },
   "outputs": [],
   "source": [
    "nReps=10000\n",
    "cards = [0,0,0,0,0, 0,0,0,0,0, 1,2,3,4,\n",
    "         0,0,0,0,0, 0,0,0,0,0, 1,2,3,4,\n",
    "         0,0,0,0,0, 0,0,0,0,0, 1,2,3,4,\n",
    "         0,0,0,0,0, 0,0,0,0,0, 1,2,3,4]\n",
    "bid = np.empty(nReps)\n",
    "\n",
    "for i in range(nReps):\n",
    "    \n",
    "    np.random.shuffle(cards)\n",
    "    \n",
    "    points = np.array([sum(cards[0:13]),\n",
    "          sum(cards[13:26]),\n",
    "          sum(cards[26:39]),\n",
    "          sum(cards[39:52])])\n",
    "    \n",
    "    bid[i] = sum(points>=13)"
   ]
  },
  {
   "cell_type": "code",
   "execution_count": 6,
   "id": "7f4cfaae-3fa6-4c80-8a98-a764237529b4",
   "metadata": {
    "tags": []
   },
   "outputs": [
    {
     "data": {
      "text/plain": [
       "0.2627"
      ]
     },
     "execution_count": 6,
     "metadata": {},
     "output_type": "execute_result"
    },
    {
     "data": {
      "image/png": "[encoded data removed]",
      "text/plain": [
       "<Figure size 640x480 with 1 Axes>"
      ]
     },
     "metadata": {},
     "output_type": "display_data"
    }
   ],
   "source": [
    "sns.histplot(bid)\n",
    "np.mean(bid==0)"
   ]
  },
  {
   "cell_type": "code",
   "execution_count": 7,
   "id": "6ca3510f-56a5-4c3e-8b2f-43b84e7c1614",
   "metadata": {
    "tags": []
   },
   "outputs": [
    {
     "data": {
      "text/plain": [
       "0.32659478719691104"
      ]
     },
     "execution_count": 7,
     "metadata": {},
     "output_type": "execute_result"
    }
   ],
   "source": [
    "stats.binom.cdf(5,25,0.2622)"
   ]
  },
  {
   "cell_type": "markdown",
   "id": "1bcc01ce-93ee-4eea-ae68-533ef2aad62f",
   "metadata": {},
   "source": [
    "$$t = \\frac{\\bar{x}-\\mu}{\\frac{s_{x-\\mu}}{\\sqrt{n}}}$$,\n"
   ]
  },
  {
   "cell_type": "code",
   "execution_count": null,
   "id": "5facadc5-9b0d-4164-a0fa-fa6ce2fcfb6d",
   "metadata": {},
   "outputs": [],
   "source": []
  }
 ],
 "metadata": {
  "kernelspec": {
   "display_name": "Python 3 (ipykernel)",
   "language": "python",
   "name": "python3"
  },
  "language_info": {
   "codemirror_mode": {
    "name": "ipython",
    "version": 3
   },
   "file_extension": ".py",
   "mimetype": "text/x-python",
   "name": "python",
   "nbconvert_exporter": "python",
   "pygments_lexer": "ipython3",
   "version": "3.9.18"
  }
 },
 "nbformat": 4,
 "nbformat_minor": 5
}