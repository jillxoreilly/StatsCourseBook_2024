{
 "cells": [
  {
   "cell_type": "markdown",
   "id": "b0a1ef8a-e6ce-49ce-9dbf-51bcaee7b47d",
   "metadata": {},
   "source": [
    "# ChatGPT\n",
    "\n",
    "You may well have heard of ChatGPT, an AI tool that is uncannily good at writing English.\n",
    "\n",
    "What you may not know, is that whilst ChatGPT is good at writing English, it is *really* good at writing code. Basically it reproduces things people have posted on the internet, and there is a lot of code on the internet, especially in Python.\n",
    "\n",
    "You can use ChatGPT to help you write code, as you will see in the example below. \n",
    "\n",
    "**The existance of ChatGPT does *not* mean it is pointless to learn Python! Quite the opposite!**\n",
    "\n",
    "Chat GPT means that if you learn a *little* coding - enough coding concepts and syntax to *read* code, you will be able to *write* code easily with help of ChatGPT. \n",
    "\n",
    "In other words:\n",
    "* In days gone by, if you took a basic coding course (like this one) you could write basic code\n",
    "* Now, with help of AI, if you take a basic coding course like this one you can write advanced and efficient code\n",
    "\n",
    "## Is it cheating?\n",
    "\n",
    "No. \n",
    "\n",
    "Coders have always worked by taking existing code (traditionally, written by other humans) and modifying it. This is how you learn to code, and how most code for practical applications is developed. For example, many research labs share all their code via an online repository called GitHub; new lab members will develop their data analysis code based on what other lab members have done in the past.\n",
    "\n",
    "In this course, I encourage you to use the code snippets in my worked examples to help you complete the exercises and assignments. You need to understand them so you can modify them as needed, but you don't need to write them from scratch.\n",
    "\n",
    "Using code generated (or basically, found on the internet) by ChatGPT is no different from the above examples really and is an acceptable way to procede, but you should (in all cases where you are modifying existing code), try to understand what the code, otherwise you will end up with your code not doing what was intended.\n",
    "\n",
    "One caveat to be aware of is that at present **it is forbidden to use ChatGPT in University exams**, which would include the exam for this course. It is however permitted to use your own notes and the course notes (i.e. this website) in the exam for this course, so you will not be examined on writing code from scratch, but rather sourcing and modifying suitable code.\n",
    "\n",
    "## Example \n",
    "\n",
    "I decided to see what ChatGPT would make of the coin-toss example.\n",
    "\n",
    "If you have a ChatGPT account (you can make one for free) you can try this for yourself.\n",
    "\n",
    "We are going to want to copy the code into the Jupyter Notebook and run it, so let's set up our Python libraries as usual:\n"
   ]
  },
  {
   "cell_type": "code",
   "execution_count": 1,
   "id": "dbf300a3-32c8-4ec0-8dbf-2d187092c41b",
   "metadata": {
    "tags": []
   },
   "outputs": [],
   "source": [
    "# Set-up Python libraries - you need to run this but you don't need to change it\n",
    "import numpy as np\n",
    "import matplotlib.pyplot as plt\n",
    "import scipy.stats as stats\n",
    "import pandas as pd\n",
    "import seaborn as sns\n",
    "sns.set_theme(style='white')\n",
    "import statsmodels.api as sm\n",
    "import statsmodels.formula.api as smf"
   ]
  },
  {
   "cell_type": "markdown",
   "id": "27594494-3ffe-4fef-b9ae-4a115f48b5b8",
   "metadata": {},
   "source": [
    "### Ask your question in English\n",
    "\n",
    "I started by asking ChatGPT for some code:\n",
    "<br>\n",
    "<img src=\"https://raw.githubusercontent.com/jillxoreilly/StatsCourseBook_2024/main/images/MT_wk0_ChatGPT1.png\" width=100% />\n",
    "<br>"
   ]
  },
  {
   "cell_type": "markdown",
   "id": "770c6ad4-b400-4daa-82ac-e129bf4ad349",
   "metadata": {},
   "source": [
    "Note that ChatGPT not only writes the code, but it kindly explains what it has done in English afterwards! \n",
    "\n",
    "### Run it!\n",
    "\n",
    "Let's copy-paste the code into our notebook and run it. Since the code you see above is actually a screenshot, I have pasted the text for you - but if you work with ChaatGPT directly you can copy-paste its output into a Jupyter notebook just like any other text.\n",
    "\n",
    "* Try running the code below a few times and watch how the output changes each time\n",
    "* Think - how is the output from this code different from the code my example, in section 1.6.1 of these notes?"
   ]
  },
  {
   "cell_type": "code",
   "execution_count": 2,
   "id": "45451be0-c79c-4ccb-8ee0-84230c210607",
   "metadata": {
    "tags": []
   },
   "outputs": [
    {
     "name": "stdout",
     "output_type": "stream",
     "text": [
      "Heads: 3\n",
      "Tails: 7\n"
     ]
    }
   ],
   "source": [
    "import random\n",
    "\n",
    "# Initialize counters for heads and tails\n",
    "heads_count = 0\n",
    "tails_count = 0\n",
    "\n",
    "# Number of times to toss the coin\n",
    "num_tosses = 10\n",
    "\n",
    "# Simulate tossing the coin 10 times\n",
    "for _ in range(num_tosses):\n",
    "    # Generate a random number (0 or 1) to represent heads or tails\n",
    "    coin_toss = random.randint(0, 1)\n",
    "    \n",
    "    # Check the result and update the respective counter\n",
    "    if coin_toss == 0:\n",
    "        heads_count += 1\n",
    "    else:\n",
    "        tails_count += 1\n",
    "\n",
    "# Display the results\n",
    "print(f\"Heads: {heads_count}\")\n",
    "print(f\"Tails: {tails_count}\")"
   ]
  },
  {
   "cell_type": "markdown",
   "id": "23f156e4-ebe1-42f9-8548-305cdaac4017",
   "metadata": {},
   "source": [
    "### Understanding the code\n",
    "\n",
    "I'm now going to try running little bits of the code separately to get a better understanding of it.\n",
    "\n",
    "#### Import necessary libraries\n",
    "\n",
    "First, I'm going to import the same packages that Chat GPT used - checking at the top of the code snippet to see what they were. \n",
    "* Note that in the example Jupyter notebooks in these course notes, there is always a block at the top importing the relevant Python libraries which are the ones used in my code on this course; but ChatGPT doesn't limit itself ot the same set of libraries, so you might need to import any additional ones it is using."
   ]
  },
  {
   "cell_type": "code",
   "execution_count": 3,
   "id": "55459b30-52c6-4cf4-9950-67876c9c6ed7",
   "metadata": {},
   "outputs": [],
   "source": [
    "import random"
   ]
  },
  {
   "cell_type": "markdown",
   "id": "34c535b8-5936-487a-98d9-542566ec5ac5",
   "metadata": {},
   "source": [
    "#### Try out any unfamiliar functions\n",
    "\n",
    "According to the explanatory note, ChatGPT used a function called `random.randint()`, and indeed I can see that this was run on each pass through the loop.\n",
    "\n",
    "I'm not familiar with the function `random.randint()` so I might have a little try in my Jupyter notebook to see what it does (it could also be useful to Google for the documentation of this function, although in this case I think that won't be necessary)\n",
    "\n",
    "Since we know (from the name and the explanatory text) that it is a random function, we might try running it a few times to see if the output changes randomly."
   ]
  },
  {
   "cell_type": "code",
   "execution_count": 4,
   "id": "b82e1941-b1d7-4352-a571-538412edc216",
   "metadata": {
    "tags": []
   },
   "outputs": [
    {
     "data": {
      "text/plain": [
       "1"
      ]
     },
     "execution_count": 4,
     "metadata": {},
     "output_type": "execute_result"
    }
   ],
   "source": [
    "random.randint(0,1)"
   ]
  },
  {
   "cell_type": "markdown",
   "id": "677c8819-5b80-47ed-8865-6164d66db0df",
   "metadata": {
    "tags": []
   },
   "source": [
    "OK, it generates 0s and 1s at random."
   ]
  },
  {
   "cell_type": "markdown",
   "id": "75bee32e-ddb1-4f11-851f-ae55c98905c3",
   "metadata": {},
   "source": [
    "### Comprehension questions\n",
    "\n",
    "* The result of running ChatGPT's code is a count of how many heads and tails we got (from 10 coin tosses)\n",
    "* This is different from my version in section 1.6.1 of these note, which also saved each individual outcome in an array, and hence retains information about the *order* of the outcomes\n",
    "* What appraoch did ChatGPT use to count the heaads, which resulted in it retaining only the total number of heads but not the order of heads and tails? \n",
    "    * This may be unfamiliar syntax but look at the code and have a guess\n"
   ]
  },
  {
   "cell_type": "markdown",
   "id": "8d289eb3-1bba-4513-96fd-865802a52488",
   "metadata": {},
   "source": [
    "## Modifying the question\n",
    "\n",
    "ChatGPT did exactly what I asked (counted the number of heads) but I have not realised I actually wanted to record the sequence of heads and tails. How can I modify my question to get nearer to what I want?\n",
    "\n",
    "Here's my next attempt:\n",
    "\n",
    "I started by asking ChatGPT for some code:\n",
    "<br>\n",
    "\n",
    "<img src=\"https://raw.githubusercontent.com/jillxoreilly/StatsCourseBook_2024/main/images/MT_wk0_ChatGPT3.png\" width=100% />\n",
    "<br>\n"
   ]
  },
  {
   "cell_type": "markdown",
   "id": "018bf126-5d7f-4bd8-afd1-8ce47b4b5e2e",
   "metadata": {},
   "source": [
    "Ooh, it looks like this is a little more efficient than my version, as ChatGPT has realised there is a `numpy` function to generate  the array of 10 'coin tosses' in one step, rather than going round a loop 10 times.\n",
    "\n",
    "Let's check it out on the command line\n",
    "\n",
    "We won't need to install or import `numpy` as we already have this (it is imported int he code block aat the top fo this notebook) so we can get straight down to business:"
   ]
  },
  {
   "cell_type": "code",
   "execution_count": 5,
   "id": "6a0871d4-dbf3-48e8-8f43-f37d05aded41",
   "metadata": {
    "tags": []
   },
   "outputs": [
    {
     "name": "stdout",
     "output_type": "stream",
     "text": [
      "Coin toss outcomes: ['Heads' 'Heads' 'Tails' 'Tails' 'Heads' 'Tails' 'Tails' 'Heads' 'Heads'\n",
      " 'Tails']\n"
     ]
    }
   ],
   "source": [
    "outcomes = np.random.choice(['Heads','Tails'], size=10)\n",
    "print(\"Coin toss outcomes:\", outcomes)"
   ]
  },
  {
   "cell_type": "markdown",
   "id": "ed430aec-b139-4f75-9f5e-b4e2ba9c81c0",
   "metadata": {
    "tags": []
   },
   "source": [
    "Uh-oh, I'm not going to be able to count the heads by summing the array, am I?\n",
    "\n",
    "I'd rather we coded heads and tails as 0 and 1.\n",
    "\n",
    "I could go back and ask ChatGPT again, but maybe I could just slightly change the code to do that?"
   ]
  },
  {
   "cell_type": "code",
   "execution_count": 6,
   "id": "c494e2f1-e7a5-4ea1-b451-4488e4f0559e",
   "metadata": {
    "tags": []
   },
   "outputs": [
    {
     "name": "stdout",
     "output_type": "stream",
     "text": [
      "Coin toss outcomes: [1 0 0 1 1 1 1 0 1 1]\n"
     ]
    }
   ],
   "source": [
    "outcomes = np.random.choice([0,1], size=10)\n",
    "print(\"Coin toss outcomes:\", outcomes)"
   ]
  },
  {
   "cell_type": "code",
   "execution_count": 7,
   "id": "99bb5aa5-1a61-4707-9853-278da85d1e7e",
   "metadata": {
    "tags": []
   },
   "outputs": [
    {
     "data": {
      "text/plain": [
       "7"
      ]
     },
     "execution_count": 7,
     "metadata": {},
     "output_type": "execute_result"
    }
   ],
   "source": [
    "sum(outcomes)"
   ]
  },
  {
   "cell_type": "markdown",
   "id": "c3c627e1-b192-4e68-98c1-e3947a420b7d",
   "metadata": {
    "tags": []
   },
   "source": [
    "Hurrah!\n",
    "\n",
    "#### Comprehension question\n",
    "\n",
    "* What is wrong with the following code?\n",
    "* What would happen if I try to count the heads by taking the sum of the outcomes?"
   ]
  },
  {
   "cell_type": "code",
   "execution_count": 8,
   "id": "df5bdc5f-6cf3-4054-9561-b5ce0890a119",
   "metadata": {
    "tags": []
   },
   "outputs": [
    {
     "name": "stdout",
     "output_type": "stream",
     "text": [
      "Coin toss outcomes: ['1' '0' '1' '1' '0' '1' '0' '0' '1' '0']\n"
     ]
    }
   ],
   "source": [
    "outcomes = np.random.choice(['0','1'], size=10)\n",
    "print(\"Coin toss outcomes:\", outcomes)"
   ]
  },
  {
   "cell_type": "markdown",
   "id": "f7d56e7b-7a01-4bfa-822e-442baac141ec",
   "metadata": {
    "tags": []
   },
   "source": [
    "## Conclusion\n",
    "\n",
    "Chat GPT can really help with this coding task, but you may need to make some tweaks to get exactly what you want. \n",
    "\n",
    "It can be very helpful, BUT in order to make use of it you will need to be able to *read* the code it outputs - this course should give you that ability.\n",
    "\n",
    "<img src=\"https://raw.githubusercontent.com/jillxoreilly/StatsCourseBook_2024/main/images/MT_wk0_ChatGPTbye.png\" width=100% />\n",
    "\n"
   ]
  },
  {
   "cell_type": "markdown",
   "id": "77d121aa-bfc3-4a32-a15b-332ff4580028",
   "metadata": {
    "tags": []
   },
   "source": [
    "Aw, what a ray of sunshine. \n",
    "\n",
    "I don't think it's plotting to take over the world and enslave us all, do you?\n",
    "\n",
    "*Thanks to David Hays for suggesting this exercise*"
   ]
  },
  {
   "cell_type": "code",
   "execution_count": null,
   "id": "af89f3f9-f98a-4d67-a924-ebcdeeba153e",
   "metadata": {
    "tags": []
   },
   "outputs": [],
   "source": []
  },
  {
   "cell_type": "code",
   "execution_count": null,
   "id": "84dc2dff-f749-4b1c-ba88-c9dc506558e6",
   "metadata": {},
   "outputs": [],
   "source": []
  }
 ],
 "metadata": {
  "kernelspec": {
   "display_name": "Python 3 (ipykernel)",
   "language": "python",
   "name": "python3"
  },
  "language_info": {
   "codemirror_mode": {
    "name": "ipython",
    "version": 3
   },
   "file_extension": ".py",
   "mimetype": "text/x-python",
   "name": "python",
   "nbconvert_exporter": "python",
   "pygments_lexer": "ipython3",
   "version": "3.9.18"
  }
 },
 "nbformat": 4,
 "nbformat_minor": 5
}