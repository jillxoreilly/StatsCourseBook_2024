{
 "cells": [
  {
   "cell_type": "markdown",
   "id": "054c5bf1-7dda-4520-94da-ae5873bcd407",
   "metadata": {},
   "source": [
    "# Simulating a random process\n",
    "\n",
    "In statistics we are interested in understanding how random variability affects a measurement.\n",
    "\n",
    "For example, a person takes a multiple choice style IQ test. Their score will reflect their true IQ, bubt also some elment of random chance (they will have guessed the questions they couldn't answer, and may have been lucky or unlucky in terms of how many guesses were correct).\n",
    "\n",
    "As we will see in the course, randomness has predictable properties (!), for example, the influecne of randomm chance tends to average out over lots of measurements (you might be lucky and guess 3/3 questions correctly, but not 100/100)\n",
    "\n",
    "To understand the impact of randomess on our measureents, we can simulate a random process. That is what we will do in the next section."
   ]
  },
  {
   "cell_type": "markdown",
   "id": "6d6563df-e261-4b3d-9c48-9865d6cb621c",
   "metadata": {},
   "source": [
    "### Set up Python libraries\n",
    "\n",
    "As usual, run the code cell below to import the relevant Python libraries"
   ]
  },
  {
   "cell_type": "code",
   "execution_count": 1,
   "id": "966e95fd-0dc9-4868-9ff9-6a901bad3728",
   "metadata": {
    "tags": []
   },
   "outputs": [],
   "source": [
    "# Set-up Python libraries - you need to run this but you don't need to change it\n",
    "import numpy as np\n",
    "import matplotlib.pyplot as plt\n",
    "import scipy.stats as stats\n",
    "import pandas as pd\n",
    "import seaborn as sns\n",
    "sns.set_theme(style='white')\n",
    "import statsmodels.api as sm\n",
    "import statsmodels.formula.api as smf"
   ]
  },
  {
   "cell_type": "markdown",
   "id": "48cbf2b8-832c-42f1-abb4-b84d5de37dee",
   "metadata": {},
   "source": [
    "## Random number\n",
    "\n",
    "We can ask the computer to generate a random number. The `np.random()` library is good for this!\n",
    "\n",
    "For example, the following code block generates a random integer between 0 and 9.\n",
    "* Run the code block a few times - you should get a different random number in the range [0,10) (ie 0-9 inclusive) each time"
   ]
  },
  {
   "cell_type": "code",
   "execution_count": 2,
   "id": "3f2bebab-a689-48b1-95ea-3dc7b2cf8443",
   "metadata": {
    "tags": []
   },
   "outputs": [
    {
     "data": {
      "text/plain": [
       "6"
      ]
     },
     "execution_count": 2,
     "metadata": {},
     "output_type": "execute_result"
    }
   ],
   "source": [
    "np.random.randint(0,10)"
   ]
  },
  {
   "cell_type": "markdown",
   "id": "5dd363ac-4a52-4378-8b21-600d0457f2ce",
   "metadata": {},
   "source": [
    "Of course we can make a loop to give us a few such random numbers - uncomment and complete the code block below"
   ]
  },
  {
   "cell_type": "code",
   "execution_count": 3,
   "id": "57bfd19c-76e9-423a-b568-872bc2b00d4e",
   "metadata": {
    "tags": []
   },
   "outputs": [],
   "source": [
    "#n=100 # we will generate n random numbers\n",
    "#MyRandomNumbers = np.empty(n) # create the output array\n",
    "\n",
    "#for i in range(n):\n",
    "#    YOUR CODE HERE\n",
    "    \n",
    "#print(MyRandomNumbers)"
   ]
  },
  {
   "cell_type": "markdown",
   "id": "5c1ee352-9298-4c32-9c0f-fdfbf6a0afc4",
   "metadata": {
    "tags": []
   },
   "source": [
    "# Simulated coin flip\n",
    "\n",
    "A random number can act as a model for a real world process.\n",
    "\n",
    "For example, if we flip a fair coin, the chance of getting 'heads' is 0.5.\n",
    "\n",
    "If we pick a random integer in the range <tt>[0,2)</tt> (ie, we pick <tt>0</tt> or <tt>1</tt>), the chance of getting <tt>1</tt> is 0.5.\n",
    "\n",
    "We can think of this particular random number generator (in the range <tt>[0,2)</tt>) as a model for the coin toss, in that the chance of getting, say, 8/10 'heads' if we really tossed the coin is the same as getting 8/10 <tt>1</tt>'s from the random number generator.\n",
    "\n",
    "* Run the code below a few times - the list of random 'coin toss outcomes' should change each time"
   ]
  },
  {
   "cell_type": "code",
   "execution_count": 4,
   "id": "3412c6b9-f3c1-4c83-abc9-e0b4fec073d3",
   "metadata": {
    "tags": []
   },
   "outputs": [
    {
     "name": "stdout",
     "output_type": "stream",
     "text": [
      "HEADS\n",
      "HEADS\n",
      "HEADS\n",
      "TAILS\n",
      "TAILS\n",
      "TAILS\n",
      "HEADS\n",
      "TAILS\n",
      "HEADS\n",
      "TAILS\n"
     ]
    }
   ],
   "source": [
    "n=10\n",
    "\n",
    "for i in range(n):\n",
    "    if np.random.randint(0,2)==0:\n",
    "        print('HEADS')\n",
    "    else:\n",
    "        print('TAILS')\n"
   ]
  },
  {
   "cell_type": "markdown",
   "id": "b921968c-d89f-4edb-a0da-3a38cc9b2063",
   "metadata": {},
   "source": [
    "### Count the heads\n",
    "\n",
    "Ultimately we might not be so interested in the whole sequence as some summary of it - for example how likely is it that we can get 8/10 'heads' for a fair coin?\n",
    "\n",
    "* Uncomment the code below and modify it so that it fills up the output array 'heads' with 1s and 0s according to the random 'coin toss'"
   ]
  },
  {
   "cell_type": "code",
   "execution_count": 5,
   "id": "db9b471e-d087-4cfc-9385-e942cd4a781d",
   "metadata": {
    "tags": []
   },
   "outputs": [
    {
     "name": "stdout",
     "output_type": "stream",
     "text": [
      "1.0\n"
     ]
    }
   ],
   "source": [
    "n=10\n",
    "heads = np.empty(n)\n",
    "\n",
    "for i in range(n):\n",
    "    if np.random.randint(0,2)==0:\n",
    "        heads[i]=1\n",
    "    else:\n",
    "        heads[i]=0\n",
    "        \n",
    "print(sum(heads))"
   ]
  },
  {
   "cell_type": "markdown",
   "id": "809aa4f7-69ec-4669-b5a7-6711ab2bf07b",
   "metadata": {
    "tags": []
   },
   "source": [
    "If you run your code multiple times you should find that the number of heads varies, although you will more often get values near to 5/10 (as the coin is fair) than extreme values (such as 9/10 or 1/10)\n",
    "\n",
    "There are two differences from the previous example:\n",
    "* We code the outputs as <tt>1</tt> and <tt>0</tt>, rather than the strings <tt>HEADS</tt> and <tt>TAILS</tt>\n",
    "* We store the outcomes in a `numpy` array (rather than printing them to the screen)\n",
    "    * This array is later summed to count the number of heads:"
   ]
  },
  {
   "cell_type": "code",
   "execution_count": 6,
   "id": "e8c2a7d7-59d8-45cf-87ca-06830d3f639c",
   "metadata": {
    "tags": []
   },
   "outputs": [
    {
     "name": "stdout",
     "output_type": "stream",
     "text": [
      "output array: [0. 0. 0. 1. 0. 0. 0. 0. 0. 0.]\n",
      "sum = 1.0\n"
     ]
    }
   ],
   "source": [
    "print('output array: ' + str(heads))\n",
    "print('sum = ' + str(sum(heads)))"
   ]
  },
  {
   "cell_type": "markdown",
   "id": "7908682d-790d-4385-ad81-cfad0572420e",
   "metadata": {},
   "source": []
  },
  {
   "cell_type": "markdown",
   "id": "7586570d-d6c1-4e3d-9da0-dfdb7757e78b",
   "metadata": {},
   "source": [
    "## Double loop\n",
    "\n",
    "What if we are interested in how much more often we get a 'close-to-even' outcome (4/10, 5/10, 6/10) vs an extreme outcome?\n",
    "\n",
    "We need to run the 10-coin-toss simulation lots of times and note how any heads we got (out of 10) each time.\n",
    "\n",
    "* Each time we simulate 10 coin tosses and count the number of heads is one 'repetition' of the simulation\n",
    "\n",
    "Above, you created *repetitions* informally by running the code block above any times. \n",
    "\n",
    "We can actually make a loop *around our loop* to do this automatically!\n",
    "\n",
    "\n"
   ]
  },
  {
   "cell_type": "code",
   "execution_count": 7,
   "id": "e155d494-e282-4aa9-91fa-d886b172d72e",
   "metadata": {
    "tags": []
   },
   "outputs": [
    {
     "data": {
      "image/png": "[encoded data removed]",
      "text/plain": [
       "<Figure size 640x480 with 1 Axes>"
      ]
     },
     "metadata": {},
     "output_type": "display_data"
    }
   ],
   "source": [
    "reps = 1000 # how mmany times will we repeat our 10-coin-toss simulation?\n",
    "nHeads = np.empty(reps)\n",
    "\n",
    "for j in range(reps):\n",
    "    n=10\n",
    "    heads = np.empty(n)\n",
    "\n",
    "    for i in range(n):\n",
    "        if np.random.randint(0,2)==0:\n",
    "            heads[i]=1\n",
    "        else:\n",
    "            heads[i]=0\n",
    "        \n",
    "    nHeads[j]=sum(heads)\n",
    "    \n",
    "# histogram of the number of repetitions in which 0,1,2... etc heads were obtained    \n",
    "sns.histplot(nHeads, bins=np.arange(-0.5,10.5,1))\n",
    "plt.xlim(0,11)\n",
    "plt.xlabel('number of heads')\n",
    "plt.show()\n",
    "    "
   ]
  },
  {
   "cell_type": "markdown",
   "id": "a90fa0f4-4c51-4c2d-8b25-20164b25cc38",
   "metadata": {
    "tags": []
   },
   "source": [
    "Indeed, the fairer outcomes are more likely"
   ]
  },
  {
   "cell_type": "markdown",
   "id": "c7a49502-4838-4596-a426-a1e8d3ae8c87",
   "metadata": {
    "tags": []
   },
   "source": [
    "### Comprehension questions\n",
    "\n",
    "**a. In the douple loop we have two counter variables, <tt>i</tt> and <tt>j</tt>...**\n",
    "\n",
    "* Which counter variable keeps track of our position within the run of 10 coin tosses?\n",
    "* Which counter variable keeps track of how many *repetitions* of the simulation we ran?\n",
    "\n",
    "**b. At the end of the simulation, what are the values of <tt>i</tt> and <tt>j</tt>?**\n",
    "* Think then uncomment the code below and check!"
   ]
  },
  {
   "cell_type": "code",
   "execution_count": 8,
   "id": "fa07df25-cbf3-4df7-83ed-36258485b917",
   "metadata": {
    "tags": []
   },
   "outputs": [],
   "source": [
    "# print('i:' + str(i))\n",
    "# print('j:' + str(j))"
   ]
  },
  {
   "cell_type": "markdown",
   "id": "76f871dc-c9e8-424f-a98c-cd03d0f5bccb",
   "metadata": {},
   "source": [
    "Remember in Python we count from zero (soooo confusing!)"
   ]
  },
  {
   "cell_type": "markdown",
   "id": "f2cc5682-e464-4b71-a31c-d1eb6bda1882",
   "metadata": {},
   "source": [
    "## Exercise: Galton Board simulation\n",
    "\n",
    "In the Galton Board, ball bearings are dropped from a funnel onto a board with pins sticking out.\n",
    "\n",
    "As each ball bearing goes down the board, each time it hits a pin it bounces left or right:\n",
    "\n",
    "<img src=\"https://raw.githubusercontent.com/jillxoreilly/StatsCourseBook_2024/main/images/MT_wk1_GaltonBoard.jpg\" width=30% />\n",
    "\n",
    "\n",
    "The ball's ultimate horizontal position depends upon how many times it (randomly) bounces left or right. \n",
    "* To arrive at the very right hand side of the board, it must bounce rightwards evey time it hits a pin\n",
    "* If the ball bounces leftwards and rightwards equally often, it will land in the centre\n",
    "\n",
    "When a large number of balls are released into the Galton Board, we effectvely have a large number of 'repeats' of the random bouncing process, which reveals that balanced/fair outcomes (with roughly equal numbers of leftwards and rightward bounces) are more likely\n",
    "\n",
    "Here is a nice YouTube video of the Galton board in action:"
   ]
  },
  {
   "cell_type": "code",
   "execution_count": 9,
   "id": "edf8519a-1da4-4a2e-9501-21bf6766a9f0",
   "metadata": {
    "tags": []
   },
   "outputs": [
    {
     "data": {
      "image/jpeg": "[encoded data removed]",
      "text/html": [
       "\n",
       "        <iframe\n",
       "            width=\"400\"\n",
       "            height=\"300\"\n",
       "            src=\"https://www.youtube.com/embed/EvHiee7gs9Y\"\n",
       "            frameborder=\"0\"\n",
       "            allowfullscreen\n",
       "            \n",
       "        ></iframe>\n",
       "        "
      ],
      "text/plain": [
       "<IPython.lib.display.YouTubeVideo at 0x7ffe1a718f10>"
      ]
     },
     "execution_count": 9,
     "metadata": {},
     "output_type": "execute_result"
    }
   ],
   "source": [
    "from IPython.lib.display import YouTubeVideo\n",
    "YouTubeVideo('EvHiee7gs9Y')"
   ]
  },
  {
   "cell_type": "markdown",
   "id": "c5b5da20-53eb-4742-847a-5bb3ebacba00",
   "metadata": {},
   "source": [
    "### Simulate a single ball\n",
    "\n",
    "We start by simulating the trajectory of a single ball. Let's assume out Galton board has 10 rows of pins:"
   ]
  },
  {
   "cell_type": "markdown",
   "id": "a6b6966f-b8f4-4aed-ac29-08e82081ce36",
   "metadata": {
    "tags": []
   },
   "source": [
    "<iframe width=”560\" height=”315\" src=”https://youtu.be/EvHiee7gs9Y?si=OihJCk0ZJQG2l2jk\"></iframe>\n"
   ]
  },
  {
   "cell_type": "code",
   "execution_count": 10,
   "id": "3472a7d1-7b90-4d2a-a98c-9a9f36eab73c",
   "metadata": {
    "tags": []
   },
   "outputs": [
    {
     "data": {
      "image/png": "[encoded data removed]",
      "text/plain": [
       "<Figure size 640x480 with 1 Axes>"
      ]
     },
     "metadata": {},
     "output_type": "display_data"
    }
   ],
   "source": [
    "nPins=10\n",
    "x = np.empty(nPins+1) # we include an extra \"slot\" for the start position, 0\n",
    "\n",
    "x[0]=0 # we start at position x=0\n",
    "\n",
    "for i in range(1,nPins+1): # note the 10 bounces are in positions x[1-10], not x[0-9]\n",
    "    if np.random.randint(0,2) == 0:\n",
    "        x[i]=x[i-1]+1 # bounce right - increase x by 1\n",
    "    else:\n",
    "        x[i]=x[i-1]-1 # bounce left - decrease x by 1\n",
    "\n",
    "y=range(nPins+1, 0, -1)\n",
    "\n",
    "# plot the trajectory of the ball\n",
    "plt.plot(x, y, 'k.-', alpha=0.1)\n",
    "plt.xlim(-10,10)\n",
    "plt.xlabel('horizontal position of ball')\n",
    "plt.ylabel('vertical position of ball (pins)')\n",
    "plt.show()"
   ]
  },
  {
   "cell_type": "markdown",
   "id": "24f1629f-977e-4708-b4bb-ccd3cf78994c",
   "metadata": {
    "tags": []
   },
   "source": [
    "If you run the code block above a few times, you should see the simulated trajectory change each time\n",
    "\n",
    "### Comprehension Questions\n",
    "\n",
    "**a. What are we doing with the code `x=np.empty(nPins)`?**\n",
    "\n",
    "**b. What is the size of <tt>x</tt>**?\n",
    "* Think then check!"
   ]
  },
  {
   "cell_type": "code",
   "execution_count": 11,
   "id": "aeca245e-9ea8-4ce8-a584-45a69bf6ff7f",
   "metadata": {
    "tags": []
   },
   "outputs": [],
   "source": [
    "# len(x)"
   ]
  },
  {
   "cell_type": "markdown",
   "id": "70d997ad-91a8-40cd-9987-ceeeaaaa633f",
   "metadata": {
    "tags": []
   },
   "source": [
    "**c. What is the size of y?**\n",
    "* Think then write your own code to check!"
   ]
  },
  {
   "cell_type": "code",
   "execution_count": 12,
   "id": "74bf0945-9517-4d8a-bb80-b523efb4515a",
   "metadata": {
    "tags": []
   },
   "outputs": [],
   "source": [
    "# YOUR CODE HERE"
   ]
  },
  {
   "cell_type": "markdown",
   "id": "1720abf4-01af-40d5-98ed-5b47191524f3",
   "metadata": {
    "tags": []
   },
   "source": [
    "**d. In this simulation, each value in the array <tt>x</tt> records the horizontal position of the ball.**\n",
    "* What are the possible values in array <tt>x</tt>?\n",
    "* What were the possible values in the array <tt>heads</tt> in the coin toss simmulation?\n",
    "\n",
    "**e. Looking at the plot above, what is the value of x[9]?**\n",
    "* Think then check!\n"
   ]
  },
  {
   "cell_type": "code",
   "execution_count": 13,
   "id": "5422737b-1490-475a-9099-35e201de75e3",
   "metadata": {
    "tags": []
   },
   "outputs": [],
   "source": [
    "# x[9]"
   ]
  },
  {
   "cell_type": "markdown",
   "id": "1992e1f2-61e3-4709-8a88-ec323aea4c1c",
   "metadata": {
    "tags": []
   },
   "source": [
    "**f. Can you explain what is similar about the the coin toss and Galton Board simulations, and what is different?**\n",
    "* **answer** - \n",
    "    * The Galton board simulation is cumulative (we keep track of hthe total number of leftwardss- and rightwards- bounces so far)\n",
    "    * This allows us to plot the trajectory\n",
    "    * The coin toss simulation we recoprd each outcome separately and add them up at the end\n",
    "\n",
    "However, on a deep level the two simulations are related - \n",
    "* Ultimately, the distribution of end points on the Galton board will have the same shape as the distribution of number of heads!\n",
    "\n"
   ]
  },
  {
   "cell_type": "markdown",
   "id": "aae76ac5-25ea-46a2-979d-16712e9bed50",
   "metadata": {
    "tags": []
   },
   "source": [
    "## Double Loop\n",
    "\n",
    "The point of the Galton Board is to release lots of ball bearings and observe where they are omre *likely* to end up\n",
    "\n",
    "To simulate this we create an outer loop that runs our one-ball simmulation many times\n",
    "\n",
    "If you are feeling adventurous, you can try yourself to complete the second loop around the outside of the code below! \n",
    "* fill in the sections marked \".....\"\n",
    "* If you don't fancy it, you can skip ahead to the pre-coded solution"
   ]
  },
  {
   "cell_type": "code",
   "execution_count": 14,
   "id": "4ee086e0-91c4-491c-a183-d3fca966dcfd",
   "metadata": {
    "tags": []
   },
   "outputs": [],
   "source": [
    "#reps = 40 # how mmny times will we repeat our single-ball simulation?\n",
    "#finalPos = ...... # array to store the final horiontal positions\n",
    "\n",
    "#for j ......\n",
    "#    nPins=10\n",
    "#    x = np.empty(nPins+1)\n",
    "\n",
    "#    x[0]=0 # we start at position x=0\n",
    "\n",
    "#    for i in range(1,nPins+1):\n",
    "#        if np.random.randint(0,2) == 0:\n",
    "#            x[i]=x[i-1]+1 # bounce right - increase x by 1\n",
    "#        else:\n",
    "#            x[i]=x[i-1]-1 # bounce left - decrease x by 1\n",
    "\n",
    "#    y=range(nPins+1, 0, -1)\n",
    "\n",
    "#    # plot the trajectory of the ball\n",
    "#    plt.plot(x, y, 'k.-', alpha=0.1)\n",
    "    \n",
    "#    finalPos[j]=x[nPins]\n",
    "\n",
    "## Plot the trajectories\n",
    "#plt.xlim(-10,10)\n",
    "#plt.xlabel('horizontal position of ball')\n",
    "#plt.ylabel('vertical position of ball (pins)')\n",
    "#plt.show()\n",
    "    "
   ]
  },
  {
   "cell_type": "markdown",
   "id": "4602e344-bfd6-427e-a952-697e3cf24492",
   "metadata": {},
   "source": [
    "...<br>\n",
    "...<br>\n",
    "...<br>\n",
    "...<br>\n",
    "...<br>\n",
    "...<br>\n",
    "...<br>\n",
    "...<br>\n",
    "...<br>\n",
    "... scroll down for the ready-made answer:\n",
    "...<br>\n",
    "...<br>\n",
    "...<br>\n",
    "...<br>\n",
    "...<br>\n",
    "...<br>\n",
    "...<br>\n",
    "...<br>\n",
    "...<br>\n",
    "...<br>\n",
    "...<br>\n",
    "...<br>"
   ]
  },
  {
   "cell_type": "code",
   "execution_count": 15,
   "id": "ce4a4282-b0be-4a03-8b22-218011cd0e1d",
   "metadata": {
    "tags": []
   },
   "outputs": [
    {
     "data": {
      "image/png": "[encoded data removed]",
      "text/plain": [
       "<Figure size 640x480 with 1 Axes>"
      ]
     },
     "metadata": {},
     "output_type": "display_data"
    }
   ],
   "source": [
    "reps = 25 # how mmny times will we repeat our single-ball simulation?\n",
    "finalPos = np.empty(reps) # array to store the final horiontal positions\n",
    "\n",
    "for j in range(reps):\n",
    "    nPins=10\n",
    "    x = np.empty(nPins+1)\n",
    "\n",
    "    x[0]=0 # we start at position x=0\n",
    "\n",
    "    for i in range(1,nPins+1):\n",
    "        if np.random.randint(0,2) == 0:\n",
    "            x[i]=x[i-1]+1 # bounce right - increase x by 1\n",
    "        else:\n",
    "            x[i]=x[i-1]-1 # bounce left - decrease x by 1\n",
    "\n",
    "    y=range(nPins+1, 0, -1)\n",
    "\n",
    "    # plot the trajectory of the ball\n",
    "    plt.plot(x, y, 'k.-', alpha=0.1)\n",
    "    \n",
    "    finalPos[j]=x[nPins]\n",
    "    \n",
    "plt.xlim(-10,10)\n",
    "plt.xlabel('horizontal position of ball')\n",
    "plt.ylabel('vertical position of ball (pins)')\n",
    "plt.show()\n",
    "    \n"
   ]
  },
  {
   "cell_type": "markdown",
   "id": "708a2ff6-a93a-4b91-927a-6c6a416636d2",
   "metadata": {},
   "source": [
    "The darker lines are places where more than one ball has passed through\n",
    "\n",
    "* Run the simulation a few times - You should get a slightly different set of trajectories each time\n",
    "* You will notice that the balls are most likely to end up near the middle\n",
    "    * This reflects the fact that even mixtures of leftwards- and rightwards- bounces are more likely than extreme cases in which the ball bounces in the same direction all the time\n",
    "    \n",
    "We saved the final postions of the balls in the array <tt>finalPos</tt>, and we can use this to plot a histogram of their final positions:"
   ]
  },
  {
   "cell_type": "code",
   "execution_count": 16,
   "id": "2555a946-2805-4017-9e60-79ebade9edba",
   "metadata": {
    "tags": []
   },
   "outputs": [
    {
     "data": {
      "image/png": "[encoded data removed]",
      "text/plain": [
       "<Figure size 640x480 with 1 Axes>"
      ]
     },
     "metadata": {},
     "output_type": "display_data"
    }
   ],
   "source": [
    "# histogram of the final positions for many balls    \n",
    "sns.histplot(finalPos, bins=np.arange(-10.5,10.5,1))\n",
    "plt.xlim(-11,11), plt.xticks(np.arange(-10,10,5))\n",
    "plt.xlabel('final $x$ positions')\n",
    "plt.show()\n",
    "    "
   ]
  },
  {
   "cell_type": "markdown",
   "id": "251c5018-d87e-404a-93d2-3f1bd9011b89",
   "metadata": {},
   "source": [
    "## Exercises\n",
    "\n",
    "* You may like to increase the number of balls in the simulation - you should get a tidier-looking distribution of end points with more balls\n",
    "* You could try increasing the number of pins. What happens to the histogram of endpoints when you do this?"
   ]
  },
  {
   "cell_type": "markdown",
   "id": "deed711d-b5e0-4388-88dc-0ad4d401cd32",
   "metadata": {},
   "source": [
    "## Significance of the Galton Board simulation\n",
    "\n",
    "The Galton board illustrates how a combination of multiple random influences produces a certain pattern of final outcomes, namely a Normal Distribution.\n",
    "\n",
    "We will meet this idea again in the block on Statistical Theory."
   ]
  },
  {
   "cell_type": "code",
   "execution_count": null,
   "id": "9cd5b912-3dc4-48da-a9a0-8f1153021776",
   "metadata": {},
   "outputs": [],
   "source": []
  }
 ],
 "metadata": {
  "kernelspec": {
   "display_name": "Python 3 (ipykernel)",
   "language": "python",
   "name": "python3"
  },
  "language_info": {
   "codemirror_mode": {
    "name": "ipython",
    "version": 3
   },
   "file_extension": ".py",
   "mimetype": "text/x-python",
   "name": "python",
   "nbconvert_exporter": "python",
   "pygments_lexer": "ipython3",
   "version": "3.9.18"
  }
 },
 "nbformat": 4,
 "nbformat_minor": 5
}