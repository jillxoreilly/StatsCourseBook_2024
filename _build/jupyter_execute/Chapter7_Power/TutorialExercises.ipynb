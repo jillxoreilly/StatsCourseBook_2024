{
 "cells": [
  {
   "cell_type": "markdown",
   "id": "af205e87-8726-4299-9a92-e1ff3379336b",
   "metadata": {},
   "source": [
    "# Tutorial Exercises\n",
    "\n",
    "Here we practice running power analysis"
   ]
  },
  {
   "cell_type": "markdown",
   "id": "7cbbd3e5-2455-4302-879b-65249b1c087d",
   "metadata": {},
   "source": [
    "### Set up Python libraries\n",
    "\n",
    "As usual, run the code cell below to import the relevant Python libraries"
   ]
  },
  {
   "cell_type": "code",
   "execution_count": 1,
   "id": "f51b3014-16cb-4e3f-9056-9f902e53dcfc",
   "metadata": {},
   "outputs": [],
   "source": [
    "# Set-up Python libraries - you need to run this but you don't need to change it\n",
    "import numpy as np\n",
    "import matplotlib.pyplot as plt\n",
    "import scipy.stats as stats\n",
    "import pandas \n",
    "import seaborn as sns\n",
    "import statsmodels.api as sm\n",
    "import statsmodels.formula.api as smf"
   ]
  },
  {
   "cell_type": "markdown",
   "id": "6b1333bc-1878-4d06-9d01-5404b3c1c85c",
   "metadata": {},
   "source": [
    "## Example 1: $t$-test\n",
    "\n",
    "A researcher plans to carry out a study on the effect of Targetted Memory Reactivation (TMR) on recall. TMR is a method in which memory consolidation is facilitated by cueing. For example, a participant studies a list of vocabulary whilst listening to music; if the same music is then played whilst the participant sleeps, performance on a vocab test the next day is improved (yes, this is is actually true).\n",
    "\n",
    "To test the effect of TMR, the researchers will use a within-subjects design in which two lists of vocab are learned with two different music tracks. Only one track will be played during sleep. A $t$-test will be used to compare scores on next-day vocab tests fot the two lists.\n",
    "\n",
    "**a. Design**\n",
    "\n",
    "What kind of design is this and what type of $t$-test will be used?"
   ]
  },
  {
   "cell_type": "markdown",
   "id": "0e139c72-9302-47ac-808d-c7e06cfa6693",
   "metadata": {},
   "source": [
    "*Your answer here*"
   ]
  },
  {
   "cell_type": "markdown",
   "id": "51a3381a-6a65-4dc3-bb3e-cefe55afd8b1",
   "metadata": {},
   "source": [
    "**b. Recover effect size from literature**\n",
    "\n",
    "The researcher looks at a published paper using a similar task, which reports the results of a $t$-test as follows:\n",
    "\n",
    "*There was a significant difference in the number of items recalled between the TMR list and the non-TMR list ($t_{58}=2.94$, p=0.0023; paired samples $t$-test, one tailed)*\n",
    "\n",
    "**i) Sample size**\n",
    "\n",
    "We can work out that the sample size is 59 - how?"
   ]
  },
  {
   "cell_type": "markdown",
   "id": "4b08a3f8-10cc-4835-9fa1-015846d4d610",
   "metadata": {},
   "source": [
    "*Your answer here*"
   ]
  },
  {
   "cell_type": "markdown",
   "id": "3a306be7-4fb7-4a3d-a065-d8ac6536f00c",
   "metadata": {},
   "source": [
    "**ii) $d$ from $t$**\n",
    "\n",
    "Use the equation (see previous pages) to obtain Cohen's $d$ from the $t$-score"
   ]
  },
  {
   "cell_type": "code",
   "execution_count": 2,
   "id": "a3553b91-b49f-4187-9f89-dbda2969da62",
   "metadata": {
    "tags": []
   },
   "outputs": [],
   "source": [
    "# Your code here"
   ]
  },
  {
   "cell_type": "markdown",
   "id": "ee70eec2-a942-4477-8efc-c5ded47172bf",
   "metadata": {},
   "source": [
    "You should find d=0.38\n",
    "\n",
    "**c. Conduct power analysis**\n",
    "\n",
    "Use the built-in power analysis function in `statsmodels` to work out what sample size we need to get a power of 80%, testing at the $\\alpha=0.05$ level (one tailed)"
   ]
  },
  {
   "cell_type": "code",
   "execution_count": 3,
   "id": "a20e9ffb-86ac-4fdb-89d0-ef1477ff0c70",
   "metadata": {
    "tags": []
   },
   "outputs": [],
   "source": [
    "# Your code here"
   ]
  },
  {
   "cell_type": "markdown",
   "id": "bf4fc69b-dd14-4e93-864c-bd39a90aade5",
   "metadata": {},
   "source": [
    "You should find that you need 44 participants."
   ]
  },
  {
   "cell_type": "markdown",
   "id": "966fb587-75d7-4ca9-9d89-53a6e09094ad",
   "metadata": {},
   "source": [
    "**d. Post hoc power analysis**\n",
    "\n",
    "Say the researcher has already run the study with 25 participants (oh dear). What is the power of the study?"
   ]
  },
  {
   "cell_type": "code",
   "execution_count": 4,
   "id": "06fb7667-e62f-45cf-8653-6577bd9fcd0a",
   "metadata": {
    "tags": []
   },
   "outputs": [],
   "source": [
    "# Your code here"
   ]
  },
  {
   "cell_type": "markdown",
   "id": "e371be96-7489-47e4-a05c-88528cbf110f",
   "metadata": {
    "tags": []
   },
   "source": [
    "You should find the power is 50%. So there is only a 50% chance that we would detect a statistically significant effect of TMR, even if there is indeed an underlying effect."
   ]
  },
  {
   "cell_type": "markdown",
   "id": "c9d23854-18d8-4eed-ae4b-382ccdc95e57",
   "metadata": {},
   "source": [
    "### Example 2: t-test\n",
    "\n",
    "A researcher compares the tail length of mice from islands A and B. He reports the findings as follows:\n",
    "\n",
    "\n",
    "*The tails of mice on island B (n=22) were significantly shorter than those on island A (n=30); $t_{50}=-2.03, p=0.047$, independent samples t-test, two-tailed.*\n",
    "\n",
    "**a. Recover effect size**\n",
    "\n",
    "What is the effect size, Cohen's $d$?"
   ]
  },
  {
   "cell_type": "code",
   "execution_count": 5,
   "id": "24dc2b2e-3e38-4d0a-b519-980416ec6301",
   "metadata": {
    "tags": []
   },
   "outputs": [],
   "source": [
    "# Your code here"
   ]
  },
  {
   "cell_type": "markdown",
   "id": "12ddfb7c-1206-4539-b55a-5971c1fa8185",
   "metadata": {
    "tags": []
   },
   "source": [
    "You should have found an effect size of 0.57.\n",
    "\n",
    "**b. Was the study sufficiently powered?**\n",
    "\n",
    "Run a power analysis to find the power of the study when using $\\alpha=0.05$"
   ]
  },
  {
   "cell_type": "code",
   "execution_count": 6,
   "id": "11e6ac9c-8fde-45ba-9d25-7fc535da5a0f",
   "metadata": {
    "tags": []
   },
   "outputs": [],
   "source": [
    "# Your code here"
   ]
  },
  {
   "cell_type": "markdown",
   "id": "5836654b-dd4e-436b-a59c-5d1abe5dc1b5",
   "metadata": {},
   "source": [
    "You should find the power is 51%, so the study was rather under powered.\n",
    "\n",
    "**c. What sample size is necessary for a properly powered study?**\n",
    "\n",
    "The researcher decides to run a new, larger study. What sample size is required to achieve 80% power? Assume equal numbers of mice in each sample."
   ]
  },
  {
   "cell_type": "code",
   "execution_count": 7,
   "id": "da795b9c-d8e6-417d-a610-33b65ab173c6",
   "metadata": {
    "tags": []
   },
   "outputs": [],
   "source": [
    "# Your code here"
   ]
  },
  {
   "cell_type": "markdown",
   "id": "ed170d9f-4239-46f9-888a-b0247702c985",
   "metadata": {},
   "source": [
    "You should find that you need 70 mice per sample for 80% power."
   ]
  },
  {
   "cell_type": "markdown",
   "id": "81965212-c8d3-44d8-99bd-11c37c8eb10a",
   "metadata": {},
   "source": [
    "### Example 3: Correlation\n",
    "\n",
    "In a <a href=\"https://pubmed.ncbi.nlm.nih.gov/15335336/\">sample of newlywed couples</a> in Iowa in 2004, IQ was found to be correlated between husbands and wives $r=0.42, n=276$ couples.\n",
    "\n",
    "A researcher would like to know if this is also true in Oxford in the current time.\n",
    "\n",
    "**a.Effect size**\n",
    "\n",
    "What is the effect size for the original study?"
   ]
  },
  {
   "cell_type": "markdown",
   "id": "9793e220-467e-4581-aa37-1155412a59ff",
   "metadata": {
    "tags": []
   },
   "source": [
    "*Your text here*\n"
   ]
  },
  {
   "cell_type": "markdown",
   "id": "ea030f83-de6d-4fe1-a745-3d50a196c7b5",
   "metadata": {},
   "source": [
    "**b. Convert $r$ to $t$**\n",
    "\n",
    "To run a power analysis on a correlation using `statsmodels`, we need to convert our correlation to a $t$-score. Look up the equation in the notes and implement it in the code block below to obtain $t$."
   ]
  },
  {
   "cell_type": "code",
   "execution_count": 8,
   "id": "6e967b73-f0fc-417f-90bd-57d179b4441d",
   "metadata": {
    "tags": []
   },
   "outputs": [],
   "source": [
    "# Your code here"
   ]
  },
  {
   "cell_type": "markdown",
   "id": "061ab476-e445-4413-8c6a-a2b056c7c557",
   "metadata": {},
   "source": [
    "You should find $t$=7.66\n",
    "\n",
    "**c. Obtain Cohen's $d$**\n",
    "\n",
    "Convert the $t$ score to a $d$ value"
   ]
  },
  {
   "cell_type": "code",
   "execution_count": 9,
   "id": "a3ece0d6-6d01-4dcf-8e21-d87aa484021b",
   "metadata": {
    "tags": []
   },
   "outputs": [],
   "source": [
    "# Your code here"
   ]
  },
  {
   "cell_type": "markdown",
   "id": "9e95524d-c776-41e8-bbd3-073081483a87",
   "metadata": {},
   "source": [
    "**d. Power analysis**\n",
    "\n",
    "We can now use the power analysis for a paired $t$-test, on our $d$ value.\n",
    "\n",
    "Work out the sample size required for 80% power. \n",
    "\n",
    "You will have to decide if the test is one-tailed or two-tailed (do we expect only positive correlations, or positive and negative?)"
   ]
  },
  {
   "cell_type": "code",
   "execution_count": 10,
   "id": "af54b37e-2ba0-4ffc-a457-38307e83916f",
   "metadata": {
    "tags": []
   },
   "outputs": [],
   "source": [
    "# Your code here"
   ]
  },
  {
   "cell_type": "code",
   "execution_count": null,
   "id": "5ddfa199-1942-4a9b-b1bb-8414d8ef5229",
   "metadata": {},
   "outputs": [],
   "source": []
  }
 ],
 "metadata": {
  "kernelspec": {
   "display_name": "Python 3 (ipykernel)",
   "language": "python",
   "name": "python3"
  },
  "language_info": {
   "codemirror_mode": {
    "name": "ipython",
    "version": 3
   },
   "file_extension": ".py",
   "mimetype": "text/x-python",
   "name": "python",
   "nbconvert_exporter": "python",
   "pygments_lexer": "ipython3",
   "version": "3.9.18"
  }
 },
 "nbformat": 4,
 "nbformat_minor": 5
}