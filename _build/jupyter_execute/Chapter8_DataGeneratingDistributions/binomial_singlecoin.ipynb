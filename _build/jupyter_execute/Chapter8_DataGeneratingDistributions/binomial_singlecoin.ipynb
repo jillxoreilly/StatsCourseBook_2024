{
 "cells": [
  {
   "cell_type": "markdown",
   "id": "0e37fdf8",
   "metadata": {},
   "source": [
    "# Simulated coin toss\n",
    "\n",
    "To get a feel for how likely different outcomes are, we are going to <i>simulate the data generating process</i>\n",
    "\n",
    "<img src= \"https://raw.githubusercontent.com/jillxoreilly/StatsCourseBook_2024/main/images/Minion_what.jpg\" width=\"15%\"  />\n",
    "\n",
    "Here is an example of how we could <i>simulate the data generating process</i> in real life:\n",
    "\n",
    "To work out how likely we are to get 5 heads out of 10 coin tosses, we could...\n",
    "\n",
    "* get a real coin (but who has cash on them these days?)\n",
    "* assume it is fair ($p = 0.5$)\n",
    "* toss it 10 times (because $n = 10$)\n",
    "* count the number of heads ($k$)\n",
    "\n",
    "... \n",
    "\n",
    "Then we could **repeat the whole process many times (say, 100 times)** and count how often we get exactly 5 heads.\n",
    "\n",
    "Or.... we could get the computer to do that. \n",
    "\n",
    "Yes, let's get the computer to do it. That will be less hassle."
   ]
  },
  {
   "cell_type": "markdown",
   "id": "af044da5",
   "metadata": {},
   "source": [
    "### Set up Python libraries\n",
    "\n",
    "As usual, run the code cell below to import the relevant Python libraries"
   ]
  },
  {
   "cell_type": "code",
   "execution_count": 1,
   "id": "298df5d3",
   "metadata": {},
   "outputs": [],
   "source": [
    "# Set-up Python libraries - you need to run this but you don't need to change it\n",
    "import numpy as np\n",
    "import matplotlib.pyplot as plt\n",
    "import scipy.stats as stats\n",
    "import pandas \n",
    "import seaborn as sns\n",
    "import statsmodels.api as sm\n",
    "import statsmodels.formula.api as smf"
   ]
  },
  {
   "cell_type": "markdown",
   "id": "8fa9e955",
   "metadata": {},
   "source": [
    "### Simulate a single coin toss\n",
    "\n",
    "The computer doesn't really toss a coin. \n",
    "\n",
    "It does something mathematically equivalent, namely generates a random number called `x` and applies a test to it that will give a \"hit\" a certain proportion of the time, defined by $p$. \n",
    "\n",
    "If the outcome is a hit,\n",
    "the value of the variable `hit` is set to 1, otherwise `hit` is set to zero\n",
    "\n",
    "**Generate a random number**\n",
    "\n",
    "Try running the code block below several times and see if you understand what it does. "
   ]
  },
  {
   "cell_type": "code",
   "execution_count": 2,
   "id": "f9e55b39",
   "metadata": {},
   "outputs": [
    {
     "name": "stdout",
     "output_type": "stream",
     "text": [
      "value of random number:  0.2255396862063016\n"
     ]
    }
   ],
   "source": [
    "# generate a random number between 0 and 1\n",
    "x = np.random.uniform(0,1)\n",
    "print('value of random number:  ' + str(x))"
   ]
  },
  {
   "cell_type": "markdown",
   "id": "8246d71c",
   "metadata": {},
   "source": [
    "What happened?\n",
    "\n",
    "We used numpy's random number generator (np.random) to get a number (with decimal places) between 0 and 1. The numbers are drawn from a uniform distribution, which means that any number between 0 and 1 is equally likely.\n",
    "\n",
    "Re-run the code block above a few times - you should get a different random number every time. \n",
    "\n",
    "The next code block uses the argument `size=10000` to generate 10000 of these random numbers; we then plot their distribution in a histogram (hopefully you can see how all values between 0 and 1 and equally likely):"
   ]
  },
  {
   "cell_type": "code",
   "execution_count": 3,
   "id": "18e84900-47af-4c83-b498-3f901f29957e",
   "metadata": {
    "tags": []
   },
   "outputs": [
    {
     "data": {
      "image/png": "[encoded data removed]",
      "text/plain": [
       "<Figure size 640x480 with 1 Axes>"
      ]
     },
     "metadata": {},
     "output_type": "display_data"
    }
   ],
   "source": [
    "x = np.random.uniform(0,1, size=10000)\n",
    "sns.histplot(x, bins=np.arange(0,1.1,0.1))\n",
    "plt.show()"
   ]
  },
  {
   "cell_type": "markdown",
   "id": "8fc03742-0d12-4a9b-8d38-0020b4e87440",
   "metadata": {},
   "source": [
    "**Threshold the random number**\n",
    "\n",
    "How do we convert this to a virtual 'coin toss'? We need to randomly generate \"hits\" and \"misses\" rather than decimal numbers.\n",
    "\n",
    "To do this we simply add a piece of code that checks whether our random number is less than some cut-off value - in this case 0.5, as we should get equal frequencies of random numbers greater than 0.5 and less than 0.5, thus simulating a fair coin.\n",
    "* You will see why we use a cutoff of *less than* $p$ when we set $p$ to a value other than 0.5!\n",
    "\n",
    "Try running the code below a few times - hopefully you can see how the numerical value of `x` converts into a binary hit/miss"
   ]
  },
  {
   "cell_type": "code",
   "execution_count": 4,
   "id": "b16f0648",
   "metadata": {},
   "outputs": [
    {
     "name": "stdout",
     "output_type": "stream",
     "text": [
      "0.4581664918795544\n",
      "is it a hit?:            1\n"
     ]
    }
   ],
   "source": [
    "# check if it is less than p - this should happen on a proportion of trials equal to p\n",
    "x = np.random.uniform(0,1)\n",
    "p=0.5\n",
    "if x<p:\n",
    "    hit = 1\n",
    "else:\n",
    "    hit = 0\n",
    "print(x)\n",
    "print('is it a hit?:            ' + str(hit))"
   ]
  },
  {
   "cell_type": "markdown",
   "id": "a5bde5e0",
   "metadata": {},
   "source": [
    "### Simulate 10 coin tosses\n",
    "\n",
    "In our coin tossing example, we need to toss the coin 10 times ($n=10$) \n",
    "and count how many hits we get ($k=?$)\n",
    "\n",
    "We have already seen that we can generate however many random numbers we like using the argument `size` - `x` becomes a `numpy` array with 10 entries:"
   ]
  },
  {
   "cell_type": "code",
   "execution_count": 5,
   "id": "aff31c89",
   "metadata": {},
   "outputs": [
    {
     "name": "stdout",
     "output_type": "stream",
     "text": [
      "[0.94893698 0.76466793 0.72012033 0.7008666  0.87347018 0.56300804\n",
      " 0.90708296 0.56950284 0.77846658 0.32281948]\n"
     ]
    }
   ],
   "source": [
    "x = np.random.uniform(0,1, size=10)\n",
    "print(x)"
   ]
  },
  {
   "cell_type": "markdown",
   "id": "1ae4cfdb-3deb-4053-8b95-bb3cc615bda4",
   "metadata": {
    "tags": []
   },
   "source": [
    "Now we convert our numbers into hits and misses (or `True/False` or `1/0` values)"
   ]
  },
  {
   "cell_type": "code",
   "execution_count": 6,
   "id": "61fd34d0-d891-4e4d-819c-ea6badc79d1a",
   "metadata": {
    "tags": []
   },
   "outputs": [
    {
     "name": "stdout",
     "output_type": "stream",
     "text": [
      "[False False False False False False False False False  True]\n"
     ]
    }
   ],
   "source": [
    "print(x<p)"
   ]
  },
  {
   "cell_type": "markdown",
   "id": "048980e8",
   "metadata": {},
   "source": [
    "Now we need to check what proportion of values in `x` exceeded $p$ (remembering that a value of `True` above is equivalent to a numerical value of 1, and `False` is equal to zero, so the proportion of `True` elements is just the mean of the array)"
   ]
  },
  {
   "cell_type": "code",
   "execution_count": 7,
   "id": "a32536d6-9a85-435b-9196-c9275a1bb398",
   "metadata": {
    "tags": []
   },
   "outputs": [
    {
     "data": {
      "text/plain": [
       "0.1"
      ]
     },
     "execution_count": 7,
     "metadata": {},
     "output_type": "execute_result"
    }
   ],
   "source": [
    "p=0.5\n",
    "np.mean(x<p)"
   ]
  },
  {
   "cell_type": "markdown",
   "id": "5feed370",
   "metadata": {},
   "source": [
    "### Use a built in function\n",
    "\n",
    "Simulating outcomes is actually something coders do a lot so there is a package for it in `numpy`, called `numpy.random`\n",
    "\n",
    "`numpy.random` draws a random sample from a probability distriution (you have to tell it which distribution to use though - binomial, normal or many more). In this case, the number $k$ of heads in $n$ coin tosses follows the **binomial distribution** as introduced in the lecture:\n",
    "\n",
    "$$ k \\sim \\mathcal{B}(n,p) $$\n",
    "\n",
    "... where $n=10$ and $p=0.5$, ie\n",
    "\n",
    "$$ k \\sim \\mathcal{B}(10,0.5) $$\n",
    "\n",
    "We therefore use <tt>numpy.random.binomial</tt>\n",
    "\n",
    "Let's try - it makes the code a lot more compact"
   ]
  },
  {
   "cell_type": "code",
   "execution_count": 8,
   "id": "11de00d6",
   "metadata": {},
   "outputs": [
    {
     "data": {
      "text/plain": [
       "5"
      ]
     },
     "execution_count": 8,
     "metadata": {},
     "output_type": "execute_result"
    }
   ],
   "source": [
    "np.random.binomial(10,0.5) \n",
    "# generate 10 samples with a 0.5 chance of a hit, and return the number of hits "
   ]
  },
  {
   "cell_type": "markdown",
   "id": "4ea4fda5",
   "metadata": {},
   "source": [
    "The single line of code above does everything that the code blocks in the previouss section did \n",
    "\n",
    "<img src= \"https://raw.githubusercontent.com/jillxoreilly/StatsCourseBook/main/images/Minion_tadaaa.jpg\" width=\"15%\"  />\n"
   ]
  },
  {
   "cell_type": "code",
   "execution_count": null,
   "id": "a13d1cae",
   "metadata": {},
   "outputs": [],
   "source": []
  }
 ],
 "metadata": {
  "kernelspec": {
   "display_name": "Python 3 (ipykernel)",
   "language": "python",
   "name": "python3"
  },
  "language_info": {
   "codemirror_mode": {
    "name": "ipython",
    "version": 3
   },
   "file_extension": ".py",
   "mimetype": "text/x-python",
   "name": "python",
   "nbconvert_exporter": "python",
   "pygments_lexer": "ipython3",
   "version": "3.9.18"
  }
 },
 "nbformat": 4,
 "nbformat_minor": 5
}