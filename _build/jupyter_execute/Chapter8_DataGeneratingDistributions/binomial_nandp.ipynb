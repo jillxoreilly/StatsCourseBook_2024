{
 "cells": [
  {
   "cell_type": "markdown",
   "id": "d0bd4b76",
   "metadata": {},
   "source": [
    "# Changing $n$ and $p$\n",
    "\n",
    "The binomial has two parameters, $n$ and $p$, which together determine the probability of obtaining $k$ hits:\n",
    "\n",
    "$$ k \\sim \\mathcal{B}(n,p) $$\n",
    "\n",
    "What happens to the frequency of each value of k, if we change the probability of a hit $p$, or the number of trials $n$?\n",
    "\n",
    "\n",
    "### Set up Python libraries\n",
    "\n",
    "As usual, run the code cell below to import the relevant Python libraries"
   ]
  },
  {
   "cell_type": "code",
   "execution_count": 1,
   "id": "ea3a47f5-4ed7-49ad-93cc-38af23184527",
   "metadata": {
    "tags": []
   },
   "outputs": [],
   "source": [
    "# Set-up Python libraries - you need to run this but you don't need to change it\n",
    "import numpy as np\n",
    "import matplotlib.pyplot as plt\n",
    "import scipy.stats as stats\n",
    "import pandas \n",
    "import seaborn as sns\n",
    "import statsmodels.api as sm\n",
    "import statsmodels.formula.api as smf"
   ]
  },
  {
   "cell_type": "markdown",
   "id": "2ec529ec",
   "metadata": {},
   "source": [
    "## $p$, probability of a hit\n",
    "\n",
    "Think back to our home-baked code to generate a random number with a probability $p$ of being a hit:"
   ]
  },
  {
   "cell_type": "code",
   "execution_count": 2,
   "id": "fbfe60fd-c946-4310-acfb-3a03451b613d",
   "metadata": {
    "tags": []
   },
   "outputs": [
    {
     "name": "stdout",
     "output_type": "stream",
     "text": [
      "0.7766176643372155\n",
      "is it a hit?:            1\n"
     ]
    }
   ],
   "source": [
    "# check if it is less than p - this should happen on a proportion of trials equal to p\n",
    "x = np.random.uniform(0,1)\n",
    "p=0.5\n",
    "if x>p:\n",
    "    hit = 1\n",
    "else:\n",
    "    hit = 0\n",
    "print(x)\n",
    "print('is it a hit?:            ' + str(hit))"
   ]
  },
  {
   "cell_type": "markdown",
   "id": "3053c690-fb3b-4995-b2c3-9372f5a08fd0",
   "metadata": {
    "tags": []
   },
   "source": [
    "If we change the value of $p$, this changes the proportion of our random $x$'s for which $x<p$ is TRUE:\n",
    "\n",
    "<img src= \"../images/Chp7_pvsx.png\" width=\"95%\"  />\n",
    "\n",
    "* can you see why we used $x<p$ as a 'hit', rather than $x>p$?\n",
    "\n",
    "### Distribution of $k$ depends on $p$\n",
    "\n",
    "But how does changing $p$ affect the values of $k$ we see, when $k$ is the *number of hits* out of $n$ trials ($n$ coin tosses etc)?\n",
    "\n",
    "Here is the code for the simulation again, now with $n$ and $p$ coded as variables rather than *hard coded* as 10 and 0.5\n",
    "\n",
    "* Can you modify it so that p=0.7?\n"
   ]
  },
  {
   "cell_type": "code",
   "execution_count": 3,
   "id": "f5e59a3b",
   "metadata": {
    "tags": []
   },
   "outputs": [
    {
     "data": {
      "image/png": "[encoded data removed]",
      "text/plain": [
       "<Figure size 640x480 with 1 Axes>"
      ]
     },
     "metadata": {},
     "output_type": "display_data"
    }
   ],
   "source": [
    "n=10\n",
    "p=0.5\n",
    "nReps = 10000\n",
    "\n",
    "k = np.random.binomial(n,p, size=nReps)\n",
    "    \n",
    "sns.countplot(x=k, order=range(n+1)) \n",
    "plt.show()"
   ]
  },
  {
   "cell_type": "markdown",
   "id": "0277d987",
   "metadata": {},
   "source": [
    "You should notice after modifying the simulation so that $p=0.7$:\n",
    "* the most common value for k is 7, ie 7/10 hits.\n",
    "* The distribution gets skewed, as we can't have more than 10/10 hits\n",
    "\n",
    "Try some other values of $p$ to get a sense for how changing $p$ affects the distribution of $k$.\n",
    "\n",
    "## Mean of $k$\n",
    "\n",
    "The *expected value* of $k$, ie the mean of $k$ over many repetitions, is given by\n",
    "\n",
    "$$ E(k) = np $$\n",
    "\n",
    "This can be seen by playing around with the values of $p$ (and indeed $n$) in the following code:"
   ]
  },
  {
   "cell_type": "code",
   "execution_count": 4,
   "id": "d5503313",
   "metadata": {
    "tags": []
   },
   "outputs": [
    {
     "name": "stdout",
     "output_type": "stream",
     "text": [
      "mean(k) = 6.9909\n",
      "np = 7.0\n"
     ]
    }
   ],
   "source": [
    "n=10\n",
    "p=0.7\n",
    "nReps = 10000\n",
    "\n",
    "k = np.random.binomial(n,p, size=nReps)\n",
    "    \n",
    "print('mean(k) = ' + str(k.mean()))\n",
    "print('np = ' + str(n*p))"
   ]
  },
  {
   "cell_type": "markdown",
   "id": "63f4daf4",
   "metadata": {},
   "source": [
    "## $n$, number of trials\n",
    "\n",
    "If we increase the number of trials to 100, what happens to the frequency distribution of $k$?\n",
    "\n",
    "Here we modify the simulation so that $n=100$:"
   ]
  },
  {
   "cell_type": "code",
   "execution_count": 5,
   "id": "c8692405",
   "metadata": {
    "tags": []
   },
   "outputs": [
    {
     "data": {
      "image/png": "[encoded data removed]",
      "text/plain": [
       "<Figure size 640x480 with 1 Axes>"
      ]
     },
     "metadata": {},
     "output_type": "display_data"
    }
   ],
   "source": [
    "n=100\n",
    "p=0.5\n",
    "nReps = 10000\n",
    "\n",
    "k = np.random.binomial(n,p, size=nReps)\n",
    "    \n",
    "sns.countplot(x=k, order=range(n+1)) \n",
    "plt.xticks(range(0, n+1, 10));"
   ]
  },
  {
   "cell_type": "markdown",
   "id": "69225782",
   "metadata": {},
   "source": [
    "We can see that the peak of the histogram is where we expect (the most common value of $k$ is 50, $np$) but the spread of the histogram is narrower, compared to the range of possible values for $k$ (0 to $n$) than when $n$ was lower"
   ]
  },
  {
   "cell_type": "markdown",
   "id": "6cc2e623",
   "metadata": {},
   "source": [
    "## Standard deviation of $k$\n",
    "\n",
    "The standard deviation of $k$ (or its expected standard deviation over many repetitions of 10 coin tosses) is given by\n",
    "\n",
    "$$ std(k) = \\sqrt{npq} $$\n",
    "\n",
    "... where $q = (1-p)$\n",
    "\n",
    "This can be seen by playing around with $n$ (and indeed $p$) in the following code block:"
   ]
  },
  {
   "cell_type": "code",
   "execution_count": 6,
   "id": "4ed709b3",
   "metadata": {
    "tags": []
   },
   "outputs": [
    {
     "name": "stdout",
     "output_type": "stream",
     "text": [
      "std(k) = 4.940908576365282\n",
      "sqrt(npq) = 5.0\n"
     ]
    }
   ],
   "source": [
    "n=100\n",
    "p=0.5\n",
    "nReps = 10000\n",
    "\n",
    "k = np.random.binomial(n,p, size=nReps)\n",
    "    \n",
    "print('std(k) = ' + str(k.std()))\n",
    "print('sqrt(npq) = ' + str((n*p*(1-p))**0.5))"
   ]
  },
  {
   "cell_type": "markdown",
   "id": "ccb863fc",
   "metadata": {},
   "source": [
    "## Standard deviation of $k/n$\n",
    "\n",
    "We noted above that that spread of the distribution of $k$, as a proportion of the range of possible values $(0:n)$ decreased as $n$ increased, in other words that the chance of getting a high or low proportion of hits due to chance decreases when $n$ is high (this was discussed in the lecture)\n",
    "\n",
    "The proportion of hits is $k/n$ and its standard deviation is given by\n",
    "\n",
    "$$ \\frac{\\sqrt{pq}}{\\sqrt{n}} $$\n",
    "\n",
    "where $ q = (1-p) $"
   ]
  },
  {
   "cell_type": "markdown",
   "id": "a11e3b7e",
   "metadata": {},
   "source": [
    "This has the interesting consequence that <b>for a given value of p, the standard deviation fo the proportion of hits is proprtional to $\\frac{1}{\\sqrt(n)}$ </b>\n",
    "\n",
    "In other words, as $n$ increases, the proportion of hits I get in a single 'repetition' of the experiment (a single set of 10 coin tosses in our example) conforms more closely to the true value of $p$, the probability of a hit - \n",
    "\n",
    "in other words, my estimate of $p$ gets better\n",
    "\n",
    "but only in proportion to $\\sqrt{n}$ "
   ]
  },
  {
   "cell_type": "code",
   "execution_count": null,
   "id": "38fd21fa",
   "metadata": {},
   "outputs": [],
   "source": []
  }
 ],
 "metadata": {
  "kernelspec": {
   "display_name": "Python 3 (ipykernel)",
   "language": "python",
   "name": "python3"
  },
  "language_info": {
   "codemirror_mode": {
    "name": "ipython",
    "version": 3
   },
   "file_extension": ".py",
   "mimetype": "text/x-python",
   "name": "python",
   "nbconvert_exporter": "python",
   "pygments_lexer": "ipython3",
   "version": "3.9.18"
  }
 },
 "nbformat": 4,
 "nbformat_minor": 5
}