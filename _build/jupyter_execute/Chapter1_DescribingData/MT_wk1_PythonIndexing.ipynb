{
 "cells": [
  {
   "cell_type": "markdown",
   "id": "69252ce6",
   "metadata": {},
   "source": [
    "# Python: Descriptives and Indexing\n",
    "\n",
    "In this notebook we cover some key <tt>Pandas</tt> syntax and functions:\n",
    "\n",
    "* Syntax for getting various descriptive statistics from a `Pandas` dataframe\n",
    "* Syntax for **indexing** a dataframe - finding the rows and columns that you need\n",
    "    * this allows you to get descriptives for specific rows and columns\n",
    "\n",
    "Here we meet **indexing** in the context of descriptive statistics, but indexing is something you will do every single time you write code for data analysis. Incorrect syntax in indexing is the number one biggest source of bugs for student on this course, so it is well worth spending the time to get to grips with it.\n",
    "\n",
    "You absolutely should work through all the exercises in this notebook in advance of the tutorial.\n",
    "\n",
    "## Set up Python Libraries\n",
    "\n",
    "As usual you will need to run this code block to import the relevant Python libraries"
   ]
  },
  {
   "cell_type": "code",
   "execution_count": 1,
   "id": "7420037e",
   "metadata": {
    "tags": []
   },
   "outputs": [],
   "source": [
    "# Set-up Python libraries - you need to run this but you don't need to change it\n",
    "import numpy as np\n",
    "import matplotlib.pyplot as plt\n",
    "import scipy.stats as stats\n",
    "import pandas as pd\n",
    "import seaborn as sns\n",
    "sns.set_theme(style='white')\n",
    "import statsmodels.api as sm\n",
    "import statsmodels.formula.api as smf"
   ]
  },
  {
   "cell_type": "markdown",
   "id": "14d3d992",
   "metadata": {},
   "source": [
    "## Import a dataset to work with\n",
    "\n",
    "We will work with weather data from the Oxford weather station. This code block will read it automatically from the internet."
   ]
  },
  {
   "cell_type": "code",
   "execution_count": 2,
   "id": "53648053",
   "metadata": {
    "tags": []
   },
   "outputs": [
    {
     "data": {
      "text/html": [
       "<div>\n",
       "<style scoped>\n",
       "    .dataframe tbody tr th:only-of-type {\n",
       "        vertical-align: middle;\n",
       "    }\n",
       "\n",
       "    .dataframe tbody tr th {\n",
       "        vertical-align: top;\n",
       "    }\n",
       "\n",
       "    .dataframe thead th {\n",
       "        text-align: right;\n",
       "    }\n",
       "</style>\n",
       "<table border=\"1\" class=\"dataframe\">\n",
       "  <thead>\n",
       "    <tr style=\"text-align: right;\">\n",
       "      <th></th>\n",
       "      <th>YYYY</th>\n",
       "      <th>Month</th>\n",
       "      <th>MM</th>\n",
       "      <th>DD</th>\n",
       "      <th>DD365</th>\n",
       "      <th>Tmax</th>\n",
       "      <th>Tmin</th>\n",
       "      <th>Tmean</th>\n",
       "      <th>Trange</th>\n",
       "      <th>Rainfall_mm</th>\n",
       "    </tr>\n",
       "  </thead>\n",
       "  <tbody>\n",
       "    <tr>\n",
       "      <th>0</th>\n",
       "      <td>1827</td>\n",
       "      <td>Jan</td>\n",
       "      <td>1</td>\n",
       "      <td>1</td>\n",
       "      <td>1</td>\n",
       "      <td>8.3</td>\n",
       "      <td>5.6</td>\n",
       "      <td>7.0</td>\n",
       "      <td>2.7</td>\n",
       "      <td>0.0</td>\n",
       "    </tr>\n",
       "    <tr>\n",
       "      <th>1</th>\n",
       "      <td>1827</td>\n",
       "      <td>Jan</td>\n",
       "      <td>1</td>\n",
       "      <td>2</td>\n",
       "      <td>2</td>\n",
       "      <td>2.2</td>\n",
       "      <td>0.0</td>\n",
       "      <td>1.1</td>\n",
       "      <td>2.2</td>\n",
       "      <td>0.0</td>\n",
       "    </tr>\n",
       "    <tr>\n",
       "      <th>2</th>\n",
       "      <td>1827</td>\n",
       "      <td>Jan</td>\n",
       "      <td>1</td>\n",
       "      <td>3</td>\n",
       "      <td>3</td>\n",
       "      <td>-2.2</td>\n",
       "      <td>-8.3</td>\n",
       "      <td>-5.3</td>\n",
       "      <td>6.1</td>\n",
       "      <td>9.7</td>\n",
       "    </tr>\n",
       "    <tr>\n",
       "      <th>3</th>\n",
       "      <td>1827</td>\n",
       "      <td>Jan</td>\n",
       "      <td>1</td>\n",
       "      <td>4</td>\n",
       "      <td>4</td>\n",
       "      <td>-1.7</td>\n",
       "      <td>-7.8</td>\n",
       "      <td>-4.8</td>\n",
       "      <td>6.1</td>\n",
       "      <td>0.0</td>\n",
       "    </tr>\n",
       "    <tr>\n",
       "      <th>4</th>\n",
       "      <td>1827</td>\n",
       "      <td>Jan</td>\n",
       "      <td>1</td>\n",
       "      <td>5</td>\n",
       "      <td>5</td>\n",
       "      <td>0.0</td>\n",
       "      <td>-10.6</td>\n",
       "      <td>-5.3</td>\n",
       "      <td>10.6</td>\n",
       "      <td>0.0</td>\n",
       "    </tr>\n",
       "    <tr>\n",
       "      <th>...</th>\n",
       "      <td>...</td>\n",
       "      <td>...</td>\n",
       "      <td>...</td>\n",
       "      <td>...</td>\n",
       "      <td>...</td>\n",
       "      <td>...</td>\n",
       "      <td>...</td>\n",
       "      <td>...</td>\n",
       "      <td>...</td>\n",
       "      <td>...</td>\n",
       "    </tr>\n",
       "    <tr>\n",
       "      <th>71338</th>\n",
       "      <td>2022</td>\n",
       "      <td>Apr</td>\n",
       "      <td>4</td>\n",
       "      <td>26</td>\n",
       "      <td>116</td>\n",
       "      <td>15.2</td>\n",
       "      <td>4.1</td>\n",
       "      <td>9.7</td>\n",
       "      <td>11.1</td>\n",
       "      <td>0.0</td>\n",
       "    </tr>\n",
       "    <tr>\n",
       "      <th>71339</th>\n",
       "      <td>2022</td>\n",
       "      <td>Apr</td>\n",
       "      <td>4</td>\n",
       "      <td>27</td>\n",
       "      <td>117</td>\n",
       "      <td>10.7</td>\n",
       "      <td>2.6</td>\n",
       "      <td>6.7</td>\n",
       "      <td>8.1</td>\n",
       "      <td>0.0</td>\n",
       "    </tr>\n",
       "    <tr>\n",
       "      <th>71340</th>\n",
       "      <td>2022</td>\n",
       "      <td>Apr</td>\n",
       "      <td>4</td>\n",
       "      <td>28</td>\n",
       "      <td>118</td>\n",
       "      <td>12.7</td>\n",
       "      <td>3.9</td>\n",
       "      <td>8.3</td>\n",
       "      <td>8.8</td>\n",
       "      <td>0.0</td>\n",
       "    </tr>\n",
       "    <tr>\n",
       "      <th>71341</th>\n",
       "      <td>2022</td>\n",
       "      <td>Apr</td>\n",
       "      <td>4</td>\n",
       "      <td>29</td>\n",
       "      <td>119</td>\n",
       "      <td>11.7</td>\n",
       "      <td>6.7</td>\n",
       "      <td>9.2</td>\n",
       "      <td>5.0</td>\n",
       "      <td>0.0</td>\n",
       "    </tr>\n",
       "    <tr>\n",
       "      <th>71342</th>\n",
       "      <td>2022</td>\n",
       "      <td>Apr</td>\n",
       "      <td>4</td>\n",
       "      <td>30</td>\n",
       "      <td>120</td>\n",
       "      <td>17.6</td>\n",
       "      <td>1.0</td>\n",
       "      <td>9.3</td>\n",
       "      <td>16.6</td>\n",
       "      <td>0.0</td>\n",
       "    </tr>\n",
       "  </tbody>\n",
       "</table>\n",
       "<p>71343 rows × 10 columns</p>\n",
       "</div>"
      ],
      "text/plain": [
       "       YYYY Month  MM  DD  DD365  Tmax  Tmin  Tmean  Trange  Rainfall_mm\n",
       "0      1827   Jan   1   1      1   8.3   5.6    7.0     2.7          0.0\n",
       "1      1827   Jan   1   2      2   2.2   0.0    1.1     2.2          0.0\n",
       "2      1827   Jan   1   3      3  -2.2  -8.3   -5.3     6.1          9.7\n",
       "3      1827   Jan   1   4      4  -1.7  -7.8   -4.8     6.1          0.0\n",
       "4      1827   Jan   1   5      5   0.0 -10.6   -5.3    10.6          0.0\n",
       "...     ...   ...  ..  ..    ...   ...   ...    ...     ...          ...\n",
       "71338  2022   Apr   4  26    116  15.2   4.1    9.7    11.1          0.0\n",
       "71339  2022   Apr   4  27    117  10.7   2.6    6.7     8.1          0.0\n",
       "71340  2022   Apr   4  28    118  12.7   3.9    8.3     8.8          0.0\n",
       "71341  2022   Apr   4  29    119  11.7   6.7    9.2     5.0          0.0\n",
       "71342  2022   Apr   4  30    120  17.6   1.0    9.3    16.6          0.0\n",
       "\n",
       "[71343 rows x 10 columns]"
      ]
     },
     "metadata": {},
     "output_type": "display_data"
    }
   ],
   "source": [
    "weather = pd.read_csv(\"https://raw.githubusercontent.com/jillxoreilly/StatsCourseBook_2024/main/data/OxfordWeather.csv\")\n",
    "display(weather)"
   ]
  },
  {
   "cell_type": "markdown",
   "id": "af6131ce",
   "metadata": {},
   "source": [
    "## Get descriptive statistics\n",
    "\n",
    "We will look at indexing in the context of getting descriptive statistics for the different variables in a dataframe, and/or for a selection of rows.\n",
    "\n",
    "Pandas has a number of built-in functions to get descriptive statistics:\n",
    "    \n",
    "- `df.mean()`   -  gets the mean\n",
    "- `df.median()` - gets the median\n",
    "- `df.var()` - gets the variance\n",
    "- `df.std()` - gets the standard deviation\n",
    "- `df.min()` - gets the minimum value\n",
    "- `df.max()` - gets the maximum value\n",
    "- `df.corr()` - gets the correlation coefficient (Pearson or Spearman)\n",
    "\n",
    "in the function names above, `df` is just a placeholder for \"dataframe\" \n",
    "\n",
    "You can replace `df` with the name of your dataframe (and we need to tell the function to use only columns containing numerical data)\n"
   ]
  },
  {
   "cell_type": "code",
   "execution_count": 3,
   "id": "0e4c6baf",
   "metadata": {
    "tags": []
   },
   "outputs": [
    {
     "data": {
      "text/plain": [
       "YYYY           1924.165174\n",
       "MM                6.516210\n",
       "DD               15.729154\n",
       "DD365           182.917077\n",
       "Tmax             13.890153\n",
       "Tmin              6.156018\n",
       "Tmean            10.046208\n",
       "Trange            7.734244\n",
       "Rainfall_mm       1.786964\n",
       "dtype: float64"
      ]
     },
     "execution_count": 3,
     "metadata": {},
     "output_type": "execute_result"
    }
   ],
   "source": [
    "weather.mean(numeric_only=True)"
   ]
  },
  {
   "cell_type": "markdown",
   "id": "ddd45678",
   "metadata": {},
   "source": [
    "Which columns from the dataframe are missing from the table of means?\n",
    "* Month is missing because the values are strings (words); we only get the mean for numerical columns\n",
    "\n",
    "## Decriptives for a single column\n",
    "\n",
    "Format:\n",
    "- `df.column.mean()`\n",
    "\n",
    "You might just want the mean for one column, in which case you can include the column name as follows:"
   ]
  },
  {
   "cell_type": "code",
   "execution_count": 4,
   "id": "60351416",
   "metadata": {
    "tags": []
   },
   "outputs": [
    {
     "data": {
      "text/plain": [
       "13.890153065515406"
      ]
     },
     "execution_count": 4,
     "metadata": {},
     "output_type": "execute_result"
    }
   ],
   "source": [
    "weather.Tmax.mean()"
   ]
  },
  {
   "cell_type": "markdown",
   "id": "772ff0e0",
   "metadata": {},
   "source": [
    "Instead of a whole table of means, many of which were irrelevant, we now just have the single number we wanted - the mean of <tt>Tmax</tt>\n",
    "\n",
    "* *Think* check that the value obtained this way matches the one in the table above.\n",
    "\n",
    "#### Why does it work?\n",
    "\n",
    "The commmand `weather.Tmax.mean()` has two steps.\n",
    "\n",
    "**Step 1:**\n",
    "\n",
    "The syntax `weather.Tmax` (or more generally, `df.column`) returns just the one column of the dataframe as a <tt>series</tt> (essentially a one-column table).\n",
    "\n",
    "Look:"
   ]
  },
  {
   "cell_type": "code",
   "execution_count": 5,
   "id": "ca537aa1",
   "metadata": {},
   "outputs": [
    {
     "data": {
      "text/plain": [
       "0         8.3\n",
       "1         2.2\n",
       "2        -2.2\n",
       "3        -1.7\n",
       "4         0.0\n",
       "         ... \n",
       "71338    15.2\n",
       "71339    10.7\n",
       "71340    12.7\n",
       "71341    11.7\n",
       "71342    17.6\n",
       "Name: Tmax, Length: 71343, dtype: float64"
      ]
     },
     "execution_count": 5,
     "metadata": {},
     "output_type": "execute_result"
    }
   ],
   "source": [
    "weather.Tmax"
   ]
  },
  {
   "cell_type": "markdown",
   "id": "73fdc0b4",
   "metadata": {},
   "source": [
    "If we liked, we could give this single-column series a name a 'save' it:"
   ]
  },
  {
   "cell_type": "code",
   "execution_count": 6,
   "id": "a85759d0",
   "metadata": {},
   "outputs": [
    {
     "name": "stdout",
     "output_type": "stream",
     "text": [
      "0         8.3\n",
      "1         2.2\n",
      "2        -2.2\n",
      "3        -1.7\n",
      "4         0.0\n",
      "         ... \n",
      "71338    15.2\n",
      "71339    10.7\n",
      "71340    12.7\n",
      "71341    11.7\n",
      "71342    17.6\n",
      "Name: Tmax, Length: 71343, dtype: float64\n"
     ]
    }
   ],
   "source": [
    "DailyMaxima  = weather.Tmax\n",
    "print(DailyMaxima)"
   ]
  },
  {
   "cell_type": "markdown",
   "id": "0ccb6bb4",
   "metadata": {},
   "source": [
    "However, we don't need to do that as we can just tack the `.mean()` function onto it directly as follows:"
   ]
  },
  {
   "cell_type": "markdown",
   "id": "b9672939",
   "metadata": {},
   "source": [
    "**Step 2:**\n",
    "\n",
    "The syntax `.mean()` gets the mean of the thing before the dot (i.e. the series you created with the command `weather.Tmax`)"
   ]
  },
  {
   "cell_type": "code",
   "execution_count": 7,
   "id": "2eb628aa",
   "metadata": {},
   "outputs": [
    {
     "data": {
      "text/plain": [
       "13.890153065515406"
      ]
     },
     "execution_count": 7,
     "metadata": {},
     "output_type": "execute_result"
    }
   ],
   "source": [
    "weather.Tmax.mean()"
   ]
  },
  {
   "cell_type": "markdown",
   "id": "3b115731",
   "metadata": {},
   "source": [
    "### Exercises\n",
    "\n",
    "Complete the following quick practice questions:"
   ]
  },
  {
   "cell_type": "code",
   "execution_count": 8,
   "id": "6bccd623",
   "metadata": {},
   "outputs": [],
   "source": [
    "# get the mean daily rainfall"
   ]
  },
  {
   "cell_type": "code",
   "execution_count": 9,
   "id": "9ac0f7eb",
   "metadata": {},
   "outputs": [],
   "source": [
    "# get the median daily rainfall"
   ]
  },
  {
   "cell_type": "code",
   "execution_count": 10,
   "id": "403db34f",
   "metadata": {},
   "outputs": [],
   "source": [
    "# get the standard deviation of the maximum daily temperature"
   ]
  },
  {
   "cell_type": "code",
   "execution_count": 11,
   "id": "d93cc437",
   "metadata": {},
   "outputs": [],
   "source": [
    "# find the minimum value of \"year\" (you will need two separate commands)"
   ]
  },
  {
   "cell_type": "markdown",
   "id": "62d816dc",
   "metadata": {},
   "source": [
    "## Get descriptives for a subset of rows\n",
    "\n",
    "- `df.query('columnname == number')`\n",
    "- `df.query('columnname == \"string\"')`\n",
    "- `df.query('columnname1 == value1 and columnname2 == value2')`\n",
    "\n",
    "\n",
    "Say I want to know the mean daily maximum temperatures for the year 1921.\n",
    "\n",
    "#### Step 1: find the relevant rows\n",
    "\n",
    "I first need to somehow pull out the rows of the table where the value for <tt>YYYY</tt> is <tt>1921</tt>\n",
    "    \n",
    "I can do this using the function `df.query`, for example <tt>weather.query('YYYY == 1921')</tt>\n",
    "   * **note** the quote marks surrounding the whole query\n",
    "   * **note** the double equals sign `==`, which is used for *checking* if two bvalues are equal (as opposed to setting a value)"
   ]
  },
  {
   "cell_type": "code",
   "execution_count": 12,
   "id": "98393d39",
   "metadata": {},
   "outputs": [
    {
     "data": {
      "text/html": [
       "<div>\n",
       "<style scoped>\n",
       "    .dataframe tbody tr th:only-of-type {\n",
       "        vertical-align: middle;\n",
       "    }\n",
       "\n",
       "    .dataframe tbody tr th {\n",
       "        vertical-align: top;\n",
       "    }\n",
       "\n",
       "    .dataframe thead th {\n",
       "        text-align: right;\n",
       "    }\n",
       "</style>\n",
       "<table border=\"1\" class=\"dataframe\">\n",
       "  <thead>\n",
       "    <tr style=\"text-align: right;\">\n",
       "      <th></th>\n",
       "      <th>YYYY</th>\n",
       "      <th>Month</th>\n",
       "      <th>MM</th>\n",
       "      <th>DD</th>\n",
       "      <th>DD365</th>\n",
       "      <th>Tmax</th>\n",
       "      <th>Tmin</th>\n",
       "      <th>Tmean</th>\n",
       "      <th>Trange</th>\n",
       "      <th>Rainfall_mm</th>\n",
       "    </tr>\n",
       "  </thead>\n",
       "  <tbody>\n",
       "    <tr>\n",
       "      <th>34333</th>\n",
       "      <td>1921</td>\n",
       "      <td>Dec</td>\n",
       "      <td>12</td>\n",
       "      <td>31</td>\n",
       "      <td>1</td>\n",
       "      <td>9.1</td>\n",
       "      <td>3.3</td>\n",
       "      <td>6.2</td>\n",
       "      <td>5.8</td>\n",
       "      <td>0.0</td>\n",
       "    </tr>\n",
       "    <tr>\n",
       "      <th>34334</th>\n",
       "      <td>1921</td>\n",
       "      <td>Jan</td>\n",
       "      <td>1</td>\n",
       "      <td>1</td>\n",
       "      <td>2</td>\n",
       "      <td>12.2</td>\n",
       "      <td>7.1</td>\n",
       "      <td>9.7</td>\n",
       "      <td>5.1</td>\n",
       "      <td>9.7</td>\n",
       "    </tr>\n",
       "    <tr>\n",
       "      <th>34335</th>\n",
       "      <td>1921</td>\n",
       "      <td>Jan</td>\n",
       "      <td>1</td>\n",
       "      <td>2</td>\n",
       "      <td>3</td>\n",
       "      <td>11.9</td>\n",
       "      <td>8.7</td>\n",
       "      <td>10.3</td>\n",
       "      <td>3.2</td>\n",
       "      <td>6.1</td>\n",
       "    </tr>\n",
       "    <tr>\n",
       "      <th>34336</th>\n",
       "      <td>1921</td>\n",
       "      <td>Jan</td>\n",
       "      <td>1</td>\n",
       "      <td>3</td>\n",
       "      <td>4</td>\n",
       "      <td>9.9</td>\n",
       "      <td>5.9</td>\n",
       "      <td>7.9</td>\n",
       "      <td>4.0</td>\n",
       "      <td>0.0</td>\n",
       "    </tr>\n",
       "    <tr>\n",
       "      <th>34337</th>\n",
       "      <td>1921</td>\n",
       "      <td>Jan</td>\n",
       "      <td>1</td>\n",
       "      <td>4</td>\n",
       "      <td>5</td>\n",
       "      <td>12.3</td>\n",
       "      <td>9.8</td>\n",
       "      <td>11.1</td>\n",
       "      <td>2.5</td>\n",
       "      <td>5.5</td>\n",
       "    </tr>\n",
       "    <tr>\n",
       "      <th>...</th>\n",
       "      <td>...</td>\n",
       "      <td>...</td>\n",
       "      <td>...</td>\n",
       "      <td>...</td>\n",
       "      <td>...</td>\n",
       "      <td>...</td>\n",
       "      <td>...</td>\n",
       "      <td>...</td>\n",
       "      <td>...</td>\n",
       "      <td>...</td>\n",
       "    </tr>\n",
       "    <tr>\n",
       "      <th>34693</th>\n",
       "      <td>1921</td>\n",
       "      <td>Dec</td>\n",
       "      <td>12</td>\n",
       "      <td>26</td>\n",
       "      <td>361</td>\n",
       "      <td>10.8</td>\n",
       "      <td>-3.1</td>\n",
       "      <td>3.9</td>\n",
       "      <td>13.9</td>\n",
       "      <td>5.6</td>\n",
       "    </tr>\n",
       "    <tr>\n",
       "      <th>34694</th>\n",
       "      <td>1921</td>\n",
       "      <td>Dec</td>\n",
       "      <td>12</td>\n",
       "      <td>27</td>\n",
       "      <td>362</td>\n",
       "      <td>11.2</td>\n",
       "      <td>5.4</td>\n",
       "      <td>8.3</td>\n",
       "      <td>5.8</td>\n",
       "      <td>1.3</td>\n",
       "    </tr>\n",
       "    <tr>\n",
       "      <th>34695</th>\n",
       "      <td>1921</td>\n",
       "      <td>Dec</td>\n",
       "      <td>12</td>\n",
       "      <td>28</td>\n",
       "      <td>363</td>\n",
       "      <td>13.9</td>\n",
       "      <td>3.9</td>\n",
       "      <td>8.9</td>\n",
       "      <td>10.0</td>\n",
       "      <td>0.0</td>\n",
       "    </tr>\n",
       "    <tr>\n",
       "      <th>34696</th>\n",
       "      <td>1921</td>\n",
       "      <td>Dec</td>\n",
       "      <td>12</td>\n",
       "      <td>29</td>\n",
       "      <td>364</td>\n",
       "      <td>7.6</td>\n",
       "      <td>1.7</td>\n",
       "      <td>4.7</td>\n",
       "      <td>5.9</td>\n",
       "      <td>0.8</td>\n",
       "    </tr>\n",
       "    <tr>\n",
       "      <th>34697</th>\n",
       "      <td>1921</td>\n",
       "      <td>Dec</td>\n",
       "      <td>12</td>\n",
       "      <td>30</td>\n",
       "      <td>365</td>\n",
       "      <td>11.7</td>\n",
       "      <td>1.9</td>\n",
       "      <td>6.8</td>\n",
       "      <td>9.8</td>\n",
       "      <td>4.5</td>\n",
       "    </tr>\n",
       "  </tbody>\n",
       "</table>\n",
       "<p>365 rows × 10 columns</p>\n",
       "</div>"
      ],
      "text/plain": [
       "       YYYY Month  MM  DD  DD365  Tmax  Tmin  Tmean  Trange  Rainfall_mm\n",
       "34333  1921   Dec  12  31      1   9.1   3.3    6.2     5.8          0.0\n",
       "34334  1921   Jan   1   1      2  12.2   7.1    9.7     5.1          9.7\n",
       "34335  1921   Jan   1   2      3  11.9   8.7   10.3     3.2          6.1\n",
       "34336  1921   Jan   1   3      4   9.9   5.9    7.9     4.0          0.0\n",
       "34337  1921   Jan   1   4      5  12.3   9.8   11.1     2.5          5.5\n",
       "...     ...   ...  ..  ..    ...   ...   ...    ...     ...          ...\n",
       "34693  1921   Dec  12  26    361  10.8  -3.1    3.9    13.9          5.6\n",
       "34694  1921   Dec  12  27    362  11.2   5.4    8.3     5.8          1.3\n",
       "34695  1921   Dec  12  28    363  13.9   3.9    8.9    10.0          0.0\n",
       "34696  1921   Dec  12  29    364   7.6   1.7    4.7     5.9          0.8\n",
       "34697  1921   Dec  12  30    365  11.7   1.9    6.8     9.8          4.5\n",
       "\n",
       "[365 rows x 10 columns]"
      ]
     },
     "execution_count": 12,
     "metadata": {},
     "output_type": "execute_result"
    }
   ],
   "source": [
    "# get all the rows where year is 1921\n",
    "weather.loc[weather.YYYY == 1921]"
   ]
  },
  {
   "cell_type": "markdown",
   "id": "c1e00495",
   "metadata": {},
   "source": [
    "Note the size of this table - there are 365 rows. Why?\n",
    "* In the original table `weather`, there is one row per day\n",
    "* 365 of those rows (days) match the criterion 'YYYY = 1921' because there are 365 days in a year.\n",
    "\n",
    "If I wanted to, I could give this table a name and 'save' it for later use:\n"
   ]
  },
  {
   "cell_type": "code",
   "execution_count": 13,
   "id": "ee284f7a",
   "metadata": {},
   "outputs": [
    {
     "data": {
      "text/html": [
       "<div>\n",
       "<style scoped>\n",
       "    .dataframe tbody tr th:only-of-type {\n",
       "        vertical-align: middle;\n",
       "    }\n",
       "\n",
       "    .dataframe tbody tr th {\n",
       "        vertical-align: top;\n",
       "    }\n",
       "\n",
       "    .dataframe thead th {\n",
       "        text-align: right;\n",
       "    }\n",
       "</style>\n",
       "<table border=\"1\" class=\"dataframe\">\n",
       "  <thead>\n",
       "    <tr style=\"text-align: right;\">\n",
       "      <th></th>\n",
       "      <th>YYYY</th>\n",
       "      <th>Month</th>\n",
       "      <th>MM</th>\n",
       "      <th>DD</th>\n",
       "      <th>DD365</th>\n",
       "      <th>Tmax</th>\n",
       "      <th>Tmin</th>\n",
       "      <th>Tmean</th>\n",
       "      <th>Trange</th>\n",
       "      <th>Rainfall_mm</th>\n",
       "    </tr>\n",
       "  </thead>\n",
       "  <tbody>\n",
       "    <tr>\n",
       "      <th>34333</th>\n",
       "      <td>1921</td>\n",
       "      <td>Dec</td>\n",
       "      <td>12</td>\n",
       "      <td>31</td>\n",
       "      <td>1</td>\n",
       "      <td>9.1</td>\n",
       "      <td>3.3</td>\n",
       "      <td>6.2</td>\n",
       "      <td>5.8</td>\n",
       "      <td>0.0</td>\n",
       "    </tr>\n",
       "    <tr>\n",
       "      <th>34334</th>\n",
       "      <td>1921</td>\n",
       "      <td>Jan</td>\n",
       "      <td>1</td>\n",
       "      <td>1</td>\n",
       "      <td>2</td>\n",
       "      <td>12.2</td>\n",
       "      <td>7.1</td>\n",
       "      <td>9.7</td>\n",
       "      <td>5.1</td>\n",
       "      <td>9.7</td>\n",
       "    </tr>\n",
       "    <tr>\n",
       "      <th>34335</th>\n",
       "      <td>1921</td>\n",
       "      <td>Jan</td>\n",
       "      <td>1</td>\n",
       "      <td>2</td>\n",
       "      <td>3</td>\n",
       "      <td>11.9</td>\n",
       "      <td>8.7</td>\n",
       "      <td>10.3</td>\n",
       "      <td>3.2</td>\n",
       "      <td>6.1</td>\n",
       "    </tr>\n",
       "    <tr>\n",
       "      <th>34336</th>\n",
       "      <td>1921</td>\n",
       "      <td>Jan</td>\n",
       "      <td>1</td>\n",
       "      <td>3</td>\n",
       "      <td>4</td>\n",
       "      <td>9.9</td>\n",
       "      <td>5.9</td>\n",
       "      <td>7.9</td>\n",
       "      <td>4.0</td>\n",
       "      <td>0.0</td>\n",
       "    </tr>\n",
       "    <tr>\n",
       "      <th>34337</th>\n",
       "      <td>1921</td>\n",
       "      <td>Jan</td>\n",
       "      <td>1</td>\n",
       "      <td>4</td>\n",
       "      <td>5</td>\n",
       "      <td>12.3</td>\n",
       "      <td>9.8</td>\n",
       "      <td>11.1</td>\n",
       "      <td>2.5</td>\n",
       "      <td>5.5</td>\n",
       "    </tr>\n",
       "    <tr>\n",
       "      <th>...</th>\n",
       "      <td>...</td>\n",
       "      <td>...</td>\n",
       "      <td>...</td>\n",
       "      <td>...</td>\n",
       "      <td>...</td>\n",
       "      <td>...</td>\n",
       "      <td>...</td>\n",
       "      <td>...</td>\n",
       "      <td>...</td>\n",
       "      <td>...</td>\n",
       "    </tr>\n",
       "    <tr>\n",
       "      <th>34693</th>\n",
       "      <td>1921</td>\n",
       "      <td>Dec</td>\n",
       "      <td>12</td>\n",
       "      <td>26</td>\n",
       "      <td>361</td>\n",
       "      <td>10.8</td>\n",
       "      <td>-3.1</td>\n",
       "      <td>3.9</td>\n",
       "      <td>13.9</td>\n",
       "      <td>5.6</td>\n",
       "    </tr>\n",
       "    <tr>\n",
       "      <th>34694</th>\n",
       "      <td>1921</td>\n",
       "      <td>Dec</td>\n",
       "      <td>12</td>\n",
       "      <td>27</td>\n",
       "      <td>362</td>\n",
       "      <td>11.2</td>\n",
       "      <td>5.4</td>\n",
       "      <td>8.3</td>\n",
       "      <td>5.8</td>\n",
       "      <td>1.3</td>\n",
       "    </tr>\n",
       "    <tr>\n",
       "      <th>34695</th>\n",
       "      <td>1921</td>\n",
       "      <td>Dec</td>\n",
       "      <td>12</td>\n",
       "      <td>28</td>\n",
       "      <td>363</td>\n",
       "      <td>13.9</td>\n",
       "      <td>3.9</td>\n",
       "      <td>8.9</td>\n",
       "      <td>10.0</td>\n",
       "      <td>0.0</td>\n",
       "    </tr>\n",
       "    <tr>\n",
       "      <th>34696</th>\n",
       "      <td>1921</td>\n",
       "      <td>Dec</td>\n",
       "      <td>12</td>\n",
       "      <td>29</td>\n",
       "      <td>364</td>\n",
       "      <td>7.6</td>\n",
       "      <td>1.7</td>\n",
       "      <td>4.7</td>\n",
       "      <td>5.9</td>\n",
       "      <td>0.8</td>\n",
       "    </tr>\n",
       "    <tr>\n",
       "      <th>34697</th>\n",
       "      <td>1921</td>\n",
       "      <td>Dec</td>\n",
       "      <td>12</td>\n",
       "      <td>30</td>\n",
       "      <td>365</td>\n",
       "      <td>11.7</td>\n",
       "      <td>1.9</td>\n",
       "      <td>6.8</td>\n",
       "      <td>9.8</td>\n",
       "      <td>4.5</td>\n",
       "    </tr>\n",
       "  </tbody>\n",
       "</table>\n",
       "<p>365 rows × 10 columns</p>\n",
       "</div>"
      ],
      "text/plain": [
       "       YYYY Month  MM  DD  DD365  Tmax  Tmin  Tmean  Trange  Rainfall_mm\n",
       "34333  1921   Dec  12  31      1   9.1   3.3    6.2     5.8          0.0\n",
       "34334  1921   Jan   1   1      2  12.2   7.1    9.7     5.1          9.7\n",
       "34335  1921   Jan   1   2      3  11.9   8.7   10.3     3.2          6.1\n",
       "34336  1921   Jan   1   3      4   9.9   5.9    7.9     4.0          0.0\n",
       "34337  1921   Jan   1   4      5  12.3   9.8   11.1     2.5          5.5\n",
       "...     ...   ...  ..  ..    ...   ...   ...    ...     ...          ...\n",
       "34693  1921   Dec  12  26    361  10.8  -3.1    3.9    13.9          5.6\n",
       "34694  1921   Dec  12  27    362  11.2   5.4    8.3     5.8          1.3\n",
       "34695  1921   Dec  12  28    363  13.9   3.9    8.9    10.0          0.0\n",
       "34696  1921   Dec  12  29    364   7.6   1.7    4.7     5.9          0.8\n",
       "34697  1921   Dec  12  30    365  11.7   1.9    6.8     9.8          4.5\n",
       "\n",
       "[365 rows x 10 columns]"
      ]
     },
     "execution_count": 13,
     "metadata": {},
     "output_type": "execute_result"
    }
   ],
   "source": [
    "weather1921 = weather.query('YYYY == 1921') # create a new dataframe for just 1921\n",
    "weather1921 # look at my new dataframe"
   ]
  },
  {
   "cell_type": "markdown",
   "id": "a9e16c44",
   "metadata": {},
   "source": [
    "... but I don't need to do this as I can tack on more commands to complete my goal in a single line of code.\n",
    "\n",
    "#### Step 2: find the relevant column\n",
    "\n",
    "Now that I have grabbed the relevant rows, I narrow it down to column <tt>Tmax</tt>"
   ]
  },
  {
   "cell_type": "code",
   "execution_count": 14,
   "id": "9582155a",
   "metadata": {},
   "outputs": [
    {
     "data": {
      "text/plain": [
       "33967     3.2\n",
       "33968    13.2\n",
       "33969     4.5\n",
       "33970     3.7\n",
       "33971     3.7\n",
       "         ... \n",
       "34328    12.1\n",
       "34329    11.9\n",
       "34330    12.3\n",
       "34331    12.4\n",
       "34332    12.1\n",
       "Name: Tmax, Length: 366, dtype: float64"
      ]
     },
     "execution_count": 14,
     "metadata": {},
     "output_type": "execute_result"
    }
   ],
   "source": [
    "weather.query('YYYY == 1920').Tmax"
   ]
  },
  {
   "cell_type": "markdown",
   "id": "ef1a7e64",
   "metadata": {},
   "source": [
    "#### Step 4: add in the actual function\n",
    "\n",
    "FInally, I can tack on teh function I want to run on my selected rows and column: `mean()`:"
   ]
  },
  {
   "cell_type": "code",
   "execution_count": 15,
   "id": "a2547cbb",
   "metadata": {},
   "outputs": [
    {
     "data": {
      "text/plain": [
       "13.701092896174861"
      ]
     },
     "execution_count": 15,
     "metadata": {},
     "output_type": "execute_result"
    }
   ],
   "source": [
    "weather.query('YYYY == 1920').Tmax.mean()"
   ]
  },
  {
   "cell_type": "markdown",
   "id": "88c44d08",
   "metadata": {},
   "source": [
    "### Exercises\n",
    "\n",
    "Complete the following quick practice questions:"
   ]
  },
  {
   "cell_type": "code",
   "execution_count": 16,
   "id": "5dba672e",
   "metadata": {},
   "outputs": [],
   "source": [
    "# Get the mean daily maximum temperature in 2006"
   ]
  },
  {
   "cell_type": "code",
   "execution_count": 17,
   "id": "6eabd979",
   "metadata": {},
   "outputs": [],
   "source": [
    "# Get the mean daily minimum temperature in 1947"
   ]
  },
  {
   "cell_type": "markdown",
   "id": "23a2ac8e",
   "metadata": {},
   "source": [
    "## Get descriptives for one category\n",
    "\n",
    "What about getting the mean daily maximum temperatures for, say, October? So I need to pull out all the rows in which <tt>'MM'</tt> matches <tt>'Oct'</tt>\n",
    "\n",
    "The syntax is very similar, but now I am matching a string `\"Oct\"`, so it needs to be in quotes:\n",
    "    "
   ]
  },
  {
   "cell_type": "code",
   "execution_count": 18,
   "id": "28646cb0",
   "metadata": {
    "tags": []
   },
   "outputs": [
    {
     "data": {
      "text/plain": [
       "14.112638544251446"
      ]
     },
     "execution_count": 18,
     "metadata": {},
     "output_type": "execute_result"
    }
   ],
   "source": [
    "weather.query('Month == \"Oct\"').Tmax.mean()"
   ]
  },
  {
   "cell_type": "markdown",
   "id": "0404bdd3",
   "metadata": {},
   "source": [
    "* **note** you can actually use single and double quotes interchangeably in Python, but in cases like this where you have quotes within quotes, it is better to use both types to avoid the computer getting confused about which opening and closing quotes to pair up.\n",
    "\n",
    "so you could do either of these\n",
    "\n",
    "- weather.query('MM == \"October\"').Tmax.mean()\n",
    "- weather.query(\"MM == 'October'\").Tmax.mean()\n",
    "\n",
    "but not these\n",
    "\n",
    "- weather.query('MM == 'October'').Tmax.mean()\n",
    "- weather.query(\"MM == 'October'\").Tmax.mean()"
   ]
  },
  {
   "cell_type": "markdown",
   "id": "10985313",
   "metadata": {},
   "source": [
    "### Exercises\n",
    "\n",
    "Complete the following quick practice questions:"
   ]
  },
  {
   "cell_type": "code",
   "execution_count": 19,
   "id": "30a4ed22",
   "metadata": {},
   "outputs": [],
   "source": [
    "# Get the mean daily rainfall in January"
   ]
  },
  {
   "cell_type": "code",
   "execution_count": 20,
   "id": "a6cfbcdd",
   "metadata": {},
   "outputs": [],
   "source": [
    "# Get the mean daily rainfall in June"
   ]
  },
  {
   "cell_type": "markdown",
   "id": "ce908842",
   "metadata": {},
   "source": [
    "## Match multiple conditions\n",
    "\n",
    "What if I want to know the mean daily maximum temperature in 1920 for June only?\n",
    "\n",
    "We can simply use `and` or `&` to pass `df.query()` multiple conditions:"
   ]
  },
  {
   "cell_type": "code",
   "execution_count": 21,
   "id": "22cd5fd6",
   "metadata": {},
   "outputs": [
    {
     "data": {
      "text/plain": [
       "13.701092896174861"
      ]
     },
     "execution_count": 21,
     "metadata": {},
     "output_type": "execute_result"
    }
   ],
   "source": [
    "# mean daily maximum temperature in 1920\n",
    "weather.query('YYYY == 1920').Tmax.mean()"
   ]
  },
  {
   "cell_type": "code",
   "execution_count": 22,
   "id": "2ba8f15b",
   "metadata": {},
   "outputs": [
    {
     "data": {
      "text/plain": [
       "19.553333333333335"
      ]
     },
     "execution_count": 22,
     "metadata": {},
     "output_type": "execute_result"
    }
   ],
   "source": [
    "# mean daily maximumm temperature in 1920\n",
    "weather.query('YYYY == 1920 & MM == 6').Tmax.mean()"
   ]
  },
  {
   "cell_type": "markdown",
   "id": "1bb36dd2",
   "metadata": {},
   "source": [
    "* **Think** hopefully the value for June is higher than the average for the whole year? If not something has gone wrong!"
   ]
  },
  {
   "cell_type": "markdown",
   "id": "a61d8b31",
   "metadata": {},
   "source": [
    "### Exercises\n",
    "\n",
    "Complete the following quick practice questions:"
   ]
  },
  {
   "cell_type": "code",
   "execution_count": 23,
   "id": "e61f9992",
   "metadata": {},
   "outputs": [],
   "source": [
    "# Get the mean daily rainfall in June 2007"
   ]
  },
  {
   "cell_type": "code",
   "execution_count": 24,
   "id": "73d2f3c9",
   "metadata": {},
   "outputs": [],
   "source": [
    "# Get the minimum temperature in January 1947"
   ]
  },
  {
   "cell_type": "markdown",
   "id": "a2938b77",
   "metadata": {},
   "source": [
    "## Syntax for correlation\n",
    "\n",
    "When we run a correlation, we need to index *two* columns - the two we are correlating.\n",
    "\n",
    "Using the `pandas` function `df.corr()` we can do so as follows:"
   ]
  },
  {
   "cell_type": "code",
   "execution_count": 25,
   "id": "39e65c71",
   "metadata": {},
   "outputs": [
    {
     "data": {
      "text/plain": [
       "0.8414800914062084"
      ]
     },
     "execution_count": 25,
     "metadata": {},
     "output_type": "execute_result"
    }
   ],
   "source": [
    "# get the correlation between columns Tmin and Tmax of dataframe weather\n",
    "weather.Tmin.corr(weather.Tmax)"
   ]
  },
  {
   "cell_type": "markdown",
   "id": "65b086ce",
   "metadata": {},
   "source": [
    "We can set the type of correlation to Pearson or Spearman as appropriate (the default is Pearson's $r$):"
   ]
  },
  {
   "cell_type": "code",
   "execution_count": 26,
   "id": "7ec28f45",
   "metadata": {},
   "outputs": [
    {
     "data": {
      "text/plain": [
       "0.8438796074978867"
      ]
     },
     "execution_count": 26,
     "metadata": {},
     "output_type": "execute_result"
    }
   ],
   "source": [
    "# get the correlation between columns Tmin and Tmax of dataframe weather\n",
    "weather.Tmin.corr(weather.Tmax, method='spearman')"
   ]
  },
  {
   "cell_type": "markdown",
   "id": "71036f0c",
   "metadata": {},
   "source": [
    "#### Exercises\n",
    "\n",
    "Complete the following practice questions to help you get to grips with the syntax for correlation:"
   ]
  },
  {
   "cell_type": "code",
   "execution_count": 27,
   "id": "071284d5",
   "metadata": {},
   "outputs": [
    {
     "data": {
      "text/plain": [
       "-0.019287092574398337"
      ]
     },
     "execution_count": 27,
     "metadata": {},
     "output_type": "execute_result"
    }
   ],
   "source": [
    "# Find the Spearman correlation between daily mean temperature Tmean, and rainfall\n",
    "weather.Tmean.corr(weather.Rainfall_mm, method='spearman')"
   ]
  },
  {
   "cell_type": "code",
   "execution_count": 28,
   "id": "7eac1df4",
   "metadata": {},
   "outputs": [
    {
     "data": {
      "text/plain": [
       "0.08304423160159409"
      ]
     },
     "execution_count": 28,
     "metadata": {},
     "output_type": "execute_result"
    }
   ],
   "source": [
    "# Find the correlation between year and daily mean temperature\n",
    "weather.Tmean.corr(weather.YYYY)"
   ]
  },
  {
   "cell_type": "markdown",
   "id": "d68d7c61",
   "metadata": {},
   "source": [
    "#### All-by-all correlation matrix\n",
    "\n",
    "We can also quickly output all the correlations between all possible pairs of columns in a dataframe by simply not giving any column index:"
   ]
  },
  {
   "cell_type": "code",
   "execution_count": 29,
   "id": "d04b1b96",
   "metadata": {},
   "outputs": [
    {
     "ename": "ValueError",
     "evalue": "could not convert string to float: 'Jan'",
     "output_type": "error",
     "traceback": [
      "\u001b[0;31m---------------------------------------------------------------------------\u001b[0m",
      "\u001b[0;31mValueError\u001b[0m                                Traceback (most recent call last)",
      "Cell \u001b[0;32mIn[29], line 1\u001b[0m\n\u001b[0;32m----> 1\u001b[0m \u001b[43mweather\u001b[49m\u001b[38;5;241;43m.\u001b[39;49m\u001b[43mcorr\u001b[49m\u001b[43m(\u001b[49m\u001b[43m)\u001b[49m\n",
      "File \u001b[0;32m~/opt/anaconda3/lib/python3.9/site-packages/pandas/core/frame.py:10054\u001b[0m, in \u001b[0;36mDataFrame.corr\u001b[0;34m(self, method, min_periods, numeric_only)\u001b[0m\n\u001b[1;32m  10052\u001b[0m cols \u001b[38;5;241m=\u001b[39m data\u001b[38;5;241m.\u001b[39mcolumns\n\u001b[1;32m  10053\u001b[0m idx \u001b[38;5;241m=\u001b[39m cols\u001b[38;5;241m.\u001b[39mcopy()\n\u001b[0;32m> 10054\u001b[0m mat \u001b[38;5;241m=\u001b[39m \u001b[43mdata\u001b[49m\u001b[38;5;241;43m.\u001b[39;49m\u001b[43mto_numpy\u001b[49m\u001b[43m(\u001b[49m\u001b[43mdtype\u001b[49m\u001b[38;5;241;43m=\u001b[39;49m\u001b[38;5;28;43mfloat\u001b[39;49m\u001b[43m,\u001b[49m\u001b[43m \u001b[49m\u001b[43mna_value\u001b[49m\u001b[38;5;241;43m=\u001b[39;49m\u001b[43mnp\u001b[49m\u001b[38;5;241;43m.\u001b[39;49m\u001b[43mnan\u001b[49m\u001b[43m,\u001b[49m\u001b[43m \u001b[49m\u001b[43mcopy\u001b[49m\u001b[38;5;241;43m=\u001b[39;49m\u001b[38;5;28;43;01mFalse\u001b[39;49;00m\u001b[43m)\u001b[49m\n\u001b[1;32m  10056\u001b[0m \u001b[38;5;28;01mif\u001b[39;00m method \u001b[38;5;241m==\u001b[39m \u001b[38;5;124m\"\u001b[39m\u001b[38;5;124mpearson\u001b[39m\u001b[38;5;124m\"\u001b[39m:\n\u001b[1;32m  10057\u001b[0m     correl \u001b[38;5;241m=\u001b[39m libalgos\u001b[38;5;241m.\u001b[39mnancorr(mat, minp\u001b[38;5;241m=\u001b[39mmin_periods)\n",
      "File \u001b[0;32m~/opt/anaconda3/lib/python3.9/site-packages/pandas/core/frame.py:1838\u001b[0m, in \u001b[0;36mDataFrame.to_numpy\u001b[0;34m(self, dtype, copy, na_value)\u001b[0m\n\u001b[1;32m   1836\u001b[0m \u001b[38;5;28;01mif\u001b[39;00m dtype \u001b[38;5;129;01mis\u001b[39;00m \u001b[38;5;129;01mnot\u001b[39;00m \u001b[38;5;28;01mNone\u001b[39;00m:\n\u001b[1;32m   1837\u001b[0m     dtype \u001b[38;5;241m=\u001b[39m np\u001b[38;5;241m.\u001b[39mdtype(dtype)\n\u001b[0;32m-> 1838\u001b[0m result \u001b[38;5;241m=\u001b[39m \u001b[38;5;28;43mself\u001b[39;49m\u001b[38;5;241;43m.\u001b[39;49m\u001b[43m_mgr\u001b[49m\u001b[38;5;241;43m.\u001b[39;49m\u001b[43mas_array\u001b[49m\u001b[43m(\u001b[49m\u001b[43mdtype\u001b[49m\u001b[38;5;241;43m=\u001b[39;49m\u001b[43mdtype\u001b[49m\u001b[43m,\u001b[49m\u001b[43m \u001b[49m\u001b[43mcopy\u001b[49m\u001b[38;5;241;43m=\u001b[39;49m\u001b[43mcopy\u001b[49m\u001b[43m,\u001b[49m\u001b[43m \u001b[49m\u001b[43mna_value\u001b[49m\u001b[38;5;241;43m=\u001b[39;49m\u001b[43mna_value\u001b[49m\u001b[43m)\u001b[49m\n\u001b[1;32m   1839\u001b[0m \u001b[38;5;28;01mif\u001b[39;00m result\u001b[38;5;241m.\u001b[39mdtype \u001b[38;5;129;01mis\u001b[39;00m \u001b[38;5;129;01mnot\u001b[39;00m dtype:\n\u001b[1;32m   1840\u001b[0m     result \u001b[38;5;241m=\u001b[39m np\u001b[38;5;241m.\u001b[39marray(result, dtype\u001b[38;5;241m=\u001b[39mdtype, copy\u001b[38;5;241m=\u001b[39m\u001b[38;5;28;01mFalse\u001b[39;00m)\n",
      "File \u001b[0;32m~/opt/anaconda3/lib/python3.9/site-packages/pandas/core/internals/managers.py:1732\u001b[0m, in \u001b[0;36mBlockManager.as_array\u001b[0;34m(self, dtype, copy, na_value)\u001b[0m\n\u001b[1;32m   1730\u001b[0m         arr\u001b[38;5;241m.\u001b[39mflags\u001b[38;5;241m.\u001b[39mwriteable \u001b[38;5;241m=\u001b[39m \u001b[38;5;28;01mFalse\u001b[39;00m\n\u001b[1;32m   1731\u001b[0m \u001b[38;5;28;01melse\u001b[39;00m:\n\u001b[0;32m-> 1732\u001b[0m     arr \u001b[38;5;241m=\u001b[39m \u001b[38;5;28;43mself\u001b[39;49m\u001b[38;5;241;43m.\u001b[39;49m\u001b[43m_interleave\u001b[49m\u001b[43m(\u001b[49m\u001b[43mdtype\u001b[49m\u001b[38;5;241;43m=\u001b[39;49m\u001b[43mdtype\u001b[49m\u001b[43m,\u001b[49m\u001b[43m \u001b[49m\u001b[43mna_value\u001b[49m\u001b[38;5;241;43m=\u001b[39;49m\u001b[43mna_value\u001b[49m\u001b[43m)\u001b[49m\n\u001b[1;32m   1733\u001b[0m     \u001b[38;5;66;03m# The underlying data was copied within _interleave, so no need\u001b[39;00m\n\u001b[1;32m   1734\u001b[0m     \u001b[38;5;66;03m# to further copy if copy=True or setting na_value\u001b[39;00m\n\u001b[1;32m   1736\u001b[0m \u001b[38;5;28;01mif\u001b[39;00m na_value \u001b[38;5;129;01mis\u001b[39;00m \u001b[38;5;129;01mnot\u001b[39;00m lib\u001b[38;5;241m.\u001b[39mno_default:\n",
      "File \u001b[0;32m~/opt/anaconda3/lib/python3.9/site-packages/pandas/core/internals/managers.py:1794\u001b[0m, in \u001b[0;36mBlockManager._interleave\u001b[0;34m(self, dtype, na_value)\u001b[0m\n\u001b[1;32m   1792\u001b[0m     \u001b[38;5;28;01melse\u001b[39;00m:\n\u001b[1;32m   1793\u001b[0m         arr \u001b[38;5;241m=\u001b[39m blk\u001b[38;5;241m.\u001b[39mget_values(dtype)\n\u001b[0;32m-> 1794\u001b[0m     result[rl\u001b[38;5;241m.\u001b[39mindexer] \u001b[38;5;241m=\u001b[39m arr\n\u001b[1;32m   1795\u001b[0m     itemmask[rl\u001b[38;5;241m.\u001b[39mindexer] \u001b[38;5;241m=\u001b[39m \u001b[38;5;241m1\u001b[39m\n\u001b[1;32m   1797\u001b[0m \u001b[38;5;28;01mif\u001b[39;00m \u001b[38;5;129;01mnot\u001b[39;00m itemmask\u001b[38;5;241m.\u001b[39mall():\n",
      "\u001b[0;31mValueError\u001b[0m: could not convert string to float: 'Jan'"
     ]
    }
   ],
   "source": [
    "weather.corr()"
   ]
  },
  {
   "cell_type": "markdown",
   "id": "828bb885",
   "metadata": {},
   "source": [
    "The problem with this is that the figure we want is often buried amongst a lot of irrelevant correlation coefficients.\n",
    "\n",
    "#### Correlation using `scipy.stats`\n",
    "\n",
    "Note that here we aare using the `pandas` function `df.corr()`\n",
    "\n",
    "Later in the course we will use two functions from a library called `scipy.stats`:\n",
    "\n",
    "* `stats.pearsonr()`\n",
    "* `stats.spearmanr()`\n",
    "\n",
    "These are actually a bit more useful as they give us a $p$-value for the correlation as well as the correlation coefficient\n",
    "* don't worry if you don't know what a $p$-value is yet - this will be covered later in the course\n",
    "\n",
    "`scipy.stats` will be used extensively in the module on hypothesis testing"
   ]
  },
  {
   "cell_type": "code",
   "execution_count": null,
   "id": "d033e382",
   "metadata": {},
   "outputs": [],
   "source": []
  }
 ],
 "metadata": {
  "kernelspec": {
   "display_name": "Python 3 (ipykernel)",
   "language": "python",
   "name": "python3"
  },
  "language_info": {
   "codemirror_mode": {
    "name": "ipython",
    "version": 3
   },
   "file_extension": ".py",
   "mimetype": "text/x-python",
   "name": "python",
   "nbconvert_exporter": "python",
   "pygments_lexer": "ipython3",
   "version": "3.9.18"
  }
 },
 "nbformat": 4,
 "nbformat_minor": 5
}