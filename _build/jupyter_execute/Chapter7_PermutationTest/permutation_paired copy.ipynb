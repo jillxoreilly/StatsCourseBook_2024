{
 "cells": [
  {
   "cell_type": "markdown",
   "id": "572fb94e",
   "metadata": {},
   "source": [
    "# Permutation test for paired data\n",
    "\n",
    "We first look at the case of paired data - data in which we wish to compare two groups and each datapoint in one group has a counterpart in the other\n",
    "\n",
    "Experimental designs using paired data include matched pairs (eg brothers and sisters) and repeated measures (measurements of the same individual before- and after- an intervention, or on- and off-drug).\n"
   ]
  },
  {
   "cell_type": "markdown",
   "id": "2c4eabfd",
   "metadata": {},
   "source": [
    "### Set up Python libraries\n",
    "\n",
    "As usual, run the code cell below to import the relevant Python libraries"
   ]
  },
  {
   "cell_type": "code",
   "execution_count": 1,
   "id": "3286b373",
   "metadata": {},
   "outputs": [],
   "source": [
    "# Set-up Python libraries - you need to run this but you don't need to change it\n",
    "import numpy as np\n",
    "import matplotlib.pyplot as plt\n",
    "import scipy.stats as stats\n",
    "import pandas as pd\n",
    "import seaborn as sns\n",
    "sns.set_theme(style='white')\n",
    "import statsmodels.api as sm\n",
    "import statsmodels.formula.api as smf"
   ]
  },
  {
   "cell_type": "markdown",
   "id": "4bd9c055",
   "metadata": {},
   "source": [
    "## Colab users\n",
    "\n",
    "You need to use a more recent version of scipy.stats than the default. To do this run the following code block and *after* it has run, go to the menus at the top of colab and click `runtime-->Restart Runtime`"
   ]
  },
  {
   "cell_type": "code",
   "execution_count": 2,
   "id": "c5c86d36",
   "metadata": {},
   "outputs": [
    {
     "name": "stdout",
     "output_type": "stream",
     "text": [
      "Requirement already satisfied: scipy==1.10.0 in /Users/joreilly/opt/anaconda3/lib/python3.9/site-packages (1.10.0)\r\n"
     ]
    },
    {
     "name": "stdout",
     "output_type": "stream",
     "text": [
      "Requirement already satisfied: numpy<1.27.0,>=1.19.5 in /Users/joreilly/opt/anaconda3/lib/python3.9/site-packages (from scipy==1.10.0) (1.24.3)\r\n"
     ]
    }
   ],
   "source": [
    "# Set-up Python libraries - you need to run this but you don't need to change it\n",
    "!pip install scipy==1.10.0\n",
    "import numpy as np\n",
    "import matplotlib.pyplot as plt\n",
    "import scipy.stats as stats\n",
    "import pandas as pd\n",
    "import seaborn as sns\n",
    "sns.set_theme(style='white')\n",
    "import statsmodels.api as sm\n",
    "import statsmodels.formula.api as smf"
   ]
  },
  {
   "cell_type": "markdown",
   "id": "df221c50",
   "metadata": {},
   "source": [
    "## Toy example\n",
    "\n",
    "[A toy example is an example with a very small dataset, just to show how it works]\n",
    "\n",
    "#### Question & design\n",
    "\n",
    "We are interested in whether men or women own more pairs of socks. \n",
    "\n",
    "We decide on a **matched pairs design** in which husbands are compared to their wives, as it is hypothesised that lifestyle factors such as the size of the home in which people live and the duration of holidays taken will affect the number of pairs that can be reasonably justified, and these lifestyle factors are generally shared by both members of a married couple.\n",
    "\n",
    "\n",
    "#### Hypotheses\n",
    "\n",
    "We can state our hypotheses as follows:\n",
    "\n",
    "$\\mathcal{H_o}:$ The mean sex difference quantity of socks owned is zero \n",
    "* in our dataset, on average a wife and her husband have the same number of pairs of socks\n",
    "\n",
    "$\\mathcal{H_a}:$ The mean sex difference quantity of socks owned is non-zero\n",
    "* in our dataset, on average a wife has mome socks than her husband, or vice versa\n",
    "\n",
    "#### Data\n",
    "\n",
    "We obtain sock-counts for the following informal sample of 10 couples:"
   ]
  },
  {
   "cell_type": "code",
   "execution_count": 3,
   "id": "e0483d68",
   "metadata": {},
   "outputs": [
    {
     "data": {
      "text/html": [
       "<div>\n",
       "<style scoped>\n",
       "    .dataframe tbody tr th:only-of-type {\n",
       "        vertical-align: middle;\n",
       "    }\n",
       "\n",
       "    .dataframe tbody tr th {\n",
       "        vertical-align: top;\n",
       "    }\n",
       "\n",
       "    .dataframe thead th {\n",
       "        text-align: right;\n",
       "    }\n",
       "</style>\n",
       "<table border=\"1\" class=\"dataframe\">\n",
       "  <thead>\n",
       "    <tr style=\"text-align: right;\">\n",
       "      <th></th>\n",
       "      <th>Husband</th>\n",
       "      <th>Wife</th>\n",
       "    </tr>\n",
       "  </thead>\n",
       "  <tbody>\n",
       "    <tr>\n",
       "      <th>0</th>\n",
       "      <td>10</td>\n",
       "      <td>12</td>\n",
       "    </tr>\n",
       "    <tr>\n",
       "      <th>1</th>\n",
       "      <td>17</td>\n",
       "      <td>13</td>\n",
       "    </tr>\n",
       "    <tr>\n",
       "      <th>2</th>\n",
       "      <td>48</td>\n",
       "      <td>20</td>\n",
       "    </tr>\n",
       "    <tr>\n",
       "      <th>3</th>\n",
       "      <td>28</td>\n",
       "      <td>25</td>\n",
       "    </tr>\n",
       "    <tr>\n",
       "      <th>4</th>\n",
       "      <td>23</td>\n",
       "      <td>18</td>\n",
       "    </tr>\n",
       "    <tr>\n",
       "      <th>5</th>\n",
       "      <td>16</td>\n",
       "      <td>14</td>\n",
       "    </tr>\n",
       "    <tr>\n",
       "      <th>6</th>\n",
       "      <td>18</td>\n",
       "      <td>13</td>\n",
       "    </tr>\n",
       "    <tr>\n",
       "      <th>7</th>\n",
       "      <td>34</td>\n",
       "      <td>26</td>\n",
       "    </tr>\n",
       "    <tr>\n",
       "      <th>8</th>\n",
       "      <td>27</td>\n",
       "      <td>22</td>\n",
       "    </tr>\n",
       "    <tr>\n",
       "      <th>9</th>\n",
       "      <td>22</td>\n",
       "      <td>14</td>\n",
       "    </tr>\n",
       "  </tbody>\n",
       "</table>\n",
       "</div>"
      ],
      "text/plain": [
       "   Husband  Wife\n",
       "0       10    12\n",
       "1       17    13\n",
       "2       48    20\n",
       "3       28    25\n",
       "4       23    18\n",
       "5       16    14\n",
       "6       18    13\n",
       "7       34    26\n",
       "8       27    22\n",
       "9       22    14"
      ]
     },
     "execution_count": 3,
     "metadata": {},
     "output_type": "execute_result"
    }
   ],
   "source": [
    "socks = pd.DataFrame(data=[[10,12],[17,13],[48,20],[28,25],[23,18],[16,14],[18,13],[34,26],[27,22],[22,14]], columns=['Husband','Wife'])\n",
    "socks"
   ]
  },
  {
   "cell_type": "markdown",
   "id": "5906a5fc",
   "metadata": {},
   "source": [
    "Let's plot those data. \n",
    "\n",
    "For paired data a scatter plot is often a good choice, but actually for this tiny dataset, I prefer showing the pairs using a plot like that shown on the right. \n",
    "* You won't be required t reproduce this type of plot for the course.\n",
    "\n",
    "\n",
    "* Why do I prefer the plot on the right? We are going to be interested in whether husbands have more socks than their wives or vice versa - I think this can be very clearly seen in the plot on the right (by inspecting whether the lines slope up or downwards) - however if there were 1000 couples in the sample rather than 10 this plot would be too crowded and hard to inspect\n"
   ]
  },
  {
   "cell_type": "code",
   "execution_count": 4,
   "id": "7588c35f",
   "metadata": {},
   "outputs": [
    {
     "name": "stderr",
     "output_type": "stream",
     "text": [
      "/var/folders/q4/twg1yll54y142rc02m5wwbt40000gr/T/ipykernel_8754/629423090.py:9: FutureWarning: \n",
      "\n",
      "The `ci` parameter is deprecated. Use `errorbar=None` for the same effect.\n",
      "\n",
      "  sns.barplot(data=socks, ci=None, color=[0.9,0.9,0.9])\n"
     ]
    },
    {
     "data": {
      "image/png": "[encoded data removed]",
      "text/plain": [
       "<Figure size 800x400 with 2 Axes>"
      ]
     },
     "metadata": {},
     "output_type": "display_data"
    }
   ],
   "source": [
    "# Plotting code - don't get sidetracked by this, it's not that important\n",
    "plt.figure(figsize=(8,4))\n",
    "plt.subplot(1,2,1)\n",
    "sns.scatterplot(data=socks, x='Husband', y='Wife')\n",
    "plt.plot([0,50],[0,50],'r--') # add the line x=y for comparison\n",
    "\n",
    "\n",
    "plt.subplot(1,2,2)\n",
    "sns.barplot(data=socks, ci=None, color=[0.9,0.9,0.9])\n",
    "sns.lineplot(data=socks.T, legend=False, marker='o') # ci=None switches off errorbars\n",
    "plt.ylabel('pairs of socks owned')\n",
    "\n",
    "plt.tight_layout()\n",
    "plt.show()"
   ]
  },
  {
   "cell_type": "markdown",
   "id": "233aae63",
   "metadata": {},
   "source": [
    "**Note-** \n",
    "\n",
    "* In most couples (9/10) the husband owns more socks that the wife\n",
    "* There is one couple in which the husband has an extreme number of socks.\n",
    "\n",
    "#### Test statistic\n",
    "\n",
    "We need to sumamrize the sex difference as a number. \n",
    "\n",
    "Here, we are interested in the within-pairs difference in sock ownership, so we need the mean difference in pairs of socks owned, for [husband - wife].\n",
    "\n",
    "This mean difference, <tt>mean(Husband-Wife)</tt>, is calculated as follows:"
   ]
  },
  {
   "cell_type": "code",
   "execution_count": 5,
   "id": "0c6ac6e6",
   "metadata": {},
   "outputs": [
    {
     "data": {
      "text/plain": [
       "6.6"
      ]
     },
     "execution_count": 5,
     "metadata": {},
     "output_type": "execute_result"
    }
   ],
   "source": [
    "socks['difference'] = socks.Husband-socks.Wife # create a new column for the within-couple difference\n",
    "socks.difference.mean()\n"
   ]
  },
  {
   "cell_type": "markdown",
   "id": "24f48262",
   "metadata": {},
   "source": [
    "On average, the husbands own 6.6 more pairs of socks than their wives.\n",
    "\n",
    "### Is the result statistically significant? \n",
    "\n",
    "In our particular sample, husbands have (on average) more socks than their wives - our test statistic (<tt>mean(Husband-Wife)</tt>) is 6.6. \n",
    "\n",
    "However, even if there were no true sex differences in sock ownership, if we picked 10 random couples we wouldn't expect the average difference in number of socks owned to be *exactly zero* - just by chance the wives would sometimes have more socks than the husbands, or vice versa. \n",
    "\n",
    "Is it plausible that the sex difference we observed (husbands have 6.6 more pairs of socks than their wives) arose due to chance from a situation in which there is no true sex difference in sock ownership (ie, the *null hypothesis is true*?\n",
    "\n",
    "In that case, it would be just chance whether the person with more socks in each couple was the man or the woman.\n",
    "\n",
    "\n",
    "### Permutation\n",
    "\n",
    "In previous weeks we have obtained simulated distributions of statistics such as the sample mean, by drawing many samples from a (known) parent population (as in the exercises on the Central Limit Theorem) or by bootstrapping. Here we will attempt to do something similar.\n",
    "\n",
    "We don't have access to the parent population, only the sample of 10 couples. The sample tells us several interesting things about the parent distribution, regardless of sex effects:\n",
    "\n",
    "* For most couples there is a small difference in the number of pairs of socks owned\n",
    "* For some couples there is a large difference, driven by one member having way more socks than ois reasonable\n",
    "    * ie the distriution of differences has positive skew\n",
    "    \n",
    "* husbands with lots of socks tend to have wives with lots of socks \n",
    "    * ie there is a correlation in number of socks between husbands and wives) </ul>\n",
    "\n",
    "It also tells us about some potential sex effects:\n",
    "\n",
    "* in most couples the husband has more socks\n",
    "* the outlier individuals with loads of socks tend to be male\n",
    "\n",
    "What we are going to do is shuffle the data around to create many new (re)samples **preserving the non-sex-related information** but **ignoring the sex of the sock owner**. \n",
    "\n",
    "We will do this by creating lots of new *resamples* of the data in which, for each couple, we randomly decide who gets which label, *husband* or *wife*. Within each resample, some couples will retain their true labels and some will be relabelled; which couples are which will differ between resamples.\n",
    "\n",
    "For each resample, we then calculate the mean difference, <tt>mean(Husband-Wife)</tt>.\n",
    "\n",
    "After repeating the process thousands of times, we can ask on what proportion of random resamples we get a values of <tt>mean(Husband-Wife)</tt> at least as large as our observed difference, 6.6."
   ]
  },
  {
   "cell_type": "markdown",
   "id": "974cdaf1",
   "metadata": {},
   "source": [
    "### Run the simulation\n",
    "\n",
    "To generate new simulated datasets, we will shuffle around the datapoints in our original dataset. \n",
    "\n",
    "Which ones can we shuffle?\n",
    "\n",
    "* We assume there are no sex differences, so we can swap men for women\n",
    "* We assume that it *does* matters which couple you are in (high-sock men tend to have high-sock wives), therefore we cannot swap people between couples.\n",
    "\n",
    "Therefore, the only shuffling that we are allowed is to swap the labels 'Husband' and 'Wife' within couples. \n",
    "\n",
    "Conceptually, to generate a new simulated dataset (one *resample*), we go through each couple in turn and 'flip a virtual coin' to decide whether the labels 'Husband' and 'Wife' are flipped.\n",
    "\n",
    "If you are interested you can read more about how this would work in code at the bottom of this page.\n",
    "\n",
    "**Here are the original data and four random permutations:**\n",
    "\n",
    "<img src= \"../images/HT_wk1_4Permutations.png\" width=\"100%\" />\n",
    "\n",
    "Look closely. Each coloured line represents on couple. Note that some of the lines are left-right flipped, but the lines never move up or down overall (because we are only flipping people within couples).\n",
    "\n",
    "The grey bars show the group means in each permutation. \n",
    "* Sometimes the mean number of socks is higher for the husbands, sometimes for the wives. \n",
    "    * These two situations should happen equally often in the permuted data as the 'high sock' partner in each couple is assigned equally often the labels 'husband' and wife'.\n",
    "* The group with the higher mean does tend to be the group with the extreme 48-sock individual in it.\n",
    "\n",
    "#### Flipping - toy example\n",
    "\n",
    "The code below randomly flips the labels 'husband and wife' in half the couples. Run it a few times and \n",
    "\n",
    "To make it easier to see what is going on, I have created a tiny dataframe in which there are only three couples and the husband always has 10 more pairs of socks than the wife. \n",
    "\n",
    "- **you don't need to be able to reproduce this code** because we will use a built-in function to apply permutation tests, but you should try to understand conceptually what is happening"
   ]
  },
  {
   "cell_type": "code",
   "execution_count": 6,
   "id": "2edd4003",
   "metadata": {},
   "outputs": [
    {
     "data": {
      "text/html": [
       "<div>\n",
       "<style scoped>\n",
       "    .dataframe tbody tr th:only-of-type {\n",
       "        vertical-align: middle;\n",
       "    }\n",
       "\n",
       "    .dataframe tbody tr th {\n",
       "        vertical-align: top;\n",
       "    }\n",
       "\n",
       "    .dataframe thead th {\n",
       "        text-align: right;\n",
       "    }\n",
       "</style>\n",
       "<table border=\"1\" class=\"dataframe\">\n",
       "  <thead>\n",
       "    <tr style=\"text-align: right;\">\n",
       "      <th></th>\n",
       "      <th>Husband</th>\n",
       "      <th>Wife</th>\n",
       "      <th>difference</th>\n",
       "    </tr>\n",
       "  </thead>\n",
       "  <tbody>\n",
       "    <tr>\n",
       "      <th>0</th>\n",
       "      <td>10</td>\n",
       "      <td>12</td>\n",
       "      <td>-2</td>\n",
       "    </tr>\n",
       "    <tr>\n",
       "      <th>1</th>\n",
       "      <td>13</td>\n",
       "      <td>17</td>\n",
       "      <td>4</td>\n",
       "    </tr>\n",
       "    <tr>\n",
       "      <th>2</th>\n",
       "      <td>20</td>\n",
       "      <td>48</td>\n",
       "      <td>28</td>\n",
       "    </tr>\n",
       "    <tr>\n",
       "      <th>3</th>\n",
       "      <td>28</td>\n",
       "      <td>25</td>\n",
       "      <td>3</td>\n",
       "    </tr>\n",
       "    <tr>\n",
       "      <th>4</th>\n",
       "      <td>23</td>\n",
       "      <td>18</td>\n",
       "      <td>5</td>\n",
       "    </tr>\n",
       "    <tr>\n",
       "      <th>5</th>\n",
       "      <td>14</td>\n",
       "      <td>16</td>\n",
       "      <td>2</td>\n",
       "    </tr>\n",
       "    <tr>\n",
       "      <th>6</th>\n",
       "      <td>13</td>\n",
       "      <td>18</td>\n",
       "      <td>5</td>\n",
       "    </tr>\n",
       "    <tr>\n",
       "      <th>7</th>\n",
       "      <td>34</td>\n",
       "      <td>26</td>\n",
       "      <td>8</td>\n",
       "    </tr>\n",
       "    <tr>\n",
       "      <th>8</th>\n",
       "      <td>22</td>\n",
       "      <td>27</td>\n",
       "      <td>5</td>\n",
       "    </tr>\n",
       "    <tr>\n",
       "      <th>9</th>\n",
       "      <td>22</td>\n",
       "      <td>14</td>\n",
       "      <td>8</td>\n",
       "    </tr>\n",
       "  </tbody>\n",
       "</table>\n",
       "</div>"
      ],
      "text/plain": [
       "   Husband  Wife  difference\n",
       "0       10    12          -2\n",
       "1       13    17           4\n",
       "2       20    48          28\n",
       "3       28    25           3\n",
       "4       23    18           5\n",
       "5       14    16           2\n",
       "6       13    18           5\n",
       "7       34    26           8\n",
       "8       22    27           5\n",
       "9       22    14           8"
      ]
     },
     "execution_count": 6,
     "metadata": {},
     "output_type": "execute_result"
    }
   ],
   "source": [
    "socks_shuffled = socks.copy()  # work on a copy of the original dataframe\n",
    "for i in range(len(socks_shuffled)):\n",
    "    if np.random.rand()>0.5: # generate a random number between 0 and 1 - if it is more than 0.5:\n",
    "        socks_shuffled.loc[i,'Husband'] = socks.loc[i,'Wife'] # flip number of socks for husband and wife\n",
    "        socks_shuffled.loc[i,'Wife'] = socks.loc[i,'Husband'] # flip number of socks for husband and wife\n",
    "    #else:\n",
    "        # don't shuffle the row!\n",
    "socks_shuffled"
   ]
  },
  {
   "cell_type": "markdown",
   "id": "2bbe7db1",
   "metadata": {},
   "source": [
    "#### What?\n",
    "\n",
    "The above might be clearer in an example where the flips are easier to see.\n",
    "\n",
    "Try running the code block below a few times and keep an eye on how the dataframe changes - note that in the original dataframe the man always has an odd number of pairs of socks."
   ]
  },
  {
   "cell_type": "code",
   "execution_count": 7,
   "id": "dd417139",
   "metadata": {},
   "outputs": [
    {
     "data": {
      "text/html": [
       "<div>\n",
       "<style scoped>\n",
       "    .dataframe tbody tr th:only-of-type {\n",
       "        vertical-align: middle;\n",
       "    }\n",
       "\n",
       "    .dataframe tbody tr th {\n",
       "        vertical-align: top;\n",
       "    }\n",
       "\n",
       "    .dataframe thead th {\n",
       "        text-align: right;\n",
       "    }\n",
       "</style>\n",
       "<table border=\"1\" class=\"dataframe\">\n",
       "  <thead>\n",
       "    <tr style=\"text-align: right;\">\n",
       "      <th></th>\n",
       "      <th>Husband</th>\n",
       "      <th>Wife</th>\n",
       "    </tr>\n",
       "  </thead>\n",
       "  <tbody>\n",
       "    <tr>\n",
       "      <th>0</th>\n",
       "      <td>1</td>\n",
       "      <td>11</td>\n",
       "    </tr>\n",
       "    <tr>\n",
       "      <th>1</th>\n",
       "      <td>12</td>\n",
       "      <td>2</td>\n",
       "    </tr>\n",
       "    <tr>\n",
       "      <th>2</th>\n",
       "      <td>13</td>\n",
       "      <td>3</td>\n",
       "    </tr>\n",
       "  </tbody>\n",
       "</table>\n",
       "</div>"
      ],
      "text/plain": [
       "   Husband  Wife\n",
       "0        1    11\n",
       "1       12     2\n",
       "2       13     3"
      ]
     },
     "execution_count": 7,
     "metadata": {},
     "output_type": "execute_result"
    }
   ],
   "source": [
    "df = pd.DataFrame(data=[[11,1],[12,2],[13,3]], columns=['Husband','Wife'])\n",
    "\n",
    "df_shuffled = df.copy()  # work on a copy of the original dataframe\n",
    "for i in range(len(df)):\n",
    "    if np.random.rand()>0.5: # generate a random number between 0 and 1 - if it is more than 0.5:\n",
    "        df_shuffled.loc[i,'Husband'] = df.loc[i,'Wife'] # flip number of socks for husband and wife\n",
    "        df_shuffled.loc[i,'Wife'] = df.loc[i,'Husband'] # flip number of socks for husband and wife\n",
    "    #else:\n",
    "        # don't shuffle the row!\n",
    "df_shuffled"
   ]
  },
  {
   "cell_type": "markdown",
   "id": "87067c37",
   "metadata": {},
   "source": [
    "### Visualizing randoms shuffles in the sock data\n",
    "\n",
    "Back to our 'real' sock data\n",
    "\n",
    "Let's see how the distribution of differences changes over a few random shuffles.\n",
    "\n",
    "Below I generate 4 random shuffles of our sock data (in which some husbands and wives are randomly flipped), and plot the outcomes:"
   ]
  },
  {
   "cell_type": "code",
   "execution_count": 8,
   "id": "c8a67dd9",
   "metadata": {},
   "outputs": [
    {
     "name": "stderr",
     "output_type": "stream",
     "text": [
      "/var/folders/q4/twg1yll54y142rc02m5wwbt40000gr/T/ipykernel_8754/2198263489.py:3: FutureWarning: \n",
      "\n",
      "The `ci` parameter is deprecated. Use `errorbar=None` for the same effect.\n",
      "\n",
      "  sns.barplot(data=socks, ci=None, color=[0.9,0.9,0.9]) # ci=None switches off errorbars\n",
      "/var/folders/q4/twg1yll54y142rc02m5wwbt40000gr/T/ipykernel_8754/2198263489.py:20: FutureWarning: \n",
      "\n",
      "The `ci` parameter is deprecated. Use `errorbar=None` for the same effect.\n",
      "\n",
      "  sns.barplot(data=socks_shuffled, ci=None, color=[0.9,0.9,0.9]) # ci=None switches off errorbars\n",
      "/var/folders/q4/twg1yll54y142rc02m5wwbt40000gr/T/ipykernel_8754/2198263489.py:20: FutureWarning: \n",
      "\n",
      "The `ci` parameter is deprecated. Use `errorbar=None` for the same effect.\n",
      "\n",
      "  sns.barplot(data=socks_shuffled, ci=None, color=[0.9,0.9,0.9]) # ci=None switches off errorbars\n",
      "/var/folders/q4/twg1yll54y142rc02m5wwbt40000gr/T/ipykernel_8754/2198263489.py:20: FutureWarning: \n",
      "\n",
      "The `ci` parameter is deprecated. Use `errorbar=None` for the same effect.\n",
      "\n",
      "  sns.barplot(data=socks_shuffled, ci=None, color=[0.9,0.9,0.9]) # ci=None switches off errorbars\n",
      "/var/folders/q4/twg1yll54y142rc02m5wwbt40000gr/T/ipykernel_8754/2198263489.py:20: FutureWarning: \n",
      "\n",
      "The `ci` parameter is deprecated. Use `errorbar=None` for the same effect.\n",
      "\n",
      "  sns.barplot(data=socks_shuffled, ci=None, color=[0.9,0.9,0.9]) # ci=None switches off errorbars\n"
     ]
    },
    {
     "data": {
      "image/png": "[encoded data removed]",
      "text/plain": [
       "<Figure size 1000x400 with 5 Axes>"
      ]
     },
     "metadata": {},
     "output_type": "display_data"
    }
   ],
   "source": [
    "plt.figure(figsize=(10,4))\n",
    "plt.subplot(1,5,1)\n",
    "sns.barplot(data=socks, ci=None, color=[0.9,0.9,0.9]) # ci=None switches off errorbars\n",
    "for i in range(len(socks)):\n",
    "    plt.plot([0,1], [socks.Husband[i], socks.Wife[i]], '.-')\n",
    "    plt.xticks([0,1], labels=['Husband','Wife'])\n",
    "\n",
    "for n in range(4):\n",
    "    socks_shuffled = socks.copy()  # work on a copy of the original dataframe\n",
    "    for i in range(len(socks)):\n",
    "        if np.random.rand()>0.5: # generate a random number between 0 and 1 - if it is more than 0.5:\n",
    "            socks_shuffled.loc[i,'Husband'] = socks.loc[i,'Wife'] # flip number of socks for husband and wife\n",
    "            socks_shuffled.loc[i,'Wife'] = socks.loc[i,'Husband'] # flip number of socks for husband and wife\n",
    "        #else:\n",
    "        # don't shuffle the row!\n",
    "    socks_shuffled\n",
    "    \n",
    "\n",
    "    plt.subplot(1,5,n+2)\n",
    "    sns.barplot(data=socks_shuffled, ci=None, color=[0.9,0.9,0.9]) # ci=None switches off errorbars\n",
    "    for i in range(len(socks)):\n",
    "        plt.plot([0,1], [socks_shuffled.Husband[i], socks_shuffled.Wife[i]], '.-')\n",
    "        plt.xticks([0,1], labels=['Husband','Wife'])\n",
    "plt.tight_layout()\n",
    "plt.show()"
   ]
  },
  {
   "cell_type": "markdown",
   "id": "ed9e5ef2",
   "metadata": {},
   "source": [
    "We note that:\n",
    "    \n",
    "<ul>\n",
    "    <li> Different couples are randomly flipped in different simulated datasets (shuffles - look which colour=ed lines have reversed their slope)\n",
    "    <li> It matters a lot whether the couples with a big disparity were flipped - you can get a sense of this by looking at the grey bars which show the mean number of socks for men and women\n",
    "</ul>\n",
    "\n",
    "### Obtain the summary statistic of interest\n",
    "\n",
    "We are interested in the mean difference in pairs of socks owned [husband-wife]. For each shuffle this is obtained as follows:"
   ]
  },
  {
   "cell_type": "code",
   "execution_count": 9,
   "id": "7544e3ef",
   "metadata": {},
   "outputs": [
    {
     "name": "stdout",
     "output_type": "stream",
     "text": [
      "mean difference for the last shuffle = -1.0\n"
     ]
    }
   ],
   "source": [
    "mDiff = np.mean(socks_shuffled.Husband - socks_shuffled.Wife)\n",
    "print('mean difference for the last shuffle = ' + str(mDiff))"
   ]
  },
  {
   "cell_type": "markdown",
   "id": "801dc763",
   "metadata": {},
   "source": [
    "### Plot the null distribution for a large number of shuffles\n",
    "\n",
    "Now we can repeat the process for a large number of shuffles and get the mean difference in pairs of socks owned [husband-wife] for each shuffle. The distribution of these difference is the null distribution to which our observed difference (husbands own 6.6 more pairs) is to be compared."
   ]
  },
  {
   "cell_type": "code",
   "execution_count": 10,
   "id": "4445af3d",
   "metadata": {},
   "outputs": [
    {
     "data": {
      "image/png": "[encoded data removed]",
      "text/plain": [
       "<Figure size 640x480 with 1 Axes>"
      ]
     },
     "metadata": {},
     "output_type": "display_data"
    },
    {
     "name": "stdout",
     "output_type": "stream",
     "text": [
      "proportion >6.6 = 0.04%\n"
     ]
    }
   ],
   "source": [
    "nReps = 10000 # (number of shuffles)\n",
    "mDiff = np.empty(nReps) # array to store mean difference for each shuffle\n",
    "\n",
    "for j in range(nReps):\n",
    "    socks_shuffled = socks.copy()  # work on a copy of the original dataframe\n",
    "    for i in range(len(socks)):\n",
    "        if np.random.rand()>0.5: # generate a random number between 0 and 1 - if it is more than 0.5:\n",
    "            socks_shuffled.loc[i,'Husband'] = socks.loc[i,'Wife'] # flip number of socks for husband and wife\n",
    "            socks_shuffled.loc[i,'Wife'] = socks.loc[i,'Husband'] # flip number of socks for husband and wife\n",
    "        #else:\n",
    "        # don't shuffle the row!\n",
    "    mDiff[j] = np.mean(socks_shuffled.Husband - socks_shuffled.Wife)\n",
    "    \n",
    "sns.histplot(mDiff)\n",
    "plt.show()\n",
    "\n",
    "print('proportion >6.6 = ' + str(100*np.mean(mDiff>6.6)) + '%')"
   ]
  },
  {
   "cell_type": "markdown",
   "id": "0e88511f",
   "metadata": {},
   "source": [
    "We can see that the null distribution for the mean difference in socks owned between husbands and wives is a bit bimodal. This is probably due to the large influence of outliers (points to the right of the plot above are probably those where the two high-sock individuals were assigned to be husbands; points to the left are probably cases where the two high-sock individuals were assiged to be wives)\n",
    "\n",
    "### The $p$ value\n",
    "\n",
    "We can also calculate the proportion of cases in which the mean difference in socks owned for [Husband-Wife] exceeds the value we observed in our original sample, 6.6. This proportion is about 0.06% (it will actually vary on each run of the permutation test as the permutations are random - but hopefully not much). It tells us that if we simulate a situation in which sex does not determine the number of socks owned (but preserving some other important features of the dataset like the high skew, and the correlation between husabnds and their wives), there is only a 0.06% chance that we would get an apparent sex difference as large as the one we observed in our 'real' data.\n",
    "\n",
    "The probability that the test statistic (in this case, the mean difference in pairs of socks owned) would be observed if the null hypothesis were true, is sometimes called the <b><i>$p$-value</i></b>. \n",
    "\n",
    "Our permutation test shows that the $p$-value associated with the observed difference of means is 0.0006.\n",
    "\n",
    "The result is considered statistically significant if $p$ is smaller than some predetermined level, known as $\\alpha$. Usually $\\alpha = 0.05$ or $\\alpha = 0.01$ is used, so the result is significant if $p<0.05$ or $p<0.01$. Our result is therefore statistically significant."
   ]
  },
  {
   "cell_type": "markdown",
   "id": "ae1e1fe3",
   "metadata": {},
   "source": [
    "## Use a built in function\n",
    "\n",
    "Now you have seen how the permutation test works, we can learn how to run it more easily using the built in function <tt>scipy.stats.permutation_test</tt>\n",
    "\n",
    "<b>Note-</b> For those NOT using colab - You need scipy stats version > 1.8.0 to run this. You may need to check your version by running the following code block."
   ]
  },
  {
   "cell_type": "code",
   "execution_count": 11,
   "id": "58c0b46d",
   "metadata": {},
   "outputs": [
    {
     "data": {
      "text/plain": [
       "'1.10.0'"
      ]
     },
     "execution_count": 11,
     "metadata": {},
     "output_type": "execute_result"
    }
   ],
   "source": [
    "import scipy as scipy\n",
    "scipy.version.version"
   ]
  },
  {
   "cell_type": "markdown",
   "id": "b4a2e8ea",
   "metadata": {},
   "source": [
    "If this is less than 1.8.0 you need to update it - see the technical note in the first page of this chapter\n",
    "\n",
    "For those who are using Colab - check you followed the instructions at the top of this page"
   ]
  },
  {
   "cell_type": "markdown",
   "id": "4876cd34",
   "metadata": {},
   "source": [
    "### Syntax of <tt>stats.permutation_test</tt>\n",
    "\n",
    "Here is how we run the permutation test (same as the one we did with our own code above, although note how much more quickly this one runs!)"
   ]
  },
  {
   "cell_type": "code",
   "execution_count": 12,
   "id": "200125b4",
   "metadata": {},
   "outputs": [
    {
     "data": {
      "text/plain": [
       "PermutationTestResult(statistic=6.6, pvalue=0.005859375, null_distribution=array([ 6.6,  5. ,  5.6, ..., -5.6, -5. , -6.6]))"
      ]
     },
     "execution_count": 12,
     "metadata": {},
     "output_type": "execute_result"
    }
   ],
   "source": [
    "def mDiff(x, y):\n",
    "    return np.mean(x-y)\n",
    "\n",
    "stats.permutation_test((socks.Husband, socks.Wife), mDiff, permutation_type='samples', alternative='two-sided', n_resamples=10000)"
   ]
  },
  {
   "cell_type": "markdown",
   "id": "a13b89d1",
   "metadata": {},
   "source": [
    "Firstly, to reassure you this is doing a very similar job to our home-made code, check the p-value (should be about 0.06). \n",
    "\n",
    "We can also plot the null distribution, which hopefully looks similar to what we got from the home-made code:"
   ]
  },
  {
   "cell_type": "code",
   "execution_count": 13,
   "id": "ea965aee",
   "metadata": {},
   "outputs": [
    {
     "data": {
      "image/png": "[encoded data removed]",
      "text/plain": [
       "<Figure size 640x480 with 1 Axes>"
      ]
     },
     "metadata": {},
     "output_type": "display_data"
    }
   ],
   "source": [
    "res = stats.permutation_test((socks.Husband, socks.Wife), mDiff, permutation_type='samples', alternative='two-sided', n_resamples=10000)\n",
    "sns.histplot(res.null_distribution)\n",
    "plt.show()"
   ]
  },
  {
   "cell_type": "markdown",
   "id": "1fdec81e",
   "metadata": {},
   "source": [
    "However, the syntax may be a bit unfamiliar.\n",
    "\n",
    "Firstly, we had to give the function <tt>stats.permutation_test</tt> our two samples <tt>(socks.Husband, socks.Wife)</tt> as a pair of <b>series</b> (individual columns from the dataframe), rather than giving it the whole pandas dataframe as we do for many other stats functions.\n",
    "\n",
    "Secondly, to tell <tt>stats.permutation_test</tt> the test statistic we want to get the null distribution of, we had to pass it a <i>function</i> called <tt>mDiff</tt>, and this function had to have the property that it takes in two series <tt>(socks.Husband, socks.Wife)</tt> and returns a single number <tt>mean(socks.Husband, socks.Wife)</tt>"
   ]
  },
  {
   "cell_type": "markdown",
   "id": "a7afbd3b",
   "metadata": {},
   "source": [
    "### Defining a function\n",
    "\n",
    "You will have come across this in datacamp but we haven't used it since. Don't be scared! It's unfamiliar but quite handy. On the other hand for a pairwise permutation test, the function I have given you for mDiff is always going to work, so if in doubt you can just copy it :-)\n",
    "\n",
    "A function is a little computer programme that takes in some information (in this case, it takes in two series, <tt>(socks.Husband, socks.Wife)</tt> and returns some value (in this case the mean difference <tt>mean(socks.Husband, socks.Wife)</tt>"
   ]
  },
  {
   "cell_type": "code",
   "execution_count": 14,
   "id": "ab69c8ea",
   "metadata": {},
   "outputs": [
    {
     "data": {
      "text/plain": [
       "6.6"
      ]
     },
     "execution_count": 14,
     "metadata": {},
     "output_type": "execute_result"
    }
   ],
   "source": [
    "# define a function\n",
    "def mDiff(x, y):\n",
    "    return np.mean(x-y)\n",
    "\n",
    "# run the function for some inputs\n",
    "mDiff(socks.Husband, socks.Wife)"
   ]
  },
  {
   "cell_type": "markdown",
   "id": "4be2278c",
   "metadata": {},
   "source": [
    "Here's another example:"
   ]
  },
  {
   "cell_type": "code",
   "execution_count": 15,
   "id": "a59f97f8",
   "metadata": {},
   "outputs": [
    {
     "data": {
      "text/plain": [
       "0.30000000000000004"
      ]
     },
     "execution_count": 15,
     "metadata": {},
     "output_type": "execute_result"
    }
   ],
   "source": [
    "# definte a new function that divides one element of each pair by the other, and then adds up the result across pairs\n",
    "def bananas(x,y):\n",
    "    return sum(x/y)\n",
    "\n",
    "cats = np.array([1,2,3]) # one input array - have given it an arbitrary name\n",
    "dogs = np.array([10,20,30]) # another input array - have given it an arbitrary name\n",
    "\n",
    "bananas(cats,dogs)"
   ]
  },
  {
   "cell_type": "markdown",
   "id": "6bc1764a",
   "metadata": {},
   "source": [
    "Now we can see how we could run <tt>stats.permutation_test</tt> on our function <tt>bananas</tt> and our data <tt>cats</tt> and <tt>dogs</tt>"
   ]
  },
  {
   "cell_type": "code",
   "execution_count": 16,
   "id": "51006dfc",
   "metadata": {},
   "outputs": [
    {
     "data": {
      "text/plain": [
       "PermutationTestResult(statistic=0.30000000000000004, pvalue=0.25, null_distribution=array([ 0.3, 10.2, 10.2, 20.1, 10.2, 20.1, 20.1, 30. ]))"
      ]
     },
     "execution_count": 16,
     "metadata": {},
     "output_type": "execute_result"
    }
   ],
   "source": [
    "stats.permutation_test((cats, dogs), bananas, permutation_type='samples', alternative='two-sided', n_resamples=10000)"
   ]
  },
  {
   "cell_type": "markdown",
   "id": "416776bf",
   "metadata": {},
   "source": [
    "## Recap\n",
    "\n",
    "To run a permutation test on paired data, we randomly flipped some of the pairs so that the husband's sock count was assigned to the wife and vice versa. We did NOT move people between couples, as we want to retain the characteristic of the original dataset that high-sock husbands tend to have high-sock wives\n",
    "\n",
    "For each shuffle we calculated the mean (pairwise) difference in the number of socks - husband-wife. \n",
    "\n",
    "Permutation testing in this way gives us a null distribution for the mean difference. Values of mean difference that occur rarely in the null distribution are considered statistically significant.\n",
    "    \n",
    "To run the permutation test with <tt>scipy.stats</tt> we need the option `permutation_type='samples'`"
   ]
  },
  {
   "cell_type": "code",
   "execution_count": null,
   "id": "7513a6b4",
   "metadata": {},
   "outputs": [],
   "source": []
  }
 ],
 "metadata": {
  "kernelspec": {
   "display_name": "Python 3 (ipykernel)",
   "language": "python",
   "name": "python3"
  },
  "language_info": {
   "codemirror_mode": {
    "name": "ipython",
    "version": 3
   },
   "file_extension": ".py",
   "mimetype": "text/x-python",
   "name": "python",
   "nbconvert_exporter": "python",
   "pygments_lexer": "ipython3",
   "version": "3.9.18"
  }
 },
 "nbformat": 4,
 "nbformat_minor": 5
}