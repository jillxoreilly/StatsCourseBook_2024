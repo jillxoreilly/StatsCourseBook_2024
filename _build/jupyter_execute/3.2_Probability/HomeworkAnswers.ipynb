{
 "cells": [
  {
   "cell_type": "code",
   "execution_count": null,
   "id": "02e2c8fa-f79b-43a0-bb4b-04439ff55fc6",
   "metadata": {},
   "outputs": [],
   "source": []
  },
  {
   "cell_type": "code",
   "execution_count": 1,
   "id": "80aa49fa-b006-4f80-9a0b-4a27eda73e3c",
   "metadata": {
    "tags": []
   },
   "outputs": [],
   "source": [
    "# Set-up Python libraries - you need to run this but you don't need to change it\n",
    "import numpy as np\n",
    "import matplotlib.pyplot as plt\n",
    "import scipy.stats as stats\n",
    "import pandas as pd\n",
    "import seaborn as sns\n",
    "sns.set_theme(style='white')\n",
    "import statsmodels.api as sm\n",
    "import statsmodels.formula.api as smf"
   ]
  },
  {
   "cell_type": "markdown",
   "id": "fff4b706-d278-4107-9f5b-10d2b3c1fce5",
   "metadata": {},
   "source": [
    "# Power"
   ]
  },
  {
   "cell_type": "markdown",
   "id": "be844cff-18b3-4e46-965d-069a121d3e8c",
   "metadata": {},
   "source": [
    "**1. Which effect size requires more participants to detect, d=0.4 or d=0.5?**\n",
    "\n",
    "0.4, smaller effect sizes need larger n"
   ]
  },
  {
   "cell_type": "markdown",
   "id": "5705c92e-3b67-4f5d-95c4-2734d9720caa",
   "metadata": {},
   "source": [
    "**2.\tFor an effect size of d=0.5, which alpha value requires more participants to achieve 80% power, 0.05 or 0.01?**\n",
    "\n",
    "0.01, smaller alpha requires more participants for the same power"
   ]
  },
  {
   "cell_type": "markdown",
   "id": "7b7428af-95e5-4109-9a59-3ec543ad1008",
   "metadata": {
    "tags": []
   },
   "source": [
    "**3.\tTesting for an effect size of r=0.37, with a sample size of 50 pairs, what is the power (at alpha=0.05) for \n",
    "a.\ta one-tailed test and \n",
    "b.\ta two tailed test? \n",
    "Briefly explain the difference in power.**\n"
   ]
  },
  {
   "cell_type": "code",
   "execution_count": 2,
   "id": "32d300de-e7b7-4fce-8caa-a43c22c0ad90",
   "metadata": {
    "tags": []
   },
   "outputs": [
    {
     "name": "stdout",
     "output_type": "stream",
     "text": [
      "d=0.390217536008329\n",
      "power for one-tailed= 85.90317965658531%\n",
      "power for two-tailed= 77.18207898886456%\n"
     ]
    }
   ],
   "source": [
    "# import required modules\n",
    "from statsmodels.stats.power import TTestPower\n",
    "\n",
    "r = 0.37\n",
    "n = 50\n",
    "t = (r*(n-2)**0.5)/((1-r**2)**0.5) # note **2 means 'squared', **0.5 means 'square root')\n",
    "d = t/(n**0.5)\n",
    "print('d=' + str(d))\n",
    "\n",
    "analysis = TTestPower()\n",
    "\n",
    "# solve for power (one tail)\n",
    "power = analysis.solve_power(effect_size=d, alpha=0.05, nobs=n, power=None, alternative='larger')\n",
    "print('power for one-tailed= ' + str(power*100) + '%')\n",
    "\n",
    "# solve for power (two tail)\n",
    "power = analysis.solve_power(effect_size=d, alpha=0.05, nobs=n, power=None, alternative='two-sided')\n",
    "print('power for two-tailed= ' + str(power*100) + '%')"
   ]
  },
  {
   "cell_type": "markdown",
   "id": "8f09ea67-4ad4-4c13-931b-01812d8c5f6b",
   "metadata": {},
   "source": [
    "power is higher for a one-tailed test as, given the direction of effect is known, a lower difference of means is needed to achieve statistical significance for a one-tailed test tahn a two-tailed test"
   ]
  },
  {
   "cell_type": "markdown",
   "id": "d1f7f73f-2c2a-4515-afa3-a826e2f1ecd7",
   "metadata": {},
   "source": [
    "**4.\tThe heights of 10 English adult men and 10 Dutch adult men are measured. The means and standard deviations for the groups are as follows:**\n",
    "* English: mean = 177cm, sd = 7.7cm\n",
    "* Dutch: mean = 184cm, sd = 6.5cm\n",
    "\n",
    "**a. What is the effect size for the difference of means?**\n"
   ]
  },
  {
   "cell_type": "code",
   "execution_count": 3,
   "id": "246a0100-c61e-4a4a-a60d-0bb6a0c80311",
   "metadata": {
    "tags": []
   },
   "outputs": [
    {
     "name": "stdout",
     "output_type": "stream",
     "text": [
      "d = 0.982413808873468\n"
     ]
    }
   ],
   "source": [
    "\n",
    "x1 = 177\n",
    "x2 = 184\n",
    "\n",
    "s1 = 7.7\n",
    "s2 = 6.5\n",
    "\n",
    "n1 = 10\n",
    "n2 = 10\n",
    "\n",
    "s=(((n1-1)*(s2**2) + (n2-1)*(s1**2))/(n1+n2-2))**0.5 # **0.5 means 'to the power of a half' ie square root\n",
    "s\n",
    "\n",
    "# Cohen's d\n",
    "d=(x1-x2)/s\n",
    "print('d = ' + str(abs(d)))"
   ]
  },
  {
   "cell_type": "markdown",
   "id": "c99bbe91-5f14-48d7-aeaf-a53f590cbb3f",
   "metadata": {},
   "source": [
    "**b.\tWhat is the t-value (you can work it out using the equations!)**\n",
    "\n",
    "$$t = \\frac{\\bar{x_1}-\\bar{x_2}}{s\\sqrt{\\frac{1}{n_1}+\\frac{1}{n_2}}}$$\n"
   ]
  },
  {
   "cell_type": "code",
   "execution_count": 4,
   "id": "13e9b188-0b07-42eb-8acc-54ca807507fc",
   "metadata": {
    "tags": []
   },
   "outputs": [
    {
     "name": "stdout",
     "output_type": "stream",
     "text": [
      "t = 2.1967440586755607\n"
     ]
    }
   ],
   "source": [
    "t=(x1-x2)/(s*((1/n1)+(1/n2))**0.5)\n",
    "print('t = ' + str(abs(t)))"
   ]
  },
  {
   "cell_type": "markdown",
   "id": "73271e5b-bd7b-49dc-aafe-e1e79dbcd25e",
   "metadata": {},
   "source": [
    "Note I am reporting the positive t-value but either sign is OK as it is a 2-tailed test"
   ]
  },
  {
   "cell_type": "markdown",
   "id": "53035d47-6832-4fb9-a95c-ad5d7569d6dd",
   "metadata": {},
   "source": [
    "**c.\tA two-tailed t-test for difference of means is carried out at the alpha=5% level. The critical t-value is t=2.1 (that is, the test is significant if it is greater than 2.1)**\n",
    "\n",
    "**i.\tAssuming the null hypothesis is true, what is the probability of a false positive?**\n",
    "\n",
    "5% as the alpha value is 0.05\n",
    "\n",
    "\n",
    "**ii.\tAssuming the population effect size is the same as the effect size in the sample, what is the probability of a false negative?**\n",
    "\n",
    "Need a power analysis:"
   ]
  },
  {
   "cell_type": "code",
   "execution_count": 5,
   "id": "107f4f49-1629-4952-af82-8fe07ca0ce99",
   "metadata": {
    "tags": []
   },
   "outputs": [
    {
     "name": "stdout",
     "output_type": "stream",
     "text": [
      "power = 0.5473366753981148\n"
     ]
    }
   ],
   "source": [
    "# import required modules\n",
    "from statsmodels.stats.power import TTestIndPower\n",
    "\n",
    "# create an analysis of the correct form\n",
    "analysis = TTestIndPower()\n",
    "\n",
    "# solve for power\n",
    "power = analysis.solve_power(effect_size=d, alpha=0.05, nobs1=10, ratio=1, power=None, alternative='two-sided')\n",
    "print('power = ' + str(power))"
   ]
  },
  {
   "cell_type": "markdown",
   "id": "e976f33c-4cb6-4874-952b-2a5edf946905",
   "metadata": {},
   "source": [
    "Probability of a false negative is 1-0.55 = 45%"
   ]
  },
  {
   "cell_type": "markdown",
   "id": "917a83b8-341d-4658-a044-f822b87147b9",
   "metadata": {},
   "source": [
    "**5.\tIt is sometimes said that significant effects in studies with small sample sizes (underpowered studies) are more likely to be false positives than effects in larger studies. Can you explain why? Key terms to include in your answer are ‘false positive’, ‘power’ and ‘file drawer effect’ – if unsure about the last one (which was mentioned only briefly in the lecture), you can try Googling it!**"
   ]
  },
  {
   "cell_type": "markdown",
   "id": "59e80b70-2f4b-493d-90b4-ef61689f6f7e",
   "metadata": {},
   "source": [
    "The file drawer effect is the phenomenon that studies with statistically significant effects are much more likely to be published. These will be a mixture of true positives and false positives.\n",
    "\n",
    "When sample size is small, the power is low and therefore the probability of false negatives is high. Conversely the probability of true positives is low.\n",
    "\n",
    "The probability of false positives if the null is true is fixed at 5% (at alpha=0.05%) regardless of sample size\n",
    "\n",
    "Therefore, amongst the published (statistically significant results), we expect the same number of false posives for small and large studies, but many fewer true positives for small studies than large studies. Therefore the *proportion* of published studies that are true positives will be lower for small studies. \n"
   ]
  },
  {
   "cell_type": "markdown",
   "id": "fa4e34ae-a3f1-4ede-90f3-f096b47f2600",
   "metadata": {},
   "source": [
    "# Binomial and Normal Distributions\n",
    "\n",
    "**1.\tA factory produced bags of mini eggs which contain 60 chocolate eggs. We can reasonably assume that the distribution of weights of the bags of eggs is Normal. Explain why, with reference to the central limit theorem.**\n",
    "\n",
    "The weight of a bag of eggs is the sum of the weights of 60 eggs. If the random variation in weight of individual eggs is independent (which seems reasonable), then the variation in the means of smaples of 60 is normal, by the central limit theorem. But the weight of thje bag of 60 eggs is just 60x the mean weight of the eggs in the bag. So this is also normally distributed.\n",
    "\n",
    "This is an example of a case in which a measured variable (weights of bags of eggs) is normal because the noise in that measurement arises from a large number of independent sources\n"
   ]
  },
  {
   "cell_type": "markdown",
   "id": "afef769e-32fc-4653-b785-8068d2b58998",
   "metadata": {},
   "source": [
    "**2.\tThe heights of British women are normally distributed with mean 166cm and standard deviation 6cm.  What is the probability that, in a group of 50 women, at least three are over 175cm tall? (You need to use both the binomial and the normal distributions here)**"
   ]
  },
  {
   "cell_type": "code",
   "execution_count": 6,
   "id": "a1ffbe24-a1a0-49aa-8d20-6784c9da80e3",
   "metadata": {
    "tags": []
   },
   "outputs": [
    {
     "data": {
      "text/plain": [
       "0.6577768651225785"
      ]
     },
     "execution_count": 6,
     "metadata": {},
     "output_type": "execute_result"
    }
   ],
   "source": [
    "#Probability that one is over 175cm\n",
    "p = 1-stats.norm.cdf(175,166,6)\n",
    "\n",
    "#probability that two or fewer in n=50 are over 175cm\n",
    "1-stats.binom.cdf(2,50,p)"
   ]
  },
  {
   "cell_type": "markdown",
   "id": "ff8739f7-fdc9-40ce-b0ff-435a387a23b9",
   "metadata": {
    "tags": []
   },
   "source": [
    "66%"
   ]
  },
  {
   "cell_type": "markdown",
   "id": "5eb996d9-1e10-461d-a912-f3bf5069983c",
   "metadata": {},
   "source": [
    "**3.\tThe normal distribution is a good approximation to the binomial when np and nq are both greater than 5. Explain why the approximation breaks down when these conditions are not met (ie, when n is low, or when p is close to 0 or 1).**\n",
    "\n",
    "The normal-like shape emerges from the number of permutations for each value of k, when n is high.\n",
    "\n",
    "The shape of the binomial distribution depends on the number of permutations giving each value of k, and the probability of hits and misses within each permutation. When the probability of hits and misses is even (p=0.5) the dostribbution is symmmetrical but as p goes away from 0.5 (towards 1 or 0) the distribution becomes skewed.\n",
    "\n",
    "As n increases, the skew at a given value of p becomes less prominent, therefore a roughly-symmetrical distribution is obtained even for values of p far from 0.5"
   ]
  },
  {
   "cell_type": "markdown",
   "id": "04a1dc89-cb80-4085-b82c-90460e5c6fb0",
   "metadata": {},
   "source": [
    "**4.\tHow do we define the ‘best fitting normal distribution’ when fitting a normal approximation to the binomial**\n",
    "\n",
    "\n",
    "$$k \\sim \\mathcal{N}(np,\\sqrt{npq})$$\n",
    "\n",
    "The normal has two parameters, mean and sd. If these are set to match the mean and sd of the binomial to be matched, we have done all we can to get the 'best fit'"
   ]
  },
  {
   "cell_type": "markdown",
   "id": "e24430f1-a6db-4ddc-a3e0-309b5f45cac2",
   "metadata": {
    "tags": []
   },
   "source": [
    "# Probability theory and Bayes\n",
    "\n",
    "**For a certain rare disease, 0.1% of the population are infected at any given time. A screening test for the disease measures the level of a certain protein in the blood of the patient. In healthy individuals, the protein level is normally distributed with mean 14300 and standard deviation 1540. In infected individuals, the protein level is normally distributed with mean 27000 and standard deviation 3320.**\n",
    "\n",
    "**It is decided that if the protein level is above a certain cut-off, patients will be called back for a second test, which is conclusive but involves a painful biopsy.**\n"
   ]
  },
  {
   "cell_type": "markdown",
   "id": "3117e711-338a-4357-a070-2f80e861cdbd",
   "metadata": {},
   "source": [
    "**a. Sketch the distribution of protein levels in both healthy and infected individuals on separate graphs.**"
   ]
  },
  {
   "cell_type": "markdown",
   "id": "275d5de9-7678-4410-b43e-5b6a2cf57c50",
   "metadata": {},
   "source": [
    "**b. Say I want to set the cut-off point such that 99% of infected individuals will be called back for further testing. What is the cut-off point?**"
   ]
  },
  {
   "cell_type": "code",
   "execution_count": 7,
   "id": "e70827f0-4f99-4d72-a859-8858e4c5c1f9",
   "metadata": {
    "tags": []
   },
   "outputs": [
    {
     "name": "stdout",
     "output_type": "stream",
     "text": [
      "19276.52505818441\n",
      "0.010190007915349361\n"
     ]
    }
   ],
   "source": [
    "# Note the cutoff point will be *below* the mean for infected individuals*\n",
    "\n",
    "# Solution 1: use ppf (would have needed to look this up in the help of scipy stats)\n",
    "print(stats.norm.ppf(0.01,27000,3320))\n",
    "\n",
    "# Solution 2: change the first argument of cdf until you get the right answer\n",
    "# approximate start point obtained by rule of thumb that 99% of values lie within 3sd of the mean\n",
    "print(stats.norm.cdf(19300,27000,3320))"
   ]
  },
  {
   "cell_type": "markdown",
   "id": "d5b94229-d997-46b5-a4e5-d5b10bae1572",
   "metadata": {},
   "source": [
    "**c) Given the cut off point defined in part b, what proportion of healthy individuals will be called back for further testing?**\n"
   ]
  },
  {
   "cell_type": "code",
   "execution_count": 8,
   "id": "e4e9e677-fb76-4c2d-b774-13300572da2d",
   "metadata": {
    "tags": []
   },
   "outputs": [
    {
     "data": {
      "text/plain": [
       "0.0006150264753376211"
      ]
     },
     "execution_count": 8,
     "metadata": {},
     "output_type": "execute_result"
    }
   ],
   "source": [
    "# note it will be healthy people with scores *over* the cutoff\n",
    "1-stats.norm.cdf(19277, 14300, 1540)"
   ]
  },
  {
   "cell_type": "markdown",
   "id": "9dab0abf-a49c-4341-8836-5694d82d966a",
   "metadata": {},
   "source": [
    "0.061%"
   ]
  },
  {
   "cell_type": "markdown",
   "id": "5ce2f0f7-08c2-45c1-8e71-8e13924650ec",
   "metadata": {},
   "source": [
    "**4.\tA given patient is called back for further testing. What is the probability he has the disease?**"
   ]
  },
  {
   "cell_type": "code",
   "execution_count": 9,
   "id": "4d97254b-90d4-4a1c-8421-3c5e8f1537d1",
   "metadata": {
    "tags": []
   },
   "outputs": [
    {
     "data": {
      "text/plain": [
       "0.6170488833866578"
      ]
     },
     "execution_count": 9,
     "metadata": {},
     "output_type": "execute_result"
    }
   ],
   "source": [
    "pD = 0.001 # prior probability/base rate for disease\n",
    "pTgD = 0.99 # p(T|D)=0.99; this is the probability of being called back if infected\n",
    "pTgDc = 0.000615026 #p(T|Dc); this is the probability of being called back if healthy, as calculated above\n",
    "pT = (pTgD * pD) + (pTgDc * (1-pD))\n",
    "\n",
    "# Bayes Theorem\n",
    "pDgT = (pTgD * pD)/pT\n",
    "\n",
    "pDgT\n",
    "\n"
   ]
  },
  {
   "cell_type": "markdown",
   "id": "0cb296ca-d93e-4637-82ef-291fa4ed8b86",
   "metadata": {},
   "source": [
    "62%"
   ]
  },
  {
   "cell_type": "markdown",
   "id": "1b28be2a-533b-4881-a5ca-e520fc519647",
   "metadata": {},
   "source": [
    "**5.\tIf one million patients are screened, how many would we expect to get an incorrect result from the screening test?**"
   ]
  },
  {
   "cell_type": "code",
   "execution_count": 10,
   "id": "13cd9ebd-1905-4efc-aa15-03bea468d6d1",
   "metadata": {
    "tags": []
   },
   "outputs": [
    {
     "name": "stdout",
     "output_type": "stream",
     "text": [
      "10.0\n",
      "614.410974\n",
      "624.410974\n"
     ]
    }
   ],
   "source": [
    "# false negatives = n * proportion infected * p(false negative given infected) - all given in question\n",
    "fn = 1000000 * 0.001 * 0.01\n",
    "\n",
    "# false positives = n * proportion infected * p(false positive given not infected) - latter is from q3\n",
    "fp = 1000000 * (1-0.001) * 0.000615026\n",
    "\n",
    "print(fn)\n",
    "print(fp)\n",
    "print(fn+fp)\n",
    "\n"
   ]
  },
  {
   "cell_type": "markdown",
   "id": "ac720489-bff7-4b70-8743-6ad683fe04c9",
   "metadata": {
    "tags": []
   },
   "source": [
    "624 people will get a wrong result, of whom 10 are false negatives and 614 are false positives"
   ]
  },
  {
   "cell_type": "markdown",
   "id": "8070e6c5-a3ae-4e48-9099-3cd81a65daae",
   "metadata": {},
   "source": [
    "**Consider the screening as a hypothesis testing problem in which the null hypothesis is that the patient is not infected:**\n",
    "\n",
    "**6. Define a type I and type II error in this context**\n",
    "\n",
    "Type I is false positive - ie telling the person they are infected when they are not (false alarm, may lead to unnecessary treatment)\n",
    "\n",
    "Type II is false negative - ie telling the person they are not infected when they are (missing the infection, may lead to failure to treat)\n"
   ]
  },
  {
   "cell_type": "markdown",
   "id": "24c2e544-11d9-4b75-8618-bb18f5894668",
   "metadata": {},
   "source": [
    "**7.\tWhat would happen to the number of type I and type II errors if a lower protein level was used as the cut-off? Is this desirable?**\n",
    "\n",
    "Since high levels are indicative of disease, lowering the cutoff would reduce false negatives but increase false positives. It would mean fewer cases are missed, but at the expense of many more people getting unnecessary biopsies. Since there are already 58 unnecessary biopsies per missed case, it may be undesirable to tip the balance even further - but it depends on the consequences of missing a case (will the disease still be treatable if detected later on?)"
   ]
  },
  {
   "cell_type": "markdown",
   "id": "0fe8b0ee-a152-4c9b-9bc4-de3dbcffc9e9",
   "metadata": {},
   "source": [
    "**8. Without calculation, state which would affect the greater number of patients, the increase in type I or type II errors? Give a reason.**\n",
    "\n",
    "The increased false positives (Type I) will affect more patients as the disease is rare and the cutoff already gives 58 false positives for each false negaitves"
   ]
  },
  {
   "cell_type": "markdown",
   "id": "56709817-2e15-4e35-a555-5d8aed746e02",
   "metadata": {},
   "source": [
    "**9. What else would you need to know to decide whether to lower the cutoff point?**\n",
    "\n",
    "the consequences of missing a case (will the disease still be treatable if detected later on?)"
   ]
  },
  {
   "cell_type": "markdown",
   "id": "5b7c5c42-71ff-46ac-a997-3cf039ae4f0c",
   "metadata": {},
   "source": [
    "**10. Say the prevalence of the disease in the population was 10%. Without calculation: would the proportion of individuals being mis-diagnosed change? Give a reason.**\n",
    "\n",
    "Yes, the number of false negatives would increase as the proportion of true cases missed would be fixed, but the number would increase in line with the increase in disease prevalence. The number of false positives would decrease for similar reasons, but not necessarily by a matching amount."
   ]
  },
  {
   "cell_type": "code",
   "execution_count": null,
   "id": "e6079137-3d99-4b8e-a722-27d8aa4fd5df",
   "metadata": {},
   "outputs": [],
   "source": []
  },
  {
   "cell_type": "code",
   "execution_count": null,
   "id": "c1b64560-4328-4187-9d12-2d674dd9ece7",
   "metadata": {},
   "outputs": [],
   "source": []
  }
 ],
 "metadata": {
  "kernelspec": {
   "display_name": "Python 3 (ipykernel)",
   "language": "python",
   "name": "python3"
  },
  "language_info": {
   "codemirror_mode": {
    "name": "ipython",
    "version": 3
   },
   "file_extension": ".py",
   "mimetype": "text/x-python",
   "name": "python",
   "nbconvert_exporter": "python",
   "pygments_lexer": "ipython3",
   "version": "3.11.7"
  }
 },
 "nbformat": 4,
 "nbformat_minor": 5
}