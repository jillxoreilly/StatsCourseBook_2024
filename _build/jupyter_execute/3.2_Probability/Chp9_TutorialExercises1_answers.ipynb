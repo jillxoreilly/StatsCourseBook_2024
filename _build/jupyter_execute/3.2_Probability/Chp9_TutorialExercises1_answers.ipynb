{
 "cells": [
  {
   "cell_type": "markdown",
   "id": "93fda237-0977-46c0-8035-a2f8f06d61fb",
   "metadata": {
    "tags": []
   },
   "source": [
    "# Tutorial Exercises 1: Probability Jargon in Python\n",
    "\n",
    "In this section we will revise the terms for combinations of events and how they relate to frequencies in a `pandas` dataframe.\n",
    "\n",
    "You should be able to answer the following questions with the help of the `pandas` function `query` (to find the rows matching some criterion) and the function `len()`, which finds the length of the dataframe within the parentheses.\n",
    "\n"
   ]
  },
  {
   "cell_type": "markdown",
   "id": "1f6ca970-bb56-4098-8d3e-4dbcb15deaaa",
   "metadata": {},
   "source": [
    "### Set up Python libraries\n",
    "\n",
    "As usual, run the code cell below to import the relevant Python libraries"
   ]
  },
  {
   "cell_type": "code",
   "execution_count": 1,
   "id": "5912aa02-3e45-4e81-9a26-a45334c31c26",
   "metadata": {},
   "outputs": [],
   "source": [
    "# Set-up Python libraries - you need to run this but you don't need to change it\n",
    "import numpy as np\n",
    "import matplotlib.pyplot as plt\n",
    "import scipy.stats as stats\n",
    "import pandas as pd\n",
    "import seaborn as sns\n",
    "sns.set_theme(style='white')\n",
    "import statsmodels.api as sm\n",
    "import statsmodels.formula.api as smf"
   ]
  },
  {
   "cell_type": "markdown",
   "id": "a5c7b791-2ea1-4d77-8f0b-1ce77c719e81",
   "metadata": {},
   "source": [
    "## Event combinations\n",
    "\n",
    "Let's work with the (made up) data on students from Beaufort and Lonsdale college."
   ]
  },
  {
   "cell_type": "code",
   "execution_count": 2,
   "id": "d8a2688f-6f39-488a-b53a-fd4f1535e430",
   "metadata": {
    "tags": []
   },
   "outputs": [
    {
     "data": {
      "text/html": [
       "<div>\n",
       "<style scoped>\n",
       "    .dataframe tbody tr th:only-of-type {\n",
       "        vertical-align: middle;\n",
       "    }\n",
       "\n",
       "    .dataframe tbody tr th {\n",
       "        vertical-align: top;\n",
       "    }\n",
       "\n",
       "    .dataframe thead th {\n",
       "        text-align: right;\n",
       "    }\n",
       "</style>\n",
       "<table border=\"1\" class=\"dataframe\">\n",
       "  <thead>\n",
       "    <tr style=\"text-align: right;\">\n",
       "      <th></th>\n",
       "      <th>ID_code</th>\n",
       "      <th>College</th>\n",
       "      <th>Subject</th>\n",
       "      <th>Score_preVac</th>\n",
       "      <th>Score_postVac</th>\n",
       "    </tr>\n",
       "  </thead>\n",
       "  <tbody>\n",
       "    <tr>\n",
       "      <th>0</th>\n",
       "      <td>247610</td>\n",
       "      <td>Lonsdale</td>\n",
       "      <td>PPE</td>\n",
       "      <td>60</td>\n",
       "      <td>35</td>\n",
       "    </tr>\n",
       "    <tr>\n",
       "      <th>1</th>\n",
       "      <td>448590</td>\n",
       "      <td>Lonsdale</td>\n",
       "      <td>PPE</td>\n",
       "      <td>43</td>\n",
       "      <td>44</td>\n",
       "    </tr>\n",
       "    <tr>\n",
       "      <th>2</th>\n",
       "      <td>491100</td>\n",
       "      <td>Lonsdale</td>\n",
       "      <td>engineering</td>\n",
       "      <td>79</td>\n",
       "      <td>69</td>\n",
       "    </tr>\n",
       "    <tr>\n",
       "      <th>3</th>\n",
       "      <td>316150</td>\n",
       "      <td>Lonsdale</td>\n",
       "      <td>PPE</td>\n",
       "      <td>55</td>\n",
       "      <td>61</td>\n",
       "    </tr>\n",
       "    <tr>\n",
       "      <th>4</th>\n",
       "      <td>251870</td>\n",
       "      <td>Lonsdale</td>\n",
       "      <td>engineering</td>\n",
       "      <td>62</td>\n",
       "      <td>65</td>\n",
       "    </tr>\n",
       "    <tr>\n",
       "      <th>...</th>\n",
       "      <td>...</td>\n",
       "      <td>...</td>\n",
       "      <td>...</td>\n",
       "      <td>...</td>\n",
       "      <td>...</td>\n",
       "    </tr>\n",
       "    <tr>\n",
       "      <th>296</th>\n",
       "      <td>440570</td>\n",
       "      <td>Beaufort</td>\n",
       "      <td>history</td>\n",
       "      <td>75</td>\n",
       "      <td>70</td>\n",
       "    </tr>\n",
       "    <tr>\n",
       "      <th>297</th>\n",
       "      <td>826030</td>\n",
       "      <td>Beaufort</td>\n",
       "      <td>maths</td>\n",
       "      <td>52</td>\n",
       "      <td>49</td>\n",
       "    </tr>\n",
       "    <tr>\n",
       "      <th>298</th>\n",
       "      <td>856260</td>\n",
       "      <td>Beaufort</td>\n",
       "      <td>Biology</td>\n",
       "      <td>83</td>\n",
       "      <td>84</td>\n",
       "    </tr>\n",
       "    <tr>\n",
       "      <th>299</th>\n",
       "      <td>947060</td>\n",
       "      <td>Beaufort</td>\n",
       "      <td>engineering</td>\n",
       "      <td>62</td>\n",
       "      <td>65</td>\n",
       "    </tr>\n",
       "    <tr>\n",
       "      <th>300</th>\n",
       "      <td>165780</td>\n",
       "      <td>Beaufort</td>\n",
       "      <td>PPE</td>\n",
       "      <td>48</td>\n",
       "      <td>56</td>\n",
       "    </tr>\n",
       "  </tbody>\n",
       "</table>\n",
       "<p>301 rows × 5 columns</p>\n",
       "</div>"
      ],
      "text/plain": [
       "     ID_code   College      Subject  Score_preVac  Score_postVac\n",
       "0     247610  Lonsdale          PPE            60             35\n",
       "1     448590  Lonsdale          PPE            43             44\n",
       "2     491100  Lonsdale  engineering            79             69\n",
       "3     316150  Lonsdale          PPE            55             61\n",
       "4     251870  Lonsdale  engineering            62             65\n",
       "..       ...       ...          ...           ...            ...\n",
       "296   440570  Beaufort      history            75             70\n",
       "297   826030  Beaufort        maths            52             49\n",
       "298   856260  Beaufort      Biology            83             84\n",
       "299   947060  Beaufort  engineering            62             65\n",
       "300   165780  Beaufort          PPE            48             56\n",
       "\n",
       "[301 rows x 5 columns]"
      ]
     },
     "execution_count": 2,
     "metadata": {},
     "output_type": "execute_result"
    }
   ],
   "source": [
    "wb = pd.read_csv('https://raw.githubusercontent.com/jillxoreilly/StatsCourseBook_2024/main/data/WellbeingSample.csv')\n",
    "wb"
   ]
  },
  {
   "cell_type": "markdown",
   "id": "5e2fe684-84b0-47f9-8202-228da3cdc37c",
   "metadata": {
    "tags": []
   },
   "source": [
    "**a) Plot the data**\n",
    "\n",
    "First of all, plot the number of students taking each subject at each college, using `sns.countplot()`"
   ]
  },
  {
   "cell_type": "code",
   "execution_count": 3,
   "id": "8a230c7b-d6c6-4327-b1c2-f874ce4e7ada",
   "metadata": {
    "tags": []
   },
   "outputs": [
    {
     "data": {
      "image/png": "[encoded data removed]",
      "text/plain": [
       "<Figure size 640x480 with 1 Axes>"
      ]
     },
     "metadata": {},
     "output_type": "display_data"
    }
   ],
   "source": [
    "sns.countplot(data=wb, x='Subject', hue='College')\n",
    "plt.show()"
   ]
  },
  {
   "cell_type": "markdown",
   "id": "95b80cb8-0142-415e-a1bf-edb4cd9afc0d",
   "metadata": {},
   "source": [
    "**b) Probability of college membership**\n",
    "\n",
    "Let's start by working out the probability that a student picked from this sample is at each college\n",
    "\n",
    "* Let $B$ be the event that a randomly chosen student is a member of Beaufort College\n",
    "* Let $L$ be the event that a randomly chosen student is a member of Lonsdale College\n",
    "\n",
    "What are the values of $p(B)$ and $p(L)$?"
   ]
  },
  {
   "cell_type": "code",
   "execution_count": 4,
   "id": "7b2dd99b-851d-44e2-9a22-74bd9c3e67c2",
   "metadata": {
    "tags": []
   },
   "outputs": [
    {
     "data": {
      "text/plain": [
       "0.5946843853820598"
      ]
     },
     "execution_count": 4,
     "metadata": {},
     "output_type": "execute_result"
    }
   ],
   "source": [
    "#p(B)\n",
    "len(wb.query(\"College == 'Beaufort'\"))/len(wb)"
   ]
  },
  {
   "cell_type": "code",
   "execution_count": 5,
   "id": "b524e2a4-a01d-4a94-8293-bdc657efca6b",
   "metadata": {
    "tags": []
   },
   "outputs": [
    {
     "data": {
      "text/plain": [
       "0.4053156146179402"
      ]
     },
     "execution_count": 5,
     "metadata": {},
     "output_type": "execute_result"
    }
   ],
   "source": [
    "#p(L)\n",
    "len(wb.query(\"College == 'Lonsdale'\"))/len(wb)"
   ]
  },
  {
   "cell_type": "markdown",
   "id": "09425264-497e-4dcd-a36a-fff531326421",
   "metadata": {
    "tags": []
   },
   "source": [
    "**c) Joint probability**\n",
    "\n",
    "* Let $PPE$ be the event that a randomly chosen student is studying PPE\n",
    "\n",
    "Find $p(B \\cap PPE)$\n"
   ]
  },
  {
   "cell_type": "code",
   "execution_count": 6,
   "id": "61e75520-08ca-45ff-8598-0caad9cde391",
   "metadata": {
    "tags": []
   },
   "outputs": [
    {
     "data": {
      "text/plain": [
       "0.23588039867109634"
      ]
     },
     "execution_count": 6,
     "metadata": {},
     "output_type": "execute_result"
    }
   ],
   "source": [
    "len(wb.query(\"College == 'Beaufort' and Subject=='PPE'\"))/len(wb)"
   ]
  },
  {
   "cell_type": "markdown",
   "id": "54c2af62-2a24-460d-95a5-ae5e9291ea7d",
   "metadata": {
    "tags": []
   },
   "source": [
    "d) Union\n",
    "\n",
    "* Let $Psy$ be the event that a randomly chosen student is studying psychology\n",
    "* Let $Bio$ be the event that a randomly chosen student is studying biology\n",
    "\n",
    "Find $p(Psy \\cup Bio)$"
   ]
  },
  {
   "cell_type": "code",
   "execution_count": 7,
   "id": "0d7d1c45-4c0f-45ec-a466-8bbce0a6544f",
   "metadata": {
    "tags": []
   },
   "outputs": [
    {
     "data": {
      "text/plain": [
       "0.25249169435215946"
      ]
     },
     "execution_count": 7,
     "metadata": {},
     "output_type": "execute_result"
    }
   ],
   "source": [
    "len(wb.query(\"Subject == 'Biology' or Subject=='Psychology'\"))/len(wb)"
   ]
  },
  {
   "cell_type": "markdown",
   "id": "4b498af6-095c-4695-b88b-bf2b46b50696",
   "metadata": {
    "tags": []
   },
   "source": [
    "**e) Conditional probability**\n",
    "\n",
    "* Let $Bio$ be the event that a randomly chosen student is studying Biology\n",
    "* Let $Hist$ be the event that a randomly chosen student is studying history\n",
    "\n",
    "What is $p(L|Bio)$?"
   ]
  },
  {
   "cell_type": "code",
   "execution_count": 8,
   "id": "027a7aa0-b497-4e3f-908b-eab51b436e92",
   "metadata": {
    "tags": []
   },
   "outputs": [
    {
     "data": {
      "text/plain": [
       "0.47058823529411764"
      ]
     },
     "execution_count": 8,
     "metadata": {},
     "output_type": "execute_result"
    }
   ],
   "source": [
    "# p(L|Bio)\n",
    "len(wb.query(\"College == 'Lonsdale' and Subject == 'Biology'\"))/len(wb.query(\"Subject == 'Biology'\"))"
   ]
  },
  {
   "cell_type": "markdown",
   "id": "a92577de-59bc-4c0a-aa8e-055ef16743ce",
   "metadata": {
    "tags": []
   },
   "source": [
    "What is $p(L|Hist)$?"
   ]
  },
  {
   "cell_type": "code",
   "execution_count": 9,
   "id": "19d24990-b86c-4c48-88ec-16cfb22aa3d2",
   "metadata": {
    "tags": []
   },
   "outputs": [
    {
     "data": {
      "text/plain": [
       "0.5789473684210527"
      ]
     },
     "execution_count": 9,
     "metadata": {},
     "output_type": "execute_result"
    }
   ],
   "source": [
    "# p(L|Hist)\n",
    "len(wb.query(\"College == 'Lonsdale' and Subject == 'history'\"))/len(wb.query(\"Subject == 'history'\"))"
   ]
  },
  {
   "cell_type": "code",
   "execution_count": null,
   "id": "352c5c75-5c70-428f-9aeb-763b417c7390",
   "metadata": {},
   "outputs": [],
   "source": []
  },
  {
   "cell_type": "code",
   "execution_count": null,
   "id": "bcf8919c-a159-4072-b8e7-f8f8e0866131",
   "metadata": {},
   "outputs": [],
   "source": []
  }
 ],
 "metadata": {
  "kernelspec": {
   "display_name": "Python 3 (ipykernel)",
   "language": "python",
   "name": "python3"
  },
  "language_info": {
   "codemirror_mode": {
    "name": "ipython",
    "version": 3
   },
   "file_extension": ".py",
   "mimetype": "text/x-python",
   "name": "python",
   "nbconvert_exporter": "python",
   "pygments_lexer": "ipython3",
   "version": "3.11.7"
  }
 },
 "nbformat": 4,
 "nbformat_minor": 5
}