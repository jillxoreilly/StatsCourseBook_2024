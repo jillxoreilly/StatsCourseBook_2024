{
 "cells": [
  {
   "cell_type": "markdown",
   "id": "db182a9b",
   "metadata": {},
   "source": [
    "# Mean and Median\n",
    "\n",
    "The mean and median are sometimes called measures of the <i>location</i> or <i>centre</i> of a distribution.\n",
    "\n",
    "They both tell you something about the typical or average value in your dataset - but different things.\n"
   ]
  },
  {
   "cell_type": "markdown",
   "id": "554bd33b",
   "metadata": {},
   "source": [
    "### Set up Python libraries\n",
    "\n",
    "As usual, run the code cell below to import the relevant Python libraries"
   ]
  },
  {
   "cell_type": "code",
   "execution_count": 1,
   "id": "6e215164",
   "metadata": {},
   "outputs": [],
   "source": [
    "# Set-up Python libraries - you need to run this but you don't need to change it\n",
    "import numpy as np\n",
    "import matplotlib.pyplot as plt\n",
    "import scipy.stats as stats\n",
    "import pandas \n",
    "import seaborn as sns\n",
    "sns.set_theme()"
   ]
  },
  {
   "cell_type": "markdown",
   "id": "16776949",
   "metadata": {},
   "source": [
    "## The Mean\n",
    "\n",
    "The mean is obtained by adding up all the data values ($x_1, x_2..... x_n$) and dividing by the number of datapoints $n$:\n",
    "\n",
    "\n",
    "$$ \\bar{x} = \\frac{\\sum{x_i}}{n} $$"
   ]
  },
  {
   "cell_type": "markdown",
   "id": "ef337bb8",
   "metadata": {},
   "source": [
    "### Toy example: mean\n",
    "\n",
    "To understand the properties of the mean, let's start with a <i>toy example</i>, i.e. a very small dataset in which it is easy to see what is going on.\n",
    "\n",
    "Let's say these are the heights (cm) and weights (kg) of 6 toddlers:"
   ]
  },
  {
   "cell_type": "code",
   "execution_count": 2,
   "id": "9cb4d77f",
   "metadata": {},
   "outputs": [
    {
     "data": {
      "text/html": [
       "<div>\n",
       "<style scoped>\n",
       "    .dataframe tbody tr th:only-of-type {\n",
       "        vertical-align: middle;\n",
       "    }\n",
       "\n",
       "    .dataframe tbody tr th {\n",
       "        vertical-align: top;\n",
       "    }\n",
       "\n",
       "    .dataframe thead th {\n",
       "        text-align: right;\n",
       "    }\n",
       "</style>\n",
       "<table border=\"1\" class=\"dataframe\">\n",
       "  <thead>\n",
       "    <tr style=\"text-align: right;\">\n",
       "      <th></th>\n",
       "      <th>Name</th>\n",
       "      <th>Height</th>\n",
       "      <th>Weight</th>\n",
       "    </tr>\n",
       "  </thead>\n",
       "  <tbody>\n",
       "    <tr>\n",
       "      <th>0</th>\n",
       "      <td>Axel</td>\n",
       "      <td>89.0</td>\n",
       "      <td>12.4</td>\n",
       "    </tr>\n",
       "    <tr>\n",
       "      <th>1</th>\n",
       "      <td>Benji</td>\n",
       "      <td>96.2</td>\n",
       "      <td>13.8</td>\n",
       "    </tr>\n",
       "    <tr>\n",
       "      <th>2</th>\n",
       "      <td>Charlie</td>\n",
       "      <td>93.4</td>\n",
       "      <td>13.1</td>\n",
       "    </tr>\n",
       "    <tr>\n",
       "      <th>3</th>\n",
       "      <td>Danny</td>\n",
       "      <td>88.1</td>\n",
       "      <td>12.9</td>\n",
       "    </tr>\n",
       "    <tr>\n",
       "      <th>4</th>\n",
       "      <td>Edward</td>\n",
       "      <td>91.7</td>\n",
       "      <td>13.5</td>\n",
       "    </tr>\n",
       "    <tr>\n",
       "      <th>5</th>\n",
       "      <td>Freddie</td>\n",
       "      <td>93.2</td>\n",
       "      <td>14.0</td>\n",
       "    </tr>\n",
       "  </tbody>\n",
       "</table>\n",
       "</div>"
      ],
      "text/plain": [
       "      Name  Height  Weight\n",
       "0     Axel    89.0    12.4\n",
       "1    Benji    96.2    13.8\n",
       "2  Charlie    93.4    13.1\n",
       "3    Danny    88.1    12.9\n",
       "4   Edward    91.7    13.5\n",
       "5  Freddie    93.2    14.0"
      ]
     },
     "metadata": {},
     "output_type": "display_data"
    }
   ],
   "source": [
    "data = {'Name': [\"Axel\",\"Benji\",\"Charlie\",\"Danny\",\"Edward\",\"Freddie\"],\n",
    "        'Height': [89.0, 96.2, 93.4, 88.1, 91.7, 93.2],\n",
    "        'Weight': [12.4, 13.8, 13.1, 12.9, 13.5, 14.0],}\n",
    "\n",
    "toddlerData = pandas.DataFrame(data)\n",
    "display(toddlerData)"
   ]
  },
  {
   "cell_type": "markdown",
   "id": "100a638f",
   "metadata": {},
   "source": [
    "Eyeball the heights and have a guess what the mean height would be.\n",
    "\n",
    "Somewhere in the low 90s...?\n",
    "\n",
    "Let's use the method <a href=\"https://pandas.pydata.org/docs/reference/api/pandas.DataFrame.mean.html\"><tt>mean</tt></a> from <tt>pandas</tt> to obtain the mean of the column <tt>Height</tt>"
   ]
  },
  {
   "cell_type": "code",
   "execution_count": 3,
   "id": "782500a6",
   "metadata": {},
   "outputs": [
    {
     "data": {
      "text/plain": [
       "91.93333333333334"
      ]
     },
     "execution_count": 3,
     "metadata": {},
     "output_type": "execute_result"
    }
   ],
   "source": [
    "toddlerData['Height'].mean()"
   ]
  },
  {
   "cell_type": "markdown",
   "id": "3f8ce395",
   "metadata": {},
   "source": [
    "Shall we check we get the same if we impelement the formula ourselves (add up all the data points and divide by $n$)?"
   ]
  },
  {
   "cell_type": "code",
   "execution_count": 4,
   "id": "2ae191ab",
   "metadata": {},
   "outputs": [
    {
     "data": {
      "text/plain": [
       "551.6"
      ]
     },
     "execution_count": 4,
     "metadata": {},
     "output_type": "execute_result"
    }
   ],
   "source": [
    "toddlerData['Height'].sum() # add up all the heights"
   ]
  },
  {
   "cell_type": "code",
   "execution_count": 5,
   "id": "102b39c9",
   "metadata": {},
   "outputs": [
    {
     "data": {
      "text/plain": [
       "6"
      ]
     },
     "execution_count": 5,
     "metadata": {},
     "output_type": "execute_result"
    }
   ],
   "source": [
    "toddlerData['Height'].count() # get n"
   ]
  },
  {
   "cell_type": "code",
   "execution_count": 6,
   "id": "7115fa5a",
   "metadata": {},
   "outputs": [],
   "source": [
    "# your code to divide the sum of heights by n"
   ]
  },
  {
   "cell_type": "markdown",
   "id": "33b39540",
   "metadata": {},
   "source": [
    "Hopefully you got the same answer as using the method <tt>mean</tt>"
   ]
  },
  {
   "cell_type": "markdown",
   "id": "9e518244",
   "metadata": {},
   "source": [
    "## Median\n",
    "\n",
    "The median is the middle value of the dataset\n",
    "\n",
    "To obtain the median:\n",
    "    <ul> \n",
    "    <li> Sort the values to obtain a list $x_1, x_2, x_3 .... x_n$\n",
    "    <li> Count the values to obtain $n$\n",
    "    <li> If $n$ is odd, then the median is the middle value \n",
    "    <li> If $n$ is even, the median is halfway between the middle two values\n",
    "    </ul>\n",
    "    \n",
    "### Toy example: median\n",
    "\n",
    "Let's get the median for our toddler height data using the method <a href=\"https://pandas.pydata.org/docs/reference/api/pandas.DataFrame.median.html\"><tt>median</tt></a> from <tt>pandas</tt> "
   ]
  },
  {
   "cell_type": "code",
   "execution_count": 7,
   "id": "d6e9f90e",
   "metadata": {},
   "outputs": [
    {
     "data": {
      "text/plain": [
       "92.45"
      ]
     },
     "execution_count": 7,
     "metadata": {},
     "output_type": "execute_result"
    }
   ],
   "source": [
    "toddlerData['Height'].median()"
   ]
  },
  {
   "cell_type": "markdown",
   "id": "ac65cb2e",
   "metadata": {},
   "source": [
    "And let's check it matches the middle value in the sorted dataframe"
   ]
  },
  {
   "cell_type": "code",
   "execution_count": 8,
   "id": "aa8db12c",
   "metadata": {},
   "outputs": [
    {
     "data": {
      "text/html": [
       "<div>\n",
       "<style scoped>\n",
       "    .dataframe tbody tr th:only-of-type {\n",
       "        vertical-align: middle;\n",
       "    }\n",
       "\n",
       "    .dataframe tbody tr th {\n",
       "        vertical-align: top;\n",
       "    }\n",
       "\n",
       "    .dataframe thead th {\n",
       "        text-align: right;\n",
       "    }\n",
       "</style>\n",
       "<table border=\"1\" class=\"dataframe\">\n",
       "  <thead>\n",
       "    <tr style=\"text-align: right;\">\n",
       "      <th></th>\n",
       "      <th>Name</th>\n",
       "      <th>Height</th>\n",
       "      <th>Weight</th>\n",
       "    </tr>\n",
       "  </thead>\n",
       "  <tbody>\n",
       "    <tr>\n",
       "      <th>3</th>\n",
       "      <td>Danny</td>\n",
       "      <td>88.1</td>\n",
       "      <td>12.9</td>\n",
       "    </tr>\n",
       "    <tr>\n",
       "      <th>0</th>\n",
       "      <td>Axel</td>\n",
       "      <td>89.0</td>\n",
       "      <td>12.4</td>\n",
       "    </tr>\n",
       "    <tr>\n",
       "      <th>4</th>\n",
       "      <td>Edward</td>\n",
       "      <td>91.7</td>\n",
       "      <td>13.5</td>\n",
       "    </tr>\n",
       "    <tr>\n",
       "      <th>5</th>\n",
       "      <td>Freddie</td>\n",
       "      <td>93.2</td>\n",
       "      <td>14.0</td>\n",
       "    </tr>\n",
       "    <tr>\n",
       "      <th>2</th>\n",
       "      <td>Charlie</td>\n",
       "      <td>93.4</td>\n",
       "      <td>13.1</td>\n",
       "    </tr>\n",
       "    <tr>\n",
       "      <th>1</th>\n",
       "      <td>Benji</td>\n",
       "      <td>96.2</td>\n",
       "      <td>13.8</td>\n",
       "    </tr>\n",
       "  </tbody>\n",
       "</table>\n",
       "</div>"
      ],
      "text/plain": [
       "      Name  Height  Weight\n",
       "3    Danny    88.1    12.9\n",
       "0     Axel    89.0    12.4\n",
       "4   Edward    91.7    13.5\n",
       "5  Freddie    93.2    14.0\n",
       "2  Charlie    93.4    13.1\n",
       "1    Benji    96.2    13.8"
      ]
     },
     "metadata": {},
     "output_type": "display_data"
    }
   ],
   "source": [
    "display(toddlerData.sort_values(by='Height'))"
   ]
  },
  {
   "cell_type": "markdown",
   "id": "4434ee98",
   "metadata": {},
   "source": [
    "OK we need to get the halfway point between the middle two values:"
   ]
  },
  {
   "cell_type": "code",
   "execution_count": 9,
   "id": "39df9f1c",
   "metadata": {},
   "outputs": [
    {
     "data": {
      "text/plain": [
       "92.45"
      ]
     },
     "execution_count": 9,
     "metadata": {},
     "output_type": "execute_result"
    }
   ],
   "source": [
    "(91.7+93.2)/2"
   ]
  },
  {
   "cell_type": "markdown",
   "id": "d03d373c",
   "metadata": {},
   "source": [
    "Hurrah!"
   ]
  },
  {
   "cell_type": "markdown",
   "id": "b8e09223",
   "metadata": {},
   "source": [
    "## Effect of outliers\n",
    "\n",
    "What if someone made a data entry error?"
   ]
  },
  {
   "cell_type": "code",
   "execution_count": 10,
   "id": "3cc1fb4e",
   "metadata": {},
   "outputs": [
    {
     "data": {
      "text/html": [
       "<div>\n",
       "<style scoped>\n",
       "    .dataframe tbody tr th:only-of-type {\n",
       "        vertical-align: middle;\n",
       "    }\n",
       "\n",
       "    .dataframe tbody tr th {\n",
       "        vertical-align: top;\n",
       "    }\n",
       "\n",
       "    .dataframe thead th {\n",
       "        text-align: right;\n",
       "    }\n",
       "</style>\n",
       "<table border=\"1\" class=\"dataframe\">\n",
       "  <thead>\n",
       "    <tr style=\"text-align: right;\">\n",
       "      <th></th>\n",
       "      <th>Name</th>\n",
       "      <th>Height</th>\n",
       "      <th>Weight</th>\n",
       "    </tr>\n",
       "  </thead>\n",
       "  <tbody>\n",
       "    <tr>\n",
       "      <th>0</th>\n",
       "      <td>Axel</td>\n",
       "      <td>89.0</td>\n",
       "      <td>12.4</td>\n",
       "    </tr>\n",
       "    <tr>\n",
       "      <th>1</th>\n",
       "      <td>Benji</td>\n",
       "      <td>962.0</td>\n",
       "      <td>13.8</td>\n",
       "    </tr>\n",
       "    <tr>\n",
       "      <th>2</th>\n",
       "      <td>Charlie</td>\n",
       "      <td>93.4</td>\n",
       "      <td>13.1</td>\n",
       "    </tr>\n",
       "    <tr>\n",
       "      <th>3</th>\n",
       "      <td>Danny</td>\n",
       "      <td>88.1</td>\n",
       "      <td>12.9</td>\n",
       "    </tr>\n",
       "    <tr>\n",
       "      <th>4</th>\n",
       "      <td>Edward</td>\n",
       "      <td>91.7</td>\n",
       "      <td>13.5</td>\n",
       "    </tr>\n",
       "    <tr>\n",
       "      <th>5</th>\n",
       "      <td>Freddie</td>\n",
       "      <td>93.2</td>\n",
       "      <td>14.0</td>\n",
       "    </tr>\n",
       "  </tbody>\n",
       "</table>\n",
       "</div>"
      ],
      "text/plain": [
       "      Name  Height  Weight\n",
       "0     Axel    89.0    12.4\n",
       "1    Benji   962.0    13.8\n",
       "2  Charlie    93.4    13.1\n",
       "3    Danny    88.1    12.9\n",
       "4   Edward    91.7    13.5\n",
       "5  Freddie    93.2    14.0"
      ]
     },
     "metadata": {},
     "output_type": "display_data"
    }
   ],
   "source": [
    "data = {'Name': [\"Axel\",\"Benji\",\"Charlie\",\"Danny\",\"Edward\",\"Freddie\"],\n",
    "        'Height': [89.0, 962, 93.4, 88.1, 91.7, 93.2],\n",
    "        'Weight': [12.4, 13.8, 13.1, 12.9, 13.5, 14.0]}\n",
    "\n",
    "toddlerData_outlier = pandas.DataFrame(data)\n",
    "display(toddlerData_outlier)"
   ]
  },
  {
   "cell_type": "markdown",
   "id": "43dc4e7d",
   "metadata": {},
   "source": [
    "<ul> <li> What error can you see in the dataframe above?</li></ul>\n",
    "\n",
    "Let's calculate the mean again:"
   ]
  },
  {
   "cell_type": "code",
   "execution_count": 11,
   "id": "ca9f05a7",
   "metadata": {},
   "outputs": [
    {
     "data": {
      "text/plain": [
       "236.23333333333335"
      ]
     },
     "execution_count": 11,
     "metadata": {},
     "output_type": "execute_result"
    }
   ],
   "source": [
    "toddlerData_outlier['Height'].mean()"
   ]
  },
  {
   "cell_type": "markdown",
   "id": "0f836f46",
   "metadata": {},
   "source": [
    "Hm, that's not a very plausible value for the average height of a toddler.\n",
    "\n",
    "The mean is quite vulnerable to outliers, especially extreme outliers. This kind of outlier (where one data value is 10x larger than it should be) tends to arise from data entry errors. \n",
    "\n",
    "What about the median?"
   ]
  },
  {
   "cell_type": "code",
   "execution_count": 12,
   "id": "8732f908",
   "metadata": {},
   "outputs": [
    {
     "data": {
      "text/plain": [
       "92.45"
      ]
     },
     "execution_count": 12,
     "metadata": {},
     "output_type": "execute_result"
    }
   ],
   "source": [
    "toddlerData_outlier['Height'].median()"
   ]
  },
  {
   "cell_type": "markdown",
   "id": "c9c7ba9f",
   "metadata": {},
   "source": [
    "The median is completely unaffected by the outlier, as the middle two values stayed the same.\n",
    "\n",
    "The median is sometimes said to be <i>robust to outliers</i> for this reason."
   ]
  },
  {
   "cell_type": "markdown",
   "id": "7c794e52",
   "metadata": {},
   "source": [
    "It is good practice to always plot your raw data, before you do anything else, so that you notice if there is an extreme outlier lurking in there.\n",
    "\n",
    "Luckily with the computer, plotting the data takes little effort (don't worry about the plotting code at the stage as there is a whole session on plotting later on)."
   ]
  },
  {
   "cell_type": "code",
   "execution_count": 13,
   "id": "6e6f1d16",
   "metadata": {},
   "outputs": [
    {
     "name": "stderr",
     "output_type": "stream",
     "text": [
      "/opt/anaconda3/anaconda3/lib/python3.11/site-packages/seaborn/_oldcore.py:1119: FutureWarning: use_inf_as_na option is deprecated and will be removed in a future version. Convert inf values to NaN before operating instead.\n",
      "  with pd.option_context('mode.use_inf_as_na', True):\n"
     ]
    },
    {
     "data": {
      "text/plain": [
       "<Axes: xlabel='Height', ylabel='Count'>"
      ]
     },
     "execution_count": 13,
     "metadata": {},
     "output_type": "execute_result"
    },
    {
     "data": {
      "image/png": "[encoded data removed]",
      "text/plain": [
       "<Figure size 640x480 with 1 Axes>"
      ]
     },
     "metadata": {},
     "output_type": "display_data"
    }
   ],
   "source": [
    "# plot aa histogram of the heights - the outlier is obvious\n",
    "sns.histplot(toddlerData_outlier['Height'])"
   ]
  }
 ],
 "metadata": {
  "kernelspec": {
   "display_name": "Python 3 (ipykernel)",
   "language": "python",
   "name": "python3"
  },
  "language_info": {
   "codemirror_mode": {
    "name": "ipython",
    "version": 3
   },
   "file_extension": ".py",
   "mimetype": "text/x-python",
   "name": "python",
   "nbconvert_exporter": "python",
   "pygments_lexer": "ipython3",
   "version": "3.11.7"
  }
 },
 "nbformat": 4,
 "nbformat_minor": 5
}