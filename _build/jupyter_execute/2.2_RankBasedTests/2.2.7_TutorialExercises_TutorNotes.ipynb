{
 "cells": [
  {
   "cell_type": "markdown",
   "id": "49887e83",
   "metadata": {},
   "source": [
    "# Tutorial Exercises: non-parametric tests \n",
    "\n",
    "<font color='red'> Hi tutors, this week the students should practice running the rank-sum and sign-rank tests. They can also re-practice permutation tests. The last exercise is designed to emphasise the key conceptual learning for the week, which is that the (null) distribution of the test statistic depends on the sample distribution (in all cases), but how much information we retain about the sample distribution is different between tests: in permutation tests we keep the sample sizes, and the overall data distribution (plus any pairings); in the rank-based test we keep the sample sizes and any pairings, but replace the actual data with their ranks. One consequence of this is that rank-based tests are less sensitive to outliers in the sample. You may wish to discuss with students whether this is always a good thing (!) with reference to the previous material (in the section on data wrangling) about sources of outliers - ie some outliers are noise (hopefully, many of these are reomved in the data wrangling process), and some are real but unusual data.\n",
    "             \n",
    "Here are some exercises on comparing groups of data (medians or means) using rank-based non-parametric tests, or permutation tests</font>\n"
   ]
  },
  {
   "cell_type": "markdown",
   "id": "741220b6",
   "metadata": {},
   "source": [
    "### Set up Python libraries\n",
    "\n",
    "As usual, run the code cell below to import the relevant Python libraries"
   ]
  },
  {
   "cell_type": "code",
   "execution_count": 1,
   "id": "692abf91",
   "metadata": {
    "tags": []
   },
   "outputs": [],
   "source": [
    "# Set-up Python libraries - you need to run this but you don't need to change it\n",
    "import numpy as np\n",
    "import matplotlib.pyplot as plt\n",
    "import scipy.stats as stats\n",
    "import pandas as pd\n",
    "import seaborn as sns\n",
    "sns.set_theme(style='white')\n",
    "import statsmodels.api as sm\n",
    "import statsmodels.formula.api as smf"
   ]
  },
  {
   "cell_type": "markdown",
   "id": "91eef546",
   "metadata": {},
   "source": [
    "## 1. Whose peaches are heavier?\n",
    "\n",
    "<img src=\"https://raw.githubusercontent.com/jillxoreilly/StatsCourseBook/main/images/peaches.png\" width=30% alt=\"There should be a picture of some peaches here\" >\n",
    "\n",
    "\n",
    "Mr Robinson’s juice factory buys peaches from farmers by the tray. Each tray contains 50 peaches. Farmer McDonald claims that this is unfair as his peaches are juicier and therefore weigh more than the peaches of his rival, Mr McGregor. \n",
    "\n",
    "Mr Robinson weighs eight trays of Farmer McDonald’s peaches and 8 trays of Mr McGregor’s peaches. \n",
    "\n",
    "Investigate whether McDonald's claim is justified by testing for a difference in weight between McDonald and McGregor's peaches using a non-parametric (rank-based) test."
   ]
  },
  {
   "cell_type": "markdown",
   "id": "134615c7",
   "metadata": {},
   "source": [
    "a) Load the data into a Pandas dataframe"
   ]
  },
  {
   "cell_type": "code",
   "execution_count": 2,
   "id": "e524eb4b",
   "metadata": {
    "tags": []
   },
   "outputs": [
    {
     "data": {
      "text/html": [
       "<div>\n",
       "<style scoped>\n",
       "    .dataframe tbody tr th:only-of-type {\n",
       "        vertical-align: middle;\n",
       "    }\n",
       "\n",
       "    .dataframe tbody tr th {\n",
       "        vertical-align: top;\n",
       "    }\n",
       "\n",
       "    .dataframe thead th {\n",
       "        text-align: right;\n",
       "    }\n",
       "</style>\n",
       "<table border=\"1\" class=\"dataframe\">\n",
       "  <thead>\n",
       "    <tr style=\"text-align: right;\">\n",
       "      <th></th>\n",
       "      <th>McGregor</th>\n",
       "      <th>MacDonald</th>\n",
       "    </tr>\n",
       "  </thead>\n",
       "  <tbody>\n",
       "    <tr>\n",
       "      <th>0</th>\n",
       "      <td>7.867</td>\n",
       "      <td>8.289</td>\n",
       "    </tr>\n",
       "    <tr>\n",
       "      <th>1</th>\n",
       "      <td>7.637</td>\n",
       "      <td>7.972</td>\n",
       "    </tr>\n",
       "    <tr>\n",
       "      <th>2</th>\n",
       "      <td>7.652</td>\n",
       "      <td>8.237</td>\n",
       "    </tr>\n",
       "    <tr>\n",
       "      <th>3</th>\n",
       "      <td>7.772</td>\n",
       "      <td>7.789</td>\n",
       "    </tr>\n",
       "    <tr>\n",
       "      <th>4</th>\n",
       "      <td>7.510</td>\n",
       "      <td>7.345</td>\n",
       "    </tr>\n",
       "    <tr>\n",
       "      <th>5</th>\n",
       "      <td>7.743</td>\n",
       "      <td>7.861</td>\n",
       "    </tr>\n",
       "    <tr>\n",
       "      <th>6</th>\n",
       "      <td>7.356</td>\n",
       "      <td>7.779</td>\n",
       "    </tr>\n",
       "    <tr>\n",
       "      <th>7</th>\n",
       "      <td>7.944</td>\n",
       "      <td>7.974</td>\n",
       "    </tr>\n",
       "  </tbody>\n",
       "</table>\n",
       "</div>"
      ],
      "text/plain": [
       "   McGregor  MacDonald\n",
       "0     7.867      8.289\n",
       "1     7.637      7.972\n",
       "2     7.652      8.237\n",
       "3     7.772      7.789\n",
       "4     7.510      7.345\n",
       "5     7.743      7.861\n",
       "6     7.356      7.779\n",
       "7     7.944      7.974"
      ]
     },
     "execution_count": 2,
     "metadata": {},
     "output_type": "execute_result"
    }
   ],
   "source": [
    "peaches = pd.read_csv('https://raw.githubusercontent.com/jillxoreilly/StatsCourseBook_2024/main/data/peaches.csv')\n",
    "peaches"
   ]
  },
  {
   "cell_type": "markdown",
   "id": "cf39faa0",
   "metadata": {},
   "source": [
    "b) Plot the data and comment. \n",
    "\n",
    "A Kernel desity estimate plot (to show the distribution) and rug plot (to show individual data points) would be a good choice here. You should comment on the data distribution "
   ]
  },
  {
   "cell_type": "code",
   "execution_count": 3,
   "id": "ecb9049b",
   "metadata": {
    "tags": []
   },
   "outputs": [
    {
     "name": "stderr",
     "output_type": "stream",
     "text": [
      "/opt/anaconda3/anaconda3/lib/python3.11/site-packages/seaborn/_oldcore.py:1119: FutureWarning: use_inf_as_na option is deprecated and will be removed in a future version. Convert inf values to NaN before operating instead.\n",
      "  with pd.option_context('mode.use_inf_as_na', True):\n",
      "/opt/anaconda3/anaconda3/lib/python3.11/site-packages/seaborn/_oldcore.py:1119: FutureWarning: use_inf_as_na option is deprecated and will be removed in a future version. Convert inf values to NaN before operating instead.\n",
      "  with pd.option_context('mode.use_inf_as_na', True):\n",
      "/opt/anaconda3/anaconda3/lib/python3.11/site-packages/seaborn/_oldcore.py:1119: FutureWarning: use_inf_as_na option is deprecated and will be removed in a future version. Convert inf values to NaN before operating instead.\n",
      "  with pd.option_context('mode.use_inf_as_na', True):\n",
      "/opt/anaconda3/anaconda3/lib/python3.11/site-packages/seaborn/_oldcore.py:1119: FutureWarning: use_inf_as_na option is deprecated and will be removed in a future version. Convert inf values to NaN before operating instead.\n",
      "  with pd.option_context('mode.use_inf_as_na', True):\n"
     ]
    },
    {
     "data": {
      "image/png": "[encoded data removed]",
      "text/plain": [
       "<Figure size 640x480 with 1 Axes>"
      ]
     },
     "metadata": {},
     "output_type": "display_data"
    }
   ],
   "source": [
    "# your code here to plot the data\n",
    "sns.kdeplot(data=peaches.McGregor, color='r', fill=True)\n",
    "sns.rugplot(x=peaches.McGregor, color='r', height=0.1)\n",
    "sns.kdeplot(data=peaches.MacDonald, color='b', fill=True)\n",
    "sns.rugplot(x=peaches.MacDonald, color='b', height=0.1)\n",
    "plt.show()"
   ]
  },
  {
   "cell_type": "markdown",
   "id": "be0c251b",
   "metadata": {},
   "source": [
    "c) Conduct an appropriate rank-based non-parametric test of Farmer McDonald's claim\n",
    "\n",
    "* State your hypotheses\n",
    "* State relevant descriptive statistics\n",
    "* Carry out the test using the built in function from `scipy.stats` with appropriate option choices\n",
    "* State your conclusions"
   ]
  },
  {
   "cell_type": "code",
   "execution_count": 4,
   "id": "6d79296d-b266-44d5-ab6b-c8d6de3aa949",
   "metadata": {
    "tags": []
   },
   "outputs": [
    {
     "data": {
      "text/plain": [
       "MannwhitneyuResult(statistic=50.0, pvalue=0.032478632478632474)"
      ]
     },
     "execution_count": 4,
     "metadata": {},
     "output_type": "execute_result"
    }
   ],
   "source": [
    "stats.mannwhitneyu(peaches.MacDonald, peaches.McGregor, alternative='greater')"
   ]
  },
  {
   "cell_type": "markdown",
   "id": "a9d9b2b9-c8e0-4d8f-8b07-4188e0ca3fb9",
   "metadata": {
    "tags": []
   },
   "source": [
    "d) Conduct a permutation test of the same claim\n",
    "\n",
    "* State your hypotheses\n",
    "* State relevant descriptive statistics\n",
    "* Carry out the test using the built in function from `scipy.stats` with appropriate option choices\n",
    "* State your conclusions"
   ]
  },
  {
   "cell_type": "code",
   "execution_count": 5,
   "id": "5a021668-2dc2-4592-8ffc-3013e123c5c7",
   "metadata": {
    "tags": []
   },
   "outputs": [
    {
     "data": {
      "text/plain": [
       "PermutationTestResult(statistic=0.22062500000000007, pvalue=0.0521, null_distribution=array([-0.056875, -0.092375, -0.081125, ..., -0.105625,  0.074875,\n",
       "        0.190125]))"
      ]
     },
     "execution_count": 5,
     "metadata": {},
     "output_type": "execute_result"
    }
   ],
   "source": [
    "def dMeans(x,y):\n",
    "    return np.mean(x)-np.mean(y)\n",
    "\n",
    "\n",
    "stats.permutation_test((peaches.MacDonald, peaches.McGregor), dMeans, permutation_type='independent', alternative='greater')"
   ]
  },
  {
   "cell_type": "markdown",
   "id": "bf2702d0",
   "metadata": {},
   "source": [
    "## 2. IQ and vitamins\n",
    "\n",
    "<img src=\"https://raw.githubusercontent.com/jillxoreilly/StatsCourseBook/main/images/vitamins.jpg\" width=50% alt=\"There should be a picture of some vitamin pills here\" >\n",
    "\n",
    "The VitalVit company claim that after taking their VitalVit supplement, IQ is increased. \n",
    "\n",
    "They run a trial in which 22 participants complete a baseline IQ test, then take VitalVit for six weeks, then complete another IQ test."
   ]
  },
  {
   "cell_type": "markdown",
   "id": "3ea0f132",
   "metadata": {},
   "source": [
    "a) What kind of design is this."
   ]
  },
  {
   "cell_type": "markdown",
   "id": "d0f6401b",
   "metadata": {},
   "source": [
    "< your answer here >\n",
    "\n",
    "repeated measures"
   ]
  },
  {
   "cell_type": "markdown",
   "id": "4c839052",
   "metadata": {},
   "source": [
    "b) What are the advantages and possible disadvantages of this type of design? Should the company have done something different or additional to rule out confounding factors?"
   ]
  },
  {
   "cell_type": "markdown",
   "id": "2f1b84e7",
   "metadata": {},
   "source": [
    "< your answer here >\n",
    "\n",
    "Main disadvantage is order effects (improvement on 2nd test could simply be due to practice)\n",
    "\n",
    "They should have counterbalanced the order or used separate groups of people"
   ]
  },
  {
   "cell_type": "markdown",
   "id": "36be5eb5",
   "metadata": {},
   "source": [
    "c) Load the data into a Pandas dataframe"
   ]
  },
  {
   "cell_type": "code",
   "execution_count": 6,
   "id": "864de087",
   "metadata": {
    "tags": []
   },
   "outputs": [
    {
     "data": {
      "text/html": [
       "<div>\n",
       "<style scoped>\n",
       "    .dataframe tbody tr th:only-of-type {\n",
       "        vertical-align: middle;\n",
       "    }\n",
       "\n",
       "    .dataframe tbody tr th {\n",
       "        vertical-align: top;\n",
       "    }\n",
       "\n",
       "    .dataframe thead th {\n",
       "        text-align: right;\n",
       "    }\n",
       "</style>\n",
       "<table border=\"1\" class=\"dataframe\">\n",
       "  <thead>\n",
       "    <tr style=\"text-align: right;\">\n",
       "      <th></th>\n",
       "      <th>ID_code</th>\n",
       "      <th>before</th>\n",
       "      <th>after</th>\n",
       "    </tr>\n",
       "  </thead>\n",
       "  <tbody>\n",
       "    <tr>\n",
       "      <th>0</th>\n",
       "      <td>688870</td>\n",
       "      <td>82.596</td>\n",
       "      <td>83.437</td>\n",
       "    </tr>\n",
       "    <tr>\n",
       "      <th>1</th>\n",
       "      <td>723650</td>\n",
       "      <td>117.200</td>\n",
       "      <td>119.810</td>\n",
       "    </tr>\n",
       "    <tr>\n",
       "      <th>2</th>\n",
       "      <td>445960</td>\n",
       "      <td>85.861</td>\n",
       "      <td>83.976</td>\n",
       "    </tr>\n",
       "    <tr>\n",
       "      <th>3</th>\n",
       "      <td>708780</td>\n",
       "      <td>125.640</td>\n",
       "      <td>127.680</td>\n",
       "    </tr>\n",
       "    <tr>\n",
       "      <th>4</th>\n",
       "      <td>109960</td>\n",
       "      <td>96.751</td>\n",
       "      <td>99.103</td>\n",
       "    </tr>\n",
       "    <tr>\n",
       "      <th>5</th>\n",
       "      <td>968530</td>\n",
       "      <td>105.680</td>\n",
       "      <td>106.890</td>\n",
       "    </tr>\n",
       "    <tr>\n",
       "      <th>6</th>\n",
       "      <td>164930</td>\n",
       "      <td>142.410</td>\n",
       "      <td>145.550</td>\n",
       "    </tr>\n",
       "    <tr>\n",
       "      <th>7</th>\n",
       "      <td>744410</td>\n",
       "      <td>109.650</td>\n",
       "      <td>109.320</td>\n",
       "    </tr>\n",
       "    <tr>\n",
       "      <th>8</th>\n",
       "      <td>499380</td>\n",
       "      <td>128.210</td>\n",
       "      <td>125.110</td>\n",
       "    </tr>\n",
       "    <tr>\n",
       "      <th>9</th>\n",
       "      <td>290560</td>\n",
       "      <td>84.773</td>\n",
       "      <td>87.249</td>\n",
       "    </tr>\n",
       "    <tr>\n",
       "      <th>10</th>\n",
       "      <td>780690</td>\n",
       "      <td>110.470</td>\n",
       "      <td>112.650</td>\n",
       "    </tr>\n",
       "    <tr>\n",
       "      <th>11</th>\n",
       "      <td>660820</td>\n",
       "      <td>100.870</td>\n",
       "      <td>99.074</td>\n",
       "    </tr>\n",
       "    <tr>\n",
       "      <th>12</th>\n",
       "      <td>758780</td>\n",
       "      <td>94.117</td>\n",
       "      <td>95.951</td>\n",
       "    </tr>\n",
       "    <tr>\n",
       "      <th>13</th>\n",
       "      <td>363320</td>\n",
       "      <td>96.952</td>\n",
       "      <td>96.801</td>\n",
       "    </tr>\n",
       "    <tr>\n",
       "      <th>14</th>\n",
       "      <td>638840</td>\n",
       "      <td>86.280</td>\n",
       "      <td>87.669</td>\n",
       "    </tr>\n",
       "    <tr>\n",
       "      <th>15</th>\n",
       "      <td>483930</td>\n",
       "      <td>89.413</td>\n",
       "      <td>94.379</td>\n",
       "    </tr>\n",
       "    <tr>\n",
       "      <th>16</th>\n",
       "      <td>102800</td>\n",
       "      <td>85.283</td>\n",
       "      <td>88.316</td>\n",
       "    </tr>\n",
       "    <tr>\n",
       "      <th>17</th>\n",
       "      <td>581620</td>\n",
       "      <td>94.477</td>\n",
       "      <td>96.300</td>\n",
       "    </tr>\n",
       "    <tr>\n",
       "      <th>18</th>\n",
       "      <td>754980</td>\n",
       "      <td>90.649</td>\n",
       "      <td>94.158</td>\n",
       "    </tr>\n",
       "    <tr>\n",
       "      <th>19</th>\n",
       "      <td>268960</td>\n",
       "      <td>103.190</td>\n",
       "      <td>104.300</td>\n",
       "    </tr>\n",
       "    <tr>\n",
       "      <th>20</th>\n",
       "      <td>314040</td>\n",
       "      <td>92.880</td>\n",
       "      <td>94.556</td>\n",
       "    </tr>\n",
       "    <tr>\n",
       "      <th>21</th>\n",
       "      <td>324960</td>\n",
       "      <td>97.843</td>\n",
       "      <td>97.969</td>\n",
       "    </tr>\n",
       "  </tbody>\n",
       "</table>\n",
       "</div>"
      ],
      "text/plain": [
       "    ID_code   before    after\n",
       "0    688870   82.596   83.437\n",
       "1    723650  117.200  119.810\n",
       "2    445960   85.861   83.976\n",
       "3    708780  125.640  127.680\n",
       "4    109960   96.751   99.103\n",
       "5    968530  105.680  106.890\n",
       "6    164930  142.410  145.550\n",
       "7    744410  109.650  109.320\n",
       "8    499380  128.210  125.110\n",
       "9    290560   84.773   87.249\n",
       "10   780690  110.470  112.650\n",
       "11   660820  100.870   99.074\n",
       "12   758780   94.117   95.951\n",
       "13   363320   96.952   96.801\n",
       "14   638840   86.280   87.669\n",
       "15   483930   89.413   94.379\n",
       "16   102800   85.283   88.316\n",
       "17   581620   94.477   96.300\n",
       "18   754980   90.649   94.158\n",
       "19   268960  103.190  104.300\n",
       "20   314040   92.880   94.556\n",
       "21   324960   97.843   97.969"
      ]
     },
     "execution_count": 6,
     "metadata": {},
     "output_type": "execute_result"
    }
   ],
   "source": [
    "vitamin = pd.read_csv('https://raw.githubusercontent.com/jillxoreilly/StatsCourseBook_2024/main/data/vitalVit.csv')\n",
    "vitamin"
   ]
  },
  {
   "cell_type": "markdown",
   "id": "fa85f514",
   "metadata": {},
   "source": [
    "d) Plot the data and comment. \n",
    "A scatterplot would be a good choice as these are paired data. \n",
    "You could add the line of equality (line x=y) to the graph so we can see whether most people score higer on the IQ test before or after taking VitalVit"
   ]
  },
  {
   "cell_type": "code",
   "execution_count": 7,
   "id": "1ff48986",
   "metadata": {},
   "outputs": [
    {
     "data": {
      "image/png": "[encoded data removed]",
      "text/plain": [
       "<Figure size 640x480 with 1 Axes>"
      ]
     },
     "metadata": {},
     "output_type": "display_data"
    }
   ],
   "source": [
    "# Your code here for a scatter plot.\n",
    "sns.regplot(data=vitamin, x='before', y='after')\n",
    "plt.plot([80,150],[80,150],'r--')\n",
    "plt.show()"
   ]
  },
  {
   "cell_type": "markdown",
   "id": "8a3f3840",
   "metadata": {},
   "source": [
    "e) Conduct a suitable rank-based non-parametric test of VitalVit's claim\n",
    "\n",
    "* State your hypotheses\n",
    "* State relevant descriptive statistics\n",
    "* Carry out the test using the built in function from `scipy.stats` with appropriate option choices\n",
    "* State your conclusions"
   ]
  },
  {
   "cell_type": "code",
   "execution_count": 8,
   "id": "c592df98-dd5c-42e5-9b6a-4910f43f0e31",
   "metadata": {
    "tags": []
   },
   "outputs": [
    {
     "data": {
      "text/plain": [
       "WilcoxonResult(statistic=208.0, pvalue=0.003324747085571289)"
      ]
     },
     "execution_count": 8,
     "metadata": {},
     "output_type": "execute_result"
    }
   ],
   "source": [
    "stats.wilcoxon(vitamin.after, vitamin.before, alternative='greater')"
   ]
  },
  {
   "cell_type": "markdown",
   "id": "8e2cd017",
   "metadata": {},
   "source": [
    "f) Conduct a suitable permutation test of VitalVit's claim\n",
    "\n",
    "* State your hypotheses\n",
    "* State relevant descriptive statistics\n",
    "* Carry out the test using the built in function from `scipy.stats` with appropriate option choices\n",
    "* State your conclusions"
   ]
  },
  {
   "cell_type": "code",
   "execution_count": 9,
   "id": "3a944291-9de8-4d62-8f75-b005480e3d42",
   "metadata": {
    "tags": []
   },
   "outputs": [
    {
     "data": {
      "text/plain": [
       "PermutationTestResult(statistic=1.320590909090907, pvalue=0.0025, null_distribution=array([-0.1155    ,  0.15322727,  0.00931818, ...,  0.30522727,\n",
       "       -0.24259091,  0.14113636]))"
      ]
     },
     "execution_count": 9,
     "metadata": {},
     "output_type": "execute_result"
    }
   ],
   "source": [
    "def mDiff(x,y):\n",
    "    return np.mean(x-y)\n",
    "\n",
    "stats.permutation_test((vitamin.after, vitamin.before), mDiff, permutation_type='samples', alternative='greater')"
   ]
  },
  {
   "cell_type": "markdown",
   "id": "e874c135-6079-408e-8ab6-040a3fcc3db3",
   "metadata": {},
   "source": [
    "## 3. Socks\n",
    "\n",
    "In the section on permutation testing, we introduced a dataset on sock ownership (number of pairs of socks owned for 14 husband-wife couples. We noticed that when using a permutation test for difference of means, the null distribution of the difference of means was strongly affected by the presences of an outlier: \n",
    "* in one couple the husband owned about 30 more pairs of socks than the wife\n",
    "* wheter the difference of means in each permutation was positive or negative depended disproportionately on whether this couple were 'flipped' or not in that particular permutation\n",
    "\n",
    "Let's compare the use of the rank-based (Wilcoxon's Sign-Rank test) test with the permutation test for the mean difference.\n",
    "\n",
    "**a. Load the data (done for you)**"
   ]
  },
  {
   "cell_type": "code",
   "execution_count": 10,
   "id": "bc76e3f0-ed73-45cf-bc85-82a81d0be296",
   "metadata": {
    "tags": []
   },
   "outputs": [
    {
     "data": {
      "text/html": [
       "<div>\n",
       "<style scoped>\n",
       "    .dataframe tbody tr th:only-of-type {\n",
       "        vertical-align: middle;\n",
       "    }\n",
       "\n",
       "    .dataframe tbody tr th {\n",
       "        vertical-align: top;\n",
       "    }\n",
       "\n",
       "    .dataframe thead th {\n",
       "        text-align: right;\n",
       "    }\n",
       "</style>\n",
       "<table border=\"1\" class=\"dataframe\">\n",
       "  <thead>\n",
       "    <tr style=\"text-align: right;\">\n",
       "      <th></th>\n",
       "      <th>Husband</th>\n",
       "      <th>Wife</th>\n",
       "    </tr>\n",
       "  </thead>\n",
       "  <tbody>\n",
       "    <tr>\n",
       "      <th>0</th>\n",
       "      <td>10</td>\n",
       "      <td>12</td>\n",
       "    </tr>\n",
       "    <tr>\n",
       "      <th>1</th>\n",
       "      <td>17</td>\n",
       "      <td>13</td>\n",
       "    </tr>\n",
       "    <tr>\n",
       "      <th>2</th>\n",
       "      <td>48</td>\n",
       "      <td>20</td>\n",
       "    </tr>\n",
       "    <tr>\n",
       "      <th>3</th>\n",
       "      <td>28</td>\n",
       "      <td>25</td>\n",
       "    </tr>\n",
       "    <tr>\n",
       "      <th>4</th>\n",
       "      <td>23</td>\n",
       "      <td>18</td>\n",
       "    </tr>\n",
       "    <tr>\n",
       "      <th>5</th>\n",
       "      <td>16</td>\n",
       "      <td>14</td>\n",
       "    </tr>\n",
       "    <tr>\n",
       "      <th>6</th>\n",
       "      <td>18</td>\n",
       "      <td>13</td>\n",
       "    </tr>\n",
       "    <tr>\n",
       "      <th>7</th>\n",
       "      <td>34</td>\n",
       "      <td>26</td>\n",
       "    </tr>\n",
       "    <tr>\n",
       "      <th>8</th>\n",
       "      <td>27</td>\n",
       "      <td>22</td>\n",
       "    </tr>\n",
       "    <tr>\n",
       "      <th>9</th>\n",
       "      <td>22</td>\n",
       "      <td>14</td>\n",
       "    </tr>\n",
       "    <tr>\n",
       "      <th>10</th>\n",
       "      <td>12</td>\n",
       "      <td>10</td>\n",
       "    </tr>\n",
       "    <tr>\n",
       "      <th>11</th>\n",
       "      <td>13</td>\n",
       "      <td>17</td>\n",
       "    </tr>\n",
       "    <tr>\n",
       "      <th>12</th>\n",
       "      <td>22</td>\n",
       "      <td>21</td>\n",
       "    </tr>\n",
       "    <tr>\n",
       "      <th>13</th>\n",
       "      <td>15</td>\n",
       "      <td>16</td>\n",
       "    </tr>\n",
       "  </tbody>\n",
       "</table>\n",
       "</div>"
      ],
      "text/plain": [
       "    Husband  Wife\n",
       "0        10    12\n",
       "1        17    13\n",
       "2        48    20\n",
       "3        28    25\n",
       "4        23    18\n",
       "5        16    14\n",
       "6        18    13\n",
       "7        34    26\n",
       "8        27    22\n",
       "9        22    14\n",
       "10       12    10\n",
       "11       13    17\n",
       "12       22    21\n",
       "13       15    16"
      ]
     },
     "execution_count": 10,
     "metadata": {},
     "output_type": "execute_result"
    }
   ],
   "source": [
    "socks = pd.read_csv('https://raw.githubusercontent.com/jillxoreilly/StatsCourseBook_2024/main/data/socks.csv')\n",
    "socks"
   ]
  },
  {
   "cell_type": "markdown",
   "id": "a906cde9-a9cc-40be-a7a9-301cac7d08c0",
   "metadata": {
    "tags": []
   },
   "source": [
    "**b. Plot the data (done for you)**"
   ]
  },
  {
   "cell_type": "code",
   "execution_count": 11,
   "id": "b8a62d76-9d5f-45ae-b60b-e268bd6b835b",
   "metadata": {
    "tags": []
   },
   "outputs": [
    {
     "name": "stderr",
     "output_type": "stream",
     "text": [
      "/opt/anaconda3/anaconda3/lib/python3.11/site-packages/seaborn/_oldcore.py:1119: FutureWarning: use_inf_as_na option is deprecated and will be removed in a future version. Convert inf values to NaN before operating instead.\n",
      "  with pd.option_context('mode.use_inf_as_na', True):\n",
      "/opt/anaconda3/anaconda3/lib/python3.11/site-packages/seaborn/_oldcore.py:1119: FutureWarning: use_inf_as_na option is deprecated and will be removed in a future version. Convert inf values to NaN before operating instead.\n",
      "  with pd.option_context('mode.use_inf_as_na', True):\n"
     ]
    },
    {
     "data": {
      "image/png": "[encoded data removed]",
      "text/plain": [
       "<Figure size 640x480 with 1 Axes>"
      ]
     },
     "metadata": {},
     "output_type": "display_data"
    }
   ],
   "source": [
    "sns.barplot(data=socks, color=[0.8,0.8,0.8])\n",
    "sns.lineplot(data=socks.T, marker='o')\n",
    "plt.show()"
   ]
  },
  {
   "cell_type": "markdown",
   "id": "e449fcbc-d629-4069-90a5-21fd32be91d3",
   "metadata": {},
   "source": [
    "**c. Carry out a suitable rank-based non-parametric test of the hypothesis that men own more socks than women**"
   ]
  },
  {
   "cell_type": "code",
   "execution_count": 12,
   "id": "4ceb291d-513a-49f2-953c-deeb780acecf",
   "metadata": {
    "tags": []
   },
   "outputs": [
    {
     "data": {
      "text/plain": [
       "WilcoxonResult(statistic=92.0, pvalue=0.00537109375)"
      ]
     },
     "execution_count": 12,
     "metadata": {},
     "output_type": "execute_result"
    }
   ],
   "source": [
    "stats.wilcoxon(socks.Husband, socks.Wife, alternative='greater')"
   ]
  },
  {
   "cell_type": "markdown",
   "id": "58c4dcf7-dde9-49f1-95e9-a05082e9cbe2",
   "metadata": {},
   "source": [
    "**d. Carry out a suitable permutation test test of the hypothesis that men own more socks than women**"
   ]
  },
  {
   "cell_type": "code",
   "execution_count": 13,
   "id": "0c8671ef-8cf5-4085-a6d8-ed4e0cb14761",
   "metadata": {
    "tags": []
   },
   "outputs": [
    {
     "data": {
      "text/plain": [
       "PermutationTestResult(statistic=4.571428571428571, pvalue=0.0063, null_distribution=array([-3.57142857,  0.14285714,  3.28571429, ..., -1.        ,\n",
       "       -3.28571429, -1.28571429]))"
      ]
     },
     "execution_count": 13,
     "metadata": {},
     "output_type": "execute_result"
    }
   ],
   "source": [
    "stats.permutation_test((socks.Husband, socks.Wife), mDiff, permutation_type='samples', alternative='greater')"
   ]
  },
  {
   "cell_type": "markdown",
   "id": "535f5ead-26d5-4be3-ba2b-3f9e9642d487",
   "metadata": {},
   "source": [
    "**e. Compare the two tests.**\n",
    "\n",
    "In this case the rank-based test has a (slightly) smaller $p$-value than the permutation test. \n",
    "\n",
    "The permutation test preserves thhe following features of the data:\n",
    "1. In each couple one partner usually has more socks (what we shuffle is *which* partner this is)\n",
    "2. One couple has an extreme difference in sock-counts (we shuffle whether it is the husband or wife who has more socks)\n",
    "3. We retain the sample sizes and overall distribution of difference of means\n",
    "\n",
    "The rank-based test 'neutralizes' one of these features, which is it and what is the effect?"
   ]
  },
  {
   "cell_type": "code",
   "execution_count": null,
   "id": "f9a9a976-f7cd-424e-9e6c-5fc874dfdb80",
   "metadata": {},
   "outputs": [],
   "source": []
  }
 ],
 "metadata": {
  "kernelspec": {
   "display_name": "Python 3 (ipykernel)",
   "language": "python",
   "name": "python3"
  },
  "language_info": {
   "codemirror_mode": {
    "name": "ipython",
    "version": 3
   },
   "file_extension": ".py",
   "mimetype": "text/x-python",
   "name": "python",
   "nbconvert_exporter": "python",
   "pygments_lexer": "ipython3",
   "version": "3.11.7"
  }
 },
 "nbformat": 4,
 "nbformat_minor": 5
}