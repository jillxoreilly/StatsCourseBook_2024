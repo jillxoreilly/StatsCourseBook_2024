{
 "cells": [
  {
   "cell_type": "markdown",
   "id": "8d1a084c-7545-4642-91cf-14fd8f83d5da",
   "metadata": {},
   "source": [
    "# Tutorial Exercises\n",
    "\n",
    "These tutorial exercises are designed to help you prepare for the first assignment.\n",
    "\n",
    "As a researcher, there are two distinct phases to data analysis:\n",
    "\n",
    "* Understanding the dataset yourself - this involves making lots of quick plots and descriptive statistics to\n",
    "    * check for outliers\n",
    "    * find out the data distributions\n",
    "    * look for differences between categories\n",
    "    * look for associations between variables\n",
    "<br>    \n",
    "* Preparing a report for a reader - this involves a focus on readability and the reader\n",
    "    * explain any key features of the dataset \n",
    "    * highlighting key results with descriptive statistics and figures\n",
    "    * figures should be well labelled and tweaked to make your point as clearly as possible\n",
    "    * there should be clear, readable explanatory text\n",
    "    * for most readers/clients, non technical language should be used \n",
    "    * in all cases, jargon should be avoided\n",
    "    \n",
    "In these tutorial exercises, you will complete some guided tasks (and some open-ended ones) to explore the dataset for yourself.\n",
    "\n",
    "For the hand-in assignment, you will produce a report on the same dataset for a specified reader."
   ]
  },
  {
   "cell_type": "markdown",
   "id": "7f4036c7-6c4d-427b-a2ed-16d97cd8786c",
   "metadata": {},
   "source": [
    "## Crime Survey Data\n",
    "\n",
    "We will work with a dataset extracted from the Crime Survey England and Wales 2013.\n",
    "\n",
    "I obtained the data from the UK Data Service, a data repository run by the UK Research Councils. This text is from their introduction to the dataset:\n",
    "\n",
    "*The Crime Survey for England and Wales (CSEW) is a face-to-face victimisation survey in which\n",
    "people resident in households in England and Wales are asked about their experiences of a range of\n",
    "crimes in the 12 months prior to the interview. Respondents to the survey are also asked about their\n",
    "perceptions of crime and attitudes towards crime related issues such as the police and criminal justice\n",
    "system.*\n",
    "\n",
    "The dataset I have given you contains only some of the questions that respondants were asked, containing information about the respondants' individual demographic features, neighbourhood, perceptions of crime and attitudes towards the police and criminal justice system.\n",
    "\n",
    "The brief for the  hand-in report will be to write a short report for the Home Secretary addressing two topics:\n",
    "1. Which groups are the momst likely to be victims of crime? and \n",
    "2. What factors affect confidence in policing and crimial justice?', \n",
    "\n",
    "\n",
    "Note that the idea is to write for a generic Home Secretary  - they have responsibility for Law and Order and as a politician are interested in how different sections of the public perceive these issues. You can assume they have no statistical training. However there is no need to accommodate the political attitudes or personal characteristics of any particular Home Secretary.\n",
    "\n",
    "In these preparatory exercises you will play around with the data to try and work out which factors are important predictors of that confidence.\n",
    "\n",
    "I have put my own conclusions at the bottom of this page - this is just to give an idea of the kinds of things you might look at.\n",
    "\n",
    "#### Note\n",
    "\n",
    "The survey was conducted in 2013 in the UK. Events of recent years may have affected the confidence of certain groups in the police; this would not be reflected in the data used here.\n"
   ]
  },
  {
   "cell_type": "markdown",
   "id": "1e439e2d-8e59-423c-b37a-990ed5915955",
   "metadata": {},
   "source": [
    "### Set up Python libraries"
   ]
  },
  {
   "cell_type": "code",
   "execution_count": 1,
   "id": "ed0a4a83-0abd-4806-b6de-a0b4036ef079",
   "metadata": {},
   "outputs": [],
   "source": [
    "# Set-up Python libraries - you need to run this but you don't need to change it\n",
    "import numpy as np\n",
    "import matplotlib.pyplot as plt\n",
    "import scipy.stats as stats\n",
    "import pandas as pd\n",
    "import seaborn as sns\n",
    "sns.set_theme(style='white')\n",
    "import statsmodels.api as sm\n",
    "import statsmodels.formula.api as smf"
   ]
  },
  {
   "cell_type": "markdown",
   "id": "8994a738-8798-4889-805f-a7213a555a0f",
   "metadata": {},
   "source": [
    "### Import the data\n",
    "\n",
    "Download the dataset from Canvas and import them as a dataframe called `crime`"
   ]
  },
  {
   "cell_type": "code",
   "execution_count": 2,
   "id": "63e08770-566d-4c8f-a7ef-3e0e5280591a",
   "metadata": {
    "tags": []
   },
   "outputs": [
    {
     "data": {
      "text/html": [
       "<div>\n",
       "<style scoped>\n",
       "    .dataframe tbody tr th:only-of-type {\n",
       "        vertical-align: middle;\n",
       "    }\n",
       "\n",
       "    .dataframe tbody tr th {\n",
       "        vertical-align: top;\n",
       "    }\n",
       "\n",
       "    .dataframe thead th {\n",
       "        text-align: right;\n",
       "    }\n",
       "</style>\n",
       "<table border=\"1\" class=\"dataframe\">\n",
       "  <thead>\n",
       "    <tr style=\"text-align: right;\">\n",
       "      <th></th>\n",
       "      <th>ID</th>\n",
       "      <th>Sex</th>\n",
       "      <th>Age</th>\n",
       "      <th>AgeGroup</th>\n",
       "      <th>EthnicGroup</th>\n",
       "      <th>Education</th>\n",
       "      <th>SES</th>\n",
       "      <th>DeprivationIndex</th>\n",
       "      <th>Victim</th>\n",
       "      <th>effectx</th>\n",
       "      <th>fairx</th>\n",
       "      <th>confx</th>\n",
       "      <th>antisocx</th>\n",
       "    </tr>\n",
       "  </thead>\n",
       "  <tbody>\n",
       "    <tr>\n",
       "      <th>0</th>\n",
       "      <td>135230170.0</td>\n",
       "      <td>Male</td>\n",
       "      <td>45.0</td>\n",
       "      <td>4</td>\n",
       "      <td>White</td>\n",
       "      <td>University</td>\n",
       "      <td>2.0</td>\n",
       "      <td>3.0</td>\n",
       "      <td>0.0</td>\n",
       "      <td>NaN</td>\n",
       "      <td>NaN</td>\n",
       "      <td>2.290506</td>\n",
       "      <td>3.42</td>\n",
       "    </tr>\n",
       "    <tr>\n",
       "      <th>1</th>\n",
       "      <td>135230210.0</td>\n",
       "      <td>Male</td>\n",
       "      <td>28.0</td>\n",
       "      <td>2</td>\n",
       "      <td>White</td>\n",
       "      <td>University</td>\n",
       "      <td>1.0</td>\n",
       "      <td>4.0</td>\n",
       "      <td>0.0</td>\n",
       "      <td>-0.755949</td>\n",
       "      <td>NaN</td>\n",
       "      <td>-0.349198</td>\n",
       "      <td>-0.52</td>\n",
       "    </tr>\n",
       "    <tr>\n",
       "      <th>2</th>\n",
       "      <td>135231010.0</td>\n",
       "      <td>Female</td>\n",
       "      <td>58.0</td>\n",
       "      <td>5</td>\n",
       "      <td>Black or Black British</td>\n",
       "      <td>NaN</td>\n",
       "      <td>5.0</td>\n",
       "      <td>2.0</td>\n",
       "      <td>0.0</td>\n",
       "      <td>-1.344910</td>\n",
       "      <td>-0.544786</td>\n",
       "      <td>0.381797</td>\n",
       "      <td>2.27</td>\n",
       "    </tr>\n",
       "    <tr>\n",
       "      <th>3</th>\n",
       "      <td>135231210.0</td>\n",
       "      <td>Male</td>\n",
       "      <td>70.0</td>\n",
       "      <td>6</td>\n",
       "      <td>Asian or Asian British</td>\n",
       "      <td>GCSE</td>\n",
       "      <td>3.0</td>\n",
       "      <td>4.0</td>\n",
       "      <td>0.0</td>\n",
       "      <td>NaN</td>\n",
       "      <td>NaN</td>\n",
       "      <td>NaN</td>\n",
       "      <td>NaN</td>\n",
       "    </tr>\n",
       "    <tr>\n",
       "      <th>4</th>\n",
       "      <td>135233210.0</td>\n",
       "      <td>Female</td>\n",
       "      <td>64.0</td>\n",
       "      <td>5</td>\n",
       "      <td>White</td>\n",
       "      <td>Other</td>\n",
       "      <td>5.0</td>\n",
       "      <td>5.0</td>\n",
       "      <td>0.0</td>\n",
       "      <td>0.152448</td>\n",
       "      <td>0.914933</td>\n",
       "      <td>-0.613168</td>\n",
       "      <td>0.84</td>\n",
       "    </tr>\n",
       "    <tr>\n",
       "      <th>...</th>\n",
       "      <td>...</td>\n",
       "      <td>...</td>\n",
       "      <td>...</td>\n",
       "      <td>...</td>\n",
       "      <td>...</td>\n",
       "      <td>...</td>\n",
       "      <td>...</td>\n",
       "      <td>...</td>\n",
       "      <td>...</td>\n",
       "      <td>...</td>\n",
       "      <td>...</td>\n",
       "      <td>...</td>\n",
       "      <td>...</td>\n",
       "    </tr>\n",
       "    <tr>\n",
       "      <th>9295</th>\n",
       "      <td>147638210.0</td>\n",
       "      <td>Male</td>\n",
       "      <td>43.0</td>\n",
       "      <td>3</td>\n",
       "      <td>White</td>\n",
       "      <td>University</td>\n",
       "      <td>1.0</td>\n",
       "      <td>NaN</td>\n",
       "      <td>0.0</td>\n",
       "      <td>-0.436513</td>\n",
       "      <td>NaN</td>\n",
       "      <td>-1.029429</td>\n",
       "      <td>0.31</td>\n",
       "    </tr>\n",
       "    <tr>\n",
       "      <th>9296</th>\n",
       "      <td>147639090.0</td>\n",
       "      <td>Male</td>\n",
       "      <td>70.0</td>\n",
       "      <td>6</td>\n",
       "      <td>White</td>\n",
       "      <td>NaN</td>\n",
       "      <td>5.0</td>\n",
       "      <td>NaN</td>\n",
       "      <td>0.0</td>\n",
       "      <td>0.132483</td>\n",
       "      <td>NaN</td>\n",
       "      <td>1.051876</td>\n",
       "      <td>-0.45</td>\n",
       "    </tr>\n",
       "    <tr>\n",
       "      <th>9297</th>\n",
       "      <td>147639130.0</td>\n",
       "      <td>Female</td>\n",
       "      <td>80.0</td>\n",
       "      <td>7</td>\n",
       "      <td>White</td>\n",
       "      <td>NaN</td>\n",
       "      <td>5.0</td>\n",
       "      <td>NaN</td>\n",
       "      <td>0.0</td>\n",
       "      <td>NaN</td>\n",
       "      <td>NaN</td>\n",
       "      <td>0.808211</td>\n",
       "      <td>0.27</td>\n",
       "    </tr>\n",
       "    <tr>\n",
       "      <th>9298</th>\n",
       "      <td>147639250.0</td>\n",
       "      <td>Male</td>\n",
       "      <td>86.0</td>\n",
       "      <td>7</td>\n",
       "      <td>White</td>\n",
       "      <td>University</td>\n",
       "      <td>1.0</td>\n",
       "      <td>NaN</td>\n",
       "      <td>0.0</td>\n",
       "      <td>-0.446495</td>\n",
       "      <td>0.408086</td>\n",
       "      <td>1.711802</td>\n",
       "      <td>-0.56</td>\n",
       "    </tr>\n",
       "    <tr>\n",
       "      <th>9299</th>\n",
       "      <td>147639290.0</td>\n",
       "      <td>Male</td>\n",
       "      <td>70.0</td>\n",
       "      <td>6</td>\n",
       "      <td>White</td>\n",
       "      <td>NaN</td>\n",
       "      <td>2.0</td>\n",
       "      <td>NaN</td>\n",
       "      <td>0.0</td>\n",
       "      <td>1.579928</td>\n",
       "      <td>NaN</td>\n",
       "      <td>-0.115685</td>\n",
       "      <td>-1.22</td>\n",
       "    </tr>\n",
       "  </tbody>\n",
       "</table>\n",
       "<p>9300 rows × 13 columns</p>\n",
       "</div>"
      ],
      "text/plain": [
       "               ID     Sex   Age  AgeGroup             EthnicGroup   Education  \\\n",
       "0     135230170.0    Male  45.0         4                   White  University   \n",
       "1     135230210.0    Male  28.0         2                   White  University   \n",
       "2     135231010.0  Female  58.0         5  Black or Black British         NaN   \n",
       "3     135231210.0    Male  70.0         6  Asian or Asian British        GCSE   \n",
       "4     135233210.0  Female  64.0         5                   White       Other   \n",
       "...           ...     ...   ...       ...                     ...         ...   \n",
       "9295  147638210.0    Male  43.0         3                   White  University   \n",
       "9296  147639090.0    Male  70.0         6                   White         NaN   \n",
       "9297  147639130.0  Female  80.0         7                   White         NaN   \n",
       "9298  147639250.0    Male  86.0         7                   White  University   \n",
       "9299  147639290.0    Male  70.0         6                   White         NaN   \n",
       "\n",
       "      SES  DeprivationIndex  Victim   effectx     fairx     confx  antisocx  \n",
       "0     2.0               3.0     0.0       NaN       NaN  2.290506      3.42  \n",
       "1     1.0               4.0     0.0 -0.755949       NaN -0.349198     -0.52  \n",
       "2     5.0               2.0     0.0 -1.344910 -0.544786  0.381797      2.27  \n",
       "3     3.0               4.0     0.0       NaN       NaN       NaN       NaN  \n",
       "4     5.0               5.0     0.0  0.152448  0.914933 -0.613168      0.84  \n",
       "...   ...               ...     ...       ...       ...       ...       ...  \n",
       "9295  1.0               NaN     0.0 -0.436513       NaN -1.029429      0.31  \n",
       "9296  5.0               NaN     0.0  0.132483       NaN  1.051876     -0.45  \n",
       "9297  5.0               NaN     0.0       NaN       NaN  0.808211      0.27  \n",
       "9298  1.0               NaN     0.0 -0.446495  0.408086  1.711802     -0.56  \n",
       "9299  2.0               NaN     0.0  1.579928       NaN -0.115685     -1.22  \n",
       "\n",
       "[9300 rows x 13 columns]"
      ]
     },
     "execution_count": 2,
     "metadata": {},
     "output_type": "execute_result"
    }
   ],
   "source": [
    "crime = pd.read_csv('../data/CrimeData.csv')\n",
    "crime"
   ]
  },
  {
   "cell_type": "markdown",
   "id": "9ebffd3d-a7f5-4ada-a19d-3a8b78b52837",
   "metadata": {},
   "source": [
    "### Variables in the dataset\n",
    "\n",
    "Information about the respondant and their neighbourhood:\n",
    "\n",
    "* **ID** a unique number for each participant\n",
    "* **Sex**\n",
    "* **Age** in years\n",
    "* **Age Group** ages in 10-year groups\n",
    "* **Ethnic Group** the categories given are the ones recorded in the original survey\n",
    "* **Education** highest level of education completed; modern British qualifications are used as a short hand for any equivalent, for example 'A-Levels' includes any equivalent of completing high school to age 18.\n",
    "* **SES** socio-economic status\n",
    "    * 1. Managerial and professional occs \n",
    "    * 2. Intermediate occs \n",
    "    * 3. Small employers and own account workers \n",
    "    * 4. Lower supervisory and technical occupations \n",
    "    * 5. Semi-routine and routine occupations \n",
    "    * 6. Never worked and long term unemployed \n",
    "    * 7. Full-time students \n",
    "    * 8. Not classified\n",
    "* **Deprivation Index** this is a neighbourhood-level measure of poverty, in qunitiles\n",
    "    * 1 is the most deprived (poorest) 20% of neighbourhoods\n",
    "    * 5 is the least deprived (wealthiest) 20%\n",
    "* **Victim** has the respondant been a victim of crime in the last 12 months?\n",
    "\n",
    "\n",
    "Information about the respondant's attitudes on the following questions (each variable actually reflects a combination of the respondant's answers to several questions; for example **antisocx** is based on several questions asking about different antisocial behaviours- 'is there vandalism in your neighbourhood', 'are there gangs present in your neighbourhood' etc):\n",
    "\n",
    "* **effectx** how effective is the criminal justice system?\n",
    "* **fairx** how fair is the criminal justice system?\n",
    "* **confx** how confident are you in the policing of your neighbourhood?\n",
    "* **antisocx** how much antisocial behaviour is there in your neighbourhood?\n",
    "\n"
   ]
  },
  {
   "cell_type": "markdown",
   "id": "926212b6-acd9-4242-805f-27924a72fc37",
   "metadata": {
    "tags": []
   },
   "source": [
    "## Getting to know the variables\n",
    "\n",
    "In this first section you will explore each variable individually by making suitable graphs. Complete each code block to produce a suitable plot or descriptive statistic. There are no right answers but in each case you should look at what you produced and evaluate whether your learned something from it!"
   ]
  },
  {
   "cell_type": "code",
   "execution_count": 3,
   "id": "b7a65b60-c308-40ef-936c-9559103f2ad5",
   "metadata": {
    "tags": []
   },
   "outputs": [],
   "source": [
    "# Are there more men or women in the sample?"
   ]
  },
  {
   "cell_type": "code",
   "execution_count": 4,
   "id": "602ee46a-2321-40ad-b06a-eeff2d47d74f",
   "metadata": {
    "tags": []
   },
   "outputs": [],
   "source": [
    "# What ages were included in the survey and what is the distribution of respondants' ages?"
   ]
  },
  {
   "cell_type": "code",
   "execution_count": 5,
   "id": "4917d03a-3c0f-4aae-8738-ce432e69e479",
   "metadata": {
    "tags": []
   },
   "outputs": [],
   "source": [
    "# What are the bins used for the variable AgeGroup?"
   ]
  },
  {
   "cell_type": "code",
   "execution_count": 6,
   "id": "c0fc43a6-f28b-4790-a951-bc4985f274ec",
   "metadata": {
    "tags": []
   },
   "outputs": [],
   "source": [
    "# How many respondants came from each ethnic group?"
   ]
  },
  {
   "cell_type": "code",
   "execution_count": 7,
   "id": "3cb37b7b-0f38-4f45-baef-0a5f7f28607d",
   "metadata": {
    "tags": []
   },
   "outputs": [],
   "source": [
    "# What proportion of respondants have been a victim of crime in the last 12 months?"
   ]
  },
  {
   "cell_type": "code",
   "execution_count": 8,
   "id": "30423d7f-57f3-4228-a1ec-c648468ef476",
   "metadata": {},
   "outputs": [],
   "source": [
    "# For each of the attitude variables (effectx, fairx, confx and antisocx) plot the distribution"
   ]
  },
  {
   "cell_type": "code",
   "execution_count": 9,
   "id": "ada4f241-8d76-4e31-abd8-31fc09196a76",
   "metadata": {},
   "outputs": [],
   "source": [
    "# For the attitude variables (effectx, fairx, confx and antisocx) what is the mean and standard deviation?\n",
    "# Can you guess how these attitude variables ended up with that mean and standard deviation (think back to the section on standardizing data)?"
   ]
  },
  {
   "cell_type": "code",
   "execution_count": 10,
   "id": "e5dc20bb-2a62-4839-9643-a1ecd960a30d",
   "metadata": {
    "tags": []
   },
   "outputs": [],
   "source": [
    "# Which variables have a lot of missing data?\n",
    "# HINT use df.isna() and sum()"
   ]
  },
  {
   "cell_type": "markdown",
   "id": "d6497f5a-11fc-4c9f-952f-402db9f91802",
   "metadata": {},
   "source": [
    "## Who is most likely to be a victim of crime?\n",
    "\n",
    "Explore which demographic variables make a different to the chance of being a victim of crime. Are more men than women victims of crime? etc\n",
    "\n",
    "**HINT** as <tt>Victim</tt> is coded as 1 (if they have been a victim of crime in the past 12 months) and 0 (otherwise), you can obtain the proportion of people who have been a victim by taking the mean value of the column <tt>Victim</tt>.\n",
    "\n",
    "You can also use `sns.barplot()` with the `x` and `hue` arguments to plot the proportion who are victims of crime within each category (each age group, etc).\n",
    "\n",
    "You can also try disaggregating by a second variable, eg does whether men or women are more likely to be victims of crime differ by ethnic group?"
   ]
  },
  {
   "cell_type": "code",
   "execution_count": 11,
   "id": "e7e2317a-7661-49b7-b0f1-07c4734f266f",
   "metadata": {
    "tags": []
   },
   "outputs": [],
   "source": [
    "# You will add several code blocks here to explore the data"
   ]
  },
  {
   "cell_type": "markdown",
   "id": "7dd27f6c-5dcf-42aa-b0ad-c4258d70a8e4",
   "metadata": {},
   "source": [
    "## Do attitudes differ depending on demographics?\n",
    "\n",
    "Looking at the attitude variables (effectx, fairx, confx and antisocx), which demographic factors seem to influence these?\n",
    "\n",
    "I found it most helpful to make KDE plots for the distribution of each attitude variable in each demographic group; because there are often many groups to compare, the simplicity of the KDE plot (without shading) is helpful. \n",
    "\n",
    "Because there are different numbers of people in each group, you may want to normalize all the KDE plots to have the same area using the argument `common_norm=False` as below - this makes it easier to compare groups"
   ]
  },
  {
   "cell_type": "code",
   "execution_count": 12,
   "id": "a13f7efb-5734-4908-a10b-e8348627216d",
   "metadata": {
    "tags": []
   },
   "outputs": [
    {
     "data": {
      "image/png": "[encoded data removed]",
      "text/plain": [
       "<Figure size 640x480 with 1 Axes>"
      ]
     },
     "metadata": {},
     "output_type": "display_data"
    }
   ],
   "source": [
    "sns.kdeplot(data=crime, x='fairx', hue='AgeGroup', common_norm=False)\n",
    "plt.legend(labels = ['75+','65-74','55-64','45-54','35-44','25-34','Under 25'])\n",
    "plt.show()"
   ]
  },
  {
   "cell_type": "markdown",
   "id": "84a96e37-8e45-4485-add8-624e5bc648a9",
   "metadata": {
    "tags": []
   },
   "source": [
    "## Do attitudes differ depending on whether the respondant has been a victim of crime?\n",
    "\n",
    "You can use a similar approach to that used for demographic factors above.\n",
    "\n",
    "You imght think about disaggregating by some demographic factors - does being a victimm of crime make some groups more confident in the police (etc) and other groups, less confident? What might this say about different groups/ interactions with the police?"
   ]
  },
  {
   "cell_type": "markdown",
   "id": "a5fa18ac-80d8-4fa5-94c4-1efb663e7163",
   "metadata": {},
   "source": [
    "## Conclusions\n",
    "\n",
    "Young people, students and those living in areas of high deprivation are more likely to be victims of crime and are more likely to experience antisocial behaviour in their neighbourhood.\n",
    "\n",
    "Perhaps surprisingly, there is little diference in attitudes to the police and criminal justice system between these groups, and those groups who experience much less crime and antisocial behaviour; there is a slight effect that people of low SES or in areas of deprivation have momre positive, rather than neutral, attitudes to the police. There is quite a strong effect that young people have more negative attitudes to the criminal justice system than older people.\n",
    "\n",
    "Those who have been a victim of crime have slightly higher average confidence in the police than those who have not; mainly, a large proportion of people who have not been victims of crime expressed neutral attitudes to the police."
   ]
  },
  {
   "cell_type": "code",
   "execution_count": null,
   "id": "4115d732-300c-468a-b520-981a347ca02d",
   "metadata": {},
   "outputs": [],
   "source": []
  }
 ],
 "metadata": {
  "kernelspec": {
   "display_name": "Python 3 (ipykernel)",
   "language": "python",
   "name": "python3"
  },
  "language_info": {
   "codemirror_mode": {
    "name": "ipython",
    "version": 3
   },
   "file_extension": ".py",
   "mimetype": "text/x-python",
   "name": "python",
   "nbconvert_exporter": "python",
   "pygments_lexer": "ipython3",
   "version": "3.9.18"
  }
 },
 "nbformat": 4,
 "nbformat_minor": 5
}
