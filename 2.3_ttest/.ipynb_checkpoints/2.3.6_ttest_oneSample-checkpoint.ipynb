{
 "cells": [
  {
   "cell_type": "markdown",
   "id": "d6714b52",
   "metadata": {},
   "source": [
    "# One sample t-test"
   ]
  },
  {
   "cell_type": "markdown",
   "id": "741220b6",
   "metadata": {},
   "source": [
    "### Set up Python libraries\n",
    "\n",
    "As usual, run the code cell below to import the relevant Python libraries"
   ]
  },
  {
   "cell_type": "code",
   "execution_count": 1,
   "id": "692abf91",
   "metadata": {
    "tags": []
   },
   "outputs": [],
   "source": [
    "# Set-up Python libraries - you need to run this but you don't need to change it\n",
    "import numpy as np\n",
    "import matplotlib.pyplot as plt\n",
    "import scipy.stats as stats\n",
    "import pandas as pd\n",
    "import seaborn as sns\n",
    "sns.set_theme(style='white')\n",
    "import statsmodels.api as sm\n",
    "import statsmodels.formula.api as smf\n",
    "import warnings \n",
    "warnings.simplefilter('ignore', category=FutureWarning)"
   ]
  },
  {
   "cell_type": "markdown",
   "id": "54180c0e",
   "metadata": {},
   "source": [
    "## Example\n",
    "\n",
    "<img src=\"https://raw.githubusercontent.com/jillxoreilly/StatsCourseBook_2024/main/images/rowingTeam.png\" width=50% >\n",
    "\n",
    "Here are the heights in cm of eight men on a rowing team"
   ]
  },
  {
   "cell_type": "code",
   "execution_count": 2,
   "id": "cbac3239",
   "metadata": {
    "tags": []
   },
   "outputs": [
    {
     "data": {
      "text/html": [
       "<div>\n",
       "<style scoped>\n",
       "    .dataframe tbody tr th:only-of-type {\n",
       "        vertical-align: middle;\n",
       "    }\n",
       "\n",
       "    .dataframe tbody tr th {\n",
       "        vertical-align: top;\n",
       "    }\n",
       "\n",
       "    .dataframe thead th {\n",
       "        text-align: right;\n",
       "    }\n",
       "</style>\n",
       "<table border=\"1\" class=\"dataframe\">\n",
       "  <thead>\n",
       "    <tr style=\"text-align: right;\">\n",
       "      <th></th>\n",
       "      <th>height</th>\n",
       "    </tr>\n",
       "  </thead>\n",
       "  <tbody>\n",
       "    <tr>\n",
       "      <th>0</th>\n",
       "      <td>180.7</td>\n",
       "    </tr>\n",
       "    <tr>\n",
       "      <th>1</th>\n",
       "      <td>185.1</td>\n",
       "    </tr>\n",
       "    <tr>\n",
       "      <th>2</th>\n",
       "      <td>198.1</td>\n",
       "    </tr>\n",
       "    <tr>\n",
       "      <th>3</th>\n",
       "      <td>175.3</td>\n",
       "    </tr>\n",
       "    <tr>\n",
       "      <th>4</th>\n",
       "      <td>181.3</td>\n",
       "    </tr>\n",
       "    <tr>\n",
       "      <th>5</th>\n",
       "      <td>179.4</td>\n",
       "    </tr>\n",
       "    <tr>\n",
       "      <th>6</th>\n",
       "      <td>166.5</td>\n",
       "    </tr>\n",
       "    <tr>\n",
       "      <th>7</th>\n",
       "      <td>176.9</td>\n",
       "    </tr>\n",
       "  </tbody>\n",
       "</table>\n",
       "</div>"
      ],
      "text/plain": [
       "   height\n",
       "0   180.7\n",
       "1   185.1\n",
       "2   198.1\n",
       "3   175.3\n",
       "4   181.3\n",
       "5   179.4\n",
       "6   166.5\n",
       "7   176.9"
      ]
     },
     "metadata": {},
     "output_type": "display_data"
    }
   ],
   "source": [
    "heights = pd.read_csv('https://raw.githubusercontent.com/jillxoreilly/StatsCourseBook_2024/main/data/rowersHeights.csv')\n",
    "display(heights)"
   ]
  },
  {
   "cell_type": "markdown",
   "id": "9ee2764d",
   "metadata": {},
   "source": [
    "An observer notes that the men seem quite tall, and hypothesises that rowers are generally tall as tall people can row faster.\n",
    "\n",
    "Use a one-sample t-test to determine whether the mean height of the rowing team is \n",
    "significantly greater than the average height of men in the UK (175 cm)."
   ]
  },
  {
   "cell_type": "markdown",
   "id": "bf65d4b7",
   "metadata": {},
   "source": [
    "### Plot the data\n",
    "\n",
    "First we plot the data to check if they are roughly normally distributed and check for outliers. \n",
    "As before, a KDE plot is useful to show the shape of the distribution, and a rug plot to show individual values, \n",
    "as the sample size is so small \n",
    "                                                                                                                       "
   ]
  },
  {
   "cell_type": "code",
   "execution_count": 4,
   "id": "b5c48b94",
   "metadata": {
    "tags": []
   },
   "outputs": [
    {
     "data": {
      "image/png": "[encoded data removed]",
      "text/plain": [
       "<Figure size 640x480 with 1 Axes>"
      ]
     },
     "metadata": {},
     "output_type": "display_data"
    }
   ],
   "source": [
    "plot = sns.kdeplot(data = heights, fill=True)\n",
    "sns.rugplot(data = heights, height=0.1)\n",
    "plt.xlabel(\"height (cm)\", fontsize = 12)\n",
    "plt.ylabel(\"density\", fontsize = 12)\n",
    "plt.show()"
   ]
  },
  {
   "cell_type": "markdown",
   "id": "ac06a0ef",
   "metadata": {},
   "source": [
    "As usual, it's difficult to say if the data are normally distributed from a plot of a small sample - \n",
    "they don't look too bad although there is one very tall outlier.\n",
    "\n",
    "However, height is generally normally distributed so let's go ahead and use the t-test."
   ]
  },
  {
   "cell_type": "markdown",
   "id": "82caf902",
   "metadata": {},
   "source": [
    "### Hypotheses\n",
    "\n",
    "\n",
    "$\\mathcal{H_o}$: the mean height of rowers is greater than the population average of 175cm\n",
    "\n",
    "$\\mathcal{H_a}$: the mean higher of rowers is not different from the population average of 175cm\n",
    "    \n",
    "This is a one-tailed test as the observer's hypothesis (described above) is directional - \n",
    "she thinks taller people are more likely to be good rowers\n",
    "\n",
    "We will test at the $\\alpha = 0.05$ significance level"
   ]
  },
  {
   "cell_type": "markdown",
   "id": "88e5cc3d",
   "metadata": {},
   "source": [
    "### Descriptive Statistics\n",
    "\n",
    "First, we obtain the relevant desriptive statistics. By relevant, I mean the ones that go into the equation for the t-test:\n",
    "\n",
    "$$ t = \\frac{\\bar{x}}{\\frac{s}{\\sqrt{n}}} $$\n",
    "\n",
    "This would be the sample mean $\\bar{x}$, the standard deviation $s$, and the sample size $n$.\n",
    "\n"
   ]
  },
  {
   "cell_type": "code",
   "execution_count": 12,
   "id": "11eeb386",
   "metadata": {},
   "outputs": [
    {
     "data": {
      "text/html": [
       "<div>\n",
       "<style scoped>\n",
       "    .dataframe tbody tr th:only-of-type {\n",
       "        vertical-align: middle;\n",
       "    }\n",
       "\n",
       "    .dataframe tbody tr th {\n",
       "        vertical-align: top;\n",
       "    }\n",
       "\n",
       "    .dataframe thead th {\n",
       "        text-align: right;\n",
       "    }\n",
       "</style>\n",
       "<table border=\"1\" class=\"dataframe\">\n",
       "  <thead>\n",
       "    <tr style=\"text-align: right;\">\n",
       "      <th></th>\n",
       "      <th>height</th>\n",
       "    </tr>\n",
       "  </thead>\n",
       "  <tbody>\n",
       "    <tr>\n",
       "      <th>count</th>\n",
       "      <td>8.000000</td>\n",
       "    </tr>\n",
       "    <tr>\n",
       "      <th>mean</th>\n",
       "      <td>180.412500</td>\n",
       "    </tr>\n",
       "    <tr>\n",
       "      <th>std</th>\n",
       "      <td>9.013868</td>\n",
       "    </tr>\n",
       "    <tr>\n",
       "      <th>min</th>\n",
       "      <td>166.500000</td>\n",
       "    </tr>\n",
       "    <tr>\n",
       "      <th>25%</th>\n",
       "      <td>176.500000</td>\n",
       "    </tr>\n",
       "    <tr>\n",
       "      <th>50%</th>\n",
       "      <td>180.050000</td>\n",
       "    </tr>\n",
       "    <tr>\n",
       "      <th>75%</th>\n",
       "      <td>182.250000</td>\n",
       "    </tr>\n",
       "    <tr>\n",
       "      <th>max</th>\n",
       "      <td>198.100000</td>\n",
       "    </tr>\n",
       "  </tbody>\n",
       "</table>\n",
       "</div>"
      ],
      "text/plain": [
       "           height\n",
       "count    8.000000\n",
       "mean   180.412500\n",
       "std      9.013868\n",
       "min    166.500000\n",
       "25%    176.500000\n",
       "50%    180.050000\n",
       "75%    182.250000\n",
       "max    198.100000"
      ]
     },
     "execution_count": 12,
     "metadata": {},
     "output_type": "execute_result"
    }
   ],
   "source": [
    "heights.describe()"
   ]
  },
  {
   "cell_type": "markdown",
   "id": "ad893005",
   "metadata": {},
   "source": [
    "It looks like the mean height of rowers (180.4cm) is above the population mean of 175cm.\n",
    "\n",
    "Is this a big difference? It is less than one standard deviation above the mean: s=8.4 and (180.4-175)=5.4. \n",
    "It turns out (from the normal distribution) that if the average rower was an actual person, they would be taller than about 75% of others, so tall, but not remarkably so. \n",
    "\n",
    "However, another key element is the variability in the dataset - if the rowers are consistently quite tall (that is most of them are tall), they may as a group be significantly taller than average."
   ]
  },
  {
   "cell_type": "markdown",
   "id": "5118a55a",
   "metadata": {},
   "source": [
    "### Carry out the test\n",
    "\n",
    "To do the t-test itself we use a one-sample t-test using the function <tt>ttest_1samp</tt> (that's `stats.1samp()` for one sample) from \n",
    "`scipy.stats`"
   ]
  },
  {
   "cell_type": "code",
   "execution_count": 103,
   "id": "fc50b0c4",
   "metadata": {},
   "outputs": [
    {
     "data": {
      "text/plain": [
       "Ttest_1sampResult(statistic=1.6983675966357161, pvalue=0.06662234508287802)"
      ]
     },
     "execution_count": 103,
     "metadata": {},
     "output_type": "execute_result"
    }
   ],
   "source": [
    "stats.ttest_1samp(heights, 175, alternative='greater')"
   ]
  },
  {
   "cell_type": "markdown",
   "id": "56a0749d",
   "metadata": {},
   "source": [
    "The inputs to stats.ttest_1samp are the sample (from our Pandas data frame <tt>heights</tt>) and the value to which they are to be compared (the average height of british men, 175cm),\n",
    "and the argument <tt>alternative='greater'</tt>, which tells the computer to run a one tailed test \n",
    "that mean of the first input <tt>heights</tt> is greater than the reference value <tt>175</tt>.\n",
    "\n",
    "The outputs are <tt>statistic</tt> ($t=1.70$) and <tt>pvalue</tt> ($p=0.067$) - if this is less than our $\\alpha$ value 0.5, there is a significant difference.\n",
    "\n",
    "### Degrees of freedom\n",
    "\n",
    "In a scientific write-up we also need to report the degrees of freedom of the test. This tells us how many observations (data-points) the test was based on, corrected for the number of means we had to estimate from the data in order to do the test.\n",
    "\n",
    "In the case of the one sample t-test $df = n-1$ so in this case, df=7 and we can report out test results as:\n",
    "\n",
    "$t(7) = 1.70, p=0.067$ (one-tailed)\n",
    "\n",
    "### Interpretation\n",
    "\n",
    "Our t value of 1.67 means that the difference between the mean height of the rowers and the standard value (175cm, the mean height of British men) is 1.67 times the standard error (where $ SE = \\frac{s}{\\sqrt{n}}$).\n",
    "\n",
    "Such a large difference (in the expected direction) would occur 0.067 (6.7%) of the time due to chance if the null hypothesis were true (rowers were no taller than other men), hence the p value of 0.067. This is higher than our alpha value (0.05) so the test is not significant.\n",
    "\n",
    "This diagram shows the expected distribution of t-values if the null were true, with our obtained t-value marked:\n",
    "\n",
    "<img src=\"https://raw.githubusercontent.com/jillxoreilly/StatsCourseBook/main/images/ttestRowing.png\" width=50% alt=\"There should be a picture of the t-distribution here\" >"
   ]
  },
  {
   "cell_type": "markdown",
   "id": "1746c632",
   "metadata": {},
   "source": [
    "### Draw conclusions\n",
    "\n",
    "As p>0.05 the test is not significant and we fail to reject the null hypothesis. There is not sufficient evidence to support the hypothesis that rowers are taller than average."
   ]
  },
  {
   "cell_type": "markdown",
   "id": "2309a35d",
   "metadata": {},
   "source": [
    "## Write-up \n",
    "<br>\n",
    "\n",
    "<div style = \"    padding-top: 10px;\n",
    "    padding-bottom: 10px;\n",
    "    padding-left: 10px;\n",
    "    padding-right: 10px;\n",
    "    box-shadow: 0px 8px 16px 0px rgba(0,0,0,0.2);\n",
    "    vertical-align: middle;\">\n",
    "    \n",
    "Above, I walked you through how to run the t-test and why we make different choices. \n",
    "    \n",
    "In this section we practice writing up our analysis in the correct style for a scientific report. \n",
    "    \n",
    "Replace the XXXs with the correct values!    \n",
    "\n",
    "</div>\n",
    "\n",
    "<br>"
   ]
  },
  {
   "cell_type": "markdown",
   "id": "eb2962b0",
   "metadata": {},
   "source": [
    "To test the hypothesis that rowers are taller than average, we measaured the heights of 8 male rowers and compared to the national value for mean height of British men (obtained from Wikipedia): 175cm.\n",
    "\n",
    "The data are shown below:"
   ]
  },
  {
   "cell_type": "code",
   "execution_count": null,
   "id": "513809b5",
   "metadata": {
    "tags": []
   },
   "outputs": [],
   "source": [
    "plot = sns.kdeplot(data = heights, fill=True)\n",
    "sns.rugplot(data = heights, height=0.1)\n",
    "plt.xlabel(\"height (cm)\", fontsize = 12)\n",
    "plt.ylabel(\"density\", fontsize = 12)\n",
    "plt.show()"
   ]
  },
  {
   "cell_type": "markdown",
   "id": "4b88dc33",
   "metadata": {},
   "source": [
    "The mean height of the rowers was XXX.X cm and the standard deviation was X.XX cm."
   ]
  },
  {
   "cell_type": "code",
   "execution_count": 14,
   "id": "2e3ee40e",
   "metadata": {},
   "outputs": [
    {
     "data": {
      "text/html": [
       "<div>\n",
       "<style scoped>\n",
       "    .dataframe tbody tr th:only-of-type {\n",
       "        vertical-align: middle;\n",
       "    }\n",
       "\n",
       "    .dataframe tbody tr th {\n",
       "        vertical-align: top;\n",
       "    }\n",
       "\n",
       "    .dataframe thead th {\n",
       "        text-align: right;\n",
       "    }\n",
       "</style>\n",
       "<table border=\"1\" class=\"dataframe\">\n",
       "  <thead>\n",
       "    <tr style=\"text-align: right;\">\n",
       "      <th></th>\n",
       "      <th>height</th>\n",
       "    </tr>\n",
       "  </thead>\n",
       "  <tbody>\n",
       "    <tr>\n",
       "      <th>count</th>\n",
       "      <td>8.000000</td>\n",
       "    </tr>\n",
       "    <tr>\n",
       "      <th>mean</th>\n",
       "      <td>180.412500</td>\n",
       "    </tr>\n",
       "    <tr>\n",
       "      <th>std</th>\n",
       "      <td>9.013868</td>\n",
       "    </tr>\n",
       "    <tr>\n",
       "      <th>min</th>\n",
       "      <td>166.500000</td>\n",
       "    </tr>\n",
       "    <tr>\n",
       "      <th>25%</th>\n",
       "      <td>176.500000</td>\n",
       "    </tr>\n",
       "    <tr>\n",
       "      <th>50%</th>\n",
       "      <td>180.050000</td>\n",
       "    </tr>\n",
       "    <tr>\n",
       "      <th>75%</th>\n",
       "      <td>182.250000</td>\n",
       "    </tr>\n",
       "    <tr>\n",
       "      <th>max</th>\n",
       "      <td>198.100000</td>\n",
       "    </tr>\n",
       "  </tbody>\n",
       "</table>\n",
       "</div>"
      ],
      "text/plain": [
       "           height\n",
       "count    8.000000\n",
       "mean   180.412500\n",
       "std      9.013868\n",
       "min    166.500000\n",
       "25%    176.500000\n",
       "50%    180.050000\n",
       "75%    182.250000\n",
       "max    198.100000"
      ]
     },
     "execution_count": 14,
     "metadata": {},
     "output_type": "execute_result"
    }
   ],
   "source": [
    "heights = pandas.read_csv('data/rowersHeights.csv')\n",
    "heights.describe()"
   ]
  },
  {
   "cell_type": "markdown",
   "id": "cac7ffd1",
   "metadata": {},
   "source": [
    "We used a one-sample t-test (alpha = X, XX tailed). The use of the t-test (assumption of normality) was justified theoretically on the grounds that heights are typically normally distributed."
   ]
  },
  {
   "cell_type": "code",
   "execution_count": 15,
   "id": "9b8270ad",
   "metadata": {},
   "outputs": [
    {
     "data": {
      "text/plain": [
       "Ttest_1sampResult(statistic=array([1.6983676]), pvalue=array([0.06662235]))"
      ]
     },
     "execution_count": 15,
     "metadata": {},
     "output_type": "execute_result"
    }
   ],
   "source": [
    "stats.ttest_1samp(heights, 175, alternative='greater')"
   ]
  },
  {
   "cell_type": "markdown",
   "id": "f8ad7dd7",
   "metadata": {},
   "source": [
    "The results of the t-test $t(XX) =$ X.XX, $p=$X.XX (XX-tailed) suggest that there is insufficient evidence ot reject the null and we cannot conclude that rowers are taller than average."
   ]
  },
  {
   "cell_type": "code",
   "execution_count": null,
   "id": "fd282232",
   "metadata": {},
   "outputs": [],
   "source": []
  }
 ],
 "metadata": {
  "kernelspec": {
   "display_name": "Python 3 (ipykernel)",
   "language": "python",
   "name": "python3"
  },
  "language_info": {
   "codemirror_mode": {
    "name": "ipython",
    "version": 3
   },
   "file_extension": ".py",
   "mimetype": "text/x-python",
   "name": "python",
   "nbconvert_exporter": "python",
   "pygments_lexer": "ipython3",
   "version": "3.9.18"
  }
 },
 "nbformat": 4,
 "nbformat_minor": 5
}
