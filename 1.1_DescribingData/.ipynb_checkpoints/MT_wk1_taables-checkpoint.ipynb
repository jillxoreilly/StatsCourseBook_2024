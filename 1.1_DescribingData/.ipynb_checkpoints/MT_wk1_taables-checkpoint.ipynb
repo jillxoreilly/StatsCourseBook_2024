{
 "cells": [
  {
   "cell_type": "markdown",
   "id": "69252ce6",
   "metadata": {},
   "source": [
    "# Key Python syntax: indexing\n",
    "\n",
    "In this notebook we cover some key <tt>Pandas</tt> syntax and functions:\n",
    "\n",
    "* Syntax for **indexing** a dataframe - finding the rows and columns that you need\n",
    "\n",
    "**Indexing** is something you will do every single time you write code for data analysis. Incorrect syntax in indexing is the number one biggest source of bugs for student on this course, so it is well worth spending the time to get to grips with it.\n",
    "\n",
    "## Set up Python Libraries\n",
    "\n",
    "As usual you will need to run this code block to import the relevant Python libraries"
   ]
  },
  {
   "cell_type": "code",
   "execution_count": 1,
   "id": "7420037e",
   "metadata": {},
   "outputs": [],
   "source": [
    "# Set-up Python libraries - you need to run this but you don't need to change it\n",
    "import numpy as np\n",
    "import matplotlib.pyplot as plt\n",
    "import scipy.stats as stats\n",
    "import pandas \n",
    "import seaborn as sns\n",
    "import statsmodels.api as sm\n",
    "import statsmodels.formula.api as smf"
   ]
  },
  {
   "cell_type": "markdown",
   "id": "14d3d992",
   "metadata": {},
   "source": [
    "## Import a dataset to work with\n",
    "\n",
    "You will need to download the file OxfordWeather.csv from Canvas to your computer, then import it"
   ]
  },
  {
   "cell_type": "code",
   "execution_count": 2,
   "id": "53648053",
   "metadata": {},
   "outputs": [
    {
     "data": {
      "text/html": [
       "<div>\n",
       "<style scoped>\n",
       "    .dataframe tbody tr th:only-of-type {\n",
       "        vertical-align: middle;\n",
       "    }\n",
       "\n",
       "    .dataframe tbody tr th {\n",
       "        vertical-align: top;\n",
       "    }\n",
       "\n",
       "    .dataframe thead th {\n",
       "        text-align: right;\n",
       "    }\n",
       "</style>\n",
       "<table border=\"1\" class=\"dataframe\">\n",
       "  <thead>\n",
       "    <tr style=\"text-align: right;\">\n",
       "      <th></th>\n",
       "      <th>YYYY</th>\n",
       "      <th>MM</th>\n",
       "      <th>DD</th>\n",
       "      <th>Tmax</th>\n",
       "      <th>Tmin</th>\n",
       "      <th>Tmean</th>\n",
       "      <th>Trange</th>\n",
       "      <th>Rainfall_mm</th>\n",
       "    </tr>\n",
       "  </thead>\n",
       "  <tbody>\n",
       "    <tr>\n",
       "      <th>0</th>\n",
       "      <td>1827</td>\n",
       "      <td>1</td>\n",
       "      <td>1</td>\n",
       "      <td>8.3</td>\n",
       "      <td>5.6</td>\n",
       "      <td>7.0</td>\n",
       "      <td>2.7</td>\n",
       "      <td>0.0</td>\n",
       "    </tr>\n",
       "    <tr>\n",
       "      <th>1</th>\n",
       "      <td>1827</td>\n",
       "      <td>1</td>\n",
       "      <td>2</td>\n",
       "      <td>2.2</td>\n",
       "      <td>0.0</td>\n",
       "      <td>1.1</td>\n",
       "      <td>2.2</td>\n",
       "      <td>0.0</td>\n",
       "    </tr>\n",
       "    <tr>\n",
       "      <th>2</th>\n",
       "      <td>1827</td>\n",
       "      <td>1</td>\n",
       "      <td>3</td>\n",
       "      <td>-2.2</td>\n",
       "      <td>-8.3</td>\n",
       "      <td>-5.3</td>\n",
       "      <td>6.1</td>\n",
       "      <td>9.7</td>\n",
       "    </tr>\n",
       "    <tr>\n",
       "      <th>3</th>\n",
       "      <td>1827</td>\n",
       "      <td>1</td>\n",
       "      <td>4</td>\n",
       "      <td>-1.7</td>\n",
       "      <td>-7.8</td>\n",
       "      <td>-4.8</td>\n",
       "      <td>6.1</td>\n",
       "      <td>0.0</td>\n",
       "    </tr>\n",
       "    <tr>\n",
       "      <th>4</th>\n",
       "      <td>1827</td>\n",
       "      <td>1</td>\n",
       "      <td>5</td>\n",
       "      <td>0.0</td>\n",
       "      <td>-10.6</td>\n",
       "      <td>-5.3</td>\n",
       "      <td>10.6</td>\n",
       "      <td>0.0</td>\n",
       "    </tr>\n",
       "    <tr>\n",
       "      <th>...</th>\n",
       "      <td>...</td>\n",
       "      <td>...</td>\n",
       "      <td>...</td>\n",
       "      <td>...</td>\n",
       "      <td>...</td>\n",
       "      <td>...</td>\n",
       "      <td>...</td>\n",
       "      <td>...</td>\n",
       "    </tr>\n",
       "    <tr>\n",
       "      <th>71338</th>\n",
       "      <td>2022</td>\n",
       "      <td>4</td>\n",
       "      <td>26</td>\n",
       "      <td>15.2</td>\n",
       "      <td>4.1</td>\n",
       "      <td>9.7</td>\n",
       "      <td>11.1</td>\n",
       "      <td>0.0</td>\n",
       "    </tr>\n",
       "    <tr>\n",
       "      <th>71339</th>\n",
       "      <td>2022</td>\n",
       "      <td>4</td>\n",
       "      <td>27</td>\n",
       "      <td>10.7</td>\n",
       "      <td>2.6</td>\n",
       "      <td>6.7</td>\n",
       "      <td>8.1</td>\n",
       "      <td>0.0</td>\n",
       "    </tr>\n",
       "    <tr>\n",
       "      <th>71340</th>\n",
       "      <td>2022</td>\n",
       "      <td>4</td>\n",
       "      <td>28</td>\n",
       "      <td>12.7</td>\n",
       "      <td>3.9</td>\n",
       "      <td>8.3</td>\n",
       "      <td>8.8</td>\n",
       "      <td>0.0</td>\n",
       "    </tr>\n",
       "    <tr>\n",
       "      <th>71341</th>\n",
       "      <td>2022</td>\n",
       "      <td>4</td>\n",
       "      <td>29</td>\n",
       "      <td>11.7</td>\n",
       "      <td>6.7</td>\n",
       "      <td>9.2</td>\n",
       "      <td>5.0</td>\n",
       "      <td>0.0</td>\n",
       "    </tr>\n",
       "    <tr>\n",
       "      <th>71342</th>\n",
       "      <td>2022</td>\n",
       "      <td>4</td>\n",
       "      <td>30</td>\n",
       "      <td>17.6</td>\n",
       "      <td>1.0</td>\n",
       "      <td>9.3</td>\n",
       "      <td>16.6</td>\n",
       "      <td>0.0</td>\n",
       "    </tr>\n",
       "  </tbody>\n",
       "</table>\n",
       "<p>71343 rows × 8 columns</p>\n",
       "</div>"
      ],
      "text/plain": [
       "       YYYY  MM  DD  Tmax  Tmin  Tmean  Trange  Rainfall_mm\n",
       "0      1827   1   1   8.3   5.6    7.0     2.7          0.0\n",
       "1      1827   1   2   2.2   0.0    1.1     2.2          0.0\n",
       "2      1827   1   3  -2.2  -8.3   -5.3     6.1          9.7\n",
       "3      1827   1   4  -1.7  -7.8   -4.8     6.1          0.0\n",
       "4      1827   1   5   0.0 -10.6   -5.3    10.6          0.0\n",
       "...     ...  ..  ..   ...   ...    ...     ...          ...\n",
       "71338  2022   4  26  15.2   4.1    9.7    11.1          0.0\n",
       "71339  2022   4  27  10.7   2.6    6.7     8.1          0.0\n",
       "71340  2022   4  28  12.7   3.9    8.3     8.8          0.0\n",
       "71341  2022   4  29  11.7   6.7    9.2     5.0          0.0\n",
       "71342  2022   4  30  17.6   1.0    9.3    16.6          0.0\n",
       "\n",
       "[71343 rows x 8 columns]"
      ]
     },
     "metadata": {},
     "output_type": "display_data"
    }
   ],
   "source": [
    "weather = pandas.read_csv(\"https://raw.githubusercontent.com/jillxoreilly/StatsCourseBook/main/data/OxfordWeather.csv\")\n",
    "display(weather)"
   ]
  },
  {
   "cell_type": "markdown",
   "id": "af6131ce",
   "metadata": {},
   "source": [
    "## Get descriptive statistics\n",
    "\n",
    "We will look at indexing in the context of getting descriptive statistics for the different variables in a dataframe, and/or for a selection of rows.\n",
    "\n",
    "We have seen a number of functions to get descriptive statistics:\n",
    "    \n",
    "- `df.mean()`   -  gets the mean\n",
    "- `df.median()` - gets the median\n",
    "- `df.var()` - gets the variance\n",
    "- `df.std()` - gets the standard deviation\n",
    "- `df.min()` - gets the minimum value\n",
    "- `df.max()` - gets the maximum value\n",
    "\n",
    "in the function names above, `df` is just a placeholder for \"dataframe\" \n",
    "\n",
    "You can replace `df` with the name of your dataframe (in which case you will get a table with the descriptive statistic you asked for, for every column containing numerical data)\n"
   ]
  },
  {
   "cell_type": "code",
   "execution_count": 3,
   "id": "0e4c6baf",
   "metadata": {},
   "outputs": [
    {
     "data": {
      "text/plain": [
       "YYYY           1924.165174\n",
       "MM                6.516210\n",
       "DD               15.729154\n",
       "Tmax             13.890153\n",
       "Tmin              6.156018\n",
       "Tmean            10.046208\n",
       "Trange            7.734244\n",
       "Rainfall_mm       1.786964\n",
       "dtype: float64"
      ]
     },
     "execution_count": 3,
     "metadata": {},
     "output_type": "execute_result"
    }
   ],
   "source": [
    "weather.mean()"
   ]
  },
  {
   "cell_type": "markdown",
   "id": "ddd45678",
   "metadata": {},
   "source": [
    "Which columns from the dataframe are missing from the table of means?\n",
    "* Month is missing because the values are strings (words); we only get the mean for numerical columns\n",
    "\n",
    "## Decriptives for a single column\n",
    "\n",
    "Format:\n",
    "- `df.column.mean()`\n",
    "\n",
    "You might just want the mean for one column, in which case you can include the column name as follows:"
   ]
  },
  {
   "cell_type": "code",
   "execution_count": 5,
   "id": "60351416",
   "metadata": {},
   "outputs": [
    {
     "data": {
      "text/plain": [
       "13.890153065515065"
      ]
     },
     "execution_count": 5,
     "metadata": {},
     "output_type": "execute_result"
    }
   ],
   "source": [
    "weather.Tmax.mean()"
   ]
  },
  {
   "cell_type": "markdown",
   "id": "772ff0e0",
   "metadata": {},
   "source": [
    "Instead of a whole table of means, many of which were irrelevant, we now just have the single number we wanted - the mean of <tt>Tmax</tt>\n",
    "\n",
    "* *Think* check that the value obtained this way matches the one in the table above.\n",
    "\n",
    "#### Why does it work?\n",
    "\n",
    "The commmand `weather.Tmax.mean()` has two steps.\n",
    "\n",
    "**Step 1:**\n",
    "\n",
    "The syntax `weather.Tmax` (or more generally, `df.column`) returns just the one column of the dataframe as a <tt>series</tt> (essentially a one-column table).\n",
    "\n",
    "Look:"
   ]
  },
  {
   "cell_type": "code",
   "execution_count": 14,
   "id": "ca537aa1",
   "metadata": {},
   "outputs": [
    {
     "data": {
      "text/plain": [
       "0         8.3\n",
       "1         2.2\n",
       "2        -2.2\n",
       "3        -1.7\n",
       "4         0.0\n",
       "         ... \n",
       "71338    15.2\n",
       "71339    10.7\n",
       "71340    12.7\n",
       "71341    11.7\n",
       "71342    17.6\n",
       "Name: Tmax, Length: 71343, dtype: float64"
      ]
     },
     "execution_count": 14,
     "metadata": {},
     "output_type": "execute_result"
    }
   ],
   "source": [
    "weather.Tmax"
   ]
  },
  {
   "cell_type": "markdown",
   "id": "73fdc0b4",
   "metadata": {},
   "source": [
    "If we liked, we could give this single-column series a name a 'save' it:"
   ]
  },
  {
   "cell_type": "code",
   "execution_count": 50,
   "id": "a85759d0",
   "metadata": {},
   "outputs": [
    {
     "name": "stdout",
     "output_type": "stream",
     "text": [
      "0         8.3\n",
      "1         2.2\n",
      "2        -2.2\n",
      "3        -1.7\n",
      "4         0.0\n",
      "         ... \n",
      "71338    15.2\n",
      "71339    10.7\n",
      "71340    12.7\n",
      "71341    11.7\n",
      "71342    17.6\n",
      "Name: Tmax, Length: 71343, dtype: float64\n"
     ]
    }
   ],
   "source": [
    "DailyMaxima  = weather.Tmax\n",
    "print(DailyMaxima)"
   ]
  },
  {
   "cell_type": "markdown",
   "id": "0ccb6bb4",
   "metadata": {},
   "source": [
    "However, we don't need to do that as we can just tack the `.mean()` function onto it directly as follows:"
   ]
  },
  {
   "cell_type": "markdown",
   "id": "b9672939",
   "metadata": {},
   "source": [
    "**Step 2:**\n",
    "\n",
    "The syntax `.mean()` gets the mean of the thing before the dot (i.e. the series you created with the command `weather.Tmax`)"
   ]
  },
  {
   "cell_type": "code",
   "execution_count": 13,
   "id": "2eb628aa",
   "metadata": {},
   "outputs": [
    {
     "data": {
      "text/plain": [
       "0         8.3\n",
       "1         2.2\n",
       "2        -2.2\n",
       "3        -1.7\n",
       "4         0.0\n",
       "         ... \n",
       "71338    15.2\n",
       "71339    10.7\n",
       "71340    12.7\n",
       "71341    11.7\n",
       "71342    17.6\n",
       "Name: Tmax, Length: 71343, dtype: float64"
      ]
     },
     "execution_count": 13,
     "metadata": {},
     "output_type": "execute_result"
    }
   ],
   "source": [
    "weather.Tmax.mean()"
   ]
  },
  {
   "cell_type": "markdown",
   "id": "3b115731",
   "metadata": {},
   "source": [
    "### Exercises\n",
    "\n",
    "Complete the following quick practice questions:"
   ]
  },
  {
   "cell_type": "code",
   "execution_count": 15,
   "id": "6bccd623",
   "metadata": {},
   "outputs": [],
   "source": [
    "# get the mean daily rainfall"
   ]
  },
  {
   "cell_type": "code",
   "execution_count": 16,
   "id": "9ac0f7eb",
   "metadata": {},
   "outputs": [],
   "source": [
    "# get the median daily rainfall"
   ]
  },
  {
   "cell_type": "code",
   "execution_count": 17,
   "id": "403db34f",
   "metadata": {},
   "outputs": [],
   "source": [
    "# get the standard deviation of the maximum daily temperature"
   ]
  },
  {
   "cell_type": "code",
   "execution_count": 18,
   "id": "d93cc437",
   "metadata": {},
   "outputs": [],
   "source": [
    "# find the minimum value of \"year\" (you will need two separate commands)"
   ]
  },
  {
   "cell_type": "markdown",
   "id": "62d816dc",
   "metadata": {},
   "source": [
    "## Get descriptives for a subset of rows\n",
    "\n",
    "- `df.query('columnname == number')`\n",
    "- `df.query('columnname == \"string\"')`\n",
    "- `df.query('columnname1 == value1 and columnname2 == value2')`\n",
    "\n",
    "\n",
    "Say I want to know the mean daily maximum temperatures for the year 1921.\n",
    "\n",
    "#### Step 1: find the relevant rows\n",
    "\n",
    "I first need to somehow pull out the rows of the table where the value for <tt>YYYY</tt> is <tt>1921</tt>\n",
    "    \n",
    "I can do this using the function `df.query`, for example <tt>weather.query('YYYY == 1921')</tt>\n",
    "   * **note** the quote marks surrounding the whole query\n",
    "   * **note** the double equals sign `==`, which is used for *checking* if two bvalues are equal (as opposed to setting a value)"
   ]
  },
  {
   "cell_type": "code",
   "execution_count": 58,
   "id": "98393d39",
   "metadata": {},
   "outputs": [
    {
     "data": {
      "text/html": [
       "<div>\n",
       "<style scoped>\n",
       "    .dataframe tbody tr th:only-of-type {\n",
       "        vertical-align: middle;\n",
       "    }\n",
       "\n",
       "    .dataframe tbody tr th {\n",
       "        vertical-align: top;\n",
       "    }\n",
       "\n",
       "    .dataframe thead th {\n",
       "        text-align: right;\n",
       "    }\n",
       "</style>\n",
       "<table border=\"1\" class=\"dataframe\">\n",
       "  <thead>\n",
       "    <tr style=\"text-align: right;\">\n",
       "      <th></th>\n",
       "      <th>YYYY</th>\n",
       "      <th>MM</th>\n",
       "      <th>DD</th>\n",
       "      <th>Tmax</th>\n",
       "      <th>Tmin</th>\n",
       "      <th>Tmean</th>\n",
       "      <th>Trange</th>\n",
       "      <th>Rainfall_mm</th>\n",
       "    </tr>\n",
       "  </thead>\n",
       "  <tbody>\n",
       "    <tr>\n",
       "      <th>34333</th>\n",
       "      <td>1921</td>\n",
       "      <td>1</td>\n",
       "      <td>1</td>\n",
       "      <td>12.2</td>\n",
       "      <td>7.1</td>\n",
       "      <td>9.7</td>\n",
       "      <td>5.1</td>\n",
       "      <td>9.7</td>\n",
       "    </tr>\n",
       "    <tr>\n",
       "      <th>34334</th>\n",
       "      <td>1921</td>\n",
       "      <td>1</td>\n",
       "      <td>2</td>\n",
       "      <td>11.9</td>\n",
       "      <td>8.7</td>\n",
       "      <td>10.3</td>\n",
       "      <td>3.2</td>\n",
       "      <td>6.1</td>\n",
       "    </tr>\n",
       "    <tr>\n",
       "      <th>34335</th>\n",
       "      <td>1921</td>\n",
       "      <td>1</td>\n",
       "      <td>3</td>\n",
       "      <td>9.9</td>\n",
       "      <td>5.9</td>\n",
       "      <td>7.9</td>\n",
       "      <td>4.0</td>\n",
       "      <td>0.0</td>\n",
       "    </tr>\n",
       "    <tr>\n",
       "      <th>34336</th>\n",
       "      <td>1921</td>\n",
       "      <td>1</td>\n",
       "      <td>4</td>\n",
       "      <td>12.3</td>\n",
       "      <td>9.8</td>\n",
       "      <td>11.1</td>\n",
       "      <td>2.5</td>\n",
       "      <td>5.5</td>\n",
       "    </tr>\n",
       "    <tr>\n",
       "      <th>34337</th>\n",
       "      <td>1921</td>\n",
       "      <td>1</td>\n",
       "      <td>5</td>\n",
       "      <td>11.4</td>\n",
       "      <td>6.5</td>\n",
       "      <td>9.0</td>\n",
       "      <td>4.9</td>\n",
       "      <td>0.0</td>\n",
       "    </tr>\n",
       "    <tr>\n",
       "      <th>...</th>\n",
       "      <td>...</td>\n",
       "      <td>...</td>\n",
       "      <td>...</td>\n",
       "      <td>...</td>\n",
       "      <td>...</td>\n",
       "      <td>...</td>\n",
       "      <td>...</td>\n",
       "      <td>...</td>\n",
       "    </tr>\n",
       "    <tr>\n",
       "      <th>34693</th>\n",
       "      <td>1921</td>\n",
       "      <td>12</td>\n",
       "      <td>27</td>\n",
       "      <td>11.2</td>\n",
       "      <td>5.4</td>\n",
       "      <td>8.3</td>\n",
       "      <td>5.8</td>\n",
       "      <td>1.3</td>\n",
       "    </tr>\n",
       "    <tr>\n",
       "      <th>34694</th>\n",
       "      <td>1921</td>\n",
       "      <td>12</td>\n",
       "      <td>28</td>\n",
       "      <td>13.9</td>\n",
       "      <td>3.9</td>\n",
       "      <td>8.9</td>\n",
       "      <td>10.0</td>\n",
       "      <td>0.0</td>\n",
       "    </tr>\n",
       "    <tr>\n",
       "      <th>34695</th>\n",
       "      <td>1921</td>\n",
       "      <td>12</td>\n",
       "      <td>29</td>\n",
       "      <td>7.6</td>\n",
       "      <td>1.7</td>\n",
       "      <td>4.7</td>\n",
       "      <td>5.9</td>\n",
       "      <td>0.8</td>\n",
       "    </tr>\n",
       "    <tr>\n",
       "      <th>34696</th>\n",
       "      <td>1921</td>\n",
       "      <td>12</td>\n",
       "      <td>30</td>\n",
       "      <td>11.7</td>\n",
       "      <td>1.9</td>\n",
       "      <td>6.8</td>\n",
       "      <td>9.8</td>\n",
       "      <td>4.5</td>\n",
       "    </tr>\n",
       "    <tr>\n",
       "      <th>34697</th>\n",
       "      <td>1921</td>\n",
       "      <td>12</td>\n",
       "      <td>31</td>\n",
       "      <td>9.1</td>\n",
       "      <td>3.3</td>\n",
       "      <td>6.2</td>\n",
       "      <td>5.8</td>\n",
       "      <td>0.0</td>\n",
       "    </tr>\n",
       "  </tbody>\n",
       "</table>\n",
       "<p>365 rows × 8 columns</p>\n",
       "</div>"
      ],
      "text/plain": [
       "       YYYY  MM  DD  Tmax  Tmin  Tmean  Trange  Rainfall_mm\n",
       "34333  1921   1   1  12.2   7.1    9.7     5.1          9.7\n",
       "34334  1921   1   2  11.9   8.7   10.3     3.2          6.1\n",
       "34335  1921   1   3   9.9   5.9    7.9     4.0          0.0\n",
       "34336  1921   1   4  12.3   9.8   11.1     2.5          5.5\n",
       "34337  1921   1   5  11.4   6.5    9.0     4.9          0.0\n",
       "...     ...  ..  ..   ...   ...    ...     ...          ...\n",
       "34693  1921  12  27  11.2   5.4    8.3     5.8          1.3\n",
       "34694  1921  12  28  13.9   3.9    8.9    10.0          0.0\n",
       "34695  1921  12  29   7.6   1.7    4.7     5.9          0.8\n",
       "34696  1921  12  30  11.7   1.9    6.8     9.8          4.5\n",
       "34697  1921  12  31   9.1   3.3    6.2     5.8          0.0\n",
       "\n",
       "[365 rows x 8 columns]"
      ]
     },
     "execution_count": 58,
     "metadata": {},
     "output_type": "execute_result"
    }
   ],
   "source": [
    "# get all the rows where year is 1921\n",
    "weather.loc[weather.YYYY == 1921]"
   ]
  },
  {
   "cell_type": "markdown",
   "id": "c1e00495",
   "metadata": {},
   "source": [
    "Note the size of this table - there are 365 rows. Why?\n",
    "* In the original table `weather`, there is one row per day\n",
    "* 365 of those rows (days) match the criterion 'YYYY = 1921' because there are 365 days in a year.\n",
    "\n",
    "If I wanted to, I could give this table a name and 'save' it for later use:\n"
   ]
  },
  {
   "cell_type": "code",
   "execution_count": 51,
   "id": "ee284f7a",
   "metadata": {},
   "outputs": [
    {
     "data": {
      "text/html": [
       "<div>\n",
       "<style scoped>\n",
       "    .dataframe tbody tr th:only-of-type {\n",
       "        vertical-align: middle;\n",
       "    }\n",
       "\n",
       "    .dataframe tbody tr th {\n",
       "        vertical-align: top;\n",
       "    }\n",
       "\n",
       "    .dataframe thead th {\n",
       "        text-align: right;\n",
       "    }\n",
       "</style>\n",
       "<table border=\"1\" class=\"dataframe\">\n",
       "  <thead>\n",
       "    <tr style=\"text-align: right;\">\n",
       "      <th></th>\n",
       "      <th>YYYY</th>\n",
       "      <th>MM</th>\n",
       "      <th>DD</th>\n",
       "      <th>Tmax</th>\n",
       "      <th>Tmin</th>\n",
       "      <th>Tmean</th>\n",
       "      <th>Trange</th>\n",
       "      <th>Rainfall_mm</th>\n",
       "    </tr>\n",
       "  </thead>\n",
       "  <tbody>\n",
       "    <tr>\n",
       "      <th>34333</th>\n",
       "      <td>1921</td>\n",
       "      <td>1</td>\n",
       "      <td>1</td>\n",
       "      <td>12.2</td>\n",
       "      <td>7.1</td>\n",
       "      <td>9.7</td>\n",
       "      <td>5.1</td>\n",
       "      <td>9.7</td>\n",
       "    </tr>\n",
       "    <tr>\n",
       "      <th>34334</th>\n",
       "      <td>1921</td>\n",
       "      <td>1</td>\n",
       "      <td>2</td>\n",
       "      <td>11.9</td>\n",
       "      <td>8.7</td>\n",
       "      <td>10.3</td>\n",
       "      <td>3.2</td>\n",
       "      <td>6.1</td>\n",
       "    </tr>\n",
       "    <tr>\n",
       "      <th>34335</th>\n",
       "      <td>1921</td>\n",
       "      <td>1</td>\n",
       "      <td>3</td>\n",
       "      <td>9.9</td>\n",
       "      <td>5.9</td>\n",
       "      <td>7.9</td>\n",
       "      <td>4.0</td>\n",
       "      <td>0.0</td>\n",
       "    </tr>\n",
       "    <tr>\n",
       "      <th>34336</th>\n",
       "      <td>1921</td>\n",
       "      <td>1</td>\n",
       "      <td>4</td>\n",
       "      <td>12.3</td>\n",
       "      <td>9.8</td>\n",
       "      <td>11.1</td>\n",
       "      <td>2.5</td>\n",
       "      <td>5.5</td>\n",
       "    </tr>\n",
       "    <tr>\n",
       "      <th>34337</th>\n",
       "      <td>1921</td>\n",
       "      <td>1</td>\n",
       "      <td>5</td>\n",
       "      <td>11.4</td>\n",
       "      <td>6.5</td>\n",
       "      <td>9.0</td>\n",
       "      <td>4.9</td>\n",
       "      <td>0.0</td>\n",
       "    </tr>\n",
       "    <tr>\n",
       "      <th>...</th>\n",
       "      <td>...</td>\n",
       "      <td>...</td>\n",
       "      <td>...</td>\n",
       "      <td>...</td>\n",
       "      <td>...</td>\n",
       "      <td>...</td>\n",
       "      <td>...</td>\n",
       "      <td>...</td>\n",
       "    </tr>\n",
       "    <tr>\n",
       "      <th>34693</th>\n",
       "      <td>1921</td>\n",
       "      <td>12</td>\n",
       "      <td>27</td>\n",
       "      <td>11.2</td>\n",
       "      <td>5.4</td>\n",
       "      <td>8.3</td>\n",
       "      <td>5.8</td>\n",
       "      <td>1.3</td>\n",
       "    </tr>\n",
       "    <tr>\n",
       "      <th>34694</th>\n",
       "      <td>1921</td>\n",
       "      <td>12</td>\n",
       "      <td>28</td>\n",
       "      <td>13.9</td>\n",
       "      <td>3.9</td>\n",
       "      <td>8.9</td>\n",
       "      <td>10.0</td>\n",
       "      <td>0.0</td>\n",
       "    </tr>\n",
       "    <tr>\n",
       "      <th>34695</th>\n",
       "      <td>1921</td>\n",
       "      <td>12</td>\n",
       "      <td>29</td>\n",
       "      <td>7.6</td>\n",
       "      <td>1.7</td>\n",
       "      <td>4.7</td>\n",
       "      <td>5.9</td>\n",
       "      <td>0.8</td>\n",
       "    </tr>\n",
       "    <tr>\n",
       "      <th>34696</th>\n",
       "      <td>1921</td>\n",
       "      <td>12</td>\n",
       "      <td>30</td>\n",
       "      <td>11.7</td>\n",
       "      <td>1.9</td>\n",
       "      <td>6.8</td>\n",
       "      <td>9.8</td>\n",
       "      <td>4.5</td>\n",
       "    </tr>\n",
       "    <tr>\n",
       "      <th>34697</th>\n",
       "      <td>1921</td>\n",
       "      <td>12</td>\n",
       "      <td>31</td>\n",
       "      <td>9.1</td>\n",
       "      <td>3.3</td>\n",
       "      <td>6.2</td>\n",
       "      <td>5.8</td>\n",
       "      <td>0.0</td>\n",
       "    </tr>\n",
       "  </tbody>\n",
       "</table>\n",
       "<p>365 rows × 8 columns</p>\n",
       "</div>"
      ],
      "text/plain": [
       "       YYYY  MM  DD  Tmax  Tmin  Tmean  Trange  Rainfall_mm\n",
       "34333  1921   1   1  12.2   7.1    9.7     5.1          9.7\n",
       "34334  1921   1   2  11.9   8.7   10.3     3.2          6.1\n",
       "34335  1921   1   3   9.9   5.9    7.9     4.0          0.0\n",
       "34336  1921   1   4  12.3   9.8   11.1     2.5          5.5\n",
       "34337  1921   1   5  11.4   6.5    9.0     4.9          0.0\n",
       "...     ...  ..  ..   ...   ...    ...     ...          ...\n",
       "34693  1921  12  27  11.2   5.4    8.3     5.8          1.3\n",
       "34694  1921  12  28  13.9   3.9    8.9    10.0          0.0\n",
       "34695  1921  12  29   7.6   1.7    4.7     5.9          0.8\n",
       "34696  1921  12  30  11.7   1.9    6.8     9.8          4.5\n",
       "34697  1921  12  31   9.1   3.3    6.2     5.8          0.0\n",
       "\n",
       "[365 rows x 8 columns]"
      ]
     },
     "execution_count": 51,
     "metadata": {},
     "output_type": "execute_result"
    }
   ],
   "source": [
    "weather1921 = weather.query('YYYY == 1921') # create a new daataframe for just 1921\n",
    "weather1921 # look at my new dataframe"
   ]
  },
  {
   "cell_type": "markdown",
   "id": "a9e16c44",
   "metadata": {},
   "source": [
    "... but I don't need to do this as I can tack on more commands to complete my goal in a single line of code.\n",
    "\n",
    "#### Step 2: find the relevant column\n",
    "\n",
    "Now that I have grabbed the relevant rows, I narrow it down to column <tt>Tmax</tt>"
   ]
  },
  {
   "cell_type": "code",
   "execution_count": 24,
   "id": "9582155a",
   "metadata": {},
   "outputs": [
    {
     "data": {
      "text/plain": [
       "33967     3.2\n",
       "33968     4.5\n",
       "33969     3.7\n",
       "33970     3.7\n",
       "33971     4.5\n",
       "         ... \n",
       "34328    11.9\n",
       "34329    12.3\n",
       "34330    12.4\n",
       "34331    12.1\n",
       "34332    13.2\n",
       "Name: Tmax, Length: 366, dtype: float64"
      ]
     },
     "execution_count": 24,
     "metadata": {},
     "output_type": "execute_result"
    }
   ],
   "source": [
    "weather.query('YYYY == 1920').Tmax"
   ]
  },
  {
   "cell_type": "markdown",
   "id": "ef1a7e64",
   "metadata": {},
   "source": [
    "#### Step 4: add in the actual function\n",
    "\n",
    "FInally, I can tack on teh function I want to run on my selected rows and column: `mean()`:"
   ]
  },
  {
   "cell_type": "code",
   "execution_count": 36,
   "id": "a2547cbb",
   "metadata": {},
   "outputs": [
    {
     "data": {
      "text/plain": [
       "13.701092896174865"
      ]
     },
     "execution_count": 36,
     "metadata": {},
     "output_type": "execute_result"
    }
   ],
   "source": [
    "weather.query('YYYY == 1920').Tmax.mean()"
   ]
  },
  {
   "cell_type": "markdown",
   "id": "88c44d08",
   "metadata": {},
   "source": [
    "### Exercises\n",
    "\n",
    "Complete the following quick practice questions:"
   ]
  },
  {
   "cell_type": "code",
   "execution_count": null,
   "id": "5dba672e",
   "metadata": {},
   "outputs": [],
   "source": [
    "# Get the mean daily maximum temperature in 2006"
   ]
  },
  {
   "cell_type": "code",
   "execution_count": null,
   "id": "6eabd979",
   "metadata": {},
   "outputs": [],
   "source": [
    "# Get the mean daily minimum temperature in 1947"
   ]
  },
  {
   "cell_type": "markdown",
   "id": "23a2ac8e",
   "metadata": {},
   "source": [
    "## Get descriptives for one category\n",
    "\n",
    "What about getting the mean daily maximum temperatures for, say, October? So I need to pull out all the rows in which <tt>'MM'</tt> matches <tt>'October'</tt>\n",
    "\n",
    "The syntax is very similar, but now I am matching a string `\"October\"`, so it needs to be in quotes:\n",
    "    "
   ]
  },
  {
   "cell_type": "code",
   "execution_count": 27,
   "id": "28646cb0",
   "metadata": {},
   "outputs": [
    {
     "data": {
      "text/plain": [
       "nan"
      ]
     },
     "execution_count": 27,
     "metadata": {},
     "output_type": "execute_result"
    }
   ],
   "source": [
    "weather.query('MM == \"October\"').Tmax.mean()"
   ]
  },
  {
   "cell_type": "markdown",
   "id": "0404bdd3",
   "metadata": {},
   "source": [
    "* **note** you can actually use single and double quotes interchangeably in Python, but in cases like this where you have quotes within quotes, it is better to use both types to avoid the computer getting confused about which opening and closing quotes to pair up.\n",
    "\n",
    "so you could do either of these\n",
    "\n",
    "- weather.query('MM == \"October\"').Tmax.mean()\n",
    "- weather.query(\"MM == 'October'\").Tmax.mean()\n",
    "\n",
    "but not these\n",
    "\n",
    "- weather.query('MM == 'October'').Tmax.mean()\n",
    "- weather.query(\"MM == 'October'\").Tmax.mean()"
   ]
  },
  {
   "cell_type": "markdown",
   "id": "10985313",
   "metadata": {},
   "source": [
    "### Exercises\n",
    "\n",
    "Complete the following quick practice questions:"
   ]
  },
  {
   "cell_type": "code",
   "execution_count": null,
   "id": "30a4ed22",
   "metadata": {},
   "outputs": [],
   "source": [
    "# Get the mean daily rainfall in January"
   ]
  },
  {
   "cell_type": "code",
   "execution_count": null,
   "id": "a6cfbcdd",
   "metadata": {},
   "outputs": [],
   "source": [
    "# Get the mean daily rainfall in June"
   ]
  },
  {
   "cell_type": "markdown",
   "id": "ce908842",
   "metadata": {},
   "source": [
    "## Match multiple conditions\n",
    "\n",
    "What if I want to know the mean daily maximum temperature in 1920 for June only?\n",
    "\n",
    "We can simply use `and` or `&` to pass `df.query()` multiple conditions:"
   ]
  },
  {
   "cell_type": "code",
   "execution_count": 40,
   "id": "22cd5fd6",
   "metadata": {},
   "outputs": [
    {
     "data": {
      "text/plain": [
       "13.701092896174865"
      ]
     },
     "execution_count": 40,
     "metadata": {},
     "output_type": "execute_result"
    }
   ],
   "source": [
    "# mean daily maximumm temperature in 1920\n",
    "weather.query('YYYY == 1920').Tmax.mean()"
   ]
  },
  {
   "cell_type": "code",
   "execution_count": 39,
   "id": "2ba8f15b",
   "metadata": {},
   "outputs": [
    {
     "data": {
      "text/plain": [
       "19.553333333333335"
      ]
     },
     "execution_count": 39,
     "metadata": {},
     "output_type": "execute_result"
    }
   ],
   "source": [
    "# mean daily maximumm temperature in 1920\n",
    "weather.query('YYYY == 1920 & MM == 6').Tmax.mean()"
   ]
  },
  {
   "cell_type": "markdown",
   "id": "1bb36dd2",
   "metadata": {},
   "source": [
    "* **Think** hopefully the value for June is higher than the avergae for the whole year? If not something has gone wrong!"
   ]
  },
  {
   "cell_type": "markdown",
   "id": "a61d8b31",
   "metadata": {},
   "source": [
    "### Exercises\n",
    "\n",
    "Complete the following quick practice questions:"
   ]
  },
  {
   "cell_type": "code",
   "execution_count": null,
   "id": "e61f9992",
   "metadata": {},
   "outputs": [],
   "source": [
    "# Get the mean daily rainfall in June 2007"
   ]
  },
  {
   "cell_type": "code",
   "execution_count": null,
   "id": "73d2f3c9",
   "metadata": {},
   "outputs": [],
   "source": [
    "# Get the minimum temperature in January 1947"
   ]
  },
  {
   "cell_type": "markdown",
   "id": "9a2d2219",
   "metadata": {},
   "source": [
    "## Tables of descriptive statistics\n",
    "\n",
    "When you are writing a report on a dataset you might like to generate a nice table with the descriptive statistics that you need all together in one place|\n",
    "\n",
    "There are a couple of ways to do this\n",
    "\n",
    "### Quick look\n",
    "\n",
    "- `df.describe()`\n",
    "\n",
    "We can output a standard set of descriptives for all the numerical columns in the dataframe by just using `df.describe()`"
   ]
  },
  {
   "cell_type": "code",
   "execution_count": 41,
   "id": "931302ab",
   "metadata": {},
   "outputs": [
    {
     "data": {
      "text/html": [
       "<div>\n",
       "<style scoped>\n",
       "    .dataframe tbody tr th:only-of-type {\n",
       "        vertical-align: middle;\n",
       "    }\n",
       "\n",
       "    .dataframe tbody tr th {\n",
       "        vertical-align: top;\n",
       "    }\n",
       "\n",
       "    .dataframe thead th {\n",
       "        text-align: right;\n",
       "    }\n",
       "</style>\n",
       "<table border=\"1\" class=\"dataframe\">\n",
       "  <thead>\n",
       "    <tr style=\"text-align: right;\">\n",
       "      <th></th>\n",
       "      <th>YYYY</th>\n",
       "      <th>MM</th>\n",
       "      <th>DD</th>\n",
       "      <th>Tmax</th>\n",
       "      <th>Tmin</th>\n",
       "      <th>Tmean</th>\n",
       "      <th>Trange</th>\n",
       "      <th>Rainfall_mm</th>\n",
       "    </tr>\n",
       "  </thead>\n",
       "  <tbody>\n",
       "    <tr>\n",
       "      <th>count</th>\n",
       "      <td>71343.000000</td>\n",
       "      <td>71343.000000</td>\n",
       "      <td>71343.000000</td>\n",
       "      <td>71342.000000</td>\n",
       "      <td>71341.000000</td>\n",
       "      <td>71341.000000</td>\n",
       "      <td>71338.000000</td>\n",
       "      <td>71343.000000</td>\n",
       "    </tr>\n",
       "    <tr>\n",
       "      <th>mean</th>\n",
       "      <td>1924.165174</td>\n",
       "      <td>6.516210</td>\n",
       "      <td>15.729154</td>\n",
       "      <td>13.890153</td>\n",
       "      <td>6.156018</td>\n",
       "      <td>10.046208</td>\n",
       "      <td>7.734244</td>\n",
       "      <td>1.786964</td>\n",
       "    </tr>\n",
       "    <tr>\n",
       "      <th>std</th>\n",
       "      <td>56.387642</td>\n",
       "      <td>3.450063</td>\n",
       "      <td>8.799927</td>\n",
       "      <td>6.490258</td>\n",
       "      <td>5.235341</td>\n",
       "      <td>5.632085</td>\n",
       "      <td>3.513996</td>\n",
       "      <td>3.976377</td>\n",
       "    </tr>\n",
       "    <tr>\n",
       "      <th>min</th>\n",
       "      <td>1827.000000</td>\n",
       "      <td>1.000000</td>\n",
       "      <td>1.000000</td>\n",
       "      <td>-9.600000</td>\n",
       "      <td>-17.800000</td>\n",
       "      <td>-12.100000</td>\n",
       "      <td>0.000000</td>\n",
       "      <td>0.000000</td>\n",
       "    </tr>\n",
       "    <tr>\n",
       "      <th>25%</th>\n",
       "      <td>1875.000000</td>\n",
       "      <td>4.000000</td>\n",
       "      <td>8.000000</td>\n",
       "      <td>9.200000</td>\n",
       "      <td>2.200000</td>\n",
       "      <td>5.900000</td>\n",
       "      <td>5.200000</td>\n",
       "      <td>0.000000</td>\n",
       "    </tr>\n",
       "    <tr>\n",
       "      <th>50%</th>\n",
       "      <td>1924.000000</td>\n",
       "      <td>7.000000</td>\n",
       "      <td>16.000000</td>\n",
       "      <td>13.700000</td>\n",
       "      <td>6.400000</td>\n",
       "      <td>10.100000</td>\n",
       "      <td>7.400000</td>\n",
       "      <td>0.000000</td>\n",
       "    </tr>\n",
       "    <tr>\n",
       "      <th>75%</th>\n",
       "      <td>1973.000000</td>\n",
       "      <td>10.000000</td>\n",
       "      <td>23.000000</td>\n",
       "      <td>18.900000</td>\n",
       "      <td>10.200000</td>\n",
       "      <td>14.500000</td>\n",
       "      <td>10.000000</td>\n",
       "      <td>1.700000</td>\n",
       "    </tr>\n",
       "    <tr>\n",
       "      <th>max</th>\n",
       "      <td>2022.000000</td>\n",
       "      <td>12.000000</td>\n",
       "      <td>31.000000</td>\n",
       "      <td>36.500000</td>\n",
       "      <td>21.200000</td>\n",
       "      <td>27.400000</td>\n",
       "      <td>23.100000</td>\n",
       "      <td>87.900000</td>\n",
       "    </tr>\n",
       "  </tbody>\n",
       "</table>\n",
       "</div>"
      ],
      "text/plain": [
       "               YYYY            MM            DD          Tmax          Tmin  \\\n",
       "count  71343.000000  71343.000000  71343.000000  71342.000000  71341.000000   \n",
       "mean    1924.165174      6.516210     15.729154     13.890153      6.156018   \n",
       "std       56.387642      3.450063      8.799927      6.490258      5.235341   \n",
       "min     1827.000000      1.000000      1.000000     -9.600000    -17.800000   \n",
       "25%     1875.000000      4.000000      8.000000      9.200000      2.200000   \n",
       "50%     1924.000000      7.000000     16.000000     13.700000      6.400000   \n",
       "75%     1973.000000     10.000000     23.000000     18.900000     10.200000   \n",
       "max     2022.000000     12.000000     31.000000     36.500000     21.200000   \n",
       "\n",
       "              Tmean        Trange   Rainfall_mm  \n",
       "count  71341.000000  71338.000000  71343.000000  \n",
       "mean      10.046208      7.734244      1.786964  \n",
       "std        5.632085      3.513996      3.976377  \n",
       "min      -12.100000      0.000000      0.000000  \n",
       "25%        5.900000      5.200000      0.000000  \n",
       "50%       10.100000      7.400000      0.000000  \n",
       "75%       14.500000     10.000000      1.700000  \n",
       "max       27.400000     23.100000     87.900000  "
      ]
     },
     "execution_count": 41,
     "metadata": {},
     "output_type": "execute_result"
    }
   ],
   "source": [
    "weather.describe()"
   ]
  },
  {
   "cell_type": "markdown",
   "id": "f43da48f",
   "metadata": {},
   "source": [
    "* **note** MM is missing from the table because the values are not numerical\n",
    "\n",
    "This can be good for a quick look but most likely you will not need all these stats on aall the variables - if you were producing a report for an assignment (or a client) you would want to customize the table\n",
    "\n",
    "### Custom table\n",
    "\n",
    "`df.agg({'columname':['mean', 'std', 'count']})`\n",
    "\n",
    "You can create a table with the just the stats you need using the function `df.agg()`\n",
    "\n",
    "This is not essential (although it does look nice in a report) - the syntax is a bit fiddly but you can copy from this example which gives the mean and standard deviation for <tt>Tmin</tt> and <tt>Tmax</tt>:"
   ]
  },
  {
   "cell_type": "code",
   "execution_count": 47,
   "id": "3915d638",
   "metadata": {},
   "outputs": [
    {
     "data": {
      "text/html": [
       "<div>\n",
       "<style scoped>\n",
       "    .dataframe tbody tr th:only-of-type {\n",
       "        vertical-align: middle;\n",
       "    }\n",
       "\n",
       "    .dataframe tbody tr th {\n",
       "        vertical-align: top;\n",
       "    }\n",
       "\n",
       "    .dataframe thead th {\n",
       "        text-align: right;\n",
       "    }\n",
       "</style>\n",
       "<table border=\"1\" class=\"dataframe\">\n",
       "  <thead>\n",
       "    <tr style=\"text-align: right;\">\n",
       "      <th></th>\n",
       "      <th>Tmin</th>\n",
       "      <th>Tmax</th>\n",
       "    </tr>\n",
       "  </thead>\n",
       "  <tbody>\n",
       "    <tr>\n",
       "      <th>mean</th>\n",
       "      <td>6.156018</td>\n",
       "      <td>13.890153</td>\n",
       "    </tr>\n",
       "    <tr>\n",
       "      <th>std</th>\n",
       "      <td>5.235341</td>\n",
       "      <td>6.490258</td>\n",
       "    </tr>\n",
       "  </tbody>\n",
       "</table>\n",
       "</div>"
      ],
      "text/plain": [
       "          Tmin       Tmax\n",
       "mean  6.156018  13.890153\n",
       "std   5.235341   6.490258"
      ]
     },
     "execution_count": 47,
     "metadata": {},
     "output_type": "execute_result"
    }
   ],
   "source": [
    "# get mean and sd for Tmin and Tmax\n",
    "weather.agg({'Tmin':['mean', 'std'], 'Tmax':['mean', 'std']})"
   ]
  },
  {
   "cell_type": "markdown",
   "id": "954b97a5",
   "metadata": {},
   "source": [
    "Finally, instead of doing that for the whole dataframe `weather`, you can select rows using `df.query()` as before:"
   ]
  },
  {
   "cell_type": "code",
   "execution_count": 49,
   "id": "3e05bf7f",
   "metadata": {},
   "outputs": [
    {
     "data": {
      "text/html": [
       "<div>\n",
       "<style scoped>\n",
       "    .dataframe tbody tr th:only-of-type {\n",
       "        vertical-align: middle;\n",
       "    }\n",
       "\n",
       "    .dataframe tbody tr th {\n",
       "        vertical-align: top;\n",
       "    }\n",
       "\n",
       "    .dataframe thead th {\n",
       "        text-align: right;\n",
       "    }\n",
       "</style>\n",
       "<table border=\"1\" class=\"dataframe\">\n",
       "  <thead>\n",
       "    <tr style=\"text-align: right;\">\n",
       "      <th></th>\n",
       "      <th>Tmin</th>\n",
       "      <th>Tmax</th>\n",
       "    </tr>\n",
       "  </thead>\n",
       "  <tbody>\n",
       "    <tr>\n",
       "      <th>mean</th>\n",
       "      <td>10.328291</td>\n",
       "      <td>20.011487</td>\n",
       "    </tr>\n",
       "    <tr>\n",
       "      <th>std</th>\n",
       "      <td>2.664211</td>\n",
       "      <td>3.585932</td>\n",
       "    </tr>\n",
       "  </tbody>\n",
       "</table>\n",
       "</div>"
      ],
      "text/plain": [
       "           Tmin       Tmax\n",
       "mean  10.328291  20.011487\n",
       "std    2.664211   3.585932"
      ]
     },
     "execution_count": 49,
     "metadata": {},
     "output_type": "execute_result"
    }
   ],
   "source": [
    "# get mean and sd for Tmin and Tmax in June\n",
    "weather.query('MM == 6').agg({'Tmin':['mean', 'std'], 'Tmax':['mean', 'std']})"
   ]
  },
  {
   "cell_type": "code",
   "execution_count": null,
   "id": "27acb407",
   "metadata": {},
   "outputs": [],
   "source": []
  }
 ],
 "metadata": {
  "kernelspec": {
   "display_name": "Python 3 (ipykernel)",
   "language": "python",
   "name": "python3"
  },
  "language_info": {
   "codemirror_mode": {
    "name": "ipython",
    "version": 3
   },
   "file_extension": ".py",
   "mimetype": "text/x-python",
   "name": "python",
   "nbconvert_exporter": "python",
   "pygments_lexer": "ipython3",
   "version": "3.9.13"
  }
 },
 "nbformat": 4,
 "nbformat_minor": 5
}
