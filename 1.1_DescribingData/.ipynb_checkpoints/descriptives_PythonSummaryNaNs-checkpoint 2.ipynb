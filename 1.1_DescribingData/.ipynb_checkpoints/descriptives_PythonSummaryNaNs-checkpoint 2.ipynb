{
 "cells": [
  {
   "cell_type": "markdown",
   "id": "b7b9bdd3",
   "metadata": {},
   "source": [
    "# Key Python functions: Missing data and NaNs\n",
    "\n",
    "In this notebook we gather together and recap the <tt>Pandas</tt> functions we have learned this week:\n",
    "* Functions for **locating outliers**\n",
    "* Syntax for replacing missing data with **NaN**\n",
    "\n",
    "\n",
    "\n",
    "As we have seen, outliers can distort the values of statistics such as the mean and standard deviation\n",
    "\n",
    "In real datasets, outliers are common, arising from one of the following:\n",
    "\n",
    "<ul>\n",
    "    <li> Real but unusual values (eg many basketball players are outliers in terms of height)\n",
    "    <li> Noise in a data recording system (eg in brain imaging data, noise signals from head movement are much larger than the real brain activity we are trying to record)\n",
    "    <li> Data entry error (human types the wrong number)\n",
    "</ul>\n",
    "\n",
    "Identifying and removing outliers and bad data points is a crucial step in the process of preparing our data for analysis, sometimes called <i>data wrangling</i>\n",
    "\n",
    "\n",
    "## Set up Python Libraries\n",
    "\n",
    "As usual you will need to run this code block to import the relevant Python libraries"
   ]
  },
  {
   "cell_type": "code",
   "execution_count": 1,
   "id": "a6dbe5a3",
   "metadata": {},
   "outputs": [],
   "source": [
    "# Set-up Python libraries - you need to run this but you don't need to change it\n",
    "import numpy as np\n",
    "import matplotlib.pyplot as plt\n",
    "import scipy.stats as stats\n",
    "import pandas \n",
    "import seaborn as sns\n",
    "import statsmodels.api as sm\n",
    "import statsmodels.formula.api as smf"
   ]
  },
  {
   "cell_type": "markdown",
   "id": "90216f08",
   "metadata": {},
   "source": [
    "## Import a dataset to work with\n",
    "\n",
    "You will need to download the file OxfordWeather.csv from Canvas to your computer, then import it"
   ]
  },
  {
   "cell_type": "code",
   "execution_count": 2,
   "id": "1983f62a",
   "metadata": {},
   "outputs": [
    {
     "data": {
      "text/html": [
       "<div>\n",
       "<style scoped>\n",
       "    .dataframe tbody tr th:only-of-type {\n",
       "        vertical-align: middle;\n",
       "    }\n",
       "\n",
       "    .dataframe tbody tr th {\n",
       "        vertical-align: top;\n",
       "    }\n",
       "\n",
       "    .dataframe thead th {\n",
       "        text-align: right;\n",
       "    }\n",
       "</style>\n",
       "<table border=\"1\" class=\"dataframe\">\n",
       "  <thead>\n",
       "    <tr style=\"text-align: right;\">\n",
       "      <th></th>\n",
       "      <th>length</th>\n",
       "      <th>height</th>\n",
       "      <th>width</th>\n",
       "      <th>type</th>\n",
       "    </tr>\n",
       "  </thead>\n",
       "  <tbody>\n",
       "    <tr>\n",
       "      <th>0</th>\n",
       "      <td>3.9187</td>\n",
       "      <td>1.5320</td>\n",
       "      <td>1.8030</td>\n",
       "      <td>car</td>\n",
       "    </tr>\n",
       "    <tr>\n",
       "      <th>1</th>\n",
       "      <td>4.6486</td>\n",
       "      <td>1.5936</td>\n",
       "      <td>1.6463</td>\n",
       "      <td>car</td>\n",
       "    </tr>\n",
       "    <tr>\n",
       "      <th>2</th>\n",
       "      <td>3.5785</td>\n",
       "      <td>1.5447</td>\n",
       "      <td>1.7140</td>\n",
       "      <td>car</td>\n",
       "    </tr>\n",
       "    <tr>\n",
       "      <th>3</th>\n",
       "      <td>3.5563</td>\n",
       "      <td>1.5549</td>\n",
       "      <td>1.7331</td>\n",
       "      <td>car</td>\n",
       "    </tr>\n",
       "    <tr>\n",
       "      <th>4</th>\n",
       "      <td>4.0321</td>\n",
       "      <td>1.5069</td>\n",
       "      <td>1.7320</td>\n",
       "      <td>car</td>\n",
       "    </tr>\n",
       "    <tr>\n",
       "      <th>...</th>\n",
       "      <td>...</td>\n",
       "      <td>...</td>\n",
       "      <td>...</td>\n",
       "      <td>...</td>\n",
       "    </tr>\n",
       "    <tr>\n",
       "      <th>978</th>\n",
       "      <td>5.0897</td>\n",
       "      <td>1.8396</td>\n",
       "      <td>1.8356</td>\n",
       "      <td>car</td>\n",
       "    </tr>\n",
       "    <tr>\n",
       "      <th>979</th>\n",
       "      <td>4.0224</td>\n",
       "      <td>1.5860</td>\n",
       "      <td>1.7862</td>\n",
       "      <td>car</td>\n",
       "    </tr>\n",
       "    <tr>\n",
       "      <th>980</th>\n",
       "      <td>3.4771</td>\n",
       "      <td>1.5340</td>\n",
       "      <td>1.7418</td>\n",
       "      <td>car</td>\n",
       "    </tr>\n",
       "    <tr>\n",
       "      <th>981</th>\n",
       "      <td>5.2096</td>\n",
       "      <td>1.6396</td>\n",
       "      <td>1.8229</td>\n",
       "      <td>car</td>\n",
       "    </tr>\n",
       "    <tr>\n",
       "      <th>982</th>\n",
       "      <td>3.7549</td>\n",
       "      <td>1.5096</td>\n",
       "      <td>1.8274</td>\n",
       "      <td>car</td>\n",
       "    </tr>\n",
       "  </tbody>\n",
       "</table>\n",
       "<p>983 rows × 4 columns</p>\n",
       "</div>"
      ],
      "text/plain": [
       "     length  height   width type\n",
       "0    3.9187  1.5320  1.8030  car\n",
       "1    4.6486  1.5936  1.6463  car\n",
       "2    3.5785  1.5447  1.7140  car\n",
       "3    3.5563  1.5549  1.7331  car\n",
       "4    4.0321  1.5069  1.7320  car\n",
       "..      ...     ...     ...  ...\n",
       "978  5.0897  1.8396  1.8356  car\n",
       "979  4.0224  1.5860  1.7862  car\n",
       "980  3.4771  1.5340  1.7418  car\n",
       "981  5.2096  1.6396  1.8229  car\n",
       "982  3.7549  1.5096  1.8274  car\n",
       "\n",
       "[983 rows x 4 columns]"
      ]
     },
     "metadata": {},
     "output_type": "display_data"
    }
   ],
   "source": [
    "cars = pandas.read_csv('https://raw.githubusercontent.com/jillxoreilly/StatsCourseBook/main/data/cars_outlier1.csv')\n",
    "display(cars)"
   ]
  },
  {
   "cell_type": "markdown",
   "id": "a0602810",
   "metadata": {},
   "source": [
    "## Finding outliers\n",
    "\n",
    "- `df.describe()`\n",
    "- `df.sort_values(by = 'columname').head()` and `df.sortvalues(by = 'columname').head()`\n",
    "\n",
    "When working with a new dataset it is always necessary to check for missing data and outliers.\n",
    "\n",
    "Often the best way to check for outliers is by plotting (which will be covered next week) but some of the describing data functions are also useful for this.\n",
    "\n",
    "### Use `df.describe()` to check min and max values are plausible\n",
    "\n",
    "Often if there is an outlier or misrecorded data point, the outlier will be the minimum or maxiumum value in a dataset:\n",
    "\n",
    "* If the decimal point is misplaced we get a very large (or small value) - eg a person's height could easily be misrecorded as 1765 cm (over 17 metres!) instead of 176.5 cm\n",
    "* If the wrong units are used we could get a very larg or small value - eg a person's height is recorded as 1.756 (m) when it should have been recorded as 176.5 (cm) \n",
    "* sometimes 'dummy' values are used as placeholders for missing data - often the duymmy value is `NaN` but sometimes an obviously-wrong numerical value (such as 999) is used.\n",
    "\n",
    "Therefore, running `df.describe()` and checking the min and max values for each datapoint is a good first step\n",
    "\n",
    "Let's try it with our cars dataset:"
   ]
  },
  {
   "cell_type": "code",
   "execution_count": 3,
   "id": "50e4cfd1",
   "metadata": {},
   "outputs": [
    {
     "data": {
      "text/html": [
       "<div>\n",
       "<style scoped>\n",
       "    .dataframe tbody tr th:only-of-type {\n",
       "        vertical-align: middle;\n",
       "    }\n",
       "\n",
       "    .dataframe tbody tr th {\n",
       "        vertical-align: top;\n",
       "    }\n",
       "\n",
       "    .dataframe thead th {\n",
       "        text-align: right;\n",
       "    }\n",
       "</style>\n",
       "<table border=\"1\" class=\"dataframe\">\n",
       "  <thead>\n",
       "    <tr style=\"text-align: right;\">\n",
       "      <th></th>\n",
       "      <th>length</th>\n",
       "      <th>height</th>\n",
       "      <th>width</th>\n",
       "    </tr>\n",
       "  </thead>\n",
       "  <tbody>\n",
       "    <tr>\n",
       "      <th>count</th>\n",
       "      <td>983.000000</td>\n",
       "      <td>983.000000</td>\n",
       "      <td>983.000000</td>\n",
       "    </tr>\n",
       "    <tr>\n",
       "      <th>mean</th>\n",
       "      <td>4.219838</td>\n",
       "      <td>1.586132</td>\n",
       "      <td>1.793355</td>\n",
       "    </tr>\n",
       "    <tr>\n",
       "      <th>std</th>\n",
       "      <td>0.708656</td>\n",
       "      <td>0.131954</td>\n",
       "      <td>0.056570</td>\n",
       "    </tr>\n",
       "    <tr>\n",
       "      <th>min</th>\n",
       "      <td>3.110900</td>\n",
       "      <td>1.430400</td>\n",
       "      <td>1.624100</td>\n",
       "    </tr>\n",
       "    <tr>\n",
       "      <th>25%</th>\n",
       "      <td>3.816750</td>\n",
       "      <td>1.540050</td>\n",
       "      <td>1.760250</td>\n",
       "    </tr>\n",
       "    <tr>\n",
       "      <th>50%</th>\n",
       "      <td>4.121600</td>\n",
       "      <td>1.574600</td>\n",
       "      <td>1.790400</td>\n",
       "    </tr>\n",
       "    <tr>\n",
       "      <th>75%</th>\n",
       "      <td>4.520250</td>\n",
       "      <td>1.612350</td>\n",
       "      <td>1.821000</td>\n",
       "    </tr>\n",
       "    <tr>\n",
       "      <th>max</th>\n",
       "      <td>15.361000</td>\n",
       "      <td>4.201700</td>\n",
       "      <td>2.499800</td>\n",
       "    </tr>\n",
       "  </tbody>\n",
       "</table>\n",
       "</div>"
      ],
      "text/plain": [
       "           length      height       width\n",
       "count  983.000000  983.000000  983.000000\n",
       "mean     4.219838    1.586132    1.793355\n",
       "std      0.708656    0.131954    0.056570\n",
       "min      3.110900    1.430400    1.624100\n",
       "25%      3.816750    1.540050    1.760250\n",
       "50%      4.121600    1.574600    1.790400\n",
       "75%      4.520250    1.612350    1.821000\n",
       "max     15.361000    4.201700    2.499800"
      ]
     },
     "execution_count": 3,
     "metadata": {},
     "output_type": "execute_result"
    }
   ],
   "source": [
    "cars.describe()"
   ]
  },
  {
   "cell_type": "markdown",
   "id": "4b0b4fb4",
   "metadata": {},
   "source": [
    "We can see that the max values for <tt>length</tt> (15 meters) and height (4 meters) are implausible (if you are thinking 'but how would I know how long or high a car is' - just think for a second - two metres is the height of a very tall person, do you see many cars twice that height?!). \n",
    "\n",
    "On the other hand, the minimum values look OK.\n",
    "\n",
    "### Use `df.sort_values(by = 'column')` or `df.sort_values(by = 'column').tail()` to find the offending rows in the dataframe\n",
    "\n",
    "We now want to have a look at the records (dataframe rows) containing the outlier vehicle lengths (or heights), to try and figure out what went wrong.\n",
    "\n",
    "If our data were in a spreadsheet like Excel, we might sort the data by the column of interest (height) and scroll to the bottom to find the largest values. \n",
    "\n",
    "When working with a code-based data analysis we can achieve much the same thing by sorting and then displaying the top or bottom of the sorted dataframe using `df.head()` or `df.tail()`:\n",
    "\n",
    "#### Step 1: Sort by the column of interest\n",
    "\n",
    "We sort by length:"
   ]
  },
  {
   "cell_type": "code",
   "execution_count": 4,
   "id": "38c0d4cc",
   "metadata": {},
   "outputs": [
    {
     "data": {
      "text/html": [
       "<div>\n",
       "<style scoped>\n",
       "    .dataframe tbody tr th:only-of-type {\n",
       "        vertical-align: middle;\n",
       "    }\n",
       "\n",
       "    .dataframe tbody tr th {\n",
       "        vertical-align: top;\n",
       "    }\n",
       "\n",
       "    .dataframe thead th {\n",
       "        text-align: right;\n",
       "    }\n",
       "</style>\n",
       "<table border=\"1\" class=\"dataframe\">\n",
       "  <thead>\n",
       "    <tr style=\"text-align: right;\">\n",
       "      <th></th>\n",
       "      <th>length</th>\n",
       "      <th>height</th>\n",
       "      <th>width</th>\n",
       "      <th>type</th>\n",
       "    </tr>\n",
       "  </thead>\n",
       "  <tbody>\n",
       "    <tr>\n",
       "      <th>655</th>\n",
       "      <td>3.1109</td>\n",
       "      <td>1.5512</td>\n",
       "      <td>1.7912</td>\n",
       "      <td>car</td>\n",
       "    </tr>\n",
       "    <tr>\n",
       "      <th>514</th>\n",
       "      <td>3.1197</td>\n",
       "      <td>1.4932</td>\n",
       "      <td>1.7817</td>\n",
       "      <td>car</td>\n",
       "    </tr>\n",
       "    <tr>\n",
       "      <th>813</th>\n",
       "      <td>3.1682</td>\n",
       "      <td>1.5888</td>\n",
       "      <td>1.7338</td>\n",
       "      <td>car</td>\n",
       "    </tr>\n",
       "    <tr>\n",
       "      <th>471</th>\n",
       "      <td>3.1957</td>\n",
       "      <td>1.5372</td>\n",
       "      <td>1.7438</td>\n",
       "      <td>car</td>\n",
       "    </tr>\n",
       "    <tr>\n",
       "      <th>6</th>\n",
       "      <td>3.2169</td>\n",
       "      <td>1.5708</td>\n",
       "      <td>1.7401</td>\n",
       "      <td>car</td>\n",
       "    </tr>\n",
       "    <tr>\n",
       "      <th>...</th>\n",
       "      <td>...</td>\n",
       "      <td>...</td>\n",
       "      <td>...</td>\n",
       "      <td>...</td>\n",
       "    </tr>\n",
       "    <tr>\n",
       "      <th>846</th>\n",
       "      <td>5.8810</td>\n",
       "      <td>1.6763</td>\n",
       "      <td>1.9525</td>\n",
       "      <td>car</td>\n",
       "    </tr>\n",
       "    <tr>\n",
       "      <th>468</th>\n",
       "      <td>5.9601</td>\n",
       "      <td>1.6343</td>\n",
       "      <td>1.8413</td>\n",
       "      <td>car</td>\n",
       "    </tr>\n",
       "    <tr>\n",
       "      <th>44</th>\n",
       "      <td>6.1024</td>\n",
       "      <td>1.8231</td>\n",
       "      <td>1.8678</td>\n",
       "      <td>car</td>\n",
       "    </tr>\n",
       "    <tr>\n",
       "      <th>101</th>\n",
       "      <td>14.5080</td>\n",
       "      <td>4.2017</td>\n",
       "      <td>2.4890</td>\n",
       "      <td>truck</td>\n",
       "    </tr>\n",
       "    <tr>\n",
       "      <th>100</th>\n",
       "      <td>15.3610</td>\n",
       "      <td>4.1914</td>\n",
       "      <td>2.4998</td>\n",
       "      <td>truck</td>\n",
       "    </tr>\n",
       "  </tbody>\n",
       "</table>\n",
       "<p>983 rows × 4 columns</p>\n",
       "</div>"
      ],
      "text/plain": [
       "      length  height   width   type\n",
       "655   3.1109  1.5512  1.7912    car\n",
       "514   3.1197  1.4932  1.7817    car\n",
       "813   3.1682  1.5888  1.7338    car\n",
       "471   3.1957  1.5372  1.7438    car\n",
       "6     3.2169  1.5708  1.7401    car\n",
       "..       ...     ...     ...    ...\n",
       "846   5.8810  1.6763  1.9525    car\n",
       "468   5.9601  1.6343  1.8413    car\n",
       "44    6.1024  1.8231  1.8678    car\n",
       "101  14.5080  4.2017  2.4890  truck\n",
       "100  15.3610  4.1914  2.4998  truck\n",
       "\n",
       "[983 rows x 4 columns]"
      ]
     },
     "execution_count": 4,
     "metadata": {},
     "output_type": "execute_result"
    }
   ],
   "source": [
    "cars.sort_values(by = 'length')"
   ]
  },
  {
   "cell_type": "markdown",
   "id": "c2bc45fe",
   "metadata": {},
   "source": [
    "We can already see that there are two outliers with much higher lengths - and that they are actually trucks not cars - so that explains the problem\n",
    "\n",
    "In some cases, we might have a lot of outliers - the default display for a dataframe shows us the first and last five entries only. So we might want to expand out view a little bit.\n",
    "\n",
    "To show the last 10 entries use `df.tail()` (here chained together with `df.sort_values()`):"
   ]
  },
  {
   "cell_type": "code",
   "execution_count": 5,
   "id": "d539481b",
   "metadata": {},
   "outputs": [
    {
     "data": {
      "text/html": [
       "<div>\n",
       "<style scoped>\n",
       "    .dataframe tbody tr th:only-of-type {\n",
       "        vertical-align: middle;\n",
       "    }\n",
       "\n",
       "    .dataframe tbody tr th {\n",
       "        vertical-align: top;\n",
       "    }\n",
       "\n",
       "    .dataframe thead th {\n",
       "        text-align: right;\n",
       "    }\n",
       "</style>\n",
       "<table border=\"1\" class=\"dataframe\">\n",
       "  <thead>\n",
       "    <tr style=\"text-align: right;\">\n",
       "      <th></th>\n",
       "      <th>length</th>\n",
       "      <th>height</th>\n",
       "      <th>width</th>\n",
       "      <th>type</th>\n",
       "    </tr>\n",
       "  </thead>\n",
       "  <tbody>\n",
       "    <tr>\n",
       "      <th>874</th>\n",
       "      <td>5.6928</td>\n",
       "      <td>1.7700</td>\n",
       "      <td>1.7595</td>\n",
       "      <td>car</td>\n",
       "    </tr>\n",
       "    <tr>\n",
       "      <th>369</th>\n",
       "      <td>5.7599</td>\n",
       "      <td>1.7601</td>\n",
       "      <td>1.8932</td>\n",
       "      <td>car</td>\n",
       "    </tr>\n",
       "    <tr>\n",
       "      <th>729</th>\n",
       "      <td>5.7672</td>\n",
       "      <td>1.7477</td>\n",
       "      <td>1.9293</td>\n",
       "      <td>car</td>\n",
       "    </tr>\n",
       "    <tr>\n",
       "      <th>442</th>\n",
       "      <td>5.8379</td>\n",
       "      <td>1.5743</td>\n",
       "      <td>1.8027</td>\n",
       "      <td>car</td>\n",
       "    </tr>\n",
       "    <tr>\n",
       "      <th>741</th>\n",
       "      <td>5.8421</td>\n",
       "      <td>1.7371</td>\n",
       "      <td>1.9322</td>\n",
       "      <td>car</td>\n",
       "    </tr>\n",
       "    <tr>\n",
       "      <th>846</th>\n",
       "      <td>5.8810</td>\n",
       "      <td>1.6763</td>\n",
       "      <td>1.9525</td>\n",
       "      <td>car</td>\n",
       "    </tr>\n",
       "    <tr>\n",
       "      <th>468</th>\n",
       "      <td>5.9601</td>\n",
       "      <td>1.6343</td>\n",
       "      <td>1.8413</td>\n",
       "      <td>car</td>\n",
       "    </tr>\n",
       "    <tr>\n",
       "      <th>44</th>\n",
       "      <td>6.1024</td>\n",
       "      <td>1.8231</td>\n",
       "      <td>1.8678</td>\n",
       "      <td>car</td>\n",
       "    </tr>\n",
       "    <tr>\n",
       "      <th>101</th>\n",
       "      <td>14.5080</td>\n",
       "      <td>4.2017</td>\n",
       "      <td>2.4890</td>\n",
       "      <td>truck</td>\n",
       "    </tr>\n",
       "    <tr>\n",
       "      <th>100</th>\n",
       "      <td>15.3610</td>\n",
       "      <td>4.1914</td>\n",
       "      <td>2.4998</td>\n",
       "      <td>truck</td>\n",
       "    </tr>\n",
       "  </tbody>\n",
       "</table>\n",
       "</div>"
      ],
      "text/plain": [
       "      length  height   width   type\n",
       "874   5.6928  1.7700  1.7595    car\n",
       "369   5.7599  1.7601  1.8932    car\n",
       "729   5.7672  1.7477  1.9293    car\n",
       "442   5.8379  1.5743  1.8027    car\n",
       "741   5.8421  1.7371  1.9322    car\n",
       "846   5.8810  1.6763  1.9525    car\n",
       "468   5.9601  1.6343  1.8413    car\n",
       "44    6.1024  1.8231  1.8678    car\n",
       "101  14.5080  4.2017  2.4890  truck\n",
       "100  15.3610  4.1914  2.4998  truck"
      ]
     },
     "execution_count": 5,
     "metadata": {},
     "output_type": "execute_result"
    }
   ],
   "source": [
    "cars.sort_values(by = 'length').tail(n=10)"
   ]
  },
  {
   "cell_type": "markdown",
   "id": "01277d08",
   "metadata": {},
   "source": [
    "similarly you can use `df.head(n=20)` to show the first 20 entries (for example)."
   ]
  },
  {
   "cell_type": "markdown",
   "id": "c19c59ab",
   "metadata": {},
   "source": [
    "## Dealing with outliers\n",
    "\n",
    "Once you have found outliers, you will want to remove them from your dataset.\n",
    "\n",
    "### Replace only the bad values\n",
    "\n",
    "- `df.loc[row_index, column_index] = np.nan()`\n",
    "\n",
    "In most cases the best option is to replace only the bad values, retaining the rest of the record.\n",
    "\n",
    "We will replace the values with `NaN` - 'not a number' which is a dummy value that will be ignored by most Python functions (for example, if we calculate the mean of a column containing NaNs, Pandas just calculates the mean of all the non-NaN values)\n",
    "\n",
    "To do this we unfortunately have to use different syntax from our regular indexing, as we are *setting* values in the dataframe. We use the function `df.loc`.\n",
    "\n",
    "#### Step 1: find the rows with long cars\n",
    "\n",
    "First let's use `df.loc[]` to find the rows where length is greater than for a normal car (looking at the dataframe above, I chose a cut-off of 8 meters)."
   ]
  },
  {
   "cell_type": "code",
   "execution_count": 6,
   "id": "dad39a79",
   "metadata": {},
   "outputs": [
    {
     "data": {
      "text/html": [
       "<div>\n",
       "<style scoped>\n",
       "    .dataframe tbody tr th:only-of-type {\n",
       "        vertical-align: middle;\n",
       "    }\n",
       "\n",
       "    .dataframe tbody tr th {\n",
       "        vertical-align: top;\n",
       "    }\n",
       "\n",
       "    .dataframe thead th {\n",
       "        text-align: right;\n",
       "    }\n",
       "</style>\n",
       "<table border=\"1\" class=\"dataframe\">\n",
       "  <thead>\n",
       "    <tr style=\"text-align: right;\">\n",
       "      <th></th>\n",
       "      <th>length</th>\n",
       "      <th>height</th>\n",
       "      <th>width</th>\n",
       "      <th>type</th>\n",
       "    </tr>\n",
       "  </thead>\n",
       "  <tbody>\n",
       "    <tr>\n",
       "      <th>100</th>\n",
       "      <td>15.361</td>\n",
       "      <td>4.1914</td>\n",
       "      <td>2.4998</td>\n",
       "      <td>truck</td>\n",
       "    </tr>\n",
       "    <tr>\n",
       "      <th>101</th>\n",
       "      <td>14.508</td>\n",
       "      <td>4.2017</td>\n",
       "      <td>2.4890</td>\n",
       "      <td>truck</td>\n",
       "    </tr>\n",
       "  </tbody>\n",
       "</table>\n",
       "</div>"
      ],
      "text/plain": [
       "     length  height   width   type\n",
       "100  15.361  4.1914  2.4998  truck\n",
       "101  14.508  4.2017  2.4890  truck"
      ]
     },
     "execution_count": 6,
     "metadata": {},
     "output_type": "execute_result"
    }
   ],
   "source": [
    "# pull out the rows where length exceeds 8 meters\n",
    "cars.loc[cars.length > 8]"
   ]
  },
  {
   "cell_type": "markdown",
   "id": "81a56dd8",
   "metadata": {},
   "source": [
    "#### Step 2: Select only the relevant column\n",
    "\n",
    "Now we want to pull out only the column <tt>length</tt>, as we only want to overwrite the length values with `NaN`, retaining the heights and widths\n",
    "\n",
    "We add a column index to `df.loc[]`:"
   ]
  },
  {
   "cell_type": "code",
   "execution_count": 7,
   "id": "0dc07486",
   "metadata": {},
   "outputs": [
    {
     "data": {
      "text/plain": [
       "100    15.361\n",
       "101    14.508\n",
       "Name: length, dtype: float64"
      ]
     },
     "execution_count": 7,
     "metadata": {},
     "output_type": "execute_result"
    }
   ],
   "source": [
    "# pull out the rows where length exceeds 8 meters\n",
    "cars.loc[cars.length > 8, 'length']"
   ]
  },
  {
   "cell_type": "code",
   "execution_count": 8,
   "id": "e6b0725a",
   "metadata": {},
   "outputs": [
    {
     "ename": "SyntaxError",
     "evalue": "invalid syntax (4084713886.py, line 3)",
     "output_type": "error",
     "traceback": [
      "\u001b[0;36m  File \u001b[0;32m\"/var/folders/q4/twg1yll54y142rc02m5wwbt40000gr/T/ipykernel_28213/4084713886.py\"\u001b[0;36m, line \u001b[0;32m3\u001b[0m\n\u001b[0;31m    Finally we replace the offending values with NaN:\u001b[0m\n\u001b[0m            ^\u001b[0m\n\u001b[0;31mSyntaxError\u001b[0m\u001b[0;31m:\u001b[0m invalid syntax\n"
     ]
    }
   ],
   "source": [
    "#### Step 3: Replace the values with `NaN`\n",
    "\n",
    "Finally we replace the offending values with NaN:"
   ]
  },
  {
   "cell_type": "code",
   "execution_count": null,
   "id": "5e5955cd",
   "metadata": {},
   "outputs": [],
   "source": [
    "cars.loc[cars.length > 8, 'length'] = np.nan"
   ]
  },
  {
   "cell_type": "markdown",
   "id": "7d4a5244",
   "metadata": {},
   "source": [
    "* **note** that we need to use a `numpy` function, `np.nan` to create the NaN values\n",
    "\n",
    "Let's check that the bad values have been replaced, by viewing the end of our dataframe"
   ]
  },
  {
   "cell_type": "code",
   "execution_count": null,
   "id": "8a54d818",
   "metadata": {},
   "outputs": [],
   "source": [
    "cars.sort_values(by = 'length').tail(n=10)"
   ]
  },
  {
   "cell_type": "markdown",
   "id": "025b5519",
   "metadata": {},
   "source": [
    "* **note** If you don't see any `NaN` values, try using `df.head()` instead of `df.tail()` - depending on your Python installation, the defaults could be set such that NaNs appear at the top of the dataframe rather than the bottom."
   ]
  },
  {
   "cell_type": "markdown",
   "id": "f89bcfc8",
   "metadata": {},
   "source": [
    "#### Exercises\n",
    "\n",
    "Try the following quick exercises:"
   ]
  },
  {
   "cell_type": "code",
   "execution_count": null,
   "id": "b60b62b8",
   "metadata": {},
   "outputs": [],
   "source": [
    "# find out what car height constitutes an outlier by sorting the dataframe by height"
   ]
  },
  {
   "cell_type": "code",
   "execution_count": null,
   "id": "c78d0fd7",
   "metadata": {},
   "outputs": [],
   "source": [
    "# replace values of 'height' greater than 3 meters by NaN "
   ]
  },
  {
   "cell_type": "markdown",
   "id": "aec8e54a",
   "metadata": {},
   "source": [
    "### Replace the entire row by `NaN`\n",
    "\n",
    "First, let's reload the dataset with outliers "
   ]
  },
  {
   "cell_type": "code",
   "execution_count": null,
   "id": "5e0565a1",
   "metadata": {},
   "outputs": [],
   "source": [
    "cars = pandas.read_csv('https://raw.githubusercontent.com/jillxoreilly/StatsCourseBook/main/data/cars_outlier1.csv')"
   ]
  },
  {
   "cell_type": "markdown",
   "id": "243f1d22",
   "metadata": {},
   "source": [
    "Sometimes, you might want to remove the whole record - for example, in the cars dataset, the vehicles with outlier lengths were evidently not cars at all (they were trucks)\n",
    "\n",
    "You can replace the entire row with NaNs by simply not specifying a column index for `df.loc[]`:"
   ]
  },
  {
   "cell_type": "code",
   "execution_count": null,
   "id": "66a141c1",
   "metadata": {},
   "outputs": [],
   "source": [
    "# pull out the rows where length exceeds 8 meters\n",
    "cars.loc[cars.length > 8]"
   ]
  },
  {
   "cell_type": "markdown",
   "id": "dc88e0c9",
   "metadata": {},
   "source": [
    "Now we replace those entire rows with `NaN`"
   ]
  },
  {
   "cell_type": "code",
   "execution_count": null,
   "id": "3de39834",
   "metadata": {},
   "outputs": [],
   "source": [
    "cars.loc[cars.length > 8] = np.nan"
   ]
  },
  {
   "cell_type": "markdown",
   "id": "c249448a",
   "metadata": {},
   "source": [
    "Finally let's check it worked:"
   ]
  },
  {
   "cell_type": "code",
   "execution_count": null,
   "id": "12ba702e",
   "metadata": {},
   "outputs": [],
   "source": [
    "cars.sort_values(by = 'length')"
   ]
  },
  {
   "cell_type": "markdown",
   "id": "d628f991",
   "metadata": {},
   "source": [
    "* **note** all the values in the offending rows are now NaN, instead of just the value for <tt>length</tt> as previously\n",
    "\n",
    "### Drop the record entirely\n",
    "\n",
    "In some cases you may wish to actually remove the rows from a dataframe. This should be treated with caution (see below).\n",
    "\n",
    "In the caase of the cars dataset, since the outlier vehicles were not actually cars, they probably could just be cut right out.\n",
    "\n",
    "The easiest way to do this is actually to create a new dataframe with only the values you want to keep:"
   ]
  },
  {
   "cell_type": "code",
   "execution_count": null,
   "id": "3fa3bbf2",
   "metadata": {},
   "outputs": [],
   "source": [
    "# reload the data with outliers back in!\n",
    "cars = pandas.read_csv('https://raw.githubusercontent.com/jillxoreilly/StatsCourseBook/main/data/cars_outlier1.csv')"
   ]
  },
  {
   "cell_type": "code",
   "execution_count": null,
   "id": "ea8c59db",
   "metadata": {},
   "outputs": [],
   "source": [
    "# create a new dataframe with only cars less than 8m long\n",
    "cars_clean = cars.loc[cars.length<8] # note the sign is now < rather than >"
   ]
  },
  {
   "cell_type": "code",
   "execution_count": null,
   "id": "047b8423",
   "metadata": {},
   "outputs": [],
   "source": [
    "# check that the trucks are gone\n",
    "cars_clean.sort_values(by = 'length')"
   ]
  },
  {
   "cell_type": "markdown",
   "id": "9f06c8bc",
   "metadata": {},
   "source": [
    "* **note** - this dataframe has 981 rows, whilst the original dataframe had 983 - this proves taht the two offending rows were removed completely"
   ]
  },
  {
   "cell_type": "code",
   "execution_count": null,
   "id": "f3b51c4e",
   "metadata": {},
   "outputs": [],
   "source": []
  }
 ],
 "metadata": {
  "kernelspec": {
   "display_name": "Python 3 (ipykernel)",
   "language": "python",
   "name": "python3"
  },
  "language_info": {
   "codemirror_mode": {
    "name": "ipython",
    "version": 3
   },
   "file_extension": ".py",
   "mimetype": "text/x-python",
   "name": "python",
   "nbconvert_exporter": "python",
   "pygments_lexer": "ipython3",
   "version": "3.9.13"
  }
 },
 "nbformat": 4,
 "nbformat_minor": 5
}
