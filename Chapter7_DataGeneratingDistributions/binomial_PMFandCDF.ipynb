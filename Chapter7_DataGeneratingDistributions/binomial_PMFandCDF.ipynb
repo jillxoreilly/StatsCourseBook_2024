{
 "cells": [
  {
   "cell_type": "markdown",
   "id": "2300950a",
   "metadata": {},
   "source": [
    "# Binomial PMF and CDF\n",
    "\n",
    "The probability mass function (PMF) tells us the probability of obtaining $k$ hits out of $n$ trials.\n",
    "\n",
    "The equation for the binomial PMF is as follows: \n",
    "\n",
    "$$ p(k=K) = C^{n}_{k} p^k q^{n-k} $$ \n",
    "\n",
    "where $p(k=K)$ is the probability of $K$ hits out of $n$ trials, $p$ is the probability of a hit on any given trial, and $q=(1-p)$, and \n",
    "\n",
    "$$ C^{n}_{k} = \\frac{n!}{k! (n-k)!}$$\n",
    "\n",
    "... is an expression that accounts for the fact that a even balance of hits and misses is more likely (as discussed in the lecture)\n",
    "\n",
    "## PMF\n",
    "\n",
    "Let's implement the equation for the PDF and compare to the results of our simulation from the previous worksheet\n",
    "\n",
    "### Set up Python libraries\n",
    "\n",
    "As usual, run the code cell below to import the relevant Python libraries"
   ]
  },
  {
   "cell_type": "code",
   "execution_count": 46,
   "id": "3b24b04e",
   "metadata": {},
   "outputs": [],
   "source": [
    "# Set-up Python libraries - you need to run this but you don't need to change it\n",
    "import numpy as np\n",
    "import matplotlib.pyplot as plt\n",
    "import scipy.stats as stats\n",
    "import pandas \n",
    "import seaborn as sns\n",
    "sns.set_theme() # use pretty defaults"
   ]
  },
  {
   "cell_type": "markdown",
   "id": "f8a4947b",
   "metadata": {},
   "source": [
    "### Implement the equation"
   ]
  },
  {
   "cell_type": "code",
   "execution_count": 47,
   "id": "352ee77f",
   "metadata": {},
   "outputs": [
    {
     "name": "stdout",
     "output_type": "stream",
     "text": [
      "0.0439453125\n"
     ]
    }
   ],
   "source": [
    "n=10 # values of n, p, k as in previous exercise\n",
    "k=8\n",
    "p=0.5\n",
    "\n",
    "n_choose_k = np.math.factorial(n) / (np.math.factorial(k) * np.math.factorial(n-k))\n",
    "prob_k = ((p)**(k)) * ((1-p)**(n-k)) * n_choose_k \n",
    "print(prob_k)"
   ]
  },
  {
   "cell_type": "markdown",
   "id": "19d397c5",
   "metadata": {},
   "source": [
    "Hopefully this should be roughly the same as the proportion of our 10,000 coin tosses in which k=8 (it wont exactly match, as the simulation was subject to random noise)"
   ]
  },
  {
   "cell_type": "markdown",
   "id": "685dddc9",
   "metadata": {},
   "source": [
    "### Built-in function\n",
    "\n",
    "We can also use a built-in function to give the PDF:"
   ]
  },
  {
   "cell_type": "code",
   "execution_count": 48,
   "id": "e9b7061d",
   "metadata": {},
   "outputs": [
    {
     "data": {
      "text/plain": [
       "0.04394531249999997"
      ]
     },
     "execution_count": 48,
     "metadata": {},
     "output_type": "execute_result"
    }
   ],
   "source": [
    "stats.binom.pmf(8,10,0.5)"
   ]
  },
  {
   "cell_type": "markdown",
   "id": "6e54dbb9",
   "metadata": {},
   "source": [
    "<ul><li>Can you work out how to change this to get the probability of 7 heads out of 12 coin tosses? \n",
    "    <li>What if the probability of heads is 0.75?</ul>"
   ]
  },
  {
   "cell_type": "markdown",
   "id": "952a2691",
   "metadata": {},
   "source": [
    "## CDF\n",
    "\n",
    "The CDF or cumulative distribution function tells us the probability of obtaining <i>less than or equal to </i> $k$ hits in $n$ trials\n",
    "\n",
    "In the simulation we worked out the proportion of trials in which k>=8 (equivalent $1-p(k<=7)$)\n",
    "\n",
    "Let's check against the output of the built-in function"
   ]
  },
  {
   "cell_type": "code",
   "execution_count": 49,
   "id": "1bda76c9",
   "metadata": {},
   "outputs": [
    {
     "data": {
      "text/plain": [
       "0.0546875"
      ]
     },
     "execution_count": 49,
     "metadata": {},
     "output_type": "execute_result"
    }
   ],
   "source": [
    "1 - stats.binom.cdf(7,10,0.5)"
   ]
  },
  {
   "cell_type": "markdown",
   "id": "96286256",
   "metadata": {},
   "source": [
    "The proportion of trials on which $k>=8$ should be roughly the same as the proportion of our 10,000 coin tosses in which k>=8 (it wont exactly match, as the simulation was subject to random noise)"
   ]
  },
  {
   "cell_type": "markdown",
   "id": "0b5ae030",
   "metadata": {},
   "source": [
    "<ul>\n",
    "    <li>Can you work out how to change this to get the probability of at least 9 heads out of 12 coin tosses? \n",
    "    <li>What if the probability of heads is 0.75?\n",
    "</ul>"
   ]
  },
  {
   "cell_type": "markdown",
   "id": "7d758209",
   "metadata": {},
   "source": [
    "## Change nReps\n",
    "\n",
    "How many reps do we need in our simulation to get a nice close match to the theoretical PMF?\n",
    "\n",
    "To investigate we start by plotted the expected and obtained frequencies\n",
    "\n",
    "### Plot it\n",
    "\n",
    "Lets re-run our simulation of 10,000 times 10 coin tosses and plot the frequency of obtaining each value of $k$ hits."
   ]
  },
  {
   "cell_type": "code",
   "execution_count": 50,
   "id": "9eef8b76",
   "metadata": {},
   "outputs": [],
   "source": [
    "nReps = 10000\n",
    "k = np.empty(nReps)\n",
    "\n",
    "for i in np.arange(len(k)): # we are going to simlulte 10,000 repeats of 10 coin tosses\n",
    "    k[i] = np.random.binomial(10,0.5)"
   ]
  },
  {
   "cell_type": "markdown",
   "id": "2e0fbd6b",
   "metadata": {},
   "source": [
    "Now we can work out the predicted frequencies of each value of k given the PMF\n",
    "<ul>\n",
    "    <li> Calculate the probability of each value of k using the built in function <tt>stats.binom.pmf()</tt>\n",
    "    <li> Multiply by the number of repeats (10,000) to obtain expected frequency\n",
    "</ul>"
   ]
  },
  {
   "cell_type": "code",
   "execution_count": 51,
   "id": "07456270",
   "metadata": {},
   "outputs": [],
   "source": [
    "p_k = stats.binom.pmf(range(11),10,0.5)\n",
    "freq = p_k * nReps"
   ]
  },
  {
   "cell_type": "markdown",
   "id": "86554070",
   "metadata": {},
   "source": [
    "Now let's plot them on the same graph:"
   ]
  },
  {
   "cell_type": "code",
   "execution_count": 52,
   "id": "b0f62367",
   "metadata": {},
   "outputs": [
    {
     "data": {
      "text/plain": [
       "[<matplotlib.lines.Line2D at 0x7fc3425bebe0>]"
      ]
     },
     "execution_count": 52,
     "metadata": {},
     "output_type": "execute_result"
    },
    {
     "data": {
      "image/png": "[encoded data removed]",
      "text/plain": [
       "<Figure size 640x480 with 1 Axes>"
      ]
     },
     "metadata": {},
     "output_type": "display_data"
    }
   ],
   "source": [
    "sns.countplot(x=k, order=range(11))\n",
    "plt.plot(range(11),freq, 'k.-')"
   ]
  },
  {
   "cell_type": "markdown",
   "id": "e42e9753",
   "metadata": {},
   "source": [
    "The fit is not bad!\n",
    "\n",
    "### Change nReps\n",
    "\n",
    "What happens if we reduce nReps?\n",
    "\n",
    "<ul>\n",
    "<li>Modify the code above to reduce nReps to, say, 1000, 100 or 50 and see if the fit is still good\n",
    "<li> At some point the frequencies from the simulation start to diverge quite a bit from the predicted frequencies just due to chance\n",
    "</ul>"
   ]
  },
  {
   "cell_type": "code",
   "execution_count": null,
   "id": "e5ae4d38",
   "metadata": {},
   "outputs": [],
   "source": []
  }
 ],
 "metadata": {
  "kernelspec": {
   "display_name": "Python 3 (ipykernel)",
   "language": "python",
   "name": "python3"
  },
  "language_info": {
   "codemirror_mode": {
    "name": "ipython",
    "version": 3
   },
   "file_extension": ".py",
   "mimetype": "text/x-python",
   "name": "python",
   "nbconvert_exporter": "python",
   "pygments_lexer": "ipython3",
   "version": "3.9.13"
  }
 },
 "nbformat": 4,
 "nbformat_minor": 5
}
