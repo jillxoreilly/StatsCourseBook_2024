{
 "cells": [
  {
   "cell_type": "markdown",
   "id": "0736c308",
   "metadata": {},
   "source": [
    "# Tutorial Exercises\n",
    "\n",
    "The tutorial exercises this week will form the basis of your next hand-in assignment. You will be using real data that were collected in 2019 about people’s perception of their social standing and their happiness. These data were collected online by the well-respected polling company YouGov. The data are intended to be representative of the UK population. \n",
    "\n",
    "Note: as well as completing these exercises, it’s a good idea to review the instructions for the assignment ahead of the tutorial, so that you can check you understanding with your tutor. \n",
    "\n",
    "The variables are as follows:\n",
    "\n",
    "* `happy` (a continuous measure ranging from 0-10, where higher scores are greater happiness)\n",
    "* `ladder` (a continuous measure of 1-11 where participants rate themselves in their standing in society, where the lowest rung on the ladder was labelled “bottom of society” and the top rung as “top of society”)\n",
    "* `age` (a continuous measure in years)\n",
    "* `marital` (a categorical measure of marital status with three categories) \n",
    "* `work` (a categorical measure of working status with four categories)\n",
    "* `educ` ( a categorical measure of educational qualifications summarised into 3 categories)\n",
    "* `sex` (male, female)\n",
    "* `leftout` (a categorical variable in which people state whether they agree or disagree that they feel left out of society)\n",
    "* `income` (a categorical variable with four categories)\n",
    "* `region` (a categorical variable with twelve categories)\n",
    "\n",
    "\n",
    "### Set up Python libraries\n",
    "\n",
    "As usual, run the code cell below to import the relevant Python libraries"
   ]
  },
  {
   "cell_type": "code",
   "execution_count": 2,
   "id": "1da708df",
   "metadata": {},
   "outputs": [],
   "source": [
    "# Set-up Python libraries - you need to run this but you don't need to change it\n",
    "import numpy as np\n",
    "import matplotlib.pyplot as plt\n",
    "import scipy.stats as stats\n",
    "import pandas as pd\n",
    "import seaborn as sns\n",
    "sns.set_theme(style='white')\n",
    "import statsmodels.api as sm\n",
    "import statsmodels.formula.api as smf"
   ]
  },
  {
   "cell_type": "markdown",
   "id": "f1bf5a3f",
   "metadata": {},
   "source": [
    "### Import and view the data"
   ]
  },
  {
   "cell_type": "code",
   "execution_count": 3,
   "id": "d2dbe0e6",
   "metadata": {},
   "outputs": [
    {
     "data": {
      "text/html": [
       "<div>\n",
       "<style scoped>\n",
       "    .dataframe tbody tr th:only-of-type {\n",
       "        vertical-align: middle;\n",
       "    }\n",
       "\n",
       "    .dataframe tbody tr th {\n",
       "        vertical-align: top;\n",
       "    }\n",
       "\n",
       "    .dataframe thead th {\n",
       "        text-align: right;\n",
       "    }\n",
       "</style>\n",
       "<table border=\"1\" class=\"dataframe\">\n",
       "  <thead>\n",
       "    <tr style=\"text-align: right;\">\n",
       "      <th></th>\n",
       "      <th>happy</th>\n",
       "      <th>ladder</th>\n",
       "      <th>sex</th>\n",
       "      <th>marital</th>\n",
       "      <th>educ</th>\n",
       "      <th>work</th>\n",
       "      <th>income</th>\n",
       "      <th>region</th>\n",
       "      <th>age</th>\n",
       "      <th>leftout</th>\n",
       "    </tr>\n",
       "  </thead>\n",
       "  <tbody>\n",
       "    <tr>\n",
       "      <th>0</th>\n",
       "      <td>0</td>\n",
       "      <td>3</td>\n",
       "      <td>Male</td>\n",
       "      <td>Married/living with a partner</td>\n",
       "      <td>Lower secondary or below</td>\n",
       "      <td>Employed</td>\n",
       "      <td>Low-medium</td>\n",
       "      <td>South East</td>\n",
       "      <td>36</td>\n",
       "      <td>Agree</td>\n",
       "    </tr>\n",
       "    <tr>\n",
       "      <th>1</th>\n",
       "      <td>7</td>\n",
       "      <td>7</td>\n",
       "      <td>Male</td>\n",
       "      <td>Single</td>\n",
       "      <td>Lower secondary or below</td>\n",
       "      <td>Employed</td>\n",
       "      <td>Low</td>\n",
       "      <td>South East</td>\n",
       "      <td>53</td>\n",
       "      <td>Disagree</td>\n",
       "    </tr>\n",
       "    <tr>\n",
       "      <th>2</th>\n",
       "      <td>3</td>\n",
       "      <td>10</td>\n",
       "      <td>Male</td>\n",
       "      <td>Single</td>\n",
       "      <td>Tertiary education</td>\n",
       "      <td>Employed</td>\n",
       "      <td>Medium-high</td>\n",
       "      <td>North West</td>\n",
       "      <td>60</td>\n",
       "      <td>Disagree</td>\n",
       "    </tr>\n",
       "    <tr>\n",
       "      <th>3</th>\n",
       "      <td>5</td>\n",
       "      <td>7</td>\n",
       "      <td>Female</td>\n",
       "      <td>Married/living with a partner</td>\n",
       "      <td>Upper secondary education</td>\n",
       "      <td>Employed</td>\n",
       "      <td>Medium-high</td>\n",
       "      <td>East of England</td>\n",
       "      <td>41</td>\n",
       "      <td>Disagree</td>\n",
       "    </tr>\n",
       "    <tr>\n",
       "      <th>4</th>\n",
       "      <td>9</td>\n",
       "      <td>8</td>\n",
       "      <td>Male</td>\n",
       "      <td>Married/living with a partner</td>\n",
       "      <td>Tertiary education</td>\n",
       "      <td>Other</td>\n",
       "      <td>NaN</td>\n",
       "      <td>London</td>\n",
       "      <td>70</td>\n",
       "      <td>Neither agree nor disagree</td>\n",
       "    </tr>\n",
       "    <tr>\n",
       "      <th>...</th>\n",
       "      <td>...</td>\n",
       "      <td>...</td>\n",
       "      <td>...</td>\n",
       "      <td>...</td>\n",
       "      <td>...</td>\n",
       "      <td>...</td>\n",
       "      <td>...</td>\n",
       "      <td>...</td>\n",
       "      <td>...</td>\n",
       "      <td>...</td>\n",
       "    </tr>\n",
       "    <tr>\n",
       "      <th>995</th>\n",
       "      <td>9</td>\n",
       "      <td>8</td>\n",
       "      <td>Female</td>\n",
       "      <td>Married/living with a partner</td>\n",
       "      <td>Tertiary education</td>\n",
       "      <td>Employed</td>\n",
       "      <td>High</td>\n",
       "      <td>London</td>\n",
       "      <td>34</td>\n",
       "      <td>Strongly disagree</td>\n",
       "    </tr>\n",
       "    <tr>\n",
       "      <th>996</th>\n",
       "      <td>8</td>\n",
       "      <td>6</td>\n",
       "      <td>Male</td>\n",
       "      <td>Single</td>\n",
       "      <td>Lower secondary or below</td>\n",
       "      <td>Employed</td>\n",
       "      <td>Low-medium</td>\n",
       "      <td>South East</td>\n",
       "      <td>66</td>\n",
       "      <td>Neither agree nor disagree</td>\n",
       "    </tr>\n",
       "    <tr>\n",
       "      <th>997</th>\n",
       "      <td>6</td>\n",
       "      <td>5</td>\n",
       "      <td>Male</td>\n",
       "      <td>Married/living with a partner</td>\n",
       "      <td>Lower secondary or below</td>\n",
       "      <td>Employed</td>\n",
       "      <td>Low-medium</td>\n",
       "      <td>Yorkshire and the Humber</td>\n",
       "      <td>55</td>\n",
       "      <td>Disagree</td>\n",
       "    </tr>\n",
       "    <tr>\n",
       "      <th>998</th>\n",
       "      <td>10</td>\n",
       "      <td>6</td>\n",
       "      <td>Male</td>\n",
       "      <td>Married/living with a partner</td>\n",
       "      <td>Tertiary education</td>\n",
       "      <td>Employed</td>\n",
       "      <td>Medium-high</td>\n",
       "      <td>London</td>\n",
       "      <td>30</td>\n",
       "      <td>Agree</td>\n",
       "    </tr>\n",
       "    <tr>\n",
       "      <th>999</th>\n",
       "      <td>8</td>\n",
       "      <td>7</td>\n",
       "      <td>Male</td>\n",
       "      <td>Married/living with a partner</td>\n",
       "      <td>Upper secondary education</td>\n",
       "      <td>Employed</td>\n",
       "      <td>High</td>\n",
       "      <td>South West</td>\n",
       "      <td>38</td>\n",
       "      <td>Disagree</td>\n",
       "    </tr>\n",
       "  </tbody>\n",
       "</table>\n",
       "<p>1000 rows × 10 columns</p>\n",
       "</div>"
      ],
      "text/plain": [
       "     happy  ladder     sex                        marital  \\\n",
       "0        0       3    Male  Married/living with a partner   \n",
       "1        7       7    Male                         Single   \n",
       "2        3      10    Male                         Single   \n",
       "3        5       7  Female  Married/living with a partner   \n",
       "4        9       8    Male  Married/living with a partner   \n",
       "..     ...     ...     ...                            ...   \n",
       "995      9       8  Female  Married/living with a partner   \n",
       "996      8       6    Male                         Single   \n",
       "997      6       5    Male  Married/living with a partner   \n",
       "998     10       6    Male  Married/living with a partner   \n",
       "999      8       7    Male  Married/living with a partner   \n",
       "\n",
       "                          educ      work       income  \\\n",
       "0     Lower secondary or below  Employed   Low-medium   \n",
       "1     Lower secondary or below  Employed          Low   \n",
       "2           Tertiary education  Employed  Medium-high   \n",
       "3    Upper secondary education  Employed  Medium-high   \n",
       "4           Tertiary education     Other          NaN   \n",
       "..                         ...       ...          ...   \n",
       "995         Tertiary education  Employed         High   \n",
       "996   Lower secondary or below  Employed   Low-medium   \n",
       "997   Lower secondary or below  Employed   Low-medium   \n",
       "998         Tertiary education  Employed  Medium-high   \n",
       "999  Upper secondary education  Employed         High   \n",
       "\n",
       "                       region  age                     leftout  \n",
       "0                  South East   36                       Agree  \n",
       "1                  South East   53                    Disagree  \n",
       "2                  North West   60                    Disagree  \n",
       "3             East of England   41                    Disagree  \n",
       "4                      London   70  Neither agree nor disagree  \n",
       "..                        ...  ...                         ...  \n",
       "995                    London   34           Strongly disagree  \n",
       "996                South East   66  Neither agree nor disagree  \n",
       "997  Yorkshire and the Humber   55                    Disagree  \n",
       "998                    London   30                       Agree  \n",
       "999                South West   38                    Disagree  \n",
       "\n",
       "[1000 rows x 10 columns]"
      ]
     },
     "execution_count": 3,
     "metadata": {},
     "output_type": "execute_result"
    }
   ],
   "source": [
    "# Your code here to import the data from the file Happy.csv\n",
    "happy = pd.read_csv('../data/Happy.csv')\n",
    "happy"
   ]
  },
  {
   "cell_type": "markdown",
   "id": "16901359",
   "metadata": {},
   "source": [
    "### Data cleaning\n",
    "\n",
    "First, get to know your data and do any necessary data cleaning. \n",
    "\n",
    "YouGov uses codes of 99 to indicate missing data. Change these to NaN."
   ]
  },
  {
   "cell_type": "code",
   "execution_count": 6,
   "id": "c1634fac",
   "metadata": {},
   "outputs": [
    {
     "data": {
      "text/plain": [
       "happy      1000\n",
       "ladder      950\n",
       "sex        1000\n",
       "marital     998\n",
       "educ       1000\n",
       "work       1000\n",
       "income      747\n",
       "region     1000\n",
       "age        1000\n",
       "leftout     992\n",
       "dtype: int64"
      ]
     },
     "execution_count": 6,
     "metadata": {},
     "output_type": "execute_result"
    }
   ],
   "source": [
    "# Your code here to remove missing values!\n",
    "happy.replace(99,np.nan, inplace=True)\n",
    "happy.count()"
   ]
  },
  {
   "cell_type": "markdown",
   "id": "c033f94c",
   "metadata": {},
   "source": [
    "### Control Variables\n",
    "\n",
    "* The outcome variable here is `happy` \n",
    "* The main explanatory variable is `ladder`  \n",
    "* There are a set of 8 possible control variables. \n",
    "\n",
    "Which do you think might be important controls here? \n",
    "\n",
    "There is no right or wrong answer here but think about your reasons for selecting your control variables (don’t just throw all of them in!).\n",
    "\n",
    "Specify two regression models - Model 1 includes just the main explanatory variable. Model 2 adds the control variables of your choice (and keeps the main explanatory variable). Calculate the RMSE for both. \n"
   ]
  },
  {
   "cell_type": "code",
   "execution_count": 2,
   "id": "58e368c8",
   "metadata": {},
   "outputs": [],
   "source": [
    "# Your code here!"
   ]
  },
  {
   "cell_type": "markdown",
   "id": "450d2231",
   "metadata": {},
   "source": [
    "### Compare your two models:\n",
    "\n",
    "* Which is better fitting in terms of the $R^2$? \n",
    "* And which has a smaller spread of values around the regression line? "
   ]
  },
  {
   "cell_type": "code",
   "execution_count": 1,
   "id": "5ffd436b",
   "metadata": {},
   "outputs": [],
   "source": [
    "# Your answer here!\n",
    "# You may need to add extra cells"
   ]
  },
  {
   "cell_type": "markdown",
   "id": "823b13ed",
   "metadata": {},
   "source": [
    "### Interpret your regression models. \n",
    "\n",
    "Make some notes:\n",
    "* Which coefficients are significant? \n",
    "* What are the confidence intervals around the slope for ‘ladder’? \n",
    "* Does the coefficient for ‘ladder’ change much between model 1 and model 2? \n",
    "* What can we conclude about the relationship between perceptions of social standing and happiness? \n",
    "* Looking at the association between the control variables and happiness, are these as you might have expected, or are there any surprises here?"
   ]
  },
  {
   "cell_type": "code",
   "execution_count": null,
   "id": "cdfe4eff",
   "metadata": {},
   "outputs": [],
   "source": [
    "# Your answer here!\n",
    "# You may need to add extra cells"
   ]
  },
  {
   "cell_type": "markdown",
   "id": "2cac8a0a",
   "metadata": {},
   "source": [
    "### Check the regression assumptions. \n",
    "\n",
    "First, check whether the residuals are normally distributed by plotting a histogram of the residuals (refer bback to the preparatory notebook for an example). Do you think this assumption has been met?"
   ]
  },
  {
   "cell_type": "code",
   "execution_count": null,
   "id": "f1e23d4d",
   "metadata": {},
   "outputs": [],
   "source": [
    "# Your code here"
   ]
  },
  {
   "cell_type": "markdown",
   "id": "b6145c63",
   "metadata": {},
   "source": [
    "Let's also trying checking the assumption of constant variance: can you plot a scatter plot of residuals ($y$-axis) and $\\hat{y}$ ($x$-axis)?\n",
    "\n",
    "Residuals are found in `reg_results.resid` and $\\hat{y}$ is obtained using `reg_results.predict()`\n",
    "\n",
    "Do you think the variance in the residuals looks roughly constant for all values of $\\hat{y}$?"
   ]
  },
  {
   "cell_type": "code",
   "execution_count": null,
   "id": "08fe0ca4",
   "metadata": {},
   "outputs": [],
   "source": [
    "# Your code here"
   ]
  },
  {
   "cell_type": "markdown",
   "id": "a4108a9e",
   "metadata": {},
   "source": [
    "The variance of the residuals looks roughly similar at all values of yhat. It looks like the constant variance assumption has been met"
   ]
  },
  {
   "cell_type": "code",
   "execution_count": null,
   "id": "0a6f568f",
   "metadata": {},
   "outputs": [],
   "source": []
  }
 ],
 "metadata": {
  "kernelspec": {
   "display_name": "Python 3 (ipykernel)",
   "language": "python",
   "name": "python3"
  },
  "language_info": {
   "codemirror_mode": {
    "name": "ipython",
    "version": 3
   },
   "file_extension": ".py",
   "mimetype": "text/x-python",
   "name": "python",
   "nbconvert_exporter": "python",
   "pygments_lexer": "ipython3",
   "version": "3.9.18"
  }
 },
 "nbformat": 4,
 "nbformat_minor": 5
}
