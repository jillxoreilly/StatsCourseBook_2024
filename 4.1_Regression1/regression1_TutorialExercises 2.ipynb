{
 "cells": [
  {
   "cell_type": "markdown",
   "id": "c91ffc89",
   "metadata": {},
   "source": [
    "# Tutorial Exercises\n",
    "\n",
    "We will be using the statsmodels package in Python, so we will need to import this along with the other Python packages we have been using.\n",
    "\n",
    "\n",
    "### Set up Python libraries\n",
    "\n",
    "As usual, run the code cell below to import the relevant Python libraries\n"
   ]
  },
  {
   "cell_type": "code",
   "execution_count": 2,
   "id": "1b642f8d",
   "metadata": {},
   "outputs": [],
   "source": [
    "# Set-up Python libraries - you need to run this but you don't need to change it\n",
    "import numpy as np\n",
    "import matplotlib.pyplot as plt\n",
    "import scipy.stats as stats\n",
    "import pandas \n",
    "import seaborn as sns\n",
    "import statsmodels.api as sm\n",
    "import statsmodels.formula.api as smf"
   ]
  },
  {
   "cell_type": "markdown",
   "id": "b6aa98d9",
   "metadata": {},
   "source": [
    "## Life satisfaction full dataset\n",
    "\n",
    "Let's import the full dataset for life satisfaction vs GDP"
   ]
  },
  {
   "cell_type": "code",
   "execution_count": 19,
   "id": "4ee32dde",
   "metadata": {},
   "outputs": [
    {
     "data": {
      "text/html": [
       "<div>\n",
       "<style scoped>\n",
       "    .dataframe tbody tr th:only-of-type {\n",
       "        vertical-align: middle;\n",
       "    }\n",
       "\n",
       "    .dataframe tbody tr th {\n",
       "        vertical-align: top;\n",
       "    }\n",
       "\n",
       "    .dataframe thead th {\n",
       "        text-align: right;\n",
       "    }\n",
       "</style>\n",
       "<table border=\"1\" class=\"dataframe\">\n",
       "  <thead>\n",
       "    <tr style=\"text-align: right;\">\n",
       "      <th></th>\n",
       "      <th>Country</th>\n",
       "      <th>LifeSat</th>\n",
       "      <th>GDPpc</th>\n",
       "    </tr>\n",
       "  </thead>\n",
       "  <tbody>\n",
       "    <tr>\n",
       "      <th>0</th>\n",
       "      <td>Afghanistan</td>\n",
       "      <td>2.40</td>\n",
       "      <td>1.97</td>\n",
       "    </tr>\n",
       "    <tr>\n",
       "      <th>1</th>\n",
       "      <td>Albania</td>\n",
       "      <td>5.20</td>\n",
       "      <td>13.19</td>\n",
       "    </tr>\n",
       "    <tr>\n",
       "      <th>2</th>\n",
       "      <td>Algeria</td>\n",
       "      <td>5.12</td>\n",
       "      <td>10.74</td>\n",
       "    </tr>\n",
       "    <tr>\n",
       "      <th>3</th>\n",
       "      <td>American Samoa</td>\n",
       "      <td>NaN</td>\n",
       "      <td>0.00</td>\n",
       "    </tr>\n",
       "    <tr>\n",
       "      <th>4</th>\n",
       "      <td>Andorra</td>\n",
       "      <td>NaN</td>\n",
       "      <td>0.00</td>\n",
       "    </tr>\n",
       "    <tr>\n",
       "      <th>...</th>\n",
       "      <td>...</td>\n",
       "      <td>...</td>\n",
       "      <td>...</td>\n",
       "    </tr>\n",
       "    <tr>\n",
       "      <th>233</th>\n",
       "      <td>Western Sahara</td>\n",
       "      <td>NaN</td>\n",
       "      <td>0.00</td>\n",
       "    </tr>\n",
       "    <tr>\n",
       "      <th>234</th>\n",
       "      <td>World</td>\n",
       "      <td>NaN</td>\n",
       "      <td>16.19</td>\n",
       "    </tr>\n",
       "    <tr>\n",
       "      <th>235</th>\n",
       "      <td>Yemen</td>\n",
       "      <td>4.20</td>\n",
       "      <td>0.00</td>\n",
       "    </tr>\n",
       "    <tr>\n",
       "      <th>236</th>\n",
       "      <td>Zambia</td>\n",
       "      <td>3.76</td>\n",
       "      <td>3.28</td>\n",
       "    </tr>\n",
       "    <tr>\n",
       "      <th>237</th>\n",
       "      <td>Zimbabwe</td>\n",
       "      <td>3.00</td>\n",
       "      <td>3.35</td>\n",
       "    </tr>\n",
       "  </tbody>\n",
       "</table>\n",
       "<p>238 rows × 3 columns</p>\n",
       "</div>"
      ],
      "text/plain": [
       "            Country  LifeSat  GDPpc\n",
       "0       Afghanistan     2.40   1.97\n",
       "1           Albania     5.20  13.19\n",
       "2           Algeria     5.12  10.74\n",
       "3    American Samoa      NaN   0.00\n",
       "4           Andorra      NaN   0.00\n",
       "..              ...      ...    ...\n",
       "233  Western Sahara      NaN   0.00\n",
       "234           World      NaN  16.19\n",
       "235           Yemen     4.20   0.00\n",
       "236          Zambia     3.76   3.28\n",
       "237        Zimbabwe     3.00   3.35\n",
       "\n",
       "[238 rows x 3 columns]"
      ]
     },
     "execution_count": 19,
     "metadata": {},
     "output_type": "execute_result"
    }
   ],
   "source": [
    "happy = pandas.read_csv('https://raw.githubusercontent.com/jillxoreilly/StatsCourseBook/main/data/All_countries_lifesat_2020.csv')\n",
    "happy"
   ]
  },
  {
   "cell_type": "markdown",
   "id": "e0b14289",
   "metadata": {},
   "source": [
    "### Data cleaning\n",
    "\n",
    "We are working with real data here! We need to examine it and take any necessary steps to clean the data before we begin analysis. \n",
    "\n",
    "* What steps do you need to take to clean the data? \n",
    "* Are there any data points that look wrong (e.g., too low or too high)? Change any suspicious values to ‘NaN’.\n",
    "* How many missing data points do you have on lifesat? \n",
    "* How many missing data points do you have on GDP per capita?\n"
   ]
  },
  {
   "cell_type": "code",
   "execution_count": 1,
   "id": "5afcc7e5",
   "metadata": {},
   "outputs": [],
   "source": [
    "# your code here to clean the data"
   ]
  },
  {
   "cell_type": "markdown",
   "id": "2b314b8d",
   "metadata": {},
   "source": [
    "* How many valid data points do you have? \n",
    "\n",
    "\n",
    "### Describing the data\n",
    "\n",
    "Let’s begin with some descriptive analysis before running our first regression model. \n",
    "\n",
    "Run a scatterplot. \n",
    "\n",
    "Be sure to plot $y$ on the $y$-axis and $x$ on the $x$-axis. \n",
    "(If you are not sure which is which, discuss with your tutor).\n"
   ]
  },
  {
   "cell_type": "code",
   "execution_count": 14,
   "id": "c903f878",
   "metadata": {},
   "outputs": [],
   "source": [
    "# Your code here for the scatterplot"
   ]
  },
  {
   "cell_type": "markdown",
   "id": "232c7691",
   "metadata": {},
   "source": [
    "* What are your initial conclusions about the relationship between GDP and life satisfaction? \n",
    "\n",
    "### Regression model\n",
    "\n",
    "It’s time to run the regression model. \n",
    "\n",
    "The basic code can be copied from the worked examples in the previous notebook, but you will need to modify it. \n",
    "\n",
    "Where do you tell Python which is the $y$ variable, and which is the $x$?"
   ]
  },
  {
   "cell_type": "code",
   "execution_count": null,
   "id": "b065e3c9",
   "metadata": {},
   "outputs": [],
   "source": [
    "# code for regression model"
   ]
  },
  {
   "cell_type": "markdown",
   "id": "699201d4",
   "metadata": {},
   "source": [
    "Look at the Python regression output. \n",
    "\n",
    "* Find the intercept and the slope. \n",
    "* Write out the regression equation (on your computer or by hand on paper). \n",
    "* Make notes on how to interpret the intercept and the slope. E.g., “the intercept is the average life satisfaction in a country with…” And “the slope of x.xx means that for every additional $1000 in GDP…”\n",
    "\n",
    "### Regression plot\n",
    "\n",
    "Let’s add the regression line to the scatterplot in Python. \n",
    "\n",
    "\n",
    "`seaborn` has a special plotting function for plotting a scatterplot with regression line included, called `sns.regplot`. \n",
    "\n",
    "Give it a try, the syntax is the same as for `sns.scatterplot`\n"
   ]
  },
  {
   "cell_type": "code",
   "execution_count": 2,
   "id": "8f4480e8",
   "metadata": {},
   "outputs": [],
   "source": [
    "# your code here for a scatterplot with regression line using sns.regplot"
   ]
  },
  {
   "cell_type": "markdown",
   "id": "ae44d8d4",
   "metadata": {},
   "source": [
    "Eyeballing the scatterplot, how well do you think the regression line fits the data points? Do you think there are any outliers? We can see that several countries with very large GDPs are below the regression line. Also, that many countries with very low GDP are a long way from the regression line. We can examine potential outliers more systematically, by asking Python to calculate residuals (and predicted values) for us."
   ]
  },
  {
   "cell_type": "code",
   "execution_count": 15,
   "id": "c5e7eeaa",
   "metadata": {},
   "outputs": [],
   "source": [
    "# Your code here to generate predictions (y-hat) and residuals for each data point.\n",
    "# add them as columns to your datafram\n",
    "# view the resulting dataframe"
   ]
  },
  {
   "cell_type": "markdown",
   "id": "6865f783",
   "metadata": {},
   "source": [
    "### SSE\n",
    "\n",
    "Can you find the sum of squared residuals using an equation?\n",
    "\n",
    "Hint: The code for $x^2$ in Python is `x**2`"
   ]
  },
  {
   "cell_type": "code",
   "execution_count": null,
   "id": "57e77d10",
   "metadata": {},
   "outputs": [],
   "source": [
    "# Your code here for squaring then adding up all the residuals."
   ]
  },
  {
   "cell_type": "markdown",
   "id": "fa4894d0",
   "metadata": {},
   "source": [
    "* How meaningful is the sum of squared residuals (or “sum of squared error” - SSE)? What does it tell us?\n",
    "    * We know this is the minimized residual. Because this line is fitted using the method of least squares, there is no other line that could fit the data with a lower SSE. \n",
    "\n",
    "The sum of squared residuals is provided by `statsomdels` as `reg_results.ssr` - \n",
    "\n",
    "* check that the sum of squared residuals you calculated matches the output of `reg_results.ssr`\n",
    "\n",
    "\n"
   ]
  },
  {
   "cell_type": "code",
   "execution_count": 16,
   "id": "5a4babd4",
   "metadata": {},
   "outputs": [],
   "source": [
    "# your code here"
   ]
  },
  {
   "cell_type": "markdown",
   "id": "2443bc13",
   "metadata": {},
   "source": [
    "### Check datapoints that are not well fit by the model\n",
    "\n",
    "Sort and display the data and find any very large residuals (remember outliers could have a positive or negative residual. Look for both!). Choose the 6 largest residuals (in absolute terms). Which countries are they? Are they in the same region, are they rich or poor? \n",
    "\n",
    "Now change the life satisfaction for these six countries to ‘NaN’ so that we can exclude them from the analysis. Store the data with the excluded outliers with a new name. Then re-run the regression, and the scatterplot with regression line.\n"
   ]
  },
  {
   "cell_type": "code",
   "execution_count": null,
   "id": "85c40fde",
   "metadata": {},
   "outputs": [],
   "source": [
    "# your code here!"
   ]
  },
  {
   "cell_type": "markdown",
   "id": "1c2256b5",
   "metadata": {},
   "source": [
    "In the new analysis with the six outliers excluded, do your conclusions about the relationship between GDP and life satisfaction change, or stay the same?\n",
    "\n",
    "We will learn more about the assumptions of regression in the next week or two, but looking back at the scatterplot, have you noticed any potential concerns about the model?\n",
    "\n"
   ]
  },
  {
   "cell_type": "code",
   "execution_count": null,
   "id": "1998c210",
   "metadata": {},
   "outputs": [],
   "source": []
  },
  {
   "cell_type": "code",
   "execution_count": null,
   "id": "2dc3189d",
   "metadata": {},
   "outputs": [],
   "source": []
  }
 ],
 "metadata": {
  "kernelspec": {
   "display_name": "Python 3 (ipykernel)",
   "language": "python",
   "name": "python3"
  },
  "language_info": {
   "codemirror_mode": {
    "name": "ipython",
    "version": 3
   },
   "file_extension": ".py",
   "mimetype": "text/x-python",
   "name": "python",
   "nbconvert_exporter": "python",
   "pygments_lexer": "ipython3",
   "version": "3.9.13"
  }
 },
 "nbformat": 4,
 "nbformat_minor": 5
}
