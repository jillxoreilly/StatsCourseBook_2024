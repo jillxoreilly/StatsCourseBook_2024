{
 "cells": [
  {
   "cell_type": "markdown",
   "id": "56ce9f7f-a824-4f54-966a-64d6fcc2be3d",
   "metadata": {},
   "source": [
    "# Effect size\n",
    "\n",
    "Power analysis determines the sample size needed to detect an effect of a certain size.\n",
    "\n",
    "What is **effect size**? It is a measure of whethher the effect of interest is big or small, relative to the random noise or variability in the data.\n",
    "\n",
    "In this notebook we look at the effect size for the t-test and for Pearson's correlation. We will see that:\n",
    "\n",
    "* The effect size for the t-test is Cohen's $d$, where\n",
    "\n",
    "$$ d = \\frac{\\bar{x_1}-\\bar{x_2}}{s} $$\n",
    "\n",
    "* The effect size for Pearson's correlation is simply the correlation coefficient, $r$"
   ]
  }
 ],
 "metadata": {
  "kernelspec": {
   "display_name": "Python 3 (ipykernel)",
   "language": "python",
   "name": "python3"
  },
  "language_info": {
   "codemirror_mode": {
    "name": "ipython",
    "version": 3
   },
   "file_extension": ".py",
   "mimetype": "text/x-python",
   "name": "python",
   "nbconvert_exporter": "python",
   "pygments_lexer": "ipython3",
   "version": "3.9.18"
  }
 },
 "nbformat": 4,
 "nbformat_minor": 5
}
