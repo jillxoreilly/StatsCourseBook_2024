{
 "cells": [
  {
   "cell_type": "markdown",
   "id": "1b3fcdd8",
   "metadata": {},
   "source": [
    "# Coding support sheet\n",
    "\n",
    "The aim of this document is to show you some functions and how they can be used. This should help you with learning how to manipulate data - both the arrays and dataframes that we are using each week in class. These will be run on a basic dataframe to show you how they are used, and what the resulting output is."
   ]
  },
  {
   "cell_type": "code",
   "execution_count": 1,
   "id": "76c77fb1",
   "metadata": {},
   "outputs": [],
   "source": [
    "# Set-up Python libraries - you need to run this but you don't need to change it\n",
    "import numpy as np\n",
    "import matplotlib.pyplot as plt\n",
    "import scipy.stats as stats\n",
    "import pandas as pd\n",
    "import seaborn as sns\n",
    "sns.set_theme()\n",
    "\n",
    "### Import and inspect data\n",
    "df2=pd.read_csv('https://raw.githubusercontent.com/jillxoreilly/StatsCourseBook/main/data/heartAttack.csv')\n",
    "\n",
    "df = pd.read_csv('https://raw.githubusercontent.com/jillxoreilly/StatsCourseBook/main/data/fruitsAndVeg.csv')"
   ]
  },
  {
   "cell_type": "markdown",
   "id": "6b6bbe69",
   "metadata": {},
   "source": [
    "## Pandas Functions\n",
    "\n",
    "Pandas is a library that allows effective use of dataframes (similar to excel sheets). Using Pandas, we can do a variety of things that you will see below.\n",
    "\n",
    "In this cheat sheet, we will take a short hand for any data frame -- dataframe `df`"
   ]
  },
  {
   "cell_type": "markdown",
   "id": "4f437144",
   "metadata": {},
   "source": [
    "#### `df.head()` and `df.tail()`\n",
    "- these functions show you the *first five* and *last five* rows of your dataframe, respectively\n",
    "- if you add a number inside the brackets, you can change how many rows you see (e.g. `df.head(10)`)"
   ]
  },
  {
   "cell_type": "code",
   "execution_count": 2,
   "id": "a2bd40e9",
   "metadata": {},
   "outputs": [
    {
     "data": {
      "text/html": [
       "<div>\n",
       "<style scoped>\n",
       "    .dataframe tbody tr th:only-of-type {\n",
       "        vertical-align: middle;\n",
       "    }\n",
       "\n",
       "    .dataframe tbody tr th {\n",
       "        vertical-align: top;\n",
       "    }\n",
       "\n",
       "    .dataframe thead th {\n",
       "        text-align: right;\n",
       "    }\n",
       "</style>\n",
       "<table border=\"1\" class=\"dataframe\">\n",
       "  <thead>\n",
       "    <tr style=\"text-align: right;\">\n",
       "      <th></th>\n",
       "      <th>name</th>\n",
       "      <th>type</th>\n",
       "      <th>colour</th>\n",
       "    </tr>\n",
       "  </thead>\n",
       "  <tbody>\n",
       "    <tr>\n",
       "      <th>0</th>\n",
       "      <td>lettuce</td>\n",
       "      <td>veg</td>\n",
       "      <td>green</td>\n",
       "    </tr>\n",
       "    <tr>\n",
       "      <th>1</th>\n",
       "      <td>cucumber</td>\n",
       "      <td>veg</td>\n",
       "      <td>green</td>\n",
       "    </tr>\n",
       "    <tr>\n",
       "      <th>2</th>\n",
       "      <td>orange</td>\n",
       "      <td>fruit</td>\n",
       "      <td>orange</td>\n",
       "    </tr>\n",
       "    <tr>\n",
       "      <th>3</th>\n",
       "      <td>banana</td>\n",
       "      <td>fruit</td>\n",
       "      <td>yellow</td>\n",
       "    </tr>\n",
       "    <tr>\n",
       "      <th>4</th>\n",
       "      <td>kiwi</td>\n",
       "      <td>fruit</td>\n",
       "      <td>brown</td>\n",
       "    </tr>\n",
       "  </tbody>\n",
       "</table>\n",
       "</div>"
      ],
      "text/plain": [
       "       name   type  colour\n",
       "0   lettuce    veg   green\n",
       "1  cucumber    veg   green\n",
       "2    orange  fruit  orange\n",
       "3    banana  fruit  yellow\n",
       "4      kiwi  fruit   brown"
      ]
     },
     "metadata": {},
     "output_type": "display_data"
    },
    {
     "data": {
      "text/html": [
       "<div>\n",
       "<style scoped>\n",
       "    .dataframe tbody tr th:only-of-type {\n",
       "        vertical-align: middle;\n",
       "    }\n",
       "\n",
       "    .dataframe tbody tr th {\n",
       "        vertical-align: top;\n",
       "    }\n",
       "\n",
       "    .dataframe thead th {\n",
       "        text-align: right;\n",
       "    }\n",
       "</style>\n",
       "<table border=\"1\" class=\"dataframe\">\n",
       "  <thead>\n",
       "    <tr style=\"text-align: right;\">\n",
       "      <th></th>\n",
       "      <th>name</th>\n",
       "      <th>type</th>\n",
       "      <th>colour</th>\n",
       "    </tr>\n",
       "  </thead>\n",
       "  <tbody>\n",
       "    <tr>\n",
       "      <th>7</th>\n",
       "      <td>carrot</td>\n",
       "      <td>veg</td>\n",
       "      <td>orange</td>\n",
       "    </tr>\n",
       "    <tr>\n",
       "      <th>8</th>\n",
       "      <td>potato</td>\n",
       "      <td>veg</td>\n",
       "      <td>white</td>\n",
       "    </tr>\n",
       "    <tr>\n",
       "      <th>9</th>\n",
       "      <td>lychee</td>\n",
       "      <td>fruit</td>\n",
       "      <td>white</td>\n",
       "    </tr>\n",
       "    <tr>\n",
       "      <th>10</th>\n",
       "      <td>plum</td>\n",
       "      <td>fruit</td>\n",
       "      <td>purple</td>\n",
       "    </tr>\n",
       "    <tr>\n",
       "      <th>11</th>\n",
       "      <td>apple</td>\n",
       "      <td>fruit</td>\n",
       "      <td>green</td>\n",
       "    </tr>\n",
       "  </tbody>\n",
       "</table>\n",
       "</div>"
      ],
      "text/plain": [
       "      name   type  colour\n",
       "7   carrot    veg  orange\n",
       "8   potato    veg   white\n",
       "9   lychee  fruit   white\n",
       "10    plum  fruit  purple\n",
       "11   apple  fruit   green"
      ]
     },
     "metadata": {},
     "output_type": "display_data"
    }
   ],
   "source": [
    "display(df.head())\n",
    "display(df.tail())"
   ]
  },
  {
   "cell_type": "markdown",
   "id": "5b2d2684",
   "metadata": {},
   "source": [
    "#### `df.shape`\n",
    "- this function allows us to look at the dimensions (or shape) of a dataframe\n",
    "- it tells us how many rows and how many columns we have in the data"
   ]
  },
  {
   "cell_type": "code",
   "execution_count": 3,
   "id": "1cb8b2c7",
   "metadata": {},
   "outputs": [
    {
     "data": {
      "text/plain": [
       "(12, 3)"
      ]
     },
     "execution_count": 3,
     "metadata": {},
     "output_type": "execute_result"
    }
   ],
   "source": [
    "df.shape # this dataframe has 12 rows and 3 columns"
   ]
  },
  {
   "cell_type": "markdown",
   "id": "b19c15d7",
   "metadata": {},
   "source": [
    "#### `df.columns`\n",
    "- this function lets us look at the names of the columns we have in the data\n",
    "- you can also use it to *set* column names too"
   ]
  },
  {
   "cell_type": "code",
   "execution_count": 4,
   "id": "96affa65",
   "metadata": {},
   "outputs": [
    {
     "data": {
      "text/plain": [
       "Index(['name', 'type', 'colour'], dtype='object')"
      ]
     },
     "metadata": {},
     "output_type": "display_data"
    },
    {
     "data": {
      "text/plain": [
       "Index(['Name', 'Type', 'Colour'], dtype='object')"
      ]
     },
     "metadata": {},
     "output_type": "display_data"
    }
   ],
   "source": [
    "display(df.columns)\n",
    "df.columns = ['Name', 'Type', 'Colour'] #we can pass a list (that has the same number of items as there are columns) and give the columns new names\n",
    "display(df.columns)"
   ]
  },
  {
   "cell_type": "markdown",
   "id": "6e8e1623",
   "metadata": {},
   "source": [
    "### Indexing dataframes\n",
    "- indexing describes how we subset specific parts of a dataframe, and can be done in a few different ways, namely:\n",
    "    - `df.loc[]`\n",
    "    - `df.iloc[]`\n",
    "    - `df.query()`\n",
    "    - `df.column_name`\n",
    "    - `df['column_name']`"
   ]
  },
  {
   "cell_type": "code",
   "execution_count": 5,
   "id": "91e71404",
   "metadata": {},
   "outputs": [
    {
     "data": {
      "text/plain": [
       "0       veg\n",
       "1       veg\n",
       "2     fruit\n",
       "3     fruit\n",
       "4     fruit\n",
       "5     fruit\n",
       "6       veg\n",
       "7       veg\n",
       "8       veg\n",
       "9     fruit\n",
       "10    fruit\n",
       "11    fruit\n",
       "Name: Type, dtype: object"
      ]
     },
     "metadata": {},
     "output_type": "display_data"
    }
   ],
   "source": [
    "# df.loc is primarily label based. we can use the names of columns to take specific columns, e.g.:\n",
    "#df.loc[:,'Type']\n",
    "display(df.loc[:,'Type'])\n",
    "# the : is a shorthand for 'all', and lets us select all rows observations of the 'Type' column"
   ]
  },
  {
   "cell_type": "code",
   "execution_count": 6,
   "id": "ad1def40",
   "metadata": {},
   "outputs": [
    {
     "data": {
      "text/plain": [
       "0      veg\n",
       "1      veg\n",
       "2    fruit\n",
       "3    fruit\n",
       "4    fruit\n",
       "Name: Type, dtype: object"
      ]
     },
     "execution_count": 6,
     "metadata": {},
     "output_type": "execute_result"
    }
   ],
   "source": [
    "df.loc[:4,'Type'] #you can also specify rows you want to see (like the first 5 rows)"
   ]
  },
  {
   "cell_type": "markdown",
   "id": "8be4aa7c",
   "metadata": {},
   "source": [
    "##### query allows us to _filter_ a dataframe and get only rows where a condition is met\n",
    "\n",
    "some caveats:\n",
    "- you need to pass a query (a request) to the function that comes as a string using quote marks `'`\n",
    "    - e.g. `df.query('Color == \"orange\"')`\n",
    "    - when you want to filter and your variable can be a string, you should put it in speech marks `\"` as above"
   ]
  },
  {
   "cell_type": "code",
   "execution_count": 7,
   "id": "2e18848e",
   "metadata": {},
   "outputs": [
    {
     "data": {
      "text/html": [
       "<div>\n",
       "<style scoped>\n",
       "    .dataframe tbody tr th:only-of-type {\n",
       "        vertical-align: middle;\n",
       "    }\n",
       "\n",
       "    .dataframe tbody tr th {\n",
       "        vertical-align: top;\n",
       "    }\n",
       "\n",
       "    .dataframe thead th {\n",
       "        text-align: right;\n",
       "    }\n",
       "</style>\n",
       "<table border=\"1\" class=\"dataframe\">\n",
       "  <thead>\n",
       "    <tr style=\"text-align: right;\">\n",
       "      <th></th>\n",
       "      <th>Name</th>\n",
       "      <th>Type</th>\n",
       "      <th>Colour</th>\n",
       "    </tr>\n",
       "  </thead>\n",
       "  <tbody>\n",
       "    <tr>\n",
       "      <th>2</th>\n",
       "      <td>orange</td>\n",
       "      <td>fruit</td>\n",
       "      <td>orange</td>\n",
       "    </tr>\n",
       "    <tr>\n",
       "      <th>7</th>\n",
       "      <td>carrot</td>\n",
       "      <td>veg</td>\n",
       "      <td>orange</td>\n",
       "    </tr>\n",
       "  </tbody>\n",
       "</table>\n",
       "</div>"
      ],
      "text/plain": [
       "     Name   Type  Colour\n",
       "2  orange  fruit  orange\n",
       "7  carrot    veg  orange"
      ]
     },
     "metadata": {},
     "output_type": "display_data"
    },
    {
     "data": {
      "text/html": [
       "<div>\n",
       "<style scoped>\n",
       "    .dataframe tbody tr th:only-of-type {\n",
       "        vertical-align: middle;\n",
       "    }\n",
       "\n",
       "    .dataframe tbody tr th {\n",
       "        vertical-align: top;\n",
       "    }\n",
       "\n",
       "    .dataframe thead th {\n",
       "        text-align: right;\n",
       "    }\n",
       "</style>\n",
       "<table border=\"1\" class=\"dataframe\">\n",
       "  <thead>\n",
       "    <tr style=\"text-align: right;\">\n",
       "      <th></th>\n",
       "      <th>Name</th>\n",
       "      <th>Type</th>\n",
       "      <th>Colour</th>\n",
       "    </tr>\n",
       "  </thead>\n",
       "  <tbody>\n",
       "    <tr>\n",
       "      <th>0</th>\n",
       "      <td>lettuce</td>\n",
       "      <td>veg</td>\n",
       "      <td>green</td>\n",
       "    </tr>\n",
       "    <tr>\n",
       "      <th>1</th>\n",
       "      <td>cucumber</td>\n",
       "      <td>veg</td>\n",
       "      <td>green</td>\n",
       "    </tr>\n",
       "    <tr>\n",
       "      <th>6</th>\n",
       "      <td>onion</td>\n",
       "      <td>veg</td>\n",
       "      <td>brown</td>\n",
       "    </tr>\n",
       "    <tr>\n",
       "      <th>7</th>\n",
       "      <td>carrot</td>\n",
       "      <td>veg</td>\n",
       "      <td>orange</td>\n",
       "    </tr>\n",
       "    <tr>\n",
       "      <th>8</th>\n",
       "      <td>potato</td>\n",
       "      <td>veg</td>\n",
       "      <td>white</td>\n",
       "    </tr>\n",
       "  </tbody>\n",
       "</table>\n",
       "</div>"
      ],
      "text/plain": [
       "       Name Type  Colour\n",
       "0   lettuce  veg   green\n",
       "1  cucumber  veg   green\n",
       "6     onion  veg   brown\n",
       "7    carrot  veg  orange\n",
       "8    potato  veg   white"
      ]
     },
     "metadata": {},
     "output_type": "display_data"
    }
   ],
   "source": [
    "display(df.query('Colour == \"orange\"'))\n",
    "display(df.query('Type == \"veg\"'))\n",
    "# this function will give you the subset of rows where your condition is met\n",
    "# it is nice for taking only parts of your data (e.g. only one value of a categorical variable)\n",
    "# or dropping all rows you want to exclude based on a column that marks things for removal"
   ]
  },
  {
   "cell_type": "markdown",
   "id": "033d481c",
   "metadata": {},
   "source": [
    "an alternative to this that you have already seen is using the `df[column_name]` syntax to subset the dataframe\n",
    "\n",
    "e.g. `df[df['Type'] == 'veg']`\n",
    "\n",
    "as you can see in the cell below, this is equivalent to using the inbuilt query function. The major drawbacks to this method are that there are more parts you can make mistakes on (brackets etc), and that pandas functions can be 'chained' and multiple used at the same time"
   ]
  },
  {
   "cell_type": "code",
   "execution_count": 8,
   "id": "084c8da6",
   "metadata": {},
   "outputs": [
    {
     "data": {
      "text/html": [
       "<div>\n",
       "<style scoped>\n",
       "    .dataframe tbody tr th:only-of-type {\n",
       "        vertical-align: middle;\n",
       "    }\n",
       "\n",
       "    .dataframe tbody tr th {\n",
       "        vertical-align: top;\n",
       "    }\n",
       "\n",
       "    .dataframe thead th {\n",
       "        text-align: right;\n",
       "    }\n",
       "</style>\n",
       "<table border=\"1\" class=\"dataframe\">\n",
       "  <thead>\n",
       "    <tr style=\"text-align: right;\">\n",
       "      <th></th>\n",
       "      <th>Name</th>\n",
       "      <th>Type</th>\n",
       "      <th>Colour</th>\n",
       "    </tr>\n",
       "  </thead>\n",
       "  <tbody>\n",
       "    <tr>\n",
       "      <th>0</th>\n",
       "      <td>lettuce</td>\n",
       "      <td>veg</td>\n",
       "      <td>green</td>\n",
       "    </tr>\n",
       "    <tr>\n",
       "      <th>1</th>\n",
       "      <td>cucumber</td>\n",
       "      <td>veg</td>\n",
       "      <td>green</td>\n",
       "    </tr>\n",
       "    <tr>\n",
       "      <th>6</th>\n",
       "      <td>onion</td>\n",
       "      <td>veg</td>\n",
       "      <td>brown</td>\n",
       "    </tr>\n",
       "    <tr>\n",
       "      <th>7</th>\n",
       "      <td>carrot</td>\n",
       "      <td>veg</td>\n",
       "      <td>orange</td>\n",
       "    </tr>\n",
       "    <tr>\n",
       "      <th>8</th>\n",
       "      <td>potato</td>\n",
       "      <td>veg</td>\n",
       "      <td>white</td>\n",
       "    </tr>\n",
       "  </tbody>\n",
       "</table>\n",
       "</div>"
      ],
      "text/plain": [
       "       Name Type  Colour\n",
       "0   lettuce  veg   green\n",
       "1  cucumber  veg   green\n",
       "6     onion  veg   brown\n",
       "7    carrot  veg  orange\n",
       "8    potato  veg   white"
      ]
     },
     "execution_count": 8,
     "metadata": {},
     "output_type": "execute_result"
    }
   ],
   "source": [
    "df[df['Type']=='veg']"
   ]
  },
  {
   "cell_type": "markdown",
   "id": "be7ed515",
   "metadata": {},
   "source": [
    "you can get variables from a specific column just using its column name\n",
    "- this takes it down from a 2-D data frame (rows x columns) to a _series_ or 1-D array"
   ]
  },
  {
   "cell_type": "code",
   "execution_count": 9,
   "id": "4cb44a31",
   "metadata": {},
   "outputs": [
    {
     "data": {
      "text/plain": [
       "0      green\n",
       "1      green\n",
       "2     orange\n",
       "3     yellow\n",
       "4      brown\n",
       "5        red\n",
       "6      brown\n",
       "7     orange\n",
       "8      white\n",
       "9      white\n",
       "10    purple\n",
       "11     green\n",
       "Name: Colour, dtype: object"
      ]
     },
     "metadata": {},
     "output_type": "display_data"
    },
    {
     "data": {
      "text/plain": [
       "(12,)"
      ]
     },
     "metadata": {},
     "output_type": "display_data"
    },
    {
     "data": {
      "text/plain": [
       "0     green\n",
       "1     green\n",
       "2    orange\n",
       "3    yellow\n",
       "4     brown\n",
       "Name: Colour, dtype: object"
      ]
     },
     "metadata": {},
     "output_type": "display_data"
    }
   ],
   "source": [
    "display(df.Colour) #it looks like a dataframe with just one column\n",
    "display(df.Colour.shape) #but when you look at its shape, there is only one dimension\n",
    "display(df.Colour[:5]) #and you can treat it like an array, getting specific values"
   ]
  },
  {
   "cell_type": "code",
   "execution_count": 10,
   "id": "eb92b26e",
   "metadata": {},
   "outputs": [
    {
     "data": {
      "text/plain": [
       "0      green\n",
       "1      green\n",
       "2     orange\n",
       "3     yellow\n",
       "4      brown\n",
       "5        red\n",
       "6      brown\n",
       "7     orange\n",
       "8      white\n",
       "9      white\n",
       "10    purple\n",
       "11     green\n",
       "Name: Colour, dtype: object"
      ]
     },
     "metadata": {},
     "output_type": "display_data"
    },
    {
     "data": {
      "text/plain": [
       "(12,)"
      ]
     },
     "metadata": {},
     "output_type": "display_data"
    },
    {
     "data": {
      "text/plain": [
       "0     green\n",
       "1     green\n",
       "2    orange\n",
       "3    yellow\n",
       "4     brown\n",
       "Name: Colour, dtype: object"
      ]
     },
     "metadata": {},
     "output_type": "display_data"
    }
   ],
   "source": [
    "display(df['Colour'])\n",
    "display(df['Colour'].shape)\n",
    "display(df['Colour'][:5])\n",
    "# as you can see, these are equivalent to the methods in the cell above"
   ]
  },
  {
   "cell_type": "markdown",
   "id": "20648bae",
   "metadata": {},
   "source": [
    "### Creating new columns\n",
    "\n",
    "There are two main ways of creating a new column:\n",
    "\n",
    "- `df['column_name'] = `\n",
    "- `df.assign`"
   ]
  },
  {
   "cell_type": "code",
   "execution_count": 11,
   "id": "d17b1d49",
   "metadata": {},
   "outputs": [
    {
     "data": {
      "text/html": [
       "<div>\n",
       "<style scoped>\n",
       "    .dataframe tbody tr th:only-of-type {\n",
       "        vertical-align: middle;\n",
       "    }\n",
       "\n",
       "    .dataframe tbody tr th {\n",
       "        vertical-align: top;\n",
       "    }\n",
       "\n",
       "    .dataframe thead th {\n",
       "        text-align: right;\n",
       "    }\n",
       "</style>\n",
       "<table border=\"1\" class=\"dataframe\">\n",
       "  <thead>\n",
       "    <tr style=\"text-align: right;\">\n",
       "      <th></th>\n",
       "      <th>Name</th>\n",
       "      <th>Type</th>\n",
       "      <th>Colour</th>\n",
       "      <th>length</th>\n",
       "    </tr>\n",
       "  </thead>\n",
       "  <tbody>\n",
       "    <tr>\n",
       "      <th>0</th>\n",
       "      <td>lettuce</td>\n",
       "      <td>veg</td>\n",
       "      <td>green</td>\n",
       "      <td>0</td>\n",
       "    </tr>\n",
       "    <tr>\n",
       "      <th>1</th>\n",
       "      <td>cucumber</td>\n",
       "      <td>veg</td>\n",
       "      <td>green</td>\n",
       "      <td>0</td>\n",
       "    </tr>\n",
       "    <tr>\n",
       "      <th>2</th>\n",
       "      <td>orange</td>\n",
       "      <td>fruit</td>\n",
       "      <td>orange</td>\n",
       "      <td>0</td>\n",
       "    </tr>\n",
       "    <tr>\n",
       "      <th>3</th>\n",
       "      <td>banana</td>\n",
       "      <td>fruit</td>\n",
       "      <td>yellow</td>\n",
       "      <td>0</td>\n",
       "    </tr>\n",
       "    <tr>\n",
       "      <th>4</th>\n",
       "      <td>kiwi</td>\n",
       "      <td>fruit</td>\n",
       "      <td>brown</td>\n",
       "      <td>0</td>\n",
       "    </tr>\n",
       "  </tbody>\n",
       "</table>\n",
       "</div>"
      ],
      "text/plain": [
       "       Name   Type  Colour  length\n",
       "0   lettuce    veg   green       0\n",
       "1  cucumber    veg   green       0\n",
       "2    orange  fruit  orange       0\n",
       "3    banana  fruit  yellow       0\n",
       "4      kiwi  fruit   brown       0"
      ]
     },
     "metadata": {},
     "output_type": "display_data"
    },
    {
     "data": {
      "text/html": [
       "<div>\n",
       "<style scoped>\n",
       "    .dataframe tbody tr th:only-of-type {\n",
       "        vertical-align: middle;\n",
       "    }\n",
       "\n",
       "    .dataframe tbody tr th {\n",
       "        vertical-align: top;\n",
       "    }\n",
       "\n",
       "    .dataframe thead th {\n",
       "        text-align: right;\n",
       "    }\n",
       "</style>\n",
       "<table border=\"1\" class=\"dataframe\">\n",
       "  <thead>\n",
       "    <tr style=\"text-align: right;\">\n",
       "      <th></th>\n",
       "      <th>Name</th>\n",
       "      <th>Type</th>\n",
       "      <th>Colour</th>\n",
       "      <th>length</th>\n",
       "    </tr>\n",
       "  </thead>\n",
       "  <tbody>\n",
       "    <tr>\n",
       "      <th>0</th>\n",
       "      <td>lettuce</td>\n",
       "      <td>veg</td>\n",
       "      <td>green</td>\n",
       "      <td>1</td>\n",
       "    </tr>\n",
       "    <tr>\n",
       "      <th>1</th>\n",
       "      <td>cucumber</td>\n",
       "      <td>veg</td>\n",
       "      <td>green</td>\n",
       "      <td>4</td>\n",
       "    </tr>\n",
       "    <tr>\n",
       "      <th>2</th>\n",
       "      <td>orange</td>\n",
       "      <td>fruit</td>\n",
       "      <td>orange</td>\n",
       "      <td>5</td>\n",
       "    </tr>\n",
       "    <tr>\n",
       "      <th>3</th>\n",
       "      <td>banana</td>\n",
       "      <td>fruit</td>\n",
       "      <td>yellow</td>\n",
       "      <td>6</td>\n",
       "    </tr>\n",
       "    <tr>\n",
       "      <th>4</th>\n",
       "      <td>kiwi</td>\n",
       "      <td>fruit</td>\n",
       "      <td>brown</td>\n",
       "      <td>2</td>\n",
       "    </tr>\n",
       "  </tbody>\n",
       "</table>\n",
       "</div>"
      ],
      "text/plain": [
       "       Name   Type  Colour  length\n",
       "0   lettuce    veg   green       1\n",
       "1  cucumber    veg   green       4\n",
       "2    orange  fruit  orange       5\n",
       "3    banana  fruit  yellow       6\n",
       "4      kiwi  fruit   brown       2"
      ]
     },
     "metadata": {},
     "output_type": "display_data"
    }
   ],
   "source": [
    "df['length'] = 0\n",
    "display(df.head())\n",
    "\n",
    "df['length'] = [1,4,5,6,2,4,3,0,1,4,3,2]\n",
    "display(df.head())\n",
    "#when specifying an array, it should have the same length as the number of rows in the dataframe"
   ]
  },
  {
   "cell_type": "markdown",
   "id": "422eeccd",
   "metadata": {},
   "source": [
    "#### Using `df.assign`\n",
    "\n",
    "with the `df.assign`, you specify the name and a value, for example:\n",
    "`df.assign(length = 0)` will create a new column called 'length' and set every value of it to 0\n",
    "\n",
    "overall, the syntax is: `df.assign(column_name = value_or_values)`"
   ]
  },
  {
   "cell_type": "code",
   "execution_count": 12,
   "id": "2698ae55",
   "metadata": {},
   "outputs": [
    {
     "data": {
      "text/html": [
       "<div>\n",
       "<style scoped>\n",
       "    .dataframe tbody tr th:only-of-type {\n",
       "        vertical-align: middle;\n",
       "    }\n",
       "\n",
       "    .dataframe tbody tr th {\n",
       "        vertical-align: top;\n",
       "    }\n",
       "\n",
       "    .dataframe thead th {\n",
       "        text-align: right;\n",
       "    }\n",
       "</style>\n",
       "<table border=\"1\" class=\"dataframe\">\n",
       "  <thead>\n",
       "    <tr style=\"text-align: right;\">\n",
       "      <th></th>\n",
       "      <th>Name</th>\n",
       "      <th>Type</th>\n",
       "      <th>Colour</th>\n",
       "      <th>length</th>\n",
       "      <th>length2</th>\n",
       "    </tr>\n",
       "  </thead>\n",
       "  <tbody>\n",
       "    <tr>\n",
       "      <th>0</th>\n",
       "      <td>lettuce</td>\n",
       "      <td>veg</td>\n",
       "      <td>green</td>\n",
       "      <td>1</td>\n",
       "      <td>0</td>\n",
       "    </tr>\n",
       "    <tr>\n",
       "      <th>1</th>\n",
       "      <td>cucumber</td>\n",
       "      <td>veg</td>\n",
       "      <td>green</td>\n",
       "      <td>4</td>\n",
       "      <td>0</td>\n",
       "    </tr>\n",
       "    <tr>\n",
       "      <th>2</th>\n",
       "      <td>orange</td>\n",
       "      <td>fruit</td>\n",
       "      <td>orange</td>\n",
       "      <td>5</td>\n",
       "      <td>0</td>\n",
       "    </tr>\n",
       "    <tr>\n",
       "      <th>3</th>\n",
       "      <td>banana</td>\n",
       "      <td>fruit</td>\n",
       "      <td>yellow</td>\n",
       "      <td>6</td>\n",
       "      <td>0</td>\n",
       "    </tr>\n",
       "    <tr>\n",
       "      <th>4</th>\n",
       "      <td>kiwi</td>\n",
       "      <td>fruit</td>\n",
       "      <td>brown</td>\n",
       "      <td>2</td>\n",
       "      <td>0</td>\n",
       "    </tr>\n",
       "  </tbody>\n",
       "</table>\n",
       "</div>"
      ],
      "text/plain": [
       "       Name   Type  Colour  length  length2\n",
       "0   lettuce    veg   green       1        0\n",
       "1  cucumber    veg   green       4        0\n",
       "2    orange  fruit  orange       5        0\n",
       "3    banana  fruit  yellow       6        0\n",
       "4      kiwi  fruit   brown       2        0"
      ]
     },
     "metadata": {},
     "output_type": "display_data"
    }
   ],
   "source": [
    "df = df.assign(length2 = 0)\n",
    "display(df.head())"
   ]
  },
  {
   "cell_type": "markdown",
   "id": "e5ce9ce2",
   "metadata": {},
   "source": [
    "rather than just giving the column one single value, we can also use `assign` and supply an array of values to put into our dataframe!\n",
    "\n",
    "this is nice if you are wanting to simulate data"
   ]
  },
  {
   "cell_type": "code",
   "execution_count": 13,
   "id": "2cbf65ba",
   "metadata": {},
   "outputs": [
    {
     "data": {
      "text/plain": [
       "array([ 9, 13, 13,  4, 15, 17,  5,  8, 19,  9, 18, 19])"
      ]
     },
     "metadata": {},
     "output_type": "display_data"
    },
    {
     "data": {
      "text/html": [
       "<div>\n",
       "<style scoped>\n",
       "    .dataframe tbody tr th:only-of-type {\n",
       "        vertical-align: middle;\n",
       "    }\n",
       "\n",
       "    .dataframe tbody tr th {\n",
       "        vertical-align: top;\n",
       "    }\n",
       "\n",
       "    .dataframe thead th {\n",
       "        text-align: right;\n",
       "    }\n",
       "</style>\n",
       "<table border=\"1\" class=\"dataframe\">\n",
       "  <thead>\n",
       "    <tr style=\"text-align: right;\">\n",
       "      <th></th>\n",
       "      <th>Name</th>\n",
       "      <th>Type</th>\n",
       "      <th>Colour</th>\n",
       "      <th>length</th>\n",
       "      <th>length2</th>\n",
       "    </tr>\n",
       "  </thead>\n",
       "  <tbody>\n",
       "    <tr>\n",
       "      <th>0</th>\n",
       "      <td>lettuce</td>\n",
       "      <td>veg</td>\n",
       "      <td>green</td>\n",
       "      <td>1</td>\n",
       "      <td>9</td>\n",
       "    </tr>\n",
       "    <tr>\n",
       "      <th>1</th>\n",
       "      <td>cucumber</td>\n",
       "      <td>veg</td>\n",
       "      <td>green</td>\n",
       "      <td>4</td>\n",
       "      <td>13</td>\n",
       "    </tr>\n",
       "    <tr>\n",
       "      <th>2</th>\n",
       "      <td>orange</td>\n",
       "      <td>fruit</td>\n",
       "      <td>orange</td>\n",
       "      <td>5</td>\n",
       "      <td>13</td>\n",
       "    </tr>\n",
       "    <tr>\n",
       "      <th>3</th>\n",
       "      <td>banana</td>\n",
       "      <td>fruit</td>\n",
       "      <td>yellow</td>\n",
       "      <td>6</td>\n",
       "      <td>4</td>\n",
       "    </tr>\n",
       "    <tr>\n",
       "      <th>4</th>\n",
       "      <td>kiwi</td>\n",
       "      <td>fruit</td>\n",
       "      <td>brown</td>\n",
       "      <td>2</td>\n",
       "      <td>15</td>\n",
       "    </tr>\n",
       "  </tbody>\n",
       "</table>\n",
       "</div>"
      ],
      "text/plain": [
       "       Name   Type  Colour  length  length2\n",
       "0   lettuce    veg   green       1        9\n",
       "1  cucumber    veg   green       4       13\n",
       "2    orange  fruit  orange       5       13\n",
       "3    banana  fruit  yellow       6        4\n",
       "4      kiwi  fruit   brown       2       15"
      ]
     },
     "metadata": {},
     "output_type": "display_data"
    }
   ],
   "source": [
    "lengths = np.random.randint(low = 1, high = 20, size = len(df))\n",
    "display(lengths) #we have created 12 random numbers to assign as the length of the foods\n",
    "\n",
    "df = df.assign(length2 = lengths) #we can now give each row these random numbers\n",
    "display(df.head())"
   ]
  },
  {
   "cell_type": "markdown",
   "id": "95a5b2c4",
   "metadata": {},
   "source": [
    "### Sampling from a dataframe (e.g. if bootstrapping)\n",
    "\n",
    "Pandas has an in-built function that allows you to sample from a dataframe: `df.sample()`\n",
    "\n",
    "With this function, you can either:\n",
    "- specify a number of rows to randomly sample using the 'n' option:\n",
    "    - e.g. `df.sample(n = 30)` will sample 30 random rows from the dataframe `df`\n",
    "- specify a fraction of the dataframe to sample using the 'frac' option:\n",
    "    - e.g. `df.sample(frac = 0.75)` will return 75% of rows, selected randomly\n",
    "\n",
    "Note: by default, this does not 'replace' a row once it's selected -- this prevents you from sampling the same row more than once."
   ]
  },
  {
   "cell_type": "code",
   "execution_count": 14,
   "id": "8f14ebb8",
   "metadata": {},
   "outputs": [
    {
     "data": {
      "text/html": [
       "<div>\n",
       "<style scoped>\n",
       "    .dataframe tbody tr th:only-of-type {\n",
       "        vertical-align: middle;\n",
       "    }\n",
       "\n",
       "    .dataframe tbody tr th {\n",
       "        vertical-align: top;\n",
       "    }\n",
       "\n",
       "    .dataframe thead th {\n",
       "        text-align: right;\n",
       "    }\n",
       "</style>\n",
       "<table border=\"1\" class=\"dataframe\">\n",
       "  <thead>\n",
       "    <tr style=\"text-align: right;\">\n",
       "      <th></th>\n",
       "      <th>Name</th>\n",
       "      <th>Type</th>\n",
       "      <th>Colour</th>\n",
       "      <th>length</th>\n",
       "      <th>length2</th>\n",
       "    </tr>\n",
       "  </thead>\n",
       "  <tbody>\n",
       "    <tr>\n",
       "      <th>6</th>\n",
       "      <td>onion</td>\n",
       "      <td>veg</td>\n",
       "      <td>brown</td>\n",
       "      <td>3</td>\n",
       "      <td>5</td>\n",
       "    </tr>\n",
       "    <tr>\n",
       "      <th>10</th>\n",
       "      <td>plum</td>\n",
       "      <td>fruit</td>\n",
       "      <td>purple</td>\n",
       "      <td>3</td>\n",
       "      <td>18</td>\n",
       "    </tr>\n",
       "    <tr>\n",
       "      <th>3</th>\n",
       "      <td>banana</td>\n",
       "      <td>fruit</td>\n",
       "      <td>yellow</td>\n",
       "      <td>6</td>\n",
       "      <td>4</td>\n",
       "    </tr>\n",
       "    <tr>\n",
       "      <th>2</th>\n",
       "      <td>orange</td>\n",
       "      <td>fruit</td>\n",
       "      <td>orange</td>\n",
       "      <td>5</td>\n",
       "      <td>13</td>\n",
       "    </tr>\n",
       "  </tbody>\n",
       "</table>\n",
       "</div>"
      ],
      "text/plain": [
       "      Name   Type  Colour  length  length2\n",
       "6    onion    veg   brown       3        5\n",
       "10    plum  fruit  purple       3       18\n",
       "3   banana  fruit  yellow       6        4\n",
       "2   orange  fruit  orange       5       13"
      ]
     },
     "execution_count": 14,
     "metadata": {},
     "output_type": "execute_result"
    }
   ],
   "source": [
    "df.sample(n=4) #selects 4 random rows to keep"
   ]
  },
  {
   "cell_type": "code",
   "execution_count": 15,
   "id": "ed0fd76d",
   "metadata": {},
   "outputs": [
    {
     "data": {
      "text/html": [
       "<div>\n",
       "<style scoped>\n",
       "    .dataframe tbody tr th:only-of-type {\n",
       "        vertical-align: middle;\n",
       "    }\n",
       "\n",
       "    .dataframe tbody tr th {\n",
       "        vertical-align: top;\n",
       "    }\n",
       "\n",
       "    .dataframe thead th {\n",
       "        text-align: right;\n",
       "    }\n",
       "</style>\n",
       "<table border=\"1\" class=\"dataframe\">\n",
       "  <thead>\n",
       "    <tr style=\"text-align: right;\">\n",
       "      <th></th>\n",
       "      <th>Name</th>\n",
       "      <th>Type</th>\n",
       "      <th>Colour</th>\n",
       "      <th>length</th>\n",
       "      <th>length2</th>\n",
       "    </tr>\n",
       "  </thead>\n",
       "  <tbody>\n",
       "    <tr>\n",
       "      <th>4</th>\n",
       "      <td>kiwi</td>\n",
       "      <td>fruit</td>\n",
       "      <td>brown</td>\n",
       "      <td>2</td>\n",
       "      <td>15</td>\n",
       "    </tr>\n",
       "    <tr>\n",
       "      <th>1</th>\n",
       "      <td>cucumber</td>\n",
       "      <td>veg</td>\n",
       "      <td>green</td>\n",
       "      <td>4</td>\n",
       "      <td>13</td>\n",
       "    </tr>\n",
       "    <tr>\n",
       "      <th>8</th>\n",
       "      <td>potato</td>\n",
       "      <td>veg</td>\n",
       "      <td>white</td>\n",
       "      <td>1</td>\n",
       "      <td>19</td>\n",
       "    </tr>\n",
       "    <tr>\n",
       "      <th>0</th>\n",
       "      <td>lettuce</td>\n",
       "      <td>veg</td>\n",
       "      <td>green</td>\n",
       "      <td>1</td>\n",
       "      <td>9</td>\n",
       "    </tr>\n",
       "  </tbody>\n",
       "</table>\n",
       "</div>"
      ],
      "text/plain": [
       "       Name   Type Colour  length  length2\n",
       "4      kiwi  fruit  brown       2       15\n",
       "1  cucumber    veg  green       4       13\n",
       "8    potato    veg  white       1       19\n",
       "0   lettuce    veg  green       1        9"
      ]
     },
     "execution_count": 15,
     "metadata": {},
     "output_type": "execute_result"
    }
   ],
   "source": [
    "df.sample(frac = 0.3) #selects 30% of rows (in this case, 4 rows) to keep"
   ]
  },
  {
   "cell_type": "markdown",
   "id": "9fc1aeb3",
   "metadata": {},
   "source": [
    "## Grouping data"
   ]
  },
  {
   "cell_type": "markdown",
   "id": "29a6253b",
   "metadata": {},
   "source": [
    "Grouping data is important to do. It allows us to group data that are similar along a dimension (for example, group parts of our dataset by their type - veg or fruit) and do something with that grouped data\n",
    "\n",
    "In practice, this is useful in psychology experiments as it allows us to do the same thing across many participants by grouping based on a participant ID. When analysing other types of data, it helps us get statistics by grouping based on categorical variables"
   ]
  },
  {
   "cell_type": "markdown",
   "id": "e060a8da",
   "metadata": {},
   "source": [
    "`df.groupby` has some important syntax that is useful to understand:\n",
    "- `by` : the columns which you want to group by. this can be a single column (e.g. `df.groupby('Type')` or a list of columns (e.g. `df.groupby(['Type', 'Colour'])`). \n",
    "    - Note that if you are grouping by multiple variables, you need to put them in a list!\n",
    "- `as_index` : this specifies whether the grouping variables are stored as row indices (probably not ideal).\n",
    "    - By default this is set to 'True', but you will more often than not want to specify that this is infact `False`\n",
    "    - By setting it to False, the values of your grouping variable are included as *columns* in your data which makes it much easier for plotting. _**This is more useful for what you are doing**_\n",
    "\n",
    "calling `df.groupby()` won't return something you can view easily, but gives you something you can do things with (see below)"
   ]
  },
  {
   "cell_type": "code",
   "execution_count": 16,
   "id": "6f8691dc",
   "metadata": {},
   "outputs": [
    {
     "data": {
      "text/plain": [
       "<pandas.core.groupby.generic.DataFrameGroupBy object at 0x7fcd6e505f40>"
      ]
     },
     "execution_count": 16,
     "metadata": {},
     "output_type": "execute_result"
    }
   ],
   "source": [
    "df.groupby('Type')"
   ]
  },
  {
   "cell_type": "code",
   "execution_count": 17,
   "id": "ad0f1f34",
   "metadata": {},
   "outputs": [
    {
     "data": {
      "text/plain": [
       "Type\n",
       "fruit    7\n",
       "veg      5\n",
       "dtype: int64"
      ]
     },
     "execution_count": 17,
     "metadata": {},
     "output_type": "execute_result"
    }
   ],
   "source": [
    "df.groupby('Type').size() #we can group by type, and see how many instances of the veg/fruit types we have"
   ]
  },
  {
   "cell_type": "code",
   "execution_count": 18,
   "id": "1ae08509",
   "metadata": {},
   "outputs": [
    {
     "data": {
      "text/plain": [
       "Type   Colour\n",
       "fruit  brown     1\n",
       "       green     1\n",
       "       orange    1\n",
       "       purple    1\n",
       "       red       1\n",
       "       white     1\n",
       "       yellow    1\n",
       "veg    brown     1\n",
       "       green     2\n",
       "       orange    1\n",
       "       white     1\n",
       "dtype: int64"
      ]
     },
     "metadata": {},
     "output_type": "display_data"
    },
    {
     "ename": "AttributeError",
     "evalue": "'Series' object has no attribute 'columns'",
     "output_type": "error",
     "traceback": [
      "\u001b[0;31m---------------------------------------------------------------------------\u001b[0m",
      "\u001b[0;31mAttributeError\u001b[0m                            Traceback (most recent call last)",
      "\u001b[0;32m/var/folders/q4/twg1yll54y142rc02m5wwbt40000gr/T/ipykernel_57161/2378309076.py\u001b[0m in \u001b[0;36m<module>\u001b[0;34m\u001b[0m\n\u001b[1;32m      1\u001b[0m \u001b[0mdisplay\u001b[0m\u001b[0;34m(\u001b[0m\u001b[0mdf\u001b[0m\u001b[0;34m.\u001b[0m\u001b[0mgroupby\u001b[0m\u001b[0;34m(\u001b[0m\u001b[0;34m[\u001b[0m\u001b[0;34m'Type'\u001b[0m\u001b[0;34m,\u001b[0m \u001b[0;34m'Colour'\u001b[0m\u001b[0;34m]\u001b[0m\u001b[0;34m)\u001b[0m\u001b[0;34m.\u001b[0m\u001b[0msize\u001b[0m\u001b[0;34m(\u001b[0m\u001b[0;34m)\u001b[0m\u001b[0;34m)\u001b[0m\u001b[0;34m\u001b[0m\u001b[0;34m\u001b[0m\u001b[0m\n\u001b[0;32m----> 2\u001b[0;31m \u001b[0mdf\u001b[0m\u001b[0;34m.\u001b[0m\u001b[0mgroupby\u001b[0m\u001b[0;34m(\u001b[0m\u001b[0;34m[\u001b[0m\u001b[0;34m'Type'\u001b[0m\u001b[0;34m,\u001b[0m \u001b[0;34m'Colour'\u001b[0m\u001b[0;34m]\u001b[0m\u001b[0;34m)\u001b[0m\u001b[0;34m.\u001b[0m\u001b[0msize\u001b[0m\u001b[0;34m(\u001b[0m\u001b[0;34m)\u001b[0m\u001b[0;34m.\u001b[0m\u001b[0mcolumns\u001b[0m\u001b[0;34m\u001b[0m\u001b[0;34m\u001b[0m\u001b[0m\n\u001b[0m\u001b[1;32m      3\u001b[0m \u001b[0;31m# as you can see, this spits out an error because 'Type' and 'Colour' are indices not columns\u001b[0m\u001b[0;34m\u001b[0m\u001b[0;34m\u001b[0m\u001b[0m\n\u001b[1;32m      4\u001b[0m \u001b[0;31m# the actual output displayed is a pandas series, not a dataframe\u001b[0m\u001b[0;34m\u001b[0m\u001b[0;34m\u001b[0m\u001b[0m\n",
      "\u001b[0;32m~/opt/anaconda3/lib/python3.9/site-packages/pandas/core/generic.py\u001b[0m in \u001b[0;36m__getattr__\u001b[0;34m(self, name)\u001b[0m\n\u001b[1;32m   5573\u001b[0m         ):\n\u001b[1;32m   5574\u001b[0m             \u001b[0;32mreturn\u001b[0m \u001b[0mself\u001b[0m\u001b[0;34m[\u001b[0m\u001b[0mname\u001b[0m\u001b[0;34m]\u001b[0m\u001b[0;34m\u001b[0m\u001b[0;34m\u001b[0m\u001b[0m\n\u001b[0;32m-> 5575\u001b[0;31m         \u001b[0;32mreturn\u001b[0m \u001b[0mobject\u001b[0m\u001b[0;34m.\u001b[0m\u001b[0m__getattribute__\u001b[0m\u001b[0;34m(\u001b[0m\u001b[0mself\u001b[0m\u001b[0;34m,\u001b[0m \u001b[0mname\u001b[0m\u001b[0;34m)\u001b[0m\u001b[0;34m\u001b[0m\u001b[0;34m\u001b[0m\u001b[0m\n\u001b[0m\u001b[1;32m   5576\u001b[0m \u001b[0;34m\u001b[0m\u001b[0m\n\u001b[1;32m   5577\u001b[0m     \u001b[0;32mdef\u001b[0m \u001b[0m__setattr__\u001b[0m\u001b[0;34m(\u001b[0m\u001b[0mself\u001b[0m\u001b[0;34m,\u001b[0m \u001b[0mname\u001b[0m\u001b[0;34m:\u001b[0m \u001b[0mstr\u001b[0m\u001b[0;34m,\u001b[0m \u001b[0mvalue\u001b[0m\u001b[0;34m)\u001b[0m \u001b[0;34m->\u001b[0m \u001b[0;32mNone\u001b[0m\u001b[0;34m:\u001b[0m\u001b[0;34m\u001b[0m\u001b[0;34m\u001b[0m\u001b[0m\n",
      "\u001b[0;31mAttributeError\u001b[0m: 'Series' object has no attribute 'columns'"
     ]
    }
   ],
   "source": [
    "display(df.groupby(['Type', 'Colour']).size())\n",
    "df.groupby(['Type', 'Colour']).size().columns\n",
    "# as you can see, this spits out an error because 'Type' and 'Colour' are indices not columns\n",
    "# the actual output displayed is a pandas series, not a dataframe\n"
   ]
  },
  {
   "cell_type": "code",
   "execution_count": 19,
   "id": "a9afabc8",
   "metadata": {},
   "outputs": [
    {
     "data": {
      "text/html": [
       "<div>\n",
       "<style scoped>\n",
       "    .dataframe tbody tr th:only-of-type {\n",
       "        vertical-align: middle;\n",
       "    }\n",
       "\n",
       "    .dataframe tbody tr th {\n",
       "        vertical-align: top;\n",
       "    }\n",
       "\n",
       "    .dataframe thead th {\n",
       "        text-align: right;\n",
       "    }\n",
       "</style>\n",
       "<table border=\"1\" class=\"dataframe\">\n",
       "  <thead>\n",
       "    <tr style=\"text-align: right;\">\n",
       "      <th></th>\n",
       "      <th>Type</th>\n",
       "      <th>Colour</th>\n",
       "      <th>size</th>\n",
       "    </tr>\n",
       "  </thead>\n",
       "  <tbody>\n",
       "    <tr>\n",
       "      <th>0</th>\n",
       "      <td>fruit</td>\n",
       "      <td>brown</td>\n",
       "      <td>1</td>\n",
       "    </tr>\n",
       "    <tr>\n",
       "      <th>1</th>\n",
       "      <td>fruit</td>\n",
       "      <td>green</td>\n",
       "      <td>1</td>\n",
       "    </tr>\n",
       "    <tr>\n",
       "      <th>2</th>\n",
       "      <td>fruit</td>\n",
       "      <td>orange</td>\n",
       "      <td>1</td>\n",
       "    </tr>\n",
       "    <tr>\n",
       "      <th>3</th>\n",
       "      <td>fruit</td>\n",
       "      <td>purple</td>\n",
       "      <td>1</td>\n",
       "    </tr>\n",
       "    <tr>\n",
       "      <th>4</th>\n",
       "      <td>fruit</td>\n",
       "      <td>red</td>\n",
       "      <td>1</td>\n",
       "    </tr>\n",
       "    <tr>\n",
       "      <th>5</th>\n",
       "      <td>fruit</td>\n",
       "      <td>white</td>\n",
       "      <td>1</td>\n",
       "    </tr>\n",
       "    <tr>\n",
       "      <th>6</th>\n",
       "      <td>fruit</td>\n",
       "      <td>yellow</td>\n",
       "      <td>1</td>\n",
       "    </tr>\n",
       "    <tr>\n",
       "      <th>7</th>\n",
       "      <td>veg</td>\n",
       "      <td>brown</td>\n",
       "      <td>1</td>\n",
       "    </tr>\n",
       "    <tr>\n",
       "      <th>8</th>\n",
       "      <td>veg</td>\n",
       "      <td>green</td>\n",
       "      <td>2</td>\n",
       "    </tr>\n",
       "    <tr>\n",
       "      <th>9</th>\n",
       "      <td>veg</td>\n",
       "      <td>orange</td>\n",
       "      <td>1</td>\n",
       "    </tr>\n",
       "    <tr>\n",
       "      <th>10</th>\n",
       "      <td>veg</td>\n",
       "      <td>white</td>\n",
       "      <td>1</td>\n",
       "    </tr>\n",
       "  </tbody>\n",
       "</table>\n",
       "</div>"
      ],
      "text/plain": [
       "     Type  Colour  size\n",
       "0   fruit   brown     1\n",
       "1   fruit   green     1\n",
       "2   fruit  orange     1\n",
       "3   fruit  purple     1\n",
       "4   fruit     red     1\n",
       "5   fruit   white     1\n",
       "6   fruit  yellow     1\n",
       "7     veg   brown     1\n",
       "8     veg   green     2\n",
       "9     veg  orange     1\n",
       "10    veg   white     1"
      ]
     },
     "metadata": {},
     "output_type": "display_data"
    },
    {
     "data": {
      "text/plain": [
       "Index(['Type', 'Colour', 'size'], dtype='object')"
      ]
     },
     "execution_count": 19,
     "metadata": {},
     "output_type": "execute_result"
    }
   ],
   "source": [
    "display(df.groupby(['Type', 'Colour'], as_index=False).size())\n",
    "# this outputs a dataframe, where we can see that type and colour are left in as columns instead.\n",
    "df.groupby(['Type', 'Colour'], as_index=False).size().columns # and we can see that they are columns\n",
    "\n",
    "#so generally when using the 'groupby' function, make sure to set as_index = False"
   ]
  },
  {
   "cell_type": "markdown",
   "id": "3bb62581",
   "metadata": {},
   "source": [
    "## Aggregating data\n",
    "\n",
    "This describes how we can apply a function over our data, creating aggregate (summary) measures. You have done this already by now, getting the mean of a variable, for example.\n",
    "\n",
    "Some functions are relatively straightforward based on their name, and there is a slightly different (but potentially more useful) way of doing it too:\n",
    "\n",
    "- `df.mean()`   -  gets the mean\n",
    "- `df.median()` - gets the median\n",
    "- `df.var()` - gets the variance\n",
    "- `df.std()` - gets the standard deviation\n",
    "- `df.min()` - gets the minimum value\n",
    "- `df.max()` - gets the maximum value\n",
    "- `df.describe()` - gets descriptive statistics across a variety of data types, good for a first look\n",
    "    - this by default only takes numeric variables, but you can summarise others by using `df.describe(include='all')` \n",
    "\n",
    "some of these functions won't work on some data types (for example, mean will not work on string values). These functions work well with the `groupby` function too!"
   ]
  },
  {
   "cell_type": "code",
   "execution_count": 20,
   "id": "2d5f6358",
   "metadata": {},
   "outputs": [
    {
     "name": "stderr",
     "output_type": "stream",
     "text": [
      "/var/folders/q4/twg1yll54y142rc02m5wwbt40000gr/T/ipykernel_57161/2665821020.py:1: FutureWarning: Dropping of nuisance columns in DataFrame reductions (with 'numeric_only=None') is deprecated; in a future version this will raise TypeError.  Select only valid columns before calling the reduction.\n",
      "  display(df.mean()) #see that this cuts out non-numeric variables :(\n"
     ]
    },
    {
     "data": {
      "text/plain": [
       "length      2.916667\n",
       "length2    12.416667\n",
       "dtype: float64"
      ]
     },
     "metadata": {},
     "output_type": "display_data"
    }
   ],
   "source": [
    "display(df.mean()) #see that this cuts out non-numeric variables :("
   ]
  },
  {
   "cell_type": "code",
   "execution_count": 21,
   "id": "db224e9d",
   "metadata": {},
   "outputs": [
    {
     "data": {
      "text/html": [
       "<div>\n",
       "<style scoped>\n",
       "    .dataframe tbody tr th:only-of-type {\n",
       "        vertical-align: middle;\n",
       "    }\n",
       "\n",
       "    .dataframe tbody tr th {\n",
       "        vertical-align: top;\n",
       "    }\n",
       "\n",
       "    .dataframe thead th {\n",
       "        text-align: right;\n",
       "    }\n",
       "</style>\n",
       "<table border=\"1\" class=\"dataframe\">\n",
       "  <thead>\n",
       "    <tr style=\"text-align: right;\">\n",
       "      <th></th>\n",
       "      <th>length</th>\n",
       "      <th>length2</th>\n",
       "    </tr>\n",
       "  </thead>\n",
       "  <tbody>\n",
       "    <tr>\n",
       "      <th>count</th>\n",
       "      <td>12.000000</td>\n",
       "      <td>12.000000</td>\n",
       "    </tr>\n",
       "    <tr>\n",
       "      <th>mean</th>\n",
       "      <td>2.916667</td>\n",
       "      <td>12.416667</td>\n",
       "    </tr>\n",
       "    <tr>\n",
       "      <th>std</th>\n",
       "      <td>1.781640</td>\n",
       "      <td>5.350588</td>\n",
       "    </tr>\n",
       "    <tr>\n",
       "      <th>min</th>\n",
       "      <td>0.000000</td>\n",
       "      <td>4.000000</td>\n",
       "    </tr>\n",
       "    <tr>\n",
       "      <th>25%</th>\n",
       "      <td>1.750000</td>\n",
       "      <td>8.750000</td>\n",
       "    </tr>\n",
       "    <tr>\n",
       "      <th>50%</th>\n",
       "      <td>3.000000</td>\n",
       "      <td>13.000000</td>\n",
       "    </tr>\n",
       "    <tr>\n",
       "      <th>75%</th>\n",
       "      <td>4.000000</td>\n",
       "      <td>17.250000</td>\n",
       "    </tr>\n",
       "    <tr>\n",
       "      <th>max</th>\n",
       "      <td>6.000000</td>\n",
       "      <td>19.000000</td>\n",
       "    </tr>\n",
       "  </tbody>\n",
       "</table>\n",
       "</div>"
      ],
      "text/plain": [
       "          length    length2\n",
       "count  12.000000  12.000000\n",
       "mean    2.916667  12.416667\n",
       "std     1.781640   5.350588\n",
       "min     0.000000   4.000000\n",
       "25%     1.750000   8.750000\n",
       "50%     3.000000  13.000000\n",
       "75%     4.000000  17.250000\n",
       "max     6.000000  19.000000"
      ]
     },
     "metadata": {},
     "output_type": "display_data"
    },
    {
     "data": {
      "text/html": [
       "<div>\n",
       "<style scoped>\n",
       "    .dataframe tbody tr th:only-of-type {\n",
       "        vertical-align: middle;\n",
       "    }\n",
       "\n",
       "    .dataframe tbody tr th {\n",
       "        vertical-align: top;\n",
       "    }\n",
       "\n",
       "    .dataframe thead th {\n",
       "        text-align: right;\n",
       "    }\n",
       "</style>\n",
       "<table border=\"1\" class=\"dataframe\">\n",
       "  <thead>\n",
       "    <tr style=\"text-align: right;\">\n",
       "      <th></th>\n",
       "      <th>Name</th>\n",
       "      <th>Type</th>\n",
       "      <th>Colour</th>\n",
       "      <th>length</th>\n",
       "      <th>length2</th>\n",
       "    </tr>\n",
       "  </thead>\n",
       "  <tbody>\n",
       "    <tr>\n",
       "      <th>count</th>\n",
       "      <td>12</td>\n",
       "      <td>12</td>\n",
       "      <td>12</td>\n",
       "      <td>12.000000</td>\n",
       "      <td>12.000000</td>\n",
       "    </tr>\n",
       "    <tr>\n",
       "      <th>unique</th>\n",
       "      <td>12</td>\n",
       "      <td>2</td>\n",
       "      <td>7</td>\n",
       "      <td>NaN</td>\n",
       "      <td>NaN</td>\n",
       "    </tr>\n",
       "    <tr>\n",
       "      <th>top</th>\n",
       "      <td>lettuce</td>\n",
       "      <td>fruit</td>\n",
       "      <td>green</td>\n",
       "      <td>NaN</td>\n",
       "      <td>NaN</td>\n",
       "    </tr>\n",
       "    <tr>\n",
       "      <th>freq</th>\n",
       "      <td>1</td>\n",
       "      <td>7</td>\n",
       "      <td>3</td>\n",
       "      <td>NaN</td>\n",
       "      <td>NaN</td>\n",
       "    </tr>\n",
       "    <tr>\n",
       "      <th>mean</th>\n",
       "      <td>NaN</td>\n",
       "      <td>NaN</td>\n",
       "      <td>NaN</td>\n",
       "      <td>2.916667</td>\n",
       "      <td>12.416667</td>\n",
       "    </tr>\n",
       "    <tr>\n",
       "      <th>std</th>\n",
       "      <td>NaN</td>\n",
       "      <td>NaN</td>\n",
       "      <td>NaN</td>\n",
       "      <td>1.781640</td>\n",
       "      <td>5.350588</td>\n",
       "    </tr>\n",
       "    <tr>\n",
       "      <th>min</th>\n",
       "      <td>NaN</td>\n",
       "      <td>NaN</td>\n",
       "      <td>NaN</td>\n",
       "      <td>0.000000</td>\n",
       "      <td>4.000000</td>\n",
       "    </tr>\n",
       "    <tr>\n",
       "      <th>25%</th>\n",
       "      <td>NaN</td>\n",
       "      <td>NaN</td>\n",
       "      <td>NaN</td>\n",
       "      <td>1.750000</td>\n",
       "      <td>8.750000</td>\n",
       "    </tr>\n",
       "    <tr>\n",
       "      <th>50%</th>\n",
       "      <td>NaN</td>\n",
       "      <td>NaN</td>\n",
       "      <td>NaN</td>\n",
       "      <td>3.000000</td>\n",
       "      <td>13.000000</td>\n",
       "    </tr>\n",
       "    <tr>\n",
       "      <th>75%</th>\n",
       "      <td>NaN</td>\n",
       "      <td>NaN</td>\n",
       "      <td>NaN</td>\n",
       "      <td>4.000000</td>\n",
       "      <td>17.250000</td>\n",
       "    </tr>\n",
       "    <tr>\n",
       "      <th>max</th>\n",
       "      <td>NaN</td>\n",
       "      <td>NaN</td>\n",
       "      <td>NaN</td>\n",
       "      <td>6.000000</td>\n",
       "      <td>19.000000</td>\n",
       "    </tr>\n",
       "  </tbody>\n",
       "</table>\n",
       "</div>"
      ],
      "text/plain": [
       "           Name   Type Colour     length    length2\n",
       "count        12     12     12  12.000000  12.000000\n",
       "unique       12      2      7        NaN        NaN\n",
       "top     lettuce  fruit  green        NaN        NaN\n",
       "freq          1      7      3        NaN        NaN\n",
       "mean        NaN    NaN    NaN   2.916667  12.416667\n",
       "std         NaN    NaN    NaN   1.781640   5.350588\n",
       "min         NaN    NaN    NaN   0.000000   4.000000\n",
       "25%         NaN    NaN    NaN   1.750000   8.750000\n",
       "50%         NaN    NaN    NaN   3.000000  13.000000\n",
       "75%         NaN    NaN    NaN   4.000000  17.250000\n",
       "max         NaN    NaN    NaN   6.000000  19.000000"
      ]
     },
     "metadata": {},
     "output_type": "display_data"
    }
   ],
   "source": [
    "display(df.describe()) #by default this excludes non-numeric variables\n",
    "display(df.describe(include='all')) #but we can add them in if we want, and get some other info from them"
   ]
  },
  {
   "cell_type": "markdown",
   "id": "7d62259f",
   "metadata": {},
   "source": [
    "### Using `df.agg`\n",
    "\n",
    "`df.agg` allows you to use different functions on different columns if you wanted to, or apply multiple functions to the same column. this is quite useful to get different statistics in one line of code\n",
    "\n",
    "This function uses a 'dictionary' object to do so, and follows this general pattern:\n",
    "\n",
    "`df.agg( {'column_name':'function'} )`\n",
    "\n",
    "or\n",
    "\n",
    "`df.agg( {'column_name':['list', 'of', 'functions']} )`\n",
    "\n",
    "`df.acc( {'column1':'function1', 'column2':'function2} )`"
   ]
  },
  {
   "cell_type": "code",
   "execution_count": 22,
   "id": "97fd1672",
   "metadata": {},
   "outputs": [
    {
     "data": {
      "text/plain": [
       "length    2.916667\n",
       "dtype: float64"
      ]
     },
     "execution_count": 22,
     "metadata": {},
     "output_type": "execute_result"
    }
   ],
   "source": [
    "df.agg({'length':'mean'}) #this will output just the mean length across all rows"
   ]
  },
  {
   "cell_type": "code",
   "execution_count": 23,
   "id": "7cab8789",
   "metadata": {},
   "outputs": [
    {
     "data": {
      "text/html": [
       "<div>\n",
       "<style scoped>\n",
       "    .dataframe tbody tr th:only-of-type {\n",
       "        vertical-align: middle;\n",
       "    }\n",
       "\n",
       "    .dataframe tbody tr th {\n",
       "        vertical-align: top;\n",
       "    }\n",
       "\n",
       "    .dataframe thead th {\n",
       "        text-align: right;\n",
       "    }\n",
       "</style>\n",
       "<table border=\"1\" class=\"dataframe\">\n",
       "  <thead>\n",
       "    <tr style=\"text-align: right;\">\n",
       "      <th></th>\n",
       "      <th>length</th>\n",
       "    </tr>\n",
       "  </thead>\n",
       "  <tbody>\n",
       "    <tr>\n",
       "      <th>mean</th>\n",
       "      <td>2.916667</td>\n",
       "    </tr>\n",
       "    <tr>\n",
       "      <th>std</th>\n",
       "      <td>1.781640</td>\n",
       "    </tr>\n",
       "    <tr>\n",
       "      <th>count</th>\n",
       "      <td>12.000000</td>\n",
       "    </tr>\n",
       "  </tbody>\n",
       "</table>\n",
       "</div>"
      ],
      "text/plain": [
       "          length\n",
       "mean    2.916667\n",
       "std     1.781640\n",
       "count  12.000000"
      ]
     },
     "execution_count": 23,
     "metadata": {},
     "output_type": "execute_result"
    }
   ],
   "source": [
    "df.agg({'length':['mean', 'std', 'count']})"
   ]
  },
  {
   "cell_type": "code",
   "execution_count": 24,
   "id": "d42f6cad",
   "metadata": {},
   "outputs": [
    {
     "data": {
      "text/plain": [
       "length                                             2.916667\n",
       "Colour    [green, orange, yellow, brown, red, white, pur...\n",
       "dtype: object"
      ]
     },
     "execution_count": 24,
     "metadata": {},
     "output_type": "execute_result"
    }
   ],
   "source": [
    "df.agg( {'length':'mean', 'Colour':'unique'} )\n",
    "\n",
    "# for length it tells us the mean length of all items\n",
    "# for Colour, it outputs the unique values found in that column (not that useful for now, but highlights the point)"
   ]
  },
  {
   "cell_type": "markdown",
   "id": "02695671",
   "metadata": {},
   "source": [
    "both types of function work well in conjunction with `df.groupby`, but `agg` gives you more options where necessary\n"
   ]
  },
  {
   "cell_type": "code",
   "execution_count": 25,
   "id": "3d883f31",
   "metadata": {},
   "outputs": [
    {
     "data": {
      "text/html": [
       "<div>\n",
       "<style scoped>\n",
       "    .dataframe tbody tr th:only-of-type {\n",
       "        vertical-align: middle;\n",
       "    }\n",
       "\n",
       "    .dataframe tbody tr th {\n",
       "        vertical-align: top;\n",
       "    }\n",
       "\n",
       "    .dataframe thead th {\n",
       "        text-align: right;\n",
       "    }\n",
       "</style>\n",
       "<table border=\"1\" class=\"dataframe\">\n",
       "  <thead>\n",
       "    <tr style=\"text-align: right;\">\n",
       "      <th></th>\n",
       "      <th>length</th>\n",
       "      <th>length2</th>\n",
       "    </tr>\n",
       "    <tr>\n",
       "      <th>Colour</th>\n",
       "      <th></th>\n",
       "      <th></th>\n",
       "    </tr>\n",
       "  </thead>\n",
       "  <tbody>\n",
       "    <tr>\n",
       "      <th>brown</th>\n",
       "      <td>2.500000</td>\n",
       "      <td>10.000000</td>\n",
       "    </tr>\n",
       "    <tr>\n",
       "      <th>green</th>\n",
       "      <td>2.333333</td>\n",
       "      <td>13.666667</td>\n",
       "    </tr>\n",
       "    <tr>\n",
       "      <th>orange</th>\n",
       "      <td>2.500000</td>\n",
       "      <td>10.500000</td>\n",
       "    </tr>\n",
       "    <tr>\n",
       "      <th>purple</th>\n",
       "      <td>3.000000</td>\n",
       "      <td>18.000000</td>\n",
       "    </tr>\n",
       "    <tr>\n",
       "      <th>red</th>\n",
       "      <td>4.000000</td>\n",
       "      <td>17.000000</td>\n",
       "    </tr>\n",
       "    <tr>\n",
       "      <th>white</th>\n",
       "      <td>2.500000</td>\n",
       "      <td>14.000000</td>\n",
       "    </tr>\n",
       "    <tr>\n",
       "      <th>yellow</th>\n",
       "      <td>6.000000</td>\n",
       "      <td>4.000000</td>\n",
       "    </tr>\n",
       "  </tbody>\n",
       "</table>\n",
       "</div>"
      ],
      "text/plain": [
       "          length    length2\n",
       "Colour                     \n",
       "brown   2.500000  10.000000\n",
       "green   2.333333  13.666667\n",
       "orange  2.500000  10.500000\n",
       "purple  3.000000  18.000000\n",
       "red     4.000000  17.000000\n",
       "white   2.500000  14.000000\n",
       "yellow  6.000000   4.000000"
      ]
     },
     "execution_count": 25,
     "metadata": {},
     "output_type": "execute_result"
    }
   ],
   "source": [
    "df.groupby('Colour').mean()"
   ]
  },
  {
   "cell_type": "code",
   "execution_count": 26,
   "id": "574ffd24",
   "metadata": {},
   "outputs": [
    {
     "data": {
      "text/html": [
       "<div>\n",
       "<style scoped>\n",
       "    .dataframe tbody tr th:only-of-type {\n",
       "        vertical-align: middle;\n",
       "    }\n",
       "\n",
       "    .dataframe tbody tr th {\n",
       "        vertical-align: top;\n",
       "    }\n",
       "\n",
       "    .dataframe thead tr th {\n",
       "        text-align: left;\n",
       "    }\n",
       "</style>\n",
       "<table border=\"1\" class=\"dataframe\">\n",
       "  <thead>\n",
       "    <tr>\n",
       "      <th></th>\n",
       "      <th>Colour</th>\n",
       "      <th colspan=\"4\" halign=\"left\">length</th>\n",
       "    </tr>\n",
       "    <tr>\n",
       "      <th></th>\n",
       "      <th></th>\n",
       "      <th>mean</th>\n",
       "      <th>std</th>\n",
       "      <th>var</th>\n",
       "      <th>std</th>\n",
       "    </tr>\n",
       "  </thead>\n",
       "  <tbody>\n",
       "    <tr>\n",
       "      <th>0</th>\n",
       "      <td>brown</td>\n",
       "      <td>2.500000</td>\n",
       "      <td>0.707107</td>\n",
       "      <td>0.500000</td>\n",
       "      <td>0.707107</td>\n",
       "    </tr>\n",
       "    <tr>\n",
       "      <th>1</th>\n",
       "      <td>green</td>\n",
       "      <td>2.333333</td>\n",
       "      <td>1.527525</td>\n",
       "      <td>2.333333</td>\n",
       "      <td>1.527525</td>\n",
       "    </tr>\n",
       "    <tr>\n",
       "      <th>2</th>\n",
       "      <td>orange</td>\n",
       "      <td>2.500000</td>\n",
       "      <td>3.535534</td>\n",
       "      <td>12.500000</td>\n",
       "      <td>3.535534</td>\n",
       "    </tr>\n",
       "    <tr>\n",
       "      <th>3</th>\n",
       "      <td>purple</td>\n",
       "      <td>3.000000</td>\n",
       "      <td>NaN</td>\n",
       "      <td>NaN</td>\n",
       "      <td>NaN</td>\n",
       "    </tr>\n",
       "    <tr>\n",
       "      <th>4</th>\n",
       "      <td>red</td>\n",
       "      <td>4.000000</td>\n",
       "      <td>NaN</td>\n",
       "      <td>NaN</td>\n",
       "      <td>NaN</td>\n",
       "    </tr>\n",
       "    <tr>\n",
       "      <th>5</th>\n",
       "      <td>white</td>\n",
       "      <td>2.500000</td>\n",
       "      <td>2.121320</td>\n",
       "      <td>4.500000</td>\n",
       "      <td>2.121320</td>\n",
       "    </tr>\n",
       "    <tr>\n",
       "      <th>6</th>\n",
       "      <td>yellow</td>\n",
       "      <td>6.000000</td>\n",
       "      <td>NaN</td>\n",
       "      <td>NaN</td>\n",
       "      <td>NaN</td>\n",
       "    </tr>\n",
       "  </tbody>\n",
       "</table>\n",
       "</div>"
      ],
      "text/plain": [
       "   Colour    length                               \n",
       "               mean       std        var       std\n",
       "0   brown  2.500000  0.707107   0.500000  0.707107\n",
       "1   green  2.333333  1.527525   2.333333  1.527525\n",
       "2  orange  2.500000  3.535534  12.500000  3.535534\n",
       "3  purple  3.000000       NaN        NaN       NaN\n",
       "4     red  4.000000       NaN        NaN       NaN\n",
       "5   white  2.500000  2.121320   4.500000  2.121320\n",
       "6  yellow  6.000000       NaN        NaN       NaN"
      ]
     },
     "execution_count": 26,
     "metadata": {},
     "output_type": "execute_result"
    }
   ],
   "source": [
    "df.groupby('Colour', as_index=False).agg({'length':['mean', 'std', 'var', 'std']})\n",
    "#this gives us multiple descriptive statistics for the variable of interest in one line"
   ]
  },
  {
   "cell_type": "markdown",
   "id": "1ed117d9",
   "metadata": {},
   "source": [
    " in the Heart Attack dataset example, we can see how this could be really useful"
   ]
  },
  {
   "cell_type": "code",
   "execution_count": 27,
   "id": "d333783b",
   "metadata": {},
   "outputs": [
    {
     "data": {
      "text/html": [
       "<div>\n",
       "<style scoped>\n",
       "    .dataframe tbody tr th:only-of-type {\n",
       "        vertical-align: middle;\n",
       "    }\n",
       "\n",
       "    .dataframe tbody tr th {\n",
       "        vertical-align: top;\n",
       "    }\n",
       "\n",
       "    .dataframe thead tr th {\n",
       "        text-align: left;\n",
       "    }\n",
       "</style>\n",
       "<table border=\"1\" class=\"dataframe\">\n",
       "  <thead>\n",
       "    <tr>\n",
       "      <th></th>\n",
       "      <th>SEX</th>\n",
       "      <th>DIED</th>\n",
       "      <th colspan=\"2\" halign=\"left\">CHARGES</th>\n",
       "      <th colspan=\"3\" halign=\"left\">LOS</th>\n",
       "      <th colspan=\"2\" halign=\"left\">AGE</th>\n",
       "    </tr>\n",
       "    <tr>\n",
       "      <th></th>\n",
       "      <th></th>\n",
       "      <th></th>\n",
       "      <th>mean</th>\n",
       "      <th>std</th>\n",
       "      <th>mean</th>\n",
       "      <th>std</th>\n",
       "      <th>count</th>\n",
       "      <th>mean</th>\n",
       "      <th>std</th>\n",
       "    </tr>\n",
       "  </thead>\n",
       "  <tbody>\n",
       "    <tr>\n",
       "      <th>0</th>\n",
       "      <td>F</td>\n",
       "      <td>0.0</td>\n",
       "      <td>10681.360123</td>\n",
       "      <td>6800.453296</td>\n",
       "      <td>11.217979</td>\n",
       "      <td>152.553272</td>\n",
       "      <td>4294</td>\n",
       "      <td>72.654554</td>\n",
       "      <td>152.430047</td>\n",
       "    </tr>\n",
       "    <tr>\n",
       "      <th>1</th>\n",
       "      <td>F</td>\n",
       "      <td>1.0</td>\n",
       "      <td>7917.134800</td>\n",
       "      <td>7692.358142</td>\n",
       "      <td>4.581486</td>\n",
       "      <td>5.526421</td>\n",
       "      <td>767</td>\n",
       "      <td>77.835724</td>\n",
       "      <td>10.042033</td>\n",
       "    </tr>\n",
       "    <tr>\n",
       "      <th>2</th>\n",
       "      <td>M</td>\n",
       "      <td>0.0</td>\n",
       "      <td>9732.093270</td>\n",
       "      <td>5975.841230</td>\n",
       "      <td>7.355992</td>\n",
       "      <td>4.439826</td>\n",
       "      <td>7135</td>\n",
       "      <td>62.103308</td>\n",
       "      <td>13.097863</td>\n",
       "    </tr>\n",
       "    <tr>\n",
       "      <th>3</th>\n",
       "      <td>M</td>\n",
       "      <td>1.0</td>\n",
       "      <td>8521.169542</td>\n",
       "      <td>8526.110850</td>\n",
       "      <td>4.628305</td>\n",
       "      <td>5.817602</td>\n",
       "      <td>643</td>\n",
       "      <td>72.939347</td>\n",
       "      <td>12.347426</td>\n",
       "    </tr>\n",
       "  </tbody>\n",
       "</table>\n",
       "</div>"
      ],
      "text/plain": [
       "  SEX DIED       CHARGES                     LOS                          AGE  \\\n",
       "                    mean          std       mean         std count       mean   \n",
       "0   F  0.0  10681.360123  6800.453296  11.217979  152.553272  4294  72.654554   \n",
       "1   F  1.0   7917.134800  7692.358142   4.581486    5.526421   767  77.835724   \n",
       "2   M  0.0   9732.093270  5975.841230   7.355992    4.439826  7135  62.103308   \n",
       "3   M  1.0   8521.169542  8526.110850   4.628305    5.817602   643  72.939347   \n",
       "\n",
       "               \n",
       "          std  \n",
       "0  152.430047  \n",
       "1   10.042033  \n",
       "2   13.097863  \n",
       "3   12.347426  "
      ]
     },
     "execution_count": 27,
     "metadata": {},
     "output_type": "execute_result"
    }
   ],
   "source": [
    "df2.groupby(['SEX', 'DIED'], as_index=False).agg(\n",
    "    {\n",
    "        'CHARGES' : ['mean', 'std'],\n",
    "        'LOS'     : ['mean', 'std', 'count'],\n",
    "        'AGE'     : ['mean', 'std']   \n",
    "    }\n",
    ")\n",
    "# with this, it becomes easy to add more variables of interest to aggregate,\n",
    "# or more grouping variables if you are interested in them\n",
    "# you can apply different functions to different columns if you wanted to"
   ]
  },
  {
   "cell_type": "markdown",
   "id": "ad446f7d",
   "metadata": {},
   "source": [
    " # Numpy functions"
   ]
  },
  {
   "cell_type": "markdown",
   "id": "7afcb2af",
   "metadata": {},
   "source": [
    "Numpy is a python library that has functions that help you deal with arrays, or lists. Here you'll see a few functions in numpy that are really helpful and interact well with pandas dataframes to help you manipulate your data"
   ]
  },
  {
   "cell_type": "code",
   "execution_count": 28,
   "id": "05434fd2",
   "metadata": {},
   "outputs": [],
   "source": [
    "#lets make an array from a list\n",
    "\n",
    "\n",
    "arr = [1,4,7,2,8,4,5,2,1,9,20,33,1,55,4,2,4,77,6]\n",
    "arr = np.array(arr)"
   ]
  },
  {
   "cell_type": "markdown",
   "id": "8570b654",
   "metadata": {},
   "source": [
    "### Describing arrays\n",
    "\n",
    "We can describe arrays with functions similar to pandas:\n",
    "\n",
    "- `array.mean()` - gets the mean value of the array \n",
    "- `np.median(array)` - gets the median value of the array\n",
    "- `array.var()` - gets the variance of the array\n",
    "- `array.std()` - gets the standard deviation of the arry\n",
    "- `array.size`  - gets the size of the array (the number of elements). For a 1-D array, this is its length"
   ]
  },
  {
   "cell_type": "markdown",
   "id": "49aa294e",
   "metadata": {},
   "source": [
    "## Searching in arrays\n",
    "\n",
    "Sometimes we want to search arrays to find if certain conditions are met. Numpy has a few functions that are very useful for doing exactly that. These funcions interact with pandas dataframes **really well**, and help us manipulate our data more easily.\n",
    "\n",
    "- `np.where`\n",
    "- `np.equal`\n",
    "- `np.greater` and `np.greater_equal` -- x > y and x >= y\n",
    "- `np.less` and `np.less_equal` -- x < y and x <= y\n",
    "- `np.isin`"
   ]
  },
  {
   "cell_type": "markdown",
   "id": "a19aac3a",
   "metadata": {},
   "source": [
    "### `np.where`\n",
    "\n",
    "`np.where` is a function that we can read easily. it finds \"where\" elements of an array meet a condition. It has two types of use.\n",
    "\n",
    "Firstly,\n",
    "- `np.where(condition)` -- condition usually is something like a logical statement, e.g.:\n",
    "    - `np.where(df['Type'] == 'veg')` \n",
    "    - this outputs a list of indices (locations) where a condition is true.\n",
    "    - this list of indices can be used to find where this condition is true, and only get those things\n",
    "        - this is particularly useful when trying to find things in a dataframe!"
   ]
  },
  {
   "cell_type": "code",
   "execution_count": 29,
   "id": "dc7fa753",
   "metadata": {},
   "outputs": [
    {
     "data": {
      "text/plain": [
       "(array([0, 1, 6, 7, 8]),)"
      ]
     },
     "metadata": {},
     "output_type": "display_data"
    },
    {
     "data": {
      "text/html": [
       "<div>\n",
       "<style scoped>\n",
       "    .dataframe tbody tr th:only-of-type {\n",
       "        vertical-align: middle;\n",
       "    }\n",
       "\n",
       "    .dataframe tbody tr th {\n",
       "        vertical-align: top;\n",
       "    }\n",
       "\n",
       "    .dataframe thead th {\n",
       "        text-align: right;\n",
       "    }\n",
       "</style>\n",
       "<table border=\"1\" class=\"dataframe\">\n",
       "  <thead>\n",
       "    <tr style=\"text-align: right;\">\n",
       "      <th></th>\n",
       "      <th>Name</th>\n",
       "      <th>Type</th>\n",
       "      <th>Colour</th>\n",
       "      <th>length</th>\n",
       "      <th>length2</th>\n",
       "    </tr>\n",
       "  </thead>\n",
       "  <tbody>\n",
       "    <tr>\n",
       "      <th>0</th>\n",
       "      <td>lettuce</td>\n",
       "      <td>veg</td>\n",
       "      <td>green</td>\n",
       "      <td>1</td>\n",
       "      <td>9</td>\n",
       "    </tr>\n",
       "    <tr>\n",
       "      <th>1</th>\n",
       "      <td>cucumber</td>\n",
       "      <td>veg</td>\n",
       "      <td>green</td>\n",
       "      <td>4</td>\n",
       "      <td>13</td>\n",
       "    </tr>\n",
       "    <tr>\n",
       "      <th>6</th>\n",
       "      <td>onion</td>\n",
       "      <td>veg</td>\n",
       "      <td>brown</td>\n",
       "      <td>3</td>\n",
       "      <td>5</td>\n",
       "    </tr>\n",
       "    <tr>\n",
       "      <th>7</th>\n",
       "      <td>carrot</td>\n",
       "      <td>veg</td>\n",
       "      <td>orange</td>\n",
       "      <td>0</td>\n",
       "      <td>8</td>\n",
       "    </tr>\n",
       "    <tr>\n",
       "      <th>8</th>\n",
       "      <td>potato</td>\n",
       "      <td>veg</td>\n",
       "      <td>white</td>\n",
       "      <td>1</td>\n",
       "      <td>19</td>\n",
       "    </tr>\n",
       "  </tbody>\n",
       "</table>\n",
       "</div>"
      ],
      "text/plain": [
       "       Name Type  Colour  length  length2\n",
       "0   lettuce  veg   green       1        9\n",
       "1  cucumber  veg   green       4       13\n",
       "6     onion  veg   brown       3        5\n",
       "7    carrot  veg  orange       0        8\n",
       "8    potato  veg   white       1       19"
      ]
     },
     "execution_count": 29,
     "metadata": {},
     "output_type": "execute_result"
    }
   ],
   "source": [
    "display(np.where(df['Type'] == 'veg'))\n",
    "df.loc[np.where(df['Type']=='veg')[0],:]"
   ]
  },
  {
   "cell_type": "markdown",
   "id": "4cad6887",
   "metadata": {},
   "source": [
    "### `np.equal`\n",
    "\n",
    "The `np.where` functions finds us the locations where a condition is met. If you have 12 items and only 3 meet this criteria, it outputs those 3 locations.\n",
    "\n",
    "`np.equal` is slightly different. It lets you iterate over every element (item) in an array and check to see if those elements are the same as your test. It then outputs an array that is the same length as your original array but each value is either `True` or `False` depending on what the value was. It's syntax is below:\n",
    "\n",
    "`np.equal(your_array, value_to_test)`"
   ]
  },
  {
   "cell_type": "code",
   "execution_count": 30,
   "id": "1fce9a0a",
   "metadata": {},
   "outputs": [
    {
     "data": {
      "text/plain": [
       "0      True\n",
       "1      True\n",
       "2     False\n",
       "3     False\n",
       "4     False\n",
       "5     False\n",
       "6      True\n",
       "7      True\n",
       "8      True\n",
       "9     False\n",
       "10    False\n",
       "11    False\n",
       "Name: Type, dtype: bool"
      ]
     },
     "execution_count": 30,
     "metadata": {},
     "output_type": "execute_result"
    }
   ],
   "source": [
    "np.equal(df.Type, 'veg')\n",
    "#as you can see, this is quite different to the output of np.where !"
   ]
  },
  {
   "cell_type": "markdown",
   "id": "6dec0280",
   "metadata": {},
   "source": [
    "The logical functions `np.greater`, `np.greater_equal`, `np.less` and `np.less_equal` all use a similar syntax. One important aspect is that they can only work on *numeric* data (not strings). Similar to `np.equal`, the output of this function has the same length as your original array, and contains `True` or `False` values depending on what it found.\n",
    "\n",
    "They all follow the same syntax as below:\n",
    "\n",
    "`np.greater(your_array, value)`\n",
    "\n",
    "note: this is equivalent to `your_array > value` but it is computed faster, and you can treat it as its own object in your code"
   ]
  },
  {
   "cell_type": "code",
   "execution_count": 31,
   "id": "5690f104",
   "metadata": {},
   "outputs": [
    {
     "data": {
      "text/plain": [
       "0      True\n",
       "1      True\n",
       "2      True\n",
       "3     False\n",
       "4      True\n",
       "5      True\n",
       "6      True\n",
       "7      True\n",
       "8      True\n",
       "9      True\n",
       "10     True\n",
       "11     True\n",
       "Name: length2, dtype: bool"
      ]
     },
     "metadata": {},
     "output_type": "display_data"
    },
    {
     "data": {
      "text/plain": [
       "0      True\n",
       "1      True\n",
       "2      True\n",
       "3     False\n",
       "4      True\n",
       "5      True\n",
       "6      True\n",
       "7      True\n",
       "8      True\n",
       "9      True\n",
       "10     True\n",
       "11     True\n",
       "Name: length2, dtype: bool"
      ]
     },
     "metadata": {},
     "output_type": "display_data"
    }
   ],
   "source": [
    "display(np.greater(df.length2, 4))\n",
    "display(df.length2>4) # as you can see,these two are equivalent"
   ]
  },
  {
   "cell_type": "markdown",
   "id": "daffcdaf",
   "metadata": {},
   "source": [
    "### `np.isin`\n",
    "\n",
    "`np.isin` does something slightly different. It allows you to check if each element of your array is in a list of different options. It's a slightly more versatile version of `np.equal` and is nice for grouping variables in your dataframes. It's syntax is as follows:\n",
    "\n",
    "`np.isin(your_array, [list of options])`\n",
    "\n",
    "This will output an array that has the same length as your original array, set to `True` or `False` depending on whether it met the criteria"
   ]
  },
  {
   "cell_type": "code",
   "execution_count": 32,
   "id": "c90c0d0e",
   "metadata": {},
   "outputs": [
    {
     "data": {
      "text/plain": [
       "array([ True,  True,  True, False, False, False, False,  True, False,\n",
       "       False, False,  True])"
      ]
     },
     "metadata": {},
     "output_type": "display_data"
    },
    {
     "data": {
      "text/plain": [
       "array([False, False, False,  True,  True, False,  True, False,  True,\n",
       "        True, False, False])"
      ]
     },
     "metadata": {},
     "output_type": "display_data"
    }
   ],
   "source": [
    "display(np.isin(df.Colour, ['orange', 'green']))\n",
    "display(np.isin(df.Colour, ['yellow', 'white', 'brown']))"
   ]
  },
  {
   "cell_type": "markdown",
   "id": "5c84e961",
   "metadata": {},
   "source": [
    "this can then be used to filter a dataframe. If the value is `True` it takes the corresponding row. If the value is `False` it ignores the corresponding row. For example:"
   ]
  },
  {
   "cell_type": "code",
   "execution_count": 33,
   "id": "b707518d",
   "metadata": {},
   "outputs": [
    {
     "ename": "ValueError",
     "evalue": "The truth value of a Series is ambiguous. Use a.empty, a.bool(), a.item(), a.any() or a.all().",
     "output_type": "error",
     "traceback": [
      "\u001b[0;31m---------------------------------------------------------------------------\u001b[0m",
      "\u001b[0;31mValueError\u001b[0m                                Traceback (most recent call last)",
      "\u001b[0;32m/var/folders/q4/twg1yll54y142rc02m5wwbt40000gr/T/ipykernel_57161/902233080.py\u001b[0m in \u001b[0;36m<module>\u001b[0;34m\u001b[0m\n\u001b[1;32m      2\u001b[0m \u001b[0;34m\u001b[0m\u001b[0m\n\u001b[1;32m      3\u001b[0m \u001b[0;31m#checking multiple values isn't possible with normal syntax (note that the code below spits out a nasty error..)\u001b[0m\u001b[0;34m\u001b[0m\u001b[0;34m\u001b[0m\u001b[0m\n\u001b[0;32m----> 4\u001b[0;31m \u001b[0mdf\u001b[0m\u001b[0;34m[\u001b[0m\u001b[0mdf\u001b[0m\u001b[0;34m[\u001b[0m\u001b[0;34m'Colour'\u001b[0m\u001b[0;34m]\u001b[0m \u001b[0;34m==\u001b[0m \u001b[0;34m'orange'\u001b[0m \u001b[0;32mor\u001b[0m \u001b[0mdf\u001b[0m\u001b[0;34m[\u001b[0m\u001b[0;34m'Colour'\u001b[0m\u001b[0;34m]\u001b[0m\u001b[0;34m==\u001b[0m\u001b[0;34m'green'\u001b[0m\u001b[0;34m]\u001b[0m\u001b[0;34m\u001b[0m\u001b[0;34m\u001b[0m\u001b[0m\n\u001b[0m",
      "\u001b[0;32m~/opt/anaconda3/lib/python3.9/site-packages/pandas/core/generic.py\u001b[0m in \u001b[0;36m__nonzero__\u001b[0;34m(self)\u001b[0m\n\u001b[1;32m   1525\u001b[0m     \u001b[0;34m@\u001b[0m\u001b[0mfinal\u001b[0m\u001b[0;34m\u001b[0m\u001b[0;34m\u001b[0m\u001b[0m\n\u001b[1;32m   1526\u001b[0m     \u001b[0;32mdef\u001b[0m \u001b[0m__nonzero__\u001b[0m\u001b[0;34m(\u001b[0m\u001b[0mself\u001b[0m\u001b[0;34m)\u001b[0m\u001b[0;34m:\u001b[0m\u001b[0;34m\u001b[0m\u001b[0;34m\u001b[0m\u001b[0m\n\u001b[0;32m-> 1527\u001b[0;31m         raise ValueError(\n\u001b[0m\u001b[1;32m   1528\u001b[0m             \u001b[0;34mf\"The truth value of a {type(self).__name__} is ambiguous. \"\u001b[0m\u001b[0;34m\u001b[0m\u001b[0;34m\u001b[0m\u001b[0m\n\u001b[1;32m   1529\u001b[0m             \u001b[0;34m\"Use a.empty, a.bool(), a.item(), a.any() or a.all().\"\u001b[0m\u001b[0;34m\u001b[0m\u001b[0;34m\u001b[0m\u001b[0m\n",
      "\u001b[0;31mValueError\u001b[0m: The truth value of a Series is ambiguous. Use a.empty, a.bool(), a.item(), a.any() or a.all()."
     ]
    }
   ],
   "source": [
    "df.loc[np.isin(df.Colour, ['orange', 'green'])] #this only takes foods that were orange or green\n",
    "\n",
    "#checking multiple values isn't possible with normal syntax (note that the code below spits out a nasty error..)\n",
    "df[df['Colour'] == 'orange' or df['Colour']=='green']"
   ]
  },
  {
   "cell_type": "markdown",
   "id": "a97c6af0",
   "metadata": {},
   "source": [
    "the error message above can be fixed by using numpy-based *logical statements*\n",
    "\n",
    "### Logical statements in numpy\n",
    "\n",
    "numpy has inbuilt functions that let you do logical comparisons between two equally sized arrays. This is nice if you want to have multiple conditions met. The following statements are likely to be useful to you:\n",
    "\n",
    "- `np.logical_and`\n",
    "- `np.logical_or`\n",
    "- `np.logical_not`\n"
   ]
  },
  {
   "cell_type": "markdown",
   "id": "b7e4a620",
   "metadata": {},
   "source": [
    "#### `np.logical_and`\n",
    "\n",
    "this looks to see if two criteria are both met. If the two criteria are met, it outputs a `True`. If only one (or neither) are met, it outputs a `False`"
   ]
  },
  {
   "cell_type": "code",
   "execution_count": 34,
   "id": "8e387637",
   "metadata": {},
   "outputs": [
    {
     "data": {
      "text/plain": [
       "0      True\n",
       "1      True\n",
       "2     False\n",
       "3     False\n",
       "4     False\n",
       "5     False\n",
       "6     False\n",
       "7     False\n",
       "8     False\n",
       "9     False\n",
       "10    False\n",
       "11    False\n",
       "dtype: bool"
      ]
     },
     "metadata": {},
     "output_type": "display_data"
    },
    {
     "data": {
      "text/html": [
       "<div>\n",
       "<style scoped>\n",
       "    .dataframe tbody tr th:only-of-type {\n",
       "        vertical-align: middle;\n",
       "    }\n",
       "\n",
       "    .dataframe tbody tr th {\n",
       "        vertical-align: top;\n",
       "    }\n",
       "\n",
       "    .dataframe thead th {\n",
       "        text-align: right;\n",
       "    }\n",
       "</style>\n",
       "<table border=\"1\" class=\"dataframe\">\n",
       "  <thead>\n",
       "    <tr style=\"text-align: right;\">\n",
       "      <th></th>\n",
       "      <th>Name</th>\n",
       "      <th>Type</th>\n",
       "      <th>Colour</th>\n",
       "      <th>length</th>\n",
       "      <th>length2</th>\n",
       "    </tr>\n",
       "  </thead>\n",
       "  <tbody>\n",
       "    <tr>\n",
       "      <th>0</th>\n",
       "      <td>lettuce</td>\n",
       "      <td>veg</td>\n",
       "      <td>green</td>\n",
       "      <td>1</td>\n",
       "      <td>9</td>\n",
       "    </tr>\n",
       "    <tr>\n",
       "      <th>1</th>\n",
       "      <td>cucumber</td>\n",
       "      <td>veg</td>\n",
       "      <td>green</td>\n",
       "      <td>4</td>\n",
       "      <td>13</td>\n",
       "    </tr>\n",
       "  </tbody>\n",
       "</table>\n",
       "</div>"
      ],
      "text/plain": [
       "       Name Type Colour  length  length2\n",
       "0   lettuce  veg  green       1        9\n",
       "1  cucumber  veg  green       4       13"
      ]
     },
     "metadata": {},
     "output_type": "display_data"
    }
   ],
   "source": [
    "#for example, we can take columns of our dataframe and find where two criteria are met\n",
    "# let's say we wanted to find the rows where the colour of our food object was 'green' and where it was a 'veg' type\n",
    "display(np.logical_and(df.Colour == 'green', df.Type == 'veg'))\n",
    "\n",
    "#this interacts nicely with pandas dataframe indexing!\n",
    "display(df[np.logical_and(df.Colour == 'green', df.Type == 'veg')])\n",
    "#this outputs only rows where the food item is green and a vegetable"
   ]
  },
  {
   "cell_type": "markdown",
   "id": "32c07df6",
   "metadata": {},
   "source": [
    "as you can imagine, we can do something very similar with a `df.query` call when using dataframes!"
   ]
  },
  {
   "cell_type": "code",
   "execution_count": 35,
   "id": "70ba51e4",
   "metadata": {},
   "outputs": [
    {
     "data": {
      "text/html": [
       "<div>\n",
       "<style scoped>\n",
       "    .dataframe tbody tr th:only-of-type {\n",
       "        vertical-align: middle;\n",
       "    }\n",
       "\n",
       "    .dataframe tbody tr th {\n",
       "        vertical-align: top;\n",
       "    }\n",
       "\n",
       "    .dataframe thead th {\n",
       "        text-align: right;\n",
       "    }\n",
       "</style>\n",
       "<table border=\"1\" class=\"dataframe\">\n",
       "  <thead>\n",
       "    <tr style=\"text-align: right;\">\n",
       "      <th></th>\n",
       "      <th>Name</th>\n",
       "      <th>Type</th>\n",
       "      <th>Colour</th>\n",
       "      <th>length</th>\n",
       "      <th>length2</th>\n",
       "    </tr>\n",
       "  </thead>\n",
       "  <tbody>\n",
       "    <tr>\n",
       "      <th>0</th>\n",
       "      <td>lettuce</td>\n",
       "      <td>veg</td>\n",
       "      <td>green</td>\n",
       "      <td>1</td>\n",
       "      <td>9</td>\n",
       "    </tr>\n",
       "    <tr>\n",
       "      <th>1</th>\n",
       "      <td>cucumber</td>\n",
       "      <td>veg</td>\n",
       "      <td>green</td>\n",
       "      <td>4</td>\n",
       "      <td>13</td>\n",
       "    </tr>\n",
       "  </tbody>\n",
       "</table>\n",
       "</div>"
      ],
      "text/plain": [
       "       Name Type Colour  length  length2\n",
       "0   lettuce  veg  green       1        9\n",
       "1  cucumber  veg  green       4       13"
      ]
     },
     "metadata": {},
     "output_type": "display_data"
    }
   ],
   "source": [
    "display(df.query('Colour == \"green\" and Type == \"veg\"'))"
   ]
  },
  {
   "cell_type": "markdown",
   "id": "29d257e5",
   "metadata": {},
   "source": [
    "#### `np.logical_or`\n",
    "\n",
    "this function looks to see if either one of the criteria is met (rather than both). If either of the criteria are True, its output will be True. If both are False, its output will be False\n",
    "\n",
    "For example, we can find all instances where the colour of our food is either green _or_ yellow"
   ]
  },
  {
   "cell_type": "code",
   "execution_count": 36,
   "id": "100058a4",
   "metadata": {},
   "outputs": [
    {
     "data": {
      "text/plain": [
       "0      True\n",
       "1      True\n",
       "2     False\n",
       "3      True\n",
       "4     False\n",
       "5     False\n",
       "6     False\n",
       "7     False\n",
       "8     False\n",
       "9     False\n",
       "10    False\n",
       "11     True\n",
       "Name: Colour, dtype: bool"
      ]
     },
     "metadata": {},
     "output_type": "display_data"
    },
    {
     "data": {
      "text/html": [
       "<div>\n",
       "<style scoped>\n",
       "    .dataframe tbody tr th:only-of-type {\n",
       "        vertical-align: middle;\n",
       "    }\n",
       "\n",
       "    .dataframe tbody tr th {\n",
       "        vertical-align: top;\n",
       "    }\n",
       "\n",
       "    .dataframe thead th {\n",
       "        text-align: right;\n",
       "    }\n",
       "</style>\n",
       "<table border=\"1\" class=\"dataframe\">\n",
       "  <thead>\n",
       "    <tr style=\"text-align: right;\">\n",
       "      <th></th>\n",
       "      <th>Name</th>\n",
       "      <th>Type</th>\n",
       "      <th>Colour</th>\n",
       "      <th>length</th>\n",
       "      <th>length2</th>\n",
       "    </tr>\n",
       "  </thead>\n",
       "  <tbody>\n",
       "    <tr>\n",
       "      <th>0</th>\n",
       "      <td>lettuce</td>\n",
       "      <td>veg</td>\n",
       "      <td>green</td>\n",
       "      <td>1</td>\n",
       "      <td>9</td>\n",
       "    </tr>\n",
       "    <tr>\n",
       "      <th>1</th>\n",
       "      <td>cucumber</td>\n",
       "      <td>veg</td>\n",
       "      <td>green</td>\n",
       "      <td>4</td>\n",
       "      <td>13</td>\n",
       "    </tr>\n",
       "    <tr>\n",
       "      <th>3</th>\n",
       "      <td>banana</td>\n",
       "      <td>fruit</td>\n",
       "      <td>yellow</td>\n",
       "      <td>6</td>\n",
       "      <td>4</td>\n",
       "    </tr>\n",
       "    <tr>\n",
       "      <th>11</th>\n",
       "      <td>apple</td>\n",
       "      <td>fruit</td>\n",
       "      <td>green</td>\n",
       "      <td>2</td>\n",
       "      <td>19</td>\n",
       "    </tr>\n",
       "  </tbody>\n",
       "</table>\n",
       "</div>"
      ],
      "text/plain": [
       "        Name   Type  Colour  length  length2\n",
       "0    lettuce    veg   green       1        9\n",
       "1   cucumber    veg   green       4       13\n",
       "3     banana  fruit  yellow       6        4\n",
       "11     apple  fruit   green       2       19"
      ]
     },
     "execution_count": 36,
     "metadata": {},
     "output_type": "execute_result"
    }
   ],
   "source": [
    "display(np.logical_or(df.Colour == 'green', df.Colour == 'yellow'))\n",
    "\n",
    "#and we can use this function to help us filter out data we aren't interested in\n",
    "df[np.logical_or(df.Colour == 'green', df.Colour == 'yellow')] \n",
    "\n",
    "#df[np.logical_or(df['Colour'] == 'green', df['Colour'] == 'yellow')] #this is the same "
   ]
  },
  {
   "cell_type": "markdown",
   "id": "26d91fe0",
   "metadata": {},
   "source": [
    "again, we can get a similar result using a `query` call:"
   ]
  },
  {
   "cell_type": "code",
   "execution_count": 37,
   "id": "00ca07c5",
   "metadata": {},
   "outputs": [
    {
     "data": {
      "text/html": [
       "<div>\n",
       "<style scoped>\n",
       "    .dataframe tbody tr th:only-of-type {\n",
       "        vertical-align: middle;\n",
       "    }\n",
       "\n",
       "    .dataframe tbody tr th {\n",
       "        vertical-align: top;\n",
       "    }\n",
       "\n",
       "    .dataframe thead th {\n",
       "        text-align: right;\n",
       "    }\n",
       "</style>\n",
       "<table border=\"1\" class=\"dataframe\">\n",
       "  <thead>\n",
       "    <tr style=\"text-align: right;\">\n",
       "      <th></th>\n",
       "      <th>Name</th>\n",
       "      <th>Type</th>\n",
       "      <th>Colour</th>\n",
       "      <th>length</th>\n",
       "      <th>length2</th>\n",
       "    </tr>\n",
       "  </thead>\n",
       "  <tbody>\n",
       "    <tr>\n",
       "      <th>0</th>\n",
       "      <td>lettuce</td>\n",
       "      <td>veg</td>\n",
       "      <td>green</td>\n",
       "      <td>1</td>\n",
       "      <td>9</td>\n",
       "    </tr>\n",
       "    <tr>\n",
       "      <th>1</th>\n",
       "      <td>cucumber</td>\n",
       "      <td>veg</td>\n",
       "      <td>green</td>\n",
       "      <td>4</td>\n",
       "      <td>13</td>\n",
       "    </tr>\n",
       "    <tr>\n",
       "      <th>3</th>\n",
       "      <td>banana</td>\n",
       "      <td>fruit</td>\n",
       "      <td>yellow</td>\n",
       "      <td>6</td>\n",
       "      <td>4</td>\n",
       "    </tr>\n",
       "    <tr>\n",
       "      <th>11</th>\n",
       "      <td>apple</td>\n",
       "      <td>fruit</td>\n",
       "      <td>green</td>\n",
       "      <td>2</td>\n",
       "      <td>19</td>\n",
       "    </tr>\n",
       "  </tbody>\n",
       "</table>\n",
       "</div>"
      ],
      "text/plain": [
       "        Name   Type  Colour  length  length2\n",
       "0    lettuce    veg   green       1        9\n",
       "1   cucumber    veg   green       4       13\n",
       "3     banana  fruit  yellow       6        4\n",
       "11     apple  fruit   green       2       19"
      ]
     },
     "execution_count": 37,
     "metadata": {},
     "output_type": "execute_result"
    }
   ],
   "source": [
    "df.query('Colour == \"green\" or Colour == \"yellow\"')"
   ]
  },
  {
   "cell_type": "markdown",
   "id": "84e8c93e",
   "metadata": {},
   "source": [
    "finally....\n",
    "\n",
    "#### `np.logical_not`\n",
    "\n",
    "this checks that neither criteria is met. If neither criteria is met, it outputs a `True`. If one or more criteria are met, if outputs a `False`. This is mostly useful for when you want to find where something is _not_ true."
   ]
  },
  {
   "cell_type": "code",
   "execution_count": 38,
   "id": "54d97666",
   "metadata": {},
   "outputs": [
    {
     "data": {
      "text/plain": [
       "0     False\n",
       "1     False\n",
       "2      True\n",
       "3      True\n",
       "4      True\n",
       "5      True\n",
       "6      True\n",
       "7      True\n",
       "8      True\n",
       "9      True\n",
       "10     True\n",
       "11    False\n",
       "Name: Colour, dtype: bool"
      ]
     },
     "metadata": {},
     "output_type": "display_data"
    },
    {
     "data": {
      "text/html": [
       "<div>\n",
       "<style scoped>\n",
       "    .dataframe tbody tr th:only-of-type {\n",
       "        vertical-align: middle;\n",
       "    }\n",
       "\n",
       "    .dataframe tbody tr th {\n",
       "        vertical-align: top;\n",
       "    }\n",
       "\n",
       "    .dataframe thead th {\n",
       "        text-align: right;\n",
       "    }\n",
       "</style>\n",
       "<table border=\"1\" class=\"dataframe\">\n",
       "  <thead>\n",
       "    <tr style=\"text-align: right;\">\n",
       "      <th></th>\n",
       "      <th>Name</th>\n",
       "      <th>Type</th>\n",
       "      <th>Colour</th>\n",
       "      <th>length</th>\n",
       "      <th>length2</th>\n",
       "    </tr>\n",
       "  </thead>\n",
       "  <tbody>\n",
       "    <tr>\n",
       "      <th>2</th>\n",
       "      <td>orange</td>\n",
       "      <td>fruit</td>\n",
       "      <td>orange</td>\n",
       "      <td>5</td>\n",
       "      <td>13</td>\n",
       "    </tr>\n",
       "    <tr>\n",
       "      <th>3</th>\n",
       "      <td>banana</td>\n",
       "      <td>fruit</td>\n",
       "      <td>yellow</td>\n",
       "      <td>6</td>\n",
       "      <td>4</td>\n",
       "    </tr>\n",
       "    <tr>\n",
       "      <th>4</th>\n",
       "      <td>kiwi</td>\n",
       "      <td>fruit</td>\n",
       "      <td>brown</td>\n",
       "      <td>2</td>\n",
       "      <td>15</td>\n",
       "    </tr>\n",
       "    <tr>\n",
       "      <th>5</th>\n",
       "      <td>strawberry</td>\n",
       "      <td>fruit</td>\n",
       "      <td>red</td>\n",
       "      <td>4</td>\n",
       "      <td>17</td>\n",
       "    </tr>\n",
       "    <tr>\n",
       "      <th>6</th>\n",
       "      <td>onion</td>\n",
       "      <td>veg</td>\n",
       "      <td>brown</td>\n",
       "      <td>3</td>\n",
       "      <td>5</td>\n",
       "    </tr>\n",
       "    <tr>\n",
       "      <th>7</th>\n",
       "      <td>carrot</td>\n",
       "      <td>veg</td>\n",
       "      <td>orange</td>\n",
       "      <td>0</td>\n",
       "      <td>8</td>\n",
       "    </tr>\n",
       "    <tr>\n",
       "      <th>8</th>\n",
       "      <td>potato</td>\n",
       "      <td>veg</td>\n",
       "      <td>white</td>\n",
       "      <td>1</td>\n",
       "      <td>19</td>\n",
       "    </tr>\n",
       "    <tr>\n",
       "      <th>9</th>\n",
       "      <td>lychee</td>\n",
       "      <td>fruit</td>\n",
       "      <td>white</td>\n",
       "      <td>4</td>\n",
       "      <td>9</td>\n",
       "    </tr>\n",
       "    <tr>\n",
       "      <th>10</th>\n",
       "      <td>plum</td>\n",
       "      <td>fruit</td>\n",
       "      <td>purple</td>\n",
       "      <td>3</td>\n",
       "      <td>18</td>\n",
       "    </tr>\n",
       "  </tbody>\n",
       "</table>\n",
       "</div>"
      ],
      "text/plain": [
       "          Name   Type  Colour  length  length2\n",
       "2       orange  fruit  orange       5       13\n",
       "3       banana  fruit  yellow       6        4\n",
       "4         kiwi  fruit   brown       2       15\n",
       "5   strawberry  fruit     red       4       17\n",
       "6        onion    veg   brown       3        5\n",
       "7       carrot    veg  orange       0        8\n",
       "8       potato    veg   white       1       19\n",
       "9       lychee  fruit   white       4        9\n",
       "10        plum  fruit  purple       3       18"
      ]
     },
     "metadata": {},
     "output_type": "display_data"
    }
   ],
   "source": [
    "display(np.logical_not(df.Colour == 'green')) #tells us if a value of df.Colour is NOT green\n",
    "display(df[np.logical_not(df.Colour == 'green')]) #and we can use that boolean (true/false) array to filter our data frame\n",
    "#note that none of the values for Colour are green!"
   ]
  },
  {
   "cell_type": "code",
   "execution_count": 39,
   "id": "49febc7a",
   "metadata": {},
   "outputs": [
    {
     "data": {
      "text/html": [
       "<div>\n",
       "<style scoped>\n",
       "    .dataframe tbody tr th:only-of-type {\n",
       "        vertical-align: middle;\n",
       "    }\n",
       "\n",
       "    .dataframe tbody tr th {\n",
       "        vertical-align: top;\n",
       "    }\n",
       "\n",
       "    .dataframe thead th {\n",
       "        text-align: right;\n",
       "    }\n",
       "</style>\n",
       "<table border=\"1\" class=\"dataframe\">\n",
       "  <thead>\n",
       "    <tr style=\"text-align: right;\">\n",
       "      <th></th>\n",
       "      <th>Name</th>\n",
       "      <th>Type</th>\n",
       "      <th>Colour</th>\n",
       "      <th>length</th>\n",
       "      <th>length2</th>\n",
       "    </tr>\n",
       "  </thead>\n",
       "  <tbody>\n",
       "    <tr>\n",
       "      <th>2</th>\n",
       "      <td>orange</td>\n",
       "      <td>fruit</td>\n",
       "      <td>orange</td>\n",
       "      <td>5</td>\n",
       "      <td>13</td>\n",
       "    </tr>\n",
       "    <tr>\n",
       "      <th>3</th>\n",
       "      <td>banana</td>\n",
       "      <td>fruit</td>\n",
       "      <td>yellow</td>\n",
       "      <td>6</td>\n",
       "      <td>4</td>\n",
       "    </tr>\n",
       "    <tr>\n",
       "      <th>4</th>\n",
       "      <td>kiwi</td>\n",
       "      <td>fruit</td>\n",
       "      <td>brown</td>\n",
       "      <td>2</td>\n",
       "      <td>15</td>\n",
       "    </tr>\n",
       "    <tr>\n",
       "      <th>5</th>\n",
       "      <td>strawberry</td>\n",
       "      <td>fruit</td>\n",
       "      <td>red</td>\n",
       "      <td>4</td>\n",
       "      <td>17</td>\n",
       "    </tr>\n",
       "    <tr>\n",
       "      <th>6</th>\n",
       "      <td>onion</td>\n",
       "      <td>veg</td>\n",
       "      <td>brown</td>\n",
       "      <td>3</td>\n",
       "      <td>5</td>\n",
       "    </tr>\n",
       "    <tr>\n",
       "      <th>7</th>\n",
       "      <td>carrot</td>\n",
       "      <td>veg</td>\n",
       "      <td>orange</td>\n",
       "      <td>0</td>\n",
       "      <td>8</td>\n",
       "    </tr>\n",
       "    <tr>\n",
       "      <th>8</th>\n",
       "      <td>potato</td>\n",
       "      <td>veg</td>\n",
       "      <td>white</td>\n",
       "      <td>1</td>\n",
       "      <td>19</td>\n",
       "    </tr>\n",
       "    <tr>\n",
       "      <th>9</th>\n",
       "      <td>lychee</td>\n",
       "      <td>fruit</td>\n",
       "      <td>white</td>\n",
       "      <td>4</td>\n",
       "      <td>9</td>\n",
       "    </tr>\n",
       "    <tr>\n",
       "      <th>10</th>\n",
       "      <td>plum</td>\n",
       "      <td>fruit</td>\n",
       "      <td>purple</td>\n",
       "      <td>3</td>\n",
       "      <td>18</td>\n",
       "    </tr>\n",
       "  </tbody>\n",
       "</table>\n",
       "</div>"
      ],
      "text/plain": [
       "          Name   Type  Colour  length  length2\n",
       "2       orange  fruit  orange       5       13\n",
       "3       banana  fruit  yellow       6        4\n",
       "4         kiwi  fruit   brown       2       15\n",
       "5   strawberry  fruit     red       4       17\n",
       "6        onion    veg   brown       3        5\n",
       "7       carrot    veg  orange       0        8\n",
       "8       potato    veg   white       1       19\n",
       "9       lychee  fruit   white       4        9\n",
       "10        plum  fruit  purple       3       18"
      ]
     },
     "execution_count": 39,
     "metadata": {},
     "output_type": "execute_result"
    }
   ],
   "source": [
    "# again, we can do something equivalet (maybe more straightforward) with a query\n",
    "\n",
    "df.query('Colour != \"green\"') #note that != means not equal"
   ]
  },
  {
   "cell_type": "markdown",
   "id": "7a32b066",
   "metadata": {},
   "source": [
    "## Using `numpy.random`\n",
    "\n",
    "Numpy has a sub-package that is used for doing random things! Not random things, _random_ things. It has functions that enable us to create sequences of random numbers both as integers (whole numbers) and decimals. It also has functions that let us make random choices between items of arrays so we can sample things randomly. Below are some functions that will be useful for you:\n",
    "\n",
    "- `np.random.randint`\n",
    "- `np.random.random`\n",
    "- `np.random.randn`\n",
    "- `np.random.choice`\n",
    "- `np.random.shuffle`"
   ]
  },
  {
   "cell_type": "markdown",
   "id": "1f4555a3",
   "metadata": {},
   "source": [
    "#### `np.random.randint`\n",
    "\n",
    "This function allows us to create an array of random numbers from a specific bound. These numbers are drawn from a _discrete uniform distribution_. That means that there should be an equal probability of getting any number within this bound. It uses the following syntax:\n",
    "\n",
    "`np.random.randint(low = lower_bound, high = upper_bound, size = number_of_random_numbers_you_want)`\n",
    "- `low`: the lower bound of your random numbers (e.g. if you wanted the numbers between 10 and 20, you'd set 10)\n",
    "- `high`: the upper bound of your random numbers. This is **not** inclusive.\n",
    "    - That means if you wanted the numbers between 10 and 20, your upper bound would be 21\n",
    "- `size`: the number of samples you wanted to generate\n",
    "\n",
    "\n"
   ]
  },
  {
   "cell_type": "code",
   "execution_count": 40,
   "id": "a319b92a",
   "metadata": {},
   "outputs": [
    {
     "data": {
      "text/plain": [
       "array([17, 14, 13, 18, 19, 10, 20, 15, 10, 10])"
      ]
     },
     "metadata": {},
     "output_type": "display_data"
    }
   ],
   "source": [
    "#to get a sample of 1000 numbers randomly drawn from 10 and 20, we would do:\n",
    "randints = np.random.randint(low = 10, high = 21, size = 1000)\n",
    "display(randints[:10])"
   ]
  },
  {
   "cell_type": "code",
   "execution_count": 41,
   "id": "bf19d8c5",
   "metadata": {},
   "outputs": [
    {
     "data": {
      "text/plain": [
       "(array([104.,  96.,  78.,  93.,  91., 101.,  90., 100.,  75.,  92.,  80.]),\n",
       " array([10.        , 10.90909091, 11.81818182, 12.72727273, 13.63636364,\n",
       "        14.54545455, 15.45454545, 16.36363636, 17.27272727, 18.18181818,\n",
       "        19.09090909, 20.        ]),\n",
       " <BarContainer object of 11 artists>)"
      ]
     },
     "execution_count": 41,
     "metadata": {},
     "output_type": "execute_result"
    },
    {
     "data": {
      "image/png": "[encoded data removed]",
      "text/plain": [
       "<Figure size 640x480 with 1 Axes>"
      ]
     },
     "metadata": {},
     "output_type": "display_data"
    }
   ],
   "source": [
    "#we can plot this as a histogram to show you\n",
    "plt.hist(randints, bins = 11) # 11 bins just bcause we have 11 unique values!\n",
    "\n",
    "#this looks pretty uniform!"
   ]
  },
  {
   "cell_type": "markdown",
   "id": "2cfe3768",
   "metadata": {},
   "source": [
    "#### `np.random.random`\n",
    "\n",
    "While `np.randint` takes whole numbers in a range of values, `np.random` takes a random number of decimal values within the range 0 and 1. You can choose how many random numbers you generate:\n",
    "\n",
    "`np.random.random(size = n_samples)`"
   ]
  },
  {
   "cell_type": "code",
   "execution_count": 42,
   "id": "db94f0d4",
   "metadata": {},
   "outputs": [
    {
     "data": {
      "text/plain": [
       "array([0.36749217, 0.93532443, 0.79328312, 0.82180164, 0.86385785,\n",
       "       0.36770064, 0.80527383, 0.76189206, 0.08625485, 0.87386351,\n",
       "       0.03849577, 0.0500301 , 0.91810191, 0.10520093, 0.83598459])"
      ]
     },
     "execution_count": 42,
     "metadata": {},
     "output_type": "execute_result"
    }
   ],
   "source": [
    "randfloats = np.random.random(size = 1000)\n",
    "randfloats[:15]"
   ]
  },
  {
   "cell_type": "code",
   "execution_count": 43,
   "id": "d23ba46b",
   "metadata": {},
   "outputs": [
    {
     "data": {
      "image/png": "[encoded data removed]",
      "text/plain": [
       "<Figure size 640x480 with 1 Axes>"
      ]
     },
     "metadata": {},
     "output_type": "display_data"
    }
   ],
   "source": [
    "plt.hist(randfloats, bins=11);\n",
    "#here we can see that it is roughly uniform between 0 and 1"
   ]
  },
  {
   "cell_type": "markdown",
   "id": "c00acb9d",
   "metadata": {},
   "source": [
    "#### `np.random.randn`\n",
    "\n",
    "This function allows us to draw samples from the _standard normal_ distribution - i.e. a normal distribution with mean = 0 and std = 1. We can draw as many samples as we want by passing a number:\n",
    "\n",
    "`np.random.randn(1000)`"
   ]
  },
  {
   "cell_type": "code",
   "execution_count": 44,
   "id": "5a8443fe",
   "metadata": {},
   "outputs": [
    {
     "data": {
      "text/plain": [
       "array([ 0.80559072,  0.46900481,  0.31017451, -1.35252634,  1.49642797,\n",
       "        0.61237395,  0.43183374, -1.7193214 ,  0.53727849, -0.92000384,\n",
       "       -0.42688629,  1.49101009, -0.08610773,  0.29744211, -0.48303494])"
      ]
     },
     "execution_count": 44,
     "metadata": {},
     "output_type": "execute_result"
    }
   ],
   "source": [
    "randnorms = np.random.randn(1000)\n",
    "randnorms[:15]"
   ]
  },
  {
   "cell_type": "code",
   "execution_count": 45,
   "id": "a6a8741a",
   "metadata": {},
   "outputs": [
    {
     "data": {
      "image/png": "[encoded data removed]",
      "text/plain": [
       "<Figure size 640x480 with 1 Axes>"
      ]
     },
     "metadata": {},
     "output_type": "display_data"
    }
   ],
   "source": [
    "plt.hist(randnorms, bins = 21);\n",
    "#as you can see, the distribution of these randomly generated numbers is normally distributed and centred on zero"
   ]
  },
  {
   "cell_type": "markdown",
   "id": "2e36588f",
   "metadata": {},
   "source": [
    "#### `np.random.choice`\n",
    "\n",
    "The `np.random.choice` function allows us to randomly choose from elements of an array - this is particularly useful for things like bootstrapping. This function takes a few parameters:\n",
    "\n",
    "`np.random.choice(array, size, replace, p)`\n",
    "- `array`: this is the array that you want to sample from \n",
    "- `size`: the number of samples you want to draw\n",
    "- `replace`: whether we sample with replacement (i.e. you can sample the same element twice) or without replacement (no duplicates)\n",
    "- `p`: the probability associated with an element\n",
    "    - **this is not useful for you now and can be ignored**. By ignoring it, by default each element of your array is equally likely to be sampled.\n",
    "    - if you set something for p (it must be an array of the same length as your array) then it assigns a probability to each element so you can vary how likely something is to be sampled"
   ]
  },
  {
   "cell_type": "code",
   "execution_count": 46,
   "id": "0bda7b23",
   "metadata": {},
   "outputs": [
    {
     "data": {
      "text/plain": [
       "array([ 1.44319356, -1.08209552, -0.48303494, -0.20046917,  0.15510191,\n",
       "       -0.63747085, -1.32850728,  1.09102103, -0.29201184,  0.26282167,\n",
       "        1.5536981 , -0.81021613,  1.03252248, -0.24121646,  0.25466204])"
      ]
     },
     "metadata": {},
     "output_type": "display_data"
    },
    {
     "data": {
      "image/png": "[encoded data removed]",
      "text/plain": [
       "<Figure size 640x480 with 1 Axes>"
      ]
     },
     "metadata": {},
     "output_type": "display_data"
    }
   ],
   "source": [
    "samp_randnorms = np.random.choice(randnorms, 200) #takes 200 random samples from our normally distributed, randomly generated numbers\n",
    "display(samp_randnorms[:15])\n",
    "plt.hist(samp_randnorms); #this sample will be roughly normally distributed because our parent distribution is Normal."
   ]
  },
  {
   "cell_type": "markdown",
   "id": "c355aa5b",
   "metadata": {},
   "source": [
    "#### `np.random.shuffle`\n",
    "\n",
    "- this function can be used to randomly shuffle the elements of an array\n",
    "- this is nice if you want to do random permutations of an array and look at differences\n",
    "\n",
    "note: this function works **in place** -- that means that you do not need to do e.g. `array = np.random.shuffle(array)`. Simply calling `np.random.shuffle(array)` will shuffle the array and you don't need to set the variable to itself again"
   ]
  },
  {
   "cell_type": "code",
   "execution_count": 47,
   "id": "7e7e8636",
   "metadata": {},
   "outputs": [
    {
     "data": {
      "text/plain": [
       "array([4, 8, 2, 7, 9, 4, 3, 8, 3, 4])"
      ]
     },
     "metadata": {},
     "output_type": "display_data"
    }
   ],
   "source": [
    "x = np.random.randint(low = 0, high = 11, size = 10)\n",
    "display(x)"
   ]
  },
  {
   "cell_type": "code",
   "execution_count": 48,
   "id": "bb958b0d",
   "metadata": {},
   "outputs": [
    {
     "data": {
      "text/plain": [
       "array([0, 6, 7, 9, 5, 8, 6, 5, 8, 0])"
      ]
     },
     "metadata": {},
     "output_type": "display_data"
    }
   ],
   "source": [
    "np.random.shuffle(x) #rather than doing x = np.random.shuffle(x)\n",
    "display(x) #this has shuffled it, randomising the elements in your array"
   ]
  },
  {
   "cell_type": "markdown",
   "id": "79ac5f76",
   "metadata": {},
   "source": [
    "## Differences between data types\n",
    "\n",
    "- this is an extra section that just highlights the difference between the different data types mentioned so far, and how we can convert between them.\n",
    "- some bits of this may be confusing. It is an extra section that isn't immediately relevant, but good information to have."
   ]
  },
  {
   "cell_type": "markdown",
   "id": "a52dcdc7",
   "metadata": {},
   "source": [
    "## Numpy vs. Pandas\n",
    "\n",
    "Numpy arrays are an 'efficient' way of storing data within python. The functions that work on them from within the numpy package are optimised to be quick. This doesn't matter when handling small amounts of data, but when you are handling large datasets this quickly becomes incredibly important.\n",
    "\n",
    "\n",
    "Pandas is a package for dataframe manipulation and has two key data formats.\n",
    "- 1: Dataframe\n",
    "- 2: Series\n",
    "\n",
    "Pandas and numpy are designed to be overlapping, and complement each other well. Here I will highlight the differences (and similarities) between them"
   ]
  },
  {
   "cell_type": "code",
   "execution_count": 49,
   "id": "64699118",
   "metadata": {},
   "outputs": [],
   "source": [
    "# first, lets get a random sample of heights\n",
    "\n",
    "n = 50\n",
    "heights = np.random.random(n) +1 #simulate some heights in metres (between 1 and 2 metres, let's say)"
   ]
  },
  {
   "cell_type": "code",
   "execution_count": 50,
   "id": "cc9800d6",
   "metadata": {},
   "outputs": [
    {
     "data": {
      "text/plain": [
       "array([1.1297021 , 1.78976438, 1.14794526, 1.64391754, 1.48808852,\n",
       "       1.81864771, 1.10944457, 1.56555431, 1.72126832, 1.53674952,\n",
       "       1.544403  , 1.4355711 , 1.34506898, 1.43584476, 1.22816796,\n",
       "       1.73304311, 1.94483411, 1.51089383, 1.15061696, 1.81864828,\n",
       "       1.26328792, 1.95152586, 1.22871931, 1.21489481, 1.84477962,\n",
       "       1.83601856, 1.15165385, 1.60018284, 1.33922026, 1.7887086 ,\n",
       "       1.8568366 , 1.04931024, 1.96911527, 1.84336203, 1.70804633,\n",
       "       1.52591916, 1.91526118, 1.15723016, 1.7945069 , 1.67290041,\n",
       "       1.43886242, 1.7336805 , 1.61668215, 1.18590251, 1.43081923,\n",
       "       1.6290099 , 1.63178879, 1.92623912, 1.7403184 , 1.83740908])"
      ]
     },
     "execution_count": 50,
     "metadata": {},
     "output_type": "execute_result"
    }
   ],
   "source": [
    "heights\n",
    "# an array is basically just a list of numbers contained within one data structure"
   ]
  },
  {
   "cell_type": "markdown",
   "id": "426495f6",
   "metadata": {},
   "source": [
    "Numpy arrays can be converted to heights very easily, by creating a new dataframe from the array. We can do this and see what it looks like"
   ]
  },
  {
   "cell_type": "code",
   "execution_count": 51,
   "id": "dc41fcf0",
   "metadata": {},
   "outputs": [
    {
     "data": {
      "text/html": [
       "<div>\n",
       "<style scoped>\n",
       "    .dataframe tbody tr th:only-of-type {\n",
       "        vertical-align: middle;\n",
       "    }\n",
       "\n",
       "    .dataframe tbody tr th {\n",
       "        vertical-align: top;\n",
       "    }\n",
       "\n",
       "    .dataframe thead th {\n",
       "        text-align: right;\n",
       "    }\n",
       "</style>\n",
       "<table border=\"1\" class=\"dataframe\">\n",
       "  <thead>\n",
       "    <tr style=\"text-align: right;\">\n",
       "      <th></th>\n",
       "      <th>0</th>\n",
       "    </tr>\n",
       "  </thead>\n",
       "  <tbody>\n",
       "    <tr>\n",
       "      <th>0</th>\n",
       "      <td>1.129702</td>\n",
       "    </tr>\n",
       "    <tr>\n",
       "      <th>1</th>\n",
       "      <td>1.789764</td>\n",
       "    </tr>\n",
       "    <tr>\n",
       "      <th>2</th>\n",
       "      <td>1.147945</td>\n",
       "    </tr>\n",
       "    <tr>\n",
       "      <th>3</th>\n",
       "      <td>1.643918</td>\n",
       "    </tr>\n",
       "    <tr>\n",
       "      <th>4</th>\n",
       "      <td>1.488089</td>\n",
       "    </tr>\n",
       "  </tbody>\n",
       "</table>\n",
       "</div>"
      ],
      "text/plain": [
       "          0\n",
       "0  1.129702\n",
       "1  1.789764\n",
       "2  1.147945\n",
       "3  1.643918\n",
       "4  1.488089"
      ]
     },
     "metadata": {},
     "output_type": "display_data"
    },
    {
     "data": {
      "text/plain": [
       "(50, 1)"
      ]
     },
     "metadata": {},
     "output_type": "display_data"
    }
   ],
   "source": [
    "heights_df = pd.DataFrame(heights)\n",
    "display(heights_df.head())\n",
    "display(heights_df.shape)"
   ]
  },
  {
   "cell_type": "markdown",
   "id": "2646323c",
   "metadata": {},
   "source": [
    "by default it just creates a dataframe with as many rows as there are items in heights (50), and there is only one column (which has no name, because we didn't set one. Let's set one."
   ]
  },
  {
   "cell_type": "code",
   "execution_count": 52,
   "id": "edd8aa77",
   "metadata": {},
   "outputs": [
    {
     "data": {
      "text/html": [
       "<div>\n",
       "<style scoped>\n",
       "    .dataframe tbody tr th:only-of-type {\n",
       "        vertical-align: middle;\n",
       "    }\n",
       "\n",
       "    .dataframe tbody tr th {\n",
       "        vertical-align: top;\n",
       "    }\n",
       "\n",
       "    .dataframe thead th {\n",
       "        text-align: right;\n",
       "    }\n",
       "</style>\n",
       "<table border=\"1\" class=\"dataframe\">\n",
       "  <thead>\n",
       "    <tr style=\"text-align: right;\">\n",
       "      <th></th>\n",
       "      <th>height</th>\n",
       "    </tr>\n",
       "  </thead>\n",
       "  <tbody>\n",
       "    <tr>\n",
       "      <th>0</th>\n",
       "      <td>1.129702</td>\n",
       "    </tr>\n",
       "    <tr>\n",
       "      <th>1</th>\n",
       "      <td>1.789764</td>\n",
       "    </tr>\n",
       "    <tr>\n",
       "      <th>2</th>\n",
       "      <td>1.147945</td>\n",
       "    </tr>\n",
       "    <tr>\n",
       "      <th>3</th>\n",
       "      <td>1.643918</td>\n",
       "    </tr>\n",
       "    <tr>\n",
       "      <th>4</th>\n",
       "      <td>1.488089</td>\n",
       "    </tr>\n",
       "  </tbody>\n",
       "</table>\n",
       "</div>"
      ],
      "text/plain": [
       "     height\n",
       "0  1.129702\n",
       "1  1.789764\n",
       "2  1.147945\n",
       "3  1.643918\n",
       "4  1.488089"
      ]
     },
     "metadata": {},
     "output_type": "display_data"
    },
    {
     "data": {
      "text/plain": [
       "pandas.core.frame.DataFrame"
      ]
     },
     "metadata": {},
     "output_type": "display_data"
    }
   ],
   "source": [
    "heights_df.columns = ['height']\n",
    "display(heights_df.head())\n",
    "display(type(heights_df))"
   ]
  },
  {
   "cell_type": "markdown",
   "id": "eceafdf0",
   "metadata": {},
   "source": [
    "When we had the heights as a numpy array, we didn't really have much to help us know what is going on. With dataframes, we can put as much data as we want in (they can have different formats too, like strings or numbers or booleans) and assign headers that let us know what is contained within a column. This lets us store lots of information about individual observations in our dataset very clearly).\n",
    "\n",
    "Dataframes are different to numpy arrays. A dataframe is basically an excel sheet within python. Each column can have a header (like in excel) and it looks like a big table. An array is just a list of information one after the other. Sometimes we want things in dataframes, sometimes we want things in numpy arrays."
   ]
  },
  {
   "cell_type": "markdown",
   "id": "84b19558",
   "metadata": {},
   "source": [
    "#### pandas series\n",
    "\n",
    "When we take a single column from a dataframe, it is no longer a dataframe. Pandas call it a _Series_"
   ]
  },
  {
   "cell_type": "code",
   "execution_count": 53,
   "id": "5b8befee",
   "metadata": {},
   "outputs": [
    {
     "data": {
      "text/plain": [
       "pandas.core.series.Series"
      ]
     },
     "metadata": {},
     "output_type": "display_data"
    },
    {
     "data": {
      "text/plain": [
       "0    1.129702\n",
       "1    1.789764\n",
       "2    1.147945\n",
       "3    1.643918\n",
       "4    1.488089\n",
       "Name: height, dtype: float64"
      ]
     },
     "execution_count": 53,
     "metadata": {},
     "output_type": "execute_result"
    }
   ],
   "source": [
    "display(type(heights_df.height))\n",
    "heights_df.height.head()"
   ]
  },
  {
   "cell_type": "markdown",
   "id": "8ae39da5",
   "metadata": {},
   "source": [
    "A pandas series and a numpy array are very, very similar. As we can see, it is just a list of the values for that column. Pandas series and numpy arrays have slightly different functions built in. You can use a pandas series as the input to any numpy function and it will basically make it into a numpy array, do the function, then output a numpy array.\n",
    "\n",
    "\n",
    "Because Pandas structures and Numpy arrays are two different data structures, they have slightly different syntax for doing things. For example:\n",
    "\n",
    "- If you want to sample a dataframe randomly, you can use `df.sample(n = 10)` to randomly select 10 rows. If you wanted to randomly sample a numpy array, you would need to use `np.random.choice(array, 10)`.\n",
    "- If you wanted to get the median, you would use `df.median()`, whereas to get the median of a numpy array you need to use `np.median(array)`.\n",
    "- If you wanted to get the unique values for a dataframe column you would use `df.column.unique()`. For a numpy array, you would use `np.unique(array)`.\n",
    "\n",
    "Broadly speaking, there are equivalent ways of doing things between the two data structures, but they are slightly different."
   ]
  },
  {
   "cell_type": "markdown",
   "id": "9277294c",
   "metadata": {},
   "source": [
    "### Moving between pandas and numpy\n",
    "\n",
    "As the two packages are similar, we can move between them pretty easily.\n",
    "\n",
    "#### Going from Numpy -> Pandas\n",
    "- we can create a dataframe from an array simply by calling:\n",
    "    - `dataframe = pd.DataFrame(array, columns = ['list', 'of', 'column', 'names'])`\n",
    "    - the list of column names needs to be as long as the number of columns in your array if it is a 2-D array\n",
    "    \n",
    "    \n",
    "#### Going from Pandas -> Numpy\n",
    "- we can turn a dataframe into a numpy array by calling:\n",
    "    - `df.to_numpy()` "
   ]
  },
  {
   "cell_type": "code",
   "execution_count": 54,
   "id": "15943f7c",
   "metadata": {},
   "outputs": [
    {
     "data": {
      "text/html": [
       "<div>\n",
       "<style scoped>\n",
       "    .dataframe tbody tr th:only-of-type {\n",
       "        vertical-align: middle;\n",
       "    }\n",
       "\n",
       "    .dataframe tbody tr th {\n",
       "        vertical-align: top;\n",
       "    }\n",
       "\n",
       "    .dataframe thead th {\n",
       "        text-align: right;\n",
       "    }\n",
       "</style>\n",
       "<table border=\"1\" class=\"dataframe\">\n",
       "  <thead>\n",
       "    <tr style=\"text-align: right;\">\n",
       "      <th></th>\n",
       "      <th>Name</th>\n",
       "      <th>Type</th>\n",
       "      <th>Colour</th>\n",
       "      <th>length</th>\n",
       "      <th>length2</th>\n",
       "    </tr>\n",
       "  </thead>\n",
       "  <tbody>\n",
       "    <tr>\n",
       "      <th>0</th>\n",
       "      <td>lettuce</td>\n",
       "      <td>veg</td>\n",
       "      <td>green</td>\n",
       "      <td>1</td>\n",
       "      <td>12</td>\n",
       "    </tr>\n",
       "    <tr>\n",
       "      <th>1</th>\n",
       "      <td>cucumber</td>\n",
       "      <td>veg</td>\n",
       "      <td>green</td>\n",
       "      <td>4</td>\n",
       "      <td>3</td>\n",
       "    </tr>\n",
       "    <tr>\n",
       "      <th>2</th>\n",
       "      <td>orange</td>\n",
       "      <td>fruit</td>\n",
       "      <td>orange</td>\n",
       "      <td>5</td>\n",
       "      <td>12</td>\n",
       "    </tr>\n",
       "    <tr>\n",
       "      <th>3</th>\n",
       "      <td>banana</td>\n",
       "      <td>fruit</td>\n",
       "      <td>yellow</td>\n",
       "      <td>6</td>\n",
       "      <td>10</td>\n",
       "    </tr>\n",
       "    <tr>\n",
       "      <th>4</th>\n",
       "      <td>kiwi</td>\n",
       "      <td>fruit</td>\n",
       "      <td>brown</td>\n",
       "      <td>2</td>\n",
       "      <td>19</td>\n",
       "    </tr>\n",
       "  </tbody>\n",
       "</table>\n",
       "</div>"
      ],
      "text/plain": [
       "       Name   Type  Colour  length  length2\n",
       "0   lettuce    veg   green       1       12\n",
       "1  cucumber    veg   green       4        3\n",
       "2    orange  fruit  orange       5       12\n",
       "3    banana  fruit  yellow       6       10\n",
       "4      kiwi  fruit   brown       2       19"
      ]
     },
     "metadata": {},
     "output_type": "display_data"
    },
    {
     "data": {
      "text/plain": [
       "array([['lettuce', 'veg', 'green', 1, 12],\n",
       "       ['cucumber', 'veg', 'green', 4, 3],\n",
       "       ['orange', 'fruit', 'orange', 5, 12],\n",
       "       ['banana', 'fruit', 'yellow', 6, 10],\n",
       "       ['kiwi', 'fruit', 'brown', 2, 19],\n",
       "       ['strawberry', 'fruit', 'red', 4, 11],\n",
       "       ['onion', 'veg', 'brown', 3, 6],\n",
       "       ['carrot', 'veg', 'orange', 0, 4],\n",
       "       ['potato', 'veg', 'white', 1, 13],\n",
       "       ['lychee', 'fruit', 'white', 4, 18],\n",
       "       ['plum', 'fruit', 'purple', 3, 4],\n",
       "       ['apple', 'fruit', 'green', 2, 17]], dtype=object)"
      ]
     },
     "metadata": {},
     "output_type": "display_data"
    },
    {
     "data": {
      "text/plain": [
       "(12, 5)"
      ]
     },
     "metadata": {},
     "output_type": "display_data"
    }
   ],
   "source": [
    "display(df.head())\n",
    "display(df.to_numpy())\n",
    "display(df.to_numpy().shape)"
   ]
  },
  {
   "cell_type": "markdown",
   "id": "4d127ed6",
   "metadata": {},
   "source": [
    "As you can see, this converts the 12 x 5 dataframe into a 12 x 5 numpy array, where each row of the numpy array was a row of the dataframe. We lose the header information doing this, so have to try to guess it (another benefit to pandas dataframes!\n",
    "\n",
    "We can also take individual columns from our dataframe and turn them into a numpy array. This is used quite commonly when you need just the one variable and want to do something with it\n",
    "\n",
    "To do this, we would do: `df.column_name.to_numpy()`"
   ]
  },
  {
   "cell_type": "code",
   "execution_count": 55,
   "id": "f8d2f7cc",
   "metadata": {},
   "outputs": [
    {
     "data": {
      "text/plain": [
       "array([12,  3, 12, 10, 19, 11,  6,  4, 13, 18,  4, 17])"
      ]
     },
     "execution_count": 55,
     "metadata": {},
     "output_type": "execute_result"
    }
   ],
   "source": [
    "df.length2.to_numpy()"
   ]
  },
  {
   "cell_type": "code",
   "execution_count": 56,
   "id": "9f29df93",
   "metadata": {},
   "outputs": [
    {
     "data": {
      "text/plain": [
       "[12, 3, 12, 10, 19, 11, 6, 4, 13, 18, 4, 17]"
      ]
     },
     "execution_count": 56,
     "metadata": {},
     "output_type": "execute_result"
    }
   ],
   "source": [
    "df.length2.to_list() #and we can also make individual columns into lists if you wanted to"
   ]
  }
 ],
 "metadata": {
  "kernelspec": {
   "display_name": "Python 3 (ipykernel)",
   "language": "python",
   "name": "python3"
  },
  "language_info": {
   "codemirror_mode": {
    "name": "ipython",
    "version": 3
   },
   "file_extension": ".py",
   "mimetype": "text/x-python",
   "name": "python",
   "nbconvert_exporter": "python",
   "pygments_lexer": "ipython3",
   "version": "3.9.13"
  }
 },
 "nbformat": 4,
 "nbformat_minor": 5
}
