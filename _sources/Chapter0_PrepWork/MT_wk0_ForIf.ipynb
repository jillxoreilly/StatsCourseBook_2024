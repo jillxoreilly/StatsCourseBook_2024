{
 "cells": [
  {
   "cell_type": "markdown",
   "id": "683c5931-696c-41b1-a04e-2d447a35854f",
   "metadata": {
    "tags": []
   },
   "source": [
    "# FOR loop with IF statement\n",
    "\n",
    "Sometimes we don't just want to do the same operation on every input - we might want to do different operations depending on some condition.\n",
    "\n",
    "For this we need a statement of the form IF...THEN"
   ]
  },
  {
   "cell_type": "markdown",
   "id": "3f2d53ec-b08b-4e49-8164-26aecc04dce2",
   "metadata": {},
   "source": [
    "### Set up Python libraries\n",
    "\n",
    "As usual, run the code cell below to import the relevant Python libraries"
   ]
  },
  {
   "cell_type": "code",
   "execution_count": 1,
   "id": "0e34136e-67de-447a-90b3-709e996637d3",
   "metadata": {
    "tags": []
   },
   "outputs": [],
   "source": [
    "# Set-up Python libraries - you need to run this but you don't need to change it\n",
    "import numpy as np\n",
    "import matplotlib.pyplot as plt\n",
    "import scipy.stats as stats\n",
    "import pandas as pd\n",
    "import seaborn as sns\n",
    "sns.set_theme(style='white')\n",
    "import statsmodels.api as sm\n",
    "import statsmodels.formula.api as smf"
   ]
  },
  {
   "cell_type": "markdown",
   "id": "cfeef0ce-2ccb-4b0c-8b30-403d4f2b72ea",
   "metadata": {},
   "source": [
    "## Checking a condition\n",
    "\n",
    "It is said that you should only eat shellfish in months that don't have \"r\" in the name.\n",
    "\n",
    "We can check whether a word has an r in the name using the test `in`, which returns `True` or `False`:"
   ]
  },
  {
   "cell_type": "code",
   "execution_count": 2,
   "id": "914a91b4-3cce-4b9a-a121-2f606b5f5445",
   "metadata": {
    "tags": []
   },
   "outputs": [
    {
     "data": {
      "text/plain": [
       "True"
      ]
     },
     "execution_count": 2,
     "metadata": {},
     "output_type": "execute_result"
    }
   ],
   "source": [
    "\"r\" in \"January\""
   ]
  },
  {
   "cell_type": "code",
   "execution_count": 3,
   "id": "f91eea85-3c90-47c3-bc24-a17abfafd26c",
   "metadata": {
    "tags": []
   },
   "outputs": [
    {
     "data": {
      "text/plain": [
       "False"
      ]
     },
     "execution_count": 3,
     "metadata": {},
     "output_type": "execute_result"
    }
   ],
   "source": [
    "\"r\" in \"May\""
   ]
  },
  {
   "cell_type": "markdown",
   "id": "e1b427d8-1399-4f0e-9287-806211bac236",
   "metadata": {},
   "source": [
    "We can make a variable called `month` and set it to any string we like (we will need to do this to make our loop work):"
   ]
  },
  {
   "cell_type": "code",
   "execution_count": 4,
   "id": "7cd236f8-3fbc-463f-a95a-9239d80e7859",
   "metadata": {
    "tags": []
   },
   "outputs": [
    {
     "name": "stdout",
     "output_type": "stream",
     "text": [
      "Eleventember\n"
     ]
    }
   ],
   "source": [
    "month = \"Eleventember\"\n",
    "print(month)"
   ]
  },
  {
   "cell_type": "markdown",
   "id": "6263dfdb-d5a4-4cca-b2f6-5790bd914e78",
   "metadata": {},
   "source": [
    "... and we can then check if `month` contains an r:"
   ]
  },
  {
   "cell_type": "code",
   "execution_count": 5,
   "id": "ec44a76a-9377-44ef-b408-09e3409c1b38",
   "metadata": {
    "tags": []
   },
   "outputs": [
    {
     "data": {
      "text/plain": [
       "False"
      ]
     },
     "execution_count": 5,
     "metadata": {},
     "output_type": "execute_result"
    }
   ],
   "source": [
    "month = \"Eleventember\"\n",
    "\"r\" in \"month\""
   ]
  },
  {
   "cell_type": "markdown",
   "id": "48f4b162-a17c-4ff7-a407-723c19084cb7",
   "metadata": {
    "tags": []
   },
   "source": [
    "To summarize, `\"r\" in month` translates as:\n",
    "* if there is an r in the string contained in the variable <tt>month</tt>, return `True`\n",
    "* otherwise return `False`"
   ]
  },
  {
   "cell_type": "markdown",
   "id": "39e58b21-9f86-4220-a33b-ebe7cc0e7d0d",
   "metadata": {},
   "source": [
    "### Comprehension\n",
    "\n",
    "**a. what will happen if I run this code block?**\n",
    "* Think first, the uncommment it and see"
   ]
  },
  {
   "cell_type": "code",
   "execution_count": 6,
   "id": "4cac45b6-15f2-4db4-a442-1b4fc999c87e",
   "metadata": {
    "tags": []
   },
   "outputs": [],
   "source": [
    "# month = \"Bananas\"\n",
    "# r in \"month\""
   ]
  },
  {
   "cell_type": "markdown",
   "id": "e627987c-303e-4e85-9c04-37e66ea725e5",
   "metadata": {},
   "source": [
    "## IF statement\n",
    "\n",
    "We can set up an `if` statement to print different statements depending on whether there is an r in the name of the month"
   ]
  },
  {
   "cell_type": "code",
   "execution_count": 7,
   "id": "87774226-0e5f-4043-9eb5-9e3c020207b3",
   "metadata": {},
   "outputs": [
    {
     "name": "stdout",
     "output_type": "stream",
     "text": [
      "Do eat shellfish in August\n"
     ]
    }
   ],
   "source": [
    "month = \"August\"\n",
    "\n",
    "if (\"r\" in month):\n",
    "    print('Don\\'t eat shellfish in ' + month)\n",
    "else:\n",
    "    print('Do eat shellfish in ' + month)   "
   ]
  },
  {
   "cell_type": "markdown",
   "id": "17ea1aa2-367d-4b74-9243-242377927d2d",
   "metadata": {},
   "source": [
    "Now can you make a <tt>for</tt> loop that checks every month and prints a sentence about whether to eat shellfish, as in the <tt>if</tt> statement above?"
   ]
  },
  {
   "cell_type": "code",
   "execution_count": 8,
   "id": "d37838ac-db0f-424b-85b9-8693fa0823bd",
   "metadata": {},
   "outputs": [
    {
     "name": "stdout",
     "output_type": "stream",
     "text": [
      "Don't eat shellfish in January\n",
      "Don't eat shellfish in February\n",
      "Don't eat shellfish in March\n",
      "Don't eat shellfish in April\n",
      "Do eat shellfish in May\n",
      "Do eat shellfish in June\n",
      "Do eat shellfish in July\n",
      "Do eat shellfish in August\n",
      "Don't eat shellfish in September\n",
      "Don't eat shellfish in October\n",
      "Don't eat shellfish in November\n",
      "Don't eat shellfish in Decemeber\n"
     ]
    }
   ],
   "source": [
    "months=['January','February','March','April','May','June',\n",
    "        'July','August','September','October','November','Decemeber']\n",
    "\n",
    "for i in range(12): # complete the code\n",
    "    if (\"r\" in months[i]):\n",
    "        print('Don\\'t eat shellfish in ' + months[i])\n",
    "    else:\n",
    "        print('Do eat shellfish in ' + months[i]) \n",
    "        \n"
   ]
  }
 ],
 "metadata": {
  "kernelspec": {
   "display_name": "Python 3 (ipykernel)",
   "language": "python",
   "name": "python3"
  },
  "language_info": {
   "codemirror_mode": {
    "name": "ipython",
    "version": 3
   },
   "file_extension": ".py",
   "mimetype": "text/x-python",
   "name": "python",
   "nbconvert_exporter": "python",
   "pygments_lexer": "ipython3",
   "version": "3.9.18"
  }
 },
 "nbformat": 4,
 "nbformat_minor": 5
}
