{
 "cells": [
  {
   "cell_type": "markdown",
   "id": "8716d8ff",
   "metadata": {},
   "source": [
    "# The <tt>while</tt> loop\n",
    "\n",
    "Here we meet the <tt>while</tt> loop, which is another way of getting the computer to repeat the same calculationa a lot of times.\n",
    "\n",
    "The difference between a <tt>for</tt> loop and a <tt>while</tt> loop is as follows:\n",
    "<ul>\n",
    "   <li> In the <tt>for</tt> loop, the commands inside the loop are repeated a predetermined number of times - once for each value of a variable in an input list\n",
    "   <li> In the <tt>while</tt> loop, the commands inside the loop are repeated until some condition is met, no matter how many repeats are needed to reach that condition\n",
    "</ul>"
   ]
  },
  {
   "cell_type": "markdown",
   "id": "554bd33b",
   "metadata": {},
   "source": [
    "### Set up Python libraries\n",
    "\n",
    "As usual, run the code cell below to import the relevant Python libraries"
   ]
  },
  {
   "cell_type": "code",
   "execution_count": 42,
   "id": "6e215164",
   "metadata": {},
   "outputs": [],
   "source": [
    "# Set-up Python libraries - you need to run this but you don't need to change it\n",
    "import numpy as np\n",
    "import matplotlib.pyplot as plt\n",
    "import scipy.stats as stats\n",
    "import pandas \n",
    "import seaborn as sns\n",
    "sns.set_theme()"
   ]
  },
  {
   "cell_type": "markdown",
   "id": "73c0ffd2",
   "metadata": {},
   "source": [
    "## Example: Fibonacci Sequence\n",
    "\n",
    "The Fibonacci Sequence is a sequence of numbers that begins [0,1,...] and continues by adding together the two previous numbers such that $$ x_i = x_{i-1} + x_{i-2} $$\n",
    "\n",
    "The sequence begins [0, 1, 1, 2, 3, 5, 8, 13..... ] and goes on forever.\n",
    "\n",
    "Here is a <tt>for</tt> loop to calculate the first 10 elements of the Fibonacci sequence "
   ]
  },
  {
   "cell_type": "code",
   "execution_count": 43,
   "id": "b4cd955a",
   "metadata": {},
   "outputs": [
    {
     "data": {
      "text/plain": [
       "Text(0, 0.5, '$x_i$')"
      ]
     },
     "execution_count": 43,
     "metadata": {},
     "output_type": "execute_result"
    },
    {
     "data": {
      "image/png": "[encoded data removed]",
      "text/plain": [
       "<Figure size 640x480 with 1 Axes>"
      ]
     },
     "metadata": {},
     "output_type": "display_data"
    }
   ],
   "source": [
    "n = 10 # number of elements to calculate\n",
    "fibonaccis = np.empty(n) \n",
    "\n",
    "# get the sequence started\n",
    "fibonaccis[0] = 0\n",
    "fibonaccis[1] = 1\n",
    "\n",
    "for i in range(2,n): # start in place 2 as we already set the first two elements of the sequence (places 0 and 1)\n",
    "    fibonaccis[i] = fibonaccis[i-1] + fibonaccis[i-2]# your code here to calculate the ith Fibonacci number\n",
    "    \n",
    "plt.plot(fibonaccis,'.-')\n",
    "plt.xlabel('$i$')\n",
    "plt.ylabel('$x_i$')"
   ]
  },
  {
   "cell_type": "markdown",
   "id": "c91da5e5",
   "metadata": {},
   "source": [
    "Say we instead want to find all Fibonacci numbers less than 1000.\n",
    "\n",
    "We can do it using a <tt>while</tt> loop. Let's get ready:"
   ]
  },
  {
   "cell_type": "code",
   "execution_count": 57,
   "id": "7b845ea4",
   "metadata": {},
   "outputs": [
    {
     "data": {
      "text/plain": [
       "array([0., 1.])"
      ]
     },
     "execution_count": 57,
     "metadata": {},
     "output_type": "execute_result"
    }
   ],
   "source": [
    "fibonaccis = np.array([]) # this time we create an empty array to store our Fibonacci numbers\n",
    "\n",
    "# each new number will be appended to the array (as we don't know how long the array will ultimately be)\n",
    "fibonaccis = np.append(fibonaccis,[0])\n",
    "fibonaccis = np.append(fibonaccis,[1])\n",
    "\n",
    "fibonaccis"
   ]
  },
  {
   "cell_type": "markdown",
   "id": "f94d001e",
   "metadata": {},
   "source": [
    "The condition for stopping our while loop is that the last number in the sequence is greater than 1000.\n",
    "\n",
    "To check the value of the last number in a <tt>numpy</tt> array, we use the syntax [-1]"
   ]
  },
  {
   "cell_type": "code",
   "execution_count": 60,
   "id": "858444aa",
   "metadata": {},
   "outputs": [
    {
     "data": {
      "text/plain": [
       "9"
      ]
     },
     "execution_count": 60,
     "metadata": {},
     "output_type": "execute_result"
    }
   ],
   "source": [
    "anyoldnumbers = [3,5,2,1,6,9]\n",
    "anyoldnumbers[-1]"
   ]
  },
  {
   "cell_type": "code",
   "execution_count": 64,
   "id": "d3ca1e19",
   "metadata": {},
   "outputs": [
    {
     "data": {
      "text/plain": [
       "array([0.000e+00, 1.000e+00, 1.000e+00, 2.000e+00, 3.000e+00, 5.000e+00,\n",
       "       8.000e+00, 1.300e+01, 2.100e+01, 3.400e+01, 5.500e+01, 8.900e+01,\n",
       "       1.440e+02, 2.330e+02, 3.770e+02, 6.100e+02, 9.870e+02, 1.597e+03])"
      ]
     },
     "execution_count": 64,
     "metadata": {},
     "output_type": "execute_result"
    }
   ],
   "source": [
    "fibonaccis = np.array([]) # this time we create an empty array to store our Fibonacci numbers\n",
    "\n",
    "# each new number will be appended to the array (as we don't know how long the array will ultimately be)\n",
    "fibonaccis = np.append(fibonaccis,[0])\n",
    "fibonaccis = np.append(fibonaccis,[1])\n",
    "\n",
    "i=2 # start in place 2 as we already set the first two elements of the sequence (places 0 and 1)\n",
    "while fibonaccis[-1] < 1000:\n",
    "        new_fibonacci = fibonaccis[i-1] + fibonaccis[i-2]# your code here to calculate the ith Fibonacci number\n",
    "        fibonaccis = np.append(fibonaccis, new_fibonacci)\n",
    "        i=i+1\n",
    "fibonaccis       "
   ]
  },
  {
   "cell_type": "code",
   "execution_count": null,
   "id": "906880c4",
   "metadata": {},
   "outputs": [],
   "source": []
  }
 ],
 "metadata": {
  "kernelspec": {
   "display_name": "Python 3 (ipykernel)",
   "language": "python",
   "name": "python3"
  },
  "language_info": {
   "codemirror_mode": {
    "name": "ipython",
    "version": 3
   },
   "file_extension": ".py",
   "mimetype": "text/x-python",
   "name": "python",
   "nbconvert_exporter": "python",
   "pygments_lexer": "ipython3",
   "version": "3.9.13"
  }
 },
 "nbformat": 4,
 "nbformat_minor": 5
}
