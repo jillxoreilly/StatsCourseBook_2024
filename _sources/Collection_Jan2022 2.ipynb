{
 "cells": [
  {
   "cell_type": "markdown",
   "id": "d9661bca",
   "metadata": {},
   "source": [
    "# Movie data\n",
    "\n",
    "The file 'MovieProfits.csv' contains data on 609 movies from the years 2008-2012, from the website rottentomatoes.com\n",
    "\n",
    "\n",
    "For each Movie we have some information including: \n",
    "<ul>\n",
    "    <li> The gross box office turnover (US Gross) in millions of dollars\n",
    "    <li> The budget for making the movie, in millions of dollars\n",
    "    <li> The duration or run time of the movie\n",
    "    <li> The critics' score out of 100%\n",
    "</ul>\n",
    "\n",
    "You will complete a series of data analysis tasks as instructed in the questions below.\n",
    "\n",
    "You will receive an overall grade from your tutor.\n",
    "\n",
    "Each question-part carries roughly equal weight.\n",
    "\n",
    "        \n",
    "### Set up Python libraries\n",
    "\n",
    "As usual, run the code cell below to import the relevant Python libraries"
   ]
  },
  {
   "cell_type": "code",
   "execution_count": 62,
   "id": "488d6a42",
   "metadata": {},
   "outputs": [],
   "source": [
    "# Set-up Python libraries - you need to run this but you don't need to change it\n",
    "import numpy as np\n",
    "import matplotlib.pyplot as plt\n",
    "import scipy.stats as stats\n",
    "import pandas \n",
    "import seaborn as sns\n",
    "sns.set_theme()\n",
    "sns.set_style('whitegrid')"
   ]
  },
  {
   "cell_type": "markdown",
   "id": "096c1f5f",
   "metadata": {},
   "source": [
    "### Import and view the data"
   ]
  },
  {
   "cell_type": "code",
   "execution_count": 63,
   "id": "3653a722",
   "metadata": {},
   "outputs": [
    {
     "data": {
      "text/html": [
       "<div>\n",
       "<style scoped>\n",
       "    .dataframe tbody tr th:only-of-type {\n",
       "        vertical-align: middle;\n",
       "    }\n",
       "\n",
       "    .dataframe tbody tr th {\n",
       "        vertical-align: top;\n",
       "    }\n",
       "\n",
       "    .dataframe thead th {\n",
       "        text-align: right;\n",
       "    }\n",
       "</style>\n",
       "<table border=\"1\" class=\"dataframe\">\n",
       "  <thead>\n",
       "    <tr style=\"text-align: right;\">\n",
       "      <th></th>\n",
       "      <th>Year</th>\n",
       "      <th>Movie</th>\n",
       "      <th>US Gross ($M)</th>\n",
       "      <th>Budget ($M)</th>\n",
       "      <th>Run Time (min)</th>\n",
       "      <th>Critic Score (Rotten Tomatoes)</th>\n",
       "    </tr>\n",
       "  </thead>\n",
       "  <tbody>\n",
       "    <tr>\n",
       "      <th>0</th>\n",
       "      <td>2012</td>\n",
       "      <td>Django Unchained</td>\n",
       "      <td>162.805434</td>\n",
       "      <td>100.0</td>\n",
       "      <td>165</td>\n",
       "      <td>88</td>\n",
       "    </tr>\n",
       "    <tr>\n",
       "      <th>1</th>\n",
       "      <td>2012</td>\n",
       "      <td>Parental Guidance</td>\n",
       "      <td>77.264926</td>\n",
       "      <td>25.0</td>\n",
       "      <td>105</td>\n",
       "      <td>18</td>\n",
       "    </tr>\n",
       "    <tr>\n",
       "      <th>2</th>\n",
       "      <td>2012</td>\n",
       "      <td>The Impossible</td>\n",
       "      <td>19.019882</td>\n",
       "      <td>40.0</td>\n",
       "      <td>114</td>\n",
       "      <td>81</td>\n",
       "    </tr>\n",
       "    <tr>\n",
       "      <th>3</th>\n",
       "      <td>2012</td>\n",
       "      <td>Jack Reacher</td>\n",
       "      <td>80.070736</td>\n",
       "      <td>60.0</td>\n",
       "      <td>130</td>\n",
       "      <td>61</td>\n",
       "    </tr>\n",
       "    <tr>\n",
       "      <th>4</th>\n",
       "      <td>2012</td>\n",
       "      <td>This is 40</td>\n",
       "      <td>67.544505</td>\n",
       "      <td>35.0</td>\n",
       "      <td>134</td>\n",
       "      <td>51</td>\n",
       "    </tr>\n",
       "    <tr>\n",
       "      <th>...</th>\n",
       "      <td>...</td>\n",
       "      <td>...</td>\n",
       "      <td>...</td>\n",
       "      <td>...</td>\n",
       "      <td>...</td>\n",
       "      <td>...</td>\n",
       "    </tr>\n",
       "    <tr>\n",
       "      <th>604</th>\n",
       "      <td>2008</td>\n",
       "      <td>Mad Money</td>\n",
       "      <td>20.688843</td>\n",
       "      <td>22.0</td>\n",
       "      <td>104</td>\n",
       "      <td>22</td>\n",
       "    </tr>\n",
       "    <tr>\n",
       "      <th>605</th>\n",
       "      <td>2008</td>\n",
       "      <td>27 Dresses</td>\n",
       "      <td>76.808654</td>\n",
       "      <td>30.0</td>\n",
       "      <td>111</td>\n",
       "      <td>41</td>\n",
       "    </tr>\n",
       "    <tr>\n",
       "      <th>606</th>\n",
       "      <td>2008</td>\n",
       "      <td>Cloverfield</td>\n",
       "      <td>80.048433</td>\n",
       "      <td>25.0</td>\n",
       "      <td>85</td>\n",
       "      <td>77</td>\n",
       "    </tr>\n",
       "    <tr>\n",
       "      <th>607</th>\n",
       "      <td>2008</td>\n",
       "      <td>In the Name of the King: A Dungeon Siege Tale</td>\n",
       "      <td>4.775656</td>\n",
       "      <td>60.0</td>\n",
       "      <td>127</td>\n",
       "      <td>4</td>\n",
       "    </tr>\n",
       "    <tr>\n",
       "      <th>608</th>\n",
       "      <td>2008</td>\n",
       "      <td>One Missed Call</td>\n",
       "      <td>26.890041</td>\n",
       "      <td>20.0</td>\n",
       "      <td>87</td>\n",
       "      <td>0</td>\n",
       "    </tr>\n",
       "  </tbody>\n",
       "</table>\n",
       "<p>609 rows × 6 columns</p>\n",
       "</div>"
      ],
      "text/plain": [
       "     Year                                          Movie  US Gross ($M)  \\\n",
       "0    2012                               Django Unchained     162.805434   \n",
       "1    2012                              Parental Guidance      77.264926   \n",
       "2    2012                                 The Impossible      19.019882   \n",
       "3    2012                                   Jack Reacher      80.070736   \n",
       "4    2012                                     This is 40      67.544505   \n",
       "..    ...                                            ...            ...   \n",
       "604  2008                                      Mad Money      20.688843   \n",
       "605  2008                                     27 Dresses      76.808654   \n",
       "606  2008                                    Cloverfield      80.048433   \n",
       "607  2008  In the Name of the King: A Dungeon Siege Tale       4.775656   \n",
       "608  2008                                One Missed Call      26.890041   \n",
       "\n",
       "     Budget ($M)  Run Time (min)  Critic Score (Rotten Tomatoes)  \n",
       "0          100.0             165                              88  \n",
       "1           25.0             105                              18  \n",
       "2           40.0             114                              81  \n",
       "3           60.0             130                              61  \n",
       "4           35.0             134                              51  \n",
       "..           ...             ...                             ...  \n",
       "604         22.0             104                              22  \n",
       "605         30.0             111                              41  \n",
       "606         25.0              85                              77  \n",
       "607         60.0             127                               4  \n",
       "608         20.0              87                               0  \n",
       "\n",
       "[609 rows x 6 columns]"
      ]
     },
     "execution_count": 63,
     "metadata": {},
     "output_type": "execute_result"
    }
   ],
   "source": [
    "movies=pandas.read_csv('https://raw.githubusercontent.com/jillxoreilly/StatsCourseBook/main/data/MovieProfits.csv')\n",
    "movies"
   ]
  },
  {
   "cell_type": "markdown",
   "id": "dac4b1ec",
   "metadata": {},
   "source": [
    "#### a) Find and remove outliers\n",
    "\n",
    "There are some erroneous values in the columns 'Year' and 'Run Time (min)'. \n",
    "<ul>\n",
    "    <li>Find these and replace them with NaNs.\n",
    "    <li>Briefly justify (in the text box below) which values you considered erroneous\n",
    "</ul>"
   ]
  },
  {
   "cell_type": "code",
   "execution_count": 65,
   "id": "d7581d21",
   "metadata": {},
   "outputs": [],
   "source": [
    "# Your code here to replace erroenous values with NaNs\n",
    "# No need to show your working\n"
   ]
  },
  {
   "cell_type": "markdown",
   "id": "897963c0",
   "metadata": {},
   "source": [
    "[ your comments here]"
   ]
  },
  {
   "cell_type": "markdown",
   "id": "5c103b16",
   "metadata": {},
   "source": [
    "#### b) Plot the relationship between Budget and Gross Turnover\n",
    "\n",
    "<ul>\n",
    "    <li> Create a scatterplot showing the relationship between Budget and Gross Turnover\n",
    "    <li> Add the line x=y so we can see which movies made a profit and which made a loss\n",
    "</ul>"
   ]
  },
  {
   "cell_type": "code",
   "execution_count": 54,
   "id": "9c1cc6a0",
   "metadata": {},
   "outputs": [],
   "source": [
    "# make a scatterplot\n",
    "\n",
    "# add the line x=y so we can see which movies made a profit and which made a loss\n"
   ]
  },
  {
   "cell_type": "markdown",
   "id": "eae5f50a",
   "metadata": {},
   "source": [
    "#### c) Comment on the plot made in (b)\n",
    "<ul>\n",
    "    <li> Do movies with a higher budget have a higher gross turnover?\n",
    "    <li> Do all movies make a profit or do some make a loss?\n",
    "    <li> Comment on anything else you notice about the data distribution\n",
    "</ul>\n",
    "Support your answer with descriptive statistics where appropriate"
   ]
  },
  {
   "cell_type": "code",
   "execution_count": 55,
   "id": "9066c288",
   "metadata": {},
   "outputs": [],
   "source": [
    "# supporting calculations\n"
   ]
  },
  {
   "cell_type": "markdown",
   "id": "e4a9efb6",
   "metadata": {},
   "source": [
    "[ your comments here ]"
   ]
  },
  {
   "cell_type": "markdown",
   "id": "24d6a402",
   "metadata": {},
   "source": [
    "#### d) Is there a correlation between Budget and Gross Turnover?\n",
    "\n",
    "<ul>\n",
    "<li>Calculate the correlation coefficient\n",
    "<li>Briefly justify your choice of correlation method\n",
    "</ul>"
   ]
  },
  {
   "cell_type": "code",
   "execution_count": 32,
   "id": "e2a547f7",
   "metadata": {},
   "outputs": [
    {
     "data": {
      "text/plain": [
       "0.6084125250514073"
      ]
     },
     "execution_count": 32,
     "metadata": {},
     "output_type": "execute_result"
    }
   ],
   "source": [
    "# your code here for the correlation\n"
   ]
  },
  {
   "cell_type": "markdown",
   "id": "35abda56",
   "metadata": {},
   "source": [
    "[ your comments here]"
   ]
  },
  {
   "cell_type": "markdown",
   "id": "01a459ca",
   "metadata": {},
   "source": [
    "#### e) Add a column to the dataframe for 'Profit ($M)'\n",
    " ... Where profit is defined as Gross Turnover minus Budget"
   ]
  },
  {
   "cell_type": "code",
   "execution_count": 57,
   "id": "d152585a",
   "metadata": {},
   "outputs": [],
   "source": [
    "# Your code here to add the column ['Profit ($M)']\n",
    "\n",
    "# Display the dataframe with the new column included\n"
   ]
  },
  {
   "cell_type": "markdown",
   "id": "50a85936",
   "metadata": {},
   "source": [
    "#### f) What is the relationship between Budget and Profit\n",
    "\n",
    "<ul>\n",
    "<li> Create a scatterplot for Budget vs Profit\n",
    "<li> Calculate the correlation between Budget and Profit using both Pearson's and Spearman's correlation coefficient. \n",
    "    <ul> \n",
    "        <li>Comment on the difference in results and why it might occur\n",
    "        <li> Which approach is more appropriate and why?\n",
    "    </ul>\n",
    "</ul>"
   ]
  },
  {
   "cell_type": "code",
   "execution_count": 58,
   "id": "acadd2b5",
   "metadata": {},
   "outputs": [],
   "source": [
    "# Your code here for the scatterplot\n"
   ]
  },
  {
   "cell_type": "code",
   "execution_count": 59,
   "id": "2a607fda",
   "metadata": {},
   "outputs": [],
   "source": [
    "# Your code here for the correlations\n"
   ]
  },
  {
   "cell_type": "markdown",
   "id": "b5262fcd",
   "metadata": {},
   "source": [
    "[ your comments here ]"
   ]
  },
  {
   "cell_type": "markdown",
   "id": "43f269ba",
   "metadata": {},
   "source": [
    "#### g) Add a column containing Profit per $ of budget\n",
    "\n",
    "This should be defined as Profit/Budget"
   ]
  },
  {
   "cell_type": "code",
   "execution_count": 60,
   "id": "70b7527f",
   "metadata": {},
   "outputs": [],
   "source": [
    "# Your code here to add the column ['Profit ($M)']\n"
   ]
  },
  {
   "cell_type": "markdown",
   "id": "43ad3f2f",
   "metadata": {},
   "source": [
    "#### i) Plot histograms of profit per dollar budget\n",
    "\n",
    "Create three histograms containing the distribution of profit per dollar budget for:\n",
    "<ul>\n",
    "<li> All movies\n",
    "<li> Movies with a budget below \\$50M\n",
    "<li> Movies with a budget above \\$100M\n",
    "</ul>\n",
    "Make them as three subplots in a single figure to keep things tidy"
   ]
  },
  {
   "cell_type": "code",
   "execution_count": 61,
   "id": "3aef80c6",
   "metadata": {},
   "outputs": [
    {
     "data": {
      "text/plain": [
       "<Figure size 1500x500 with 0 Axes>"
      ]
     },
     "execution_count": 61,
     "metadata": {},
     "output_type": "execute_result"
    },
    {
     "data": {
      "text/plain": [
       "<Figure size 1500x500 with 0 Axes>"
      ]
     },
     "metadata": {},
     "output_type": "display_data"
    }
   ],
   "source": [
    "plt.figure(figsize=[15,5]) # set figure size\n",
    "\n",
    "# Your code here\n",
    "\n"
   ]
  },
  {
   "cell_type": "markdown",
   "id": "714b6126",
   "metadata": {},
   "source": [
    "#### j) 95% confidence interval for the mean profit per dollar\n",
    "\n",
    "Create a bootstrapped confidence interval for the mean profit per dollar, separately for \n",
    "<ul>\n",
    "    <li> Movies with a budget below \\$50M\n",
    "    <li> Movies with a budget above \\$100M\n",
    "</ul>"
   ]
  },
  {
   "cell_type": "code",
   "execution_count": 51,
   "id": "20153834",
   "metadata": {},
   "outputs": [
    {
     "name": "stdout",
     "output_type": "stream",
     "text": [
      "95% CI: [1.0132826583131334,1.9148265630973411]\n"
     ]
    }
   ],
   "source": [
    "#### Your code here for the 95% confidence interval: Movies with a budget below $50M \n",
    "nReps = 10000\n",
    "m = # your code here\n",
    "n = # your code here\n",
    "\n",
    "for i in range(nReps):\n",
    "    sample=# your code here\n",
    "    m[i]=# your code here\n",
    "    \n",
    "print('95% CI: [' + str(np.quantile(m, 0.025)) + ',' + str(np.quantile(m, 0.975)) + ']')\n"
   ]
  },
  {
   "cell_type": "code",
   "execution_count": 52,
   "id": "38185e7a",
   "metadata": {},
   "outputs": [
    {
     "name": "stdout",
     "output_type": "stream",
     "text": [
      "95% CI: [0.006456949418855058,0.24922863184764985]\n"
     ]
    }
   ],
   "source": [
    "#### Your code here for the 95% confidence interval: Movies with a budget above $100M \n",
    "nReps = 10000\n",
    "m = # your code here\n",
    "n = # your code here\n",
    "\n",
    "for i in range(nReps):\n",
    "    sample=# your code here\n",
    "    m[i]=# your code here\n",
    "    \n",
    "print('95% CI: [' + str(np.quantile(m, 0.025)) + ',' + str(np.quantile(m, 0.975)) + ']')\n"
   ]
  },
  {
   "cell_type": "markdown",
   "id": "8ff68f39",
   "metadata": {},
   "source": [
    "#### k) Comment on the confidence intervals obtained in the previous question.\n",
    "\n",
    "The mean is also called the expected value - so the mean profit per dollar is also the expected profit per dollar (if we were to make a new movie). \n",
    "\n",
    "<ul>\n",
    "<li>Is the expected profit per dollar higher for low- or high- budget movies?\n",
    "<li>Is the expected profit per dollar more uncertain/variable for low- or high- budget movies?\n",
    "</ul>"
   ]
  },
  {
   "cell_type": "markdown",
   "id": "2e375d7c",
   "metadata": {},
   "source": [
    "[ your comment here ]"
   ]
  },
  {
   "cell_type": "code",
   "execution_count": null,
   "id": "33b5cc01",
   "metadata": {},
   "outputs": [],
   "source": []
  }
 ],
 "metadata": {
  "kernelspec": {
   "display_name": "Python 3 (ipykernel)",
   "language": "python",
   "name": "python3"
  },
  "language_info": {
   "codemirror_mode": {
    "name": "ipython",
    "version": 3
   },
   "file_extension": ".py",
   "mimetype": "text/x-python",
   "name": "python",
   "nbconvert_exporter": "python",
   "pygments_lexer": "ipython3",
   "version": "3.9.13"
  }
 },
 "nbformat": 4,
 "nbformat_minor": 5
}
