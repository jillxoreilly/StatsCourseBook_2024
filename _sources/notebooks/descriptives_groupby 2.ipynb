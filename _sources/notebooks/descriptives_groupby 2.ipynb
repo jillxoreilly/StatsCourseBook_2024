{
 "cells": [
  {
   "cell_type": "markdown",
   "id": "e5a2a6bc",
   "metadata": {},
   "source": [
    "# Grouping data"
   ]
  },
  {
   "cell_type": "markdown",
   "id": "75e93be0",
   "metadata": {},
   "source": [
    "In many datasets, data can be categorized and we would wish to give descriptive statistics separately for each category."
   ]
  },
  {
   "cell_type": "markdown",
   "id": "554bd33b",
   "metadata": {},
   "source": [
    "### Set up Python libraries\n",
    "\n",
    "As usual, run the code cell below to import the relevant Python libraries"
   ]
  },
  {
   "cell_type": "code",
   "execution_count": 76,
   "id": "6e215164",
   "metadata": {},
   "outputs": [],
   "source": [
    "# Set-up Python libraries - you need to run this but you don't need to change it\n",
    "import numpy as np\n",
    "import matplotlib.pyplot as plt\n",
    "import scipy.stats as stats\n",
    "import pandas \n",
    "import seaborn as sns\n",
    "sns.set_theme()"
   ]
  },
  {
   "cell_type": "markdown",
   "id": "7fe15a08",
   "metadata": {},
   "source": [
    "### Load and view the data\n",
    "\n",
    "<img src=\"images/carsBanner.png\" width=100% alt=\"Picture of some cars\" >\n",
    "\n",
    "Let's load the datafile \"vehicles.csv\" which contains size data on vehicles parked at a vehicle-ferry terminal at 1pm on Sunday 24th April 2022, which they regard as a representative sample."
   ]
  },
  {
   "cell_type": "code",
   "execution_count": 97,
   "id": "71268ed1",
   "metadata": {},
   "outputs": [
    {
     "data": {
      "text/html": [
       "<div>\n",
       "<style scoped>\n",
       "    .dataframe tbody tr th:only-of-type {\n",
       "        vertical-align: middle;\n",
       "    }\n",
       "\n",
       "    .dataframe tbody tr th {\n",
       "        vertical-align: top;\n",
       "    }\n",
       "\n",
       "    .dataframe thead th {\n",
       "        text-align: right;\n",
       "    }\n",
       "</style>\n",
       "<table border=\"1\" class=\"dataframe\">\n",
       "  <thead>\n",
       "    <tr style=\"text-align: right;\">\n",
       "      <th></th>\n",
       "      <th>length</th>\n",
       "      <th>height</th>\n",
       "      <th>width</th>\n",
       "      <th>type</th>\n",
       "    </tr>\n",
       "  </thead>\n",
       "  <tbody>\n",
       "    <tr>\n",
       "      <th>0</th>\n",
       "      <td>3.9187</td>\n",
       "      <td>1.5320</td>\n",
       "      <td>1.8030</td>\n",
       "      <td>car</td>\n",
       "    </tr>\n",
       "    <tr>\n",
       "      <th>1</th>\n",
       "      <td>4.6486</td>\n",
       "      <td>1.5936</td>\n",
       "      <td>1.6463</td>\n",
       "      <td>car</td>\n",
       "    </tr>\n",
       "    <tr>\n",
       "      <th>2</th>\n",
       "      <td>3.5785</td>\n",
       "      <td>1.5447</td>\n",
       "      <td>1.7140</td>\n",
       "      <td>car</td>\n",
       "    </tr>\n",
       "    <tr>\n",
       "      <th>3</th>\n",
       "      <td>3.5563</td>\n",
       "      <td>1.5549</td>\n",
       "      <td>1.7331</td>\n",
       "      <td>car</td>\n",
       "    </tr>\n",
       "    <tr>\n",
       "      <th>4</th>\n",
       "      <td>4.0321</td>\n",
       "      <td>1.5069</td>\n",
       "      <td>1.7320</td>\n",
       "      <td>car</td>\n",
       "    </tr>\n",
       "    <tr>\n",
       "      <th>...</th>\n",
       "      <td>...</td>\n",
       "      <td>...</td>\n",
       "      <td>...</td>\n",
       "      <td>...</td>\n",
       "    </tr>\n",
       "    <tr>\n",
       "      <th>1359</th>\n",
       "      <td>15.5000</td>\n",
       "      <td>4.2065</td>\n",
       "      <td>2.5112</td>\n",
       "      <td>truck</td>\n",
       "    </tr>\n",
       "    <tr>\n",
       "      <th>1360</th>\n",
       "      <td>14.4960</td>\n",
       "      <td>4.1965</td>\n",
       "      <td>2.5166</td>\n",
       "      <td>truck</td>\n",
       "    </tr>\n",
       "    <tr>\n",
       "      <th>1361</th>\n",
       "      <td>15.9890</td>\n",
       "      <td>4.1964</td>\n",
       "      <td>2.4757</td>\n",
       "      <td>truck</td>\n",
       "    </tr>\n",
       "    <tr>\n",
       "      <th>1362</th>\n",
       "      <td>14.3700</td>\n",
       "      <td>4.2009</td>\n",
       "      <td>2.5047</td>\n",
       "      <td>truck</td>\n",
       "    </tr>\n",
       "    <tr>\n",
       "      <th>1363</th>\n",
       "      <td>14.2350</td>\n",
       "      <td>4.2016</td>\n",
       "      <td>2.5212</td>\n",
       "      <td>truck</td>\n",
       "    </tr>\n",
       "  </tbody>\n",
       "</table>\n",
       "<p>1364 rows × 4 columns</p>\n",
       "</div>"
      ],
      "text/plain": [
       "       length  height   width   type\n",
       "0      3.9187  1.5320  1.8030    car\n",
       "1      4.6486  1.5936  1.6463    car\n",
       "2      3.5785  1.5447  1.7140    car\n",
       "3      3.5563  1.5549  1.7331    car\n",
       "4      4.0321  1.5069  1.7320    car\n",
       "...       ...     ...     ...    ...\n",
       "1359  15.5000  4.2065  2.5112  truck\n",
       "1360  14.4960  4.1965  2.5166  truck\n",
       "1361  15.9890  4.1964  2.4757  truck\n",
       "1362  14.3700  4.2009  2.5047  truck\n",
       "1363  14.2350  4.2016  2.5212  truck\n",
       "\n",
       "[1364 rows x 4 columns]"
      ]
     },
     "metadata": {},
     "output_type": "display_data"
    }
   ],
   "source": [
    "vehicles = pandas.read_csv('https://raw.githubusercontent.com/jillxoreilly/StatsCourse/main/data/vehicles.csv')\n",
    "display(vehicles)"
   ]
  },
  {
   "cell_type": "markdown",
   "id": "cb03e0d0",
   "metadata": {},
   "source": [
    "That was a long list of vehicles!\n",
    "\n",
    "* What information do we have about each vehicle?"
   ]
  },
  {
   "cell_type": "markdown",
   "id": "b0ab845f",
   "metadata": {},
   "source": [
    "### Obtain descriptive statistics\n",
    "\n",
    "We can use the built in functions in <tt>pandas.describe()</tt> to return descriptives for our data"
   ]
  },
  {
   "cell_type": "code",
   "execution_count": 12,
   "id": "71715257",
   "metadata": {},
   "outputs": [
    {
     "data": {
      "text/plain": [
       "count    1364.000000\n",
       "mean        6.722972\n",
       "std         4.232075\n",
       "min         3.110900\n",
       "25%         3.929450\n",
       "50%         4.419300\n",
       "75%         9.260325\n",
       "max        16.231000\n",
       "Name: length, dtype: float64"
      ]
     },
     "execution_count": 12,
     "metadata": {},
     "output_type": "execute_result"
    }
   ],
   "source": [
    "vehicles['length'].describe()"
   ]
  },
  {
   "cell_type": "markdown",
   "id": "97959b4b",
   "metadata": {},
   "source": [
    "### Why group the data?"
   ]
  },
  {
   "cell_type": "markdown",
   "id": "cc99224d",
   "metadata": {},
   "source": [
    "You can see above that the mean length of vehicles in the car park is 6.72m.\n",
    "\n",
    "This is surprising as it is rather longer than even a large family car\n",
    "\n",
    "To get a better sense of the length data, I am going to plot them. \n",
    "\n",
    "Don't worry too much about the plotting code for now, as there are dedicated exercises on plotting later."
   ]
  },
  {
   "cell_type": "code",
   "execution_count": 31,
   "id": "588ca16c",
   "metadata": {},
   "outputs": [
    {
     "data": {
      "text/plain": [
       "Text(0.5, 0, 'vehicle length (m)')"
      ]
     },
     "execution_count": 31,
     "metadata": {},
     "output_type": "execute_result"
    },
    {
     "data": {
      "image/png": "[encoded data removed]",
      "text/plain": [
       "<Figure size 432x288 with 1 Axes>"
      ]
     },
     "metadata": {},
     "output_type": "display_data"
    }
   ],
   "source": [
    "sns.histplot(data=vehicles, x=\"length\",  bins = np.arange(0,16,0.5))\n",
    "plt.xlabel('vehicle length (m)')"
   ]
  },
  {
   "cell_type": "markdown",
   "id": "a4d0f42f",
   "metadata": {},
   "source": [
    "Interesting. It looks like there are several clusters of vehicle lengths. \n",
    "\n",
    "Have a look back at our dataframe - is there some information there that could explain the different clusters?\n",
    "<ul>\n",
    "    <li> Probably the clusters relate to different vehicle types\n",
    "</ul>\n",
    "\n",
    "I can plot vehicle types in different colours (again no need ot worry about the plotting code at this stage)"
   ]
  },
  {
   "cell_type": "code",
   "execution_count": 30,
   "id": "178e8c24",
   "metadata": {},
   "outputs": [
    {
     "data": {
      "text/plain": [
       "Text(0.5, 0, 'vehicle length (m)')"
      ]
     },
     "execution_count": 30,
     "metadata": {},
     "output_type": "execute_result"
    },
    {
     "data": {
      "image/png": "[encoded data removed]",
      "text/plain": [
       "<Figure size 432x288 with 1 Axes>"
      ]
     },
     "metadata": {},
     "output_type": "display_data"
    }
   ],
   "source": [
    "sns.histplot(data=vehicles, x=\"length\", bins = np.arange(0,16,0.5), hue=\"type\")\n",
    "plt.xlabel('vehicle length (m)')"
   ]
  },
  {
   "cell_type": "markdown",
   "id": "c5434428",
   "metadata": {},
   "source": [
    "Aha. We might want to describe our data separately for each by vehicle type.\n",
    "\n",
    "### Grouping into separate dataframes\n",
    "\n",
    "One way to do this is to create separate dataframes for each vehicle type:"
   ]
  },
  {
   "cell_type": "code",
   "execution_count": 37,
   "id": "63f32677",
   "metadata": {},
   "outputs": [
    {
     "data": {
      "text/html": [
       "<div>\n",
       "<style scoped>\n",
       "    .dataframe tbody tr th:only-of-type {\n",
       "        vertical-align: middle;\n",
       "    }\n",
       "\n",
       "    .dataframe tbody tr th {\n",
       "        vertical-align: top;\n",
       "    }\n",
       "\n",
       "    .dataframe thead th {\n",
       "        text-align: right;\n",
       "    }\n",
       "</style>\n",
       "<table border=\"1\" class=\"dataframe\">\n",
       "  <thead>\n",
       "    <tr style=\"text-align: right;\">\n",
       "      <th></th>\n",
       "      <th>length</th>\n",
       "      <th>height</th>\n",
       "      <th>width</th>\n",
       "    </tr>\n",
       "  </thead>\n",
       "  <tbody>\n",
       "    <tr>\n",
       "      <th>count</th>\n",
       "      <td>981.000000</td>\n",
       "      <td>981.000000</td>\n",
       "      <td>981.000000</td>\n",
       "    </tr>\n",
       "    <tr>\n",
       "      <th>mean</th>\n",
       "      <td>4.197994</td>\n",
       "      <td>1.580810</td>\n",
       "      <td>1.791925</td>\n",
       "    </tr>\n",
       "    <tr>\n",
       "      <th>std</th>\n",
       "      <td>0.517761</td>\n",
       "      <td>0.059263</td>\n",
       "      <td>0.046921</td>\n",
       "    </tr>\n",
       "    <tr>\n",
       "      <th>min</th>\n",
       "      <td>3.110900</td>\n",
       "      <td>1.430400</td>\n",
       "      <td>1.624100</td>\n",
       "    </tr>\n",
       "    <tr>\n",
       "      <th>25%</th>\n",
       "      <td>3.815400</td>\n",
       "      <td>1.540000</td>\n",
       "      <td>1.760200</td>\n",
       "    </tr>\n",
       "    <tr>\n",
       "      <th>50%</th>\n",
       "      <td>4.121600</td>\n",
       "      <td>1.574500</td>\n",
       "      <td>1.790400</td>\n",
       "    </tr>\n",
       "    <tr>\n",
       "      <th>75%</th>\n",
       "      <td>4.518400</td>\n",
       "      <td>1.611900</td>\n",
       "      <td>1.820900</td>\n",
       "    </tr>\n",
       "    <tr>\n",
       "      <th>max</th>\n",
       "      <td>6.102400</td>\n",
       "      <td>1.899300</td>\n",
       "      <td>1.958000</td>\n",
       "    </tr>\n",
       "  </tbody>\n",
       "</table>\n",
       "</div>"
      ],
      "text/plain": [
       "           length      height       width\n",
       "count  981.000000  981.000000  981.000000\n",
       "mean     4.197994    1.580810    1.791925\n",
       "std      0.517761    0.059263    0.046921\n",
       "min      3.110900    1.430400    1.624100\n",
       "25%      3.815400    1.540000    1.760200\n",
       "50%      4.121600    1.574500    1.790400\n",
       "75%      4.518400    1.611900    1.820900\n",
       "max      6.102400    1.899300    1.958000"
      ]
     },
     "execution_count": 37,
     "metadata": {},
     "output_type": "execute_result"
    }
   ],
   "source": [
    "cars = vehicles[vehicles['type']=='car']\n",
    "cars.describe()"
   ]
  },
  {
   "cell_type": "markdown",
   "id": "f5216b29",
   "metadata": {},
   "source": [
    "we can see that 981 of the vehicles were cars, and their mean length was 4.198m, much shorter than the mean over all vehicles.\n",
    "\n",
    "Try modifying the code below to get descriptive statistics for trucks:"
   ]
  },
  {
   "cell_type": "code",
   "execution_count": 38,
   "id": "a54bfd9e",
   "metadata": {},
   "outputs": [
    {
     "data": {
      "text/html": [
       "<div>\n",
       "<style scoped>\n",
       "    .dataframe tbody tr th:only-of-type {\n",
       "        vertical-align: middle;\n",
       "    }\n",
       "\n",
       "    .dataframe tbody tr th {\n",
       "        vertical-align: top;\n",
       "    }\n",
       "\n",
       "    .dataframe thead th {\n",
       "        text-align: right;\n",
       "    }\n",
       "</style>\n",
       "<table border=\"1\" class=\"dataframe\">\n",
       "  <thead>\n",
       "    <tr style=\"text-align: right;\">\n",
       "      <th></th>\n",
       "      <th>length</th>\n",
       "      <th>height</th>\n",
       "      <th>width</th>\n",
       "    </tr>\n",
       "  </thead>\n",
       "  <tbody>\n",
       "    <tr>\n",
       "      <th>count</th>\n",
       "      <td>981.000000</td>\n",
       "      <td>981.000000</td>\n",
       "      <td>981.000000</td>\n",
       "    </tr>\n",
       "    <tr>\n",
       "      <th>mean</th>\n",
       "      <td>4.197994</td>\n",
       "      <td>1.580810</td>\n",
       "      <td>1.791925</td>\n",
       "    </tr>\n",
       "    <tr>\n",
       "      <th>std</th>\n",
       "      <td>0.517761</td>\n",
       "      <td>0.059263</td>\n",
       "      <td>0.046921</td>\n",
       "    </tr>\n",
       "    <tr>\n",
       "      <th>min</th>\n",
       "      <td>3.110900</td>\n",
       "      <td>1.430400</td>\n",
       "      <td>1.624100</td>\n",
       "    </tr>\n",
       "    <tr>\n",
       "      <th>25%</th>\n",
       "      <td>3.815400</td>\n",
       "      <td>1.540000</td>\n",
       "      <td>1.760200</td>\n",
       "    </tr>\n",
       "    <tr>\n",
       "      <th>50%</th>\n",
       "      <td>4.121600</td>\n",
       "      <td>1.574500</td>\n",
       "      <td>1.790400</td>\n",
       "    </tr>\n",
       "    <tr>\n",
       "      <th>75%</th>\n",
       "      <td>4.518400</td>\n",
       "      <td>1.611900</td>\n",
       "      <td>1.820900</td>\n",
       "    </tr>\n",
       "    <tr>\n",
       "      <th>max</th>\n",
       "      <td>6.102400</td>\n",
       "      <td>1.899300</td>\n",
       "      <td>1.958000</td>\n",
       "    </tr>\n",
       "  </tbody>\n",
       "</table>\n",
       "</div>"
      ],
      "text/plain": [
       "           length      height       width\n",
       "count  981.000000  981.000000  981.000000\n",
       "mean     4.197994    1.580810    1.791925\n",
       "std      0.517761    0.059263    0.046921\n",
       "min      3.110900    1.430400    1.624100\n",
       "25%      3.815400    1.540000    1.760200\n",
       "50%      4.121600    1.574500    1.790400\n",
       "75%      4.518400    1.611900    1.820900\n",
       "max      6.102400    1.899300    1.958000"
      ]
     },
     "execution_count": 38,
     "metadata": {},
     "output_type": "execute_result"
    }
   ],
   "source": [
    "# modify the code to get descritives for trucks\n",
    "cars = vehicles[vehicles['type']=='car']\n",
    "cars.describe()"
   ]
  },
  {
   "cell_type": "markdown",
   "id": "6e25855a",
   "metadata": {},
   "source": [
    "### <tt>pandas.groupby</tt>\n",
    "\n",
    "We can also use the pandas function <a href=\"https://pandas.pydata.org/docs/reference/api/pandas.DataFrame.groupby.html\"><tt>groupby</tt></a> to split up our dataframe according to a categorical variable, in this case vehicle type."
   ]
  },
  {
   "cell_type": "code",
   "execution_count": 41,
   "id": "36c0850d",
   "metadata": {},
   "outputs": [
    {
     "data": {
      "text/html": [
       "<div>\n",
       "<style scoped>\n",
       "    .dataframe tbody tr th:only-of-type {\n",
       "        vertical-align: middle;\n",
       "    }\n",
       "\n",
       "    .dataframe tbody tr th {\n",
       "        vertical-align: top;\n",
       "    }\n",
       "\n",
       "    .dataframe thead tr th {\n",
       "        text-align: left;\n",
       "    }\n",
       "\n",
       "    .dataframe thead tr:last-of-type th {\n",
       "        text-align: right;\n",
       "    }\n",
       "</style>\n",
       "<table border=\"1\" class=\"dataframe\">\n",
       "  <thead>\n",
       "    <tr>\n",
       "      <th></th>\n",
       "      <th colspan=\"8\" halign=\"left\">length</th>\n",
       "      <th colspan=\"5\" halign=\"left\">height</th>\n",
       "      <th colspan=\"8\" halign=\"left\">width</th>\n",
       "    </tr>\n",
       "    <tr>\n",
       "      <th></th>\n",
       "      <th>count</th>\n",
       "      <th>mean</th>\n",
       "      <th>std</th>\n",
       "      <th>min</th>\n",
       "      <th>25%</th>\n",
       "      <th>50%</th>\n",
       "      <th>75%</th>\n",
       "      <th>max</th>\n",
       "      <th>count</th>\n",
       "      <th>mean</th>\n",
       "      <th>...</th>\n",
       "      <th>75%</th>\n",
       "      <th>max</th>\n",
       "      <th>count</th>\n",
       "      <th>mean</th>\n",
       "      <th>std</th>\n",
       "      <th>min</th>\n",
       "      <th>25%</th>\n",
       "      <th>50%</th>\n",
       "      <th>75%</th>\n",
       "      <th>max</th>\n",
       "    </tr>\n",
       "    <tr>\n",
       "      <th>type</th>\n",
       "      <th></th>\n",
       "      <th></th>\n",
       "      <th></th>\n",
       "      <th></th>\n",
       "      <th></th>\n",
       "      <th></th>\n",
       "      <th></th>\n",
       "      <th></th>\n",
       "      <th></th>\n",
       "      <th></th>\n",
       "      <th></th>\n",
       "      <th></th>\n",
       "      <th></th>\n",
       "      <th></th>\n",
       "      <th></th>\n",
       "      <th></th>\n",
       "      <th></th>\n",
       "      <th></th>\n",
       "      <th></th>\n",
       "      <th></th>\n",
       "      <th></th>\n",
       "    </tr>\n",
       "  </thead>\n",
       "  <tbody>\n",
       "    <tr>\n",
       "      <th>car</th>\n",
       "      <td>981.0</td>\n",
       "      <td>4.197994</td>\n",
       "      <td>0.517761</td>\n",
       "      <td>3.1109</td>\n",
       "      <td>3.8154</td>\n",
       "      <td>4.1216</td>\n",
       "      <td>4.5184</td>\n",
       "      <td>6.1024</td>\n",
       "      <td>981.0</td>\n",
       "      <td>1.580810</td>\n",
       "      <td>...</td>\n",
       "      <td>1.6119</td>\n",
       "      <td>1.8993</td>\n",
       "      <td>981.0</td>\n",
       "      <td>1.791925</td>\n",
       "      <td>0.046921</td>\n",
       "      <td>1.6241</td>\n",
       "      <td>1.7602</td>\n",
       "      <td>1.79040</td>\n",
       "      <td>1.82090</td>\n",
       "      <td>1.9580</td>\n",
       "    </tr>\n",
       "    <tr>\n",
       "      <th>towing</th>\n",
       "      <td>53.0</td>\n",
       "      <td>8.672951</td>\n",
       "      <td>0.713460</td>\n",
       "      <td>7.2561</td>\n",
       "      <td>8.1323</td>\n",
       "      <td>8.6894</td>\n",
       "      <td>9.2191</td>\n",
       "      <td>10.0980</td>\n",
       "      <td>53.0</td>\n",
       "      <td>2.897838</td>\n",
       "      <td>...</td>\n",
       "      <td>2.9064</td>\n",
       "      <td>2.9445</td>\n",
       "      <td>53.0</td>\n",
       "      <td>2.248326</td>\n",
       "      <td>0.008222</td>\n",
       "      <td>2.2292</td>\n",
       "      <td>2.2442</td>\n",
       "      <td>2.24790</td>\n",
       "      <td>2.25400</td>\n",
       "      <td>2.2642</td>\n",
       "    </tr>\n",
       "    <tr>\n",
       "      <th>truck</th>\n",
       "      <td>330.0</td>\n",
       "      <td>13.915864</td>\n",
       "      <td>1.343028</td>\n",
       "      <td>11.1480</td>\n",
       "      <td>12.5640</td>\n",
       "      <td>14.3650</td>\n",
       "      <td>15.0750</td>\n",
       "      <td>16.2310</td>\n",
       "      <td>330.0</td>\n",
       "      <td>4.072725</td>\n",
       "      <td>...</td>\n",
       "      <td>4.2009</td>\n",
       "      <td>4.2137</td>\n",
       "      <td>330.0</td>\n",
       "      <td>2.501304</td>\n",
       "      <td>0.015871</td>\n",
       "      <td>2.4629</td>\n",
       "      <td>2.4898</td>\n",
       "      <td>2.50145</td>\n",
       "      <td>2.51155</td>\n",
       "      <td>2.5467</td>\n",
       "    </tr>\n",
       "  </tbody>\n",
       "</table>\n",
       "<p>3 rows × 24 columns</p>\n",
       "</div>"
      ],
      "text/plain": [
       "       length                                                           \\\n",
       "        count       mean       std      min      25%      50%      75%   \n",
       "type                                                                     \n",
       "car     981.0   4.197994  0.517761   3.1109   3.8154   4.1216   4.5184   \n",
       "towing   53.0   8.672951  0.713460   7.2561   8.1323   8.6894   9.2191   \n",
       "truck   330.0  13.915864  1.343028  11.1480  12.5640  14.3650  15.0750   \n",
       "\n",
       "                height            ...                  width            \\\n",
       "            max  count      mean  ...     75%     max  count      mean   \n",
       "type                              ...                                    \n",
       "car      6.1024  981.0  1.580810  ...  1.6119  1.8993  981.0  1.791925   \n",
       "towing  10.0980   53.0  2.897838  ...  2.9064  2.9445   53.0  2.248326   \n",
       "truck   16.2310  330.0  4.072725  ...  4.2009  4.2137  330.0  2.501304   \n",
       "\n",
       "                                                            \n",
       "             std     min     25%      50%      75%     max  \n",
       "type                                                        \n",
       "car     0.046921  1.6241  1.7602  1.79040  1.82090  1.9580  \n",
       "towing  0.008222  2.2292  2.2442  2.24790  2.25400  2.2642  \n",
       "truck   0.015871  2.4629  2.4898  2.50145  2.51155  2.5467  \n",
       "\n",
       "[3 rows x 24 columns]"
      ]
     },
     "execution_count": 41,
     "metadata": {},
     "output_type": "execute_result"
    }
   ],
   "source": [
    "vehicles.groupby(['type']).describe()"
   ]
  },
  {
   "cell_type": "markdown",
   "id": "dcfc8c9e",
   "metadata": {},
   "source": [
    "Yikes, that was an unweildy table!\n",
    "\n",
    "It may be preferable to output descriptives only for one measure (eg length):"
   ]
  },
  {
   "cell_type": "code",
   "execution_count": 43,
   "id": "857d4a7e",
   "metadata": {},
   "outputs": [
    {
     "data": {
      "text/html": [
       "<div>\n",
       "<style scoped>\n",
       "    .dataframe tbody tr th:only-of-type {\n",
       "        vertical-align: middle;\n",
       "    }\n",
       "\n",
       "    .dataframe tbody tr th {\n",
       "        vertical-align: top;\n",
       "    }\n",
       "\n",
       "    .dataframe thead th {\n",
       "        text-align: right;\n",
       "    }\n",
       "</style>\n",
       "<table border=\"1\" class=\"dataframe\">\n",
       "  <thead>\n",
       "    <tr style=\"text-align: right;\">\n",
       "      <th></th>\n",
       "      <th>count</th>\n",
       "      <th>mean</th>\n",
       "      <th>std</th>\n",
       "      <th>min</th>\n",
       "      <th>25%</th>\n",
       "      <th>50%</th>\n",
       "      <th>75%</th>\n",
       "      <th>max</th>\n",
       "    </tr>\n",
       "    <tr>\n",
       "      <th>type</th>\n",
       "      <th></th>\n",
       "      <th></th>\n",
       "      <th></th>\n",
       "      <th></th>\n",
       "      <th></th>\n",
       "      <th></th>\n",
       "      <th></th>\n",
       "      <th></th>\n",
       "    </tr>\n",
       "  </thead>\n",
       "  <tbody>\n",
       "    <tr>\n",
       "      <th>car</th>\n",
       "      <td>981.0</td>\n",
       "      <td>4.197994</td>\n",
       "      <td>0.517761</td>\n",
       "      <td>3.1109</td>\n",
       "      <td>3.8154</td>\n",
       "      <td>4.1216</td>\n",
       "      <td>4.5184</td>\n",
       "      <td>6.1024</td>\n",
       "    </tr>\n",
       "    <tr>\n",
       "      <th>towing</th>\n",
       "      <td>53.0</td>\n",
       "      <td>8.672951</td>\n",
       "      <td>0.713460</td>\n",
       "      <td>7.2561</td>\n",
       "      <td>8.1323</td>\n",
       "      <td>8.6894</td>\n",
       "      <td>9.2191</td>\n",
       "      <td>10.0980</td>\n",
       "    </tr>\n",
       "    <tr>\n",
       "      <th>truck</th>\n",
       "      <td>330.0</td>\n",
       "      <td>13.915864</td>\n",
       "      <td>1.343028</td>\n",
       "      <td>11.1480</td>\n",
       "      <td>12.5640</td>\n",
       "      <td>14.3650</td>\n",
       "      <td>15.0750</td>\n",
       "      <td>16.2310</td>\n",
       "    </tr>\n",
       "  </tbody>\n",
       "</table>\n",
       "</div>"
      ],
      "text/plain": [
       "        count       mean       std      min      25%      50%      75%  \\\n",
       "type                                                                     \n",
       "car     981.0   4.197994  0.517761   3.1109   3.8154   4.1216   4.5184   \n",
       "towing   53.0   8.672951  0.713460   7.2561   8.1323   8.6894   9.2191   \n",
       "truck   330.0  13.915864  1.343028  11.1480  12.5640  14.3650  15.0750   \n",
       "\n",
       "            max  \n",
       "type             \n",
       "car      6.1024  \n",
       "towing  10.0980  \n",
       "truck   16.2310  "
      ]
     },
     "execution_count": 43,
     "metadata": {},
     "output_type": "execute_result"
    }
   ],
   "source": [
    "vehicles.groupby(['type'])['length'].describe()"
   ]
  },
  {
   "cell_type": "markdown",
   "id": "4ed146b5",
   "metadata": {},
   "source": [
    "... or to output one descriptive (such as the mean) at a time, rather than the whole table"
   ]
  },
  {
   "cell_type": "code",
   "execution_count": 45,
   "id": "70a3a715",
   "metadata": {},
   "outputs": [
    {
     "data": {
      "text/html": [
       "<div>\n",
       "<style scoped>\n",
       "    .dataframe tbody tr th:only-of-type {\n",
       "        vertical-align: middle;\n",
       "    }\n",
       "\n",
       "    .dataframe tbody tr th {\n",
       "        vertical-align: top;\n",
       "    }\n",
       "\n",
       "    .dataframe thead th {\n",
       "        text-align: right;\n",
       "    }\n",
       "</style>\n",
       "<table border=\"1\" class=\"dataframe\">\n",
       "  <thead>\n",
       "    <tr style=\"text-align: right;\">\n",
       "      <th></th>\n",
       "      <th>length</th>\n",
       "      <th>height</th>\n",
       "      <th>width</th>\n",
       "    </tr>\n",
       "    <tr>\n",
       "      <th>type</th>\n",
       "      <th></th>\n",
       "      <th></th>\n",
       "      <th></th>\n",
       "    </tr>\n",
       "  </thead>\n",
       "  <tbody>\n",
       "    <tr>\n",
       "      <th>car</th>\n",
       "      <td>4.197994</td>\n",
       "      <td>1.580810</td>\n",
       "      <td>1.791925</td>\n",
       "    </tr>\n",
       "    <tr>\n",
       "      <th>towing</th>\n",
       "      <td>8.672951</td>\n",
       "      <td>2.897838</td>\n",
       "      <td>2.248326</td>\n",
       "    </tr>\n",
       "    <tr>\n",
       "      <th>truck</th>\n",
       "      <td>13.915864</td>\n",
       "      <td>4.072725</td>\n",
       "      <td>2.501304</td>\n",
       "    </tr>\n",
       "  </tbody>\n",
       "</table>\n",
       "</div>"
      ],
      "text/plain": [
       "           length    height     width\n",
       "type                                 \n",
       "car      4.197994  1.580810  1.791925\n",
       "towing   8.672951  2.897838  2.248326\n",
       "truck   13.915864  4.072725  2.501304"
      ]
     },
     "execution_count": 45,
     "metadata": {},
     "output_type": "execute_result"
    }
   ],
   "source": [
    "vehicles.groupby(['type']).mean()"
   ]
  }
 ],
 "metadata": {
  "kernelspec": {
   "display_name": "Python 3 (ipykernel)",
   "language": "python",
   "name": "python3"
  },
  "language_info": {
   "codemirror_mode": {
    "name": "ipython",
    "version": 3
   },
   "file_extension": ".py",
   "mimetype": "text/x-python",
   "name": "python",
   "nbconvert_exporter": "python",
   "pygments_lexer": "ipython3",
   "version": "3.9.7"
  }
 },
 "nbformat": 4,
 "nbformat_minor": 5
}
