{
 "cells": [
  {
   "cell_type": "markdown",
   "id": "6663a374",
   "metadata": {},
   "source": [
    "# Standard deviation and IQR\n",
    "\n",
    "\n",
    "The standard deviation and inter quartile range are measures of the <i>spread</i> of a distribution.\n",
    "\n",
    "They both tell you something about the typical or average value in your dataset - but different things."
   ]
  },
  {
   "cell_type": "markdown",
   "id": "554bd33b",
   "metadata": {},
   "source": [
    "### Set up Python libraries\n",
    "\n",
    "As usual, run the code cell below to import the relevant Python libraries"
   ]
  },
  {
   "cell_type": "code",
   "execution_count": 3,
   "id": "6e215164",
   "metadata": {},
   "outputs": [],
   "source": [
    "# Set-up Python libraries - you need to run this but you don't need to change it\n",
    "import numpy as np\n",
    "import matplotlib.pyplot as plt\n",
    "import scipy.stats as stats\n",
    "import pandas \n",
    "import seaborn as sns\n",
    "sns.set_theme()"
   ]
  },
  {
   "cell_type": "markdown",
   "id": "303c4bbf",
   "metadata": {},
   "source": [
    "## The Standard Deviation\n",
    "\n",
    "The standard deviation is obtained by:\n",
    "\n",
    "<ul>\n",
    "    <li>find the difference between each datapoint and the mean value $(x_1 - \\bar{x}), (x_2 - \\bar{x})... (x_n - \\bar{x})$\n",
    "    <li> square each difference\n",
    "    <li>add them all up \n",
    "    <li>divide by ($n-1$) where $n$ is the number of datapoints\n",
    "</ul>\n",
    "\n",
    "The process can be described by the formula\n",
    "\n",
    "$$ s_x^2  = \\sum\\frac{(x_i - \\bar{x})}{(n-1)}$$\n",
    "\n",
    "Where $s^2$ is the standard deviation squared (ie the variance)"
   ]
  },
  {
   "cell_type": "markdown",
   "id": "9cc0a6af",
   "metadata": {},
   "source": [
    "### Toy example: standard deviation\n",
    "\n",
    "To understand the properties of the standard deviation, let's start with a <i>toy example</i>, i.e. a very small dataset in which it is easy to see what is going on.\n",
    "\n",
    "Let's say these are the heights (cm) and weights (kg) of 6 toddlers:"
   ]
  },
  {
   "cell_type": "code",
   "execution_count": 4,
   "id": "14c50b05",
   "metadata": {},
   "outputs": [
    {
     "data": {
      "text/html": [
       "<div>\n",
       "<style scoped>\n",
       "    .dataframe tbody tr th:only-of-type {\n",
       "        vertical-align: middle;\n",
       "    }\n",
       "\n",
       "    .dataframe tbody tr th {\n",
       "        vertical-align: top;\n",
       "    }\n",
       "\n",
       "    .dataframe thead th {\n",
       "        text-align: right;\n",
       "    }\n",
       "</style>\n",
       "<table border=\"1\" class=\"dataframe\">\n",
       "  <thead>\n",
       "    <tr style=\"text-align: right;\">\n",
       "      <th></th>\n",
       "      <th>Name</th>\n",
       "      <th>Height</th>\n",
       "      <th>Weight</th>\n",
       "    </tr>\n",
       "  </thead>\n",
       "  <tbody>\n",
       "    <tr>\n",
       "      <th>0</th>\n",
       "      <td>Axel</td>\n",
       "      <td>89.0</td>\n",
       "      <td>12.4</td>\n",
       "    </tr>\n",
       "    <tr>\n",
       "      <th>1</th>\n",
       "      <td>Benji</td>\n",
       "      <td>96.2</td>\n",
       "      <td>13.8</td>\n",
       "    </tr>\n",
       "    <tr>\n",
       "      <th>2</th>\n",
       "      <td>Charlie</td>\n",
       "      <td>93.4</td>\n",
       "      <td>13.1</td>\n",
       "    </tr>\n",
       "    <tr>\n",
       "      <th>3</th>\n",
       "      <td>Danny</td>\n",
       "      <td>88.1</td>\n",
       "      <td>12.9</td>\n",
       "    </tr>\n",
       "    <tr>\n",
       "      <th>4</th>\n",
       "      <td>Edward</td>\n",
       "      <td>91.7</td>\n",
       "      <td>13.5</td>\n",
       "    </tr>\n",
       "    <tr>\n",
       "      <th>5</th>\n",
       "      <td>Freddie</td>\n",
       "      <td>93.2</td>\n",
       "      <td>14.0</td>\n",
       "    </tr>\n",
       "  </tbody>\n",
       "</table>\n",
       "</div>"
      ],
      "text/plain": [
       "      Name  Height  Weight\n",
       "0     Axel    89.0    12.4\n",
       "1    Benji    96.2    13.8\n",
       "2  Charlie    93.4    13.1\n",
       "3    Danny    88.1    12.9\n",
       "4   Edward    91.7    13.5\n",
       "5  Freddie    93.2    14.0"
      ]
     },
     "metadata": {},
     "output_type": "display_data"
    }
   ],
   "source": [
    "data = {'Name': [\"Axel\",\"Benji\",\"Charlie\",\"Danny\",\"Edward\",\"Freddie\"],\n",
    "        'Height': [89.0, 96.2, 93.4, 88.1, 91.7, 93.2],\n",
    "        'Weight': [12.4, 13.8, 13.1, 12.9, 13.5, 14.0],}\n",
    "\n",
    "toddlerData = pandas.DataFrame(data)\n",
    "display(toddlerData)"
   ]
  },
  {
   "cell_type": "markdown",
   "id": "48b10d5d",
   "metadata": {},
   "source": [
    "We saw previously that the mean height was 91.9 cm and we can see from the data frame above that the range is about +/- 4cm around the mean.\n",
    "\n",
    "Let's obtain the standard deviation using the <a href=\"https://pandas.pydata.org/docs/reference/api/pandas.DataFrame.std.html\"><tt>std</tt></a> method from pandas:"
   ]
  },
  {
   "cell_type": "code",
   "execution_count": 5,
   "id": "8e69dff8",
   "metadata": {},
   "outputs": [
    {
     "data": {
      "text/plain": [
       "3.0104263263974227"
      ]
     },
     "execution_count": 5,
     "metadata": {},
     "output_type": "execute_result"
    }
   ],
   "source": [
    "toddlerData['Height'].std()"
   ]
  },
  {
   "cell_type": "markdown",
   "id": "53058d4f",
   "metadata": {},
   "source": [
    "Shall we check that we can obtain the same value by implementing the formula ourselves?"
   ]
  },
  {
   "cell_type": "code",
   "execution_count": 15,
   "id": "d8afe36f",
   "metadata": {},
   "outputs": [
    {
     "data": {
      "text/html": [
       "<div>\n",
       "<style scoped>\n",
       "    .dataframe tbody tr th:only-of-type {\n",
       "        vertical-align: middle;\n",
       "    }\n",
       "\n",
       "    .dataframe tbody tr th {\n",
       "        vertical-align: top;\n",
       "    }\n",
       "\n",
       "    .dataframe thead th {\n",
       "        text-align: right;\n",
       "    }\n",
       "</style>\n",
       "<table border=\"1\" class=\"dataframe\">\n",
       "  <thead>\n",
       "    <tr style=\"text-align: right;\">\n",
       "      <th></th>\n",
       "      <th>Name</th>\n",
       "      <th>Height</th>\n",
       "      <th>Weight</th>\n",
       "      <th>d</th>\n",
       "      <th>d2</th>\n",
       "    </tr>\n",
       "  </thead>\n",
       "  <tbody>\n",
       "    <tr>\n",
       "      <th>0</th>\n",
       "      <td>Axel</td>\n",
       "      <td>89.0</td>\n",
       "      <td>12.4</td>\n",
       "      <td>-2.933333</td>\n",
       "      <td>8.604444</td>\n",
       "    </tr>\n",
       "    <tr>\n",
       "      <th>1</th>\n",
       "      <td>Benji</td>\n",
       "      <td>96.2</td>\n",
       "      <td>13.8</td>\n",
       "      <td>4.266667</td>\n",
       "      <td>18.204444</td>\n",
       "    </tr>\n",
       "    <tr>\n",
       "      <th>2</th>\n",
       "      <td>Charlie</td>\n",
       "      <td>93.4</td>\n",
       "      <td>13.1</td>\n",
       "      <td>1.466667</td>\n",
       "      <td>2.151111</td>\n",
       "    </tr>\n",
       "    <tr>\n",
       "      <th>3</th>\n",
       "      <td>Danny</td>\n",
       "      <td>88.1</td>\n",
       "      <td>12.9</td>\n",
       "      <td>-3.833333</td>\n",
       "      <td>14.694444</td>\n",
       "    </tr>\n",
       "    <tr>\n",
       "      <th>4</th>\n",
       "      <td>Edward</td>\n",
       "      <td>91.7</td>\n",
       "      <td>13.5</td>\n",
       "      <td>-0.233333</td>\n",
       "      <td>0.054444</td>\n",
       "    </tr>\n",
       "    <tr>\n",
       "      <th>5</th>\n",
       "      <td>Freddie</td>\n",
       "      <td>93.2</td>\n",
       "      <td>14.0</td>\n",
       "      <td>1.266667</td>\n",
       "      <td>1.604444</td>\n",
       "    </tr>\n",
       "  </tbody>\n",
       "</table>\n",
       "</div>"
      ],
      "text/plain": [
       "      Name  Height  Weight         d         d2\n",
       "0     Axel    89.0    12.4 -2.933333   8.604444\n",
       "1    Benji    96.2    13.8  4.266667  18.204444\n",
       "2  Charlie    93.4    13.1  1.466667   2.151111\n",
       "3    Danny    88.1    12.9 -3.833333  14.694444\n",
       "4   Edward    91.7    13.5 -0.233333   0.054444\n",
       "5  Freddie    93.2    14.0  1.266667   1.604444"
      ]
     },
     "metadata": {},
     "output_type": "display_data"
    }
   ],
   "source": [
    "# calculate the mean\n",
    "m = toddlerData['Height'].mean()\n",
    "\n",
    "# add a column containing the deviations\n",
    "toddlerData['d'] = toddlerData['Height']-m\n",
    "\n",
    "# add a column containing the squared deviations\n",
    "toddlerData['d2'] = toddlerData['d']**2\n",
    "\n",
    "# check what we have done so far\n",
    "display(toddlerData)"
   ]
  },
  {
   "cell_type": "markdown",
   "id": "2a9b8a5c",
   "metadata": {},
   "source": [
    "Great now we can go on with the formula"
   ]
  },
  {
   "cell_type": "code",
   "execution_count": 16,
   "id": "8decdc01",
   "metadata": {},
   "outputs": [
    {
     "name": "stdout",
     "output_type": "stream",
     "text": [
      "3.0104263263974227\n"
     ]
    }
   ],
   "source": [
    "# sum of squared deviations\n",
    "ss = toddlerData['d2'].sum()\n",
    "\n",
    "# obtain n\n",
    "n = toddlerData['Height'].count()\n",
    "\n",
    "# calculate variance\n",
    "sd2 = (ss/(n-1))\n",
    "\n",
    "# standard deviation is square root of variance (ie variance to power 0.5)\n",
    "sd = sd2**0.5\n",
    "\n",
    "print(sd)"
   ]
  },
  {
   "cell_type": "markdown",
   "id": "a5d214b5",
   "metadata": {},
   "source": [
    "Hurrah!"
   ]
  },
  {
   "cell_type": "markdown",
   "id": "79fed584",
   "metadata": {},
   "source": [
    "## IQR and quantiles\n",
    "\n",
    "The inter quartile range or IQR is the difference between the 25th and 75th centile of a distribution.\n",
    "\n",
    "We can calculate it easily using Python:"
   ]
  },
  {
   "cell_type": "code",
   "execution_count": 18,
   "id": "5f883ee4",
   "metadata": {},
   "outputs": [
    {
     "name": "stdout",
     "output_type": "stream",
     "text": [
      "3.6750000000000114\n"
     ]
    }
   ],
   "source": [
    "IQR = toddlerData['Height'].quantile(0.75) - toddlerData['Height'].quantile(0.25)\n",
    "\n",
    "print(IQR)"
   ]
  },
  {
   "cell_type": "markdown",
   "id": "3dec0217",
   "metadata": {},
   "source": [
    "Note that it can also be useful to get other quantiles.\n",
    "\n",
    "For example, if we wanted to know how high to make a playhouse so 90% of toddlers can stand up inside, we would be interested int he 90th centile (0.9 quantile) of the height distribution"
   ]
  },
  {
   "cell_type": "code",
   "execution_count": 21,
   "id": "62558fc5",
   "metadata": {},
   "outputs": [
    {
     "data": {
      "text/plain": [
       "94.80000000000001"
      ]
     },
     "execution_count": 21,
     "metadata": {},
     "output_type": "execute_result"
    }
   ],
   "source": [
    "toddlerData['Height'].quantile(0.9)"
   ]
  },
  {
   "cell_type": "code",
   "execution_count": null,
   "id": "ff7aa5e0",
   "metadata": {},
   "outputs": [],
   "source": []
  }
 ],
 "metadata": {
  "kernelspec": {
   "display_name": "Python 3 (ipykernel)",
   "language": "python",
   "name": "python3"
  },
  "language_info": {
   "codemirror_mode": {
    "name": "ipython",
    "version": 3
   },
   "file_extension": ".py",
   "mimetype": "text/x-python",
   "name": "python",
   "nbconvert_exporter": "python",
   "pygments_lexer": "ipython3",
   "version": "3.9.7"
  }
 },
 "nbformat": 4,
 "nbformat_minor": 5
}
