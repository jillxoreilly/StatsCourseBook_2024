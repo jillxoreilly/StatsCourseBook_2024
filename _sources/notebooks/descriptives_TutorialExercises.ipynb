{
 "cells": [
  {
   "cell_type": "markdown",
   "id": "e5a2a6bc",
   "metadata": {},
   "source": [
    "# Tutorial exercises\n",
    "\n",
    "[![Open In Colab](https://colab.research.google.com/assets/colab-badge.svg)](https://colab.research.google.com/github/jillxoreilly/StatsCourse/blob/main/Car%20Parking%20Exercise%201.ipynb#)\n",
    "\n",
    "You should work through this is the tutorial. The idea is to bring together the skills you have learned (and highlight any gaps to discuss woith your tutor)"
   ]
  },
  {
   "cell_type": "markdown",
   "id": "75e93be0",
   "metadata": {},
   "source": [
    "## Car park exercise\n",
    "\n",
    "In this exercise, you will plan car parking at a ferry terminal and inside the ferry itself. \n",
    "\n",
    "You will be given data about the lengths of vehicles in a <tt>.csv</tt> file. By plotting the data and calculating descriptive statististics, you will produce a short report recommending the size and number of parking spots required."
   ]
  },
  {
   "cell_type": "markdown",
   "id": "abc9bef7",
   "metadata": {},
   "source": [
    "<div style = \"    padding-top: 10px;\n",
    "    padding-bottom: 10px;\n",
    "    padding-left: 10px;\n",
    "    padding-right: 10px;\n",
    "    box-shadow: 0px 8px 16px 0px rgba(0,0,0,0.2);\n",
    "    vertical-align: middle;\">\n",
    "    \n",
    "<h2>The brief:</h2> \n",
    "\n",
    "The SpeedyFerry Company are planning a new terminal. Vehicles will arrive at the terminal in advance of their sailing time and be parked in a car park to await boarding.\n",
    "\n",
    "SpeedyFerry would like to know how to mark out the car park. They want to fit as many parking spaces into their land as possible, whilst still making sure that the vehicles fit in the spaces\n",
    "    <ul>\n",
    "<li> How long and wide should the parking spots be?\n",
    "<li> Should different vehicle types be separated in different sections of the car park?\n",
    "<li> If so, what ratio of long vehicle places to short vehicle places is needed?\n",
    "        </ul>\n",
    "    \n",
    "<b>Your task is to produce a report answering these questions, justifying you answer with plots and descriptive statistics based on the sample data provided by SpeedyFerry, introduced below</b>\n",
    "</div>\n",
    "\n",
    "<img src=\"images/carsBanner.png\" width=100% alt=\"Picture of some cars\" >"
   ]
  },
  {
   "cell_type": "markdown",
   "id": "554bd33b",
   "metadata": {},
   "source": [
    "### Set up Python libraries\n",
    "\n",
    "As usual, run the code cell below to import the relevant Python libraries"
   ]
  },
  {
   "cell_type": "code",
   "execution_count": 99,
   "id": "6e215164",
   "metadata": {},
   "outputs": [],
   "source": [
    "# Set-up Python libraries - you need to run this but you don't need to change it\n",
    "import numpy as np\n",
    "import matplotlib.pyplot as plt\n",
    "import scipy.stats as stats\n",
    "import pandas \n",
    "import seaborn as sns\n",
    "sns.set_theme()"
   ]
  },
  {
   "cell_type": "markdown",
   "id": "7fe15a08",
   "metadata": {},
   "source": [
    "### Load and view the data\n",
    "\n",
    "To make our plan for car parking, we need some information about the vehicles to be accommodated.\n",
    "\n",
    "SpeedyFerry have provided a data file with a complete list of the vehicles parked at a vehicle-ferry terminal at 1pm on Sunday 24th April 2022, which they regard as a representative sample.\n",
    "\n",
    "Let's load the datafile \"data/vehicles.csv\" and have a look what information we have in the dataset"
   ]
  },
  {
   "cell_type": "code",
   "execution_count": 97,
   "id": "71268ed1",
   "metadata": {},
   "outputs": [
    {
     "data": {
      "text/html": [
       "<div>\n",
       "<style scoped>\n",
       "    .dataframe tbody tr th:only-of-type {\n",
       "        vertical-align: middle;\n",
       "    }\n",
       "\n",
       "    .dataframe tbody tr th {\n",
       "        vertical-align: top;\n",
       "    }\n",
       "\n",
       "    .dataframe thead th {\n",
       "        text-align: right;\n",
       "    }\n",
       "</style>\n",
       "<table border=\"1\" class=\"dataframe\">\n",
       "  <thead>\n",
       "    <tr style=\"text-align: right;\">\n",
       "      <th></th>\n",
       "      <th>length</th>\n",
       "      <th>height</th>\n",
       "      <th>width</th>\n",
       "      <th>type</th>\n",
       "    </tr>\n",
       "  </thead>\n",
       "  <tbody>\n",
       "    <tr>\n",
       "      <th>0</th>\n",
       "      <td>3.9187</td>\n",
       "      <td>1.5320</td>\n",
       "      <td>1.8030</td>\n",
       "      <td>car</td>\n",
       "    </tr>\n",
       "    <tr>\n",
       "      <th>1</th>\n",
       "      <td>4.6486</td>\n",
       "      <td>1.5936</td>\n",
       "      <td>1.6463</td>\n",
       "      <td>car</td>\n",
       "    </tr>\n",
       "    <tr>\n",
       "      <th>2</th>\n",
       "      <td>3.5785</td>\n",
       "      <td>1.5447</td>\n",
       "      <td>1.7140</td>\n",
       "      <td>car</td>\n",
       "    </tr>\n",
       "    <tr>\n",
       "      <th>3</th>\n",
       "      <td>3.5563</td>\n",
       "      <td>1.5549</td>\n",
       "      <td>1.7331</td>\n",
       "      <td>car</td>\n",
       "    </tr>\n",
       "    <tr>\n",
       "      <th>4</th>\n",
       "      <td>4.0321</td>\n",
       "      <td>1.5069</td>\n",
       "      <td>1.7320</td>\n",
       "      <td>car</td>\n",
       "    </tr>\n",
       "    <tr>\n",
       "      <th>...</th>\n",
       "      <td>...</td>\n",
       "      <td>...</td>\n",
       "      <td>...</td>\n",
       "      <td>...</td>\n",
       "    </tr>\n",
       "    <tr>\n",
       "      <th>1359</th>\n",
       "      <td>15.5000</td>\n",
       "      <td>4.2065</td>\n",
       "      <td>2.5112</td>\n",
       "      <td>truck</td>\n",
       "    </tr>\n",
       "    <tr>\n",
       "      <th>1360</th>\n",
       "      <td>14.4960</td>\n",
       "      <td>4.1965</td>\n",
       "      <td>2.5166</td>\n",
       "      <td>truck</td>\n",
       "    </tr>\n",
       "    <tr>\n",
       "      <th>1361</th>\n",
       "      <td>15.9890</td>\n",
       "      <td>4.1964</td>\n",
       "      <td>2.4757</td>\n",
       "      <td>truck</td>\n",
       "    </tr>\n",
       "    <tr>\n",
       "      <th>1362</th>\n",
       "      <td>14.3700</td>\n",
       "      <td>4.2009</td>\n",
       "      <td>2.5047</td>\n",
       "      <td>truck</td>\n",
       "    </tr>\n",
       "    <tr>\n",
       "      <th>1363</th>\n",
       "      <td>14.2350</td>\n",
       "      <td>4.2016</td>\n",
       "      <td>2.5212</td>\n",
       "      <td>truck</td>\n",
       "    </tr>\n",
       "  </tbody>\n",
       "</table>\n",
       "<p>1364 rows × 4 columns</p>\n",
       "</div>"
      ],
      "text/plain": [
       "       length  height   width   type\n",
       "0      3.9187  1.5320  1.8030    car\n",
       "1      4.6486  1.5936  1.6463    car\n",
       "2      3.5785  1.5447  1.7140    car\n",
       "3      3.5563  1.5549  1.7331    car\n",
       "4      4.0321  1.5069  1.7320    car\n",
       "...       ...     ...     ...    ...\n",
       "1359  15.5000  4.2065  2.5112  truck\n",
       "1360  14.4960  4.1965  2.5166  truck\n",
       "1361  15.9890  4.1964  2.4757  truck\n",
       "1362  14.3700  4.2009  2.5047  truck\n",
       "1363  14.2350  4.2016  2.5212  truck\n",
       "\n",
       "[1364 rows x 4 columns]"
      ]
     },
     "metadata": {},
     "output_type": "display_data"
    }
   ],
   "source": [
    "vehicles = pandas.read_csv('https://raw.githubusercontent.com/jillxoreilly/StatsCourse/main/data/vehicles.csv')\n",
    "display(vehicles)"
   ]
  },
  {
   "cell_type": "markdown",
   "id": "cb03e0d0",
   "metadata": {},
   "source": [
    "That was a long list of vehicles!\n",
    "\n",
    "* What information do we have about each vehicle?"
   ]
  },
  {
   "cell_type": "markdown",
   "id": "96aa6d60",
   "metadata": {},
   "source": [
    "### Data cleaning\n",
    "\n",
    "Some implausible vehicle lengths are in the sample. They must be data entry errors.\n",
    "\n",
    "Find them and replace them with <tt>NaNs</tt>."
   ]
  },
  {
   "cell_type": "code",
   "execution_count": null,
   "id": "bb22298b",
   "metadata": {},
   "outputs": [],
   "source": [
    "# your code here to find the long vehicles\n",
    "\n",
    "# make a new dataframe\n",
    "vehicles_clean = vehicles\n",
    "\n",
    "# replace the incorrect vehicle lengths with NaNs\n",
    "# vehicles_clean.loc(.....)=np.nan"
   ]
  },
  {
   "cell_type": "markdown",
   "id": "7bfb01b7",
   "metadata": {},
   "source": [
    "# Your report for SpeedyFerry"
   ]
  },
  {
   "cell_type": "markdown",
   "id": "c597c8d9",
   "metadata": {},
   "source": [
    "<div style = \"    padding-top: 10px;\n",
    "    padding-bottom: 10px;\n",
    "    padding-left: 10px;\n",
    "    padding-right: 10px;\n",
    "    box-shadow: 0px 8px 16px 0px rgba(0,0,0,0.2);\n",
    "    vertical-align: middle;\">\n",
    "    \n",
    "This is a <tt>stub</tt> for your report to SpeedyFerry. \n",
    "\n",
    "The text in each markdown cell is given to guide you. You will replace this with your own text.\n",
    "\n",
    "Similarly, you will edit the code in each code cell to produce the necessary plots and statistics.\n",
    "\n",
    "This stub is quite structured to guide you through the process. Later in the course, you will develop your reports with less structured guidance.\n",
    "    \n",
    "</div>"
   ]
  },
  {
   "cell_type": "code",
   "execution_count": null,
   "id": "9d717d77",
   "metadata": {},
   "outputs": [],
   "source": [
    "# load the data\n",
    "vehicles = ### your code here to load the csv file\n",
    "\n",
    "# replace bad values with NaNs\n"
   ]
  },
  {
   "cell_type": "markdown",
   "id": "24dd61a6",
   "metadata": {},
   "source": [
    "## Description of vehicle types and sizes\n",
    "\n",
    "Based on the sample data recorded at 1pm on Sunday 24th April 2022, the vehicles to be accommodated fall into XXX categories:\n",
    "* cars\n",
    "* xxx\n",
    "* xxx\n",
    "\n",
    "The majority of vehicles are cars."
   ]
  },
  {
   "cell_type": "code",
   "execution_count": 98,
   "id": "c5d6e063",
   "metadata": {},
   "outputs": [
    {
     "ename": "SyntaxError",
     "evalue": "invalid syntax (901274714.py, line 2)",
     "output_type": "error",
     "traceback": [
      "\u001b[0;36m  File \u001b[0;32m\"/var/folders/q4/twg1yll54y142rc02m5wwbt40000gr/T/ipykernel_86389/901274714.py\"\u001b[0;36m, line \u001b[0;32m2\u001b[0m\n\u001b[0;31m    vehicles = ### your code here to load the csv file\u001b[0m\n\u001b[0m               ^\u001b[0m\n\u001b[0;31mSyntaxError\u001b[0m\u001b[0;31m:\u001b[0m invalid syntax\n"
     ]
    }
   ],
   "source": [
    "# your code to count vehicles by type - \n",
    "# hint use groupby() and value_counts()"
   ]
  },
  {
   "cell_type": "markdown",
   "id": "2eac220f",
   "metadata": {},
   "source": [
    "The length and width of vehicles differs substantially between classes"
   ]
  },
  {
   "cell_type": "code",
   "execution_count": 55,
   "id": "e4064664",
   "metadata": {},
   "outputs": [
    {
     "data": {
      "image/png": "[encoded data removed]",
      "text/plain": [
       "<Figure size 432x288 with 2 Axes>"
      ]
     },
     "metadata": {},
     "output_type": "display_data"
    }
   ],
   "source": [
    "# produce a plot to illustrate the distribution of lengths and widths for each class\n",
    "plt.subplot(1,2,1)\n",
    "sns.histplot(data=vehicles, x=\"length\", bins = np.arange(0,16,0.5), hue=\"type\")\n",
    "plt.xlabel('vehicle length (m)')\n",
    "\n",
    "plt.subplot(1,2,2)\n",
    "sns.histplot(data=vehicles, x=\"width\", bins = np.arange(1.5,3,0.1), hue=\"type\")\n",
    "plt.xlabel('vehicle length (m)')\n",
    "\n",
    "plt.subplots_adjust(wspace = 0.5) # shift the plots sideways so they don't overlap"
   ]
  },
  {
   "cell_type": "markdown",
   "id": "ccb2ab2e",
   "metadata": {},
   "source": [
    "The mean length of cars is 4.20m (sd 0.51), the mean length of trucks \\< your text here \\> and tows \\< your text here \\>. "
   ]
  },
  {
   "cell_type": "code",
   "execution_count": null,
   "id": "c2ee07ed",
   "metadata": {},
   "outputs": [],
   "source": [
    "# Your code here to output the mean and s.d. of length for each class"
   ]
  },
  {
   "cell_type": "markdown",
   "id": "cf3ddfab",
   "metadata": {},
   "source": [
    "The mean width of cars is \\< your text here giving descriptives for width of each class \\> "
   ]
  },
  {
   "cell_type": "code",
   "execution_count": null,
   "id": "2335f3bc",
   "metadata": {},
   "outputs": [],
   "source": [
    "# Your code here to output the mean and s.d. of width for each class"
   ]
  },
  {
   "cell_type": "markdown",
   "id": "24f7f12b",
   "metadata": {},
   "source": [
    "therefore we would recommend .....[your comment on how to segregate the parking areas for vehicle classes]......:"
   ]
  },
  {
   "cell_type": "markdown",
   "id": "18d2d9b2",
   "metadata": {},
   "source": [
    "## Size and number of parking spaces in each zone\n",
    "\n",
    "We recommend that the parking spaces in each zone should be sized to fit the 95th centile in length and width of each vehicle class. \n",
    "The exact lengths are: /<your text here/>"
   ]
  },
  {
   "cell_type": "code",
   "execution_count": 78,
   "id": "5a966d6a",
   "metadata": {},
   "outputs": [
    {
     "data": {
      "text/html": [
       "<div>\n",
       "<style scoped>\n",
       "    .dataframe tbody tr th:only-of-type {\n",
       "        vertical-align: middle;\n",
       "    }\n",
       "\n",
       "    .dataframe tbody tr th {\n",
       "        vertical-align: top;\n",
       "    }\n",
       "\n",
       "    .dataframe thead th {\n",
       "        text-align: right;\n",
       "    }\n",
       "</style>\n",
       "<table border=\"1\" class=\"dataframe\">\n",
       "  <thead>\n",
       "    <tr style=\"text-align: right;\">\n",
       "      <th></th>\n",
       "      <th>length</th>\n",
       "      <th>height</th>\n",
       "      <th>width</th>\n",
       "    </tr>\n",
       "    <tr>\n",
       "      <th>type</th>\n",
       "      <th></th>\n",
       "      <th></th>\n",
       "      <th></th>\n",
       "    </tr>\n",
       "  </thead>\n",
       "  <tbody>\n",
       "    <tr>\n",
       "      <th>car</th>\n",
       "      <td>4.61130</td>\n",
       "      <td>1.62480</td>\n",
       "      <td>1.83000</td>\n",
       "    </tr>\n",
       "    <tr>\n",
       "      <th>towing</th>\n",
       "      <td>9.27982</td>\n",
       "      <td>2.91196</td>\n",
       "      <td>2.25472</td>\n",
       "    </tr>\n",
       "    <tr>\n",
       "      <th>truck</th>\n",
       "      <td>15.21260</td>\n",
       "      <td>4.20212</td>\n",
       "      <td>2.51552</td>\n",
       "    </tr>\n",
       "  </tbody>\n",
       "</table>\n",
       "</div>"
      ],
      "text/plain": [
       "          length   height    width\n",
       "type                              \n",
       "car      4.61130  1.62480  1.83000\n",
       "towing   9.27982  2.91196  2.25472\n",
       "truck   15.21260  4.20212  2.51552"
      ]
     },
     "execution_count": 78,
     "metadata": {},
     "output_type": "execute_result"
    }
   ],
   "source": [
    "# edit this code to give the 95th percentile (0.95 quantile) of measurements for each vehicle type\n",
    "#\n",
    "\n",
    "vehicles.groupby(['type']).q# complete the line!......\n"
   ]
  },
  {
   "cell_type": "markdown",
   "id": "eb5b0f5e",
   "metadata": {},
   "source": [
    "Given the observed frequencies in each vehicle class, we recommend the following minimum number of spaces in each zone, which is our observed vehicle counts +10% /< your text here - />"
   ]
  },
  {
   "cell_type": "code",
   "execution_count": 79,
   "id": "597f0ac2",
   "metadata": {},
   "outputs": [
    {
     "data": {
      "text/html": [
       "<div>\n",
       "<style scoped>\n",
       "    .dataframe tbody tr th:only-of-type {\n",
       "        vertical-align: middle;\n",
       "    }\n",
       "\n",
       "    .dataframe tbody tr th {\n",
       "        vertical-align: top;\n",
       "    }\n",
       "\n",
       "    .dataframe thead th {\n",
       "        text-align: right;\n",
       "    }\n",
       "</style>\n",
       "<table border=\"1\" class=\"dataframe\">\n",
       "  <thead>\n",
       "    <tr style=\"text-align: right;\">\n",
       "      <th></th>\n",
       "      <th>length</th>\n",
       "      <th>height</th>\n",
       "      <th>width</th>\n",
       "    </tr>\n",
       "    <tr>\n",
       "      <th>type</th>\n",
       "      <th></th>\n",
       "      <th></th>\n",
       "      <th></th>\n",
       "    </tr>\n",
       "  </thead>\n",
       "  <tbody>\n",
       "    <tr>\n",
       "      <th>car</th>\n",
       "      <td>981</td>\n",
       "      <td>981</td>\n",
       "      <td>981</td>\n",
       "    </tr>\n",
       "    <tr>\n",
       "      <th>towing</th>\n",
       "      <td>53</td>\n",
       "      <td>53</td>\n",
       "      <td>53</td>\n",
       "    </tr>\n",
       "    <tr>\n",
       "      <th>truck</th>\n",
       "      <td>330</td>\n",
       "      <td>330</td>\n",
       "      <td>330</td>\n",
       "    </tr>\n",
       "  </tbody>\n",
       "</table>\n",
       "</div>"
      ],
      "text/plain": [
       "        length  height  width\n",
       "type                         \n",
       "car        981     981    981\n",
       "towing      53      53     53\n",
       "truck      330     330    330"
      ]
     },
     "execution_count": 79,
     "metadata": {},
     "output_type": "execute_result"
    }
   ],
   "source": [
    "# your code to give the number of vehicles in each class - \n",
    "# hint - similar to the code above but use .count() instead of .quantile()"
   ]
  },
  {
   "cell_type": "markdown",
   "id": "4e7d3fef",
   "metadata": {},
   "source": [
    "### The end!"
   ]
  }
 ],
 "metadata": {
  "kernelspec": {
   "display_name": "Python 3 (ipykernel)",
   "language": "python",
   "name": "python3"
  },
  "language_info": {
   "codemirror_mode": {
    "name": "ipython",
    "version": 3
   },
   "file_extension": ".py",
   "mimetype": "text/x-python",
   "name": "python",
   "nbconvert_exporter": "python",
   "pygments_lexer": "ipython3",
   "version": "3.9.7"
  }
 },
 "nbformat": 4,
 "nbformat_minor": 5
}
