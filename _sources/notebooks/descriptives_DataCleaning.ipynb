{
 "cells": [
  {
   "cell_type": "markdown",
   "id": "675e90db",
   "metadata": {},
   "source": [
    "# Data cleaning\n",
    "\n",
    "As we have seen, outliers can distort the values of statistics such as the mean and standard deviation\n",
    "\n",
    "In real datasets, outliers are common, arising from one of the following:\n",
    "\n",
    "<ul>\n",
    "    <li> Real but unusual values (eg many basketball players are outliers in terms of height)\n",
    "    <li> Noise in a data recording system (eg in brain imaging data, noise signals from head movement are much larger than the real brain activity we are trying to record)\n",
    "    <li> Data entry error (human types the wrong number)\n",
    "</ul>\n",
    "\n",
    "Identifying and removing outliers and bad data points is a crucial step in the process of preparing our data for analysis, sometimes called <i>data wrangling</i>\n"
   ]
  },
  {
   "cell_type": "markdown",
   "id": "554bd33b",
   "metadata": {},
   "source": [
    "### Set up Python libraries\n",
    "\n",
    "As usual, run the code cell below to import the relevant Python libraries"
   ]
  },
  {
   "cell_type": "code",
   "execution_count": 22,
   "id": "6e215164",
   "metadata": {},
   "outputs": [],
   "source": [
    "# Set-up Python libraries - you need to run this but you don't need to change it\n",
    "import numpy as np\n",
    "import matplotlib.pyplot as plt\n",
    "import scipy.stats as stats\n",
    "import pandas \n",
    "import seaborn as sns\n",
    "sns.set_theme()"
   ]
  },
  {
   "cell_type": "markdown",
   "id": "f83953fc",
   "metadata": {},
   "source": [
    "## Removing an outlier\n",
    "\n",
    "In some cases, we can identify that an outlier datapoint should not be in our dataset, and remove it.\n",
    "\n",
    "Let's try an example:\n",
    "\n",
    "### Import the data\n",
    "\n",
    "Let's import a dataframe with size information on a random sample of cars\n",
    "\n"
   ]
  },
  {
   "cell_type": "code",
   "execution_count": 23,
   "id": "cc704530",
   "metadata": {},
   "outputs": [
    {
     "data": {
      "text/html": [
       "<div>\n",
       "<style scoped>\n",
       "    .dataframe tbody tr th:only-of-type {\n",
       "        vertical-align: middle;\n",
       "    }\n",
       "\n",
       "    .dataframe tbody tr th {\n",
       "        vertical-align: top;\n",
       "    }\n",
       "\n",
       "    .dataframe thead th {\n",
       "        text-align: right;\n",
       "    }\n",
       "</style>\n",
       "<table border=\"1\" class=\"dataframe\">\n",
       "  <thead>\n",
       "    <tr style=\"text-align: right;\">\n",
       "      <th></th>\n",
       "      <th>length</th>\n",
       "      <th>height</th>\n",
       "      <th>width</th>\n",
       "      <th>type</th>\n",
       "    </tr>\n",
       "  </thead>\n",
       "  <tbody>\n",
       "    <tr>\n",
       "      <th>0</th>\n",
       "      <td>3.9187</td>\n",
       "      <td>1.5320</td>\n",
       "      <td>1.8030</td>\n",
       "      <td>car</td>\n",
       "    </tr>\n",
       "    <tr>\n",
       "      <th>1</th>\n",
       "      <td>4.6486</td>\n",
       "      <td>1.5936</td>\n",
       "      <td>1.6463</td>\n",
       "      <td>car</td>\n",
       "    </tr>\n",
       "    <tr>\n",
       "      <th>2</th>\n",
       "      <td>3.5785</td>\n",
       "      <td>1.5447</td>\n",
       "      <td>1.7140</td>\n",
       "      <td>car</td>\n",
       "    </tr>\n",
       "    <tr>\n",
       "      <th>3</th>\n",
       "      <td>3.5563</td>\n",
       "      <td>1.5549</td>\n",
       "      <td>1.7331</td>\n",
       "      <td>car</td>\n",
       "    </tr>\n",
       "    <tr>\n",
       "      <th>4</th>\n",
       "      <td>4.0321</td>\n",
       "      <td>1.5069</td>\n",
       "      <td>1.7320</td>\n",
       "      <td>car</td>\n",
       "    </tr>\n",
       "    <tr>\n",
       "      <th>...</th>\n",
       "      <td>...</td>\n",
       "      <td>...</td>\n",
       "      <td>...</td>\n",
       "      <td>...</td>\n",
       "    </tr>\n",
       "    <tr>\n",
       "      <th>978</th>\n",
       "      <td>5.0897</td>\n",
       "      <td>1.8396</td>\n",
       "      <td>1.8356</td>\n",
       "      <td>car</td>\n",
       "    </tr>\n",
       "    <tr>\n",
       "      <th>979</th>\n",
       "      <td>4.0224</td>\n",
       "      <td>1.5860</td>\n",
       "      <td>1.7862</td>\n",
       "      <td>car</td>\n",
       "    </tr>\n",
       "    <tr>\n",
       "      <th>980</th>\n",
       "      <td>3.4771</td>\n",
       "      <td>1.5340</td>\n",
       "      <td>1.7418</td>\n",
       "      <td>car</td>\n",
       "    </tr>\n",
       "    <tr>\n",
       "      <th>981</th>\n",
       "      <td>5.2096</td>\n",
       "      <td>1.6396</td>\n",
       "      <td>1.8229</td>\n",
       "      <td>car</td>\n",
       "    </tr>\n",
       "    <tr>\n",
       "      <th>982</th>\n",
       "      <td>3.7549</td>\n",
       "      <td>1.5096</td>\n",
       "      <td>1.8274</td>\n",
       "      <td>car</td>\n",
       "    </tr>\n",
       "  </tbody>\n",
       "</table>\n",
       "<p>983 rows × 4 columns</p>\n",
       "</div>"
      ],
      "text/plain": [
       "     length  height   width type\n",
       "0    3.9187  1.5320  1.8030  car\n",
       "1    4.6486  1.5936  1.6463  car\n",
       "2    3.5785  1.5447  1.7140  car\n",
       "3    3.5563  1.5549  1.7331  car\n",
       "4    4.0321  1.5069  1.7320  car\n",
       "..      ...     ...     ...  ...\n",
       "978  5.0897  1.8396  1.8356  car\n",
       "979  4.0224  1.5860  1.7862  car\n",
       "980  3.4771  1.5340  1.7418  car\n",
       "981  5.2096  1.6396  1.8229  car\n",
       "982  3.7549  1.5096  1.8274  car\n",
       "\n",
       "[983 rows x 4 columns]"
      ]
     },
     "metadata": {},
     "output_type": "display_data"
    }
   ],
   "source": [
    "cars = pandas.read_csv('data/cars_outlier1.csv')\n",
    "display(cars)"
   ]
  },
  {
   "cell_type": "markdown",
   "id": "6992a2fd",
   "metadata": {},
   "source": [
    "### Get descriptives\n",
    "\n",
    "We can get the descriptive statistics using the <a href=\"https://pandas.pydata.org/docs/reference/api/pandas.DataFrame.describe.html\"><tt>decribe()</tt></a> method in <tt>pandas</tt>"
   ]
  },
  {
   "cell_type": "code",
   "execution_count": 24,
   "id": "54358743",
   "metadata": {},
   "outputs": [
    {
     "data": {
      "text/html": [
       "<div>\n",
       "<style scoped>\n",
       "    .dataframe tbody tr th:only-of-type {\n",
       "        vertical-align: middle;\n",
       "    }\n",
       "\n",
       "    .dataframe tbody tr th {\n",
       "        vertical-align: top;\n",
       "    }\n",
       "\n",
       "    .dataframe thead th {\n",
       "        text-align: right;\n",
       "    }\n",
       "</style>\n",
       "<table border=\"1\" class=\"dataframe\">\n",
       "  <thead>\n",
       "    <tr style=\"text-align: right;\">\n",
       "      <th></th>\n",
       "      <th>length</th>\n",
       "      <th>height</th>\n",
       "      <th>width</th>\n",
       "    </tr>\n",
       "  </thead>\n",
       "  <tbody>\n",
       "    <tr>\n",
       "      <th>count</th>\n",
       "      <td>983.000000</td>\n",
       "      <td>983.000000</td>\n",
       "      <td>983.000000</td>\n",
       "    </tr>\n",
       "    <tr>\n",
       "      <th>mean</th>\n",
       "      <td>4.219838</td>\n",
       "      <td>1.586132</td>\n",
       "      <td>1.793355</td>\n",
       "    </tr>\n",
       "    <tr>\n",
       "      <th>std</th>\n",
       "      <td>0.708656</td>\n",
       "      <td>0.131954</td>\n",
       "      <td>0.056570</td>\n",
       "    </tr>\n",
       "    <tr>\n",
       "      <th>min</th>\n",
       "      <td>3.110900</td>\n",
       "      <td>1.430400</td>\n",
       "      <td>1.624100</td>\n",
       "    </tr>\n",
       "    <tr>\n",
       "      <th>25%</th>\n",
       "      <td>3.816750</td>\n",
       "      <td>1.540050</td>\n",
       "      <td>1.760250</td>\n",
       "    </tr>\n",
       "    <tr>\n",
       "      <th>50%</th>\n",
       "      <td>4.121600</td>\n",
       "      <td>1.574600</td>\n",
       "      <td>1.790400</td>\n",
       "    </tr>\n",
       "    <tr>\n",
       "      <th>75%</th>\n",
       "      <td>4.520250</td>\n",
       "      <td>1.612350</td>\n",
       "      <td>1.821000</td>\n",
       "    </tr>\n",
       "    <tr>\n",
       "      <th>max</th>\n",
       "      <td>15.361000</td>\n",
       "      <td>4.201700</td>\n",
       "      <td>2.499800</td>\n",
       "    </tr>\n",
       "  </tbody>\n",
       "</table>\n",
       "</div>"
      ],
      "text/plain": [
       "           length      height       width\n",
       "count  983.000000  983.000000  983.000000\n",
       "mean     4.219838    1.586132    1.793355\n",
       "std      0.708656    0.131954    0.056570\n",
       "min      3.110900    1.430400    1.624100\n",
       "25%      3.816750    1.540050    1.760250\n",
       "50%      4.121600    1.574600    1.790400\n",
       "75%      4.520250    1.612350    1.821000\n",
       "max     15.361000    4.201700    2.499800"
      ]
     },
     "execution_count": 24,
     "metadata": {},
     "output_type": "execute_result"
    }
   ],
   "source": [
    "cars.describe()"
   ]
  },
  {
   "cell_type": "markdown",
   "id": "8fb6189a",
   "metadata": {},
   "source": [
    "Hm, the maximum value for car length looks very high.\n",
    "\n",
    "Let's plot the data (don't worry about the plotting code, there is a session on this later)"
   ]
  },
  {
   "cell_type": "code",
   "execution_count": 25,
   "id": "2d211d57",
   "metadata": {},
   "outputs": [
    {
     "data": {
      "text/plain": [
       "<AxesSubplot:xlabel='length', ylabel='Count'>"
      ]
     },
     "execution_count": 25,
     "metadata": {},
     "output_type": "execute_result"
    },
    {
     "data": {
      "image/png": "[encoded data removed]",
      "text/plain": [
       "<Figure size 432x288 with 1 Axes>"
      ]
     },
     "metadata": {},
     "output_type": "display_data"
    }
   ],
   "source": [
    "sns.histplot(cars['length'])"
   ]
  },
  {
   "cell_type": "markdown",
   "id": "406ca4f1",
   "metadata": {},
   "source": [
    "There must be a cars of length up to 15.36m (the max length in the descriptives table) but we can't see them in the plot - although we can see the x axis is stretched out to accommodate them.\n",
    "\n",
    "Let's zoom in a bit:"
   ]
  },
  {
   "cell_type": "code",
   "execution_count": 26,
   "id": "42b158fb",
   "metadata": {},
   "outputs": [
    {
     "data": {
      "image/png": "[encoded data removed]",
      "text/plain": [
       "<Figure size 432x288 with 2 Axes>"
      ]
     },
     "metadata": {},
     "output_type": "display_data"
    }
   ],
   "source": [
    "plt.subplot(1,2,1)\n",
    "sns.histplot(cars['length'])\n",
    "\n",
    "plt.subplot(1,2,2)\n",
    "sns.histplot(cars['length'])\n",
    "plt.ylim((0,10))\n",
    "\n",
    "plt.subplots_adjust(wspace = 0.5)"
   ]
  },
  {
   "cell_type": "markdown",
   "id": "1aeb7c8f",
   "metadata": {},
   "source": [
    "Hm, a couple of outliers.\n",
    "\n",
    "Let's check it in the dataframe by pulling out any cars longer than 8m:"
   ]
  },
  {
   "cell_type": "code",
   "execution_count": 27,
   "id": "85f70bfd",
   "metadata": {},
   "outputs": [
    {
     "data": {
      "text/html": [
       "<div>\n",
       "<style scoped>\n",
       "    .dataframe tbody tr th:only-of-type {\n",
       "        vertical-align: middle;\n",
       "    }\n",
       "\n",
       "    .dataframe tbody tr th {\n",
       "        vertical-align: top;\n",
       "    }\n",
       "\n",
       "    .dataframe thead th {\n",
       "        text-align: right;\n",
       "    }\n",
       "</style>\n",
       "<table border=\"1\" class=\"dataframe\">\n",
       "  <thead>\n",
       "    <tr style=\"text-align: right;\">\n",
       "      <th></th>\n",
       "      <th>length</th>\n",
       "      <th>height</th>\n",
       "      <th>width</th>\n",
       "      <th>type</th>\n",
       "    </tr>\n",
       "  </thead>\n",
       "  <tbody>\n",
       "    <tr>\n",
       "      <th>100</th>\n",
       "      <td>15.361</td>\n",
       "      <td>4.1914</td>\n",
       "      <td>2.4998</td>\n",
       "      <td>truck</td>\n",
       "    </tr>\n",
       "    <tr>\n",
       "      <th>101</th>\n",
       "      <td>14.508</td>\n",
       "      <td>4.2017</td>\n",
       "      <td>2.4890</td>\n",
       "      <td>truck</td>\n",
       "    </tr>\n",
       "  </tbody>\n",
       "</table>\n",
       "</div>"
      ],
      "text/plain": [
       "     length  height   width   type\n",
       "100  15.361  4.1914  2.4998  truck\n",
       "101  14.508  4.2017  2.4890  truck"
      ]
     },
     "execution_count": 27,
     "metadata": {},
     "output_type": "execute_result"
    }
   ],
   "source": [
    "cars[cars['length']>8]"
   ]
  },
  {
   "cell_type": "markdown",
   "id": "4025e26e",
   "metadata": {},
   "source": [
    "ahh, the value of <tt>type</tt> for the two vehicles that exceed 8m is 'truck'. \n",
    "\n",
    "Let's check what other types we have:"
   ]
  },
  {
   "cell_type": "code",
   "execution_count": 28,
   "id": "83b9dc78",
   "metadata": {},
   "outputs": [
    {
     "data": {
      "text/plain": [
       "car      981\n",
       "truck      2\n",
       "Name: type, dtype: int64"
      ]
     },
     "execution_count": 28,
     "metadata": {},
     "output_type": "execute_result"
    }
   ],
   "source": [
    "cars['type'].value_counts()"
   ]
  },
  {
   "cell_type": "markdown",
   "id": "55b53c96",
   "metadata": {},
   "source": [
    "Hm, 981 cars and 2 trucks. I think the trucks were included by mistake. Let's drop them:"
   ]
  },
  {
   "cell_type": "code",
   "execution_count": 29,
   "id": "abf2378a",
   "metadata": {},
   "outputs": [
    {
     "data": {
      "text/plain": [
       "car    981\n",
       "Name: type, dtype: int64"
      ]
     },
     "execution_count": 29,
     "metadata": {},
     "output_type": "execute_result"
    }
   ],
   "source": [
    "cars_clean = cars.drop([100,101]) # 100 is the row index of the truck - you can see it above\n",
    "cars_clean['type'].value_counts() # check if we still have any trucks in the sample"
   ]
  },
  {
   "cell_type": "markdown",
   "id": "be7d37df",
   "metadata": {},
   "source": [
    "We got the row indices for the trucks from the cell above where we pulled out rows with length >8m and inspected it. \n",
    "\n",
    "if you were working with lots of files, it could be useful to cut out the middle man and find the row index using code:"
   ]
  },
  {
   "cell_type": "code",
   "execution_count": 30,
   "id": "bd877ec2",
   "metadata": {},
   "outputs": [
    {
     "data": {
      "text/plain": [
       "car    981\n",
       "Name: type, dtype: int64"
      ]
     },
     "execution_count": 30,
     "metadata": {},
     "output_type": "execute_result"
    }
   ],
   "source": [
    "ix = cars.index[cars['type']=='truck'] # find the row index for the truck and save it as 'ix'\n",
    "cars_clean = cars.drop(ix)\n",
    "cars_clean['type'].value_counts() # check if we still have any trucks in the sample"
   ]
  },
  {
   "cell_type": "markdown",
   "id": "6e56ce5a",
   "metadata": {},
   "source": [
    "## NaN an outlier value\n",
    "\n",
    "Sometimes, we don't want to remove an entire entry.\n",
    "\n",
    "Say for example there is a data entry error for one of the vehicle heights. We might not be that interested in vehicle height, and wish to retain other data on this vehicle.\n",
    "\n",
    "Then we can replace just the offending value with the value <tt>NaN</tt>\n",
    "\n",
    "<tt>NaN</tt> stands for Not a Number and is code across many programming languages for a missing value that should be ignored.\n",
    "\n",
    "Let's try an example\n",
    "\n",
    "### Import the data\n",
    "\n",
    "Let's import a dataframe with size information on a random sample of cars"
   ]
  },
  {
   "cell_type": "code",
   "execution_count": 31,
   "id": "581dfce7",
   "metadata": {},
   "outputs": [
    {
     "ename": "SyntaxError",
     "evalue": "invalid syntax (3293458222.py, line 1)",
     "output_type": "error",
     "traceback": [
      "\u001b[0;36m  File \u001b[0;32m\"/var/folders/q4/twg1yll54y142rc02m5wwbt40000gr/T/ipykernel_21420/3293458222.py\"\u001b[0;36m, line \u001b[0;32m1\u001b[0m\n\u001b[0;31m    cars = # your code here to read the file 'data/cars_outlier2.csv'\u001b[0m\n\u001b[0m           ^\u001b[0m\n\u001b[0;31mSyntaxError\u001b[0m\u001b[0;31m:\u001b[0m invalid syntax\n"
     ]
    }
   ],
   "source": [
    "cars = # your code here to read the file 'data/cars_outlier2.csv'\n",
    "display(cars)"
   ]
  },
  {
   "cell_type": "markdown",
   "id": "319cd700",
   "metadata": {},
   "source": [
    "### Get descriptives\n",
    "\n",
    "We can get the descriptive statistics using the <a href=\"https://pandas.pydata.org/docs/reference/api/pandas.DataFrame.describe.html\"><tt>decribe()</tt></a> method in <tt>pandas</tt>"
   ]
  },
  {
   "cell_type": "code",
   "execution_count": 32,
   "id": "a9ee8fac",
   "metadata": {},
   "outputs": [],
   "source": [
    "# your code here to get the descriptives - check above for an example!"
   ]
  },
  {
   "cell_type": "markdown",
   "id": "9768e7aa",
   "metadata": {},
   "source": [
    "It looks like there are some very high cars in the sample, but the maximum length and width are as expected.\n",
    "\n",
    "Let's have a look at the rows of the dataframe containing the very high cars"
   ]
  },
  {
   "cell_type": "code",
   "execution_count": 33,
   "id": "51c2e7cd",
   "metadata": {},
   "outputs": [
    {
     "data": {
      "text/html": [
       "<div>\n",
       "<style scoped>\n",
       "    .dataframe tbody tr th:only-of-type {\n",
       "        vertical-align: middle;\n",
       "    }\n",
       "\n",
       "    .dataframe tbody tr th {\n",
       "        vertical-align: top;\n",
       "    }\n",
       "\n",
       "    .dataframe thead th {\n",
       "        text-align: right;\n",
       "    }\n",
       "</style>\n",
       "<table border=\"1\" class=\"dataframe\">\n",
       "  <thead>\n",
       "    <tr style=\"text-align: right;\">\n",
       "      <th></th>\n",
       "      <th>length</th>\n",
       "      <th>height</th>\n",
       "      <th>width</th>\n",
       "      <th>type</th>\n",
       "    </tr>\n",
       "  </thead>\n",
       "  <tbody>\n",
       "  </tbody>\n",
       "</table>\n",
       "</div>"
      ],
      "text/plain": [
       "Empty DataFrame\n",
       "Columns: [length, height, width, type]\n",
       "Index: []"
      ]
     },
     "execution_count": 33,
     "metadata": {},
     "output_type": "execute_result"
    }
   ],
   "source": [
    "# your code here to display the rows of the dataframe with car length greater than 8m\n",
    "# check above for an example\n",
    "\n",
    "cars[cars['height']>8]"
   ]
  },
  {
   "cell_type": "markdown",
   "id": "cdff0b7d",
   "metadata": {},
   "source": [
    "Hm, these height values appear to be about 10x the mean height\n",
    "\n",
    "Maybe a data entry error (the decimal point is in the wrong place)\n",
    "\n",
    "We can replace the values with a <tt>NaN</tt>"
   ]
  },
  {
   "cell_type": "code",
   "execution_count": 46,
   "id": "ed4fa0bc",
   "metadata": {},
   "outputs": [
    {
     "data": {
      "text/html": [
       "<div>\n",
       "<style scoped>\n",
       "    .dataframe tbody tr th:only-of-type {\n",
       "        vertical-align: middle;\n",
       "    }\n",
       "\n",
       "    .dataframe tbody tr th {\n",
       "        vertical-align: top;\n",
       "    }\n",
       "\n",
       "    .dataframe thead th {\n",
       "        text-align: right;\n",
       "    }\n",
       "</style>\n",
       "<table border=\"1\" class=\"dataframe\">\n",
       "  <thead>\n",
       "    <tr style=\"text-align: right;\">\n",
       "      <th></th>\n",
       "      <th>length</th>\n",
       "      <th>height</th>\n",
       "      <th>width</th>\n",
       "      <th>type</th>\n",
       "    </tr>\n",
       "  </thead>\n",
       "  <tbody>\n",
       "    <tr>\n",
       "      <th>98</th>\n",
       "      <td>4.3451</td>\n",
       "      <td>1.6417</td>\n",
       "      <td>1.8773</td>\n",
       "      <td>car</td>\n",
       "    </tr>\n",
       "    <tr>\n",
       "      <th>99</th>\n",
       "      <td>4.4613</td>\n",
       "      <td>1.6514</td>\n",
       "      <td>1.7431</td>\n",
       "      <td>car</td>\n",
       "    </tr>\n",
       "    <tr>\n",
       "      <th>100</th>\n",
       "      <td>15.3610</td>\n",
       "      <td>NaN</td>\n",
       "      <td>2.4998</td>\n",
       "      <td>truck</td>\n",
       "    </tr>\n",
       "    <tr>\n",
       "      <th>101</th>\n",
       "      <td>14.5080</td>\n",
       "      <td>NaN</td>\n",
       "      <td>2.4890</td>\n",
       "      <td>truck</td>\n",
       "    </tr>\n",
       "    <tr>\n",
       "      <th>102</th>\n",
       "      <td>3.9694</td>\n",
       "      <td>1.5171</td>\n",
       "      <td>1.7158</td>\n",
       "      <td>car</td>\n",
       "    </tr>\n",
       "    <tr>\n",
       "      <th>103</th>\n",
       "      <td>4.2810</td>\n",
       "      <td>1.5981</td>\n",
       "      <td>1.7840</td>\n",
       "      <td>car</td>\n",
       "    </tr>\n",
       "    <tr>\n",
       "      <th>104</th>\n",
       "      <td>3.4394</td>\n",
       "      <td>1.5124</td>\n",
       "      <td>1.7424</td>\n",
       "      <td>car</td>\n",
       "    </tr>\n",
       "  </tbody>\n",
       "</table>\n",
       "</div>"
      ],
      "text/plain": [
       "      length  height   width   type\n",
       "98    4.3451  1.6417  1.8773    car\n",
       "99    4.4613  1.6514  1.7431    car\n",
       "100  15.3610     NaN  2.4998  truck\n",
       "101  14.5080     NaN  2.4890  truck\n",
       "102   3.9694  1.5171  1.7158    car\n",
       "103   4.2810  1.5981  1.7840    car\n",
       "104   3.4394  1.5124  1.7424    car"
      ]
     },
     "metadata": {},
     "output_type": "display_data"
    }
   ],
   "source": [
    "cars_clean = cars # make a copy of the dataframe to work on\n",
    "\n",
    "cars_clean.loc[[100,101],['height']]=np.nan\n",
    "# or cut out the middle man and find the offending row numbers using code\n",
    "#cars.loc[(cars['height']>8),['height']]=np.nan\n",
    "\n",
    "# let's view the edited dataframe\n",
    "display(cars_clean[98:105])"
   ]
  },
  {
   "cell_type": "markdown",
   "id": "81d8b484",
   "metadata": {},
   "source": [
    "We can see that the mean and max height should now have gone back to reasonable values, as Python just ignores the NaNs when calculating the descriptive statistics:"
   ]
  },
  {
   "cell_type": "code",
   "execution_count": 35,
   "id": "31c972e4",
   "metadata": {},
   "outputs": [
    {
     "data": {
      "text/html": [
       "<div>\n",
       "<style scoped>\n",
       "    .dataframe tbody tr th:only-of-type {\n",
       "        vertical-align: middle;\n",
       "    }\n",
       "\n",
       "    .dataframe tbody tr th {\n",
       "        vertical-align: top;\n",
       "    }\n",
       "\n",
       "    .dataframe thead th {\n",
       "        text-align: right;\n",
       "    }\n",
       "</style>\n",
       "<table border=\"1\" class=\"dataframe\">\n",
       "  <thead>\n",
       "    <tr style=\"text-align: right;\">\n",
       "      <th></th>\n",
       "      <th>length</th>\n",
       "      <th>height</th>\n",
       "      <th>width</th>\n",
       "    </tr>\n",
       "  </thead>\n",
       "  <tbody>\n",
       "    <tr>\n",
       "      <th>count</th>\n",
       "      <td>983.000000</td>\n",
       "      <td>981.000000</td>\n",
       "      <td>983.000000</td>\n",
       "    </tr>\n",
       "    <tr>\n",
       "      <th>mean</th>\n",
       "      <td>4.219838</td>\n",
       "      <td>1.580810</td>\n",
       "      <td>1.793355</td>\n",
       "    </tr>\n",
       "    <tr>\n",
       "      <th>std</th>\n",
       "      <td>0.708656</td>\n",
       "      <td>0.059263</td>\n",
       "      <td>0.056570</td>\n",
       "    </tr>\n",
       "    <tr>\n",
       "      <th>min</th>\n",
       "      <td>3.110900</td>\n",
       "      <td>1.430400</td>\n",
       "      <td>1.624100</td>\n",
       "    </tr>\n",
       "    <tr>\n",
       "      <th>25%</th>\n",
       "      <td>3.816750</td>\n",
       "      <td>1.540000</td>\n",
       "      <td>1.760250</td>\n",
       "    </tr>\n",
       "    <tr>\n",
       "      <th>50%</th>\n",
       "      <td>4.121600</td>\n",
       "      <td>1.574500</td>\n",
       "      <td>1.790400</td>\n",
       "    </tr>\n",
       "    <tr>\n",
       "      <th>75%</th>\n",
       "      <td>4.520250</td>\n",
       "      <td>1.611900</td>\n",
       "      <td>1.821000</td>\n",
       "    </tr>\n",
       "    <tr>\n",
       "      <th>max</th>\n",
       "      <td>15.361000</td>\n",
       "      <td>1.899300</td>\n",
       "      <td>2.499800</td>\n",
       "    </tr>\n",
       "  </tbody>\n",
       "</table>\n",
       "</div>"
      ],
      "text/plain": [
       "           length      height       width\n",
       "count  983.000000  981.000000  983.000000\n",
       "mean     4.219838    1.580810    1.793355\n",
       "std      0.708656    0.059263    0.056570\n",
       "min      3.110900    1.430400    1.624100\n",
       "25%      3.816750    1.540000    1.760250\n",
       "50%      4.121600    1.574500    1.790400\n",
       "75%      4.520250    1.611900    1.821000\n",
       "max     15.361000    1.899300    2.499800"
      ]
     },
     "execution_count": 35,
     "metadata": {},
     "output_type": "execute_result"
    }
   ],
   "source": [
    "cars_clean.describe()"
   ]
  },
  {
   "cell_type": "markdown",
   "id": "94950f98",
   "metadata": {},
   "source": [
    "### Find NaNs\n",
    "\n",
    "If you download a dataset, it can be useful to check which rows have missing values. \n",
    "\n",
    "You can do this using the method <a href=\"https://pandas.pydata.org/docs/reference/api/pandas.DataFrame.isna.html\"><tt>isna</tt></a>, which returns a True for NaN values and False elsewhere.\n",
    "\n",
    "For example we can check the section of the dataframe where we replaced some values with <tt>NaN</tt>s"
   ]
  },
  {
   "cell_type": "code",
   "execution_count": 43,
   "id": "c4fcbdf7",
   "metadata": {},
   "outputs": [
    {
     "data": {
      "text/html": [
       "<div>\n",
       "<style scoped>\n",
       "    .dataframe tbody tr th:only-of-type {\n",
       "        vertical-align: middle;\n",
       "    }\n",
       "\n",
       "    .dataframe tbody tr th {\n",
       "        vertical-align: top;\n",
       "    }\n",
       "\n",
       "    .dataframe thead th {\n",
       "        text-align: right;\n",
       "    }\n",
       "</style>\n",
       "<table border=\"1\" class=\"dataframe\">\n",
       "  <thead>\n",
       "    <tr style=\"text-align: right;\">\n",
       "      <th></th>\n",
       "      <th>length</th>\n",
       "      <th>height</th>\n",
       "      <th>width</th>\n",
       "      <th>type</th>\n",
       "    </tr>\n",
       "  </thead>\n",
       "  <tbody>\n",
       "    <tr>\n",
       "      <th>98</th>\n",
       "      <td>False</td>\n",
       "      <td>False</td>\n",
       "      <td>False</td>\n",
       "      <td>False</td>\n",
       "    </tr>\n",
       "    <tr>\n",
       "      <th>99</th>\n",
       "      <td>False</td>\n",
       "      <td>False</td>\n",
       "      <td>False</td>\n",
       "      <td>False</td>\n",
       "    </tr>\n",
       "    <tr>\n",
       "      <th>100</th>\n",
       "      <td>False</td>\n",
       "      <td>True</td>\n",
       "      <td>False</td>\n",
       "      <td>False</td>\n",
       "    </tr>\n",
       "    <tr>\n",
       "      <th>101</th>\n",
       "      <td>False</td>\n",
       "      <td>True</td>\n",
       "      <td>False</td>\n",
       "      <td>False</td>\n",
       "    </tr>\n",
       "    <tr>\n",
       "      <th>102</th>\n",
       "      <td>False</td>\n",
       "      <td>False</td>\n",
       "      <td>False</td>\n",
       "      <td>False</td>\n",
       "    </tr>\n",
       "    <tr>\n",
       "      <th>103</th>\n",
       "      <td>False</td>\n",
       "      <td>False</td>\n",
       "      <td>False</td>\n",
       "      <td>False</td>\n",
       "    </tr>\n",
       "    <tr>\n",
       "      <th>104</th>\n",
       "      <td>False</td>\n",
       "      <td>False</td>\n",
       "      <td>False</td>\n",
       "      <td>False</td>\n",
       "    </tr>\n",
       "  </tbody>\n",
       "</table>\n",
       "</div>"
      ],
      "text/plain": [
       "     length  height  width   type\n",
       "98    False   False  False  False\n",
       "99    False   False  False  False\n",
       "100   False    True  False  False\n",
       "101   False    True  False  False\n",
       "102   False   False  False  False\n",
       "103   False   False  False  False\n",
       "104   False   False  False  False"
      ]
     },
     "execution_count": 43,
     "metadata": {},
     "output_type": "execute_result"
    }
   ],
   "source": [
    "cars_clean[98:105].isna()"
   ]
  },
  {
   "cell_type": "markdown",
   "id": "96e0ef0e",
   "metadata": {},
   "source": [
    "If you want to find the rows in which 'height' is <tt>NaN</tt>, you can use isna() to give indices like this:"
   ]
  },
  {
   "cell_type": "code",
   "execution_count": 45,
   "id": "219f7994",
   "metadata": {},
   "outputs": [
    {
     "data": {
      "text/html": [
       "<div>\n",
       "<style scoped>\n",
       "    .dataframe tbody tr th:only-of-type {\n",
       "        vertical-align: middle;\n",
       "    }\n",
       "\n",
       "    .dataframe tbody tr th {\n",
       "        vertical-align: top;\n",
       "    }\n",
       "\n",
       "    .dataframe thead th {\n",
       "        text-align: right;\n",
       "    }\n",
       "</style>\n",
       "<table border=\"1\" class=\"dataframe\">\n",
       "  <thead>\n",
       "    <tr style=\"text-align: right;\">\n",
       "      <th></th>\n",
       "      <th>length</th>\n",
       "      <th>height</th>\n",
       "      <th>width</th>\n",
       "      <th>type</th>\n",
       "    </tr>\n",
       "  </thead>\n",
       "  <tbody>\n",
       "    <tr>\n",
       "      <th>100</th>\n",
       "      <td>15.361</td>\n",
       "      <td>NaN</td>\n",
       "      <td>2.4998</td>\n",
       "      <td>truck</td>\n",
       "    </tr>\n",
       "    <tr>\n",
       "      <th>101</th>\n",
       "      <td>14.508</td>\n",
       "      <td>NaN</td>\n",
       "      <td>2.4890</td>\n",
       "      <td>truck</td>\n",
       "    </tr>\n",
       "  </tbody>\n",
       "</table>\n",
       "</div>"
      ],
      "text/plain": [
       "     length  height   width   type\n",
       "100  15.361     NaN  2.4998  truck\n",
       "101  14.508     NaN  2.4890  truck"
      ]
     },
     "execution_count": 45,
     "metadata": {},
     "output_type": "execute_result"
    }
   ],
   "source": [
    "cars_clean[cars_clean['height'].isna()]"
   ]
  },
  {
   "cell_type": "markdown",
   "id": "e86cabee",
   "metadata": {},
   "source": [
    "## Delete or <tt>NaN</tt>?\n",
    "\n",
    "When should you delete the entire row and when should you replace a missing value with a <tt>NaN</tt>?\n",
    "\n",
    "In general, it is better to replace bad or missing values with a <tt>NaN</tt>\n",
    "\n",
    "I think there are three main considerations:\n",
    "\n",
    "### Partial data records are valuable\n",
    "\n",
    "If you have many data values for each record or row in your dataframe (in this case, records correspond to individual cars, but they could be patients for example), you may not wish ot junk all the data just because some variables are incomplete or have bad values. \n",
    "\n",
    "For example, say we run a study which involves a hospital visit for a battery of tests (blood pressure, thyroid function, levels of vitamin B12...) and the lab looses a batch of samples for the B12 analysis. The remaining data on the patients may still be useful - maybe we didn't even care that much about vitamin B12.\n",
    "\n",
    "In this case, it is better to put a missing value for B12 in the affected patients and retain the rest of their data as normal.\n",
    "\n",
    "### Deleting data could be misleaading\n",
    "\n",
    "Say one of the measures in our patient study is a follow-up questionairre and only 60% of patients complete this.\n",
    "\n",
    "If we simply delete all the patients who didn't complete the follow-up from our database, we will have a biased sample (an no-one will ever know!)\n",
    "\n",
    "For this reason it is good practice to retain incomplete data records, with <tt>Nan</tt>s as appropriate, so another researcher can see the full picture.\n",
    "\n",
    "### Some errors really are errors\n",
    "\n",
    "However, if a record is clearly an error (completely empty) or a duplicate (two identical files for the same NHS number), it would be appropriate to delete it"
   ]
  },
  {
   "cell_type": "code",
   "execution_count": null,
   "id": "2fb83bef",
   "metadata": {},
   "outputs": [],
   "source": []
  }
 ],
 "metadata": {
  "kernelspec": {
   "display_name": "Python 3 (ipykernel)",
   "language": "python",
   "name": "python3"
  },
  "language_info": {
   "codemirror_mode": {
    "name": "ipython",
    "version": 3
   },
   "file_extension": ".py",
   "mimetype": "text/x-python",
   "name": "python",
   "nbconvert_exporter": "python",
   "pygments_lexer": "ipython3",
   "version": "3.9.7"
  }
 },
 "nbformat": 4,
 "nbformat_minor": 5
}
