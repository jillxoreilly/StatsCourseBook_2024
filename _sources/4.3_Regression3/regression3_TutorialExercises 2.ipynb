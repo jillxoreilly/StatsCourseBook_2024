{
 "cells": [
  {
   "cell_type": "markdown",
   "id": "0736c308",
   "metadata": {},
   "source": [
    "# Tutorial Exercises\n",
    "\n",
    "The tutorial exercises this week will form the basis of your next hand-in assignment. You will be using real data that were collected in 2019 about people’s perception of their social standing and their happiness. These data were collected online by the well-respected polling company YouGov. The data are intended to be representative of the UK population. \n",
    "\n",
    "Note: as well as completing these exercises, it’s a good idea to review the instructions for the assignment ahead of the tutorial, so that you can check you understanding with your tutor. \n",
    "\n",
    "The variables are as follows:\n",
    "\n",
    "*\t`happy` (a continuous measure ranging from 0-10, where higher scores are greater happiness)\n",
    "*\t`ladder` (a continuous measure of 1-11 where participants rate themselves in their standing in society, where the lowest rung on the ladder was labelled “bottom of society” and the top rung as “top of society”)\n",
    "*\t`age` (a continuous measure in years)\n",
    "*\t`marital` (a categorical measure of marital status with three categories) \n",
    "*\t`work` (a categorical measure of working status with four categories)\n",
    "*\t`educ` ( a categorical measure of educational qualifications summarised into 3 categories)\n",
    "*\t`sex` (male, female)\n",
    "*\t`leftout` (a categorical variable in which people state whether they agree or disagree that they feel left out of society)\n",
    "*\t`income` (a categorical variable with four categories)\n",
    "*\t`region` (a categorical variable with twelve categories)\n",
    "\n",
    "\n",
    "### Set up Python libraries\n",
    "\n",
    "As usual, run the code cell below to import the relevant Python libraries"
   ]
  },
  {
   "cell_type": "code",
   "execution_count": 11,
   "id": "1da708df",
   "metadata": {},
   "outputs": [],
   "source": [
    "# Set-up Python libraries - you need to run this but you don't need to change it\n",
    "import numpy as np\n",
    "import matplotlib.pyplot as plt\n",
    "import scipy.stats as stats\n",
    "import pandas \n",
    "import seaborn as sns\n",
    "import statsmodels.api as sm\n",
    "import statsmodels.formula.api as smf"
   ]
  },
  {
   "cell_type": "markdown",
   "id": "f1bf5a3f",
   "metadata": {},
   "source": [
    "### Import and view the data"
   ]
  },
  {
   "cell_type": "code",
   "execution_count": 16,
   "id": "d2dbe0e6",
   "metadata": {},
   "outputs": [],
   "source": [
    "# Your code here to import the data from the file Happy.csv\n"
   ]
  },
  {
   "cell_type": "markdown",
   "id": "16901359",
   "metadata": {},
   "source": [
    "### Data cleaning\n",
    "\n",
    "First, get to know your data and do any necessary data cleaning. \n",
    "\n",
    "YouGov uses codes of 99 to indicate missing data. Change these to NaN."
   ]
  },
  {
   "cell_type": "code",
   "execution_count": null,
   "id": "c1634fac",
   "metadata": {},
   "outputs": [],
   "source": [
    "# Your code here to remove missing values!"
   ]
  },
  {
   "cell_type": "markdown",
   "id": "c033f94c",
   "metadata": {},
   "source": [
    "### Control Variables\n",
    "\n",
    "* The outcome variable here is `happy` \n",
    "* The main explanatory variable is `ladder`  \n",
    "* There are a set of 8 possible control variables. \n",
    "\n",
    "Which do you think might be important controls here? \n",
    "\n",
    "There is no right or wrong answer here but think about your reasons for selecting your control variables (don’t just throw all of them in!).\n",
    "\n",
    "Specify two regression models - Model 1 includes just the main explanatory variable. Model 2 adds the control variables of your choice (and keeps the main explanatory variable). Calculate the RMSE for both. \n"
   ]
  },
  {
   "cell_type": "code",
   "execution_count": 2,
   "id": "58e368c8",
   "metadata": {},
   "outputs": [],
   "source": [
    "# Your code here!"
   ]
  },
  {
   "cell_type": "markdown",
   "id": "450d2231",
   "metadata": {},
   "source": [
    "### Compare your two models:\n",
    "\n",
    "* Which is better fitting in terms of the $R^2$? \n",
    "* And which has a smaller spread of values around the regression line? "
   ]
  },
  {
   "cell_type": "code",
   "execution_count": 1,
   "id": "5ffd436b",
   "metadata": {},
   "outputs": [],
   "source": [
    "# Your answer here!\n",
    "# You may need to add extra cells"
   ]
  },
  {
   "cell_type": "markdown",
   "id": "823b13ed",
   "metadata": {},
   "source": [
    "### Interpret your regression models. \n",
    "\n",
    "Make some notes:\n",
    "* Which coefficients are significant? \n",
    "* What are the confidence intervals around the slope for ‘ladder’? \n",
    "* Does the coefficient for ‘ladder’ change much between model 1 and model 2? \n",
    "* What can we conclude about the relationship between perceptions of social standing and happiness? \n",
    "* Looking at the association between the control variables and happiness, are these as you might have expected, or are there any surprises here?"
   ]
  },
  {
   "cell_type": "code",
   "execution_count": null,
   "id": "cdfe4eff",
   "metadata": {},
   "outputs": [],
   "source": [
    "# Your answer here!\n",
    "# You may need to add extra cells"
   ]
  },
  {
   "cell_type": "markdown",
   "id": "2cac8a0a",
   "metadata": {},
   "source": [
    "### Check the regression assumptions. \n",
    "\n",
    "First, check whether the residuals are normally distributed by plotting a histogram of the residuals (refer bback to the preparatory notebook for an example). Do you think this assumption has been met?"
   ]
  },
  {
   "cell_type": "code",
   "execution_count": null,
   "id": "f1e23d4d",
   "metadata": {},
   "outputs": [],
   "source": [
    "# Your code here"
   ]
  },
  {
   "cell_type": "markdown",
   "id": "b6145c63",
   "metadata": {},
   "source": [
    "Let's also trying checking the assumption of constant variance: can you plot a scatter plot of residuals ($y$-axis) and $\\hat{y}$ ($x$-axis)?\n",
    "\n",
    "Residuals are found in `reg_results.resid` and $\\hat{y}$ is obtained using `reg_results.predict()`\n",
    "\n",
    "Do you think the variance in the residuals looks roughly constant for all values of $\\hat{y}$?"
   ]
  },
  {
   "cell_type": "code",
   "execution_count": null,
   "id": "08fe0ca4",
   "metadata": {},
   "outputs": [],
   "source": [
    "# Your code here"
   ]
  },
  {
   "cell_type": "markdown",
   "id": "a4108a9e",
   "metadata": {},
   "source": [
    "The variance of the residuals looks roughly similar at all values of yhat. It looks like the constant variance assumption has been met\n",
    "\n",
    "We'll come back to the other assumptions next term!"
   ]
  },
  {
   "cell_type": "code",
   "execution_count": null,
   "id": "0a6f568f",
   "metadata": {},
   "outputs": [],
   "source": []
  }
 ],
 "metadata": {
  "kernelspec": {
   "display_name": "Python 3 (ipykernel)",
   "language": "python",
   "name": "python3"
  },
  "language_info": {
   "codemirror_mode": {
    "name": "ipython",
    "version": 3
   },
   "file_extension": ".py",
   "mimetype": "text/x-python",
   "name": "python",
   "nbconvert_exporter": "python",
   "pygments_lexer": "ipython3",
   "version": "3.9.13"
  }
 },
 "nbformat": 4,
 "nbformat_minor": 5
}
