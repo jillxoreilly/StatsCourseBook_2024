{
 "cells": [
  {
   "cell_type": "markdown",
   "id": "741220b6",
   "metadata": {},
   "source": [
    "## Set up Python libraries\n",
    "\n",
    "As usual, run the code cell below to import the relevant Python libraries"
   ]
  },
  {
   "cell_type": "code",
   "execution_count": 1,
   "id": "692abf91",
   "metadata": {},
   "outputs": [],
   "source": [
    "# Set-up Python libraries - you need to run this but you don't need to change it\n",
    "import numpy as np\n",
    "import matplotlib.pyplot as plt\n",
    "import scipy.stats as stats\n",
    "import pandas \n",
    "import seaborn as sns"
   ]
  },
  {
   "cell_type": "markdown",
   "id": "0af7ab78",
   "metadata": {},
   "source": [
    "# Non parametric tests\n",
    "\n",
    "This week we are looking at non-parametric equivalents of the t-test.\n",
    "\n",
    "The t-test is valid only when the data within each group (for independent samples t-test) or the pairwise differences (for paired samples t-test) are Normally distributed\n",
    "\n",
    "As we have seen in the lecture, many real life data distributions are normal, but many others are not.\n",
    "\n",
    "For non-Normal data we can use non-parametric tests, which do not assume that the data are drawn from a Normal distribution."
   ]
  },
  {
   "cell_type": "markdown",
   "id": "e5c68fae",
   "metadata": {},
   "source": [
    "# The Mann Whitney U, or Wilcoxon Rank Sum Test\n",
    "\n",
    "This is a test for a difference in median between two independent samples. As such it is often considered to be a non-parametric equivalent for the independent samples t-test.\n",
    "\n",
    "The terms Mann Whitney U and Wilcoxon Rank Sum are used interchangeably in a lot of literature and statistical packages, although technically the Mann Whitney version, which came slightly later, is correct in a greater range of cases. \n",
    "\n",
    "The Python function we will use is called Mann-Whitney but you will see the same test elsewhere called Rank Sum or Wilcoxon Rank Sum."
   ]
  },
  {
   "cell_type": "markdown",
   "id": "7f3225d3",
   "metadata": {},
   "source": [
    "## Example: Mann Whitney or Wilcoxon Rank Sum test\n",
    "\n",
    "A researcher hypothesises that when a person learns a new motor skill, imaginary practice (visualising performing the skill between sessions of actual practice) can enhance learning.\n",
    "\n",
    "She decides to test the hypothesis by training people to juggle. The participants complete 1-hour juggling practice sessions each day until they can juggle for 2 minutes without dropping a ball. Participaants are randomly assigned to one of two groups: The Visualisation Group spend time between sessions visualising juggling, whilst the Standard Group do not.\n",
    "\n",
    "The researcher records the number of sessions taken to reach criterion (2 min juggling without dropping the ball) for each participant.\n",
    "\n",
    "Test the hypothesis that visualisation reduces the number of sessions required to reach criterion."
   ]
  },
  {
   "cell_type": "markdown",
   "id": "5c753473",
   "metadata": {},
   "source": [
    "### Inspect the data\n",
    "\n",
    "The data are provided in a text (.csv) file.\n",
    "\n",
    "Let's load the data as a Pandas dataframe, and plot them to get a sense for their distribution (is it normal?) and any outliers"
   ]
  },
  {
   "cell_type": "code",
   "execution_count": 2,
   "id": "0850fcb0",
   "metadata": {},
   "outputs": [
    {
     "data": {
      "text/html": [
       "<div>\n",
       "<style scoped>\n",
       "    .dataframe tbody tr th:only-of-type {\n",
       "        vertical-align: middle;\n",
       "    }\n",
       "\n",
       "    .dataframe tbody tr th {\n",
       "        vertical-align: top;\n",
       "    }\n",
       "\n",
       "    .dataframe thead th {\n",
       "        text-align: right;\n",
       "    }\n",
       "</style>\n",
       "<table border=\"1\" class=\"dataframe\">\n",
       "  <thead>\n",
       "    <tr style=\"text-align: right;\">\n",
       "      <th></th>\n",
       "      <th>Group</th>\n",
       "      <th>SessionsToCriterion</th>\n",
       "    </tr>\n",
       "  </thead>\n",
       "  <tbody>\n",
       "    <tr>\n",
       "      <th>0</th>\n",
       "      <td>Standard</td>\n",
       "      <td>15</td>\n",
       "    </tr>\n",
       "    <tr>\n",
       "      <th>1</th>\n",
       "      <td>Standard</td>\n",
       "      <td>14</td>\n",
       "    </tr>\n",
       "    <tr>\n",
       "      <th>2</th>\n",
       "      <td>Standard</td>\n",
       "      <td>15</td>\n",
       "    </tr>\n",
       "    <tr>\n",
       "      <th>3</th>\n",
       "      <td>Standard</td>\n",
       "      <td>8</td>\n",
       "    </tr>\n",
       "    <tr>\n",
       "      <th>4</th>\n",
       "      <td>Standard</td>\n",
       "      <td>7</td>\n",
       "    </tr>\n",
       "    <tr>\n",
       "      <th>5</th>\n",
       "      <td>Standard</td>\n",
       "      <td>22</td>\n",
       "    </tr>\n",
       "    <tr>\n",
       "      <th>6</th>\n",
       "      <td>Standard</td>\n",
       "      <td>36</td>\n",
       "    </tr>\n",
       "    <tr>\n",
       "      <th>7</th>\n",
       "      <td>Standard</td>\n",
       "      <td>19</td>\n",
       "    </tr>\n",
       "    <tr>\n",
       "      <th>8</th>\n",
       "      <td>Standard</td>\n",
       "      <td>14</td>\n",
       "    </tr>\n",
       "    <tr>\n",
       "      <th>9</th>\n",
       "      <td>Standard</td>\n",
       "      <td>18</td>\n",
       "    </tr>\n",
       "    <tr>\n",
       "      <th>10</th>\n",
       "      <td>Standard</td>\n",
       "      <td>17</td>\n",
       "    </tr>\n",
       "    <tr>\n",
       "      <th>11</th>\n",
       "      <td>Visualisation</td>\n",
       "      <td>9</td>\n",
       "    </tr>\n",
       "    <tr>\n",
       "      <th>12</th>\n",
       "      <td>Visualisation</td>\n",
       "      <td>4</td>\n",
       "    </tr>\n",
       "    <tr>\n",
       "      <th>13</th>\n",
       "      <td>Visualisation</td>\n",
       "      <td>9</td>\n",
       "    </tr>\n",
       "    <tr>\n",
       "      <th>14</th>\n",
       "      <td>Visualisation</td>\n",
       "      <td>10</td>\n",
       "    </tr>\n",
       "    <tr>\n",
       "      <th>15</th>\n",
       "      <td>Visualisation</td>\n",
       "      <td>6</td>\n",
       "    </tr>\n",
       "    <tr>\n",
       "      <th>16</th>\n",
       "      <td>Visualisation</td>\n",
       "      <td>6</td>\n",
       "    </tr>\n",
       "    <tr>\n",
       "      <th>17</th>\n",
       "      <td>Visualisation</td>\n",
       "      <td>4</td>\n",
       "    </tr>\n",
       "    <tr>\n",
       "      <th>18</th>\n",
       "      <td>Visualisation</td>\n",
       "      <td>5</td>\n",
       "    </tr>\n",
       "    <tr>\n",
       "      <th>19</th>\n",
       "      <td>Visualisation</td>\n",
       "      <td>9</td>\n",
       "    </tr>\n",
       "  </tbody>\n",
       "</table>\n",
       "</div>"
      ],
      "text/plain": [
       "            Group  SessionsToCriterion\n",
       "0        Standard                   15\n",
       "1        Standard                   14\n",
       "2        Standard                   15\n",
       "3        Standard                    8\n",
       "4        Standard                    7\n",
       "5        Standard                   22\n",
       "6        Standard                   36\n",
       "7        Standard                   19\n",
       "8        Standard                   14\n",
       "9        Standard                   18\n",
       "10       Standard                   17\n",
       "11  Visualisation                    9\n",
       "12  Visualisation                    4\n",
       "13  Visualisation                    9\n",
       "14  Visualisation                   10\n",
       "15  Visualisation                    6\n",
       "16  Visualisation                    6\n",
       "17  Visualisation                    4\n",
       "18  Visualisation                    5\n",
       "19  Visualisation                    9"
      ]
     },
     "execution_count": 2,
     "metadata": {},
     "output_type": "execute_result"
    }
   ],
   "source": [
    "# load the data and have a look\n",
    "pandas.read_csv('data/juggling.csv')"
   ]
  },
  {
   "cell_type": "markdown",
   "id": "bdc57a0e",
   "metadata": {},
   "source": [
    "You might notice the strange term NaN in a couple of cells of the table.\n",
    "\n",
    "This stands for \"Not a Number\" and in this case just represents a missing value - there were two fewer people in the visualisation group than the standard training group"
   ]
  },
  {
   "cell_type": "markdown",
   "id": "4299fba0",
   "metadata": {},
   "source": [
    "Let's plot the data and see if they look Normally distributed.\n",
    "\n",
    "As we saw in the session on plotting, a good choice here will be a KDE plot (to get an estimate of the shape of the distribution) and a rug plot (individual data values as the KDE plot is based on only a small sample)"
   ]
  },
  {
   "cell_type": "code",
   "execution_count": 4,
   "id": "167bbddd",
   "metadata": {},
   "outputs": [
    {
     "data": {
      "text/plain": [
       "Text(0, 0.5, 'Density')"
      ]
     },
     "execution_count": 4,
     "metadata": {},
     "output_type": "execute_result"
    },
    {
     "data": {
      "image/png": "[encoded data removed]",
      "text/plain": [
       "<Figure size 432x288 with 1 Axes>"
      ]
     },
     "metadata": {
      "needs_background": "light"
     },
     "output_type": "display_data"
    }
   ],
   "source": [
    "juggling = pandas.read_csv('data/juggling.csv')\n",
    "\n",
    "# make new dataframes for the Standard and Visualisation groups\n",
    "juggling_Std = juggling[juggling['Group']=='Standard']\n",
    "juggling_Vis = juggling[juggling['Group']=='Visualisation']\n",
    "\n",
    "# Plot the KDE (distribution)\n",
    "sns.kdeplot(juggling_Std['SessionsToCriterion'], color='b', shade=True, label='Standard Training')\n",
    "sns.kdeplot(juggling_Vis['SessionsToCriterion'], color='r', shade=True, label='Visualisation Training')\n",
    "\n",
    "# Plot individual data points\n",
    "sns.rugplot(juggling_Std['SessionsToCriterion'], color='b')\n",
    "sns.rugplot(juggling_Vis['SessionsToCriterion'], color='r')\n",
    "\n",
    "# axis labels\n",
    "plt.xlabel(\"sessions to criterion\", fontsize = 12)\n",
    "plt.ylabel(\"Density\", fontsize = 12)"
   ]
  },
  {
   "cell_type": "markdown",
   "id": "36833b5a",
   "metadata": {},
   "source": [
    "The data do not look normal, as some people (especially in the standard group) took much longer to reach criterion (the distribution has positive skew).\n",
    "\n",
    "Even if the data were not grossly non-Normal, it would be hard to be confident of a normal distribution with such a small sample, unless there waas some theoretical reason (for example, relating to the Central Limit Theorem) why the data should be normal. In this case, we might even have expected a positive skew as it is possible for an individual to take maany many more than the median number of sessions to reach criterion, but impossible to take many many fewer sessions (as we cannot take fewer than zero sessions; data values are <i>bounded below</i>).\n",
    "\n",
    "We therefore turn to the Mann Whitney non-parametric test."
   ]
  },
  {
   "cell_type": "markdown",
   "id": "1e37ecea",
   "metadata": {},
   "source": [
    "### Hypotheses\n",
    "\n",
    "Ho: the <b>median</b> number of sessions needed is the same for participants in the Visualisation and Standard Groups\n",
    "\n",
    "Ha: the <b>median</b> number of sessions is lower for participants in the Visualisation Group\n",
    "    \n",
    "This is a one tailed test as the hypothesis is directional (we expect visualisation to help not hinder)\n",
    "\n",
    "We will test at the $\\alpha = 0.05$ significance level\n",
    "\n",
    "<ul>\n",
    "    <li> note we are testing for a difference of mediaans here, not a difference of means as in the t-test\n",
    "</ul>"
   ]
  },
  {
   "cell_type": "markdown",
   "id": "1ee22c55",
   "metadata": {},
   "source": [
    "### Descriptive statistics\n",
    "\n",
    "We obtain the relevant descriptive statistics. For the t-test we reported the summary statistics (mean, s.d. and n) that went into the formula for t. The same approach won't quite work here as the test is not based on summary statistics. However, common sense suggests that reporting the median for each group, a measure of spread, and the sample size woudl give the reader an idea of the data."
   ]
  },
  {
   "cell_type": "code",
   "execution_count": 41,
   "id": "0cc40a26",
   "metadata": {},
   "outputs": [
    {
     "data": {
      "text/html": [
       "<div>\n",
       "<style scoped>\n",
       "    .dataframe tbody tr th:only-of-type {\n",
       "        vertical-align: middle;\n",
       "    }\n",
       "\n",
       "    .dataframe tbody tr th {\n",
       "        vertical-align: top;\n",
       "    }\n",
       "\n",
       "    .dataframe thead tr th {\n",
       "        text-align: left;\n",
       "    }\n",
       "\n",
       "    .dataframe thead tr:last-of-type th {\n",
       "        text-align: right;\n",
       "    }\n",
       "</style>\n",
       "<table border=\"1\" class=\"dataframe\">\n",
       "  <thead>\n",
       "    <tr>\n",
       "      <th></th>\n",
       "      <th colspan=\"8\" halign=\"left\">SessionsToCriterion</th>\n",
       "    </tr>\n",
       "    <tr>\n",
       "      <th></th>\n",
       "      <th>count</th>\n",
       "      <th>mean</th>\n",
       "      <th>std</th>\n",
       "      <th>min</th>\n",
       "      <th>25%</th>\n",
       "      <th>50%</th>\n",
       "      <th>75%</th>\n",
       "      <th>max</th>\n",
       "    </tr>\n",
       "    <tr>\n",
       "      <th>Group</th>\n",
       "      <th></th>\n",
       "      <th></th>\n",
       "      <th></th>\n",
       "      <th></th>\n",
       "      <th></th>\n",
       "      <th></th>\n",
       "      <th></th>\n",
       "      <th></th>\n",
       "    </tr>\n",
       "  </thead>\n",
       "  <tbody>\n",
       "    <tr>\n",
       "      <th>Standard</th>\n",
       "      <td>11.0</td>\n",
       "      <td>16.818182</td>\n",
       "      <td>7.730694</td>\n",
       "      <td>7.0</td>\n",
       "      <td>14.0</td>\n",
       "      <td>15.0</td>\n",
       "      <td>18.5</td>\n",
       "      <td>36.0</td>\n",
       "    </tr>\n",
       "    <tr>\n",
       "      <th>Visualisation</th>\n",
       "      <td>9.0</td>\n",
       "      <td>6.888889</td>\n",
       "      <td>2.368778</td>\n",
       "      <td>4.0</td>\n",
       "      <td>5.0</td>\n",
       "      <td>6.0</td>\n",
       "      <td>9.0</td>\n",
       "      <td>10.0</td>\n",
       "    </tr>\n",
       "  </tbody>\n",
       "</table>\n",
       "</div>"
      ],
      "text/plain": [
       "              SessionsToCriterion                                              \\\n",
       "                            count       mean       std  min   25%   50%   75%   \n",
       "Group                                                                           \n",
       "Standard                     11.0  16.818182  7.730694  7.0  14.0  15.0  18.5   \n",
       "Visualisation                 9.0   6.888889  2.368778  4.0   5.0   6.0   9.0   \n",
       "\n",
       "                     \n",
       "                max  \n",
       "Group                \n",
       "Standard       36.0  \n",
       "Visualisation  10.0  "
      ]
     },
     "execution_count": 41,
     "metadata": {},
     "output_type": "execute_result"
    }
   ],
   "source": [
    "juggling.groupby(['Group']).describe()"
   ]
  },
  {
   "cell_type": "markdown",
   "id": "fa7af9da",
   "metadata": {},
   "source": [
    "The median number of sessions to criterion is lower in the Visualisation Group (median=6, q1=5, q3=9, n=9) than the Standaard Group (median=15, q1=14, q3=18.5, n=11) "
   ]
  },
  {
   "cell_type": "markdown",
   "id": "92ca91e7",
   "metadata": {},
   "source": [
    "### Carry out the test\n",
    "\n",
    "We carry out the test using the function <tt>mannwhitneyu</tt> from <tt>scipy.stats</tt>, here loaded as <tt>stats</tt>"
   ]
  },
  {
   "cell_type": "code",
   "execution_count": 88,
   "id": "38d7ef0d",
   "metadata": {},
   "outputs": [
    {
     "data": {
      "text/plain": [
       "MannwhitneyuResult(statistic=79.0, pvalue=0.013556255215161453)"
      ]
     },
     "execution_count": 88,
     "metadata": {},
     "output_type": "execute_result"
    }
   ],
   "source": [
    "stats.mannwhitneyu(juggling.loc[(juggling['Group']=='Standard'),'SessionsToCriterion'], \n",
    "                   juggling.loc[(juggling['Group']=='Visualisation'),'SessionsToCriterion'],\n",
    "                   alternative='greater')"
   ]
  },
  {
   "cell_type": "markdown",
   "id": "d6dd724b",
   "metadata": {},
   "source": [
    "The inputs to stats.mannwhitneyu are:\n",
    "<ul>\n",
    "    <li >the two samples to be compared (the values of <tt>SessionsToCriterion</tt> from our Pandas data frame <tt>juggling</tt>), grouped by the value in the column <tt>Group</tt>)\n",
    "<li>the argument <tt>alternative='greater'</tt>, which tells the computer to run a one tailed test \n",
    "that mean of the first input (Standard Group) is greater than the second (Visualisation Group).\n",
    "</ul>\n",
    "    \n",
    "The outputs are a value of the test statistic ($U=91$) and <tt>pvalue</tt> ($p=0.00089$) - if this is less than our $\\alpha$ value 0.5, there is a significant difference.\n",
    "\n",
    "More explanation of how U is calculated below."
   ]
  },
  {
   "cell_type": "markdown",
   "id": "1f515967",
   "metadata": {},
   "source": [
    "### Draw conclusions\n",
    "\n",
    "As the p value of 0.00089 is less than our alpha value of 0.05, the test is significant. \n",
    "\n",
    "We can conclude that the median number of sessions to criterion is indeed greater in the Standard training group"
   ]
  },
  {
   "cell_type": "markdown",
   "id": "962de5c0",
   "metadata": {},
   "source": [
    "## How the Mann Whiney U or Wilcoxon Rank Sum test works\n",
    "\n",
    "You have seen how to carry out the Mann Whitney test using <tt>scipy.stats</tt> but you may be none the wiser about how the computer arrived at the test statistic and p value.\n",
    "\n",
    "In this section we will build our own version of the test step by step to understand how it worked."
   ]
  },
  {
   "cell_type": "markdown",
   "id": "ae0addc5",
   "metadata": {},
   "source": [
    "### Step 1: Convert the data to ranks\n",
    "\n",
    "As seen in the lecture, the key step in the Mann Whitney test is to replace the data with their ranks. \n",
    "\n",
    "We will then obtain a summary statistics U (closely related to R in the rank sum test) which roughly tells us what proportion of the high ranks fall into one experimental group.\n",
    "\n",
    "The null distribution of U (or R) is the same for any samples of given size (in this case our samples are $n_1=11$ and $n_2=9$ - the null distribubtion of U would be the same for <i>any data</i> with these sample sizes\n",
    "\n",
    "Note also that data ranks are less affected by outliers than the data values themselves: whether the lowest data value is a million units lower than the second-lowest data value, or only one unit lower, they will still take ranks 1 and 2.\n",
    "\n",
    "We can rank the data using the <tt>rank</tt> method in <tt>pandas</tt>"
   ]
  },
  {
   "cell_type": "code",
   "execution_count": 98,
   "id": "4a0f9a4a",
   "metadata": {},
   "outputs": [
    {
     "data": {
      "text/plain": [
       "0     14.5\n",
       "1     12.5\n",
       "2     14.5\n",
       "3      7.0\n",
       "4      6.0\n",
       "5     19.0\n",
       "6     20.0\n",
       "7     18.0\n",
       "8     12.5\n",
       "9     17.0\n",
       "10    16.0\n",
       "11     9.0\n",
       "12     1.5\n",
       "13     9.0\n",
       "14    11.0\n",
       "15     4.5\n",
       "16     4.5\n",
       "17     1.5\n",
       "18     3.0\n",
       "19     9.0\n",
       "Name: SessionsToCriterion, dtype: float64"
      ]
     },
     "execution_count": 98,
     "metadata": {},
     "output_type": "execute_result"
    }
   ],
   "source": [
    "juggling['SessionsToCriterion'].rank()"
   ]
  },
  {
   "cell_type": "markdown",
   "id": "011f75c9",
   "metadata": {},
   "source": [
    "Let's make that more user friendly by saving it as an additional column in out dataframe"
   ]
  },
  {
   "cell_type": "code",
   "execution_count": 100,
   "id": "8afe2355",
   "metadata": {},
   "outputs": [
    {
     "data": {
      "text/html": [
       "<div>\n",
       "<style scoped>\n",
       "    .dataframe tbody tr th:only-of-type {\n",
       "        vertical-align: middle;\n",
       "    }\n",
       "\n",
       "    .dataframe tbody tr th {\n",
       "        vertical-align: top;\n",
       "    }\n",
       "\n",
       "    .dataframe thead th {\n",
       "        text-align: right;\n",
       "    }\n",
       "</style>\n",
       "<table border=\"1\" class=\"dataframe\">\n",
       "  <thead>\n",
       "    <tr style=\"text-align: right;\">\n",
       "      <th></th>\n",
       "      <th>Group</th>\n",
       "      <th>SessionsToCriterion</th>\n",
       "      <th>Rank</th>\n",
       "    </tr>\n",
       "  </thead>\n",
       "  <tbody>\n",
       "    <tr>\n",
       "      <th>0</th>\n",
       "      <td>Standard</td>\n",
       "      <td>15</td>\n",
       "      <td>14.5</td>\n",
       "    </tr>\n",
       "    <tr>\n",
       "      <th>1</th>\n",
       "      <td>Standard</td>\n",
       "      <td>14</td>\n",
       "      <td>12.5</td>\n",
       "    </tr>\n",
       "    <tr>\n",
       "      <th>2</th>\n",
       "      <td>Standard</td>\n",
       "      <td>15</td>\n",
       "      <td>14.5</td>\n",
       "    </tr>\n",
       "    <tr>\n",
       "      <th>3</th>\n",
       "      <td>Standard</td>\n",
       "      <td>8</td>\n",
       "      <td>7.0</td>\n",
       "    </tr>\n",
       "    <tr>\n",
       "      <th>4</th>\n",
       "      <td>Standard</td>\n",
       "      <td>7</td>\n",
       "      <td>6.0</td>\n",
       "    </tr>\n",
       "    <tr>\n",
       "      <th>5</th>\n",
       "      <td>Standard</td>\n",
       "      <td>22</td>\n",
       "      <td>19.0</td>\n",
       "    </tr>\n",
       "    <tr>\n",
       "      <th>6</th>\n",
       "      <td>Standard</td>\n",
       "      <td>36</td>\n",
       "      <td>20.0</td>\n",
       "    </tr>\n",
       "    <tr>\n",
       "      <th>7</th>\n",
       "      <td>Standard</td>\n",
       "      <td>19</td>\n",
       "      <td>18.0</td>\n",
       "    </tr>\n",
       "    <tr>\n",
       "      <th>8</th>\n",
       "      <td>Standard</td>\n",
       "      <td>14</td>\n",
       "      <td>12.5</td>\n",
       "    </tr>\n",
       "    <tr>\n",
       "      <th>9</th>\n",
       "      <td>Standard</td>\n",
       "      <td>18</td>\n",
       "      <td>17.0</td>\n",
       "    </tr>\n",
       "    <tr>\n",
       "      <th>10</th>\n",
       "      <td>Standard</td>\n",
       "      <td>17</td>\n",
       "      <td>16.0</td>\n",
       "    </tr>\n",
       "    <tr>\n",
       "      <th>11</th>\n",
       "      <td>Visualisation</td>\n",
       "      <td>9</td>\n",
       "      <td>9.0</td>\n",
       "    </tr>\n",
       "    <tr>\n",
       "      <th>12</th>\n",
       "      <td>Visualisation</td>\n",
       "      <td>4</td>\n",
       "      <td>1.5</td>\n",
       "    </tr>\n",
       "    <tr>\n",
       "      <th>13</th>\n",
       "      <td>Visualisation</td>\n",
       "      <td>9</td>\n",
       "      <td>9.0</td>\n",
       "    </tr>\n",
       "    <tr>\n",
       "      <th>14</th>\n",
       "      <td>Visualisation</td>\n",
       "      <td>10</td>\n",
       "      <td>11.0</td>\n",
       "    </tr>\n",
       "    <tr>\n",
       "      <th>15</th>\n",
       "      <td>Visualisation</td>\n",
       "      <td>6</td>\n",
       "      <td>4.5</td>\n",
       "    </tr>\n",
       "    <tr>\n",
       "      <th>16</th>\n",
       "      <td>Visualisation</td>\n",
       "      <td>6</td>\n",
       "      <td>4.5</td>\n",
       "    </tr>\n",
       "    <tr>\n",
       "      <th>17</th>\n",
       "      <td>Visualisation</td>\n",
       "      <td>4</td>\n",
       "      <td>1.5</td>\n",
       "    </tr>\n",
       "    <tr>\n",
       "      <th>18</th>\n",
       "      <td>Visualisation</td>\n",
       "      <td>5</td>\n",
       "      <td>3.0</td>\n",
       "    </tr>\n",
       "    <tr>\n",
       "      <th>19</th>\n",
       "      <td>Visualisation</td>\n",
       "      <td>9</td>\n",
       "      <td>9.0</td>\n",
       "    </tr>\n",
       "  </tbody>\n",
       "</table>\n",
       "</div>"
      ],
      "text/plain": [
       "            Group  SessionsToCriterion  Rank\n",
       "0        Standard                   15  14.5\n",
       "1        Standard                   14  12.5\n",
       "2        Standard                   15  14.5\n",
       "3        Standard                    8   7.0\n",
       "4        Standard                    7   6.0\n",
       "5        Standard                   22  19.0\n",
       "6        Standard                   36  20.0\n",
       "7        Standard                   19  18.0\n",
       "8        Standard                   14  12.5\n",
       "9        Standard                   18  17.0\n",
       "10       Standard                   17  16.0\n",
       "11  Visualisation                    9   9.0\n",
       "12  Visualisation                    4   1.5\n",
       "13  Visualisation                    9   9.0\n",
       "14  Visualisation                   10  11.0\n",
       "15  Visualisation                    6   4.5\n",
       "16  Visualisation                    6   4.5\n",
       "17  Visualisation                    4   1.5\n",
       "18  Visualisation                    5   3.0\n",
       "19  Visualisation                    9   9.0"
      ]
     },
     "execution_count": 100,
     "metadata": {},
     "output_type": "execute_result"
    }
   ],
   "source": [
    "juggling['Rank'] = juggling['SessionsToCriterion'].rank()\n",
    "juggling"
   ]
  },
  {
   "cell_type": "markdown",
   "id": "9f914c22",
   "metadata": {},
   "source": [
    "It might be even clearer if we display the dataframe sorted by rank"
   ]
  },
  {
   "cell_type": "code",
   "execution_count": 96,
   "id": "48326494",
   "metadata": {},
   "outputs": [
    {
     "data": {
      "text/html": [
       "<div>\n",
       "<style scoped>\n",
       "    .dataframe tbody tr th:only-of-type {\n",
       "        vertical-align: middle;\n",
       "    }\n",
       "\n",
       "    .dataframe tbody tr th {\n",
       "        vertical-align: top;\n",
       "    }\n",
       "\n",
       "    .dataframe thead th {\n",
       "        text-align: right;\n",
       "    }\n",
       "</style>\n",
       "<table border=\"1\" class=\"dataframe\">\n",
       "  <thead>\n",
       "    <tr style=\"text-align: right;\">\n",
       "      <th></th>\n",
       "      <th>Group</th>\n",
       "      <th>SessionsToCriterion</th>\n",
       "      <th>Rank</th>\n",
       "    </tr>\n",
       "  </thead>\n",
       "  <tbody>\n",
       "    <tr>\n",
       "      <th>17</th>\n",
       "      <td>Visualisation</td>\n",
       "      <td>4</td>\n",
       "      <td>1.5</td>\n",
       "    </tr>\n",
       "    <tr>\n",
       "      <th>12</th>\n",
       "      <td>Visualisation</td>\n",
       "      <td>4</td>\n",
       "      <td>1.5</td>\n",
       "    </tr>\n",
       "    <tr>\n",
       "      <th>18</th>\n",
       "      <td>Visualisation</td>\n",
       "      <td>5</td>\n",
       "      <td>3.0</td>\n",
       "    </tr>\n",
       "    <tr>\n",
       "      <th>16</th>\n",
       "      <td>Visualisation</td>\n",
       "      <td>6</td>\n",
       "      <td>4.5</td>\n",
       "    </tr>\n",
       "    <tr>\n",
       "      <th>15</th>\n",
       "      <td>Visualisation</td>\n",
       "      <td>6</td>\n",
       "      <td>4.5</td>\n",
       "    </tr>\n",
       "    <tr>\n",
       "      <th>4</th>\n",
       "      <td>Standard</td>\n",
       "      <td>7</td>\n",
       "      <td>6.0</td>\n",
       "    </tr>\n",
       "    <tr>\n",
       "      <th>3</th>\n",
       "      <td>Standard</td>\n",
       "      <td>8</td>\n",
       "      <td>7.0</td>\n",
       "    </tr>\n",
       "    <tr>\n",
       "      <th>19</th>\n",
       "      <td>Visualisation</td>\n",
       "      <td>9</td>\n",
       "      <td>9.0</td>\n",
       "    </tr>\n",
       "    <tr>\n",
       "      <th>13</th>\n",
       "      <td>Visualisation</td>\n",
       "      <td>9</td>\n",
       "      <td>9.0</td>\n",
       "    </tr>\n",
       "    <tr>\n",
       "      <th>11</th>\n",
       "      <td>Visualisation</td>\n",
       "      <td>9</td>\n",
       "      <td>9.0</td>\n",
       "    </tr>\n",
       "    <tr>\n",
       "      <th>14</th>\n",
       "      <td>Visualisation</td>\n",
       "      <td>10</td>\n",
       "      <td>11.0</td>\n",
       "    </tr>\n",
       "    <tr>\n",
       "      <th>1</th>\n",
       "      <td>Standard</td>\n",
       "      <td>14</td>\n",
       "      <td>12.5</td>\n",
       "    </tr>\n",
       "    <tr>\n",
       "      <th>8</th>\n",
       "      <td>Standard</td>\n",
       "      <td>14</td>\n",
       "      <td>12.5</td>\n",
       "    </tr>\n",
       "    <tr>\n",
       "      <th>0</th>\n",
       "      <td>Standard</td>\n",
       "      <td>15</td>\n",
       "      <td>14.5</td>\n",
       "    </tr>\n",
       "    <tr>\n",
       "      <th>2</th>\n",
       "      <td>Standard</td>\n",
       "      <td>15</td>\n",
       "      <td>14.5</td>\n",
       "    </tr>\n",
       "    <tr>\n",
       "      <th>10</th>\n",
       "      <td>Visualisation</td>\n",
       "      <td>17</td>\n",
       "      <td>16.0</td>\n",
       "    </tr>\n",
       "    <tr>\n",
       "      <th>9</th>\n",
       "      <td>Visualisation</td>\n",
       "      <td>18</td>\n",
       "      <td>17.0</td>\n",
       "    </tr>\n",
       "    <tr>\n",
       "      <th>7</th>\n",
       "      <td>Standard</td>\n",
       "      <td>19</td>\n",
       "      <td>18.0</td>\n",
       "    </tr>\n",
       "    <tr>\n",
       "      <th>5</th>\n",
       "      <td>Standard</td>\n",
       "      <td>22</td>\n",
       "      <td>19.0</td>\n",
       "    </tr>\n",
       "    <tr>\n",
       "      <th>6</th>\n",
       "      <td>Standard</td>\n",
       "      <td>36</td>\n",
       "      <td>20.0</td>\n",
       "    </tr>\n",
       "  </tbody>\n",
       "</table>\n",
       "</div>"
      ],
      "text/plain": [
       "            Group  SessionsToCriterion  Rank\n",
       "17  Visualisation                    4   1.5\n",
       "12  Visualisation                    4   1.5\n",
       "18  Visualisation                    5   3.0\n",
       "16  Visualisation                    6   4.5\n",
       "15  Visualisation                    6   4.5\n",
       "4        Standard                    7   6.0\n",
       "3        Standard                    8   7.0\n",
       "19  Visualisation                    9   9.0\n",
       "13  Visualisation                    9   9.0\n",
       "11  Visualisation                    9   9.0\n",
       "14  Visualisation                   10  11.0\n",
       "1        Standard                   14  12.5\n",
       "8        Standard                   14  12.5\n",
       "0        Standard                   15  14.5\n",
       "2        Standard                   15  14.5\n",
       "10  Visualisation                   17  16.0\n",
       "9   Visualisation                   18  17.0\n",
       "7        Standard                   19  18.0\n",
       "5        Standard                   22  19.0\n",
       "6        Standard                   36  20.0"
      ]
     },
     "execution_count": 96,
     "metadata": {},
     "output_type": "execute_result"
    }
   ],
   "source": [
    "juggling.sort_values('Rank')"
   ]
  },
  {
   "cell_type": "markdown",
   "id": "86d0eadb",
   "metadata": {},
   "source": [
    "Note the following:\n",
    "<ul>\n",
    "<li> The lowest value has rank 1\n",
    "<li> The highest value has rank $n_1 + n_2$, ie the total number of data points across both groups together\n",
    "<li> Tied values are given the average of the ranks they would have got (ranks 1 and 2 are tied so both get 1.5)\n",
    "<li> Many of the higher ranked values are in the Standard group, hinting that most of the slowest participants to reach criterion were in the Standard Group\n",
    "<li> Many of the lower ranked values are in the Visualisation group, hinting that most of the fastest participants to reach criterion were in the Visualisation Group"
   ]
  },
  {
   "cell_type": "markdown",
   "id": "b6694d2a",
   "metadata": {},
   "source": [
    "### Calculate the test statistic\n",
    "\n",
    "The test statistic is the larger of $U_1$ and $U_2$, given by \n",
    "\n",
    "$$ U_1 = R_1 - \\frac{n_1(n_1+1)}{2}$$\n",
    "\n",
    "Where $R_1$ is the sum of all the ranks in group 1, and $n_1$ is the size of group 1\n",
    "\n",
    "and\n",
    "\n",
    "$$ U_2 = R_2 - \\frac{n_2(n_2+1)}{2}$$\n",
    "\n",
    "We can work it out in Python:"
   ]
  },
  {
   "cell_type": "code",
   "execution_count": 101,
   "id": "c70edaf5",
   "metadata": {},
   "outputs": [
    {
     "name": "stdout",
     "output_type": "stream",
     "text": [
      "U1 = 91.0\n"
     ]
    }
   ],
   "source": [
    "# Sum of ranks for group 1 - find the rows where group is 'Standard', select column 'Rank', and sum() the values \n",
    "R1 = juggling.loc[(juggling['Group']=='Standard'),'Rank'].sum()\n",
    "# Get n for group 1 - find the rows where group is 'Standard', select column 'Rank', and count() the values \n",
    "n1 = juggling.loc[(juggling['Group']=='Standard'),'Rank'].count()\n",
    "\n",
    "# calculate U from the formula\n",
    "U1 = R1 - (n1*(n1+1))/2\n",
    "print('U1 = ' + str(U1))"
   ]
  },
  {
   "cell_type": "code",
   "execution_count": 93,
   "id": "79b14cfb",
   "metadata": {},
   "outputs": [
    {
     "name": "stdout",
     "output_type": "stream",
     "text": [
      "U2 = 20.0\n"
     ]
    }
   ],
   "source": [
    "# Sum of ranks for group 1 - find the rows where group is 'Standard', select column 'Rank', and sum() the values \n",
    "R2 = juggling.loc[(juggling['Group']=='Visualisation'),'Rank'].sum()\n",
    "# Get n for group 1 - find the rows where group is 'Standard', select column 'Rank', and count() the values \n",
    "n2 = juggling.loc[(juggling['Group']=='Visualisation'),'Rank'].count()\n",
    "\n",
    "# calculate U from the formula\n",
    "U2 = R2 - (n2*(n2+1))/2\n",
    "print('U2 = ' + str(U2))"
   ]
  },
  {
   "cell_type": "markdown",
   "id": "b5e8c882",
   "metadata": {},
   "source": [
    "The larger of $U_1$ and $U_2$ becomes the test statistic, so $U=91$\n",
    "\n",
    "<ul>\n",
    "    <li> Go back and check if this matches what we got from <tt>scipy.stats.mannwhitneyu</tt> - it should!\n",
    "</ul>\n",
    "\n",
    "(some stats packages define $U$ as the smaller of $U_1$ and $U_2$, confusingly - either could be used but the null distribtion for the larger and smaller U will obviously be different)"
   ]
  },
  {
   "cell_type": "markdown",
   "id": "070fc761",
   "metadata": {},
   "source": [
    "### Establish the null distriubtion\n",
    "\n",
    "To convert our $U$ to a $p$-value, we need to know how the probability of obtaining that value of $U$ due to chance if the null hypothesis were true.\n",
    "\n",
    "More precisely:\n",
    "\n",
    "<ul> \n",
    "    <li> If the value we have chosen as $U$ is associated with the sample we expect to have higher ranks, we need to know the probability of getting a $U$ value this large or larger, if the null were true\n",
    "    <li> Conversely if the value we have chosen as $U$ is associated with the sample we expect to have lower ranks, we need to know the probabbility of getting a $U$ value this small or smaller, if the null were true\n",
    "</ul>\n",
    "\n",
    "In the current example, $U$ ended up being the $U$ value for the Standard training regime, which we expected to have more of the higher ranks (more of the people who needed longer to reach the criterion for fluent juggling).\n",
    "\n",
    "So we are looking for the probability of obtaining $U>=91$ if the null were true.\n",
    "\n",
    "### What do we mean by \"If the null were true\"?\n",
    "\n",
    "If the null were true, participants should on average need the same number of sessions to reach the criterion of 2 min juggling, regardless of whether they were in the Visualisation condition or the Standard Condition. It could still happen that the Standard Group got a lot of high ranks (and hence a high value of $U$) by chance, but as we get to higher values of $U$, that becomes less and less likely.\n",
    "\n",
    "So if the null were true, high and low ranks would occur randomly in the Standard and Visualisation groups. So the possible ranks (in this case, the numbers 1-20 as $n_1 + N_2 = 20$) could be deal out randomly into the two groups.\n",
    "\n",
    "\n",
    "### Estalbishing the null by complete enumeration\n",
    "\n",
    "For a much smaller sample size, we could work out all the possible ways the ranks could be randomly dealt into the Standard and Visualisation groups, calculate $U$ for each case, and work out in what proportion of cases this <i>simulated</i> $U$ was as large as, or larger than, the value of $U$ from our experiment.\n",
    "\n",
    "This is not practical for larger samples as there are too many possible ways to deal the ranks (too many <i>combbinations</i>). In the example above where $n_1 = 9$ and $n_2 = 11$, the number of possible deals or combinations is 167960 - for larger $n$ the number of combinations becomes astronomical.\n",
    "\n",
    "### Establishing the null by simulation\n",
    "\n",
    "We can work out the null approximately by doing a lot of random 'deals' of the ranks to the Standard and Visualisation groups, calculating $U$ for each case, and work out in what proportion of cases this <i>simulated</i> $U$ was as large as, or larger than, the value of $U$ from our experiment.\n",
    "\n",
    "\"A lot\" might be 10,000 or more (this is still much lower than the number of possible deals under complete enumeration)\n",
    "\n",
    "Let's try it!"
   ]
  },
  {
   "cell_type": "code",
   "execution_count": 105,
   "id": "b4d0a109",
   "metadata": {},
   "outputs": [
    {
     "data": {
      "text/plain": [
       "array([ 1,  2,  3,  4,  5,  6,  7,  8,  9, 10, 11, 12, 13, 14, 15, 16, 17,\n",
       "       18, 19, 20])"
      ]
     },
     "execution_count": 105,
     "metadata": {},
     "output_type": "execute_result"
    }
   ],
   "source": [
    "# Possible ranks are the numbers 1 to 20 (remember Python uses the counterintuitive syntax [1,21))\n",
    "ranks = np.arange(1,21)\n",
    "ranks"
   ]
  },
  {
   "cell_type": "code",
   "execution_count": 108,
   "id": "8008829f",
   "metadata": {},
   "outputs": [
    {
     "data": {
      "text/plain": [
       "array([17,  6, 13,  1, 16,  9,  5, 12, 11, 10, 18,  3,  2,  8, 20, 15,  7,\n",
       "        4, 19, 14])"
      ]
     },
     "execution_count": 108,
     "metadata": {},
     "output_type": "execute_result"
    }
   ],
   "source": [
    "# Shuffle them!\n",
    "np.random.shuffle(ranks)\n",
    "ranks"
   ]
  },
  {
   "cell_type": "code",
   "execution_count": 114,
   "id": "c77e7d50",
   "metadata": {},
   "outputs": [
    {
     "data": {
      "text/plain": [
       "118"
      ]
     },
     "execution_count": 114,
     "metadata": {},
     "output_type": "execute_result"
    }
   ],
   "source": [
    "# R1 is the sum of the first 11 ranks\n",
    "R1 = ranks[0:11].sum()\n",
    "R1"
   ]
  },
  {
   "cell_type": "code",
   "execution_count": 115,
   "id": "2251f909",
   "metadata": {},
   "outputs": [
    {
     "data": {
      "text/plain": [
       "52.0"
      ]
     },
     "execution_count": 115,
     "metadata": {},
     "output_type": "execute_result"
    }
   ],
   "source": [
    "# Calculate U1\n",
    "n1 = 11\n",
    "U1 = R1 - (n1*(n1+1))/2\n",
    "U1"
   ]
  },
  {
   "cell_type": "code",
   "execution_count": 116,
   "id": "de979c57",
   "metadata": {},
   "outputs": [
    {
     "data": {
      "text/plain": [
       "92"
      ]
     },
     "execution_count": 116,
     "metadata": {},
     "output_type": "execute_result"
    }
   ],
   "source": [
    "# R2 is the sum of the rest of the ranks\n",
    "R2 = ranks[11:].sum()\n",
    "R2"
   ]
  },
  {
   "cell_type": "code",
   "execution_count": 117,
   "id": "c055f7f3",
   "metadata": {},
   "outputs": [
    {
     "data": {
      "text/plain": [
       "47.0"
      ]
     },
     "execution_count": 117,
     "metadata": {},
     "output_type": "execute_result"
    }
   ],
   "source": [
    "# Calculate U2\n",
    "n2 = 9\n",
    "U2 = R2 - (n2*(n2+1))/2\n",
    "U2"
   ]
  },
  {
   "cell_type": "code",
   "execution_count": 121,
   "id": "fb00c5fb",
   "metadata": {},
   "outputs": [
    {
     "data": {
      "text/plain": [
       "52.0"
      ]
     },
     "execution_count": 121,
     "metadata": {},
     "output_type": "execute_result"
    }
   ],
   "source": [
    "# U is the larger of U1 and U2\n",
    "U = max(U1, U2)\n",
    "U"
   ]
  },
  {
   "cell_type": "markdown",
   "id": "c1ce2c48",
   "metadata": {},
   "source": [
    "Phew! That was on random 'deal' or shuffle, resulting in a $U$ value of 52.\n",
    "\n",
    "Now we need to make a loop to do that 10,000 times!"
   ]
  },
  {
   "cell_type": "code",
   "execution_count": 159,
   "id": "af60ce6a",
   "metadata": {},
   "outputs": [],
   "source": [
    "n1 = 11\n",
    "n2 = 9\n",
    "n = n1+n2\n",
    "ranks = np.arange(1,(n+1))\n",
    "maxR = ranks[min(n1,n2):].sum()\n",
    "maxU = maxR - (max(n1,n2)*(max(n1,n2)+1))/2\n",
    "maxU = int(maxU)\n",
    "\n",
    "nReps = 10000\n",
    "simulated_U = np.empty(nReps)\n",
    "\n",
    "for i in range(nReps):\n",
    "    np.random.shuffle(ranks)\n",
    "    \n",
    "    R1 = ranks[0:n1].sum()\n",
    "    U1 = R1 - (n1*(n1+1))/2\n",
    "   \n",
    "    R2 = ranks[0:n2].sum()\n",
    "    U2 = R2 - (n2*(n2+1))/2\n",
    "    \n",
    "    U = max(U1, U2)\n",
    "    simulated_U[i] = U\n",
    "\n",
    "freq = np.empty(maxU+1)\n",
    "\n",
    "for j in np.arange(maxU):\n",
    "    freq[j] = np.count_nonzero(simulated_U == j)"
   ]
  },
  {
   "cell_type": "code",
   "execution_count": 163,
   "id": "a7f8261f",
   "metadata": {},
   "outputs": [
    {
     "data": {
      "image/png": "[encoded data removed]",
      "text/plain": [
       "<Figure size 432x288 with 1 Axes>"
      ]
     },
     "metadata": {
      "needs_background": "light"
     },
     "output_type": "display_data"
    }
   ],
   "source": []
  },
  {
   "cell_type": "code",
   "execution_count": null,
   "id": "1234c390",
   "metadata": {},
   "outputs": [],
   "source": []
  }
 ],
 "metadata": {
  "kernelspec": {
   "display_name": "Python 3 (ipykernel)",
   "language": "python",
   "name": "python3"
  },
  "language_info": {
   "codemirror_mode": {
    "name": "ipython",
    "version": 3
   },
   "file_extension": ".py",
   "mimetype": "text/x-python",
   "name": "python",
   "nbconvert_exporter": "python",
   "pygments_lexer": "ipython3",
   "version": "3.9.7"
  }
 },
 "nbformat": 4,
 "nbformat_minor": 5
}
