{
 "cells": [
  {
   "cell_type": "markdown",
   "id": "d9661bca",
   "metadata": {},
   "source": [
    "# Movie data\n",
    "\n",
    "The file 'MovieProfits.csv' contains data on 609 movies from the years 2008-2012, from the website rottentomatoes.com\n",
    "\n",
    "\n",
    "For each Movie we have some information including: \n",
    "<ul>\n",
    "    <li> The gross box office turnover (US Gross) in millions of dollars\n",
    "    <li> The budget for making the movie, in millions of dollars\n",
    "    <li> The duration or run time of the movie\n",
    "    <li> The critics' score out of 100%\n",
    "</ul>\n",
    "\n",
    "You will complete a series of data analysis tasks as instructed in the questions below.\n",
    "\n",
    "You will receive an overall grade from your tutor.\n",
    "\n",
    "Each question-part carries roughly equal weight.\n",
    "\n",
    "        \n",
    "### Set up Python libraries\n",
    "\n",
    "As usual, run the code cell below to import the relevant Python libraries"
   ]
  },
  {
   "cell_type": "code",
   "execution_count": 1,
   "id": "488d6a42",
   "metadata": {},
   "outputs": [],
   "source": [
    "# Set-up Python libraries - you need to run this but you don't need to change it\n",
    "import numpy as np\n",
    "import matplotlib.pyplot as plt\n",
    "import scipy.stats as stats\n",
    "import pandas \n",
    "import seaborn as sns\n",
    "sns.set_theme()\n",
    "sns.set_style('whitegrid')"
   ]
  },
  {
   "cell_type": "markdown",
   "id": "096c1f5f",
   "metadata": {},
   "source": [
    "### Import and view the data"
   ]
  },
  {
   "cell_type": "code",
   "execution_count": 2,
   "id": "3653a722",
   "metadata": {},
   "outputs": [
    {
     "data": {
      "text/html": [
       "<div>\n",
       "<style scoped>\n",
       "    .dataframe tbody tr th:only-of-type {\n",
       "        vertical-align: middle;\n",
       "    }\n",
       "\n",
       "    .dataframe tbody tr th {\n",
       "        vertical-align: top;\n",
       "    }\n",
       "\n",
       "    .dataframe thead th {\n",
       "        text-align: right;\n",
       "    }\n",
       "</style>\n",
       "<table border=\"1\" class=\"dataframe\">\n",
       "  <thead>\n",
       "    <tr style=\"text-align: right;\">\n",
       "      <th></th>\n",
       "      <th>Year</th>\n",
       "      <th>Movie</th>\n",
       "      <th>US Gross ($M)</th>\n",
       "      <th>Budget ($M)</th>\n",
       "      <th>Run Time (min)</th>\n",
       "      <th>Critic Score (Rotten Tomatoes)</th>\n",
       "    </tr>\n",
       "  </thead>\n",
       "  <tbody>\n",
       "    <tr>\n",
       "      <th>0</th>\n",
       "      <td>2012</td>\n",
       "      <td>Django Unchained</td>\n",
       "      <td>162.805434</td>\n",
       "      <td>100.0</td>\n",
       "      <td>165</td>\n",
       "      <td>88</td>\n",
       "    </tr>\n",
       "    <tr>\n",
       "      <th>1</th>\n",
       "      <td>2012</td>\n",
       "      <td>Parental Guidance</td>\n",
       "      <td>77.264926</td>\n",
       "      <td>25.0</td>\n",
       "      <td>105</td>\n",
       "      <td>18</td>\n",
       "    </tr>\n",
       "    <tr>\n",
       "      <th>2</th>\n",
       "      <td>2012</td>\n",
       "      <td>The Impossible</td>\n",
       "      <td>19.019882</td>\n",
       "      <td>40.0</td>\n",
       "      <td>114</td>\n",
       "      <td>81</td>\n",
       "    </tr>\n",
       "    <tr>\n",
       "      <th>3</th>\n",
       "      <td>2012</td>\n",
       "      <td>Jack Reacher</td>\n",
       "      <td>80.070736</td>\n",
       "      <td>60.0</td>\n",
       "      <td>130</td>\n",
       "      <td>61</td>\n",
       "    </tr>\n",
       "    <tr>\n",
       "      <th>4</th>\n",
       "      <td>2012</td>\n",
       "      <td>This is 40</td>\n",
       "      <td>67.544505</td>\n",
       "      <td>35.0</td>\n",
       "      <td>134</td>\n",
       "      <td>51</td>\n",
       "    </tr>\n",
       "    <tr>\n",
       "      <th>...</th>\n",
       "      <td>...</td>\n",
       "      <td>...</td>\n",
       "      <td>...</td>\n",
       "      <td>...</td>\n",
       "      <td>...</td>\n",
       "      <td>...</td>\n",
       "    </tr>\n",
       "    <tr>\n",
       "      <th>604</th>\n",
       "      <td>2008</td>\n",
       "      <td>Mad Money</td>\n",
       "      <td>20.688843</td>\n",
       "      <td>22.0</td>\n",
       "      <td>104</td>\n",
       "      <td>22</td>\n",
       "    </tr>\n",
       "    <tr>\n",
       "      <th>605</th>\n",
       "      <td>2008</td>\n",
       "      <td>27 Dresses</td>\n",
       "      <td>76.808654</td>\n",
       "      <td>30.0</td>\n",
       "      <td>111</td>\n",
       "      <td>41</td>\n",
       "    </tr>\n",
       "    <tr>\n",
       "      <th>606</th>\n",
       "      <td>2008</td>\n",
       "      <td>Cloverfield</td>\n",
       "      <td>80.048433</td>\n",
       "      <td>25.0</td>\n",
       "      <td>85</td>\n",
       "      <td>77</td>\n",
       "    </tr>\n",
       "    <tr>\n",
       "      <th>607</th>\n",
       "      <td>2008</td>\n",
       "      <td>In the Name of the King: A Dungeon Siege Tale</td>\n",
       "      <td>4.775656</td>\n",
       "      <td>60.0</td>\n",
       "      <td>127</td>\n",
       "      <td>4</td>\n",
       "    </tr>\n",
       "    <tr>\n",
       "      <th>608</th>\n",
       "      <td>2008</td>\n",
       "      <td>One Missed Call</td>\n",
       "      <td>26.890041</td>\n",
       "      <td>20.0</td>\n",
       "      <td>87</td>\n",
       "      <td>0</td>\n",
       "    </tr>\n",
       "  </tbody>\n",
       "</table>\n",
       "<p>609 rows × 6 columns</p>\n",
       "</div>"
      ],
      "text/plain": [
       "     Year                                          Movie  US Gross ($M)  \\\n",
       "0    2012                               Django Unchained     162.805434   \n",
       "1    2012                              Parental Guidance      77.264926   \n",
       "2    2012                                 The Impossible      19.019882   \n",
       "3    2012                                   Jack Reacher      80.070736   \n",
       "4    2012                                     This is 40      67.544505   \n",
       "..    ...                                            ...            ...   \n",
       "604  2008                                      Mad Money      20.688843   \n",
       "605  2008                                     27 Dresses      76.808654   \n",
       "606  2008                                    Cloverfield      80.048433   \n",
       "607  2008  In the Name of the King: A Dungeon Siege Tale       4.775656   \n",
       "608  2008                                One Missed Call      26.890041   \n",
       "\n",
       "     Budget ($M)  Run Time (min)  Critic Score (Rotten Tomatoes)  \n",
       "0          100.0             165                              88  \n",
       "1           25.0             105                              18  \n",
       "2           40.0             114                              81  \n",
       "3           60.0             130                              61  \n",
       "4           35.0             134                              51  \n",
       "..           ...             ...                             ...  \n",
       "604         22.0             104                              22  \n",
       "605         30.0             111                              41  \n",
       "606         25.0              85                              77  \n",
       "607         60.0             127                               4  \n",
       "608         20.0              87                               0  \n",
       "\n",
       "[609 rows x 6 columns]"
      ]
     },
     "execution_count": 2,
     "metadata": {},
     "output_type": "execute_result"
    }
   ],
   "source": [
    "movies=pandas.read_csv('https://raw.githubusercontent.com/jillxoreilly/StatsCourseBook/main/data/MovieProfits.csv')\n",
    "movies"
   ]
  },
  {
   "cell_type": "markdown",
   "id": "dac4b1ec",
   "metadata": {},
   "source": [
    "#### a) Find and remove outliers\n",
    "\n",
    "There are some erroneous values in the columns 'Year' and 'Run Time (min)'. \n",
    "<ul>\n",
    "    <li>Find these and replace them with NaNs.\n",
    "    <li>Briefly justify (in the text box below) which values you considered erroneous\n",
    "</ul>"
   ]
  },
  {
   "cell_type": "code",
   "execution_count": 3,
   "id": "d7581d21",
   "metadata": {},
   "outputs": [],
   "source": [
    "# Your code here to replace erroenous values with NaNs\n",
    "# No need to show your working\n",
    "movies.loc[(movies['Year']>2023),['Year']]=np.nan\n",
    "movies.loc[(movies['Run Time (min)']==0),['Run Time (min)']]=np.nan"
   ]
  },
  {
   "cell_type": "markdown",
   "id": "897963c0",
   "metadata": {},
   "source": [
    "<font color='red'>\n",
    "Three movies had a recorded run time of zero minutes - run times for these movies were set to NaN\n",
    "\n",
    "One movie had a recorded release date in the far future (2110) - release date for this movie was set to NaN\n",
    "</font>"
   ]
  },
  {
   "cell_type": "code",
   "execution_count": 8,
   "id": "61d870a0",
   "metadata": {},
   "outputs": [
    {
     "data": {
      "text/html": [
       "<div>\n",
       "<style scoped>\n",
       "    .dataframe tbody tr th:only-of-type {\n",
       "        vertical-align: middle;\n",
       "    }\n",
       "\n",
       "    .dataframe tbody tr th {\n",
       "        vertical-align: top;\n",
       "    }\n",
       "\n",
       "    .dataframe thead th {\n",
       "        text-align: right;\n",
       "    }\n",
       "</style>\n",
       "<table border=\"1\" class=\"dataframe\">\n",
       "  <thead>\n",
       "    <tr style=\"text-align: right;\">\n",
       "      <th></th>\n",
       "      <th>Year</th>\n",
       "      <th>Movie</th>\n",
       "      <th>US Gross ($M)</th>\n",
       "      <th>Budget ($M)</th>\n",
       "      <th>Run Time (min)</th>\n",
       "      <th>Critic Score (Rotten Tomatoes)</th>\n",
       "    </tr>\n",
       "  </thead>\n",
       "  <tbody>\n",
       "    <tr>\n",
       "      <th>1</th>\n",
       "      <td>2012.0</td>\n",
       "      <td>Parental Guidance</td>\n",
       "      <td>77.264926</td>\n",
       "      <td>25.0</td>\n",
       "      <td>105.0</td>\n",
       "      <td>18</td>\n",
       "    </tr>\n",
       "    <tr>\n",
       "      <th>2</th>\n",
       "      <td>2012.0</td>\n",
       "      <td>The Impossible</td>\n",
       "      <td>19.019882</td>\n",
       "      <td>40.0</td>\n",
       "      <td>114.0</td>\n",
       "      <td>81</td>\n",
       "    </tr>\n",
       "    <tr>\n",
       "      <th>5</th>\n",
       "      <td>2012.0</td>\n",
       "      <td>The Guilt Trip</td>\n",
       "      <td>37.134215</td>\n",
       "      <td>40.0</td>\n",
       "      <td>95.0</td>\n",
       "      <td>38</td>\n",
       "    </tr>\n",
       "    <tr>\n",
       "      <th>7</th>\n",
       "      <td>2012.0</td>\n",
       "      <td>Playing for Keeps</td>\n",
       "      <td>13.102272</td>\n",
       "      <td>35.0</td>\n",
       "      <td>105.0</td>\n",
       "      <td>4</td>\n",
       "    </tr>\n",
       "    <tr>\n",
       "      <th>8</th>\n",
       "      <td>2012.0</td>\n",
       "      <td>Killing Them Softly</td>\n",
       "      <td>15.026056</td>\n",
       "      <td>15.0</td>\n",
       "      <td>97.0</td>\n",
       "      <td>75</td>\n",
       "    </tr>\n",
       "    <tr>\n",
       "      <th>...</th>\n",
       "      <td>...</td>\n",
       "      <td>...</td>\n",
       "      <td>...</td>\n",
       "      <td>...</td>\n",
       "      <td>...</td>\n",
       "      <td>...</td>\n",
       "    </tr>\n",
       "    <tr>\n",
       "      <th>603</th>\n",
       "      <td>2008.0</td>\n",
       "      <td>Rambo</td>\n",
       "      <td>42.754105</td>\n",
       "      <td>47.5</td>\n",
       "      <td>92.0</td>\n",
       "      <td>37</td>\n",
       "    </tr>\n",
       "    <tr>\n",
       "      <th>604</th>\n",
       "      <td>2008.0</td>\n",
       "      <td>Mad Money</td>\n",
       "      <td>20.688843</td>\n",
       "      <td>22.0</td>\n",
       "      <td>104.0</td>\n",
       "      <td>22</td>\n",
       "    </tr>\n",
       "    <tr>\n",
       "      <th>605</th>\n",
       "      <td>2008.0</td>\n",
       "      <td>27 Dresses</td>\n",
       "      <td>76.808654</td>\n",
       "      <td>30.0</td>\n",
       "      <td>111.0</td>\n",
       "      <td>41</td>\n",
       "    </tr>\n",
       "    <tr>\n",
       "      <th>606</th>\n",
       "      <td>2008.0</td>\n",
       "      <td>Cloverfield</td>\n",
       "      <td>80.048433</td>\n",
       "      <td>25.0</td>\n",
       "      <td>85.0</td>\n",
       "      <td>77</td>\n",
       "    </tr>\n",
       "    <tr>\n",
       "      <th>608</th>\n",
       "      <td>2008.0</td>\n",
       "      <td>One Missed Call</td>\n",
       "      <td>26.890041</td>\n",
       "      <td>20.0</td>\n",
       "      <td>87.0</td>\n",
       "      <td>0</td>\n",
       "    </tr>\n",
       "  </tbody>\n",
       "</table>\n",
       "<p>491 rows × 6 columns</p>\n",
       "</div>"
      ],
      "text/plain": [
       "       Year                Movie  US Gross ($M)  Budget ($M)  Run Time (min)  \\\n",
       "1    2012.0    Parental Guidance      77.264926         25.0           105.0   \n",
       "2    2012.0       The Impossible      19.019882         40.0           114.0   \n",
       "5    2012.0       The Guilt Trip      37.134215         40.0            95.0   \n",
       "7    2012.0    Playing for Keeps      13.102272         35.0           105.0   \n",
       "8    2012.0  Killing Them Softly      15.026056         15.0            97.0   \n",
       "..      ...                  ...            ...          ...             ...   \n",
       "603  2008.0                Rambo      42.754105         47.5            92.0   \n",
       "604  2008.0            Mad Money      20.688843         22.0           104.0   \n",
       "605  2008.0           27 Dresses      76.808654         30.0           111.0   \n",
       "606  2008.0          Cloverfield      80.048433         25.0            85.0   \n",
       "608  2008.0      One Missed Call      26.890041         20.0            87.0   \n",
       "\n",
       "     Critic Score (Rotten Tomatoes)  \n",
       "1                                18  \n",
       "2                                81  \n",
       "5                                38  \n",
       "7                                 4  \n",
       "8                                75  \n",
       "..                              ...  \n",
       "603                              37  \n",
       "604                              22  \n",
       "605                              41  \n",
       "606                              77  \n",
       "608                               0  \n",
       "\n",
       "[491 rows x 6 columns]"
      ]
     },
     "execution_count": 8,
     "metadata": {},
     "output_type": "execute_result"
    }
   ],
   "source": [
    "movies.loc[(movies['Run Time (min)']<120)]"
   ]
  },
  {
   "cell_type": "markdown",
   "id": "5c103b16",
   "metadata": {},
   "source": [
    "#### b) Plot the relationship between Budget and Gross Turnover\n",
    "\n",
    "<ul>\n",
    "    <li> Create a scatterplot showing the relationship between Budget and Gross Turnover\n",
    "    <li> Add the line x=y so we can see which movies made a profit and which made a loss\n",
    "</ul>"
   ]
  },
  {
   "cell_type": "code",
   "execution_count": 10,
   "id": "9c1cc6a0",
   "metadata": {},
   "outputs": [
    {
     "data": {
      "text/plain": [
       "[<matplotlib.lines.Line2D at 0x7fb722c0daf0>]"
      ]
     },
     "execution_count": 10,
     "metadata": {},
     "output_type": "execute_result"
    },
    {
     "data": {
      "image/png": "[encoded data removed]",
      "text/plain": [
       "<Figure size 640x480 with 1 Axes>"
      ]
     },
     "metadata": {},
     "output_type": "display_data"
    }
   ],
   "source": [
    "# make a scatterplot\n",
    "sns.scatterplot(data=movies, x='Budget ($M)', y='US Gross ($M)', alpha=0.5)\n",
    "\n",
    "# add the line x=y so we can see which movies made a profit and which made a loss\n",
    "plt.plot([0,250],[0,250],'r')"
   ]
  },
  {
   "cell_type": "markdown",
   "id": "eae5f50a",
   "metadata": {},
   "source": [
    "#### c) Comment on the plot made in (b)\n",
    "<ul>\n",
    "    <li> Do movies with a higher budget have a higher gross turnover?\n",
    "    <li> Do all movies make a profit or do some make a loss?\n",
    "    <li> Comment on anything else you notice about the data distribution\n",
    "</ul>\n",
    "Support your answer with descriptive statistics where appropriate"
   ]
  },
  {
   "cell_type": "code",
   "execution_count": 31,
   "id": "cf5ccd7a",
   "metadata": {},
   "outputs": [
    {
     "name": "stdout",
     "output_type": "stream",
     "text": [
      "number of loss making movies: 252\n",
      "total number of movies: 609\n",
      "% with budget below $50M: 58.949096880131364\n",
      "% with budget below $100M: 82.43021346469622\n"
     ]
    }
   ],
   "source": [
    "# supporting calculations\n",
    "\n",
    "print('number of loss making movies: ' + str(len(movies[movies['Budget ($M)']>movies['US Gross ($M)']])))\n",
    "print('total number of movies: ' + str(len(movies)))\n",
    "\n",
    "print('% with budget below $50M: ' + str(100* len(movies[movies['Budget ($M)']<50])/len(movies)))\n",
    "print('% with budget below $100M: ' + str(100* len(movies[movies['Budget ($M)']<100])/len(movies)))"
   ]
  },
  {
   "cell_type": "markdown",
   "id": "e4a9efb6",
   "metadata": {},
   "source": [
    "<font color='red'>\n",
    "There is a fairly linear, positive relationship such that movies with a higher budget make a higher turnover\n",
    "    \n",
    "Quite a few movies (252/609) make a loss (turnover is less than budget - these datapoints fall below the red line)\n",
    "    \n",
    "Although the range of budgets (and profits) is large - up to about 250M budget and 700M profit, the majority of movies have much lower budgets - about 60\\% have a budget below 50M and 80\\% below 100M\n",
    "</font>"
   ]
  },
  {
   "cell_type": "markdown",
   "id": "24d6a402",
   "metadata": {},
   "source": [
    "#### d) Is there a correlation between Budget and Gross Turnover?\n",
    "\n",
    "<ul>\n",
    "<li>Calculate the correlation coefficient\n",
    "<li>Briefly justify your choice of correlation method\n",
    "</ul>"
   ]
  },
  {
   "cell_type": "code",
   "execution_count": 32,
   "id": "e2a547f7",
   "metadata": {},
   "outputs": [
    {
     "data": {
      "text/plain": [
       "0.6084125250514073"
      ]
     },
     "execution_count": 32,
     "metadata": {},
     "output_type": "execute_result"
    }
   ],
   "source": [
    "# your code here for the correlation\n",
    "movies['US Gross ($M)'].corr(movies['Budget ($M)'], method='spearman')"
   ]
  },
  {
   "cell_type": "markdown",
   "id": "35abda56",
   "metadata": {},
   "source": [
    "<font color='red'>\n",
    "I used Spearman's correlation due to heteroscedasticity in the dataset \n",
    "</font>"
   ]
  },
  {
   "cell_type": "markdown",
   "id": "01a459ca",
   "metadata": {},
   "source": [
    "#### e) Add a column to the dataframe for 'Profit ($M)'\n",
    " ... Where profit is defined as Gross Turnover minus Budget"
   ]
  },
  {
   "cell_type": "code",
   "execution_count": 34,
   "id": "d152585a",
   "metadata": {},
   "outputs": [
    {
     "data": {
      "text/html": [
       "<div>\n",
       "<style scoped>\n",
       "    .dataframe tbody tr th:only-of-type {\n",
       "        vertical-align: middle;\n",
       "    }\n",
       "\n",
       "    .dataframe tbody tr th {\n",
       "        vertical-align: top;\n",
       "    }\n",
       "\n",
       "    .dataframe thead th {\n",
       "        text-align: right;\n",
       "    }\n",
       "</style>\n",
       "<table border=\"1\" class=\"dataframe\">\n",
       "  <thead>\n",
       "    <tr style=\"text-align: right;\">\n",
       "      <th></th>\n",
       "      <th>Year</th>\n",
       "      <th>Movie</th>\n",
       "      <th>US Gross ($M)</th>\n",
       "      <th>Budget ($M)</th>\n",
       "      <th>Run Time (min)</th>\n",
       "      <th>Critic Score (Rotten Tomatoes)</th>\n",
       "      <th>Profit ($M)</th>\n",
       "    </tr>\n",
       "  </thead>\n",
       "  <tbody>\n",
       "    <tr>\n",
       "      <th>0</th>\n",
       "      <td>2012.0</td>\n",
       "      <td>Django Unchained</td>\n",
       "      <td>162.805434</td>\n",
       "      <td>100.0</td>\n",
       "      <td>165.0</td>\n",
       "      <td>88</td>\n",
       "      <td>62.805434</td>\n",
       "    </tr>\n",
       "    <tr>\n",
       "      <th>1</th>\n",
       "      <td>2012.0</td>\n",
       "      <td>Parental Guidance</td>\n",
       "      <td>77.264926</td>\n",
       "      <td>25.0</td>\n",
       "      <td>105.0</td>\n",
       "      <td>18</td>\n",
       "      <td>52.264926</td>\n",
       "    </tr>\n",
       "    <tr>\n",
       "      <th>2</th>\n",
       "      <td>2012.0</td>\n",
       "      <td>The Impossible</td>\n",
       "      <td>19.019882</td>\n",
       "      <td>40.0</td>\n",
       "      <td>114.0</td>\n",
       "      <td>81</td>\n",
       "      <td>-20.980118</td>\n",
       "    </tr>\n",
       "    <tr>\n",
       "      <th>3</th>\n",
       "      <td>2012.0</td>\n",
       "      <td>Jack Reacher</td>\n",
       "      <td>80.070736</td>\n",
       "      <td>60.0</td>\n",
       "      <td>130.0</td>\n",
       "      <td>61</td>\n",
       "      <td>20.070736</td>\n",
       "    </tr>\n",
       "    <tr>\n",
       "      <th>4</th>\n",
       "      <td>2012.0</td>\n",
       "      <td>This is 40</td>\n",
       "      <td>67.544505</td>\n",
       "      <td>35.0</td>\n",
       "      <td>134.0</td>\n",
       "      <td>51</td>\n",
       "      <td>32.544505</td>\n",
       "    </tr>\n",
       "    <tr>\n",
       "      <th>...</th>\n",
       "      <td>...</td>\n",
       "      <td>...</td>\n",
       "      <td>...</td>\n",
       "      <td>...</td>\n",
       "      <td>...</td>\n",
       "      <td>...</td>\n",
       "      <td>...</td>\n",
       "    </tr>\n",
       "    <tr>\n",
       "      <th>604</th>\n",
       "      <td>2008.0</td>\n",
       "      <td>Mad Money</td>\n",
       "      <td>20.688843</td>\n",
       "      <td>22.0</td>\n",
       "      <td>104.0</td>\n",
       "      <td>22</td>\n",
       "      <td>-1.311157</td>\n",
       "    </tr>\n",
       "    <tr>\n",
       "      <th>605</th>\n",
       "      <td>2008.0</td>\n",
       "      <td>27 Dresses</td>\n",
       "      <td>76.808654</td>\n",
       "      <td>30.0</td>\n",
       "      <td>111.0</td>\n",
       "      <td>41</td>\n",
       "      <td>46.808654</td>\n",
       "    </tr>\n",
       "    <tr>\n",
       "      <th>606</th>\n",
       "      <td>2008.0</td>\n",
       "      <td>Cloverfield</td>\n",
       "      <td>80.048433</td>\n",
       "      <td>25.0</td>\n",
       "      <td>85.0</td>\n",
       "      <td>77</td>\n",
       "      <td>55.048433</td>\n",
       "    </tr>\n",
       "    <tr>\n",
       "      <th>607</th>\n",
       "      <td>2008.0</td>\n",
       "      <td>In the Name of the King: A Dungeon Siege Tale</td>\n",
       "      <td>4.775656</td>\n",
       "      <td>60.0</td>\n",
       "      <td>127.0</td>\n",
       "      <td>4</td>\n",
       "      <td>-55.224344</td>\n",
       "    </tr>\n",
       "    <tr>\n",
       "      <th>608</th>\n",
       "      <td>2008.0</td>\n",
       "      <td>One Missed Call</td>\n",
       "      <td>26.890041</td>\n",
       "      <td>20.0</td>\n",
       "      <td>87.0</td>\n",
       "      <td>0</td>\n",
       "      <td>6.890041</td>\n",
       "    </tr>\n",
       "  </tbody>\n",
       "</table>\n",
       "<p>609 rows × 7 columns</p>\n",
       "</div>"
      ],
      "text/plain": [
       "       Year                                          Movie  US Gross ($M)  \\\n",
       "0    2012.0                               Django Unchained     162.805434   \n",
       "1    2012.0                              Parental Guidance      77.264926   \n",
       "2    2012.0                                 The Impossible      19.019882   \n",
       "3    2012.0                                   Jack Reacher      80.070736   \n",
       "4    2012.0                                     This is 40      67.544505   \n",
       "..      ...                                            ...            ...   \n",
       "604  2008.0                                      Mad Money      20.688843   \n",
       "605  2008.0                                     27 Dresses      76.808654   \n",
       "606  2008.0                                    Cloverfield      80.048433   \n",
       "607  2008.0  In the Name of the King: A Dungeon Siege Tale       4.775656   \n",
       "608  2008.0                                One Missed Call      26.890041   \n",
       "\n",
       "     Budget ($M)  Run Time (min)  Critic Score (Rotten Tomatoes)  Profit ($M)  \n",
       "0          100.0           165.0                              88    62.805434  \n",
       "1           25.0           105.0                              18    52.264926  \n",
       "2           40.0           114.0                              81   -20.980118  \n",
       "3           60.0           130.0                              61    20.070736  \n",
       "4           35.0           134.0                              51    32.544505  \n",
       "..           ...             ...                             ...          ...  \n",
       "604         22.0           104.0                              22    -1.311157  \n",
       "605         30.0           111.0                              41    46.808654  \n",
       "606         25.0            85.0                              77    55.048433  \n",
       "607         60.0           127.0                               4   -55.224344  \n",
       "608         20.0            87.0                               0     6.890041  \n",
       "\n",
       "[609 rows x 7 columns]"
      ]
     },
     "execution_count": 34,
     "metadata": {},
     "output_type": "execute_result"
    }
   ],
   "source": [
    "# Your code here to add the column ['Profit ($M)']\n",
    "movies['Profit ($M)']=movies['US Gross ($M)']-movies['Budget ($M)']\n",
    "\n",
    "# Display the dataframe with the new column included\n",
    "movies"
   ]
  },
  {
   "cell_type": "markdown",
   "id": "50a85936",
   "metadata": {},
   "source": [
    "#### f) What is the relationship between Budget and Profit\n",
    "\n",
    "<ul>\n",
    "<li> Create a scatterplot for Budget vs Profit\n",
    "<li> Calculate the correlation between Budget and Profit using both Pearson's and Spearman's correlation coefficient. \n",
    "    <ul> \n",
    "        <li>Comment on the difference in results and why it might occur\n",
    "        <li> Which approach is more appropriate and why?\n",
    "    </ul>\n",
    "</ul>"
   ]
  },
  {
   "cell_type": "code",
   "execution_count": 71,
   "id": "acadd2b5",
   "metadata": {},
   "outputs": [
    {
     "data": {
      "text/plain": [
       "-0.17185721736298942"
      ]
     },
     "execution_count": 71,
     "metadata": {},
     "output_type": "execute_result"
    },
    {
     "data": {
      "image/png": "[encoded data removed]",
      "text/plain": [
       "<Figure size 640x480 with 1 Axes>"
      ]
     },
     "metadata": {},
     "output_type": "display_data"
    }
   ],
   "source": [
    "# Your code here for the scatterplot\n",
    "sns.scatterplot(data=movies, x='Budget ($M)', y='Profit ($M)', alpha=0.5)"
   ]
  },
  {
   "cell_type": "code",
   "execution_count": 36,
   "id": "2a607fda",
   "metadata": {},
   "outputs": [
    {
     "name": "stdout",
     "output_type": "stream",
     "text": [
      "Spearman's r\n",
      "-0.17185721736298942\n",
      "Pearson's r\n",
      "0.07078101507174157\n"
     ]
    }
   ],
   "source": [
    "# Your code here for the correlations\n",
    "print(\"Spearman's r\")\n",
    "print(movies['Budget ($M)'].corr(movies['Profit ($M)'], method='spearman'))\n",
    "\n",
    "print(\"Pearson's r\")\n",
    "print(movies['Budget ($M)'].corr(movies['Profit ($M)'], method='pearson'))"
   ]
  },
  {
   "cell_type": "markdown",
   "id": "b5262fcd",
   "metadata": {},
   "source": [
    "<font color='red'>\n",
    "There appears to be a very weak positive correlation using Pearson's, but a very weak negative one using Spearman's. \n",
    "\n",
    "Pearsons's r will be influenced by strong positive outliers (movies with high budget and profit; Spearman's will be less influenced by outliers\n",
    "\n",
    "Spearman's definitely more appropriate due to heteroscedasticity\n",
    "</font>"
   ]
  },
  {
   "cell_type": "markdown",
   "id": "43f269ba",
   "metadata": {},
   "source": [
    "#### g) Add a column containing Profit per $ of budget\n",
    "\n",
    "This should be defined as Profit/Budget"
   ]
  },
  {
   "cell_type": "code",
   "execution_count": 38,
   "id": "70b7527f",
   "metadata": {},
   "outputs": [],
   "source": [
    "# Your code here to add the column ['Profit ($M)']\n",
    "movies['Profit per $']=movies['Profit ($M)']/movies['Budget ($M)']"
   ]
  },
  {
   "cell_type": "markdown",
   "id": "43ad3f2f",
   "metadata": {},
   "source": [
    "#### i) Plot histograms of profit per dollar budget\n",
    "\n",
    "Create three histograms containing the distribution of profit per dollar budget for:\n",
    "<ul>\n",
    "<li> All movies\n",
    "<li> Movies with a budget below \\$50M\n",
    "<li> Movies with a budget above \\$100M\n",
    "</ul>\n",
    "Make them as three subplots in a single figure to keep things tidy"
   ]
  },
  {
   "cell_type": "code",
   "execution_count": 44,
   "id": "4c289811",
   "metadata": {},
   "outputs": [
    {
     "data": {
      "image/png": "[encoded data removed]",
      "text/plain": [
       "<Figure size 1500x500 with 3 Axes>"
      ]
     },
     "metadata": {},
     "output_type": "display_data"
    }
   ],
   "source": [
    "# Your code here\n",
    "plt.figure(figsize=[15,5]) # set figure size\n",
    "\n",
    "plt.subplot(1,3,1)\n",
    "sns.histplot(data=movies, x='Profit per $')\n",
    "\n",
    "plt.subplot(1,3,2)\n",
    "sns.histplot(data=movies[movies['Budget ($M)']<50], x='Profit per $')\n",
    "\n",
    "plt.subplot(1,3,3)\n",
    "sns.histplot(data=movies[movies['Budget ($M)']>100], x='Profit per $')\n",
    "\n",
    "plt.tight_layout()"
   ]
  },
  {
   "cell_type": "markdown",
   "id": "fc5790a6",
   "metadata": {},
   "source": [
    "#### j) 95% confidence interval for the mean profit per dollar\n",
    "\n",
    "Create a bootstrapped confidence interval for the mean profit per dollar, separately for \n",
    "<ul>\n",
    "    <li> Movies with a budget below \\$50M\n",
    "    <li> Movies with a budget above \\$100M\n",
    "</ul>"
   ]
  },
  {
   "cell_type": "code",
   "execution_count": 51,
   "id": "20153834",
   "metadata": {},
   "outputs": [
    {
     "name": "stdout",
     "output_type": "stream",
     "text": [
      "95% CI: [1.0132826583131334,1.9148265630973411]\n"
     ]
    }
   ],
   "source": [
    "#### Your code here for the 95% confidence interval: Movies with a budget below $50M \n",
    "nReps = 10000\n",
    "m = np.empty(nReps)\n",
    "n = len(movies[movies['Budget ($M)']<50])\n",
    "\n",
    "for i in range(nReps):\n",
    "    sample=movies[movies['Budget ($M)']<50].sample(n, replace=True)\n",
    "    m[i]=sample['Profit per $'].mean()\n",
    "    \n",
    "print('95% CI: [' + str(np.quantile(m, 0.025)) + ',' + str(np.quantile(m, 0.975)) + ']')\n"
   ]
  },
  {
   "cell_type": "code",
   "execution_count": 52,
   "id": "caa22215",
   "metadata": {},
   "outputs": [
    {
     "name": "stdout",
     "output_type": "stream",
     "text": [
      "95% CI: [0.006456949418855058,0.24922863184764985]\n"
     ]
    }
   ],
   "source": [
    "#### Your code here for the 95% confidence interval: Movies with a budget above $100M \n",
    "nReps = 10000\n",
    "m = np.empty(nReps)\n",
    "n = len(movies[movies['Budget ($M)']>100])\n",
    "\n",
    "for i in range(nReps):\n",
    "    sample=movies[movies['Budget ($M)']>100].sample(n, replace=True)\n",
    "    m[i]=sample['Profit per $'].mean()\n",
    "    \n",
    "print('95% CI: [' + str(np.quantile(m, 0.025)) + ',' + str(np.quantile(m, 0.975)) + ']')\n"
   ]
  },
  {
   "cell_type": "markdown",
   "id": "90fbc136",
   "metadata": {},
   "source": [
    "#### k) Comment on the confidence intervals obtained in the previous question.\n",
    "\n",
    "The mean is also called the expected value - so the mean profit per dollar is also the expected profit per dollar (if we were to make a new movie). \n",
    "\n",
    "<ul>\n",
    "<li>Is the expected profit per dollar higher for low- or high- budget movies?\n",
    "<li>Is the expected profit per dollar more uncertain/variable for low- or high- budget movies?\n",
    "</ul>"
   ]
  },
  {
   "cell_type": "markdown",
   "id": "bfa2510f",
   "metadata": {},
   "source": [
    "<font color='red'>\n",
    "The mean profit per dollar is higher for lower budget movies, but the CI is wider suggesting that the expected (mean) profit per dollar is also more variable for lower budget movies (as some movies gross many times their (small) budget)\n",
    "</font>"
   ]
  },
  {
   "cell_type": "code",
   "execution_count": null,
   "id": "df341647",
   "metadata": {},
   "outputs": [],
   "source": []
  }
 ],
 "metadata": {
  "kernelspec": {
   "display_name": "Python 3 (ipykernel)",
   "language": "python",
   "name": "python3"
  },
  "language_info": {
   "codemirror_mode": {
    "name": "ipython",
    "version": 3
   },
   "file_extension": ".py",
   "mimetype": "text/x-python",
   "name": "python",
   "nbconvert_exporter": "python",
   "pygments_lexer": "ipython3",
   "version": "3.9.13"
  }
 },
 "nbformat": 4,
 "nbformat_minor": 5
}
