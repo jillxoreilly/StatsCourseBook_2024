{
 "cells": [
  {
   "cell_type": "markdown",
   "id": "0796d3a2",
   "metadata": {},
   "source": [
    "## Sort out `scipy.stats` version\n",
    "\n",
    "This section is for those running Python on their own computers. \n",
    "\n",
    "If you are using Colab, please follow the instruvctions in each notebook.\n",
    "\n",
    "This week we use a function `scipy.stats.permutation_test()`\n",
    "\n",
    "You need scipy stats version > 1.8.0 to run this. \n",
    "\n",
    "You should check your version by running the following code block."
   ]
  },
  {
   "cell_type": "code",
   "execution_count": 91,
   "id": "c0d12e7d",
   "metadata": {},
   "outputs": [
    {
     "data": {
      "text/plain": [
       "'1.10.0'"
      ]
     },
     "execution_count": 91,
     "metadata": {},
     "output_type": "execute_result"
    }
   ],
   "source": [
    "import scipy as scipy\n",
    "scipy.version.version"
   ]
  },
  {
   "cell_type": "markdown",
   "id": "9f823fce",
   "metadata": {},
   "source": [
    "If the reported version is less than 1.8.0 you need to update it -\n",
    "\n",
    "First you can see if running this code block helps (the output of the code cell is should be the new version number 1.9.3, but it may throw an error on your computer):"
   ]
  },
  {
   "cell_type": "code",
   "execution_count": 1,
   "id": "a8d2d8a3",
   "metadata": {},
   "outputs": [
    {
     "name": "stdout",
     "output_type": "stream",
     "text": [
      "Collecting scipy==1.9.3\n",
      "  Downloading scipy-1.9.3-cp39-cp39-macosx_10_9_x86_64.whl (34.3 MB)\n",
      "\u001b[2K     \u001b[90m━━━━━━━━━━━━━━━━━━━━━━━━━━━━━━━━━━━━━━━━\u001b[0m \u001b[32m34.3/34.3 MB\u001b[0m \u001b[31m21.2 MB/s\u001b[0m eta \u001b[36m0:00:00\u001b[0m00:01\u001b[0m00:01\u001b[0m\n",
      "\u001b[?25hRequirement already satisfied: numpy<1.26.0,>=1.18.5 in /Users/joreilly/opt/anaconda3/lib/python3.9/site-packages (from scipy==1.9.3) (1.21.5)\n",
      "Installing collected packages: scipy\n",
      "  Attempting uninstall: scipy\n",
      "    Found existing installation: scipy 1.9.0\n",
      "    Uninstalling scipy-1.9.0:\n",
      "      Successfully uninstalled scipy-1.9.0\n",
      "Successfully installed scipy-1.9.3\n"
     ]
    },
    {
     "data": {
      "text/plain": [
       "'1.9.3'"
      ]
     },
     "execution_count": 1,
     "metadata": {},
     "output_type": "execute_result"
    }
   ],
   "source": [
    "!pip install scipy==1.9.3\n",
    "import scipy as scipy\n",
    "scipy.version.version"
   ]
  },
  {
   "cell_type": "markdown",
   "id": "efc3f245",
   "metadata": {},
   "source": [
    "If your version is still <1.8.0 after running that, especially if you are on Windows, or you have an error message, you can try the following:"
   ]
  },
  {
   "cell_type": "code",
   "execution_count": 2,
   "id": "0f64b262",
   "metadata": {},
   "outputs": [
    {
     "name": "stdout",
     "output_type": "stream",
     "text": [
      "Requirement already satisfied: scipy==1.9.3 in /Users/joreilly/opt/anaconda3/lib/python3.9/site-packages (1.9.3)\r\n",
      "Requirement already satisfied: numpy<1.26.0,>=1.18.5 in /Users/joreilly/opt/anaconda3/lib/python3.9/site-packages (from scipy==1.9.3) (1.21.5)\r\n"
     ]
    },
    {
     "data": {
      "text/plain": [
       "'1.9.3'"
      ]
     },
     "execution_count": 2,
     "metadata": {},
     "output_type": "execute_result"
    }
   ],
   "source": [
    "!pip3 install scipy==1.9.3\n",
    "import scipy as scipy\n",
    "scipy.version.version"
   ]
  },
  {
   "cell_type": "markdown",
   "id": "35396480",
   "metadata": {},
   "source": [
    "If that still didn't work try:\n",
    "\n",
    "Mac: open a terminal (Applications--Utilities--Terminal) and type:\n",
    "<tt> conda install -c conda-forge scipy=1.10.0 </tt>\n",
    "or if that fails,\n",
    "<tt> conda update scipy </tt>\n",
    "                      \n",
    "Windows: open an Anaconda terminal (spotlight search for anaconda and select the anaconda terminal app) and type:\n",
    "<tt> conda install -c conda-forge scipy=1.10.0 </tt>\n",
    "or if that fails,\n",
    "<tt> conda update scipy </tt>\n",
    "                      \n",
    "Please try and do this before the tutorial - otherwise your tutor will know you didn't read the prep work thoroughly ;-)"
   ]
  },
  {
   "cell_type": "code",
   "execution_count": null,
   "id": "424749af",
   "metadata": {},
   "outputs": [],
   "source": []
  }
 ],
 "metadata": {
  "kernelspec": {
   "display_name": "Python 3 (ipykernel)",
   "language": "python",
   "name": "python3"
  },
  "language_info": {
   "codemirror_mode": {
    "name": "ipython",
    "version": 3
   },
   "file_extension": ".py",
   "mimetype": "text/x-python",
   "name": "python",
   "nbconvert_exporter": "python",
   "pygments_lexer": "ipython3",
   "version": "3.9.13"
  }
 },
 "nbformat": 4,
 "nbformat_minor": 5
}
