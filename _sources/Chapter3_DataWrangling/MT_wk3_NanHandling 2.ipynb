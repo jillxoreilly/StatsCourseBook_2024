{
 "cells": [
  {
   "cell_type": "markdown",
   "id": "f50bfb80",
   "metadata": {},
   "source": [
    "# Handling NaNs\n",
    "\n",
    "`NaN` (Not a Number) is a special value used to indicate missing data in many scientific programming languages.\n",
    "\n",
    "Using `NaN` instead of a numerical dummy value like 9999 or 0 is helpful because Python functions either ignore NaNs by default, or can be set to ignore NaNs using an optional function argument.\n",
    "\n",
    "In this section we will review:\n",
    "\n",
    "* Why `NaN` is better than a numerical dummy value\n",
    "* How to check for NaNs in a dataframe\n",
    "* Setting the NaN-handling in Python functions\n",
    "\n",
    "Set up Python Libraries\n",
    "\n",
    "As usual you will need to run this code block to import the relevant Python libraries"
   ]
  },
  {
   "cell_type": "code",
   "execution_count": 11,
   "id": "3ee92b38",
   "metadata": {},
   "outputs": [],
   "source": [
    "# Set-up Python libraries - you need to run this but you don't need to change it\n",
    "import numpy as np\n",
    "import matplotlib.pyplot as plt\n",
    "import scipy.stats as stats\n",
    "import pandas as pd\n",
    "import seaborn as sns\n",
    "sns.set_theme(style='white')\n",
    "import statsmodels.api as sm\n",
    "import statsmodels.formula.api as smf"
   ]
  },
  {
   "cell_type": "markdown",
   "id": "a366df9a",
   "metadata": {},
   "source": [
    "### Import a dataset to work with\n",
    "\n",
    "We again work with the NYC heart attack dataset"
   ]
  },
  {
   "cell_type": "code",
   "execution_count": 12,
   "id": "ca767deb",
   "metadata": {},
   "outputs": [
    {
     "data": {
      "text/html": [
       "<div>\n",
       "<style scoped>\n",
       "    .dataframe tbody tr th:only-of-type {\n",
       "        vertical-align: middle;\n",
       "    }\n",
       "\n",
       "    .dataframe tbody tr th {\n",
       "        vertical-align: top;\n",
       "    }\n",
       "\n",
       "    .dataframe thead th {\n",
       "        text-align: right;\n",
       "    }\n",
       "</style>\n",
       "<table border=\"1\" class=\"dataframe\">\n",
       "  <thead>\n",
       "    <tr style=\"text-align: right;\">\n",
       "      <th></th>\n",
       "      <th>CHARGES</th>\n",
       "      <th>LOS</th>\n",
       "      <th>AGE</th>\n",
       "      <th>SEX</th>\n",
       "      <th>DRG</th>\n",
       "      <th>DIED</th>\n",
       "    </tr>\n",
       "  </thead>\n",
       "  <tbody>\n",
       "    <tr>\n",
       "      <th>0</th>\n",
       "      <td>4752.00</td>\n",
       "      <td>10</td>\n",
       "      <td>79.0</td>\n",
       "      <td>F</td>\n",
       "      <td>122.0</td>\n",
       "      <td>0.0</td>\n",
       "    </tr>\n",
       "    <tr>\n",
       "      <th>1</th>\n",
       "      <td>3941.00</td>\n",
       "      <td>6</td>\n",
       "      <td>34.0</td>\n",
       "      <td>F</td>\n",
       "      <td>122.0</td>\n",
       "      <td>0.0</td>\n",
       "    </tr>\n",
       "    <tr>\n",
       "      <th>2</th>\n",
       "      <td>3657.00</td>\n",
       "      <td>5</td>\n",
       "      <td>76.0</td>\n",
       "      <td>F</td>\n",
       "      <td>122.0</td>\n",
       "      <td>0.0</td>\n",
       "    </tr>\n",
       "    <tr>\n",
       "      <th>3</th>\n",
       "      <td>1481.00</td>\n",
       "      <td>2</td>\n",
       "      <td>80.0</td>\n",
       "      <td>F</td>\n",
       "      <td>122.0</td>\n",
       "      <td>0.0</td>\n",
       "    </tr>\n",
       "    <tr>\n",
       "      <th>4</th>\n",
       "      <td>1681.00</td>\n",
       "      <td>1</td>\n",
       "      <td>55.0</td>\n",
       "      <td>M</td>\n",
       "      <td>122.0</td>\n",
       "      <td>0.0</td>\n",
       "    </tr>\n",
       "    <tr>\n",
       "      <th>...</th>\n",
       "      <td>...</td>\n",
       "      <td>...</td>\n",
       "      <td>...</td>\n",
       "      <td>...</td>\n",
       "      <td>...</td>\n",
       "      <td>...</td>\n",
       "    </tr>\n",
       "    <tr>\n",
       "      <th>12839</th>\n",
       "      <td>22603.57</td>\n",
       "      <td>14</td>\n",
       "      <td>79.0</td>\n",
       "      <td>F</td>\n",
       "      <td>121.0</td>\n",
       "      <td>0.0</td>\n",
       "    </tr>\n",
       "    <tr>\n",
       "      <th>12840</th>\n",
       "      <td>NaN</td>\n",
       "      <td>7</td>\n",
       "      <td>91.0</td>\n",
       "      <td>F</td>\n",
       "      <td>121.0</td>\n",
       "      <td>0.0</td>\n",
       "    </tr>\n",
       "    <tr>\n",
       "      <th>12841</th>\n",
       "      <td>14359.14</td>\n",
       "      <td>9</td>\n",
       "      <td>79.0</td>\n",
       "      <td>F</td>\n",
       "      <td>121.0</td>\n",
       "      <td>0.0</td>\n",
       "    </tr>\n",
       "    <tr>\n",
       "      <th>12842</th>\n",
       "      <td>12986.00</td>\n",
       "      <td>5</td>\n",
       "      <td>70.0</td>\n",
       "      <td>M</td>\n",
       "      <td>121.0</td>\n",
       "      <td>0.0</td>\n",
       "    </tr>\n",
       "    <tr>\n",
       "      <th>12843</th>\n",
       "      <td>NaN</td>\n",
       "      <td>1</td>\n",
       "      <td>81.0</td>\n",
       "      <td>M</td>\n",
       "      <td>123.0</td>\n",
       "      <td>1.0</td>\n",
       "    </tr>\n",
       "  </tbody>\n",
       "</table>\n",
       "<p>12844 rows × 6 columns</p>\n",
       "</div>"
      ],
      "text/plain": [
       "        CHARGES  LOS   AGE SEX    DRG  DIED\n",
       "0       4752.00   10  79.0   F  122.0   0.0\n",
       "1       3941.00    6  34.0   F  122.0   0.0\n",
       "2       3657.00    5  76.0   F  122.0   0.0\n",
       "3       1481.00    2  80.0   F  122.0   0.0\n",
       "4       1681.00    1  55.0   M  122.0   0.0\n",
       "...         ...  ...   ...  ..    ...   ...\n",
       "12839  22603.57   14  79.0   F  121.0   0.0\n",
       "12840       NaN    7  91.0   F  121.0   0.0\n",
       "12841  14359.14    9  79.0   F  121.0   0.0\n",
       "12842  12986.00    5  70.0   M  121.0   0.0\n",
       "12843       NaN    1  81.0   M  123.0   1.0\n",
       "\n",
       "[12844 rows x 6 columns]"
      ]
     },
     "metadata": {},
     "output_type": "display_data"
    }
   ],
   "source": [
    "hospital=pd.read_csv('https://raw.githubusercontent.com/jillxoreilly/StatsCourseBook_2024/main/data/heartAttack.csv')\n",
    "display(hospital)"
   ]
  },
  {
   "cell_type": "markdown",
   "id": "cec11d6f",
   "metadata": {},
   "source": [
    "## `NaN` is not a number!\n",
    "\n",
    "Humans may recognise dummy values like 9999 for what they are, but the computer will treat them as numbers.\n",
    "\n",
    "Say we want to find the mean and standard deviation of the age of patients in out hospital dataset (remembering that issing data were coded as 9999):"
   ]
  },
  {
   "cell_type": "code",
   "execution_count": 13,
   "id": "d1afa59d",
   "metadata": {},
   "outputs": [
    {
     "name": "stdout",
     "output_type": "stream",
     "text": [
      "67.11672636660957\n",
      "88.92599753124392\n"
     ]
    }
   ],
   "source": [
    "print(hospital.AGE.mean())\n",
    "print(hospital.AGE.std())\n"
   ]
  },
  {
   "cell_type": "markdown",
   "id": "7d3bc231",
   "metadata": {},
   "source": [
    "**Think** is the value for standard deviation realistic?\n",
    "\n",
    "These values include the 9999s just as if there were really people 9999 years old in the sample.\n",
    "\n",
    "If we replace the 9999s with `NaN` we get the correct mean and standard deviation for the 'real' values, excluding the missing data"
   ]
  },
  {
   "cell_type": "code",
   "execution_count": 22,
   "id": "1923bd18",
   "metadata": {},
   "outputs": [
    {
     "name": "stdout",
     "output_type": "stream",
     "text": [
      "66.34327544583755\n",
      "774.0\n"
     ]
    }
   ],
   "source": [
    "hospital.AGE.replace(9999, np.nan, inplace=True)\n",
    "print(hospital.AGE.mean())\n",
    "print(hospital.AGE.std())"
   ]
  },
  {
   "cell_type": "markdown",
   "id": "05fab5e1",
   "metadata": {},
   "source": [
    "The mean has changed slightly, and the standard deviation is now much more reasonable."
   ]
  },
  {
   "cell_type": "markdown",
   "id": "0a4868a9",
   "metadata": {},
   "source": [
    "## Creating `NaN`s\n",
    "\n",
    "If we want to set a value to `NaN`, we can't just type <tt>NaN</tt> or <tt>\"NaN\"</tt>\n",
    "\n",
    "Istead, we 'create' the value `NaN` using the `numpy` function `np.nan`, for example:\n",
    "\n",
    "``\n",
    "hospital.loc[1, 'CHARGES']=np.nan # set the value of CHARGES in row 2 to be `NaN`\n",
    "``\n"
   ]
  },
  {
   "cell_type": "markdown",
   "id": "c91ffe17",
   "metadata": {},
   "source": [
    "## Check for `NaNs`\n",
    "\n",
    "- `df.isna()`\n",
    "- `df.isna().sum()`\n",
    "\n",
    "`NaN`s are ignored by many Python functions, however you may still want to know if there were any (and how many) in any given set of data.\n",
    "\n",
    "To check for missing values, coded as `NaN`, we use the function `df.isna()`:"
   ]
  },
  {
   "cell_type": "code",
   "execution_count": 16,
   "id": "e72c3b6f",
   "metadata": {},
   "outputs": [
    {
     "data": {
      "text/plain": [
       "0        False\n",
       "1        False\n",
       "2        False\n",
       "3        False\n",
       "4        False\n",
       "         ...  \n",
       "12839    False\n",
       "12840    False\n",
       "12841    False\n",
       "12842    False\n",
       "12843    False\n",
       "Name: AGE, Length: 12844, dtype: bool"
      ]
     },
     "execution_count": 16,
     "metadata": {},
     "output_type": "execute_result"
    }
   ],
   "source": [
    "hospital.AGE.isna()"
   ]
  },
  {
   "cell_type": "markdown",
   "id": "09c677c5",
   "metadata": {},
   "source": [
    "`df.isna()` returned a column with <tt>True</tt> or <tt>False</tt> for each value of <tt>AGE</tt> - <tt>True</tt> for people where the age is coded as `NaN` and <tt>False</tt> otherwise.\n",
    "\n",
    "This isn't very readable, but if we want to know how many `NaN`s were in the column, we can use a trick: Python treats <tt>True</tt> as <tt>1</tt> and <tt>False</tt> as <tt>0</tt>. So if we just take the sum of the column, we get the total nuber of `NaN`s:"
   ]
  },
  {
   "cell_type": "code",
   "execution_count": 17,
   "id": "cf4e26cd",
   "metadata": {},
   "outputs": [
    {
     "data": {
      "text/plain": [
       "2"
      ]
     },
     "execution_count": 17,
     "metadata": {},
     "output_type": "execute_result"
    }
   ],
   "source": [
    "hospital.AGE.isna().sum()"
   ]
  },
  {
   "cell_type": "markdown",
   "id": "462978ed",
   "metadata": {},
   "source": [
    "Two people's age was coded as `NaN`.\n",
    "\n",
    "## NaN handling by Python functions\n",
    "\n",
    "Many Python functions automatically ignore NaNs.\n",
    "\n",
    "These include \n",
    "* `df.mean()`\n",
    "* `df.std()`\n",
    "* `df.quantile()`\n",
    ".... and most other descriptive statistics\n",
    "\n",
    "* `sns.histogram()`\n",
    "* `sns.scatter()`\n",
    "... and most other `Seaborn` and `Matplotlib` functions\n",
    "\n",
    "However, some functions do *not* automatically ignore `NaN`s, and instead will give an error message, or return the value `NaN`, if the input data contains `NaN`s.\n",
    "\n",
    "This includes a lot of functions from the library `scipy.stats`, which we will use later in the course. For example, say I want to use a $t$-test to ask if the male patients are older than the females\n",
    "* don't worry if you don't yet know what a $t$-test is - this will make sense when you return to it for revision"
   ]
  },
  {
   "cell_type": "code",
   "execution_count": 34,
   "id": "f61363f9",
   "metadata": {},
   "outputs": [
    {
     "data": {
      "text/plain": [
       "103.0"
      ]
     },
     "execution_count": 34,
     "metadata": {},
     "output_type": "execute_result"
    }
   ],
   "source": [
    "stats.ttest_ind(hospital.query('SEX == \"M\"').AGE, hospital.query('SEX == \"F\"').AGE)"
   ]
  },
  {
   "cell_type": "markdown",
   "id": "4d102b3d",
   "metadata": {},
   "source": [
    "The function `stats.ttest_ind()` performs an independent samples $t$-test between the two samples we gave it (the ages of male and female patients) and should return a $t$-value (<tt>statistic</tt>) and a $p$ value (<tt>pvalue</tt>)\n",
    "    \n",
    "Right now both of these are `NaN` because the `NaN`s in the input were not ignored.\n",
    "    \n",
    "We can tell the function `stats.ttest_ind()` to ignore `NaN`s, using the argumment `nan_policy='omit'`:"
   ]
  },
  {
   "cell_type": "code",
   "execution_count": 33,
   "id": "bd6efa6a",
   "metadata": {},
   "outputs": [
    {
     "data": {
      "text/plain": [
       "Ttest_indResult(statistic=-35.41617555682539, pvalue=3.1864909732541125e-262)"
      ]
     },
     "execution_count": 33,
     "metadata": {},
     "output_type": "execute_result"
    }
   ],
   "source": [
    "stats.ttest_ind(hospital.query('SEX == \"M\"').AGE, hospital.query('SEX == \"F\"').AGE, nan_policy='omit')"
   ]
  },
  {
   "cell_type": "markdown",
   "id": "f1608265",
   "metadata": {},
   "source": [
    "Now we have actual values instead of NaN: $t = -35.4$ and $p = 3.1 x 10^{-262}$ (a very small number)\n",
    "\n",
    "**If you run a Python function and the output is `NaN`, you very probably need to change how the function handles `NaN`s using an argument. Check the function's help page online to get the correct syntax.**"
   ]
  },
  {
   "cell_type": "code",
   "execution_count": null,
   "id": "3c257b5a",
   "metadata": {},
   "outputs": [],
   "source": []
  }
 ],
 "metadata": {
  "kernelspec": {
   "display_name": "Python 3 (ipykernel)",
   "language": "python",
   "name": "python3"
  },
  "language_info": {
   "codemirror_mode": {
    "name": "ipython",
    "version": 3
   },
   "file_extension": ".py",
   "mimetype": "text/x-python",
   "name": "python",
   "nbconvert_exporter": "python",
   "pygments_lexer": "ipython3",
   "version": "3.9.18"
  }
 },
 "nbformat": 4,
 "nbformat_minor": 5
}
