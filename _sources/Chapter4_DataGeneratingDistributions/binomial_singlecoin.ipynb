{
 "cells": [
  {
   "cell_type": "markdown",
   "id": "0e37fdf8",
   "metadata": {},
   "source": [
    "# Simulated coin toss\n",
    "\n",
    "To get a feel for how likely different outcomes are, we are going to <i>simulate the data generating process</i>\n",
    "\n",
    "<img src= \"https://raw.githubusercontent.com/jillxoreilly/StatsCourseBook/main/images/Minion_what.jpg\" width=\"15%\"  />\n",
    "\n",
    "Here is an example of how we could <i>simulate the data generating process</i> in real life:\n",
    "\n",
    "To work out how likely we are to get 5 heads out of 10 coin tosses, we could...\n",
    "<ul>    \n",
    "    <li>get a real coin (but who has cash on them these days?)\n",
    "    <li>assume it is fair (<i>p = 0.5</i>)\n",
    "    <li>toss it 10 times (because <i>n = 10</i>)\n",
    "    <li>count the number of heads (<i>k</i>)\n",
    "</ul>\n",
    "... \n",
    "\n",
    "Then we could repeat that whole process many times (say, 100 times) and count how often we get exactly 5 heads.\n",
    "\n",
    "Or.... we could get the computer to do that. \n",
    "\n",
    "Yes, let's get the computer to do it. That will be less hassle."
   ]
  },
  {
   "cell_type": "markdown",
   "id": "af044da5",
   "metadata": {},
   "source": [
    "### Set up Python libraries\n",
    "\n",
    "As usual, run the code cell below to import the relevant Python libraries"
   ]
  },
  {
   "cell_type": "code",
   "execution_count": 1,
   "id": "298df5d3",
   "metadata": {},
   "outputs": [],
   "source": [
    "# Set-up Python libraries - you need to run this but you don't need to change it\n",
    "import numpy as np\n",
    "import matplotlib.pyplot as plt\n",
    "import scipy.stats as stats\n",
    "import pandas \n",
    "import seaborn as sns\n",
    "sns.set_theme() # use pretty defaults"
   ]
  },
  {
   "cell_type": "markdown",
   "id": "8fa9e955",
   "metadata": {},
   "source": [
    "### Simulate a single coin toss\n",
    "\n",
    "The computer doesn't really toss a coin. \n",
    "\n",
    "It does someting mathematically equivalent, namely generates a random number called <tt>x</tt> and applies a test to it that will give a \"hit\" a certain proportion of the time, defined by <i>p</i>. \n",
    "\n",
    "If the outcome is a hit,\n",
    "the value of the variable <tt>hit</tt> is set to 1, otherwise <tt>hit</tt> is set to zero\n",
    "\n",
    "Try running the code block below several times and see if you understand what it does. "
   ]
  },
  {
   "cell_type": "code",
   "execution_count": 3,
   "id": "f9e55b39",
   "metadata": {},
   "outputs": [
    {
     "name": "stdout",
     "output_type": "stream",
     "text": [
      "value of random number:  0.1132867521809191\n"
     ]
    }
   ],
   "source": [
    "# generate a random number between 0 and 1\n",
    "x = np.random.uniform(0,1)\n",
    "print('value of random number:  ' + str(x))"
   ]
  },
  {
   "cell_type": "markdown",
   "id": "8246d71c",
   "metadata": {},
   "source": [
    "What happened?\n",
    "\n",
    "We used numpy's random number generator (np.random) to get a number (with decimal places) between 0 and 1. The numbers are drawn from a uniform distribution, which means that any number between 0 and 1 is equally likely.\n",
    "\n",
    "Re run the code block above a few times - you should get a different random number every time.\n",
    "\n",
    "How do we convert this to a virtual 'coin toss'? We need to randomly generate \"hits\" and \"misses\" rather than decimal numbers.\n",
    "\n",
    "To do this we simply add a piece of code that checks whether our random number is greater or less than some number - in this case 0.5, as we should get equal frequencies of random numbers greater than 0.5 and less than 0.5, thus simulating a fair coin.\n"
   ]
  },
  {
   "cell_type": "code",
   "execution_count": 4,
   "id": "b16f0648",
   "metadata": {},
   "outputs": [
    {
     "name": "stdout",
     "output_type": "stream",
     "text": [
      "is it a hit?:            0\n"
     ]
    }
   ],
   "source": [
    "# check if it is less than p - this should happen on a proportion of trials equal to p\n",
    "p=0.5\n",
    "if x>p:\n",
    "    hit = 1\n",
    "else:\n",
    "    hit = 0\n",
    "print('is it a hit?:            ' + str(hit))"
   ]
  },
  {
   "cell_type": "markdown",
   "id": "a5bde5e0",
   "metadata": {},
   "source": [
    "### Simulate 10 coin tosses\n",
    "\n",
    "In our coin tossing example, we need to toss the coin 10 times (<i>n</i> = 10) \n",
    "and count how many hits we get (<i>k</i> = ?)\n",
    "\n",
    "To do this we will create a loop to repeat the coin toss 10 times"
   ]
  },
  {
   "cell_type": "code",
   "execution_count": 5,
   "id": "aff31c89",
   "metadata": {},
   "outputs": [
    {
     "name": "stdout",
     "output_type": "stream",
     "text": [
      "value of random number:  0.9006547235236209\n",
      "is it a hit?:            1\n",
      "value of random number:  0.942617065150711\n",
      "is it a hit?:            1\n",
      "value of random number:  0.35882738506701184\n",
      "is it a hit?:            0\n",
      "value of random number:  0.21206286607133962\n",
      "is it a hit?:            0\n",
      "value of random number:  0.9301649091622186\n",
      "is it a hit?:            1\n",
      "value of random number:  0.1640152255413202\n",
      "is it a hit?:            0\n",
      "value of random number:  0.354301543318568\n",
      "is it a hit?:            0\n",
      "value of random number:  0.5119354838576793\n",
      "is it a hit?:            0\n",
      "value of random number:  0.5209930934165107\n",
      "is it a hit?:            0\n",
      "value of random number:  0.8032444003790099\n",
      "is it a hit?:            1\n"
     ]
    }
   ],
   "source": [
    "for i in np.arange(10):\n",
    "\n",
    "    # generate a random number between 0 and 1\n",
    "    x = np.random.uniform(0,1)\n",
    "    print('value of random number:  ' + str(x))\n",
    "\n",
    "    # check if it is less than p - this should happen on a proportion of trials equal to p\n",
    "    p=0.7\n",
    "    if x>p:\n",
    "        hit = 1\n",
    "    else:\n",
    "        hit = 0\n",
    "    print('is it a hit?:            ' + str(hit))"
   ]
  },
  {
   "cell_type": "markdown",
   "id": "048980e8",
   "metadata": {},
   "source": [
    "<img src= \"https://raw.githubusercontent.com/jillxoreilly/StatsCourseBook/main/images/Minion_ooph.jpeg\" width=\"15%\"  />\n",
    "\n",
    "OK, well the output of that code block was not really user friendly.\n",
    "\n",
    "### Use an array to store the outcomes\n",
    "\n",
    "Now that we know how the virtual coin toss works, \n",
    "we can dispense with printing out the actual value of the random number <tt>x</tt>\n",
    "and just give the 10 binary outcomes (1/0 for hit/miss)"
   ]
  },
  {
   "cell_type": "code",
   "execution_count": 6,
   "id": "f8856d1d",
   "metadata": {},
   "outputs": [
    {
     "name": "stdout",
     "output_type": "stream",
     "text": [
      "0\n",
      "0\n",
      "0\n",
      "1\n",
      "0\n",
      "1\n",
      "0\n",
      "0\n",
      "1\n",
      "1\n"
     ]
    }
   ],
   "source": [
    "for i in np.arange(10):\n",
    "\n",
    "    # generate a random number between 0 and 1\n",
    "    x = np.random.uniform(0,1)\n",
    "\n",
    "    # check if it is less than p - this should happen on a proportion of trials equal to p\n",
    "    p=0.7\n",
    "    if x>p:\n",
    "        hit = 1\n",
    "    else:\n",
    "        hit = 0\n",
    "    print(hit)"
   ]
  },
  {
   "cell_type": "markdown",
   "id": "9a84af27",
   "metadata": {},
   "source": [
    "... but we also want to count the number of hits, so we need to store the outcomes (0/1) in an array\n"
   ]
  },
  {
   "cell_type": "code",
   "execution_count": 7,
   "id": "2864496c",
   "metadata": {},
   "outputs": [
    {
     "name": "stdout",
     "output_type": "stream",
     "text": [
      "outcomes = [0. 0. 0. 0. 0. 0. 0. 1. 1. 0.]\n"
     ]
    }
   ],
   "source": [
    "outcomes = np.empty(10) # create an empty array to store the outcomes\n",
    "\n",
    "for i in np.arange(10):\n",
    "\n",
    "    # generate a random number between 0 and 1\n",
    "    x = np.random.uniform(0,1)\n",
    "\n",
    "    # check if it is less than p - this should happen on a proportion of trials equal to p\n",
    "    p=0.7\n",
    "    if x>p:\n",
    "        hit = 1\n",
    "    else:\n",
    "        hit = 0\n",
    "    \n",
    "    outcomes[i] = hit # store the valuee of 'hit' on this trial in place 'i' in the array 'outcomes'\n",
    "    \n",
    "print('outcomes = ' + str(outcomes))\n"
   ]
  },
  {
   "cell_type": "markdown",
   "id": "180a8d33",
   "metadata": {},
   "source": [
    "... and then we need to count the hits:"
   ]
  },
  {
   "cell_type": "code",
   "execution_count": 8,
   "id": "73807142",
   "metadata": {},
   "outputs": [
    {
     "name": "stdout",
     "output_type": "stream",
     "text": [
      "k = 2.0\n"
     ]
    }
   ],
   "source": [
    "k = np.sum(outcomes)\n",
    "print('k = ' + str(k))"
   ]
  },
  {
   "cell_type": "markdown",
   "id": "23fb3638",
   "metadata": {},
   "source": [
    "Try running the code above a few times and check you understand what is happening.\n",
    "\n",
    "Note that the outcome values 0. and 1. have dots after them just because they are floating point numbers (numbers that could potentially have something after the decimal place rather than being rounded to the neareest whole number)\n",
    "\n",
    "This looks a little awkward but it is just the Python way of writing 0.0 and 1.0 rather than 0 and 1\n"
   ]
  },
  {
   "cell_type": "markdown",
   "id": "5feed370",
   "metadata": {},
   "source": [
    "### Use a built in function\n",
    "\n",
    "Simulating outcomes is actually something coders do a lot so there is a package for it in <tt>numpy</tt>, called <tt>numpy.random</tt>\n",
    "\n",
    "<tt>numpy.random</tt> draws a random sample from a probability distriution (you have to tell it which distribution to use though - binomial, normal or many more). In this case, the number $k$ of heads in $n$ coin tosses follows the <b>binomial distribution</b> as introduced in the lecture:\n",
    "\n",
    "$$ k \\sim \\mathcal{B}(n,p) $$\n",
    "\n",
    "... where $n=10$ and $p=0.5$, ie\n",
    "\n",
    "$$ k \\sim \\mathcal{B}(10,0.5) $$\n",
    "\n",
    "We therefore use <tt>numpy.random.binomial</tt>\n",
    "\n",
    "Let's try - it makes the code a lot more compact"
   ]
  },
  {
   "cell_type": "code",
   "execution_count": 10,
   "id": "11de00d6",
   "metadata": {},
   "outputs": [
    {
     "name": "stdout",
     "output_type": "stream",
     "text": [
      "k = 5\n"
     ]
    }
   ],
   "source": [
    "k = np.random.binomial(10,0.5) # generate 10 samples with a 0.5 chance of a hit, and return the number of hits \n",
    "print('k = ' + str(k))"
   ]
  },
  {
   "cell_type": "markdown",
   "id": "4ea4fda5",
   "metadata": {},
   "source": [
    "The single line of code above does everything that our previous code block did \n",
    "(it doesn't return the outcomes themselves, but we don't actually need them, do we?)\n",
    "\n",
    "<img src= \"https://raw.githubusercontent.com/jillxoreilly/StatsCourseBook/main/images/Minion_tadaaa.jpg\" width=\"15%\"  />\n"
   ]
  },
  {
   "cell_type": "code",
   "execution_count": null,
   "id": "a13d1cae",
   "metadata": {},
   "outputs": [],
   "source": []
  }
 ],
 "metadata": {
  "kernelspec": {
   "display_name": "Python 3 (ipykernel)",
   "language": "python",
   "name": "python3"
  },
  "language_info": {
   "codemirror_mode": {
    "name": "ipython",
    "version": 3
   },
   "file_extension": ".py",
   "mimetype": "text/x-python",
   "name": "python",
   "nbconvert_exporter": "python",
   "pygments_lexer": "ipython3",
   "version": "3.9.13"
  }
 },
 "nbformat": 4,
 "nbformat_minor": 5
}
