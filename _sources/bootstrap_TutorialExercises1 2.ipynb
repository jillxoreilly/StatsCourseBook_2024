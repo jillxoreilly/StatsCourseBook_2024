{
 "cells": [
  {
   "cell_type": "markdown",
   "id": "73be11fd",
   "metadata": {},
   "source": [
    "# Tutorial Exercises\n",
    "\n",
    "In these exercises we will create bootstrapped sampling distributions for all sorts of stuff!\n",
    "\n",
    "We will work with a (made up) dataset containing scores on a wellbeing survey before and after the Christmas vaacation for some Oxford University students"
   ]
  },
  {
   "cell_type": "markdown",
   "id": "a2220f99",
   "metadata": {},
   "source": [
    "### Set up Python libraries\n",
    "\n",
    "As usual, run the code cell below to import the relevant Python libraries"
   ]
  },
  {
   "cell_type": "code",
   "execution_count": null,
   "id": "16e36766",
   "metadata": {},
   "outputs": [],
   "source": [
    "#Set-up Python libraries - you need to run this but you don't need to change it\n",
    "import numpy as np\n",
    "import matplotlib.pyplot as plt\n",
    "import scipy.stats as stats\n",
    "import pandas \n",
    "import seaborn as sns\n",
    "sns.set_theme()"
   ]
  },
  {
   "cell_type": "markdown",
   "id": "52a78088",
   "metadata": {},
   "source": [
    "### Import and view the data"
   ]
  },
  {
   "cell_type": "code",
   "execution_count": null,
   "id": "882db7ed",
   "metadata": {},
   "outputs": [],
   "source": [
    "wb = pandas.read_csv('https://raw.githubusercontent.com/jillxoreilly/StatsCourseBook/main/data/WellbeingSample.csv')\n",
    "wb"
   ]
  },
  {
   "cell_type": "markdown",
   "id": "539598ea",
   "metadata": {},
   "source": [
    "### Plot the distribution of wellbeing scores\n",
    "\n",
    "It's always a good idea to plot the data to familiarize yourself with them and spot any outliers!\n",
    "\n",
    "Below is a basic plot of the wellbeing scores before and after the vacation"
   ]
  },
  {
   "cell_type": "code",
   "execution_count": null,
   "id": "222b5dac",
   "metadata": {},
   "outputs": [],
   "source": [
    "sns.histplot(wb['Score_preVac'], bins=range(1,100,5), color='b', alpha=0.5)\n",
    "sns.histplot(wb['Score_postVac'], bins=range(1,100,5), color='r', alpha=0.5)\n",
    "plt.legend(['before vacation', 'after vacation'])\n",
    "plt.xlabel('wellbeing score')\n",
    "plt.show()"
   ]
  },
  {
   "cell_type": "markdown",
   "id": "e85e2f78",
   "metadata": {},
   "source": [
    "### Did wellbeing increase over the vacation?\n",
    "\n",
    "Say I am interested in the change in wellbeing score across the vacation for psychology students. \n",
    "\n",
    "We are going to calculate the mean change in wellbeing score from pre- to post-vacation measurements and then obtain a bootstrapped confidence interval for this difference\n",
    "\n",
    "If only a small percentage of simulated samples have a negative change in wellbeing over the vacation, we will conclude that we are confident mean wellbbeing increased over the vacation for psychology students\n",
    "\n",
    "Let's start by creating a column in our dataframe for the difference in wellbeing score between pre- and post-vacation measurements"
   ]
  },
  {
   "cell_type": "code",
   "execution_count": null,
   "id": "ca3e7f28",
   "metadata": {},
   "outputs": [],
   "source": [
    "# Your code here!"
   ]
  },
  {
   "cell_type": "markdown",
   "id": "dd80bf68",
   "metadata": {},
   "source": [
    "Now let's \n",
    "<ul>\n",
    "    <li>get the mean change in wellbeing for psychology students\n",
    "<li>find out how many psychology students there are\n",
    "    </ul>"
   ]
  },
  {
   "cell_type": "code",
   "execution_count": null,
   "id": "43706bac",
   "metadata": {},
   "outputs": [],
   "source": [
    "print('mean change = ' + str(##### your code here #####)\n",
    "print('n = ' + str(##### your code here #####))"
   ]
  },
  {
   "cell_type": "markdown",
   "id": "6bfaea27",
   "metadata": {},
   "source": [
    "The mean increase in wellbeing score across the vacation for the 25 Psychology students is 2.68\n",
    "\n",
    "How confident can we be that wellbeing <i>really</i> increases across the vacation, though? If we surveyed a new sample of Psychology students, how close would the change in wellbeing be to 2.68? Would it still be greater than zero (ie would the vacation still increase wellbeing)?\n",
    "\n",
    "We need the sampling distribution of the mean! (the mean change in wellbeing across the vac, that is)\n",
    "\n",
    "Let's simulate it by bootstrapping!"
   ]
  },
  {
   "cell_type": "code",
   "execution_count": null,
   "id": "73e653bb",
   "metadata": {},
   "outputs": [],
   "source": [
    "nReps = # your code here\n",
    "m = # create an empty array to store the sample means\n",
    "n = # your code here\n",
    "\n",
    "for i in range(nReps):\n",
    "    sample = # your code here to draw a sample of size n with replacement fromthe dataframe wb\n",
    "    m[i] = # the mean change in wellbeing across the vacation for this sample\n",
    "\n",
    "sns.histplot(m) # plot the sample means"
   ]
  },
  {
   "cell_type": "markdown",
   "id": "2b3a448e",
   "metadata": {},
   "source": [
    "We can also work out exactly what percentage of the samples have a negative change in wellbeing"
   ]
  },
  {
   "cell_type": "code",
   "execution_count": null,
   "id": "3a132fce",
   "metadata": {},
   "outputs": [],
   "source": [
    "100 * sum(m<0)/len(m)"
   ]
  },
  {
   "cell_type": "markdown",
   "id": "995fd587",
   "metadata": {},
   "source": [
    "I make it about 11% of random (re)samples in which the change in wellbeing is negative.\n",
    "\n",
    "This is some evidence that the change in wellbeing over the vacation is positive but would not be considered staatstically significant in general - more on statistical significance next term"
   ]
  },
  {
   "cell_type": "markdown",
   "id": "6fddbea3",
   "metadata": {},
   "source": [
    "#### 95% confidence interval\n",
    "\n",
    "We can define a 95% confidence interval for the change in wellbeing over the vacation in psychology students as the range in which 95% of (re)sample means fall:"
   ]
  },
  {
   "cell_type": "code",
   "execution_count": null,
   "id": "563de0bb",
   "metadata": {},
   "outputs": [],
   "source": [
    "# The boundaries of the 95% confidence interval \n",
    "# exclude the lowest and highest 2.5% of sample means \n",
    "# (ie exclude 5% of sample means overall)\n",
    "\n",
    "print('lower bound = ' + str(np.quantile(m,0.025)))\n",
    "print('upper bound = ' + str(np.quantile(m,0.975)))"
   ]
  },
  {
   "cell_type": "markdown",
   "id": "4a6841e2",
   "metadata": {},
   "source": [
    "The confidence interval includes zero, meaning no change in wellbeing (or a negative change) is a plausible value for the population change in wellbeing over the vac"
   ]
  },
  {
   "cell_type": "markdown",
   "id": "a87f8ffb",
   "metadata": {},
   "source": [
    "## Is wellbeing higher in Lonsdale than in Beaufort biology students?\n",
    "\n",
    "Let's try bootstrapping something else!\n",
    "\n",
    "Say we want to know if wellbeing (as measured before the vacation) is higher in biology students at Lonsdale or Beaufort college.\n",
    "\n",
    "Let's have a look at the relevant data:"
   ]
  },
  {
   "cell_type": "code",
   "execution_count": null,
   "id": "480c56f6",
   "metadata": {
    "collapsed": true
   },
   "outputs": [],
   "source": []
  },
  {
   "cell_type": "code",
   "execution_count": null,
   "id": "4b725158",
   "metadata": {},
   "outputs": [],
   "source": [
    "# Get the biology students only from the dataframe\n",
    "wb[wb['Subject']=='Biology']"
   ]
  },
  {
   "cell_type": "code",
   "execution_count": null,
   "id": "aab458aa",
   "metadata": {},
   "outputs": [],
   "source": [
    "# count how many biology students in each college using df.value_counts()\n",
    "# your code here!"
   ]
  },
  {
   "cell_type": "markdown",
   "id": "3449a900",
   "metadata": {},
   "source": [
    "Plot their wellbeing scores (before the vac) in a violin plot"
   ]
  },
  {
   "cell_type": "code",
   "execution_count": null,
   "id": "0a55dff3",
   "metadata": {},
   "outputs": [],
   "source": [
    "sns.violinplot(data=wb[wb['Subject']=='Biology'], y='Score_preVac', x='College')"
   ]
  },
  {
   "cell_type": "markdown",
   "id": "27452e99",
   "metadata": {},
   "source": [
    "It looks like Beaufort biologists had slightly higher wellbeing scores but how confident can we be in that difference?\n",
    "\n",
    "We need the sampling distribution for the difference of means for wellbeing score between colleges\n",
    "\n",
    "We can adapt our bootstrap code to do this!"
   ]
  },
  {
   "cell_type": "code",
   "execution_count": null,
   "id": "78f18845",
   "metadata": {},
   "outputs": [],
   "source": [
    "nReps = # your code here\n",
    "mDiff = # create an empty array to store the sample means\n",
    "nL = # number of biologists in Lonsdale college\n",
    "nB = # number of biologists in Beaufort college\n",
    "\n",
    "for i in range(nReps):\n",
    "    sample_Lonsdale = # \n",
    "    sample_Beaufort = #\n",
    "    mDiff[i] = # mean wellbeing of Beaufort biologists minus mean wellbeing of Lonsdale biologists\n",
    "    \n",
    "\n",
    "sns.histplot(mDiff) # plot the sample means"
   ]
  },
  {
   "cell_type": "markdown",
   "id": "d5b67824",
   "metadata": {},
   "source": [
    "In what proportion of (re)samples do Lonsdale biologists actually have higher mean wellbeing?"
   ]
  },
  {
   "cell_type": "code",
   "execution_count": null,
   "id": "aa303dbb",
   "metadata": {},
   "outputs": [],
   "source": [
    "# your code here!"
   ]
  },
  {
   "cell_type": "markdown",
   "id": "e0f8cb39",
   "metadata": {},
   "source": [
    "### Bootstrapped correlation between wellbeing scores before and after the vacation\n",
    "\n",
    "Over the vacation, wellbeing went up overall - but are the students with higher wellbeing before the vacation generally also the ones with higher wellbeing after the vacation?\n",
    "\n",
    "Let's get an overview by plotting the data"
   ]
  },
  {
   "cell_type": "code",
   "execution_count": null,
   "id": "ea79f128",
   "metadata": {},
   "outputs": [],
   "source": [
    "sns.scatterplot(data=wb, x='Score_preVac', y='Score_postVac')"
   ]
  },
  {
   "cell_type": "markdown",
   "id": "478a925f",
   "metadata": {},
   "source": [
    "It looks like there is a fairly strong correlation between wellbeing scores before and after the vacation for the same individual.\n",
    "\n",
    "The correlation might be exaggerated by a few outliers with particularly low scores, so let's use Spearman's correlation coefficient:"
   ]
  },
  {
   "cell_type": "code",
   "execution_count": null,
   "id": "194d7d7a",
   "metadata": {},
   "outputs": [],
   "source": [
    "wb['Score_preVac'].corr(wb['Score_postVac'], method='spearman')"
   ]
  },
  {
   "cell_type": "markdown",
   "id": "2e09fc86",
   "metadata": {},
   "source": [
    "I want to know how confident I can be that wellbeing before and after the vacation are correlated\n",
    "\n",
    "I need a sampling distribution for the correlation coefficient $r$\n",
    "\n",
    "I can obtain this using bootstrapping:"
   ]
  },
  {
   "cell_type": "code",
   "execution_count": null,
   "id": "cb2ffc11",
   "metadata": {},
   "outputs": [],
   "source": [
    "nReps=# your code here\n",
    "r=# your code here\n",
    "n=# your code here\n",
    "\n",
    "for i in range(nReps):\n",
    "    sample = # your code here\n",
    "    r[i] = # your code here\n",
    "\n",
    "sns.histplot(r)\n",
    "plt.xlabel('sample correlation, $r_s$')\n",
    "plt.show()"
   ]
  },
  {
   "cell_type": "markdown",
   "id": "11cf5334",
   "metadata": {},
   "source": [
    "We can see that all the (re)samples have a strong positive correlation between wellbeing before and after the vacation\n",
    "\n",
    "Can you obtain a 95% confidence interval for the correlation coefficient $r_s$?"
   ]
  },
  {
   "cell_type": "code",
   "execution_count": null,
   "id": "921a182e",
   "metadata": {},
   "outputs": [],
   "source": [
    "# your code here\n",
    "print(str(np.quantile(r,0.025)) + ',' + str(np.quantile(r,0.975)))"
   ]
  },
  {
   "cell_type": "markdown",
   "id": "6e93eed5",
   "metadata": {},
   "source": [
    "## Further exercises\n",
    "\n",
    "#### Bootstrapped correlation in a smaller sample\n",
    "\n",
    "The sample correlation between wellbeing before and after the vacation was very reliably positive, partly because the correlation coefficient was high (in other words, we ca see there *is* a strong correlation in the scatterplot) and partly because $n$ is large\n",
    "\n",
    "Let's look at the same correlation- wellbeing before and after the vac- in a smaller sample- just the Psychology students:"
   ]
  },
  {
   "cell_type": "code",
   "execution_count": null,
   "id": "9d7665f4",
   "metadata": {},
   "outputs": [],
   "source": [
    "psy=wb[wb['Subject']=='Psychology']\n",
    "sns.scatterplot(data=psy, x='Score_preVac', y='Score_postVac')"
   ]
  },
  {
   "cell_type": "markdown",
   "id": "5cac2009",
   "metadata": {},
   "source": [
    "Let's get the correlation coefficient:"
   ]
  },
  {
   "cell_type": "code",
   "execution_count": null,
   "id": "486271fb",
   "metadata": {},
   "outputs": [],
   "source": [
    "psy['Score_preVac'].corr(psy['Score_postVac'], method='spearman')"
   ]
  },
  {
   "cell_type": "markdown",
   "id": "69bd9e3d",
   "metadata": {},
   "source": [
    "There is a positive correlation,although it is weaker than the correlation in the whole dataset of 300 students.\n",
    "\n",
    "Intuitively, just from looking at the scatterplot, it feels that if we drew random samples from just the psychology students, we would find some random samples with a zero or even negative correlation between wellbeing before and after the vacation - much more likely that when we were working with the full dataset of 300 students.\n",
    "\n",
    "<ul>\n",
    "    <li> Obtain a bootstrapped sampling distriubtion for the correlation coefficient r\n",
    "    <li> What proportion of the (re)samples have r less than 0?\n",
    "    <li> Obtain at 95% confidence interval for r\n",
    "</ul>"
   ]
  },
  {
   "cell_type": "code",
   "execution_count": null,
   "id": "4c3e47ab",
   "metadata": {},
   "outputs": [],
   "source": [
    "# Your code here!"
   ]
  },
  {
   "cell_type": "code",
   "execution_count": null,
   "id": "a281b404",
   "metadata": {},
   "outputs": [],
   "source": [
    "sum(r<0)/len(r)\n",
    "\n",
    "wb['Score_preVac'].quantile(0.06)"
   ]
  }
 ],
 "metadata": {
  "kernelspec": {
   "display_name": "Python 3 (ipykernel)",
   "language": "python",
   "name": "python3"
  },
  "language_info": {
   "codemirror_mode": {
    "name": "ipython",
    "version": 3
   },
   "file_extension": ".py",
   "mimetype": "text/x-python",
   "name": "python",
   "nbconvert_exporter": "python",
   "pygments_lexer": "ipython3",
   "version": "3.9.13"
  }
 },
 "nbformat": 4,
 "nbformat_minor": 5
}
