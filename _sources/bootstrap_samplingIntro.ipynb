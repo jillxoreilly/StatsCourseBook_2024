{
 "cells": [
  {
   "cell_type": "markdown",
   "id": "de3cf593",
   "metadata": {},
   "source": [
    "# Sampling with and without replacement\n",
    "\n",
    "### Set up Python libraries\n",
    "\n",
    "As usual, run the code cell below to import the relevant Python libraries\n"
   ]
  },
  {
   "cell_type": "code",
   "execution_count": 1,
   "id": "ea3026d8",
   "metadata": {},
   "outputs": [],
   "source": [
    "#Set-up Python libraries - you need to run this but you don't need to change it\n",
    "import numpy as np\n",
    "import matplotlib.pyplot as plt\n",
    "import scipy.stats as stats\n",
    "import pandas \n",
    "import seaborn as sns\n",
    "sns.set_theme()"
   ]
  },
  {
   "cell_type": "markdown",
   "id": "a4919fcb",
   "metadata": {},
   "source": [
    "### Toy example\n",
    "\n",
    "Let's explore the idea of sampling with and without replacement using a very simple example (a simple example designed just to illustrate a point is sometimes called a <i>toy example</i>)\n",
    "\n",
    "Say I have a dataset listing four children's pets:\n",
    "\n",
    "[cat, dog, cat, rabbit]\n",
    "\n",
    "If I sample from this dataset, I get a new list of pets. Say I draw a sample of size $𝑛=2$, my sample might be [cat, cat] (if I'm lucky- I love cats!)\n",
    "\n",
    "\n",
    "#### Without replacement\n",
    "\n",
    "If I sample without replacement, after I have 'drawn' my first sample pet fromt the original dataset, I cannot draw it again - my next sample pet will be drawn from the remaining three. The consequence of this is that all samples of size 𝑛=4 contain all of the original 4 pets, albeit in a different order\n",
    "\n",
    "[cat, cat, dog, rabbit]\n",
    "\n",
    "[rabbit, cat, dog, cat]\n",
    "\n",
    "[cat, dog, rabbit, cat]\n",
    "\n",
    "etc\n",
    "\n",
    "#### With replacement\n",
    "\n",
    "If I sample with replacement, each 'draw' can be any of the four animals (think of it like pulling a card from a deck, checking which animal is on it, and then replacing the card in the deck before the next sample is drawn).\n",
    "\n",
    "So I could get:\n",
    "\n",
    "[cat, cat, cat, cat]\n",
    "\n",
    "if I'm really lucky!\n",
    "\n",
    "or more likely:\n",
    "\n",
    "[cat, dog, cat, cat]\n",
    "\n",
    "[rabbit, dog, cat, rabbit]\n",
    "\n",
    "... etc\n",
    "\n",
    "Let's try it, replacing the animals with numbers: dog = 1, cat = 2, rabbit = 3"
   ]
  },
  {
   "cell_type": "code",
   "execution_count": 2,
   "id": "8fc3ee28",
   "metadata": {},
   "outputs": [
    {
     "name": "stdout",
     "output_type": "stream",
     "text": [
      "sample 0 = [2 3 1 2]\n",
      "sample 1 = [2 2 1 3]\n",
      "sample 2 = [3 2 2 1]\n",
      "sample 3 = [2 3 1 2]\n",
      "sample 4 = [2 1 2 3]\n",
      "sample 5 = [3 2 1 2]\n",
      "sample 6 = [2 1 3 2]\n",
      "sample 7 = [3 2 1 2]\n",
      "sample 8 = [1 2 2 3]\n",
      "sample 9 = [2 2 3 1]\n"
     ]
    }
   ],
   "source": [
    "# Sampling without replacement\n",
    "data = [2,1,3,2]\n",
    "nReps= 10\n",
    "\n",
    "for i in range(nReps):\n",
    "    sample = np.random.choice(data,4,replace=False)\n",
    "    print('sample ' + str(i) + ' = ' + str(sample))"
   ]
  },
  {
   "cell_type": "markdown",
   "id": "618dc6c4",
   "metadata": {},
   "source": [
    "When sampling without replacement each sample should be identical in contents (albeit in a random order) - this is clearer if I sort the sample values in ascending order:"
   ]
  },
  {
   "cell_type": "code",
   "execution_count": 6,
   "id": "fb5cdfb5",
   "metadata": {},
   "outputs": [
    {
     "name": "stdout",
     "output_type": "stream",
     "text": [
      "sample 0 = [1 2 2 3]\n",
      "sample 1 = [1 2 2 3]\n",
      "sample 2 = [1 2 2 3]\n",
      "sample 3 = [1 2 2 3]\n",
      "sample 4 = [1 2 2 3]\n",
      "sample 5 = [1 2 2 3]\n",
      "sample 6 = [1 2 2 3]\n",
      "sample 7 = [1 2 2 3]\n",
      "sample 8 = [1 2 2 3]\n",
      "sample 9 = [1 2 2 3]\n"
     ]
    }
   ],
   "source": [
    "# Sampling without replacement\n",
    "data = [2,1,3,2]\n",
    "nReps= 10\n",
    "\n",
    "for i in range(nReps):\n",
    "    sample = np.random.choice(data,4,replace=False)\n",
    "    print('sample ' + str(i) + ' = ' + str(np.sort(sample)))"
   ]
  },
  {
   "cell_type": "markdown",
   "id": "50d1b7a0",
   "metadata": {},
   "source": [
    "<ul>\n",
    "    <li>Can you change the code above to sample <i>with</i> replacement?\n",
    "    <li>In your samples drawn with replacement, look for those which are not simply permutations of the original four datapoints (animals) but contain more or fewer cats/dogs/rabbits than expected\n",
    "</ul>"
   ]
  },
  {
   "cell_type": "markdown",
   "id": "97c493ef",
   "metadata": {},
   "source": [
    "### Real world examples\n",
    "\n",
    "A real world example of sampling without replacement would be if we give 100 students a wellbeing questionairre - each student in our sample is a member of the parent distribution (all students/ allstudents in the college we were sampling from etc). We will only want to survey each student once.\n",
    "\n",
    "A real world of example of sampling with replacement is rolling a dice. Each diceroll yeilds an outcome (1-6) that is a sample from an infinite selection of possible outcomes (think of it as drawing a card from a deck of cards with numbers 1-6 on them, but because there are an infinite number of cards, 'using up' a six doesn't reduce the change of the next diceroll being a six)."
   ]
  },
  {
   "cell_type": "markdown",
   "id": "6b35cdee",
   "metadata": {},
   "source": [
    "## Sampling from a <tt>Pandas</tt> dataframe\n",
    "\n",
    "In the example above our 'pets' were a <tt>numpy</tt> array, but more often our data are supplied as a dataframe (a table containing columns with text and numbers, with headings etc)\n",
    "\n",
    "<tt>Pandas</tt> has a handy built-in sampling function which does a similar job to <tt>numpy.random.choice()</tt> but for sampling within a <tt>Pandas</tt> dataframe\n",
    "\n",
    "Let's see it at work:"
   ]
  },
  {
   "cell_type": "code",
   "execution_count": 14,
   "id": "3a364b69",
   "metadata": {},
   "outputs": [
    {
     "data": {
      "text/html": [
       "<div>\n",
       "<style scoped>\n",
       "    .dataframe tbody tr th:only-of-type {\n",
       "        vertical-align: middle;\n",
       "    }\n",
       "\n",
       "    .dataframe tbody tr th {\n",
       "        vertical-align: top;\n",
       "    }\n",
       "\n",
       "    .dataframe thead th {\n",
       "        text-align: right;\n",
       "    }\n",
       "</style>\n",
       "<table border=\"1\" class=\"dataframe\">\n",
       "  <thead>\n",
       "    <tr style=\"text-align: right;\">\n",
       "      <th></th>\n",
       "      <th>Child</th>\n",
       "      <th>Pet</th>\n",
       "    </tr>\n",
       "  </thead>\n",
       "  <tbody>\n",
       "    <tr>\n",
       "      <th>0</th>\n",
       "      <td>Anna</td>\n",
       "      <td>cat</td>\n",
       "    </tr>\n",
       "    <tr>\n",
       "      <th>1</th>\n",
       "      <td>Betty</td>\n",
       "      <td>cat</td>\n",
       "    </tr>\n",
       "    <tr>\n",
       "      <th>2</th>\n",
       "      <td>Charley</td>\n",
       "      <td>cat</td>\n",
       "    </tr>\n",
       "    <tr>\n",
       "      <th>3</th>\n",
       "      <td>David</td>\n",
       "      <td>dog</td>\n",
       "    </tr>\n",
       "    <tr>\n",
       "      <th>4</th>\n",
       "      <td>Egbert</td>\n",
       "      <td>cat</td>\n",
       "    </tr>\n",
       "    <tr>\n",
       "      <th>5</th>\n",
       "      <td>Freddie</td>\n",
       "      <td>rabbit</td>\n",
       "    </tr>\n",
       "    <tr>\n",
       "      <th>6</th>\n",
       "      <td>Georgia</td>\n",
       "      <td>dog</td>\n",
       "    </tr>\n",
       "    <tr>\n",
       "      <th>7</th>\n",
       "      <td>Henrietta</td>\n",
       "      <td>cat</td>\n",
       "    </tr>\n",
       "  </tbody>\n",
       "</table>\n",
       "</div>"
      ],
      "text/plain": [
       "       Child     Pet\n",
       "0       Anna     cat\n",
       "1      Betty     cat\n",
       "2    Charley     cat\n",
       "3      David     dog\n",
       "4     Egbert     cat\n",
       "5    Freddie  rabbit\n",
       "6    Georgia     dog\n",
       "7  Henrietta     cat"
      ]
     },
     "execution_count": 14,
     "metadata": {},
     "output_type": "execute_result"
    }
   ],
   "source": [
    "pets = pandas.read_csv('https://raw.githubusercontent.com/jillxoreilly/StatsCourseBook/main/data/pets.csv')\n",
    "pets"
   ]
  },
  {
   "cell_type": "code",
   "execution_count": 15,
   "id": "a13f2c47",
   "metadata": {},
   "outputs": [
    {
     "data": {
      "text/html": [
       "<div>\n",
       "<style scoped>\n",
       "    .dataframe tbody tr th:only-of-type {\n",
       "        vertical-align: middle;\n",
       "    }\n",
       "\n",
       "    .dataframe tbody tr th {\n",
       "        vertical-align: top;\n",
       "    }\n",
       "\n",
       "    .dataframe thead th {\n",
       "        text-align: right;\n",
       "    }\n",
       "</style>\n",
       "<table border=\"1\" class=\"dataframe\">\n",
       "  <thead>\n",
       "    <tr style=\"text-align: right;\">\n",
       "      <th></th>\n",
       "      <th>Child</th>\n",
       "      <th>Pet</th>\n",
       "    </tr>\n",
       "  </thead>\n",
       "  <tbody>\n",
       "    <tr>\n",
       "      <th>2</th>\n",
       "      <td>Charley</td>\n",
       "      <td>cat</td>\n",
       "    </tr>\n",
       "    <tr>\n",
       "      <th>3</th>\n",
       "      <td>David</td>\n",
       "      <td>dog</td>\n",
       "    </tr>\n",
       "    <tr>\n",
       "      <th>1</th>\n",
       "      <td>Betty</td>\n",
       "      <td>cat</td>\n",
       "    </tr>\n",
       "  </tbody>\n",
       "</table>\n",
       "</div>"
      ],
      "text/plain": [
       "     Child  Pet\n",
       "2  Charley  cat\n",
       "3    David  dog\n",
       "1    Betty  cat"
      ]
     },
     "execution_count": 15,
     "metadata": {},
     "output_type": "execute_result"
    }
   ],
   "source": [
    "# draw a sample of size n=3 without replacement\n",
    "pets.sample(3, replace=False)"
   ]
  },
  {
   "cell_type": "code",
   "execution_count": 16,
   "id": "de8546f7",
   "metadata": {},
   "outputs": [
    {
     "data": {
      "text/html": [
       "<div>\n",
       "<style scoped>\n",
       "    .dataframe tbody tr th:only-of-type {\n",
       "        vertical-align: middle;\n",
       "    }\n",
       "\n",
       "    .dataframe tbody tr th {\n",
       "        vertical-align: top;\n",
       "    }\n",
       "\n",
       "    .dataframe thead th {\n",
       "        text-align: right;\n",
       "    }\n",
       "</style>\n",
       "<table border=\"1\" class=\"dataframe\">\n",
       "  <thead>\n",
       "    <tr style=\"text-align: right;\">\n",
       "      <th></th>\n",
       "      <th>Child</th>\n",
       "      <th>Pet</th>\n",
       "    </tr>\n",
       "  </thead>\n",
       "  <tbody>\n",
       "    <tr>\n",
       "      <th>6</th>\n",
       "      <td>Georgia</td>\n",
       "      <td>dog</td>\n",
       "    </tr>\n",
       "    <tr>\n",
       "      <th>0</th>\n",
       "      <td>Anna</td>\n",
       "      <td>cat</td>\n",
       "    </tr>\n",
       "    <tr>\n",
       "      <th>2</th>\n",
       "      <td>Charley</td>\n",
       "      <td>cat</td>\n",
       "    </tr>\n",
       "    <tr>\n",
       "      <th>7</th>\n",
       "      <td>Henrietta</td>\n",
       "      <td>cat</td>\n",
       "    </tr>\n",
       "    <tr>\n",
       "      <th>4</th>\n",
       "      <td>Egbert</td>\n",
       "      <td>cat</td>\n",
       "    </tr>\n",
       "    <tr>\n",
       "      <th>5</th>\n",
       "      <td>Freddie</td>\n",
       "      <td>rabbit</td>\n",
       "    </tr>\n",
       "    <tr>\n",
       "      <th>7</th>\n",
       "      <td>Henrietta</td>\n",
       "      <td>cat</td>\n",
       "    </tr>\n",
       "    <tr>\n",
       "      <th>1</th>\n",
       "      <td>Betty</td>\n",
       "      <td>cat</td>\n",
       "    </tr>\n",
       "  </tbody>\n",
       "</table>\n",
       "</div>"
      ],
      "text/plain": [
       "       Child     Pet\n",
       "6    Georgia     dog\n",
       "0       Anna     cat\n",
       "2    Charley     cat\n",
       "7  Henrietta     cat\n",
       "4     Egbert     cat\n",
       "5    Freddie  rabbit\n",
       "7  Henrietta     cat\n",
       "1      Betty     cat"
      ]
     },
     "execution_count": 16,
     "metadata": {},
     "output_type": "execute_result"
    }
   ],
   "source": [
    "# draw a sample of size n=8 with replacement\n",
    "pets.sample(8, replace=True)"
   ]
  },
  {
   "cell_type": "code",
   "execution_count": 11,
   "id": "dc9466ae",
   "metadata": {},
   "outputs": [
    {
     "data": {
      "text/plain": [
       "0    cat\n",
       "3    dog\n",
       "4    cat\n",
       "0    cat\n",
       "1    cat\n",
       "6    dog\n",
       "6    dog\n",
       "0    cat\n",
       "Name: Pet, dtype: object"
      ]
     },
     "execution_count": 11,
     "metadata": {},
     "output_type": "execute_result"
    }
   ],
   "source": [
    "# just get the column 'Pet'\n",
    "pets.sample(8, replace=True)['Pet']"
   ]
  },
  {
   "cell_type": "code",
   "execution_count": 13,
   "id": "dea41265",
   "metadata": {},
   "outputs": [
    {
     "data": {
      "text/plain": [
       "4"
      ]
     },
     "execution_count": 13,
     "metadata": {},
     "output_type": "execute_result"
    }
   ],
   "source": [
    "# count the cats!\n",
    "sum(pets.sample(8, replace=True)['Pet']=='cat')"
   ]
  },
  {
   "cell_type": "markdown",
   "id": "dc87e38d",
   "metadata": {},
   "source": [
    "<b>OK, now we are ready to meet The Bootstrap!</b>"
   ]
  },
  {
   "cell_type": "code",
   "execution_count": null,
   "id": "aa0fdf9a",
   "metadata": {},
   "outputs": [],
   "source": []
  }
 ],
 "metadata": {
  "kernelspec": {
   "display_name": "Python 3 (ipykernel)",
   "language": "python",
   "name": "python3"
  },
  "language_info": {
   "codemirror_mode": {
    "name": "ipython",
    "version": 3
   },
   "file_extension": ".py",
   "mimetype": "text/x-python",
   "name": "python",
   "nbconvert_exporter": "python",
   "pygments_lexer": "ipython3",
   "version": "3.9.13"
  }
 },
 "nbformat": 4,
 "nbformat_minor": 5
}
