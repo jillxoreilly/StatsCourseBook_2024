{
 "cells": [
  {
   "cell_type": "markdown",
   "id": "8d1a084c-7545-4642-91cf-14fd8f83d5da",
   "metadata": {},
   "source": [
    "# Tutorial Exercises\n",
    "\n",
    "These tutorial exercises are designed to help you prepare for the first assignment.\n",
    "\n",
    "As a researcher, there are two distinct phases to data analysis:\n",
    "\n",
    "* Understanding the dataset yourself - this involves making lots of quick plots and descriptive statistics to\n",
    "    * check for outliers\n",
    "    * find out the data distributions\n",
    "    * look for differences between categories\n",
    "    * look for associations between variables\n",
    "    \n",
    "* Preparing a report for a reader - this involves a focus on readability\n",
    "    * explaining any key features of the dataset\n",
    "    * highlighting key results with descriptive statistics and figures\n",
    "    * figures should be well labelled and tweaked to make your point as clearly as possible\n",
    "    * there should be clear, readable explanatory text\n",
    "    \n",
    "In these tutorial exercises, you will complete some guided tasks (and some open-ended ones) to explore the dataset for yourself.\n",
    "\n",
    "For the hand-in assignment, you will produce a report for a specified audience."
   ]
  },
  {
   "cell_type": "code",
   "execution_count": null,
   "id": "ff3dce17-4ee3-4465-82fe-a407d367f5b0",
   "metadata": {},
   "outputs": [],
   "source": []
  },
  {
   "cell_type": "code",
   "execution_count": null,
   "id": "1554b98c-c04a-46cc-a457-c79ecf32747e",
   "metadata": {},
   "outputs": [],
   "source": []
  },
  {
   "cell_type": "code",
   "execution_count": null,
   "id": "ed0a4a83-0abd-4806-b6de-a0b4036ef079",
   "metadata": {},
   "outputs": [],
   "source": [
    "# Set-up Python libraries - you need to run this but you don't need to change it\n",
    "import numpy as np\n",
    "import matplotlib.pyplot as plt\n",
    "import scipy.stats as stats\n",
    "import pandas as pd\n",
    "import seaborn as sns\n",
    "sns.set_theme(style='white')\n",
    "import statsmodels.api as sm\n",
    "import statsmodels.formula.api as smf"
   ]
  }
 ],
 "metadata": {
  "kernelspec": {
   "display_name": "Python 3 (ipykernel)",
   "language": "python",
   "name": "python3"
  },
  "language_info": {
   "codemirror_mode": {
    "name": "ipython",
    "version": 3
   },
   "file_extension": ".py",
   "mimetype": "text/x-python",
   "name": "python",
   "nbconvert_exporter": "python",
   "pygments_lexer": "ipython3",
   "version": "3.9.18"
  }
 },
 "nbformat": 4,
 "nbformat_minor": 5
}
