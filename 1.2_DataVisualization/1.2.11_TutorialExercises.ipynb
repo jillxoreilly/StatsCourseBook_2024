{
 "cells": [
  {
   "cell_type": "markdown",
   "id": "5acb658a",
   "metadata": {},
   "source": [
    "# Tutorial Exercises\n",
    "\n",
    "You should work through this is the tutorial. The idea is to bring together the skills you have learned (and highlight any gaps to discuss with your tutor)\n",
    "\n",
    "## Oxford vs Cambridge\n",
    "\n",
    "We will work with historical data from the Oxford and Cambridge weather stations\n",
    "\n",
    "<img src= \"https://raw.githubusercontent.com/jillxoreilly/StatsCourseBook_2024/main/images/OxfordSnow.jpg\" width=\"50%\"  />"
   ]
  },
  {
   "cell_type": "markdown",
   "id": "c368db3e",
   "metadata": {},
   "source": [
    "### Set up Python libraries\n",
    "\n",
    "As usual, run the code cell below to import the relevant Python libraries"
   ]
  },
  {
   "cell_type": "code",
   "execution_count": 2,
   "id": "159964a1",
   "metadata": {},
   "outputs": [],
   "source": [
    "# Set-up Python libraries - you need to run this but you don't need to change it\n",
    "import numpy as np\n",
    "import matplotlib.pyplot as plt\n",
    "import scipy.stats as stats\n",
    "import pandas as pd\n",
    "import seaborn as sns\n",
    "sns.set_theme(style='white')\n",
    "import statsmodels.api as sm\n",
    "import statsmodels.formula.api as smf"
   ]
  },
  {
   "cell_type": "markdown",
   "id": "d9ce162e",
   "metadata": {},
   "source": [
    "### Load and inspect the data\n",
    "\n",
    "Let's load some historical data about the weather in Oxford, from the file \"OxfordWeather.csv\""
   ]
  },
  {
   "cell_type": "code",
   "execution_count": null,
   "id": "0691586e",
   "metadata": {},
   "outputs": [],
   "source": [
    "weather = pd.read_csv(\"https://raw.githubusercontent.com/jillxoreilly/StatsCourseBook_2024/main/data/OxfordWeather.csv\")\n",
    "display(weather)"
   ]
  },
  {
   "cell_type": "markdown",
   "id": "46fc067e",
   "metadata": {},
   "source": [
    "### Max and Min temperature\n",
    "\n",
    "Let's make two figures using box plots (or violin plots, you choose) to display the distribution of:\n",
    "<ul>\n",
    "    <li>Tmax (max temperature over 24 hours) \n",
    "    <li>Tmin (min temperature over 24 hours) \n",
    "</ul>\n",
    "month-by-month over the year (there should be one box per month so you can see temp rise and fall over the year, as we did for Tmean in the boxplot exercises).\n",
    "\n",
    "Make your figures as subplots in a larger figure so they sit next to or one above each other - you decide which is allows for a more meaningful comparison\n",
    "\n",
    "Consider the range of the axes to make the plots easy to compare.\n",
    "\n",
    "You might want to increase the spacing between plots - you can find a line of code for this on the 'tweaks' worksheet"
   ]
  },
  {
   "cell_type": "code",
   "execution_count": null,
   "id": "23f63a40",
   "metadata": {},
   "outputs": [],
   "source": [
    "# your code here!"
   ]
  },
  {
   "cell_type": "markdown",
   "id": "fd820506",
   "metadata": {},
   "source": [
    "Which did you choose - box plot or violin plot? Why?\n",
    "\n",
    "Let's try the same thing but comparing mean temperature (Tmean) and rainfall - the relationship isn't nearly as clear"
   ]
  },
  {
   "cell_type": "code",
   "execution_count": 1,
   "id": "f89251d6",
   "metadata": {},
   "outputs": [],
   "source": [
    "# your code here for boxplots or violin plots for Tmean and Rainfall_mm "
   ]
  },
  {
   "cell_type": "markdown",
   "id": "2a6a5e3e",
   "metadata": {},
   "source": [
    "### Scatterplot\n",
    "\n",
    "Let's make a scatterplot of two variables that should definitely be related - Tmin and Tmax, the daily minimum and maximum temperature (say on 21st June the temp peaks at 25 degrees in mid afternoon, but falls to 8 degrees by 3am: Tmax=25 and Tmin=8 for that day)"
   ]
  },
  {
   "cell_type": "code",
   "execution_count": null,
   "id": "986960f2",
   "metadata": {},
   "outputs": [],
   "source": [
    "# your code here to make the scatterplot!"
   ]
  },
  {
   "cell_type": "markdown",
   "id": "a77b8a4c",
   "metadata": {},
   "source": [
    "We see that Tmin and Tmax are indeed related, but there are some days with a large temperature range (high TMax and low Tmin) and others with a low range (Tmax and Tmin nearly equal).\n",
    "\n",
    "Add the line x=y to the plot so you can see where the data would fall if Tmax=Tmin on a given day.\n",
    "\n",
    "\n",
    "\n"
   ]
  },
  {
   "cell_type": "code",
   "execution_count": null,
   "id": "9ff66d16",
   "metadata": {},
   "outputs": [],
   "source": [
    "# your code here!"
   ]
  },
  {
   "cell_type": "markdown",
   "id": "6b7feed4",
   "metadata": {},
   "source": [
    "Let's plot the daily temperature range (Trange) in each month to find out if there is a pattern.\n",
    "\n",
    "Choose an appropriate plot for this yourself."
   ]
  },
  {
   "cell_type": "code",
   "execution_count": null,
   "id": "edd26258",
   "metadata": {},
   "outputs": [],
   "source": [
    "# Your code here!"
   ]
  },
  {
   "cell_type": "markdown",
   "id": "ebad89e7",
   "metadata": {},
   "source": [
    "It seems months with higher temperatures also have a larger daily temperature range."
   ]
  },
  {
   "cell_type": "markdown",
   "id": "dbfbb20b",
   "metadata": {},
   "source": [
    "### Temp vs rainfall\n",
    "\n",
    "We have seen that rainfall is fairly evenly spread over the months and temp is not. But is there any relationship between rainfall and temperature on a day-by-day basis? \n",
    "\n",
    "Make a scatterplot to find out!"
   ]
  },
  {
   "cell_type": "code",
   "execution_count": null,
   "id": "1f82dd73",
   "metadata": {},
   "outputs": [],
   "source": [
    "# your code here!"
   ]
  },
  {
   "cell_type": "markdown",
   "id": "b097d794",
   "metadata": {},
   "source": [
    "Interesting, it looks almost like high rainfall is more likely on warm days, but the plot is so crowded it is a bit hard to tell\n",
    "\n",
    "### Fancy joint plots\n",
    "\n",
    "You can use the function <tt>sns.jointplot</tt> that we saw before (scatterplot plus the two marginal histograms) to make some fancy plots!\n",
    "\n",
    "Let's revisit the relationship between Tmin and Tmax"
   ]
  },
  {
   "cell_type": "code",
   "execution_count": null,
   "id": "308dbd5e",
   "metadata": {},
   "outputs": [],
   "source": [
    "sns.jointplot(data=weather, x='Tmin', y='Tmax')"
   ]
  },
  {
   "cell_type": "markdown",
   "id": "b9705c4a",
   "metadata": {},
   "source": [
    "That scatterplot is too crowded. How about a 2D histogram in which shading indicates the count of datapoints in each square?"
   ]
  },
  {
   "cell_type": "code",
   "execution_count": null,
   "id": "6d6298f8",
   "metadata": {},
   "outputs": [],
   "source": [
    "sns.jointplot(data=weather, x='Tmin', y='Tmax', kind='hist')"
   ]
  },
  {
   "cell_type": "markdown",
   "id": "16d855a3",
   "metadata": {},
   "source": [
    "Or a join kde plot? Change 'kind' to <tt>kde</tt> above\n",
    "\n",
    "Or how about a hex plot? Change 'kind' to <tt>hex</tt> above\n",
    "\n",
    "You can find many more nice examples in the <a href=\"http://seaborn.pydata.org/examples/index.html\">Seaborn Gallery</a> - why not try some out? If you click on any of the pictures of plots you get the code snippet for the plot."
   ]
  },
  {
   "cell_type": "markdown",
   "id": "1074ffb2",
   "metadata": {},
   "source": [
    "<img src= \"https://raw.githubusercontent.com/jillxoreilly/StatsCourseBook_2024/main/images/OxfordSnow.jpg\" width=\"50%\"  />"
   ]
  },
  {
   "cell_type": "code",
   "execution_count": null,
   "id": "aa0b27d9",
   "metadata": {},
   "outputs": [],
   "source": []
  }
 ],
 "metadata": {
  "kernelspec": {
   "display_name": "Python 3 (ipykernel)",
   "language": "python",
   "name": "python3"
  },
  "language_info": {
   "codemirror_mode": {
    "name": "ipython",
    "version": 3
   },
   "file_extension": ".py",
   "mimetype": "text/x-python",
   "name": "python",
   "nbconvert_exporter": "python",
   "pygments_lexer": "ipython3",
   "version": "3.9.18"
  }
 },
 "nbformat": 4,
 "nbformat_minor": 5
}
