{
 "cells": [
  {
   "cell_type": "markdown",
   "id": "1c86d6e8",
   "metadata": {},
   "source": [
    "<html><head>\n",
    "<style>\n",
    "body {background-color: powderblue;}\n",
    "h1   {color: blue;}\n",
    "p    {color: red;}\n",
    "</style>\n",
    "</head>\n",
    "<body>"
   ]
  },
  {
   "cell_type": "markdown",
   "id": "ec3e2a53",
   "metadata": {},
   "source": [
    "# Simulated coin toss\n",
    "\n",
    "To get a feel for how likely different outcomes are, we are going to <i>simulate the data generating process</i>\n",
    "\n",
    "<img src=\"images/Minion_what.jpg\" width=10% alt=\"What?!\" >\n",
    "\n",
    "Here is an example of how we could <i>simulate the data generating process</i> in real life:\n",
    "\n",
    "To work out how likely we are to get 5 heads out of 10 coin tosses, we could...\n",
    "<ul>    \n",
    "    <li>get a real coin (but who has cash on them these days?)\n",
    "    <li>assume it is fair (<i>p = 0.5</i>)\n",
    "    <li>toss it 10 times (because <i>n = 10</i>)\n",
    "    <li>count the number of heads (<i>k</i>)\n",
    "</ul>\n",
    "... \n",
    "\n",
    "Then we could repeat that whole process many times (say, 100 times) and count how often we get exactly 5 heads.\n",
    "\n",
    "Or.... we could get the computer to do that. \n",
    "\n",
    "Yes, let's get the computer to do it. That will be less hassle."
   ]
  },
  {
   "cell_type": "markdown",
   "id": "4494f79c",
   "metadata": {},
   "source": [
    "### Set up Python libraries\n",
    "\n",
    "As usual, run the code cell below to import the relevant Python libraries"
   ]
  },
  {
   "cell_type": "code",
   "execution_count": 4,
   "id": "2fee7133",
   "metadata": {},
   "outputs": [],
   "source": [
    "# Set-up Python libraries - you need to run this but you don't need to change it\n",
    "import numpy as np\n",
    "import matplotlib.pyplot as plt\n",
    "import scipy.stats as stats\n",
    "import pandas \n",
    "import seaborn as sns\n",
    "sns.set_theme() # use pretty defaults"
   ]
  },
  {
   "cell_type": "markdown",
   "id": "5bc04d11",
   "metadata": {},
   "source": [
    "### Simulate a single coin toss\n",
    "\n",
    "The computer doesn't really toss a coin. \n",
    "\n",
    "It does someting mathematically equivalent, namely generates a random number called <tt>x</tt> and applies a test to it that will give a \"hit\" a certain proportion of the time, defined by <i>p</i>. \n",
    "\n",
    "If the outcome is a hit,\n",
    "the value of the variable <tt>hit</tt> is set to 1, otherwise <tt>hit</tt> is set to zero\n",
    "\n",
    "Try running the code block below several times and see if you understand what it does. "
   ]
  },
  {
   "cell_type": "code",
   "execution_count": 5,
   "id": "18dc19a5",
   "metadata": {},
   "outputs": [
    {
     "name": "stdout",
     "output_type": "stream",
     "text": [
      "value of random number:  0.3672215707264046\n"
     ]
    }
   ],
   "source": [
    "# generate a random number between 0 and 1\n",
    "x = np.random.uniform(0,1)\n",
    "print('value of random number:  ' + str(x))"
   ]
  },
  {
   "cell_type": "markdown",
   "id": "31ba19f0",
   "metadata": {},
   "source": [
    "What happened?\n",
    "\n",
    "We used numpy's random number generator (<tt>np.random</tt>) to get a number (with decimal places) between 0 and 1. The numbers are drawn from a uniform distribution, which means that any number between 0 and 1 is equally likely. \n",
    "    \n",
    "Re run the code block above a few times - you should get a different random number every time.\n",
    "    \n",
    "How do we convert this to a virtual 'coin toss'? We need to randomly generate \"hits\" and \"misses\" rather than decimal numbers.\n",
    "    \n",
    "To do this we simply add a piece of code that checks whether our random number is greater or less than some number - in this case 0.5, as we should get equal frequencies of random numbers greater than 0.5 and less than 0.5, thus simulating a fair coin."
   ]
  },
  {
   "cell_type": "code",
   "execution_count": 6,
   "id": "61293922",
   "metadata": {},
   "outputs": [
    {
     "name": "stdout",
     "output_type": "stream",
     "text": [
      "is it a hit?:            0\n"
     ]
    }
   ],
   "source": [
    "# check if it is less than p - this should happen on a proportion of trials equal to p\n",
    "p=0.5\n",
    "if x>p:\n",
    "    hit = 1\n",
    "else:\n",
    "    hit = 0\n",
    "print('is it a hit?:            ' + str(hit))"
   ]
  },
  {
   "cell_type": "markdown",
   "id": "0bbe6823",
   "metadata": {},
   "source": [
    "### Simulate 10 coin tosses\n",
    "\n",
    "In our coin tossing example, we need to toss the coin 10 times (<i>n</i> = 10) \n",
    "and count how many hits we get (<i>k</i> = ?)\n",
    "\n",
    "To do this we will create a loop to repeat the coin toss 10 times"
   ]
  },
  {
   "cell_type": "code",
   "execution_count": 7,
   "id": "1181f56b",
   "metadata": {},
   "outputs": [
    {
     "name": "stdout",
     "output_type": "stream",
     "text": [
      "value of random number:  0.6357360556412169\n",
      "is it a hit?:            0\n",
      "value of random number:  0.7290284928840919\n",
      "is it a hit?:            1\n",
      "value of random number:  0.5430641277984714\n",
      "is it a hit?:            0\n",
      "value of random number:  0.263188886510785\n",
      "is it a hit?:            0\n",
      "value of random number:  0.27101427005379786\n",
      "is it a hit?:            0\n",
      "value of random number:  0.9391581544768729\n",
      "is it a hit?:            1\n",
      "value of random number:  0.8934779611222813\n",
      "is it a hit?:            1\n",
      "value of random number:  0.7588740748439173\n",
      "is it a hit?:            1\n",
      "value of random number:  0.6717806023017096\n",
      "is it a hit?:            0\n",
      "value of random number:  0.17310234651419332\n",
      "is it a hit?:            0\n"
     ]
    }
   ],
   "source": [
    "for i in np.arange(10):\n",
    "\n",
    "    # generate a random number between 0 and 1\n",
    "    x = np.random.uniform(0,1)\n",
    "    print('value of random number:  ' + str(x))\n",
    "\n",
    "    # check if it is less than p - this should happen on a proportion of trials equal to p\n",
    "    p=0.7\n",
    "    if x>p:\n",
    "        hit = 1\n",
    "    else:\n",
    "        hit = 0\n",
    "    print('is it a hit?:            ' + str(hit))"
   ]
  },
  {
   "cell_type": "markdown",
   "id": "83023805",
   "metadata": {},
   "source": [
    "<img src=\"images/Minion_ooph.jpeg\" width=15% alt=\"What?!\" >\n",
    "\n",
    "OK, well the output of that code block was not really user friendly.\n",
    "\n",
    "### Use an array to store the outcomes\n",
    "\n",
    "Now that we know how the virtual coin toss works, \n",
    "we can dispense with printing out the actual value of the random number <tt>x</tt>\n",
    "and just give the 10 binary outcomes (1/0 for hit/miss)"
   ]
  },
  {
   "cell_type": "code",
   "execution_count": 8,
   "id": "721986d5",
   "metadata": {},
   "outputs": [
    {
     "name": "stdout",
     "output_type": "stream",
     "text": [
      "0\n",
      "0\n",
      "0\n",
      "0\n",
      "1\n",
      "0\n",
      "0\n",
      "0\n",
      "1\n",
      "1\n"
     ]
    }
   ],
   "source": [
    "for i in np.arange(10):\n",
    "\n",
    "    # generate a random number between 0 and 1\n",
    "    x = np.random.uniform(0,1)\n",
    "\n",
    "    # check if it is less than p - this should happen on a proportion of trials equal to p\n",
    "    p=0.7\n",
    "    if x>p:\n",
    "        hit = 1\n",
    "    else:\n",
    "        hit = 0\n",
    "    print(hit)"
   ]
  },
  {
   "cell_type": "markdown",
   "id": "2fa56b44",
   "metadata": {},
   "source": [
    "... but we also want to count the number of hits, so we need to store the outcomes (0/1) in an array"
   ]
  },
  {
   "cell_type": "code",
   "execution_count": 9,
   "id": "88275bb1",
   "metadata": {},
   "outputs": [
    {
     "name": "stdout",
     "output_type": "stream",
     "text": [
      "outcomes = [1. 0. 0. 0. 0. 1. 0. 0. 1. 0.]\n"
     ]
    }
   ],
   "source": [
    "outcomes = np.empty(10) # create an empty array to store the outcomes\n",
    "\n",
    "for i in np.arange(10):\n",
    "\n",
    "    # generate a random number between 0 and 1\n",
    "    x = np.random.uniform(0,1)\n",
    "\n",
    "    # check if it is less than p - this should happen on a proportion of trials equal to p\n",
    "    p=0.7\n",
    "    if x>p:\n",
    "        hit = 1\n",
    "    else:\n",
    "        hit = 0\n",
    "    \n",
    "    outcomes[i] = hit # store the valuee of 'hit' on this trial in place 'i' in the array 'outcomes'\n",
    "    \n",
    "print('outcomes = ' + str(outcomes))\n"
   ]
  },
  {
   "cell_type": "markdown",
   "id": "a8df98d6",
   "metadata": {},
   "source": [
    "... and then we need to count the hits:"
   ]
  },
  {
   "cell_type": "code",
   "execution_count": 10,
   "id": "7a7b55c6",
   "metadata": {},
   "outputs": [
    {
     "name": "stdout",
     "output_type": "stream",
     "text": [
      "k = 3.0\n"
     ]
    }
   ],
   "source": [
    "k = np.sum(outcomes)\n",
    "print('k = ' + str(k))"
   ]
  },
  {
   "cell_type": "markdown",
   "id": "fd3e69b5",
   "metadata": {},
   "source": [
    "Try running the code above a few times and check you understand what is happening.\n",
    "\n",
    "Note that the outcome values 0. and 1. have dots after them just because they are floating point numbers \n",
    "(numbers that could potentially have something after the decimal place rather than being rounded to the neareest whole number)\n",
    "\n",
    "This looks a little awkward but it is just the Python way of writing 0.0 and 1.0 rather than 0 and 1"
   ]
  },
  {
   "cell_type": "markdown",
   "id": "794f8ad5",
   "metadata": {},
   "source": [
    "### Use a built in function\n",
    "\n",
    "Simulating outcomes is actually something coders do a lot so there is a built in function for it in <tt>numpy</tt>.\n",
    "\n",
    "Let's try - it makes the code a lot more compact"
   ]
  },
  {
   "cell_type": "code",
   "execution_count": 11,
   "id": "fd82aa76",
   "metadata": {},
   "outputs": [
    {
     "name": "stdout",
     "output_type": "stream",
     "text": [
      "k = 3\n"
     ]
    }
   ],
   "source": [
    "k = np.random.binomial(10,0.5) # generate 10 samples with a 0.5 chance of a hit, and return the number of hits \n",
    "print('k = ' + str(k))"
   ]
  },
  {
   "cell_type": "markdown",
   "id": "36de68f1",
   "metadata": {},
   "source": [
    "The single line of code above does everything that our previous code block did \n",
    "(it doesn't return the outcomes themselves, but we don't actually need them, do we?)\n",
    "\n",
    "<img src=\"images/Minion_tadaaa.jpg\" width=15% alt=\"ta-daa?!\" >"
   ]
  }
 ],
 "metadata": {
  "kernelspec": {
   "display_name": "Python 3 (ipykernel)",
   "language": "python",
   "name": "python3"
  },
  "language_info": {
   "codemirror_mode": {
    "name": "ipython",
    "version": 3
   },
   "file_extension": ".py",
   "mimetype": "text/x-python",
   "name": "python",
   "nbconvert_exporter": "python",
   "pygments_lexer": "ipython3",
   "version": "3.9.13"
  }
 },
 "nbformat": 4,
 "nbformat_minor": 5
}
