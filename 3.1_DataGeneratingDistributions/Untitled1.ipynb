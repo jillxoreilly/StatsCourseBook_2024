{
 "cells": [
  {
   "cell_type": "code",
   "execution_count": null,
   "id": "6546f4de-66e7-4a38-8aa1-faf20edb74d3",
   "metadata": {},
   "outputs": [],
   "source": [
    "# Effect size (Pearson's r)\n",
    "\n",
    "The effect size for a correlation is quantified simply by Pearson's r"
   ]
  }
 ],
 "metadata": {
  "kernelspec": {
   "display_name": "Python 3 (ipykernel)",
   "language": "python",
   "name": "python3"
  },
  "language_info": {
   "codemirror_mode": {
    "name": "ipython",
    "version": 3
   },
   "file_extension": ".py",
   "mimetype": "text/x-python",
   "name": "python",
   "nbconvert_exporter": "python",
   "pygments_lexer": "ipython3",
   "version": "3.9.18"
  }
 },
 "nbformat": 4,
 "nbformat_minor": 5
}
