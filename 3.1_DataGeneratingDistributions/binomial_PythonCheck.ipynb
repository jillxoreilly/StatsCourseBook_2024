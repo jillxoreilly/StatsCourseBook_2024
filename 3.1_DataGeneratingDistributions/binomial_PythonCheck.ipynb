{
 "cells": [
  {
   "cell_type": "markdown",
   "id": "79c30481",
   "metadata": {},
   "source": [
    "# Python skills check\n",
    "\n",
    "Here we will recap the main bibts of Python you encountered this week\n",
    "\n",
    "\n",
    "### Set up Python libraries\n",
    "\n",
    "As usual, run the code cell below to import the relevant Python libraries"
   ]
  },
  {
   "cell_type": "code",
   "execution_count": 5,
   "id": "8a7dceac",
   "metadata": {},
   "outputs": [],
   "source": [
    "# Set-up Python libraries - you need to run this but you don't need to change it\n",
    "import numpy as np\n",
    "import matplotlib.pyplot as plt\n",
    "import scipy.stats as stats\n",
    "import pandas \n",
    "import seaborn as sns\n",
    "sns.set_theme() # use pretty defaults"
   ]
  },
  {
   "cell_type": "markdown",
   "id": "7e7f1221",
   "metadata": {},
   "source": [
    "### Exercises"
   ]
  },
  {
   "cell_type": "code",
   "execution_count": 6,
   "id": "6c46ced4",
   "metadata": {},
   "outputs": [
    {
     "ename": "SyntaxError",
     "evalue": "invalid syntax (2124908852.py, line 3)",
     "output_type": "error",
     "traceback": [
      "\u001b[0;36m  File \u001b[0;32m\"/var/folders/q4/twg1yll54y142rc02m5wwbt40000gr/T/ipykernel_3404/2124908852.py\"\u001b[0;36m, line \u001b[0;32m3\u001b[0m\n\u001b[0;31m    k = # your code here\u001b[0m\n\u001b[0m        ^\u001b[0m\n\u001b[0;31mSyntaxError\u001b[0m\u001b[0;31m:\u001b[0m invalid syntax\n"
     ]
    }
   ],
   "source": [
    "# 1. Draw a random sample from a binomial distriubtion with n=27 and p=0.4\n",
    "k = # your code here\n",
    "print('k = ' + str(k))"
   ]
  },
  {
   "cell_type": "code",
   "execution_count": 25,
   "id": "c08bcf3a",
   "metadata": {},
   "outputs": [
    {
     "data": {
      "text/plain": [
       "0.011248978720991624"
      ]
     },
     "execution_count": 25,
     "metadata": {},
     "output_type": "execute_result"
    }
   ],
   "source": [
    "# 2. For a binomial distribution k~B(100,0.8), find the probability that k<=70"
   ]
  },
  {
   "cell_type": "markdown",
   "id": "8f73c0b4",
   "metadata": {},
   "source": [
    "The answer should be 0.0112"
   ]
  },
  {
   "cell_type": "code",
   "execution_count": 26,
   "id": "425e6292",
   "metadata": {},
   "outputs": [
    {
     "data": {
      "text/plain": [
       "0.00877447509573836"
      ]
     },
     "execution_count": 26,
     "metadata": {},
     "output_type": "execute_result"
    }
   ],
   "source": [
    "# 3. For a normal distribution x~N(80,4) find the probability that x<=70.5"
   ]
  },
  {
   "cell_type": "markdown",
   "id": "e4e31362",
   "metadata": {},
   "source": [
    "The answer should be 0.00877"
   ]
  },
  {
   "cell_type": "code",
   "execution_count": null,
   "id": "362378ec",
   "metadata": {},
   "outputs": [],
   "source": [
    "# 4a. Make a for loop to draw 150 random samples from the distribution k~B(12,0.3) \n",
    "\n",
    "# 4b. Plot the values of k on a histogram"
   ]
  }
 ],
 "metadata": {
  "kernelspec": {
   "display_name": "Python 3 (ipykernel)",
   "language": "python",
   "name": "python3"
  },
  "language_info": {
   "codemirror_mode": {
    "name": "ipython",
    "version": 3
   },
   "file_extension": ".py",
   "mimetype": "text/x-python",
   "name": "python",
   "nbconvert_exporter": "python",
   "pygments_lexer": "ipython3",
   "version": "3.9.13"
  }
 },
 "nbformat": 4,
 "nbformat_minor": 5
}
