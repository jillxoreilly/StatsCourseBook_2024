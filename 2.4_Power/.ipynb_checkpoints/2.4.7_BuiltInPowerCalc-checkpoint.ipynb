{
 "cells": [
  {
   "cell_type": "markdown",
   "id": "f8c1c441-1e5a-4d55-b62a-7126ce94c106",
   "metadata": {},
   "source": [
    "# Power analysis with `statsmodels`\n",
    "\n",
    "We have seen how to build our own power analysis by simulating a population with a certain effect size (in our example, a correlation of $\\rho=0.25$) and sampling from it.\n",
    "\n",
    "In Python, there is also a built in function for doing power analysis, in a library called `statsmodels`\n",
    "\n",
    "In this notebook we look at how to run power analysis for t-tests and corelation using `statsmodels`\n",
    "\n",
    "### Set up Python libraries\n",
    "\n",
    "As usual, run the code cell below to import the relevant Python libraries"
   ]
  },
  {
   "cell_type": "code",
   "execution_count": 1,
   "id": "1345d3b6-093f-4013-be76-3fa4bb2f5bd9",
   "metadata": {
    "tags": []
   },
   "outputs": [],
   "source": [
    "# Set-up Python libraries - you need to run this but you don't need to change it\n",
    "import numpy as np\n",
    "import matplotlib.pyplot as plt\n",
    "import scipy.stats as stats\n",
    "import pandas as pd\n",
    "import seaborn as sns\n",
    "sns.set_theme(style='white')\n",
    "import statsmodels.api as sm\n",
    "import statsmodels.formula.api as smf\n",
    "import warnings \n",
    "warnings.simplefilter('ignore', category=FutureWarning)"
   ]
  },
  {
   "cell_type": "markdown",
   "id": "47332dbb-0902-4162-8bbe-2db210cedc98",
   "metadata": {},
   "source": [
    "## The three ingredients of power analysis\n",
    "\n",
    "For a given statistical test, the power depends on three factors:\n",
    "    \n",
    "* The effect size (Pearson's $r$ for correlation, or Cohen's $d$ for the $t$-test)\n",
    "* The sample size(s) $n$\n",
    "* The $\\alpha$ value\n",
    "\n",
    "\n",
    "These factors are linked - \n",
    "* if the effect size is small, we need a larger sample size to detect it with a certain power\n",
    "* if the alpha value is small, we need a large sample size to detect it with a certain power\n",
    "    * we need a larger $n$ to detect an effect at the 0.01 level the the 0.05 level\n",
    "    \n",
    "The process of power analysis works out one of the three 'factors' from the other two (for a given level of power).\n",
    "\n",
    "\n",
    "For example, consider an paired samples $t$-test.\n",
    "We might ask about $n$:\n",
    "\n",
    "* \"What sample size is needed to detect an effect of size $d=0.2$ with 80% power, at the $\\alpha=0.05$ level?\n",
    "    * the answer is 156 pairs\n",
    "    \n",
    "Or we might know $n$, $d$ and $\\alpha$ and ask what our power is\n",
    "\n",
    "* \"what is the power to detect an effect of size $d=0.2$ with sample size $n=100$ in each group, at the $\\alpha=0.05$ level?\n",
    "    * the answer is 63%"
   ]
  },
  {
   "cell_type": "markdown",
   "id": "4171609d-c336-4b17-928f-bb081f4cb168",
   "metadata": {
    "tags": []
   },
   "source": [
    "## Running it: Paired samples $t$-test\n",
    "\n",
    "The package used for power analysis is `statsmodels` - you will use `statsmodels` extensively in the section on regression analysis. \n",
    "\n",
    "The syntax of `statsmodels` may be slightly unfamiliar.\n",
    "\n",
    "* First we **create** an analysis of the correct form (in this case, a power analysis for a paired samples $t$-test, using `statsmodels.stats.power.TTestPower`)\n",
    "* Then we **solve** the analysis for given values of $n$, $d$, $\\alpha$ and power\n",
    "    * Exactly *one* of those four *parameters* ($n$, $d$, $\\alpha$ and power) is unknown - this is the one being calculated and its value in the code is `None`\n",
    "    * All the ther parameters have to be input into the code\n",
    "    \n",
    "Here it is in action for the question\n",
    "* \"What sample size is needed to detect an effect of size $d=0.2$ with 80% power, at the $\\alpha=0.05$ level?\"\n"
   ]
  },
  {
   "cell_type": "code",
   "execution_count": 37,
   "id": "f522e873-e07c-48b3-861f-186a1d7cec57",
   "metadata": {
    "tags": []
   },
   "outputs": [
    {
     "name": "stdout",
     "output_type": "stream",
     "text": [
      "n = 198.15082433942115\n"
     ]
    }
   ],
   "source": [
    "# import required modules\n",
    "from statsmodels.stats.power import TTestPower\n",
    "\n",
    "# create an analysis of the correct form\n",
    "analysis = TTestPower()\n",
    "\n",
    "# solve for power\n",
    "samplesize = analysis.solve_power(effect_size=0.2, alpha=0.05, nobs=None, power=0.8, alternative='two-sided')\n",
    "print('n = ' + str(samplesize))"
   ]
  },
  {
   "cell_type": "markdown",
   "id": "5483ad56-9a83-4199-b719-160f9ea59919",
   "metadata": {
    "tags": []
   },
   "source": [
    "*Note that we had to specify the argument `alternative='two-sided'`  (could also be `alternative='larger'` for a one-tailed test)*"
   ]
  },
  {
   "cell_type": "markdown",
   "id": "430cc58c-885d-4859-a980-d70a178f4b75",
   "metadata": {
    "tags": []
   },
   "source": [
    "Alternatively we can solve for power, as in the question\n",
    "\n",
    "* \"what is the power to detect an effect of size $d=0.2$ with sample size $n=100$ in each group, at the $\\alpha=0.05$ level?"
   ]
  },
  {
   "cell_type": "code",
   "execution_count": 36,
   "id": "194fdade-c935-47b6-bafe-646c78da8777",
   "metadata": {
    "tags": []
   },
   "outputs": [
    {
     "name": "stdout",
     "output_type": "stream",
     "text": [
      "power = 50.826480387188255%\n"
     ]
    }
   ],
   "source": [
    "# import required modules\n",
    "from statsmodels.stats.power import TTestPower\n",
    "\n",
    "# create an analysis of the correct form\n",
    "analysis = TTestPower()\n",
    "\n",
    "# solve for power\n",
    "power = analysis.solve_power(effect_size=0.2, alpha=0.05, nobs=100, power=None, alternative='two-sided')\n",
    "print('power = ' + str(power*100) + '%')"
   ]
  },
  {
   "cell_type": "markdown",
   "id": "527354c7-5169-4087-8864-7a3abc56c7a9",
   "metadata": {},
   "source": [
    "If we so wished, we could solve for any of the other parameters instead.\n",
    "\n",
    "## Independent samples $t$-test\n",
    "\n",
    "For an independet samples $t$-test, we need to use a different *model* in `statsmodels`: `TTestIndPower` instead or `TTestPower`.\n",
    "\n",
    "Additionally, the $n$ for the two groups may be different. We specify the samples sizes as follows:\n",
    "   * size of group 1 is `nobs1`\n",
    "   * `ratio` tells us the ratio n2/n1\n",
    "   \n",
    "Here it is in action for the question\n",
    "* \"What is the power to detect an effect of size $d=0.5$, at the $\\alpha=0.05$ (two-tailed) level?, with samples of 20 and 25 in my two groups?\""
   ]
  },
  {
   "cell_type": "code",
   "execution_count": 14,
   "id": "21cfe996-d760-480c-b0bd-63adf4eea97f",
   "metadata": {
    "tags": []
   },
   "outputs": [
    {
     "name": "stdout",
     "output_type": "stream",
     "text": [
      "power = 0.3706770336488767\n"
     ]
    }
   ],
   "source": [
    "# import required modules\n",
    "from statsmodels.stats.power import TTestIndPower\n",
    "\n",
    "# create an analysis of the correct form\n",
    "analysis = TTestIndPower()\n",
    "\n",
    "# solve for power\n",
    "power = analysis.solve_power(effect_size=0.5, alpha=0.05, nobs1=20, ratio=25/20, power=None, alternative='two-sided')\n",
    "print('power = ' + str(power))"
   ]
  },
  {
   "cell_type": "markdown",
   "id": "03834249-d2e5-402a-8533-1600c8c31b95",
   "metadata": {
    "tags": []
   },
   "source": [
    "So the power is 37%\n",
    "\n",
    "As for the one sample test, you can sole for `nobs1`, `effect_size`, or `alpha` instead as required."
   ]
  },
  {
   "cell_type": "markdown",
   "id": "a486ef6d-1c64-470b-89f1-6aa8933e178a",
   "metadata": {},
   "source": [
    "\n",
    "\n",
    "## One sample $t$-test\n",
    "\n",
    "The one sample $t$-test is just like a paired sample $t$-test in which one of the samples is your actual data (say, the heights of 8 rowers) and the other sample is the reference value (such as the mean height of adult men in the general population, 175cm), 8 times over\n",
    "\n",
    "So whilst a paired samples t-test might ask: \"is each brother taller than his own sister\", a one sample test asks \"is each rower taller than 175cm\" \n",
    "\n",
    "The effect size is then given by\n",
    "\n",
    "$$d = \\frac{\\bar{x}-175}{s}$$\n",
    "\n",
    "where $\\bar{x}$ is the sample mean and $s$ is the sample standard deviation.\n",
    "\n",
    "Let's try it with the heights of 8 rowers (from the notebook on the one-sample $t$-test)\n"
   ]
  },
  {
   "cell_type": "code",
   "execution_count": 38,
   "id": "5ba3ce71-be7c-4f9a-a07a-dc0c12a6ddc0",
   "metadata": {
    "tags": []
   },
   "outputs": [],
   "source": [
    "heights = pd.read_csv('https://raw.githubusercontent.com/jillxoreilly/StatsCourseBook_2024/main/data/rowersHeights.csv')"
   ]
  },
  {
   "cell_type": "markdown",
   "id": "4b8d1878-71c1-4c04-858f-f3cbc2da58ce",
   "metadata": {},
   "source": [
    "First we work out the effect size:"
   ]
  },
  {
   "cell_type": "code",
   "execution_count": 39,
   "id": "792377f2-9902-446d-b90b-e06d558a6f3f",
   "metadata": {
    "tags": []
   },
   "outputs": [
    {
     "data": {
      "text/plain": [
       "0.6004636222643069"
      ]
     },
     "execution_count": 39,
     "metadata": {},
     "output_type": "execute_result"
    }
   ],
   "source": [
    "d = (heights.height.mean()-175)/heights.height.std()\n",
    "d"
   ]
  },
  {
   "cell_type": "markdown",
   "id": "99c2a75c-9c6a-4d93-9699-c65a66cc7165",
   "metadata": {
    "tags": []
   },
   "source": [
    "The effect size here is $d = 0.60$. We also know that $n$=8 and let's assume we are working with $\\alpha=0.05$\n",
    "\n",
    "Now we can use `TTestPower` from statsmodels to work out the power. Thinking back to our rowers example, the alternative hypothesis was one-tailed (rowers are taller than average) so we set the arguement `alternative='larger'` accordingly"
   ]
  },
  {
   "cell_type": "code",
   "execution_count": 40,
   "id": "6b1f8023-81f3-4c11-9d69-5d9913241676",
   "metadata": {
    "tags": []
   },
   "outputs": [
    {
     "name": "stdout",
     "output_type": "stream",
     "text": [
      "power = 45.48836602459488%\n"
     ]
    }
   ],
   "source": [
    "# import required modules\n",
    "from statsmodels.stats.power import TTestPower\n",
    "\n",
    "# create an analysis of the correct form\n",
    "analysis = TTestPower()\n",
    "\n",
    "# solve for power\n",
    "power = analysis.solve_power(effect_size=0.60, alpha=0.05, nobs=8, power=None, alternative='larger')\n",
    "print('power = ' + str(power*100) + '%')"
   ]
  },
  {
   "cell_type": "markdown",
   "id": "5d0de4df-30ac-4f89-b314-c12facaef6e1",
   "metadata": {},
   "source": [
    "Apparently with a sample size of $n=8$, we had 45% power, ie 45% chance to detect a significant difference in height between the rowers and the reference value"
   ]
  },
  {
   "cell_type": "markdown",
   "id": "d1c9b83e-c4a1-4a19-add6-835e5a3f4462",
   "metadata": {},
   "source": [
    "## Correlation\n",
    "\n",
    "It would be handy if `statsmodels` had a built in power analysis function for correlations (Pearson's $r$) but it does not.\n",
    "\n",
    "However, by the power of maths, we can actually convert our $r$ value to a $t$ value using the equation:\n",
    "\n",
    "$$ t=\\frac{r\\sqrt{n-2}}{\\sqrt{(1-r^2)}} $$\n",
    "\n",
    "\n",
    "Thereafter the procedure is the same as for the one sample $t$-test, with a reference value of zero (because when we are testing 'if there is a correlation', we are actually testing if $r$ is different from zero).\n",
    "\n",
    "Thinking back to our Maths/French exam scores example, we had $r$=0.25, $n$=50 and $\\alpha=0.05$\n",
    "\n",
    "We convert $r$ to $t$:\n",
    "                                                                                        "
   ]
  },
  {
   "cell_type": "code",
   "execution_count": 18,
   "id": "cb8ba75a-8271-4fac-82b7-1ace9c7f6e34",
   "metadata": {
    "tags": []
   },
   "outputs": [
    {
     "data": {
      "text/plain": [
       "1.7888543819998315"
      ]
     },
     "execution_count": 18,
     "metadata": {},
     "output_type": "execute_result"
    }
   ],
   "source": [
    "r = 0.25\n",
    "n = 50\n",
    "t = (r*(n-2)**0.5)/((1-r**2)**0.5) # note **2 means 'squared', **0.5 means 'square root')\n",
    "t"
   ]
  },
  {
   "cell_type": "markdown",
   "id": "2111b673-80f9-4794-baaa-baeb5a16028b",
   "metadata": {
    "tags": []
   },
   "source": [
    "Then we convert $t$ to $d$ using the formula\n",
    "\n",
    "$$d = \\frac{t}{\\sqrt(n)}$$\n",
    "\n",
    "***NOTE** - this formula is explained on the page **Determining Effect Size***"
   ]
  },
  {
   "cell_type": "code",
   "execution_count": 21,
   "id": "976ba247-fcc5-461b-861e-957a6871a09f",
   "metadata": {
    "tags": []
   },
   "outputs": [
    {
     "data": {
      "text/plain": [
       "0.2529822128134703"
      ]
     },
     "execution_count": 21,
     "metadata": {},
     "output_type": "execute_result"
    }
   ],
   "source": [
    "d = t/(n**0.5)\n",
    "d"
   ]
  },
  {
   "cell_type": "markdown",
   "id": "54e398eb-8dfa-4798-b0cb-2eb688083f98",
   "metadata": {
    "tags": []
   },
   "source": [
    "Now we can run the power analysis:"
   ]
  },
  {
   "cell_type": "code",
   "execution_count": 25,
   "id": "a7def984-c17b-4413-a541-8e7d32f6f220",
   "metadata": {
    "tags": []
   },
   "outputs": [
    {
     "name": "stdout",
     "output_type": "stream",
     "text": [
      "power = 41.03806417911029%\n"
     ]
    }
   ],
   "source": [
    "# import required modules\n",
    "from statsmodels.stats.power import TTestPower\n",
    "\n",
    "analysis = TTestPower()\n",
    "\n",
    "# solve for power\n",
    "power = analysis.solve_power(effect_size=0.25, alpha=0.05, nobs=50, power=None, alternative='two-sided')\n",
    "print('power = ' + str(power*100) + '%')"
   ]
  },
  {
   "cell_type": "markdown",
   "id": "a321271e-ce50-4a08-8daf-7ad98f8924ef",
   "metadata": {
    "tags": []
   },
   "source": [
    "Looking back at our home-made code (in a previous notebook), we can see a good match to the power given by the built in function."
   ]
  },
  {
   "cell_type": "markdown",
   "id": "53a738d3-3ec8-4c5a-a541-6c7be8798787",
   "metadata": {},
   "source": [
    "## Recap\n",
    "\n",
    "The syntax for the power analysis is a bit fiddly so let's recap it:\n",
    "\n",
    "There is a four way relationship between:\n",
    "  * sample size(s) (`nobs`)\n",
    "  * alpha values (`alpha`)\n",
    "  * effect size (`effect size`)\n",
    "  * power\n",
    "\n",
    "If we know three of them, we can work out the fourth.\n",
    "\n",
    "... note that for the two-sample test we specify the samples size thus:\n",
    "   * size of group 1 is `nobs1`\n",
    "   * `ratio` tells us the ratio n2/n1\n",
    "   \n"
   ]
  },
  {
   "cell_type": "code",
   "execution_count": null,
   "id": "081abe1d-48a1-4894-abd1-48d3079c7d5a",
   "metadata": {},
   "outputs": [],
   "source": []
  }
 ],
 "metadata": {
  "kernelspec": {
   "display_name": "Python 3 (ipykernel)",
   "language": "python",
   "name": "python3"
  },
  "language_info": {
   "codemirror_mode": {
    "name": "ipython",
    "version": 3
   },
   "file_extension": ".py",
   "mimetype": "text/x-python",
   "name": "python",
   "nbconvert_exporter": "python",
   "pygments_lexer": "ipython3",
   "version": "3.11.7"
  }
 },
 "nbformat": 4,
 "nbformat_minor": 5
}
