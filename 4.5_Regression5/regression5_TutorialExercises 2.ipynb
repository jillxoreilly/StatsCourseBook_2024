{
 "cells": [
  {
   "cell_type": "markdown",
   "id": "2a786530",
   "metadata": {},
   "source": [
    "# Tutorial exercises\n",
    "\n",
    "In the tutorial you will be analysing data (real but edited) from the 2021 General Social Survey from the USA.  The General Social Survey is a regular survey of the population of the United States that gathers information on people’s opinions. The sample is intended to be representative of the adult population. The outcome variable of interest (‘afraid’) is whether people feel afraid to walk in their neighbourhoods at night. The question wording was as follows: \"Is there any area around your home--that is, within a mile--where you would be afraid to walk alone at night?\" The answer options are yes (1) or no (0). (Some people also answered “don’t know” but these are set to missing).\n",
    "\n",
    "The $x$ variables are as follows\n",
    "\n",
    "* Sex (male, female)\n",
    "* Age (in years)\n",
    "* Race of respondent (white, black, other)\n",
    "* Born (whether respondent was born in the USA, yes or no)\n",
    "* Raclive (a binary variable indicating whether the neighbourhood is racially mixed).\n",
    "* Educ (education measured in years of education, where more years assumes higher educational qualifications)\n",
    "* Income (an ordinal variable of household income, where higher values mean higher incomes. Treat as continuous for this analysis)\n",
    "\n",
    "\n",
    "### Set up Python libraries\n",
    "\n",
    "Copy an appropriate code cell below, and run it, to import the relevant Python libraries\n"
   ]
  },
  {
   "cell_type": "code",
   "execution_count": null,
   "id": "3ae8bde7",
   "metadata": {},
   "outputs": [],
   "source": [
    "# your code here"
   ]
  },
  {
   "cell_type": "markdown",
   "id": "8a69f3a4",
   "metadata": {},
   "source": [
    "### Import and view the data\n",
    "\n",
    "The data are in file fear.csv - download them and import them as a dataframe called `fear`"
   ]
  },
  {
   "cell_type": "code",
   "execution_count": null,
   "id": "c159f3f0",
   "metadata": {},
   "outputs": [],
   "source": [
    "# your code here"
   ]
  },
  {
   "cell_type": "markdown",
   "id": "c6f06236",
   "metadata": {},
   "source": [
    "### Designing the model\n",
    "\n",
    "Before running your first logistic regression model, think about your expectations here. \n",
    "\n",
    "* Would you expect men or women to be more afraid of walking in their neighbourhoods at night? \n",
    "* And would you expect older or younger people to feel more afraid? \n",
    "\n",
    "Let’s test these associations between age and sex with fear of walking in neighbourhoods. Run a logistic regression model with $y$ = afraid, $x$ = sex + age.\n"
   ]
  },
  {
   "cell_type": "code",
   "execution_count": 1,
   "id": "55e5938e",
   "metadata": {},
   "outputs": [],
   "source": [
    "# your code here to run the logistic regression"
   ]
  },
  {
   "cell_type": "markdown",
   "id": "03efa697",
   "metadata": {},
   "source": [
    "### Interpret the output. \n",
    "\n",
    "* Which coefficients are statistically significant? \n",
    "* Is the direction of effect as expected? \n",
    "* Find the p-value for the log-likelihood ratio. \n",
    "* Is this model statistically significant compared to the baseline model?\n",
    "\n"
   ]
  },
  {
   "cell_type": "markdown",
   "id": "702c96cc",
   "metadata": {},
   "source": [
    "< your comments here >"
   ]
  },
  {
   "cell_type": "markdown",
   "id": "162f60f0",
   "metadata": {},
   "source": [
    "\n",
    "### Make predictions\n",
    "\n",
    "Compute the predicted probability that a 65-year-old woman reports feeling afraid. "
   ]
  },
  {
   "cell_type": "code",
   "execution_count": 2,
   "id": "aacc0222",
   "metadata": {},
   "outputs": [],
   "source": [
    "# your code here"
   ]
  },
  {
   "cell_type": "markdown",
   "id": "304046b0",
   "metadata": {},
   "source": [
    "### Control variables\n",
    "\n",
    "Run a second logistic regression model. Keep age and sex in the model, and add race, born, raclive. and educ. (We are treating educ as a continuous variable). Print the coefficients as odds ratios."
   ]
  },
  {
   "cell_type": "code",
   "execution_count": 3,
   "id": "2cc9292e",
   "metadata": {},
   "outputs": [],
   "source": [
    "# your code here"
   ]
  },
  {
   "cell_type": "markdown",
   "id": "ed8d7504",
   "metadata": {},
   "source": [
    "### Interpretation\n",
    "\n",
    "Find the odds ratio for each preditor variable"
   ]
  },
  {
   "cell_type": "code",
   "execution_count": 5,
   "id": "a85317b1",
   "metadata": {},
   "outputs": [],
   "source": [
    "# your code here"
   ]
  },
  {
   "cell_type": "markdown",
   "id": "9c1c64ac",
   "metadata": {},
   "source": [
    "Make a few notes on the findings using the odds ratios. How would you report the size of the effect using the odds ratios?"
   ]
  },
  {
   "cell_type": "markdown",
   "id": "748fc0c5",
   "metadata": {},
   "source": [
    "< your comments here >"
   ]
  },
  {
   "cell_type": "markdown",
   "id": "a8b31ff3",
   "metadata": {},
   "source": [
    "How good is this second model? Check the proportion of cases correctly classified."
   ]
  },
  {
   "cell_type": "code",
   "execution_count": 10,
   "id": "ffabce95",
   "metadata": {},
   "outputs": [],
   "source": [
    "# your code here for the classification table"
   ]
  },
  {
   "cell_type": "markdown",
   "id": "35b47779",
   "metadata": {},
   "source": [
    "### Control for income\n",
    "\n",
    "Run a third logistic regression model adding a control variable for income. Request the output in odds ratios again"
   ]
  },
  {
   "cell_type": "code",
   "execution_count": 11,
   "id": "240ebe64",
   "metadata": {},
   "outputs": [],
   "source": [
    "# Your code here"
   ]
  },
  {
   "cell_type": "markdown",
   "id": "774ea99b",
   "metadata": {},
   "source": [
    "Interpret the results carefully. Do any of your conclusions change now that we are controlling for income? (Compare the coefficients in model 2 and model 3). Why do you think this might be?"
   ]
  },
  {
   "cell_type": "markdown",
   "id": "27eb222d",
   "metadata": {},
   "source": [
    "< your comments here >"
   ]
  }
 ],
 "metadata": {
  "kernelspec": {
   "display_name": "Python 3 (ipykernel)",
   "language": "python",
   "name": "python3"
  },
  "language_info": {
   "codemirror_mode": {
    "name": "ipython",
    "version": 3
   },
   "file_extension": ".py",
   "mimetype": "text/x-python",
   "name": "python",
   "nbconvert_exporter": "python",
   "pygments_lexer": "ipython3",
   "version": "3.9.13"
  }
 },
 "nbformat": 4,
 "nbformat_minor": 5
}
